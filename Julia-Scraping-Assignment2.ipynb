{
 "cells": [
  {
   "cell_type": "markdown",
   "id": "e9282d8d",
   "metadata": {},
   "source": [
    "## Submitted in group by Naman Rastogi(nra99) and Shivanashu Tandon(sta219)"
   ]
  },
  {
   "cell_type": "markdown",
   "id": "a7fe5523",
   "metadata": {},
   "source": [
    "# Julia Part"
   ]
  },
  {
   "cell_type": "markdown",
   "id": "7a2a9ac3",
   "metadata": {},
   "source": [
    "Reproduce (at least part) of the scraping workflow you have done in R using Julia.\n",
    "\n",
    "**you will need to do this in a new, separated notebook or pluto notebook**\n",
    "\n",
    "_hint_ this is the moment to go back to the Julia notebooks from the lab if you have not done them."
   ]
  },
  {
   "cell_type": "markdown",
   "id": "ea22ec89",
   "metadata": {},
   "source": [
    "Since we are scraping tables from the F1 Table, we are using TableScraper Library, since our website has a well formed table"
   ]
  },
  {
   "cell_type": "code",
   "execution_count": 2,
   "id": "42d56afb",
   "metadata": {},
   "outputs": [],
   "source": [
    "# Pkg.add(\"TableScraper\")"
   ]
  },
  {
   "cell_type": "code",
   "execution_count": 2,
   "id": "cfc9d04a",
   "metadata": {},
   "outputs": [],
   "source": [
    "# Importing required libraries\n",
    "using Pkg\n",
    "using TableScraper\n",
    "using DataFrames"
   ]
  },
  {
   "cell_type": "markdown",
   "id": "cf8259d2",
   "metadata": {},
   "source": [
    "TableScraper already uses HTTP, Gumbo etc as dependencies, look more here - https://github.com/xiaodaigh/TableScraper.jl"
   ]
  },
  {
   "cell_type": "code",
   "execution_count": 3,
   "id": "e74a9eaa",
   "metadata": {},
   "outputs": [
    {
     "data": {
      "text/plain": [
       "TableScraper.Table(Any[[\"\", \"1\", \"Red Bull Racing RBPT\", \"759\", \"\"], [\"\", \"2\", \"Ferrari\", \"554\", \"\"], [\"\", \"3\", \"Mercedes\", \"515\", \"\"], [\"\", \"4\", \"Alpine Renault\", \"173\", \"\"], [\"\", \"5\", \"McLaren Mercedes\", \"159\", \"\"], [\"\", \"6\", \"Alfa Romeo Ferrari\", \"55\", \"\"], [\"\", \"7\", \"Aston Martin Aramco Mercedes\", \"55\", \"\"], [\"\", \"8\", \"Haas Ferrari\", \"37\", \"\"], [\"\", \"9\", \"AlphaTauri RBPT\", \"35\", \"\"], [\"\", \"10\", \"Williams Mercedes\", \"8\", \"\"]], Any[\"\", \"Pos\", \"Team\", \"PTS\", \"\"])"
      ]
     },
     "execution_count": 3,
     "metadata": {},
     "output_type": "execute_result"
    }
   ],
   "source": [
    "# scrape_tables function take url and returns a list of all the tables on the page\n",
    "table = scrape_tables(\"https://www.formula1.com/en/results.html/2022/team.html\")\n",
    "\n",
    "# Returns n-element Vector of TableScraper Object, where n is the number of tables found on the page\n",
    "table[1]"
   ]
  },
  {
   "cell_type": "code",
   "execution_count": 4,
   "id": "36f6e984",
   "metadata": {},
   "outputs": [
    {
     "data": {
      "text/plain": [
       "TableScraper.Table"
      ]
     },
     "execution_count": 4,
     "metadata": {},
     "output_type": "execute_result"
    }
   ],
   "source": [
    "# lets look at the type of the object returned\n",
    "typeof(table[1])"
   ]
  },
  {
   "cell_type": "markdown",
   "id": "bffa7636",
   "metadata": {},
   "source": [
    "Let's find out number of rows and column to built a dataframe automatically"
   ]
  },
  {
   "cell_type": "code",
   "execution_count": 5,
   "id": "b0a2ee8e",
   "metadata": {},
   "outputs": [
    {
     "data": {
      "text/plain": [
       "10"
      ]
     },
     "execution_count": 5,
     "metadata": {},
     "output_type": "execute_result"
    }
   ],
   "source": [
    "# Our tableScraper object contains every row as a list\n",
    "rows_num = length(table[1])\n",
    "\n",
    "# Lets see the rows\n",
    "rows_num"
   ]
  },
  {
   "cell_type": "code",
   "execution_count": 6,
   "id": "8679d3b8",
   "metadata": {},
   "outputs": [
    {
     "data": {
      "text/plain": [
       "5"
      ]
     },
     "execution_count": 6,
     "metadata": {},
     "output_type": "execute_result"
    }
   ],
   "source": [
    "# Initiliasing cols_name variable to 0\n",
    "cols_num = 0\n",
    "# col_num are stored in the list inside the TableScraper object\n",
    "for item in table[1]\n",
    "    cols_num = length(item)\n",
    "end\n",
    "\n",
    "# Let see the columns\n",
    "cols_num"
   ]
  },
  {
   "cell_type": "markdown",
   "id": "8222f7e3",
   "metadata": {},
   "source": [
    "## Wait\n",
    "Notice how it returned 5 columns but we can clearly see its just 3 columns on the website, Why? Because the f1 website has 2 empty columns on left and right of the table, as we have seen that in R aswell."
   ]
  },
  {
   "cell_type": "markdown",
   "id": "4a3148c3",
   "metadata": {},
   "source": [
    "Let's Make a DataFrame with number of columns extracted through TableScraper Object"
   ]
  },
  {
   "cell_type": "code",
   "execution_count": 7,
   "id": "2c1523b1",
   "metadata": {},
   "outputs": [
    {
     "data": {
      "text/html": [
       "<div><div style = \"float: left;\"><span>0×0 DataFrame</span></div><div style = \"clear: both;\"></div></div><div class = \"data-frame\" style = \"overflow-x: scroll;\"><table class = \"data-frame\" style = \"margin-bottom: 6px;\"></table></div>"
      ],
      "text/latex": [
       "\\begin{tabular}{r|}\n",
       "\t& \\\\\n",
       "\t\\hline\n",
       "\t& \\\\\n",
       "\t\\hline\n",
       "\\end{tabular}\n"
      ],
      "text/plain": [
       "\u001b[1m0×0 DataFrame\u001b[0m"
      ]
     },
     "execution_count": 7,
     "metadata": {},
     "output_type": "execute_result"
    }
   ],
   "source": [
    "data_frame = DataFrame()"
   ]
  },
  {
   "cell_type": "markdown",
   "id": "251891dc",
   "metadata": {},
   "source": [
    "Let's Make Columns for DataFrame"
   ]
  },
  {
   "cell_type": "code",
   "execution_count": 8,
   "id": "6d8e7234",
   "metadata": {},
   "outputs": [],
   "source": [
    "# Loop through column indices starting from 2 up to col_nums-1\n",
    "for i in 2:cols_num-1\n",
    "    # Create a Symbol for the column name using the current index\n",
    "    col_name = Symbol(\"Column$i\")\n",
    "    \n",
    "    # Add an empty array as a new column to the DataFrame data_frame\n",
    "    data_frame[!, col_name] = []\n",
    "end"
   ]
  },
  {
   "cell_type": "code",
   "execution_count": 9,
   "id": "ed62bec9",
   "metadata": {},
   "outputs": [
    {
     "data": {
      "text/html": [
       "<div><div style = \"float: left;\"><span>0×3 DataFrame</span></div><div style = \"clear: both;\"></div></div><div class = \"data-frame\" style = \"overflow-x: scroll;\"><table class = \"data-frame\" style = \"margin-bottom: 6px;\"><thead><tr class = \"header\"><th class = \"rowNumber\" style = \"font-weight: bold; text-align: right;\">Row</th><th style = \"text-align: left;\">Column2</th><th style = \"text-align: left;\">Column3</th><th style = \"text-align: left;\">Column4</th></tr><tr class = \"subheader headerLastRow\"><th class = \"rowNumber\" style = \"font-weight: bold; text-align: right;\"></th><th title = \"Any\" style = \"text-align: left;\">Any</th><th title = \"Any\" style = \"text-align: left;\">Any</th><th title = \"Any\" style = \"text-align: left;\">Any</th></tr></thead><tbody></tbody></table></div>"
      ],
      "text/latex": [
       "\\begin{tabular}{r|ccc}\n",
       "\t& Column2 & Column3 & Column4\\\\\n",
       "\t\\hline\n",
       "\t& Any & Any & Any\\\\\n",
       "\t\\hline\n",
       "\\end{tabular}\n"
      ],
      "text/plain": [
       "\u001b[1m0×3 DataFrame\u001b[0m\n",
       "\u001b[1m Row \u001b[0m│\u001b[1m Column2 \u001b[0m\u001b[1m Column3 \u001b[0m\u001b[1m Column4 \u001b[0m\n",
       "     │\u001b[90m Any     \u001b[0m\u001b[90m Any     \u001b[0m\u001b[90m Any     \u001b[0m\n",
       "─────┴───────────────────────────"
      ]
     },
     "execution_count": 9,
     "metadata": {},
     "output_type": "execute_result"
    }
   ],
   "source": [
    "# Lets see our DataFrame\n",
    "data_frame"
   ]
  },
  {
   "cell_type": "code",
   "execution_count": 10,
   "id": "800273dc",
   "metadata": {},
   "outputs": [],
   "source": [
    "# Create an empty list to store items\n",
    "items = []\n",
    "\n",
    "# Loop through the elements in the first column of the table\n",
    "for item in table[1]\n",
    "    # Loop through column indices starting from 2 up to cols_num-1\n",
    "    for i in 2:cols_num-1\n",
    "        # Append the item at position i in the current row to the 'items' list\n",
    "        push!(items, item[i])\n",
    "    end\n",
    "    \n",
    "    # Append the 'items' list as a row to the 'data_frame'\n",
    "    push!(data_frame, items)\n",
    "    \n",
    "    # Clear the 'items' list for the next iteration\n",
    "    items = []\n",
    "end"
   ]
  },
  {
   "cell_type": "markdown",
   "id": "d4aba872",
   "metadata": {},
   "source": [
    "# Lets look at the final table"
   ]
  },
  {
   "cell_type": "code",
   "execution_count": 11,
   "id": "cbb8df01-64d2-475d-9362-4a0be3fff4be",
   "metadata": {},
   "outputs": [
    {
     "data": {
      "text/html": [
       "<div><div style = \"float: left;\"><span>10×3 DataFrame</span></div><div style = \"clear: both;\"></div></div><div class = \"data-frame\" style = \"overflow-x: scroll;\"><table class = \"data-frame\" style = \"margin-bottom: 6px;\"><thead><tr class = \"header\"><th class = \"rowNumber\" style = \"font-weight: bold; text-align: right;\">Row</th><th style = \"text-align: left;\">Standing</th><th style = \"text-align: left;\">Team</th><th style = \"text-align: left;\">Points</th></tr><tr class = \"subheader headerLastRow\"><th class = \"rowNumber\" style = \"font-weight: bold; text-align: right;\"></th><th title = \"Any\" style = \"text-align: left;\">Any</th><th title = \"Any\" style = \"text-align: left;\">Any</th><th title = \"Any\" style = \"text-align: left;\">Any</th></tr></thead><tbody><tr><td class = \"rowNumber\" style = \"font-weight: bold; text-align: right;\">1</td><td style = \"text-align: left;\">1</td><td style = \"text-align: left;\">Red Bull Racing RBPT</td><td style = \"text-align: left;\">759</td></tr><tr><td class = \"rowNumber\" style = \"font-weight: bold; text-align: right;\">2</td><td style = \"text-align: left;\">2</td><td style = \"text-align: left;\">Ferrari</td><td style = \"text-align: left;\">554</td></tr><tr><td class = \"rowNumber\" style = \"font-weight: bold; text-align: right;\">3</td><td style = \"text-align: left;\">3</td><td style = \"text-align: left;\">Mercedes</td><td style = \"text-align: left;\">515</td></tr><tr><td class = \"rowNumber\" style = \"font-weight: bold; text-align: right;\">4</td><td style = \"text-align: left;\">4</td><td style = \"text-align: left;\">Alpine Renault</td><td style = \"text-align: left;\">173</td></tr><tr><td class = \"rowNumber\" style = \"font-weight: bold; text-align: right;\">5</td><td style = \"text-align: left;\">5</td><td style = \"text-align: left;\">McLaren Mercedes</td><td style = \"text-align: left;\">159</td></tr><tr><td class = \"rowNumber\" style = \"font-weight: bold; text-align: right;\">6</td><td style = \"text-align: left;\">6</td><td style = \"text-align: left;\">Alfa Romeo Ferrari</td><td style = \"text-align: left;\">55</td></tr><tr><td class = \"rowNumber\" style = \"font-weight: bold; text-align: right;\">7</td><td style = \"text-align: left;\">7</td><td style = \"text-align: left;\">Aston Martin Aramco Mercedes</td><td style = \"text-align: left;\">55</td></tr><tr><td class = \"rowNumber\" style = \"font-weight: bold; text-align: right;\">8</td><td style = \"text-align: left;\">8</td><td style = \"text-align: left;\">Haas Ferrari</td><td style = \"text-align: left;\">37</td></tr><tr><td class = \"rowNumber\" style = \"font-weight: bold; text-align: right;\">9</td><td style = \"text-align: left;\">9</td><td style = \"text-align: left;\">AlphaTauri RBPT</td><td style = \"text-align: left;\">35</td></tr><tr><td class = \"rowNumber\" style = \"font-weight: bold; text-align: right;\">10</td><td style = \"text-align: left;\">10</td><td style = \"text-align: left;\">Williams Mercedes</td><td style = \"text-align: left;\">8</td></tr></tbody></table></div>"
      ],
      "text/latex": [
       "\\begin{tabular}{r|ccc}\n",
       "\t& Standing & Team & Points\\\\\n",
       "\t\\hline\n",
       "\t& Any & Any & Any\\\\\n",
       "\t\\hline\n",
       "\t1 & 1 & Red Bull Racing RBPT & 759 \\\\\n",
       "\t2 & 2 & Ferrari & 554 \\\\\n",
       "\t3 & 3 & Mercedes & 515 \\\\\n",
       "\t4 & 4 & Alpine Renault & 173 \\\\\n",
       "\t5 & 5 & McLaren Mercedes & 159 \\\\\n",
       "\t6 & 6 & Alfa Romeo Ferrari & 55 \\\\\n",
       "\t7 & 7 & Aston Martin Aramco Mercedes & 55 \\\\\n",
       "\t8 & 8 & Haas Ferrari & 37 \\\\\n",
       "\t9 & 9 & AlphaTauri RBPT & 35 \\\\\n",
       "\t10 & 10 & Williams Mercedes & 8 \\\\\n",
       "\\end{tabular}\n"
      ],
      "text/plain": [
       "\u001b[1m10×3 DataFrame\u001b[0m\n",
       "\u001b[1m Row \u001b[0m│\u001b[1m Standing \u001b[0m\u001b[1m Team                         \u001b[0m\u001b[1m Points \u001b[0m\n",
       "     │\u001b[90m Any      \u001b[0m\u001b[90m Any                          \u001b[0m\u001b[90m Any    \u001b[0m\n",
       "─────┼────────────────────────────────────────────────\n",
       "   1 │ 1         Red Bull Racing RBPT          759\n",
       "   2 │ 2         Ferrari                       554\n",
       "   3 │ 3         Mercedes                      515\n",
       "   4 │ 4         Alpine Renault                173\n",
       "   5 │ 5         McLaren Mercedes              159\n",
       "   6 │ 6         Alfa Romeo Ferrari            55\n",
       "   7 │ 7         Aston Martin Aramco Mercedes  55\n",
       "   8 │ 8         Haas Ferrari                  37\n",
       "   9 │ 9         AlphaTauri RBPT               35\n",
       "  10 │ 10        Williams Mercedes             8"
      ]
     },
     "execution_count": 11,
     "metadata": {},
     "output_type": "execute_result"
    }
   ],
   "source": [
    "# Renaming the column names to make the table more readable\n",
    "rename!(data_frame, :Column2 => :Standing, :Column3 => :Team, :Column4 => :Points)"
   ]
  },
  {
   "cell_type": "code",
   "execution_count": 12,
   "id": "926ac501",
   "metadata": {},
   "outputs": [
    {
     "data": {
      "text/html": [
       "<div><div style = \"float: left;\"><span>10×3 DataFrame</span></div><div style = \"clear: both;\"></div></div><div class = \"data-frame\" style = \"overflow-x: scroll;\"><table class = \"data-frame\" style = \"margin-bottom: 6px;\"><thead><tr class = \"header\"><th class = \"rowNumber\" style = \"font-weight: bold; text-align: right;\">Row</th><th style = \"text-align: left;\">Standing</th><th style = \"text-align: left;\">Team</th><th style = \"text-align: left;\">Points</th></tr><tr class = \"subheader headerLastRow\"><th class = \"rowNumber\" style = \"font-weight: bold; text-align: right;\"></th><th title = \"Any\" style = \"text-align: left;\">Any</th><th title = \"Any\" style = \"text-align: left;\">Any</th><th title = \"Any\" style = \"text-align: left;\">Any</th></tr></thead><tbody><tr><td class = \"rowNumber\" style = \"font-weight: bold; text-align: right;\">1</td><td style = \"text-align: left;\">1</td><td style = \"text-align: left;\">Red Bull Racing RBPT</td><td style = \"text-align: left;\">759</td></tr><tr><td class = \"rowNumber\" style = \"font-weight: bold; text-align: right;\">2</td><td style = \"text-align: left;\">2</td><td style = \"text-align: left;\">Ferrari</td><td style = \"text-align: left;\">554</td></tr><tr><td class = \"rowNumber\" style = \"font-weight: bold; text-align: right;\">3</td><td style = \"text-align: left;\">3</td><td style = \"text-align: left;\">Mercedes</td><td style = \"text-align: left;\">515</td></tr><tr><td class = \"rowNumber\" style = \"font-weight: bold; text-align: right;\">4</td><td style = \"text-align: left;\">4</td><td style = \"text-align: left;\">Alpine Renault</td><td style = \"text-align: left;\">173</td></tr><tr><td class = \"rowNumber\" style = \"font-weight: bold; text-align: right;\">5</td><td style = \"text-align: left;\">5</td><td style = \"text-align: left;\">McLaren Mercedes</td><td style = \"text-align: left;\">159</td></tr><tr><td class = \"rowNumber\" style = \"font-weight: bold; text-align: right;\">6</td><td style = \"text-align: left;\">6</td><td style = \"text-align: left;\">Alfa Romeo Ferrari</td><td style = \"text-align: left;\">55</td></tr><tr><td class = \"rowNumber\" style = \"font-weight: bold; text-align: right;\">7</td><td style = \"text-align: left;\">7</td><td style = \"text-align: left;\">Aston Martin Aramco Mercedes</td><td style = \"text-align: left;\">55</td></tr><tr><td class = \"rowNumber\" style = \"font-weight: bold; text-align: right;\">8</td><td style = \"text-align: left;\">8</td><td style = \"text-align: left;\">Haas Ferrari</td><td style = \"text-align: left;\">37</td></tr><tr><td class = \"rowNumber\" style = \"font-weight: bold; text-align: right;\">9</td><td style = \"text-align: left;\">9</td><td style = \"text-align: left;\">AlphaTauri RBPT</td><td style = \"text-align: left;\">35</td></tr><tr><td class = \"rowNumber\" style = \"font-weight: bold; text-align: right;\">10</td><td style = \"text-align: left;\">10</td><td style = \"text-align: left;\">Williams Mercedes</td><td style = \"text-align: left;\">8</td></tr></tbody></table></div>"
      ],
      "text/latex": [
       "\\begin{tabular}{r|ccc}\n",
       "\t& Standing & Team & Points\\\\\n",
       "\t\\hline\n",
       "\t& Any & Any & Any\\\\\n",
       "\t\\hline\n",
       "\t1 & 1 & Red Bull Racing RBPT & 759 \\\\\n",
       "\t2 & 2 & Ferrari & 554 \\\\\n",
       "\t3 & 3 & Mercedes & 515 \\\\\n",
       "\t4 & 4 & Alpine Renault & 173 \\\\\n",
       "\t5 & 5 & McLaren Mercedes & 159 \\\\\n",
       "\t6 & 6 & Alfa Romeo Ferrari & 55 \\\\\n",
       "\t7 & 7 & Aston Martin Aramco Mercedes & 55 \\\\\n",
       "\t8 & 8 & Haas Ferrari & 37 \\\\\n",
       "\t9 & 9 & AlphaTauri RBPT & 35 \\\\\n",
       "\t10 & 10 & Williams Mercedes & 8 \\\\\n",
       "\\end{tabular}\n"
      ],
      "text/plain": [
       "\u001b[1m10×3 DataFrame\u001b[0m\n",
       "\u001b[1m Row \u001b[0m│\u001b[1m Standing \u001b[0m\u001b[1m Team                         \u001b[0m\u001b[1m Points \u001b[0m\n",
       "     │\u001b[90m Any      \u001b[0m\u001b[90m Any                          \u001b[0m\u001b[90m Any    \u001b[0m\n",
       "─────┼────────────────────────────────────────────────\n",
       "   1 │ 1         Red Bull Racing RBPT          759\n",
       "   2 │ 2         Ferrari                       554\n",
       "   3 │ 3         Mercedes                      515\n",
       "   4 │ 4         Alpine Renault                173\n",
       "   5 │ 5         McLaren Mercedes              159\n",
       "   6 │ 6         Alfa Romeo Ferrari            55\n",
       "   7 │ 7         Aston Martin Aramco Mercedes  55\n",
       "   8 │ 8         Haas Ferrari                  37\n",
       "   9 │ 9         AlphaTauri RBPT               35\n",
       "  10 │ 10        Williams Mercedes             8"
      ]
     },
     "execution_count": 12,
     "metadata": {},
     "output_type": "execute_result"
    }
   ],
   "source": [
    "data_frame"
   ]
  }
 ],
 "metadata": {
  "kernelspec": {
   "display_name": "Julia 1.9.2",
   "language": "julia",
   "name": "julia-1.9"
  },
  "language_info": {
   "file_extension": ".jl",
   "mimetype": "application/julia",
   "name": "julia",
   "version": "1.9.2"
  }
 },
 "nbformat": 4,
 "nbformat_minor": 5
}
