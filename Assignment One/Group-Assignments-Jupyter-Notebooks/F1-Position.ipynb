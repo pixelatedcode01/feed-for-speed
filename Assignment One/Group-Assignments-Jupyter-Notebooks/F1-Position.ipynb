{
 "cells": [
  {
   "cell_type": "code",
   "execution_count": 4,
   "id": "fe080c41-750b-4317-a05e-efa424a7161e",
   "metadata": {
    "vscode": {
     "languageId": "r"
    }
   },
   "outputs": [],
   "source": [
    "library(tidyverse)\n",
    "library(ggplot2)\n",
    "library(rvest)\n",
    "library(plyr)\n",
    "library(gganimate)\n",
    "library(polite)"
   ]
  },
  {
   "cell_type": "code",
   "execution_count": 7,
   "id": "cf7794b9",
   "metadata": {
    "vscode": {
     "languageId": "r"
    }
   },
   "outputs": [],
   "source": [
    "url <- 'https://www.statsf1.com/en/2022/italie/tour-par-tour.aspx'\n",
    "url <- bow(url)\n",
    "page <- scrape(url, query=list(t=\"semi-soft\", per_page=100))"
   ]
  },
  {
   "cell_type": "code",
   "execution_count": 9,
   "id": "70431dfe",
   "metadata": {
    "vscode": {
     "languageId": "r"
    }
   },
   "outputs": [],
   "source": [
    "scores_df <- page %>% html_node('.datatable') %>% html_table(header = FALSE)"
   ]
  },
  {
   "cell_type": "code",
   "execution_count": 10,
   "id": "497ed835",
   "metadata": {
    "vscode": {
     "languageId": "r"
    }
   },
   "outputs": [],
   "source": [
    "scores_df_header <- page %>% html_node('.datatable') %>% html_table(header = TRUE)"
   ]
  },
  {
   "cell_type": "code",
   "execution_count": 11,
   "id": "79842b48",
   "metadata": {
    "vscode": {
     "languageId": "r"
    }
   },
   "outputs": [],
   "source": [
    "names <- page %>% html_node('.datatable') %>% html_nodes('a') %>% html_text()"
   ]
  },
  {
   "cell_type": "code",
   "execution_count": 12,
   "id": "7a665d3b",
   "metadata": {
    "vscode": {
     "languageId": "r"
    }
   },
   "outputs": [],
   "source": [
    "names <- names[-1]"
   ]
  },
  {
   "cell_type": "code",
   "execution_count": 13,
   "id": "f3b5d9a5",
   "metadata": {
    "vscode": {
     "languageId": "r"
    }
   },
   "outputs": [
    {
     "data": {
      "text/html": [
       "<style>\n",
       ".list-inline {list-style: none; margin:0; padding: 0}\n",
       ".list-inline>li {display: inline-block}\n",
       ".list-inline>li:not(:last-child)::after {content: \"\\00b7\"; padding: 0 .5ex}\n",
       "</style>\n",
       "<ol class=list-inline><li>'LEC'</li><li>'RUS'</li><li>'NOR'</li><li>'RIC'</li><li>'GAS'</li><li>'ALO'</li><li>'VER'</li><li>'DEV'</li><li>'ZHO'</li><li>'LAT'</li><li>'VET'</li><li>'STR'</li><li>'PER'</li><li>'OCO'</li><li>'BOT'</li><li>'MAG'</li><li>'MSC'</li><li>'SAI'</li><li>'HAM'</li><li>'TSU'</li></ol>\n"
      ],
      "text/latex": [
       "\\begin{enumerate*}\n",
       "\\item 'LEC'\n",
       "\\item 'RUS'\n",
       "\\item 'NOR'\n",
       "\\item 'RIC'\n",
       "\\item 'GAS'\n",
       "\\item 'ALO'\n",
       "\\item 'VER'\n",
       "\\item 'DEV'\n",
       "\\item 'ZHO'\n",
       "\\item 'LAT'\n",
       "\\item 'VET'\n",
       "\\item 'STR'\n",
       "\\item 'PER'\n",
       "\\item 'OCO'\n",
       "\\item 'BOT'\n",
       "\\item 'MAG'\n",
       "\\item 'MSC'\n",
       "\\item 'SAI'\n",
       "\\item 'HAM'\n",
       "\\item 'TSU'\n",
       "\\end{enumerate*}\n"
      ],
      "text/markdown": [
       "1. 'LEC'\n",
       "2. 'RUS'\n",
       "3. 'NOR'\n",
       "4. 'RIC'\n",
       "5. 'GAS'\n",
       "6. 'ALO'\n",
       "7. 'VER'\n",
       "8. 'DEV'\n",
       "9. 'ZHO'\n",
       "10. 'LAT'\n",
       "11. 'VET'\n",
       "12. 'STR'\n",
       "13. 'PER'\n",
       "14. 'OCO'\n",
       "15. 'BOT'\n",
       "16. 'MAG'\n",
       "17. 'MSC'\n",
       "18. 'SAI'\n",
       "19. 'HAM'\n",
       "20. 'TSU'\n",
       "\n",
       "\n"
      ],
      "text/plain": [
       " [1] \"LEC\" \"RUS\" \"NOR\" \"RIC\" \"GAS\" \"ALO\" \"VER\" \"DEV\" \"ZHO\" \"LAT\" \"VET\" \"STR\"\n",
       "[13] \"PER\" \"OCO\" \"BOT\" \"MAG\" \"MSC\" \"SAI\" \"HAM\" \"TSU\""
      ]
     },
     "metadata": {},
     "output_type": "display_data"
    }
   ],
   "source": [
    "names"
   ]
  },
  {
   "cell_type": "code",
   "execution_count": 53,
   "id": "94904c82",
   "metadata": {
    "vscode": {
     "languageId": "r"
    }
   },
   "outputs": [],
   "source": [
    "names_pos <- 1:length(names)"
   ]
  },
  {
   "cell_type": "code",
   "execution_count": 54,
   "id": "be2d0639",
   "metadata": {
    "vscode": {
     "languageId": "r"
    }
   },
   "outputs": [
    {
     "data": {
      "text/html": [
       "<style>\n",
       ".list-inline {list-style: none; margin:0; padding: 0}\n",
       ".list-inline>li {display: inline-block}\n",
       ".list-inline>li:not(:last-child)::after {content: \"\\00b7\"; padding: 0 .5ex}\n",
       "</style>\n",
       "<ol class=list-inline><li>1</li><li>2</li><li>3</li><li>4</li><li>5</li><li>6</li><li>7</li><li>8</li><li>9</li><li>10</li><li>11</li><li>12</li><li>13</li><li>14</li><li>15</li><li>16</li><li>17</li><li>18</li><li>19</li><li>20</li></ol>\n"
      ],
      "text/latex": [
       "\\begin{enumerate*}\n",
       "\\item 1\n",
       "\\item 2\n",
       "\\item 3\n",
       "\\item 4\n",
       "\\item 5\n",
       "\\item 6\n",
       "\\item 7\n",
       "\\item 8\n",
       "\\item 9\n",
       "\\item 10\n",
       "\\item 11\n",
       "\\item 12\n",
       "\\item 13\n",
       "\\item 14\n",
       "\\item 15\n",
       "\\item 16\n",
       "\\item 17\n",
       "\\item 18\n",
       "\\item 19\n",
       "\\item 20\n",
       "\\end{enumerate*}\n"
      ],
      "text/markdown": [
       "1. 1\n",
       "2. 2\n",
       "3. 3\n",
       "4. 4\n",
       "5. 5\n",
       "6. 6\n",
       "7. 7\n",
       "8. 8\n",
       "9. 9\n",
       "10. 10\n",
       "11. 11\n",
       "12. 12\n",
       "13. 13\n",
       "14. 14\n",
       "15. 15\n",
       "16. 16\n",
       "17. 17\n",
       "18. 18\n",
       "19. 19\n",
       "20. 20\n",
       "\n",
       "\n"
      ],
      "text/plain": [
       " [1]  1  2  3  4  5  6  7  8  9 10 11 12 13 14 15 16 17 18 19 20"
      ]
     },
     "metadata": {},
     "output_type": "display_data"
    }
   ],
   "source": [
    "names_pos"
   ]
  },
  {
   "cell_type": "code",
   "execution_count": 16,
   "id": "3610c53c",
   "metadata": {
    "vscode": {
     "languageId": "r"
    }
   },
   "outputs": [],
   "source": [
    "namespos <- as.character(as.vector(scores_df[1, ]))"
   ]
  },
  {
   "cell_type": "code",
   "execution_count": 17,
   "id": "06ae686a",
   "metadata": {
    "vscode": {
     "languageId": "r"
    }
   },
   "outputs": [],
   "source": [
    "namespos <- namespos[-1]\n"
   ]
  },
  {
   "cell_type": "code",
   "execution_count": 18,
   "id": "d2c1fa8c",
   "metadata": {
    "vscode": {
     "languageId": "r"
    }
   },
   "outputs": [
    {
     "data": {
      "text/html": [
       "<style>\n",
       ".list-inline {list-style: none; margin:0; padding: 0}\n",
       ".list-inline>li {display: inline-block}\n",
       ".list-inline>li:not(:last-child)::after {content: \"\\00b7\"; padding: 0 .5ex}\n",
       "</style>\n",
       "<ol class=list-inline><li>'LEC1'</li><li>'RUS2'</li><li>'NOR3'</li><li>'RIC4'</li><li>'GAS5'</li><li>'ALO6'</li><li>'VER7'</li><li>'DEV8'</li><li>'ZHO9'</li><li>'LAT10'</li><li>'VET11'</li><li>'STR12'</li><li>'PER13'</li><li>'OCO14'</li><li>'BOT15'</li><li>'MAG16'</li><li>'MSC17'</li><li>'SAI18'</li><li>'HAM19'</li><li>'TSU20'</li></ol>\n"
      ],
      "text/latex": [
       "\\begin{enumerate*}\n",
       "\\item 'LEC1'\n",
       "\\item 'RUS2'\n",
       "\\item 'NOR3'\n",
       "\\item 'RIC4'\n",
       "\\item 'GAS5'\n",
       "\\item 'ALO6'\n",
       "\\item 'VER7'\n",
       "\\item 'DEV8'\n",
       "\\item 'ZHO9'\n",
       "\\item 'LAT10'\n",
       "\\item 'VET11'\n",
       "\\item 'STR12'\n",
       "\\item 'PER13'\n",
       "\\item 'OCO14'\n",
       "\\item 'BOT15'\n",
       "\\item 'MAG16'\n",
       "\\item 'MSC17'\n",
       "\\item 'SAI18'\n",
       "\\item 'HAM19'\n",
       "\\item 'TSU20'\n",
       "\\end{enumerate*}\n"
      ],
      "text/markdown": [
       "1. 'LEC1'\n",
       "2. 'RUS2'\n",
       "3. 'NOR3'\n",
       "4. 'RIC4'\n",
       "5. 'GAS5'\n",
       "6. 'ALO6'\n",
       "7. 'VER7'\n",
       "8. 'DEV8'\n",
       "9. 'ZHO9'\n",
       "10. 'LAT10'\n",
       "11. 'VET11'\n",
       "12. 'STR12'\n",
       "13. 'PER13'\n",
       "14. 'OCO14'\n",
       "15. 'BOT15'\n",
       "16. 'MAG16'\n",
       "17. 'MSC17'\n",
       "18. 'SAI18'\n",
       "19. 'HAM19'\n",
       "20. 'TSU20'\n",
       "\n",
       "\n"
      ],
      "text/plain": [
       " [1] \"LEC1\"  \"RUS2\"  \"NOR3\"  \"RIC4\"  \"GAS5\"  \"ALO6\"  \"VER7\"  \"DEV8\"  \"ZHO9\" \n",
       "[10] \"LAT10\" \"VET11\" \"STR12\" \"PER13\" \"OCO14\" \"BOT15\" \"MAG16\" \"MSC17\" \"SAI18\"\n",
       "[19] \"HAM19\" \"TSU20\""
      ]
     },
     "metadata": {},
     "output_type": "display_data"
    }
   ],
   "source": [
    "namespos"
   ]
  },
  {
   "cell_type": "code",
   "execution_count": 52,
   "id": "f494bf7e",
   "metadata": {
    "vscode": {
     "languageId": "r"
    }
   },
   "outputs": [
    {
     "data": {
      "text/html": [
       "<style>\n",
       ".list-inline {list-style: none; margin:0; padding: 0}\n",
       ".list-inline>li {display: inline-block}\n",
       ".list-inline>li:not(:last-child)::after {content: \"\\00b7\"; padding: 0 .5ex}\n",
       "</style>\n",
       "<ol class=list-inline><li>0</li><li>0</li></ol>\n"
      ],
      "text/latex": [
       "\\begin{enumerate*}\n",
       "\\item 0\n",
       "\\item 0\n",
       "\\end{enumerate*}\n"
      ],
      "text/markdown": [
       "1. 0\n",
       "2. 0\n",
       "\n",
       "\n"
      ],
      "text/plain": [
       "[1] 0 0"
      ]
     },
     "metadata": {},
     "output_type": "display_data"
    }
   ],
   "source": [
    "names_pos"
   ]
  },
  {
   "cell_type": "code",
   "execution_count": 20,
   "id": "7654db53",
   "metadata": {
    "vscode": {
     "languageId": "r"
    }
   },
   "outputs": [
    {
     "data": {
      "text/html": [
       "<table class=\"dataframe\">\n",
       "<caption>A tibble: 53 × 21</caption>\n",
       "<thead>\n",
       "\t<tr><th scope=col></th><th scope=col>LEC1</th><th scope=col>RUS2</th><th scope=col>NOR3</th><th scope=col>RIC4</th><th scope=col>GAS5</th><th scope=col>ALO6</th><th scope=col>VER7</th><th scope=col>DEV8</th><th scope=col>ZHO9</th><th scope=col>...</th><th scope=col>VET11</th><th scope=col>STR12</th><th scope=col>PER13</th><th scope=col>OCO14</th><th scope=col>BOT15</th><th scope=col>MAG16</th><th scope=col>MSC17</th><th scope=col>SAI18</th><th scope=col>HAM19</th><th scope=col>TSU20</th></tr>\n",
       "\t<tr><th scope=col>&lt;int&gt;</th><th scope=col>&lt;chr&gt;</th><th scope=col>&lt;chr&gt;</th><th scope=col>&lt;chr&gt;</th><th scope=col>&lt;chr&gt;</th><th scope=col>&lt;chr&gt;</th><th scope=col>&lt;chr&gt;</th><th scope=col>&lt;chr&gt;</th><th scope=col>&lt;chr&gt;</th><th scope=col>&lt;chr&gt;</th><th scope=col>...</th><th scope=col>&lt;chr&gt;</th><th scope=col>&lt;chr&gt;</th><th scope=col>&lt;chr&gt;</th><th scope=col>&lt;chr&gt;</th><th scope=col>&lt;chr&gt;</th><th scope=col>&lt;chr&gt;</th><th scope=col>&lt;chr&gt;</th><th scope=col>&lt;chr&gt;</th><th scope=col>&lt;chr&gt;</th><th scope=col>&lt;chr&gt;</th></tr>\n",
       "</thead>\n",
       "<tbody>\n",
       "\t<tr><td> 1</td><td>LEC</td><td>RUS</td><td>RIC</td><td>VER</td><td>GAS</td><td>NOR</td><td>ALO</td><td>DEV</td><td>ZHO</td><td>...</td><td>STR</td><td>MAG</td><td>OCO</td><td>LAT</td><td>PER</td><td>SAI</td><td>MSC</td><td>TSU</td><td>HAM</td><td>BOT</td></tr>\n",
       "\t<tr><td> 2</td><td>LEC</td><td>RUS</td><td>VER</td><td>RIC</td><td>GAS</td><td>NOR</td><td>ALO</td><td>DEV</td><td>ZHO</td><td>...</td><td>VET</td><td>OCO</td><td>MAG</td><td>SAI</td><td>LAT</td><td>PER</td><td>TSU</td><td>HAM</td><td>MSC</td><td>BOT</td></tr>\n",
       "\t<tr><td> 3</td><td>LEC</td><td>RUS</td><td>VER</td><td>RIC</td><td>GAS</td><td>NOR</td><td>ALO</td><td>DEV</td><td>ZHO</td><td>...</td><td>VET</td><td>OCO</td><td>MAG</td><td>SAI</td><td>PER</td><td>LAT</td><td>TSU</td><td>HAM</td><td>MSC</td><td>BOT</td></tr>\n",
       "\t<tr><td> 4</td><td>LEC</td><td>RUS</td><td>VER</td><td>RIC</td><td>GAS</td><td>NOR</td><td>ALO</td><td>DEV</td><td>ZHO</td><td>...</td><td>VET</td><td>OCO</td><td>SAI</td><td>PER</td><td>MAG</td><td>LAT</td><td>TSU</td><td>HAM</td><td>MSC</td><td>BOT</td></tr>\n",
       "\t<tr><td> 5</td><td>LEC</td><td>VER</td><td>RUS</td><td>RIC</td><td>GAS</td><td>NOR</td><td>ALO</td><td>DEV</td><td>ZHO</td><td>...</td><td>SAI</td><td>VET</td><td>OCO</td><td>PER</td><td>MAG</td><td>LAT</td><td>TSU</td><td>HAM</td><td>MSC</td><td>BOT</td></tr>\n",
       "\t<tr><td> 6</td><td>LEC</td><td>VER</td><td>RUS</td><td>RIC</td><td>GAS</td><td>NOR</td><td>ALO</td><td>DEV</td><td>ZHO</td><td>...</td><td>STR</td><td>VET</td><td>PER</td><td>OCO</td><td>MAG</td><td>LAT</td><td>TSU</td><td>HAM</td><td>MSC</td><td>BOT</td></tr>\n",
       "\t<tr><td> 7</td><td>LEC</td><td>VER</td><td>RUS</td><td>RIC</td><td>GAS</td><td>NOR</td><td>ALO</td><td>DEV</td><td>ZHO</td><td>...</td><td>STR</td><td>VET</td><td>OCO</td><td>MAG</td><td>TSU</td><td>LAT</td><td>HAM</td><td>PER</td><td>MSC</td><td>BOT</td></tr>\n",
       "\t<tr><td> 8</td><td>LEC</td><td>VER</td><td>RUS</td><td>RIC</td><td>GAS</td><td>NOR</td><td>ALO</td><td>DEV</td><td>SAI</td><td>...</td><td>STR</td><td>VET</td><td>OCO</td><td>TSU</td><td>MAG</td><td>HAM</td><td>LAT</td><td>MSC</td><td>BOT</td><td>PER</td></tr>\n",
       "\t<tr><td> 9</td><td>LEC</td><td>VER</td><td>RUS</td><td>RIC</td><td>GAS</td><td>NOR</td><td>ALO</td><td>SAI</td><td>DEV</td><td>...</td><td>STR</td><td>VET</td><td>OCO</td><td>TSU</td><td>HAM</td><td>MAG</td><td>LAT</td><td>MSC</td><td>BOT</td><td>PER</td></tr>\n",
       "\t<tr><td>10</td><td>LEC</td><td>VER</td><td>RUS</td><td>RIC</td><td>GAS</td><td>NOR</td><td>SAI</td><td>ALO</td><td>DEV</td><td>...</td><td>STR</td><td>OCO</td><td>VET</td><td>TSU</td><td>HAM</td><td>MAG</td><td>LAT</td><td>MSC</td><td>BOT</td><td>PER</td></tr>\n",
       "\t<tr><td>11</td><td>LEC</td><td>VER</td><td>RUS</td><td>RIC</td><td>GAS</td><td>SAI</td><td>NOR</td><td>ALO</td><td>DEV</td><td>...</td><td>STR</td><td>OCO</td><td>HAM</td><td>TSU</td><td>MAG</td><td>LAT</td><td>MSC</td><td>BOT</td><td>PER</td><td>   </td></tr>\n",
       "\t<tr><td>12</td><td>VER</td><td>LEC</td><td>RUS</td><td>RIC</td><td>SAI</td><td>GAS</td><td>NOR</td><td>ALO</td><td>DEV</td><td>...</td><td>STR</td><td>OCO</td><td>HAM</td><td>TSU</td><td>MAG</td><td>LAT</td><td>MSC</td><td>BOT</td><td>PER</td><td>   </td></tr>\n",
       "\t<tr><td>13</td><td>VER</td><td>RUS</td><td>LEC</td><td>SAI</td><td>RIC</td><td>GAS</td><td>ALO</td><td>NOR</td><td>DEV</td><td>...</td><td>STR</td><td>OCO</td><td>HAM</td><td>TSU</td><td>LAT</td><td>MAG</td><td>MSC</td><td>BOT</td><td>PER</td><td>   </td></tr>\n",
       "\t<tr><td>14</td><td>VER</td><td>RUS</td><td>LEC</td><td>SAI</td><td>RIC</td><td>GAS</td><td>ALO</td><td>NOR</td><td>DEV</td><td>...</td><td>STR</td><td>OCO</td><td>HAM</td><td>TSU</td><td>LAT</td><td>MAG</td><td>MSC</td><td>BOT</td><td>PER</td><td>   </td></tr>\n",
       "\t<tr><td>15</td><td>VER</td><td>RUS</td><td>LEC</td><td>SAI</td><td>RIC</td><td>GAS</td><td>ALO</td><td>NOR</td><td>DEV</td><td>...</td><td>STR</td><td>OCO</td><td>HAM</td><td>TSU</td><td>MAG</td><td>MSC</td><td>BOT</td><td>LAT</td><td>PER</td><td>   </td></tr>\n",
       "\t<tr><td>16</td><td>VER</td><td>RUS</td><td>LEC</td><td>SAI</td><td>RIC</td><td>GAS</td><td>ALO</td><td>NOR</td><td>DEV</td><td>...</td><td>STR</td><td>HAM</td><td>OCO</td><td>TSU</td><td>MSC</td><td>MAG</td><td>BOT</td><td>PER</td><td>LAT</td><td>   </td></tr>\n",
       "\t<tr><td>17</td><td>VER</td><td>RUS</td><td>LEC</td><td>SAI</td><td>RIC</td><td>GAS</td><td>ALO</td><td>NOR</td><td>DEV</td><td>...</td><td>HAM</td><td>STR</td><td>OCO</td><td>TSU</td><td>MSC</td><td>MAG</td><td>BOT</td><td>PER</td><td>LAT</td><td>   </td></tr>\n",
       "\t<tr><td>18</td><td>VER</td><td>RUS</td><td>LEC</td><td>SAI</td><td>RIC</td><td>NOR</td><td>ALO</td><td>DEV</td><td>GAS</td><td>...</td><td>ZHO</td><td>OCO</td><td>TSU</td><td>STR</td><td>MSC</td><td>BOT</td><td>MAG</td><td>PER</td><td>LAT</td><td>   </td></tr>\n",
       "\t<tr><td>19</td><td>VER</td><td>RUS</td><td>LEC</td><td>SAI</td><td>NOR</td><td>ALO</td><td>RIC</td><td>HAM</td><td>DEV</td><td>...</td><td>MSC</td><td>TSU</td><td>BOT</td><td>MAG</td><td>PER</td><td>GAS</td><td>ZHO</td><td>STR</td><td>LAT</td><td>   </td></tr>\n",
       "\t<tr><td>20</td><td>VER</td><td>RUS</td><td>LEC</td><td>SAI</td><td>NOR</td><td>ALO</td><td>HAM</td><td>MSC</td><td>BOT</td><td>...</td><td>MAG</td><td>RIC</td><td>GAS</td><td>DEV</td><td>ZHO</td><td>OCO</td><td>STR</td><td>TSU</td><td>LAT</td><td>   </td></tr>\n",
       "\t<tr><td>21</td><td>VER</td><td>RUS</td><td>LEC</td><td>SAI</td><td>NOR</td><td>ALO</td><td>HAM</td><td>MSC</td><td>BOT</td><td>...</td><td>MAG</td><td>RIC</td><td>GAS</td><td>DEV</td><td>ZHO</td><td>OCO</td><td>TSU</td><td>STR</td><td>LAT</td><td>   </td></tr>\n",
       "\t<tr><td>22</td><td>VER</td><td>RUS</td><td>LEC</td><td>SAI</td><td>NOR</td><td>ALO</td><td>HAM</td><td>MSC</td><td>PER</td><td>...</td><td>MAG</td><td>RIC</td><td>GAS</td><td>DEV</td><td>ZHO</td><td>OCO</td><td>TSU</td><td>STR</td><td>LAT</td><td>   </td></tr>\n",
       "\t<tr><td>23</td><td>VER</td><td>LEC</td><td>RUS</td><td>SAI</td><td>NOR</td><td>ALO</td><td>HAM</td><td>MSC</td><td>PER</td><td>...</td><td>MAG</td><td>RIC</td><td>GAS</td><td>DEV</td><td>ZHO</td><td>OCO</td><td>TSU</td><td>STR</td><td>LAT</td><td>   </td></tr>\n",
       "\t<tr><td>24</td><td>VER</td><td>LEC</td><td>SAI</td><td>RUS</td><td>NOR</td><td>ALO</td><td>HAM</td><td>PER</td><td>MSC</td><td>...</td><td>RIC</td><td>GAS</td><td>DEV</td><td>MAG</td><td>ZHO</td><td>OCO</td><td>TSU</td><td>LAT</td><td>STR</td><td>   </td></tr>\n",
       "\t<tr><td>25</td><td>VER</td><td>LEC</td><td>SAI</td><td>RUS</td><td>NOR</td><td>ALO</td><td>HAM</td><td>PER</td><td>MSC</td><td>...</td><td>RIC</td><td>GAS</td><td>DEV</td><td>ZHO</td><td>OCO</td><td>TSU</td><td>LAT</td><td>STR</td><td>MAG</td><td>   </td></tr>\n",
       "\t<tr><td>26</td><td>LEC</td><td>VER</td><td>SAI</td><td>RUS</td><td>NOR</td><td>ALO</td><td>HAM</td><td>PER</td><td>MSC</td><td>...</td><td>RIC</td><td>GAS</td><td>DEV</td><td>ZHO</td><td>OCO</td><td>TSU</td><td>LAT</td><td>STR</td><td>MAG</td><td>   </td></tr>\n",
       "\t<tr><td>27</td><td>LEC</td><td>VER</td><td>SAI</td><td>RUS</td><td>NOR</td><td>HAM</td><td>ALO</td><td>PER</td><td>MSC</td><td>...</td><td>RIC</td><td>GAS</td><td>DEV</td><td>ZHO</td><td>OCO</td><td>TSU</td><td>LAT</td><td>STR</td><td>MAG</td><td>   </td></tr>\n",
       "\t<tr><td>28</td><td>LEC</td><td>VER</td><td>SAI</td><td>RUS</td><td>NOR</td><td>HAM</td><td>ALO</td><td>PER</td><td>MSC</td><td>...</td><td>RIC</td><td>GAS</td><td>DEV</td><td>ZHO</td><td>OCO</td><td>TSU</td><td>LAT</td><td>STR</td><td>MAG</td><td>   </td></tr>\n",
       "\t<tr><td>29</td><td>LEC</td><td>VER</td><td>SAI</td><td>RUS</td><td>NOR</td><td>HAM</td><td>ALO</td><td>PER</td><td>MSC</td><td>...</td><td>RIC</td><td>GAS</td><td>DEV</td><td>ZHO</td><td>OCO</td><td>TSU</td><td>LAT</td><td>STR</td><td>MAG</td><td>   </td></tr>\n",
       "\t<tr><td>30</td><td>LEC</td><td>VER</td><td>RUS</td><td>SAI</td><td>NOR</td><td>HAM</td><td>ALO</td><td>PER</td><td>MSC</td><td>...</td><td>RIC</td><td>GAS</td><td>DEV</td><td>ZHO</td><td>OCO</td><td>TSU</td><td>LAT</td><td>STR</td><td>MAG</td><td>   </td></tr>\n",
       "\t<tr><td>31</td><td>LEC</td><td>VER</td><td>RUS</td><td>NOR</td><td>HAM</td><td>PER</td><td>SAI</td><td>ALO</td><td>MSC</td><td>...</td><td>RIC</td><td>GAS</td><td>DEV</td><td>ZHO</td><td>OCO</td><td>TSU</td><td>LAT</td><td>STR</td><td>MAG</td><td>   </td></tr>\n",
       "\t<tr><td>32</td><td>LEC</td><td>VER</td><td>RUS</td><td>NOR</td><td>HAM</td><td>PER</td><td>SAI</td><td>MSC</td><td>BOT</td><td>...</td><td>GAS</td><td>DEV</td><td>ZHO</td><td>OCO</td><td>TSU</td><td>LAT</td><td>STR</td><td>MAG</td><td>   </td><td>   </td></tr>\n",
       "\t<tr><td>33</td><td>LEC</td><td>VER</td><td>RUS</td><td>NOR</td><td>SAI</td><td>PER</td><td>HAM</td><td>BOT</td><td>MSC</td><td>...</td><td>GAS</td><td>DEV</td><td>ZHO</td><td>OCO</td><td>TSU</td><td>LAT</td><td>STR</td><td>MAG</td><td>   </td><td>   </td></tr>\n",
       "\t<tr><td>34</td><td>VER</td><td>LEC</td><td>RUS</td><td>NOR</td><td>SAI</td><td>PER</td><td>BOT</td><td>RIC</td><td>GAS</td><td>...</td><td>ZHO</td><td>HAM</td><td>OCO</td><td>TSU</td><td>LAT</td><td>STR</td><td>MSC</td><td>MAG</td><td>   </td><td>   </td></tr>\n",
       "\t<tr><td>35</td><td>VER</td><td>LEC</td><td>RUS</td><td>NOR</td><td>SAI</td><td>PER</td><td>RIC</td><td>GAS</td><td>HAM</td><td>...</td><td>BOT</td><td>ZHO</td><td>OCO</td><td>TSU</td><td>LAT</td><td>MSC</td><td>STR</td><td>MAG</td><td>   </td><td>   </td></tr>\n",
       "\t<tr><td>36</td><td>VER</td><td>LEC</td><td>RUS</td><td>SAI</td><td>PER</td><td>RIC</td><td>HAM</td><td>GAS</td><td>NOR</td><td>...</td><td>ZHO</td><td>OCO</td><td>TSU</td><td>LAT</td><td>MSC</td><td>STR</td><td>BOT</td><td>MAG</td><td>   </td><td>   </td></tr>\n",
       "\t<tr><td>37</td><td>VER</td><td>LEC</td><td>RUS</td><td>SAI</td><td>PER</td><td>HAM</td><td>NOR</td><td>RIC</td><td>GAS</td><td>...</td><td>ZHO</td><td>OCO</td><td>TSU</td><td>LAT</td><td>MSC</td><td>BOT</td><td>STR</td><td>MAG</td><td>   </td><td>   </td></tr>\n",
       "\t<tr><td>38</td><td>VER</td><td>LEC</td><td>RUS</td><td>SAI</td><td>PER</td><td>HAM</td><td>NOR</td><td>RIC</td><td>GAS</td><td>...</td><td>ZHO</td><td>OCO</td><td>TSU</td><td>LAT</td><td>MSC</td><td>BOT</td><td>STR</td><td>MAG</td><td>   </td><td>   </td></tr>\n",
       "\t<tr><td>39</td><td>VER</td><td>LEC</td><td>RUS</td><td>SAI</td><td>PER</td><td>HAM</td><td>NOR</td><td>RIC</td><td>GAS</td><td>...</td><td>ZHO</td><td>OCO</td><td>TSU</td><td>LAT</td><td>MSC</td><td>BOT</td><td>STR</td><td>MAG</td><td>   </td><td>   </td></tr>\n",
       "\t<tr><td>40</td><td>VER</td><td>LEC</td><td>RUS</td><td>SAI</td><td>PER</td><td>HAM</td><td>NOR</td><td>RIC</td><td>GAS</td><td>...</td><td>ZHO</td><td>OCO</td><td>TSU</td><td>LAT</td><td>MSC</td><td>BOT</td><td>MAG</td><td>   </td><td>   </td><td>   </td></tr>\n",
       "\t<tr><td>41</td><td>VER</td><td>LEC</td><td>RUS</td><td>SAI</td><td>PER</td><td>HAM</td><td>NOR</td><td>RIC</td><td>GAS</td><td>...</td><td>ZHO</td><td>OCO</td><td>TSU</td><td>MSC</td><td>LAT</td><td>BOT</td><td>MAG</td><td>   </td><td>   </td><td>   </td></tr>\n",
       "\t<tr><td>42</td><td>VER</td><td>LEC</td><td>RUS</td><td>SAI</td><td>PER</td><td>HAM</td><td>NOR</td><td>RIC</td><td>GAS</td><td>...</td><td>ZHO</td><td>OCO</td><td>TSU</td><td>MSC</td><td>BOT</td><td>LAT</td><td>MAG</td><td>   </td><td>   </td><td>   </td></tr>\n",
       "\t<tr><td>43</td><td>VER</td><td>LEC</td><td>RUS</td><td>SAI</td><td>HAM</td><td>NOR</td><td>PER</td><td>RIC</td><td>GAS</td><td>...</td><td>ZHO</td><td>OCO</td><td>TSU</td><td>MSC</td><td>BOT</td><td>LAT</td><td>MAG</td><td>   </td><td>   </td><td>   </td></tr>\n",
       "\t<tr><td>44</td><td>VER</td><td>LEC</td><td>RUS</td><td>SAI</td><td>HAM</td><td>NOR</td><td>PER</td><td>RIC</td><td>GAS</td><td>...</td><td>ZHO</td><td>OCO</td><td>TSU</td><td>MSC</td><td>BOT</td><td>LAT</td><td>MAG</td><td>   </td><td>   </td><td>   </td></tr>\n",
       "\t<tr><td>45</td><td>VER</td><td>LEC</td><td>RUS</td><td>SAI</td><td>HAM</td><td>NOR</td><td>PER</td><td>RIC</td><td>GAS</td><td>...</td><td>ZHO</td><td>OCO</td><td>MSC</td><td>TSU</td><td>BOT</td><td>LAT</td><td>MAG</td><td>   </td><td>   </td><td>   </td></tr>\n",
       "\t<tr><td>46</td><td>VER</td><td>LEC</td><td>RUS</td><td>SAI</td><td>HAM</td><td>NOR</td><td>PER</td><td>GAS</td><td>DEV</td><td>...</td><td>OCO</td><td>MSC</td><td>TSU</td><td>BOT</td><td>LAT</td><td>MAG</td><td>   </td><td>   </td><td>   </td><td>   </td></tr>\n",
       "\t<tr><td>47</td><td>VER</td><td>LEC</td><td>RUS</td><td>SAI</td><td>HAM</td><td>NOR</td><td>PER</td><td>GAS</td><td>DEV</td><td>...</td><td>OCO</td><td>MSC</td><td>BOT</td><td>TSU</td><td>LAT</td><td>MAG</td><td>   </td><td>   </td><td>   </td><td>   </td></tr>\n",
       "\t<tr><td>48</td><td>VER</td><td>LEC</td><td>RUS</td><td>SAI</td><td>HAM</td><td>PER</td><td>NOR</td><td>GAS</td><td>DEV</td><td>...</td><td>OCO</td><td>MSC</td><td>BOT</td><td>TSU</td><td>LAT</td><td>MAG</td><td>   </td><td>   </td><td>   </td><td>   </td></tr>\n",
       "\t<tr><td>49</td><td>VER</td><td>LEC</td><td>RUS</td><td>SAI</td><td>HAM</td><td>PER</td><td>NOR</td><td>GAS</td><td>DEV</td><td>...</td><td>OCO</td><td>MSC</td><td>BOT</td><td>TSU</td><td>LAT</td><td>MAG</td><td>   </td><td>   </td><td>   </td><td>   </td></tr>\n",
       "\t<tr><td>50</td><td>VER</td><td>LEC</td><td>RUS</td><td>SAI</td><td>HAM</td><td>PER</td><td>NOR</td><td>GAS</td><td>DEV</td><td>...</td><td>OCO</td><td>MSC</td><td>BOT</td><td>TSU</td><td>LAT</td><td>MAG</td><td>   </td><td>   </td><td>   </td><td>   </td></tr>\n",
       "\t<tr><td>51</td><td>VER</td><td>LEC</td><td>RUS</td><td>SAI</td><td>HAM</td><td>PER</td><td>NOR</td><td>GAS</td><td>DEV</td><td>...</td><td>OCO</td><td>MSC</td><td>BOT</td><td>TSU</td><td>LAT</td><td>MAG</td><td>   </td><td>   </td><td>   </td><td>   </td></tr>\n",
       "\t<tr><td>52</td><td>VER</td><td>LEC</td><td>RUS</td><td>SAI</td><td>HAM</td><td>PER</td><td>NOR</td><td>GAS</td><td>DEV</td><td>...</td><td>OCO</td><td>MSC</td><td>BOT</td><td>TSU</td><td>LAT</td><td>MAG</td><td>   </td><td>   </td><td>   </td><td>   </td></tr>\n",
       "\t<tr><td>53</td><td>VER</td><td>LEC</td><td>RUS</td><td>SAI</td><td>HAM</td><td>PER</td><td>NOR</td><td>GAS</td><td>DEV</td><td>...</td><td>OCO</td><td>MSC</td><td>   </td><td>   </td><td>   </td><td>   </td><td>   </td><td>   </td><td>   </td><td>   </td></tr>\n",
       "</tbody>\n",
       "</table>\n"
      ],
      "text/latex": [
       "A tibble: 53 × 21\n",
       "\\begin{tabular}{lllllllllllllllllllll}\n",
       "  & LEC1 & RUS2 & NOR3 & RIC4 & GAS5 & ALO6 & VER7 & DEV8 & ZHO9 & ... & VET11 & STR12 & PER13 & OCO14 & BOT15 & MAG16 & MSC17 & SAI18 & HAM19 & TSU20\\\\\n",
       " <int> & <chr> & <chr> & <chr> & <chr> & <chr> & <chr> & <chr> & <chr> & <chr> & ... & <chr> & <chr> & <chr> & <chr> & <chr> & <chr> & <chr> & <chr> & <chr> & <chr>\\\\\n",
       "\\hline\n",
       "\t  1 & LEC & RUS & RIC & VER & GAS & NOR & ALO & DEV & ZHO & ... & STR & MAG & OCO & LAT & PER & SAI & MSC & TSU & HAM & BOT\\\\\n",
       "\t  2 & LEC & RUS & VER & RIC & GAS & NOR & ALO & DEV & ZHO & ... & VET & OCO & MAG & SAI & LAT & PER & TSU & HAM & MSC & BOT\\\\\n",
       "\t  3 & LEC & RUS & VER & RIC & GAS & NOR & ALO & DEV & ZHO & ... & VET & OCO & MAG & SAI & PER & LAT & TSU & HAM & MSC & BOT\\\\\n",
       "\t  4 & LEC & RUS & VER & RIC & GAS & NOR & ALO & DEV & ZHO & ... & VET & OCO & SAI & PER & MAG & LAT & TSU & HAM & MSC & BOT\\\\\n",
       "\t  5 & LEC & VER & RUS & RIC & GAS & NOR & ALO & DEV & ZHO & ... & SAI & VET & OCO & PER & MAG & LAT & TSU & HAM & MSC & BOT\\\\\n",
       "\t  6 & LEC & VER & RUS & RIC & GAS & NOR & ALO & DEV & ZHO & ... & STR & VET & PER & OCO & MAG & LAT & TSU & HAM & MSC & BOT\\\\\n",
       "\t  7 & LEC & VER & RUS & RIC & GAS & NOR & ALO & DEV & ZHO & ... & STR & VET & OCO & MAG & TSU & LAT & HAM & PER & MSC & BOT\\\\\n",
       "\t  8 & LEC & VER & RUS & RIC & GAS & NOR & ALO & DEV & SAI & ... & STR & VET & OCO & TSU & MAG & HAM & LAT & MSC & BOT & PER\\\\\n",
       "\t  9 & LEC & VER & RUS & RIC & GAS & NOR & ALO & SAI & DEV & ... & STR & VET & OCO & TSU & HAM & MAG & LAT & MSC & BOT & PER\\\\\n",
       "\t 10 & LEC & VER & RUS & RIC & GAS & NOR & SAI & ALO & DEV & ... & STR & OCO & VET & TSU & HAM & MAG & LAT & MSC & BOT & PER\\\\\n",
       "\t 11 & LEC & VER & RUS & RIC & GAS & SAI & NOR & ALO & DEV & ... & STR & OCO & HAM & TSU & MAG & LAT & MSC & BOT & PER &    \\\\\n",
       "\t 12 & VER & LEC & RUS & RIC & SAI & GAS & NOR & ALO & DEV & ... & STR & OCO & HAM & TSU & MAG & LAT & MSC & BOT & PER &    \\\\\n",
       "\t 13 & VER & RUS & LEC & SAI & RIC & GAS & ALO & NOR & DEV & ... & STR & OCO & HAM & TSU & LAT & MAG & MSC & BOT & PER &    \\\\\n",
       "\t 14 & VER & RUS & LEC & SAI & RIC & GAS & ALO & NOR & DEV & ... & STR & OCO & HAM & TSU & LAT & MAG & MSC & BOT & PER &    \\\\\n",
       "\t 15 & VER & RUS & LEC & SAI & RIC & GAS & ALO & NOR & DEV & ... & STR & OCO & HAM & TSU & MAG & MSC & BOT & LAT & PER &    \\\\\n",
       "\t 16 & VER & RUS & LEC & SAI & RIC & GAS & ALO & NOR & DEV & ... & STR & HAM & OCO & TSU & MSC & MAG & BOT & PER & LAT &    \\\\\n",
       "\t 17 & VER & RUS & LEC & SAI & RIC & GAS & ALO & NOR & DEV & ... & HAM & STR & OCO & TSU & MSC & MAG & BOT & PER & LAT &    \\\\\n",
       "\t 18 & VER & RUS & LEC & SAI & RIC & NOR & ALO & DEV & GAS & ... & ZHO & OCO & TSU & STR & MSC & BOT & MAG & PER & LAT &    \\\\\n",
       "\t 19 & VER & RUS & LEC & SAI & NOR & ALO & RIC & HAM & DEV & ... & MSC & TSU & BOT & MAG & PER & GAS & ZHO & STR & LAT &    \\\\\n",
       "\t 20 & VER & RUS & LEC & SAI & NOR & ALO & HAM & MSC & BOT & ... & MAG & RIC & GAS & DEV & ZHO & OCO & STR & TSU & LAT &    \\\\\n",
       "\t 21 & VER & RUS & LEC & SAI & NOR & ALO & HAM & MSC & BOT & ... & MAG & RIC & GAS & DEV & ZHO & OCO & TSU & STR & LAT &    \\\\\n",
       "\t 22 & VER & RUS & LEC & SAI & NOR & ALO & HAM & MSC & PER & ... & MAG & RIC & GAS & DEV & ZHO & OCO & TSU & STR & LAT &    \\\\\n",
       "\t 23 & VER & LEC & RUS & SAI & NOR & ALO & HAM & MSC & PER & ... & MAG & RIC & GAS & DEV & ZHO & OCO & TSU & STR & LAT &    \\\\\n",
       "\t 24 & VER & LEC & SAI & RUS & NOR & ALO & HAM & PER & MSC & ... & RIC & GAS & DEV & MAG & ZHO & OCO & TSU & LAT & STR &    \\\\\n",
       "\t 25 & VER & LEC & SAI & RUS & NOR & ALO & HAM & PER & MSC & ... & RIC & GAS & DEV & ZHO & OCO & TSU & LAT & STR & MAG &    \\\\\n",
       "\t 26 & LEC & VER & SAI & RUS & NOR & ALO & HAM & PER & MSC & ... & RIC & GAS & DEV & ZHO & OCO & TSU & LAT & STR & MAG &    \\\\\n",
       "\t 27 & LEC & VER & SAI & RUS & NOR & HAM & ALO & PER & MSC & ... & RIC & GAS & DEV & ZHO & OCO & TSU & LAT & STR & MAG &    \\\\\n",
       "\t 28 & LEC & VER & SAI & RUS & NOR & HAM & ALO & PER & MSC & ... & RIC & GAS & DEV & ZHO & OCO & TSU & LAT & STR & MAG &    \\\\\n",
       "\t 29 & LEC & VER & SAI & RUS & NOR & HAM & ALO & PER & MSC & ... & RIC & GAS & DEV & ZHO & OCO & TSU & LAT & STR & MAG &    \\\\\n",
       "\t 30 & LEC & VER & RUS & SAI & NOR & HAM & ALO & PER & MSC & ... & RIC & GAS & DEV & ZHO & OCO & TSU & LAT & STR & MAG &    \\\\\n",
       "\t 31 & LEC & VER & RUS & NOR & HAM & PER & SAI & ALO & MSC & ... & RIC & GAS & DEV & ZHO & OCO & TSU & LAT & STR & MAG &    \\\\\n",
       "\t 32 & LEC & VER & RUS & NOR & HAM & PER & SAI & MSC & BOT & ... & GAS & DEV & ZHO & OCO & TSU & LAT & STR & MAG &     &    \\\\\n",
       "\t 33 & LEC & VER & RUS & NOR & SAI & PER & HAM & BOT & MSC & ... & GAS & DEV & ZHO & OCO & TSU & LAT & STR & MAG &     &    \\\\\n",
       "\t 34 & VER & LEC & RUS & NOR & SAI & PER & BOT & RIC & GAS & ... & ZHO & HAM & OCO & TSU & LAT & STR & MSC & MAG &     &    \\\\\n",
       "\t 35 & VER & LEC & RUS & NOR & SAI & PER & RIC & GAS & HAM & ... & BOT & ZHO & OCO & TSU & LAT & MSC & STR & MAG &     &    \\\\\n",
       "\t 36 & VER & LEC & RUS & SAI & PER & RIC & HAM & GAS & NOR & ... & ZHO & OCO & TSU & LAT & MSC & STR & BOT & MAG &     &    \\\\\n",
       "\t 37 & VER & LEC & RUS & SAI & PER & HAM & NOR & RIC & GAS & ... & ZHO & OCO & TSU & LAT & MSC & BOT & STR & MAG &     &    \\\\\n",
       "\t 38 & VER & LEC & RUS & SAI & PER & HAM & NOR & RIC & GAS & ... & ZHO & OCO & TSU & LAT & MSC & BOT & STR & MAG &     &    \\\\\n",
       "\t 39 & VER & LEC & RUS & SAI & PER & HAM & NOR & RIC & GAS & ... & ZHO & OCO & TSU & LAT & MSC & BOT & STR & MAG &     &    \\\\\n",
       "\t 40 & VER & LEC & RUS & SAI & PER & HAM & NOR & RIC & GAS & ... & ZHO & OCO & TSU & LAT & MSC & BOT & MAG &     &     &    \\\\\n",
       "\t 41 & VER & LEC & RUS & SAI & PER & HAM & NOR & RIC & GAS & ... & ZHO & OCO & TSU & MSC & LAT & BOT & MAG &     &     &    \\\\\n",
       "\t 42 & VER & LEC & RUS & SAI & PER & HAM & NOR & RIC & GAS & ... & ZHO & OCO & TSU & MSC & BOT & LAT & MAG &     &     &    \\\\\n",
       "\t 43 & VER & LEC & RUS & SAI & HAM & NOR & PER & RIC & GAS & ... & ZHO & OCO & TSU & MSC & BOT & LAT & MAG &     &     &    \\\\\n",
       "\t 44 & VER & LEC & RUS & SAI & HAM & NOR & PER & RIC & GAS & ... & ZHO & OCO & TSU & MSC & BOT & LAT & MAG &     &     &    \\\\\n",
       "\t 45 & VER & LEC & RUS & SAI & HAM & NOR & PER & RIC & GAS & ... & ZHO & OCO & MSC & TSU & BOT & LAT & MAG &     &     &    \\\\\n",
       "\t 46 & VER & LEC & RUS & SAI & HAM & NOR & PER & GAS & DEV & ... & OCO & MSC & TSU & BOT & LAT & MAG &     &     &     &    \\\\\n",
       "\t 47 & VER & LEC & RUS & SAI & HAM & NOR & PER & GAS & DEV & ... & OCO & MSC & BOT & TSU & LAT & MAG &     &     &     &    \\\\\n",
       "\t 48 & VER & LEC & RUS & SAI & HAM & PER & NOR & GAS & DEV & ... & OCO & MSC & BOT & TSU & LAT & MAG &     &     &     &    \\\\\n",
       "\t 49 & VER & LEC & RUS & SAI & HAM & PER & NOR & GAS & DEV & ... & OCO & MSC & BOT & TSU & LAT & MAG &     &     &     &    \\\\\n",
       "\t 50 & VER & LEC & RUS & SAI & HAM & PER & NOR & GAS & DEV & ... & OCO & MSC & BOT & TSU & LAT & MAG &     &     &     &    \\\\\n",
       "\t 51 & VER & LEC & RUS & SAI & HAM & PER & NOR & GAS & DEV & ... & OCO & MSC & BOT & TSU & LAT & MAG &     &     &     &    \\\\\n",
       "\t 52 & VER & LEC & RUS & SAI & HAM & PER & NOR & GAS & DEV & ... & OCO & MSC & BOT & TSU & LAT & MAG &     &     &     &    \\\\\n",
       "\t 53 & VER & LEC & RUS & SAI & HAM & PER & NOR & GAS & DEV & ... & OCO & MSC &     &     &     &     &     &     &     &    \\\\\n",
       "\\end{tabular}\n"
      ],
      "text/markdown": [
       "\n",
       "A tibble: 53 × 21\n",
       "\n",
       "| <!----> &lt;int&gt; | LEC1 &lt;chr&gt; | RUS2 &lt;chr&gt; | NOR3 &lt;chr&gt; | RIC4 &lt;chr&gt; | GAS5 &lt;chr&gt; | ALO6 &lt;chr&gt; | VER7 &lt;chr&gt; | DEV8 &lt;chr&gt; | ZHO9 &lt;chr&gt; | ... ... | VET11 &lt;chr&gt; | STR12 &lt;chr&gt; | PER13 &lt;chr&gt; | OCO14 &lt;chr&gt; | BOT15 &lt;chr&gt; | MAG16 &lt;chr&gt; | MSC17 &lt;chr&gt; | SAI18 &lt;chr&gt; | HAM19 &lt;chr&gt; | TSU20 &lt;chr&gt; |\n",
       "|---|---|---|---|---|---|---|---|---|---|---|---|---|---|---|---|---|---|---|---|---|\n",
       "|  1 | LEC | RUS | RIC | VER | GAS | NOR | ALO | DEV | ZHO | ... | STR | MAG | OCO | LAT | PER | SAI | MSC | TSU | HAM | BOT |\n",
       "|  2 | LEC | RUS | VER | RIC | GAS | NOR | ALO | DEV | ZHO | ... | VET | OCO | MAG | SAI | LAT | PER | TSU | HAM | MSC | BOT |\n",
       "|  3 | LEC | RUS | VER | RIC | GAS | NOR | ALO | DEV | ZHO | ... | VET | OCO | MAG | SAI | PER | LAT | TSU | HAM | MSC | BOT |\n",
       "|  4 | LEC | RUS | VER | RIC | GAS | NOR | ALO | DEV | ZHO | ... | VET | OCO | SAI | PER | MAG | LAT | TSU | HAM | MSC | BOT |\n",
       "|  5 | LEC | VER | RUS | RIC | GAS | NOR | ALO | DEV | ZHO | ... | SAI | VET | OCO | PER | MAG | LAT | TSU | HAM | MSC | BOT |\n",
       "|  6 | LEC | VER | RUS | RIC | GAS | NOR | ALO | DEV | ZHO | ... | STR | VET | PER | OCO | MAG | LAT | TSU | HAM | MSC | BOT |\n",
       "|  7 | LEC | VER | RUS | RIC | GAS | NOR | ALO | DEV | ZHO | ... | STR | VET | OCO | MAG | TSU | LAT | HAM | PER | MSC | BOT |\n",
       "|  8 | LEC | VER | RUS | RIC | GAS | NOR | ALO | DEV | SAI | ... | STR | VET | OCO | TSU | MAG | HAM | LAT | MSC | BOT | PER |\n",
       "|  9 | LEC | VER | RUS | RIC | GAS | NOR | ALO | SAI | DEV | ... | STR | VET | OCO | TSU | HAM | MAG | LAT | MSC | BOT | PER |\n",
       "| 10 | LEC | VER | RUS | RIC | GAS | NOR | SAI | ALO | DEV | ... | STR | OCO | VET | TSU | HAM | MAG | LAT | MSC | BOT | PER |\n",
       "| 11 | LEC | VER | RUS | RIC | GAS | SAI | NOR | ALO | DEV | ... | STR | OCO | HAM | TSU | MAG | LAT | MSC | BOT | PER | <!----> |\n",
       "| 12 | VER | LEC | RUS | RIC | SAI | GAS | NOR | ALO | DEV | ... | STR | OCO | HAM | TSU | MAG | LAT | MSC | BOT | PER | <!----> |\n",
       "| 13 | VER | RUS | LEC | SAI | RIC | GAS | ALO | NOR | DEV | ... | STR | OCO | HAM | TSU | LAT | MAG | MSC | BOT | PER | <!----> |\n",
       "| 14 | VER | RUS | LEC | SAI | RIC | GAS | ALO | NOR | DEV | ... | STR | OCO | HAM | TSU | LAT | MAG | MSC | BOT | PER | <!----> |\n",
       "| 15 | VER | RUS | LEC | SAI | RIC | GAS | ALO | NOR | DEV | ... | STR | OCO | HAM | TSU | MAG | MSC | BOT | LAT | PER | <!----> |\n",
       "| 16 | VER | RUS | LEC | SAI | RIC | GAS | ALO | NOR | DEV | ... | STR | HAM | OCO | TSU | MSC | MAG | BOT | PER | LAT | <!----> |\n",
       "| 17 | VER | RUS | LEC | SAI | RIC | GAS | ALO | NOR | DEV | ... | HAM | STR | OCO | TSU | MSC | MAG | BOT | PER | LAT | <!----> |\n",
       "| 18 | VER | RUS | LEC | SAI | RIC | NOR | ALO | DEV | GAS | ... | ZHO | OCO | TSU | STR | MSC | BOT | MAG | PER | LAT | <!----> |\n",
       "| 19 | VER | RUS | LEC | SAI | NOR | ALO | RIC | HAM | DEV | ... | MSC | TSU | BOT | MAG | PER | GAS | ZHO | STR | LAT | <!----> |\n",
       "| 20 | VER | RUS | LEC | SAI | NOR | ALO | HAM | MSC | BOT | ... | MAG | RIC | GAS | DEV | ZHO | OCO | STR | TSU | LAT | <!----> |\n",
       "| 21 | VER | RUS | LEC | SAI | NOR | ALO | HAM | MSC | BOT | ... | MAG | RIC | GAS | DEV | ZHO | OCO | TSU | STR | LAT | <!----> |\n",
       "| 22 | VER | RUS | LEC | SAI | NOR | ALO | HAM | MSC | PER | ... | MAG | RIC | GAS | DEV | ZHO | OCO | TSU | STR | LAT | <!----> |\n",
       "| 23 | VER | LEC | RUS | SAI | NOR | ALO | HAM | MSC | PER | ... | MAG | RIC | GAS | DEV | ZHO | OCO | TSU | STR | LAT | <!----> |\n",
       "| 24 | VER | LEC | SAI | RUS | NOR | ALO | HAM | PER | MSC | ... | RIC | GAS | DEV | MAG | ZHO | OCO | TSU | LAT | STR | <!----> |\n",
       "| 25 | VER | LEC | SAI | RUS | NOR | ALO | HAM | PER | MSC | ... | RIC | GAS | DEV | ZHO | OCO | TSU | LAT | STR | MAG | <!----> |\n",
       "| 26 | LEC | VER | SAI | RUS | NOR | ALO | HAM | PER | MSC | ... | RIC | GAS | DEV | ZHO | OCO | TSU | LAT | STR | MAG | <!----> |\n",
       "| 27 | LEC | VER | SAI | RUS | NOR | HAM | ALO | PER | MSC | ... | RIC | GAS | DEV | ZHO | OCO | TSU | LAT | STR | MAG | <!----> |\n",
       "| 28 | LEC | VER | SAI | RUS | NOR | HAM | ALO | PER | MSC | ... | RIC | GAS | DEV | ZHO | OCO | TSU | LAT | STR | MAG | <!----> |\n",
       "| 29 | LEC | VER | SAI | RUS | NOR | HAM | ALO | PER | MSC | ... | RIC | GAS | DEV | ZHO | OCO | TSU | LAT | STR | MAG | <!----> |\n",
       "| 30 | LEC | VER | RUS | SAI | NOR | HAM | ALO | PER | MSC | ... | RIC | GAS | DEV | ZHO | OCO | TSU | LAT | STR | MAG | <!----> |\n",
       "| 31 | LEC | VER | RUS | NOR | HAM | PER | SAI | ALO | MSC | ... | RIC | GAS | DEV | ZHO | OCO | TSU | LAT | STR | MAG | <!----> |\n",
       "| 32 | LEC | VER | RUS | NOR | HAM | PER | SAI | MSC | BOT | ... | GAS | DEV | ZHO | OCO | TSU | LAT | STR | MAG | <!----> | <!----> |\n",
       "| 33 | LEC | VER | RUS | NOR | SAI | PER | HAM | BOT | MSC | ... | GAS | DEV | ZHO | OCO | TSU | LAT | STR | MAG | <!----> | <!----> |\n",
       "| 34 | VER | LEC | RUS | NOR | SAI | PER | BOT | RIC | GAS | ... | ZHO | HAM | OCO | TSU | LAT | STR | MSC | MAG | <!----> | <!----> |\n",
       "| 35 | VER | LEC | RUS | NOR | SAI | PER | RIC | GAS | HAM | ... | BOT | ZHO | OCO | TSU | LAT | MSC | STR | MAG | <!----> | <!----> |\n",
       "| 36 | VER | LEC | RUS | SAI | PER | RIC | HAM | GAS | NOR | ... | ZHO | OCO | TSU | LAT | MSC | STR | BOT | MAG | <!----> | <!----> |\n",
       "| 37 | VER | LEC | RUS | SAI | PER | HAM | NOR | RIC | GAS | ... | ZHO | OCO | TSU | LAT | MSC | BOT | STR | MAG | <!----> | <!----> |\n",
       "| 38 | VER | LEC | RUS | SAI | PER | HAM | NOR | RIC | GAS | ... | ZHO | OCO | TSU | LAT | MSC | BOT | STR | MAG | <!----> | <!----> |\n",
       "| 39 | VER | LEC | RUS | SAI | PER | HAM | NOR | RIC | GAS | ... | ZHO | OCO | TSU | LAT | MSC | BOT | STR | MAG | <!----> | <!----> |\n",
       "| 40 | VER | LEC | RUS | SAI | PER | HAM | NOR | RIC | GAS | ... | ZHO | OCO | TSU | LAT | MSC | BOT | MAG | <!----> | <!----> | <!----> |\n",
       "| 41 | VER | LEC | RUS | SAI | PER | HAM | NOR | RIC | GAS | ... | ZHO | OCO | TSU | MSC | LAT | BOT | MAG | <!----> | <!----> | <!----> |\n",
       "| 42 | VER | LEC | RUS | SAI | PER | HAM | NOR | RIC | GAS | ... | ZHO | OCO | TSU | MSC | BOT | LAT | MAG | <!----> | <!----> | <!----> |\n",
       "| 43 | VER | LEC | RUS | SAI | HAM | NOR | PER | RIC | GAS | ... | ZHO | OCO | TSU | MSC | BOT | LAT | MAG | <!----> | <!----> | <!----> |\n",
       "| 44 | VER | LEC | RUS | SAI | HAM | NOR | PER | RIC | GAS | ... | ZHO | OCO | TSU | MSC | BOT | LAT | MAG | <!----> | <!----> | <!----> |\n",
       "| 45 | VER | LEC | RUS | SAI | HAM | NOR | PER | RIC | GAS | ... | ZHO | OCO | MSC | TSU | BOT | LAT | MAG | <!----> | <!----> | <!----> |\n",
       "| 46 | VER | LEC | RUS | SAI | HAM | NOR | PER | GAS | DEV | ... | OCO | MSC | TSU | BOT | LAT | MAG | <!----> | <!----> | <!----> | <!----> |\n",
       "| 47 | VER | LEC | RUS | SAI | HAM | NOR | PER | GAS | DEV | ... | OCO | MSC | BOT | TSU | LAT | MAG | <!----> | <!----> | <!----> | <!----> |\n",
       "| 48 | VER | LEC | RUS | SAI | HAM | PER | NOR | GAS | DEV | ... | OCO | MSC | BOT | TSU | LAT | MAG | <!----> | <!----> | <!----> | <!----> |\n",
       "| 49 | VER | LEC | RUS | SAI | HAM | PER | NOR | GAS | DEV | ... | OCO | MSC | BOT | TSU | LAT | MAG | <!----> | <!----> | <!----> | <!----> |\n",
       "| 50 | VER | LEC | RUS | SAI | HAM | PER | NOR | GAS | DEV | ... | OCO | MSC | BOT | TSU | LAT | MAG | <!----> | <!----> | <!----> | <!----> |\n",
       "| 51 | VER | LEC | RUS | SAI | HAM | PER | NOR | GAS | DEV | ... | OCO | MSC | BOT | TSU | LAT | MAG | <!----> | <!----> | <!----> | <!----> |\n",
       "| 52 | VER | LEC | RUS | SAI | HAM | PER | NOR | GAS | DEV | ... | OCO | MSC | BOT | TSU | LAT | MAG | <!----> | <!----> | <!----> | <!----> |\n",
       "| 53 | VER | LEC | RUS | SAI | HAM | PER | NOR | GAS | DEV | ... | OCO | MSC | <!----> | <!----> | <!----> | <!----> | <!----> | <!----> | <!----> | <!----> |\n",
       "\n"
      ],
      "text/plain": [
       "      LEC1 RUS2 NOR3 RIC4 GAS5 ALO6 VER7 DEV8 ZHO9 ... VET11 STR12 PER13 OCO14\n",
       "1   1 LEC  RUS  RIC  VER  GAS  NOR  ALO  DEV  ZHO  ... STR   MAG   OCO   LAT  \n",
       "2   2 LEC  RUS  VER  RIC  GAS  NOR  ALO  DEV  ZHO  ... VET   OCO   MAG   SAI  \n",
       "3   3 LEC  RUS  VER  RIC  GAS  NOR  ALO  DEV  ZHO  ... VET   OCO   MAG   SAI  \n",
       "4   4 LEC  RUS  VER  RIC  GAS  NOR  ALO  DEV  ZHO  ... VET   OCO   SAI   PER  \n",
       "5   5 LEC  VER  RUS  RIC  GAS  NOR  ALO  DEV  ZHO  ... SAI   VET   OCO   PER  \n",
       "6   6 LEC  VER  RUS  RIC  GAS  NOR  ALO  DEV  ZHO  ... STR   VET   PER   OCO  \n",
       "7   7 LEC  VER  RUS  RIC  GAS  NOR  ALO  DEV  ZHO  ... STR   VET   OCO   MAG  \n",
       "8   8 LEC  VER  RUS  RIC  GAS  NOR  ALO  DEV  SAI  ... STR   VET   OCO   TSU  \n",
       "9   9 LEC  VER  RUS  RIC  GAS  NOR  ALO  SAI  DEV  ... STR   VET   OCO   TSU  \n",
       "10 10 LEC  VER  RUS  RIC  GAS  NOR  SAI  ALO  DEV  ... STR   OCO   VET   TSU  \n",
       "11 11 LEC  VER  RUS  RIC  GAS  SAI  NOR  ALO  DEV  ... STR   OCO   HAM   TSU  \n",
       "12 12 VER  LEC  RUS  RIC  SAI  GAS  NOR  ALO  DEV  ... STR   OCO   HAM   TSU  \n",
       "13 13 VER  RUS  LEC  SAI  RIC  GAS  ALO  NOR  DEV  ... STR   OCO   HAM   TSU  \n",
       "14 14 VER  RUS  LEC  SAI  RIC  GAS  ALO  NOR  DEV  ... STR   OCO   HAM   TSU  \n",
       "15 15 VER  RUS  LEC  SAI  RIC  GAS  ALO  NOR  DEV  ... STR   OCO   HAM   TSU  \n",
       "16 16 VER  RUS  LEC  SAI  RIC  GAS  ALO  NOR  DEV  ... STR   HAM   OCO   TSU  \n",
       "17 17 VER  RUS  LEC  SAI  RIC  GAS  ALO  NOR  DEV  ... HAM   STR   OCO   TSU  \n",
       "18 18 VER  RUS  LEC  SAI  RIC  NOR  ALO  DEV  GAS  ... ZHO   OCO   TSU   STR  \n",
       "19 19 VER  RUS  LEC  SAI  NOR  ALO  RIC  HAM  DEV  ... MSC   TSU   BOT   MAG  \n",
       "20 20 VER  RUS  LEC  SAI  NOR  ALO  HAM  MSC  BOT  ... MAG   RIC   GAS   DEV  \n",
       "21 21 VER  RUS  LEC  SAI  NOR  ALO  HAM  MSC  BOT  ... MAG   RIC   GAS   DEV  \n",
       "22 22 VER  RUS  LEC  SAI  NOR  ALO  HAM  MSC  PER  ... MAG   RIC   GAS   DEV  \n",
       "23 23 VER  LEC  RUS  SAI  NOR  ALO  HAM  MSC  PER  ... MAG   RIC   GAS   DEV  \n",
       "24 24 VER  LEC  SAI  RUS  NOR  ALO  HAM  PER  MSC  ... RIC   GAS   DEV   MAG  \n",
       "25 25 VER  LEC  SAI  RUS  NOR  ALO  HAM  PER  MSC  ... RIC   GAS   DEV   ZHO  \n",
       "26 26 LEC  VER  SAI  RUS  NOR  ALO  HAM  PER  MSC  ... RIC   GAS   DEV   ZHO  \n",
       "27 27 LEC  VER  SAI  RUS  NOR  HAM  ALO  PER  MSC  ... RIC   GAS   DEV   ZHO  \n",
       "28 28 LEC  VER  SAI  RUS  NOR  HAM  ALO  PER  MSC  ... RIC   GAS   DEV   ZHO  \n",
       "29 29 LEC  VER  SAI  RUS  NOR  HAM  ALO  PER  MSC  ... RIC   GAS   DEV   ZHO  \n",
       "30 30 LEC  VER  RUS  SAI  NOR  HAM  ALO  PER  MSC  ... RIC   GAS   DEV   ZHO  \n",
       "31 31 LEC  VER  RUS  NOR  HAM  PER  SAI  ALO  MSC  ... RIC   GAS   DEV   ZHO  \n",
       "32 32 LEC  VER  RUS  NOR  HAM  PER  SAI  MSC  BOT  ... GAS   DEV   ZHO   OCO  \n",
       "33 33 LEC  VER  RUS  NOR  SAI  PER  HAM  BOT  MSC  ... GAS   DEV   ZHO   OCO  \n",
       "34 34 VER  LEC  RUS  NOR  SAI  PER  BOT  RIC  GAS  ... ZHO   HAM   OCO   TSU  \n",
       "35 35 VER  LEC  RUS  NOR  SAI  PER  RIC  GAS  HAM  ... BOT   ZHO   OCO   TSU  \n",
       "36 36 VER  LEC  RUS  SAI  PER  RIC  HAM  GAS  NOR  ... ZHO   OCO   TSU   LAT  \n",
       "37 37 VER  LEC  RUS  SAI  PER  HAM  NOR  RIC  GAS  ... ZHO   OCO   TSU   LAT  \n",
       "38 38 VER  LEC  RUS  SAI  PER  HAM  NOR  RIC  GAS  ... ZHO   OCO   TSU   LAT  \n",
       "39 39 VER  LEC  RUS  SAI  PER  HAM  NOR  RIC  GAS  ... ZHO   OCO   TSU   LAT  \n",
       "40 40 VER  LEC  RUS  SAI  PER  HAM  NOR  RIC  GAS  ... ZHO   OCO   TSU   LAT  \n",
       "41 41 VER  LEC  RUS  SAI  PER  HAM  NOR  RIC  GAS  ... ZHO   OCO   TSU   MSC  \n",
       "42 42 VER  LEC  RUS  SAI  PER  HAM  NOR  RIC  GAS  ... ZHO   OCO   TSU   MSC  \n",
       "43 43 VER  LEC  RUS  SAI  HAM  NOR  PER  RIC  GAS  ... ZHO   OCO   TSU   MSC  \n",
       "44 44 VER  LEC  RUS  SAI  HAM  NOR  PER  RIC  GAS  ... ZHO   OCO   TSU   MSC  \n",
       "45 45 VER  LEC  RUS  SAI  HAM  NOR  PER  RIC  GAS  ... ZHO   OCO   MSC   TSU  \n",
       "46 46 VER  LEC  RUS  SAI  HAM  NOR  PER  GAS  DEV  ... OCO   MSC   TSU   BOT  \n",
       "47 47 VER  LEC  RUS  SAI  HAM  NOR  PER  GAS  DEV  ... OCO   MSC   BOT   TSU  \n",
       "48 48 VER  LEC  RUS  SAI  HAM  PER  NOR  GAS  DEV  ... OCO   MSC   BOT   TSU  \n",
       "49 49 VER  LEC  RUS  SAI  HAM  PER  NOR  GAS  DEV  ... OCO   MSC   BOT   TSU  \n",
       "50 50 VER  LEC  RUS  SAI  HAM  PER  NOR  GAS  DEV  ... OCO   MSC   BOT   TSU  \n",
       "51 51 VER  LEC  RUS  SAI  HAM  PER  NOR  GAS  DEV  ... OCO   MSC   BOT   TSU  \n",
       "52 52 VER  LEC  RUS  SAI  HAM  PER  NOR  GAS  DEV  ... OCO   MSC   BOT   TSU  \n",
       "53 53 VER  LEC  RUS  SAI  HAM  PER  NOR  GAS  DEV  ... OCO   MSC              \n",
       "   BOT15 MAG16 MSC17 SAI18 HAM19 TSU20\n",
       "1  PER   SAI   MSC   TSU   HAM   BOT  \n",
       "2  LAT   PER   TSU   HAM   MSC   BOT  \n",
       "3  PER   LAT   TSU   HAM   MSC   BOT  \n",
       "4  MAG   LAT   TSU   HAM   MSC   BOT  \n",
       "5  MAG   LAT   TSU   HAM   MSC   BOT  \n",
       "6  MAG   LAT   TSU   HAM   MSC   BOT  \n",
       "7  TSU   LAT   HAM   PER   MSC   BOT  \n",
       "8  MAG   HAM   LAT   MSC   BOT   PER  \n",
       "9  HAM   MAG   LAT   MSC   BOT   PER  \n",
       "10 HAM   MAG   LAT   MSC   BOT   PER  \n",
       "11 MAG   LAT   MSC   BOT   PER        \n",
       "12 MAG   LAT   MSC   BOT   PER        \n",
       "13 LAT   MAG   MSC   BOT   PER        \n",
       "14 LAT   MAG   MSC   BOT   PER        \n",
       "15 MAG   MSC   BOT   LAT   PER        \n",
       "16 MSC   MAG   BOT   PER   LAT        \n",
       "17 MSC   MAG   BOT   PER   LAT        \n",
       "18 MSC   BOT   MAG   PER   LAT        \n",
       "19 PER   GAS   ZHO   STR   LAT        \n",
       "20 ZHO   OCO   STR   TSU   LAT        \n",
       "21 ZHO   OCO   TSU   STR   LAT        \n",
       "22 ZHO   OCO   TSU   STR   LAT        \n",
       "23 ZHO   OCO   TSU   STR   LAT        \n",
       "24 ZHO   OCO   TSU   LAT   STR        \n",
       "25 OCO   TSU   LAT   STR   MAG        \n",
       "26 OCO   TSU   LAT   STR   MAG        \n",
       "27 OCO   TSU   LAT   STR   MAG        \n",
       "28 OCO   TSU   LAT   STR   MAG        \n",
       "29 OCO   TSU   LAT   STR   MAG        \n",
       "30 OCO   TSU   LAT   STR   MAG        \n",
       "31 OCO   TSU   LAT   STR   MAG        \n",
       "32 TSU   LAT   STR   MAG              \n",
       "33 TSU   LAT   STR   MAG              \n",
       "34 LAT   STR   MSC   MAG              \n",
       "35 LAT   MSC   STR   MAG              \n",
       "36 MSC   STR   BOT   MAG              \n",
       "37 MSC   BOT   STR   MAG              \n",
       "38 MSC   BOT   STR   MAG              \n",
       "39 MSC   BOT   STR   MAG              \n",
       "40 MSC   BOT   MAG                    \n",
       "41 LAT   BOT   MAG                    \n",
       "42 BOT   LAT   MAG                    \n",
       "43 BOT   LAT   MAG                    \n",
       "44 BOT   LAT   MAG                    \n",
       "45 BOT   LAT   MAG                    \n",
       "46 LAT   MAG                          \n",
       "47 LAT   MAG                          \n",
       "48 LAT   MAG                          \n",
       "49 LAT   MAG                          \n",
       "50 LAT   MAG                          \n",
       "51 LAT   MAG                          \n",
       "52 LAT   MAG                          \n",
       "53                                    "
      ]
     },
     "metadata": {},
     "output_type": "display_data"
    }
   ],
   "source": [
    "scores_df_header"
   ]
  },
  {
   "cell_type": "code",
   "execution_count": 21,
   "id": "34d4bf8c",
   "metadata": {
    "vscode": {
     "languageId": "r"
    }
   },
   "outputs": [
    {
     "name": "stderr",
     "output_type": "stream",
     "text": [
      "The following `from` values were not present in `x`: RUS, NOR, RIC, GAS, ALO, DEV, ZHO, LAT, VET, STR, PER, OCO, BOT, MAG, MSC, SAI, HAM, TSU\n",
      "\n",
      "The following `from` values were not present in `x`: RUS, NOR, RIC, GAS, ALO, DEV, ZHO, LAT, VET, STR, PER, OCO, BOT, MAG, MSC, SAI, HAM, TSU\n",
      "\n",
      "The following `from` values were not present in `x`: RUS, NOR, RIC, GAS, ALO, DEV, ZHO, LAT, VET, STR, PER, OCO, BOT, MAG, MSC, SAI, HAM, TSU\n",
      "\n",
      "The following `from` values were not present in `x`: RUS, NOR, RIC, GAS, ALO, DEV, ZHO, LAT, VET, STR, PER, OCO, BOT, MAG, MSC, SAI, HAM, TSU\n",
      "\n",
      "The following `from` values were not present in `x`: RUS, NOR, RIC, GAS, ALO, DEV, ZHO, LAT, VET, STR, PER, OCO, BOT, MAG, MSC, SAI, HAM, TSU\n",
      "\n",
      "The following `from` values were not present in `x`: RUS, NOR, RIC, GAS, ALO, DEV, ZHO, LAT, VET, STR, PER, OCO, BOT, MAG, MSC, SAI, HAM, TSU\n",
      "\n",
      "The following `from` values were not present in `x`: RUS, NOR, RIC, GAS, ALO, DEV, ZHO, LAT, VET, STR, PER, OCO, BOT, MAG, MSC, SAI, HAM, TSU\n",
      "\n",
      "The following `from` values were not present in `x`: RUS, NOR, RIC, GAS, ALO, DEV, ZHO, LAT, VET, STR, PER, OCO, BOT, MAG, MSC, SAI, HAM, TSU\n",
      "\n",
      "The following `from` values were not present in `x`: RUS, NOR, RIC, GAS, ALO, DEV, ZHO, LAT, VET, STR, PER, OCO, BOT, MAG, MSC, SAI, HAM, TSU\n",
      "\n",
      "The following `from` values were not present in `x`: RUS, NOR, RIC, GAS, ALO, DEV, ZHO, LAT, VET, STR, PER, OCO, BOT, MAG, MSC, SAI, HAM, TSU\n",
      "\n",
      "The following `from` values were not present in `x`: RUS, NOR, RIC, GAS, ALO, DEV, ZHO, LAT, VET, STR, PER, OCO, BOT, MAG, MSC, SAI, HAM, TSU\n",
      "\n",
      "The following `from` values were not present in `x`: RUS, NOR, RIC, GAS, ALO, DEV, ZHO, LAT, VET, STR, PER, OCO, BOT, MAG, MSC, SAI, HAM, TSU\n",
      "\n",
      "The following `from` values were not present in `x`: RUS, NOR, RIC, GAS, ALO, DEV, ZHO, LAT, VET, STR, PER, OCO, BOT, MAG, MSC, SAI, HAM, TSU\n",
      "\n",
      "The following `from` values were not present in `x`: RUS, NOR, RIC, GAS, ALO, DEV, ZHO, LAT, VET, STR, PER, OCO, BOT, MAG, MSC, SAI, HAM, TSU\n",
      "\n",
      "The following `from` values were not present in `x`: RUS, NOR, RIC, GAS, ALO, DEV, ZHO, LAT, VET, STR, PER, OCO, BOT, MAG, MSC, SAI, HAM, TSU\n",
      "\n",
      "The following `from` values were not present in `x`: RUS, NOR, RIC, GAS, ALO, DEV, ZHO, LAT, VET, STR, PER, OCO, BOT, MAG, MSC, SAI, HAM, TSU\n",
      "\n",
      "The following `from` values were not present in `x`: RUS, NOR, RIC, GAS, ALO, DEV, ZHO, LAT, VET, STR, PER, OCO, BOT, MAG, MSC, SAI, HAM, TSU\n",
      "\n",
      "The following `from` values were not present in `x`: RUS, NOR, RIC, GAS, ALO, DEV, ZHO, LAT, VET, STR, PER, OCO, BOT, MAG, MSC, SAI, HAM, TSU\n",
      "\n",
      "The following `from` values were not present in `x`: RUS, NOR, RIC, GAS, ALO, DEV, ZHO, LAT, VET, STR, PER, OCO, BOT, MAG, MSC, SAI, HAM, TSU\n",
      "\n",
      "The following `from` values were not present in `x`: RUS, NOR, RIC, GAS, ALO, DEV, ZHO, LAT, VET, STR, PER, OCO, BOT, MAG, MSC, SAI, HAM, TSU\n",
      "\n"
     ]
    }
   ],
   "source": [
    "item = ''\n",
    "for (item in namespos){\n",
    "a <- scores_df_header %>% pull(LEC1)\n",
    "a <- mapvalues(scores_df_header$LEC1, from = names, to=names_pos)\n",
    "}"
   ]
  },
  {
   "cell_type": "code",
   "execution_count": 22,
   "id": "231c0d85",
   "metadata": {
    "vscode": {
     "languageId": "r"
    }
   },
   "outputs": [
    {
     "data": {
      "text/html": [
       "<style>\n",
       ".list-inline {list-style: none; margin:0; padding: 0}\n",
       ".list-inline>li {display: inline-block}\n",
       ".list-inline>li:not(:last-child)::after {content: \"\\00b7\"; padding: 0 .5ex}\n",
       "</style>\n",
       "<ol class=list-inline><li>'LEC'</li><li>'RUS'</li><li>'NOR'</li><li>'RIC'</li><li>'GAS'</li><li>'ALO'</li><li>'VER'</li><li>'DEV'</li><li>'ZHO'</li><li>'LAT'</li><li>'VET'</li><li>'STR'</li><li>'PER'</li><li>'OCO'</li><li>'BOT'</li><li>'MAG'</li><li>'MSC'</li><li>'SAI'</li><li>'HAM'</li><li>'TSU'</li></ol>\n"
      ],
      "text/latex": [
       "\\begin{enumerate*}\n",
       "\\item 'LEC'\n",
       "\\item 'RUS'\n",
       "\\item 'NOR'\n",
       "\\item 'RIC'\n",
       "\\item 'GAS'\n",
       "\\item 'ALO'\n",
       "\\item 'VER'\n",
       "\\item 'DEV'\n",
       "\\item 'ZHO'\n",
       "\\item 'LAT'\n",
       "\\item 'VET'\n",
       "\\item 'STR'\n",
       "\\item 'PER'\n",
       "\\item 'OCO'\n",
       "\\item 'BOT'\n",
       "\\item 'MAG'\n",
       "\\item 'MSC'\n",
       "\\item 'SAI'\n",
       "\\item 'HAM'\n",
       "\\item 'TSU'\n",
       "\\end{enumerate*}\n"
      ],
      "text/markdown": [
       "1. 'LEC'\n",
       "2. 'RUS'\n",
       "3. 'NOR'\n",
       "4. 'RIC'\n",
       "5. 'GAS'\n",
       "6. 'ALO'\n",
       "7. 'VER'\n",
       "8. 'DEV'\n",
       "9. 'ZHO'\n",
       "10. 'LAT'\n",
       "11. 'VET'\n",
       "12. 'STR'\n",
       "13. 'PER'\n",
       "14. 'OCO'\n",
       "15. 'BOT'\n",
       "16. 'MAG'\n",
       "17. 'MSC'\n",
       "18. 'SAI'\n",
       "19. 'HAM'\n",
       "20. 'TSU'\n",
       "\n",
       "\n"
      ],
      "text/plain": [
       " [1] \"LEC\" \"RUS\" \"NOR\" \"RIC\" \"GAS\" \"ALO\" \"VER\" \"DEV\" \"ZHO\" \"LAT\" \"VET\" \"STR\"\n",
       "[13] \"PER\" \"OCO\" \"BOT\" \"MAG\" \"MSC\" \"SAI\" \"HAM\" \"TSU\""
      ]
     },
     "metadata": {},
     "output_type": "display_data"
    }
   ],
   "source": [
    "names"
   ]
  },
  {
   "cell_type": "code",
   "execution_count": 23,
   "id": "51ff93fe",
   "metadata": {
    "vscode": {
     "languageId": "r"
    }
   },
   "outputs": [
    {
     "name": "stderr",
     "output_type": "stream",
     "text": [
      "Warning message:\n",
      "\"Unknown or uninitialised column: `item`.\"\n"
     ]
    },
    {
     "data": {
      "text/plain": [
       "NULL"
      ]
     },
     "metadata": {},
     "output_type": "display_data"
    }
   ],
   "source": [
    "item <- 'LEC1'\n",
    "scores_df_header$item"
   ]
  },
  {
   "cell_type": "code",
   "execution_count": 131,
   "id": "24a95834",
   "metadata": {
    "vscode": {
     "languageId": "r"
    }
   },
   "outputs": [],
   "source": [
    "item <- \"LEC1\""
   ]
  },
  {
   "cell_type": "code",
   "execution_count": 133,
   "id": "ab1353db",
   "metadata": {
    "vscode": {
     "languageId": "r"
    }
   },
   "outputs": [
    {
     "data": {
      "text/html": [
       "<table class=\"dataframe\">\n",
       "<caption>A tibble: 53 × 1</caption>\n",
       "<thead>\n",
       "\t<tr><th scope=col>LEC1</th></tr>\n",
       "\t<tr><th scope=col>&lt;chr&gt;</th></tr>\n",
       "</thead>\n",
       "<tbody>\n",
       "\t<tr><td>LEC</td></tr>\n",
       "\t<tr><td>LEC</td></tr>\n",
       "\t<tr><td>LEC</td></tr>\n",
       "\t<tr><td>LEC</td></tr>\n",
       "\t<tr><td>LEC</td></tr>\n",
       "\t<tr><td>LEC</td></tr>\n",
       "\t<tr><td>LEC</td></tr>\n",
       "\t<tr><td>LEC</td></tr>\n",
       "\t<tr><td>LEC</td></tr>\n",
       "\t<tr><td>LEC</td></tr>\n",
       "\t<tr><td>LEC</td></tr>\n",
       "\t<tr><td>VER</td></tr>\n",
       "\t<tr><td>VER</td></tr>\n",
       "\t<tr><td>VER</td></tr>\n",
       "\t<tr><td>VER</td></tr>\n",
       "\t<tr><td>VER</td></tr>\n",
       "\t<tr><td>VER</td></tr>\n",
       "\t<tr><td>VER</td></tr>\n",
       "\t<tr><td>VER</td></tr>\n",
       "\t<tr><td>VER</td></tr>\n",
       "\t<tr><td>VER</td></tr>\n",
       "\t<tr><td>VER</td></tr>\n",
       "\t<tr><td>VER</td></tr>\n",
       "\t<tr><td>VER</td></tr>\n",
       "\t<tr><td>VER</td></tr>\n",
       "\t<tr><td>LEC</td></tr>\n",
       "\t<tr><td>LEC</td></tr>\n",
       "\t<tr><td>LEC</td></tr>\n",
       "\t<tr><td>LEC</td></tr>\n",
       "\t<tr><td>LEC</td></tr>\n",
       "\t<tr><td>LEC</td></tr>\n",
       "\t<tr><td>LEC</td></tr>\n",
       "\t<tr><td>LEC</td></tr>\n",
       "\t<tr><td>VER</td></tr>\n",
       "\t<tr><td>VER</td></tr>\n",
       "\t<tr><td>VER</td></tr>\n",
       "\t<tr><td>VER</td></tr>\n",
       "\t<tr><td>VER</td></tr>\n",
       "\t<tr><td>VER</td></tr>\n",
       "\t<tr><td>VER</td></tr>\n",
       "\t<tr><td>VER</td></tr>\n",
       "\t<tr><td>VER</td></tr>\n",
       "\t<tr><td>VER</td></tr>\n",
       "\t<tr><td>VER</td></tr>\n",
       "\t<tr><td>VER</td></tr>\n",
       "\t<tr><td>VER</td></tr>\n",
       "\t<tr><td>VER</td></tr>\n",
       "\t<tr><td>VER</td></tr>\n",
       "\t<tr><td>VER</td></tr>\n",
       "\t<tr><td>VER</td></tr>\n",
       "\t<tr><td>VER</td></tr>\n",
       "\t<tr><td>VER</td></tr>\n",
       "\t<tr><td>VER</td></tr>\n",
       "</tbody>\n",
       "</table>\n"
      ],
      "text/latex": [
       "A tibble: 53 × 1\n",
       "\\begin{tabular}{l}\n",
       " LEC1\\\\\n",
       " <chr>\\\\\n",
       "\\hline\n",
       "\t LEC\\\\\n",
       "\t LEC\\\\\n",
       "\t LEC\\\\\n",
       "\t LEC\\\\\n",
       "\t LEC\\\\\n",
       "\t LEC\\\\\n",
       "\t LEC\\\\\n",
       "\t LEC\\\\\n",
       "\t LEC\\\\\n",
       "\t LEC\\\\\n",
       "\t LEC\\\\\n",
       "\t VER\\\\\n",
       "\t VER\\\\\n",
       "\t VER\\\\\n",
       "\t VER\\\\\n",
       "\t VER\\\\\n",
       "\t VER\\\\\n",
       "\t VER\\\\\n",
       "\t VER\\\\\n",
       "\t VER\\\\\n",
       "\t VER\\\\\n",
       "\t VER\\\\\n",
       "\t VER\\\\\n",
       "\t VER\\\\\n",
       "\t VER\\\\\n",
       "\t LEC\\\\\n",
       "\t LEC\\\\\n",
       "\t LEC\\\\\n",
       "\t LEC\\\\\n",
       "\t LEC\\\\\n",
       "\t LEC\\\\\n",
       "\t LEC\\\\\n",
       "\t LEC\\\\\n",
       "\t VER\\\\\n",
       "\t VER\\\\\n",
       "\t VER\\\\\n",
       "\t VER\\\\\n",
       "\t VER\\\\\n",
       "\t VER\\\\\n",
       "\t VER\\\\\n",
       "\t VER\\\\\n",
       "\t VER\\\\\n",
       "\t VER\\\\\n",
       "\t VER\\\\\n",
       "\t VER\\\\\n",
       "\t VER\\\\\n",
       "\t VER\\\\\n",
       "\t VER\\\\\n",
       "\t VER\\\\\n",
       "\t VER\\\\\n",
       "\t VER\\\\\n",
       "\t VER\\\\\n",
       "\t VER\\\\\n",
       "\\end{tabular}\n"
      ],
      "text/markdown": [
       "\n",
       "A tibble: 53 × 1\n",
       "\n",
       "| LEC1 &lt;chr&gt; |\n",
       "|---|\n",
       "| LEC |\n",
       "| LEC |\n",
       "| LEC |\n",
       "| LEC |\n",
       "| LEC |\n",
       "| LEC |\n",
       "| LEC |\n",
       "| LEC |\n",
       "| LEC |\n",
       "| LEC |\n",
       "| LEC |\n",
       "| VER |\n",
       "| VER |\n",
       "| VER |\n",
       "| VER |\n",
       "| VER |\n",
       "| VER |\n",
       "| VER |\n",
       "| VER |\n",
       "| VER |\n",
       "| VER |\n",
       "| VER |\n",
       "| VER |\n",
       "| VER |\n",
       "| VER |\n",
       "| LEC |\n",
       "| LEC |\n",
       "| LEC |\n",
       "| LEC |\n",
       "| LEC |\n",
       "| LEC |\n",
       "| LEC |\n",
       "| LEC |\n",
       "| VER |\n",
       "| VER |\n",
       "| VER |\n",
       "| VER |\n",
       "| VER |\n",
       "| VER |\n",
       "| VER |\n",
       "| VER |\n",
       "| VER |\n",
       "| VER |\n",
       "| VER |\n",
       "| VER |\n",
       "| VER |\n",
       "| VER |\n",
       "| VER |\n",
       "| VER |\n",
       "| VER |\n",
       "| VER |\n",
       "| VER |\n",
       "| VER |\n",
       "\n"
      ],
      "text/plain": [
       "   LEC1\n",
       "1  LEC \n",
       "2  LEC \n",
       "3  LEC \n",
       "4  LEC \n",
       "5  LEC \n",
       "6  LEC \n",
       "7  LEC \n",
       "8  LEC \n",
       "9  LEC \n",
       "10 LEC \n",
       "11 LEC \n",
       "12 VER \n",
       "13 VER \n",
       "14 VER \n",
       "15 VER \n",
       "16 VER \n",
       "17 VER \n",
       "18 VER \n",
       "19 VER \n",
       "20 VER \n",
       "21 VER \n",
       "22 VER \n",
       "23 VER \n",
       "24 VER \n",
       "25 VER \n",
       "26 LEC \n",
       "27 LEC \n",
       "28 LEC \n",
       "29 LEC \n",
       "30 LEC \n",
       "31 LEC \n",
       "32 LEC \n",
       "33 LEC \n",
       "34 VER \n",
       "35 VER \n",
       "36 VER \n",
       "37 VER \n",
       "38 VER \n",
       "39 VER \n",
       "40 VER \n",
       "41 VER \n",
       "42 VER \n",
       "43 VER \n",
       "44 VER \n",
       "45 VER \n",
       "46 VER \n",
       "47 VER \n",
       "48 VER \n",
       "49 VER \n",
       "50 VER \n",
       "51 VER \n",
       "52 VER \n",
       "53 VER "
      ]
     },
     "metadata": {},
     "output_type": "display_data"
    }
   ],
   "source": [
    "collect(select(scores_df_header, LEC1))[, 1]"
   ]
  },
  {
   "cell_type": "code",
   "execution_count": 510,
   "id": "32786204",
   "metadata": {
    "vscode": {
     "languageId": "r"
    }
   },
   "outputs": [],
   "source": [
    "a <- scores_df_header %>% pull(LEC1)"
   ]
  },
  {
   "cell_type": "code",
   "execution_count": 511,
   "id": "d36f864f",
   "metadata": {
    "vscode": {
     "languageId": "r"
    }
   },
   "outputs": [],
   "source": [
    "a <- scores_df_header %>% pull(LEC1)"
   ]
  },
  {
   "cell_type": "code",
   "execution_count": 512,
   "id": "30837072",
   "metadata": {
    "vscode": {
     "languageId": "r"
    }
   },
   "outputs": [
    {
     "data": {
      "text/html": [
       "<style>\n",
       ".list-inline {list-style: none; margin:0; padding: 0}\n",
       ".list-inline>li {display: inline-block}\n",
       ".list-inline>li:not(:last-child)::after {content: \"\\00b7\"; padding: 0 .5ex}\n",
       "</style>\n",
       "<ol class=list-inline><li>'LEC'</li><li>'LEC'</li><li>'LEC'</li><li>'LEC'</li><li>'LEC'</li><li>'LEC'</li><li>'LEC'</li><li>'LEC'</li><li>'LEC'</li><li>'LEC'</li><li>'LEC'</li><li>'VER'</li><li>'VER'</li><li>'VER'</li><li>'VER'</li><li>'VER'</li><li>'VER'</li><li>'VER'</li><li>'VER'</li><li>'VER'</li><li>'VER'</li><li>'VER'</li><li>'VER'</li><li>'VER'</li><li>'VER'</li><li>'LEC'</li><li>'LEC'</li><li>'LEC'</li><li>'LEC'</li><li>'LEC'</li><li>'LEC'</li><li>'LEC'</li><li>'LEC'</li><li>'VER'</li><li>'VER'</li><li>'VER'</li><li>'VER'</li><li>'VER'</li><li>'VER'</li><li>'VER'</li><li>'VER'</li><li>'VER'</li><li>'VER'</li><li>'VER'</li><li>'VER'</li><li>'VER'</li><li>'VER'</li><li>'VER'</li><li>'VER'</li><li>'VER'</li><li>'VER'</li><li>'VER'</li><li>'VER'</li></ol>\n"
      ],
      "text/latex": [
       "\\begin{enumerate*}\n",
       "\\item 'LEC'\n",
       "\\item 'LEC'\n",
       "\\item 'LEC'\n",
       "\\item 'LEC'\n",
       "\\item 'LEC'\n",
       "\\item 'LEC'\n",
       "\\item 'LEC'\n",
       "\\item 'LEC'\n",
       "\\item 'LEC'\n",
       "\\item 'LEC'\n",
       "\\item 'LEC'\n",
       "\\item 'VER'\n",
       "\\item 'VER'\n",
       "\\item 'VER'\n",
       "\\item 'VER'\n",
       "\\item 'VER'\n",
       "\\item 'VER'\n",
       "\\item 'VER'\n",
       "\\item 'VER'\n",
       "\\item 'VER'\n",
       "\\item 'VER'\n",
       "\\item 'VER'\n",
       "\\item 'VER'\n",
       "\\item 'VER'\n",
       "\\item 'VER'\n",
       "\\item 'LEC'\n",
       "\\item 'LEC'\n",
       "\\item 'LEC'\n",
       "\\item 'LEC'\n",
       "\\item 'LEC'\n",
       "\\item 'LEC'\n",
       "\\item 'LEC'\n",
       "\\item 'LEC'\n",
       "\\item 'VER'\n",
       "\\item 'VER'\n",
       "\\item 'VER'\n",
       "\\item 'VER'\n",
       "\\item 'VER'\n",
       "\\item 'VER'\n",
       "\\item 'VER'\n",
       "\\item 'VER'\n",
       "\\item 'VER'\n",
       "\\item 'VER'\n",
       "\\item 'VER'\n",
       "\\item 'VER'\n",
       "\\item 'VER'\n",
       "\\item 'VER'\n",
       "\\item 'VER'\n",
       "\\item 'VER'\n",
       "\\item 'VER'\n",
       "\\item 'VER'\n",
       "\\item 'VER'\n",
       "\\item 'VER'\n",
       "\\end{enumerate*}\n"
      ],
      "text/markdown": [
       "1. 'LEC'\n",
       "2. 'LEC'\n",
       "3. 'LEC'\n",
       "4. 'LEC'\n",
       "5. 'LEC'\n",
       "6. 'LEC'\n",
       "7. 'LEC'\n",
       "8. 'LEC'\n",
       "9. 'LEC'\n",
       "10. 'LEC'\n",
       "11. 'LEC'\n",
       "12. 'VER'\n",
       "13. 'VER'\n",
       "14. 'VER'\n",
       "15. 'VER'\n",
       "16. 'VER'\n",
       "17. 'VER'\n",
       "18. 'VER'\n",
       "19. 'VER'\n",
       "20. 'VER'\n",
       "21. 'VER'\n",
       "22. 'VER'\n",
       "23. 'VER'\n",
       "24. 'VER'\n",
       "25. 'VER'\n",
       "26. 'LEC'\n",
       "27. 'LEC'\n",
       "28. 'LEC'\n",
       "29. 'LEC'\n",
       "30. 'LEC'\n",
       "31. 'LEC'\n",
       "32. 'LEC'\n",
       "33. 'LEC'\n",
       "34. 'VER'\n",
       "35. 'VER'\n",
       "36. 'VER'\n",
       "37. 'VER'\n",
       "38. 'VER'\n",
       "39. 'VER'\n",
       "40. 'VER'\n",
       "41. 'VER'\n",
       "42. 'VER'\n",
       "43. 'VER'\n",
       "44. 'VER'\n",
       "45. 'VER'\n",
       "46. 'VER'\n",
       "47. 'VER'\n",
       "48. 'VER'\n",
       "49. 'VER'\n",
       "50. 'VER'\n",
       "51. 'VER'\n",
       "52. 'VER'\n",
       "53. 'VER'\n",
       "\n",
       "\n"
      ],
      "text/plain": [
       " [1] \"LEC\" \"LEC\" \"LEC\" \"LEC\" \"LEC\" \"LEC\" \"LEC\" \"LEC\" \"LEC\" \"LEC\" \"LEC\" \"VER\"\n",
       "[13] \"VER\" \"VER\" \"VER\" \"VER\" \"VER\" \"VER\" \"VER\" \"VER\" \"VER\" \"VER\" \"VER\" \"VER\"\n",
       "[25] \"VER\" \"LEC\" \"LEC\" \"LEC\" \"LEC\" \"LEC\" \"LEC\" \"LEC\" \"LEC\" \"VER\" \"VER\" \"VER\"\n",
       "[37] \"VER\" \"VER\" \"VER\" \"VER\" \"VER\" \"VER\" \"VER\" \"VER\" \"VER\" \"VER\" \"VER\" \"VER\"\n",
       "[49] \"VER\" \"VER\" \"VER\" \"VER\" \"VER\""
      ]
     },
     "metadata": {},
     "output_type": "display_data"
    }
   ],
   "source": [
    "a"
   ]
  },
  {
   "cell_type": "code",
   "execution_count": 513,
   "id": "c90dcf9c",
   "metadata": {
    "vscode": {
     "languageId": "r"
    }
   },
   "outputs": [
    {
     "name": "stderr",
     "output_type": "stream",
     "text": [
      "The following `from` values were not present in `x`: RUS, NOR, RIC, GAS, ALO, DEV, ZHO, LAT, VET, STR, PER, OCO, BOT, MAG, MSC, SAI, HAM, TSU\n",
      "\n"
     ]
    }
   ],
   "source": [
    "a <- mapvalues(a, from = names, to= names_pos)"
   ]
  },
  {
   "cell_type": "code",
   "execution_count": 514,
   "id": "0dbb48f7",
   "metadata": {
    "vscode": {
     "languageId": "r"
    }
   },
   "outputs": [
    {
     "data": {
      "text/html": [
       "<style>\n",
       ".list-inline {list-style: none; margin:0; padding: 0}\n",
       ".list-inline>li {display: inline-block}\n",
       ".list-inline>li:not(:last-child)::after {content: \"\\00b7\"; padding: 0 .5ex}\n",
       "</style>\n",
       "<ol class=list-inline><li>'1'</li><li>'1'</li><li>'1'</li><li>'1'</li><li>'1'</li><li>'1'</li><li>'1'</li><li>'1'</li><li>'1'</li><li>'1'</li><li>'1'</li><li>'7'</li><li>'7'</li><li>'7'</li><li>'7'</li><li>'7'</li><li>'7'</li><li>'7'</li><li>'7'</li><li>'7'</li><li>'7'</li><li>'7'</li><li>'7'</li><li>'7'</li><li>'7'</li><li>'1'</li><li>'1'</li><li>'1'</li><li>'1'</li><li>'1'</li><li>'1'</li><li>'1'</li><li>'1'</li><li>'7'</li><li>'7'</li><li>'7'</li><li>'7'</li><li>'7'</li><li>'7'</li><li>'7'</li><li>'7'</li><li>'7'</li><li>'7'</li><li>'7'</li><li>'7'</li><li>'7'</li><li>'7'</li><li>'7'</li><li>'7'</li><li>'7'</li><li>'7'</li><li>'7'</li><li>'7'</li></ol>\n"
      ],
      "text/latex": [
       "\\begin{enumerate*}\n",
       "\\item '1'\n",
       "\\item '1'\n",
       "\\item '1'\n",
       "\\item '1'\n",
       "\\item '1'\n",
       "\\item '1'\n",
       "\\item '1'\n",
       "\\item '1'\n",
       "\\item '1'\n",
       "\\item '1'\n",
       "\\item '1'\n",
       "\\item '7'\n",
       "\\item '7'\n",
       "\\item '7'\n",
       "\\item '7'\n",
       "\\item '7'\n",
       "\\item '7'\n",
       "\\item '7'\n",
       "\\item '7'\n",
       "\\item '7'\n",
       "\\item '7'\n",
       "\\item '7'\n",
       "\\item '7'\n",
       "\\item '7'\n",
       "\\item '7'\n",
       "\\item '1'\n",
       "\\item '1'\n",
       "\\item '1'\n",
       "\\item '1'\n",
       "\\item '1'\n",
       "\\item '1'\n",
       "\\item '1'\n",
       "\\item '1'\n",
       "\\item '7'\n",
       "\\item '7'\n",
       "\\item '7'\n",
       "\\item '7'\n",
       "\\item '7'\n",
       "\\item '7'\n",
       "\\item '7'\n",
       "\\item '7'\n",
       "\\item '7'\n",
       "\\item '7'\n",
       "\\item '7'\n",
       "\\item '7'\n",
       "\\item '7'\n",
       "\\item '7'\n",
       "\\item '7'\n",
       "\\item '7'\n",
       "\\item '7'\n",
       "\\item '7'\n",
       "\\item '7'\n",
       "\\item '7'\n",
       "\\end{enumerate*}\n"
      ],
      "text/markdown": [
       "1. '1'\n",
       "2. '1'\n",
       "3. '1'\n",
       "4. '1'\n",
       "5. '1'\n",
       "6. '1'\n",
       "7. '1'\n",
       "8. '1'\n",
       "9. '1'\n",
       "10. '1'\n",
       "11. '1'\n",
       "12. '7'\n",
       "13. '7'\n",
       "14. '7'\n",
       "15. '7'\n",
       "16. '7'\n",
       "17. '7'\n",
       "18. '7'\n",
       "19. '7'\n",
       "20. '7'\n",
       "21. '7'\n",
       "22. '7'\n",
       "23. '7'\n",
       "24. '7'\n",
       "25. '7'\n",
       "26. '1'\n",
       "27. '1'\n",
       "28. '1'\n",
       "29. '1'\n",
       "30. '1'\n",
       "31. '1'\n",
       "32. '1'\n",
       "33. '1'\n",
       "34. '7'\n",
       "35. '7'\n",
       "36. '7'\n",
       "37. '7'\n",
       "38. '7'\n",
       "39. '7'\n",
       "40. '7'\n",
       "41. '7'\n",
       "42. '7'\n",
       "43. '7'\n",
       "44. '7'\n",
       "45. '7'\n",
       "46. '7'\n",
       "47. '7'\n",
       "48. '7'\n",
       "49. '7'\n",
       "50. '7'\n",
       "51. '7'\n",
       "52. '7'\n",
       "53. '7'\n",
       "\n",
       "\n"
      ],
      "text/plain": [
       " [1] \"1\" \"1\" \"1\" \"1\" \"1\" \"1\" \"1\" \"1\" \"1\" \"1\" \"1\" \"7\" \"7\" \"7\" \"7\" \"7\" \"7\" \"7\" \"7\"\n",
       "[20] \"7\" \"7\" \"7\" \"7\" \"7\" \"7\" \"1\" \"1\" \"1\" \"1\" \"1\" \"1\" \"1\" \"1\" \"7\" \"7\" \"7\" \"7\" \"7\"\n",
       "[39] \"7\" \"7\" \"7\" \"7\" \"7\" \"7\" \"7\" \"7\" \"7\" \"7\" \"7\" \"7\" \"7\" \"7\" \"7\""
      ]
     },
     "metadata": {},
     "output_type": "display_data"
    }
   ],
   "source": [
    "a"
   ]
  },
  {
   "cell_type": "code",
   "execution_count": 25,
   "id": "647a80b5",
   "metadata": {
    "vscode": {
     "languageId": "r"
    }
   },
   "outputs": [
    {
     "data": {
      "text/html": [
       "<table class=\"dataframe\">\n",
       "<caption>A tibble: 6 × 21</caption>\n",
       "<thead>\n",
       "\t<tr><th scope=col></th><th scope=col>LEC1</th><th scope=col>RUS2</th><th scope=col>NOR3</th><th scope=col>RIC4</th><th scope=col>GAS5</th><th scope=col>ALO6</th><th scope=col>VER7</th><th scope=col>DEV8</th><th scope=col>ZHO9</th><th scope=col>⋯</th><th scope=col>VET11</th><th scope=col>STR12</th><th scope=col>PER13</th><th scope=col>OCO14</th><th scope=col>BOT15</th><th scope=col>MAG16</th><th scope=col>MSC17</th><th scope=col>SAI18</th><th scope=col>HAM19</th><th scope=col>TSU20</th></tr>\n",
       "\t<tr><th scope=col>&lt;int&gt;</th><th scope=col>&lt;chr&gt;</th><th scope=col>&lt;chr&gt;</th><th scope=col>&lt;chr&gt;</th><th scope=col>&lt;chr&gt;</th><th scope=col>&lt;chr&gt;</th><th scope=col>&lt;chr&gt;</th><th scope=col>&lt;chr&gt;</th><th scope=col>&lt;chr&gt;</th><th scope=col>&lt;chr&gt;</th><th scope=col>⋯</th><th scope=col>&lt;chr&gt;</th><th scope=col>&lt;chr&gt;</th><th scope=col>&lt;chr&gt;</th><th scope=col>&lt;chr&gt;</th><th scope=col>&lt;chr&gt;</th><th scope=col>&lt;chr&gt;</th><th scope=col>&lt;chr&gt;</th><th scope=col>&lt;chr&gt;</th><th scope=col>&lt;chr&gt;</th><th scope=col>&lt;chr&gt;</th></tr>\n",
       "</thead>\n",
       "<tbody>\n",
       "\t<tr><td>1</td><td>LEC</td><td>RUS</td><td>RIC</td><td>VER</td><td>GAS</td><td>NOR</td><td>ALO</td><td>DEV</td><td>ZHO</td><td>⋯</td><td>STR</td><td>MAG</td><td>OCO</td><td>LAT</td><td>PER</td><td>SAI</td><td>MSC</td><td>TSU</td><td>HAM</td><td>BOT</td></tr>\n",
       "\t<tr><td>2</td><td>LEC</td><td>RUS</td><td>VER</td><td>RIC</td><td>GAS</td><td>NOR</td><td>ALO</td><td>DEV</td><td>ZHO</td><td>⋯</td><td>VET</td><td>OCO</td><td>MAG</td><td>SAI</td><td>LAT</td><td>PER</td><td>TSU</td><td>HAM</td><td>MSC</td><td>BOT</td></tr>\n",
       "\t<tr><td>3</td><td>LEC</td><td>RUS</td><td>VER</td><td>RIC</td><td>GAS</td><td>NOR</td><td>ALO</td><td>DEV</td><td>ZHO</td><td>⋯</td><td>VET</td><td>OCO</td><td>MAG</td><td>SAI</td><td>PER</td><td>LAT</td><td>TSU</td><td>HAM</td><td>MSC</td><td>BOT</td></tr>\n",
       "\t<tr><td>4</td><td>LEC</td><td>RUS</td><td>VER</td><td>RIC</td><td>GAS</td><td>NOR</td><td>ALO</td><td>DEV</td><td>ZHO</td><td>⋯</td><td>VET</td><td>OCO</td><td>SAI</td><td>PER</td><td>MAG</td><td>LAT</td><td>TSU</td><td>HAM</td><td>MSC</td><td>BOT</td></tr>\n",
       "\t<tr><td>5</td><td>LEC</td><td>VER</td><td>RUS</td><td>RIC</td><td>GAS</td><td>NOR</td><td>ALO</td><td>DEV</td><td>ZHO</td><td>⋯</td><td>SAI</td><td>VET</td><td>OCO</td><td>PER</td><td>MAG</td><td>LAT</td><td>TSU</td><td>HAM</td><td>MSC</td><td>BOT</td></tr>\n",
       "\t<tr><td>6</td><td>LEC</td><td>VER</td><td>RUS</td><td>RIC</td><td>GAS</td><td>NOR</td><td>ALO</td><td>DEV</td><td>ZHO</td><td>⋯</td><td>STR</td><td>VET</td><td>PER</td><td>OCO</td><td>MAG</td><td>LAT</td><td>TSU</td><td>HAM</td><td>MSC</td><td>BOT</td></tr>\n",
       "</tbody>\n",
       "</table>\n"
      ],
      "text/latex": [
       "A tibble: 6 × 21\n",
       "\\begin{tabular}{lllllllllllllllllllll}\n",
       "  & LEC1 & RUS2 & NOR3 & RIC4 & GAS5 & ALO6 & VER7 & DEV8 & ZHO9 & ⋯ & VET11 & STR12 & PER13 & OCO14 & BOT15 & MAG16 & MSC17 & SAI18 & HAM19 & TSU20\\\\\n",
       " <int> & <chr> & <chr> & <chr> & <chr> & <chr> & <chr> & <chr> & <chr> & <chr> & ⋯ & <chr> & <chr> & <chr> & <chr> & <chr> & <chr> & <chr> & <chr> & <chr> & <chr>\\\\\n",
       "\\hline\n",
       "\t 1 & LEC & RUS & RIC & VER & GAS & NOR & ALO & DEV & ZHO & ⋯ & STR & MAG & OCO & LAT & PER & SAI & MSC & TSU & HAM & BOT\\\\\n",
       "\t 2 & LEC & RUS & VER & RIC & GAS & NOR & ALO & DEV & ZHO & ⋯ & VET & OCO & MAG & SAI & LAT & PER & TSU & HAM & MSC & BOT\\\\\n",
       "\t 3 & LEC & RUS & VER & RIC & GAS & NOR & ALO & DEV & ZHO & ⋯ & VET & OCO & MAG & SAI & PER & LAT & TSU & HAM & MSC & BOT\\\\\n",
       "\t 4 & LEC & RUS & VER & RIC & GAS & NOR & ALO & DEV & ZHO & ⋯ & VET & OCO & SAI & PER & MAG & LAT & TSU & HAM & MSC & BOT\\\\\n",
       "\t 5 & LEC & VER & RUS & RIC & GAS & NOR & ALO & DEV & ZHO & ⋯ & SAI & VET & OCO & PER & MAG & LAT & TSU & HAM & MSC & BOT\\\\\n",
       "\t 6 & LEC & VER & RUS & RIC & GAS & NOR & ALO & DEV & ZHO & ⋯ & STR & VET & PER & OCO & MAG & LAT & TSU & HAM & MSC & BOT\\\\\n",
       "\\end{tabular}\n"
      ],
      "text/markdown": [
       "\n",
       "A tibble: 6 × 21\n",
       "\n",
       "| <!----> &lt;int&gt; | LEC1 &lt;chr&gt; | RUS2 &lt;chr&gt; | NOR3 &lt;chr&gt; | RIC4 &lt;chr&gt; | GAS5 &lt;chr&gt; | ALO6 &lt;chr&gt; | VER7 &lt;chr&gt; | DEV8 &lt;chr&gt; | ZHO9 &lt;chr&gt; | ⋯ ⋯ | VET11 &lt;chr&gt; | STR12 &lt;chr&gt; | PER13 &lt;chr&gt; | OCO14 &lt;chr&gt; | BOT15 &lt;chr&gt; | MAG16 &lt;chr&gt; | MSC17 &lt;chr&gt; | SAI18 &lt;chr&gt; | HAM19 &lt;chr&gt; | TSU20 &lt;chr&gt; |\n",
       "|---|---|---|---|---|---|---|---|---|---|---|---|---|---|---|---|---|---|---|---|---|\n",
       "| 1 | LEC | RUS | RIC | VER | GAS | NOR | ALO | DEV | ZHO | ⋯ | STR | MAG | OCO | LAT | PER | SAI | MSC | TSU | HAM | BOT |\n",
       "| 2 | LEC | RUS | VER | RIC | GAS | NOR | ALO | DEV | ZHO | ⋯ | VET | OCO | MAG | SAI | LAT | PER | TSU | HAM | MSC | BOT |\n",
       "| 3 | LEC | RUS | VER | RIC | GAS | NOR | ALO | DEV | ZHO | ⋯ | VET | OCO | MAG | SAI | PER | LAT | TSU | HAM | MSC | BOT |\n",
       "| 4 | LEC | RUS | VER | RIC | GAS | NOR | ALO | DEV | ZHO | ⋯ | VET | OCO | SAI | PER | MAG | LAT | TSU | HAM | MSC | BOT |\n",
       "| 5 | LEC | VER | RUS | RIC | GAS | NOR | ALO | DEV | ZHO | ⋯ | SAI | VET | OCO | PER | MAG | LAT | TSU | HAM | MSC | BOT |\n",
       "| 6 | LEC | VER | RUS | RIC | GAS | NOR | ALO | DEV | ZHO | ⋯ | STR | VET | PER | OCO | MAG | LAT | TSU | HAM | MSC | BOT |\n",
       "\n"
      ],
      "text/plain": [
       "    LEC1 RUS2 NOR3 RIC4 GAS5 ALO6 VER7 DEV8 ZHO9 <U+22EF>        VET11 STR12 PER13\n",
       "1 1 LEC  RUS  RIC  VER  GAS  NOR  ALO  DEV  ZHO  <U+22EF> STR   MAG   OCO  \n",
       "2 2 LEC  RUS  VER  RIC  GAS  NOR  ALO  DEV  ZHO  <U+22EF> VET   OCO   MAG  \n",
       "3 3 LEC  RUS  VER  RIC  GAS  NOR  ALO  DEV  ZHO  <U+22EF> VET   OCO   MAG  \n",
       "4 4 LEC  RUS  VER  RIC  GAS  NOR  ALO  DEV  ZHO  <U+22EF> VET   OCO   SAI  \n",
       "5 5 LEC  VER  RUS  RIC  GAS  NOR  ALO  DEV  ZHO  <U+22EF> SAI   VET   OCO  \n",
       "6 6 LEC  VER  RUS  RIC  GAS  NOR  ALO  DEV  ZHO  <U+22EF> STR   VET   PER  \n",
       "  OCO14 BOT15 MAG16 MSC17 SAI18 HAM19 TSU20\n",
       "1 LAT   PER   SAI   MSC   TSU   HAM   BOT  \n",
       "2 SAI   LAT   PER   TSU   HAM   MSC   BOT  \n",
       "3 SAI   PER   LAT   TSU   HAM   MSC   BOT  \n",
       "4 PER   MAG   LAT   TSU   HAM   MSC   BOT  \n",
       "5 PER   MAG   LAT   TSU   HAM   MSC   BOT  \n",
       "6 OCO   MAG   LAT   TSU   HAM   MSC   BOT  "
      ]
     },
     "metadata": {},
     "output_type": "display_data"
    }
   ],
   "source": [
    "scores_df_header %>% head()"
   ]
  },
  {
   "cell_type": "code",
   "execution_count": 26,
   "id": "41f5d9ea",
   "metadata": {
    "vscode": {
     "languageId": "r"
    }
   },
   "outputs": [
    {
     "data": {
      "text/html": [
       "<style>\n",
       ".list-inline {list-style: none; margin:0; padding: 0}\n",
       ".list-inline>li {display: inline-block}\n",
       ".list-inline>li:not(:last-child)::after {content: \"\\00b7\"; padding: 0 .5ex}\n",
       "</style>\n",
       "<ol class=list-inline><li>'LEC'</li><li>'LEC'</li><li>'LEC'</li><li>'LEC'</li><li>'LEC'</li><li>'LEC'</li><li>'LEC'</li><li>'LEC'</li><li>'LEC'</li><li>'LEC'</li><li>'LEC'</li><li>'VER'</li><li>'VER'</li><li>'VER'</li><li>'VER'</li><li>'VER'</li><li>'VER'</li><li>'VER'</li><li>'VER'</li><li>'VER'</li><li>'VER'</li><li>'VER'</li><li>'VER'</li><li>'VER'</li><li>'VER'</li><li>'LEC'</li><li>'LEC'</li><li>'LEC'</li><li>'LEC'</li><li>'LEC'</li><li>'LEC'</li><li>'LEC'</li><li>'LEC'</li><li>'VER'</li><li>'VER'</li><li>'VER'</li><li>'VER'</li><li>'VER'</li><li>'VER'</li><li>'VER'</li><li>'VER'</li><li>'VER'</li><li>'VER'</li><li>'VER'</li><li>'VER'</li><li>'VER'</li><li>'VER'</li><li>'VER'</li><li>'VER'</li><li>'VER'</li><li>'VER'</li><li>'VER'</li><li>'VER'</li></ol>\n"
      ],
      "text/latex": [
       "\\begin{enumerate*}\n",
       "\\item 'LEC'\n",
       "\\item 'LEC'\n",
       "\\item 'LEC'\n",
       "\\item 'LEC'\n",
       "\\item 'LEC'\n",
       "\\item 'LEC'\n",
       "\\item 'LEC'\n",
       "\\item 'LEC'\n",
       "\\item 'LEC'\n",
       "\\item 'LEC'\n",
       "\\item 'LEC'\n",
       "\\item 'VER'\n",
       "\\item 'VER'\n",
       "\\item 'VER'\n",
       "\\item 'VER'\n",
       "\\item 'VER'\n",
       "\\item 'VER'\n",
       "\\item 'VER'\n",
       "\\item 'VER'\n",
       "\\item 'VER'\n",
       "\\item 'VER'\n",
       "\\item 'VER'\n",
       "\\item 'VER'\n",
       "\\item 'VER'\n",
       "\\item 'VER'\n",
       "\\item 'LEC'\n",
       "\\item 'LEC'\n",
       "\\item 'LEC'\n",
       "\\item 'LEC'\n",
       "\\item 'LEC'\n",
       "\\item 'LEC'\n",
       "\\item 'LEC'\n",
       "\\item 'LEC'\n",
       "\\item 'VER'\n",
       "\\item 'VER'\n",
       "\\item 'VER'\n",
       "\\item 'VER'\n",
       "\\item 'VER'\n",
       "\\item 'VER'\n",
       "\\item 'VER'\n",
       "\\item 'VER'\n",
       "\\item 'VER'\n",
       "\\item 'VER'\n",
       "\\item 'VER'\n",
       "\\item 'VER'\n",
       "\\item 'VER'\n",
       "\\item 'VER'\n",
       "\\item 'VER'\n",
       "\\item 'VER'\n",
       "\\item 'VER'\n",
       "\\item 'VER'\n",
       "\\item 'VER'\n",
       "\\item 'VER'\n",
       "\\end{enumerate*}\n"
      ],
      "text/markdown": [
       "1. 'LEC'\n",
       "2. 'LEC'\n",
       "3. 'LEC'\n",
       "4. 'LEC'\n",
       "5. 'LEC'\n",
       "6. 'LEC'\n",
       "7. 'LEC'\n",
       "8. 'LEC'\n",
       "9. 'LEC'\n",
       "10. 'LEC'\n",
       "11. 'LEC'\n",
       "12. 'VER'\n",
       "13. 'VER'\n",
       "14. 'VER'\n",
       "15. 'VER'\n",
       "16. 'VER'\n",
       "17. 'VER'\n",
       "18. 'VER'\n",
       "19. 'VER'\n",
       "20. 'VER'\n",
       "21. 'VER'\n",
       "22. 'VER'\n",
       "23. 'VER'\n",
       "24. 'VER'\n",
       "25. 'VER'\n",
       "26. 'LEC'\n",
       "27. 'LEC'\n",
       "28. 'LEC'\n",
       "29. 'LEC'\n",
       "30. 'LEC'\n",
       "31. 'LEC'\n",
       "32. 'LEC'\n",
       "33. 'LEC'\n",
       "34. 'VER'\n",
       "35. 'VER'\n",
       "36. 'VER'\n",
       "37. 'VER'\n",
       "38. 'VER'\n",
       "39. 'VER'\n",
       "40. 'VER'\n",
       "41. 'VER'\n",
       "42. 'VER'\n",
       "43. 'VER'\n",
       "44. 'VER'\n",
       "45. 'VER'\n",
       "46. 'VER'\n",
       "47. 'VER'\n",
       "48. 'VER'\n",
       "49. 'VER'\n",
       "50. 'VER'\n",
       "51. 'VER'\n",
       "52. 'VER'\n",
       "53. 'VER'\n",
       "\n",
       "\n"
      ],
      "text/plain": [
       " [1] \"LEC\" \"LEC\" \"LEC\" \"LEC\" \"LEC\" \"LEC\" \"LEC\" \"LEC\" \"LEC\" \"LEC\" \"LEC\" \"VER\"\n",
       "[13] \"VER\" \"VER\" \"VER\" \"VER\" \"VER\" \"VER\" \"VER\" \"VER\" \"VER\" \"VER\" \"VER\" \"VER\"\n",
       "[25] \"VER\" \"LEC\" \"LEC\" \"LEC\" \"LEC\" \"LEC\" \"LEC\" \"LEC\" \"LEC\" \"VER\" \"VER\" \"VER\"\n",
       "[37] \"VER\" \"VER\" \"VER\" \"VER\" \"VER\" \"VER\" \"VER\" \"VER\" \"VER\" \"VER\" \"VER\" \"VER\"\n",
       "[49] \"VER\" \"VER\" \"VER\" \"VER\" \"VER\""
      ]
     },
     "metadata": {},
     "output_type": "display_data"
    }
   ],
   "source": [
    "scores_df_header[['LEC1']]"
   ]
  },
  {
   "cell_type": "code",
   "execution_count": 496,
   "id": "bf60c270",
   "metadata": {
    "vscode": {
     "languageId": "r"
    }
   },
   "outputs": [
    {
     "data": {
      "text/html": [
       "20"
      ],
      "text/latex": [
       "20"
      ],
      "text/markdown": [
       "20"
      ],
      "text/plain": [
       "[1] 20"
      ]
     },
     "metadata": {},
     "output_type": "display_data"
    }
   ],
   "source": [
    "names %>% length()"
   ]
  },
  {
   "cell_type": "code",
   "execution_count": 50,
   "id": "f5994de3",
   "metadata": {
    "vscode": {
     "languageId": "r"
    }
   },
   "outputs": [],
   "source": [
    "names_pos <- append(names_pos, 0)"
   ]
  },
  {
   "cell_type": "code",
   "execution_count": 51,
   "id": "57fed35e",
   "metadata": {
    "vscode": {
     "languageId": "r"
    }
   },
   "outputs": [
    {
     "data": {
      "text/html": [
       "2"
      ],
      "text/latex": [
       "2"
      ],
      "text/markdown": [
       "2"
      ],
      "text/plain": [
       "[1] 2"
      ]
     },
     "metadata": {},
     "output_type": "display_data"
    }
   ],
   "source": [
    "names_pos %>% length"
   ]
  },
  {
   "cell_type": "code",
   "execution_count": 26,
   "id": "c715d4fb",
   "metadata": {
    "vscode": {
     "languageId": "r"
    }
   },
   "outputs": [
    {
     "data": {
      "text/html": [
       "<table class=\"dataframe\">\n",
       "<caption>A tibble: 53 × 21</caption>\n",
       "<thead>\n",
       "\t<tr><th scope=col></th><th scope=col>LEC1</th><th scope=col>RUS2</th><th scope=col>NOR3</th><th scope=col>RIC4</th><th scope=col>GAS5</th><th scope=col>ALO6</th><th scope=col>VER7</th><th scope=col>DEV8</th><th scope=col>ZHO9</th><th scope=col>...</th><th scope=col>VET11</th><th scope=col>STR12</th><th scope=col>PER13</th><th scope=col>OCO14</th><th scope=col>BOT15</th><th scope=col>MAG16</th><th scope=col>MSC17</th><th scope=col>SAI18</th><th scope=col>HAM19</th><th scope=col>TSU20</th></tr>\n",
       "\t<tr><th scope=col>&lt;int&gt;</th><th scope=col>&lt;chr&gt;</th><th scope=col>&lt;chr&gt;</th><th scope=col>&lt;chr&gt;</th><th scope=col>&lt;chr&gt;</th><th scope=col>&lt;chr&gt;</th><th scope=col>&lt;chr&gt;</th><th scope=col>&lt;chr&gt;</th><th scope=col>&lt;chr&gt;</th><th scope=col>&lt;chr&gt;</th><th scope=col>...</th><th scope=col>&lt;chr&gt;</th><th scope=col>&lt;chr&gt;</th><th scope=col>&lt;chr&gt;</th><th scope=col>&lt;chr&gt;</th><th scope=col>&lt;chr&gt;</th><th scope=col>&lt;chr&gt;</th><th scope=col>&lt;chr&gt;</th><th scope=col>&lt;chr&gt;</th><th scope=col>&lt;chr&gt;</th><th scope=col>&lt;chr&gt;</th></tr>\n",
       "</thead>\n",
       "<tbody>\n",
       "\t<tr><td> 1</td><td>LEC</td><td>RUS</td><td>RIC</td><td>VER</td><td>GAS</td><td>NOR</td><td>ALO</td><td>DEV</td><td>ZHO</td><td>...</td><td>STR</td><td>MAG</td><td>OCO</td><td>LAT</td><td>PER</td><td>SAI</td><td>MSC</td><td>TSU</td><td>HAM</td><td>BOT</td></tr>\n",
       "\t<tr><td> 2</td><td>LEC</td><td>RUS</td><td>VER</td><td>RIC</td><td>GAS</td><td>NOR</td><td>ALO</td><td>DEV</td><td>ZHO</td><td>...</td><td>VET</td><td>OCO</td><td>MAG</td><td>SAI</td><td>LAT</td><td>PER</td><td>TSU</td><td>HAM</td><td>MSC</td><td>BOT</td></tr>\n",
       "\t<tr><td> 3</td><td>LEC</td><td>RUS</td><td>VER</td><td>RIC</td><td>GAS</td><td>NOR</td><td>ALO</td><td>DEV</td><td>ZHO</td><td>...</td><td>VET</td><td>OCO</td><td>MAG</td><td>SAI</td><td>PER</td><td>LAT</td><td>TSU</td><td>HAM</td><td>MSC</td><td>BOT</td></tr>\n",
       "\t<tr><td> 4</td><td>LEC</td><td>RUS</td><td>VER</td><td>RIC</td><td>GAS</td><td>NOR</td><td>ALO</td><td>DEV</td><td>ZHO</td><td>...</td><td>VET</td><td>OCO</td><td>SAI</td><td>PER</td><td>MAG</td><td>LAT</td><td>TSU</td><td>HAM</td><td>MSC</td><td>BOT</td></tr>\n",
       "\t<tr><td> 5</td><td>LEC</td><td>VER</td><td>RUS</td><td>RIC</td><td>GAS</td><td>NOR</td><td>ALO</td><td>DEV</td><td>ZHO</td><td>...</td><td>SAI</td><td>VET</td><td>OCO</td><td>PER</td><td>MAG</td><td>LAT</td><td>TSU</td><td>HAM</td><td>MSC</td><td>BOT</td></tr>\n",
       "\t<tr><td> 6</td><td>LEC</td><td>VER</td><td>RUS</td><td>RIC</td><td>GAS</td><td>NOR</td><td>ALO</td><td>DEV</td><td>ZHO</td><td>...</td><td>STR</td><td>VET</td><td>PER</td><td>OCO</td><td>MAG</td><td>LAT</td><td>TSU</td><td>HAM</td><td>MSC</td><td>BOT</td></tr>\n",
       "\t<tr><td> 7</td><td>LEC</td><td>VER</td><td>RUS</td><td>RIC</td><td>GAS</td><td>NOR</td><td>ALO</td><td>DEV</td><td>ZHO</td><td>...</td><td>STR</td><td>VET</td><td>OCO</td><td>MAG</td><td>TSU</td><td>LAT</td><td>HAM</td><td>PER</td><td>MSC</td><td>BOT</td></tr>\n",
       "\t<tr><td> 8</td><td>LEC</td><td>VER</td><td>RUS</td><td>RIC</td><td>GAS</td><td>NOR</td><td>ALO</td><td>DEV</td><td>SAI</td><td>...</td><td>STR</td><td>VET</td><td>OCO</td><td>TSU</td><td>MAG</td><td>HAM</td><td>LAT</td><td>MSC</td><td>BOT</td><td>PER</td></tr>\n",
       "\t<tr><td> 9</td><td>LEC</td><td>VER</td><td>RUS</td><td>RIC</td><td>GAS</td><td>NOR</td><td>ALO</td><td>SAI</td><td>DEV</td><td>...</td><td>STR</td><td>VET</td><td>OCO</td><td>TSU</td><td>HAM</td><td>MAG</td><td>LAT</td><td>MSC</td><td>BOT</td><td>PER</td></tr>\n",
       "\t<tr><td>10</td><td>LEC</td><td>VER</td><td>RUS</td><td>RIC</td><td>GAS</td><td>NOR</td><td>SAI</td><td>ALO</td><td>DEV</td><td>...</td><td>STR</td><td>OCO</td><td>VET</td><td>TSU</td><td>HAM</td><td>MAG</td><td>LAT</td><td>MSC</td><td>BOT</td><td>PER</td></tr>\n",
       "\t<tr><td>11</td><td>LEC</td><td>VER</td><td>RUS</td><td>RIC</td><td>GAS</td><td>SAI</td><td>NOR</td><td>ALO</td><td>DEV</td><td>...</td><td>STR</td><td>OCO</td><td>HAM</td><td>TSU</td><td>MAG</td><td>LAT</td><td>MSC</td><td>BOT</td><td>PER</td><td>   </td></tr>\n",
       "\t<tr><td>12</td><td>VER</td><td>LEC</td><td>RUS</td><td>RIC</td><td>SAI</td><td>GAS</td><td>NOR</td><td>ALO</td><td>DEV</td><td>...</td><td>STR</td><td>OCO</td><td>HAM</td><td>TSU</td><td>MAG</td><td>LAT</td><td>MSC</td><td>BOT</td><td>PER</td><td>   </td></tr>\n",
       "\t<tr><td>13</td><td>VER</td><td>RUS</td><td>LEC</td><td>SAI</td><td>RIC</td><td>GAS</td><td>ALO</td><td>NOR</td><td>DEV</td><td>...</td><td>STR</td><td>OCO</td><td>HAM</td><td>TSU</td><td>LAT</td><td>MAG</td><td>MSC</td><td>BOT</td><td>PER</td><td>   </td></tr>\n",
       "\t<tr><td>14</td><td>VER</td><td>RUS</td><td>LEC</td><td>SAI</td><td>RIC</td><td>GAS</td><td>ALO</td><td>NOR</td><td>DEV</td><td>...</td><td>STR</td><td>OCO</td><td>HAM</td><td>TSU</td><td>LAT</td><td>MAG</td><td>MSC</td><td>BOT</td><td>PER</td><td>   </td></tr>\n",
       "\t<tr><td>15</td><td>VER</td><td>RUS</td><td>LEC</td><td>SAI</td><td>RIC</td><td>GAS</td><td>ALO</td><td>NOR</td><td>DEV</td><td>...</td><td>STR</td><td>OCO</td><td>HAM</td><td>TSU</td><td>MAG</td><td>MSC</td><td>BOT</td><td>LAT</td><td>PER</td><td>   </td></tr>\n",
       "\t<tr><td>16</td><td>VER</td><td>RUS</td><td>LEC</td><td>SAI</td><td>RIC</td><td>GAS</td><td>ALO</td><td>NOR</td><td>DEV</td><td>...</td><td>STR</td><td>HAM</td><td>OCO</td><td>TSU</td><td>MSC</td><td>MAG</td><td>BOT</td><td>PER</td><td>LAT</td><td>   </td></tr>\n",
       "\t<tr><td>17</td><td>VER</td><td>RUS</td><td>LEC</td><td>SAI</td><td>RIC</td><td>GAS</td><td>ALO</td><td>NOR</td><td>DEV</td><td>...</td><td>HAM</td><td>STR</td><td>OCO</td><td>TSU</td><td>MSC</td><td>MAG</td><td>BOT</td><td>PER</td><td>LAT</td><td>   </td></tr>\n",
       "\t<tr><td>18</td><td>VER</td><td>RUS</td><td>LEC</td><td>SAI</td><td>RIC</td><td>NOR</td><td>ALO</td><td>DEV</td><td>GAS</td><td>...</td><td>ZHO</td><td>OCO</td><td>TSU</td><td>STR</td><td>MSC</td><td>BOT</td><td>MAG</td><td>PER</td><td>LAT</td><td>   </td></tr>\n",
       "\t<tr><td>19</td><td>VER</td><td>RUS</td><td>LEC</td><td>SAI</td><td>NOR</td><td>ALO</td><td>RIC</td><td>HAM</td><td>DEV</td><td>...</td><td>MSC</td><td>TSU</td><td>BOT</td><td>MAG</td><td>PER</td><td>GAS</td><td>ZHO</td><td>STR</td><td>LAT</td><td>   </td></tr>\n",
       "\t<tr><td>20</td><td>VER</td><td>RUS</td><td>LEC</td><td>SAI</td><td>NOR</td><td>ALO</td><td>HAM</td><td>MSC</td><td>BOT</td><td>...</td><td>MAG</td><td>RIC</td><td>GAS</td><td>DEV</td><td>ZHO</td><td>OCO</td><td>STR</td><td>TSU</td><td>LAT</td><td>   </td></tr>\n",
       "\t<tr><td>21</td><td>VER</td><td>RUS</td><td>LEC</td><td>SAI</td><td>NOR</td><td>ALO</td><td>HAM</td><td>MSC</td><td>BOT</td><td>...</td><td>MAG</td><td>RIC</td><td>GAS</td><td>DEV</td><td>ZHO</td><td>OCO</td><td>TSU</td><td>STR</td><td>LAT</td><td>   </td></tr>\n",
       "\t<tr><td>22</td><td>VER</td><td>RUS</td><td>LEC</td><td>SAI</td><td>NOR</td><td>ALO</td><td>HAM</td><td>MSC</td><td>PER</td><td>...</td><td>MAG</td><td>RIC</td><td>GAS</td><td>DEV</td><td>ZHO</td><td>OCO</td><td>TSU</td><td>STR</td><td>LAT</td><td>   </td></tr>\n",
       "\t<tr><td>23</td><td>VER</td><td>LEC</td><td>RUS</td><td>SAI</td><td>NOR</td><td>ALO</td><td>HAM</td><td>MSC</td><td>PER</td><td>...</td><td>MAG</td><td>RIC</td><td>GAS</td><td>DEV</td><td>ZHO</td><td>OCO</td><td>TSU</td><td>STR</td><td>LAT</td><td>   </td></tr>\n",
       "\t<tr><td>24</td><td>VER</td><td>LEC</td><td>SAI</td><td>RUS</td><td>NOR</td><td>ALO</td><td>HAM</td><td>PER</td><td>MSC</td><td>...</td><td>RIC</td><td>GAS</td><td>DEV</td><td>MAG</td><td>ZHO</td><td>OCO</td><td>TSU</td><td>LAT</td><td>STR</td><td>   </td></tr>\n",
       "\t<tr><td>25</td><td>VER</td><td>LEC</td><td>SAI</td><td>RUS</td><td>NOR</td><td>ALO</td><td>HAM</td><td>PER</td><td>MSC</td><td>...</td><td>RIC</td><td>GAS</td><td>DEV</td><td>ZHO</td><td>OCO</td><td>TSU</td><td>LAT</td><td>STR</td><td>MAG</td><td>   </td></tr>\n",
       "\t<tr><td>26</td><td>LEC</td><td>VER</td><td>SAI</td><td>RUS</td><td>NOR</td><td>ALO</td><td>HAM</td><td>PER</td><td>MSC</td><td>...</td><td>RIC</td><td>GAS</td><td>DEV</td><td>ZHO</td><td>OCO</td><td>TSU</td><td>LAT</td><td>STR</td><td>MAG</td><td>   </td></tr>\n",
       "\t<tr><td>27</td><td>LEC</td><td>VER</td><td>SAI</td><td>RUS</td><td>NOR</td><td>HAM</td><td>ALO</td><td>PER</td><td>MSC</td><td>...</td><td>RIC</td><td>GAS</td><td>DEV</td><td>ZHO</td><td>OCO</td><td>TSU</td><td>LAT</td><td>STR</td><td>MAG</td><td>   </td></tr>\n",
       "\t<tr><td>28</td><td>LEC</td><td>VER</td><td>SAI</td><td>RUS</td><td>NOR</td><td>HAM</td><td>ALO</td><td>PER</td><td>MSC</td><td>...</td><td>RIC</td><td>GAS</td><td>DEV</td><td>ZHO</td><td>OCO</td><td>TSU</td><td>LAT</td><td>STR</td><td>MAG</td><td>   </td></tr>\n",
       "\t<tr><td>29</td><td>LEC</td><td>VER</td><td>SAI</td><td>RUS</td><td>NOR</td><td>HAM</td><td>ALO</td><td>PER</td><td>MSC</td><td>...</td><td>RIC</td><td>GAS</td><td>DEV</td><td>ZHO</td><td>OCO</td><td>TSU</td><td>LAT</td><td>STR</td><td>MAG</td><td>   </td></tr>\n",
       "\t<tr><td>30</td><td>LEC</td><td>VER</td><td>RUS</td><td>SAI</td><td>NOR</td><td>HAM</td><td>ALO</td><td>PER</td><td>MSC</td><td>...</td><td>RIC</td><td>GAS</td><td>DEV</td><td>ZHO</td><td>OCO</td><td>TSU</td><td>LAT</td><td>STR</td><td>MAG</td><td>   </td></tr>\n",
       "\t<tr><td>31</td><td>LEC</td><td>VER</td><td>RUS</td><td>NOR</td><td>HAM</td><td>PER</td><td>SAI</td><td>ALO</td><td>MSC</td><td>...</td><td>RIC</td><td>GAS</td><td>DEV</td><td>ZHO</td><td>OCO</td><td>TSU</td><td>LAT</td><td>STR</td><td>MAG</td><td>   </td></tr>\n",
       "\t<tr><td>32</td><td>LEC</td><td>VER</td><td>RUS</td><td>NOR</td><td>HAM</td><td>PER</td><td>SAI</td><td>MSC</td><td>BOT</td><td>...</td><td>GAS</td><td>DEV</td><td>ZHO</td><td>OCO</td><td>TSU</td><td>LAT</td><td>STR</td><td>MAG</td><td>   </td><td>   </td></tr>\n",
       "\t<tr><td>33</td><td>LEC</td><td>VER</td><td>RUS</td><td>NOR</td><td>SAI</td><td>PER</td><td>HAM</td><td>BOT</td><td>MSC</td><td>...</td><td>GAS</td><td>DEV</td><td>ZHO</td><td>OCO</td><td>TSU</td><td>LAT</td><td>STR</td><td>MAG</td><td>   </td><td>   </td></tr>\n",
       "\t<tr><td>34</td><td>VER</td><td>LEC</td><td>RUS</td><td>NOR</td><td>SAI</td><td>PER</td><td>BOT</td><td>RIC</td><td>GAS</td><td>...</td><td>ZHO</td><td>HAM</td><td>OCO</td><td>TSU</td><td>LAT</td><td>STR</td><td>MSC</td><td>MAG</td><td>   </td><td>   </td></tr>\n",
       "\t<tr><td>35</td><td>VER</td><td>LEC</td><td>RUS</td><td>NOR</td><td>SAI</td><td>PER</td><td>RIC</td><td>GAS</td><td>HAM</td><td>...</td><td>BOT</td><td>ZHO</td><td>OCO</td><td>TSU</td><td>LAT</td><td>MSC</td><td>STR</td><td>MAG</td><td>   </td><td>   </td></tr>\n",
       "\t<tr><td>36</td><td>VER</td><td>LEC</td><td>RUS</td><td>SAI</td><td>PER</td><td>RIC</td><td>HAM</td><td>GAS</td><td>NOR</td><td>...</td><td>ZHO</td><td>OCO</td><td>TSU</td><td>LAT</td><td>MSC</td><td>STR</td><td>BOT</td><td>MAG</td><td>   </td><td>   </td></tr>\n",
       "\t<tr><td>37</td><td>VER</td><td>LEC</td><td>RUS</td><td>SAI</td><td>PER</td><td>HAM</td><td>NOR</td><td>RIC</td><td>GAS</td><td>...</td><td>ZHO</td><td>OCO</td><td>TSU</td><td>LAT</td><td>MSC</td><td>BOT</td><td>STR</td><td>MAG</td><td>   </td><td>   </td></tr>\n",
       "\t<tr><td>38</td><td>VER</td><td>LEC</td><td>RUS</td><td>SAI</td><td>PER</td><td>HAM</td><td>NOR</td><td>RIC</td><td>GAS</td><td>...</td><td>ZHO</td><td>OCO</td><td>TSU</td><td>LAT</td><td>MSC</td><td>BOT</td><td>STR</td><td>MAG</td><td>   </td><td>   </td></tr>\n",
       "\t<tr><td>39</td><td>VER</td><td>LEC</td><td>RUS</td><td>SAI</td><td>PER</td><td>HAM</td><td>NOR</td><td>RIC</td><td>GAS</td><td>...</td><td>ZHO</td><td>OCO</td><td>TSU</td><td>LAT</td><td>MSC</td><td>BOT</td><td>STR</td><td>MAG</td><td>   </td><td>   </td></tr>\n",
       "\t<tr><td>40</td><td>VER</td><td>LEC</td><td>RUS</td><td>SAI</td><td>PER</td><td>HAM</td><td>NOR</td><td>RIC</td><td>GAS</td><td>...</td><td>ZHO</td><td>OCO</td><td>TSU</td><td>LAT</td><td>MSC</td><td>BOT</td><td>MAG</td><td>   </td><td>   </td><td>   </td></tr>\n",
       "\t<tr><td>41</td><td>VER</td><td>LEC</td><td>RUS</td><td>SAI</td><td>PER</td><td>HAM</td><td>NOR</td><td>RIC</td><td>GAS</td><td>...</td><td>ZHO</td><td>OCO</td><td>TSU</td><td>MSC</td><td>LAT</td><td>BOT</td><td>MAG</td><td>   </td><td>   </td><td>   </td></tr>\n",
       "\t<tr><td>42</td><td>VER</td><td>LEC</td><td>RUS</td><td>SAI</td><td>PER</td><td>HAM</td><td>NOR</td><td>RIC</td><td>GAS</td><td>...</td><td>ZHO</td><td>OCO</td><td>TSU</td><td>MSC</td><td>BOT</td><td>LAT</td><td>MAG</td><td>   </td><td>   </td><td>   </td></tr>\n",
       "\t<tr><td>43</td><td>VER</td><td>LEC</td><td>RUS</td><td>SAI</td><td>HAM</td><td>NOR</td><td>PER</td><td>RIC</td><td>GAS</td><td>...</td><td>ZHO</td><td>OCO</td><td>TSU</td><td>MSC</td><td>BOT</td><td>LAT</td><td>MAG</td><td>   </td><td>   </td><td>   </td></tr>\n",
       "\t<tr><td>44</td><td>VER</td><td>LEC</td><td>RUS</td><td>SAI</td><td>HAM</td><td>NOR</td><td>PER</td><td>RIC</td><td>GAS</td><td>...</td><td>ZHO</td><td>OCO</td><td>TSU</td><td>MSC</td><td>BOT</td><td>LAT</td><td>MAG</td><td>   </td><td>   </td><td>   </td></tr>\n",
       "\t<tr><td>45</td><td>VER</td><td>LEC</td><td>RUS</td><td>SAI</td><td>HAM</td><td>NOR</td><td>PER</td><td>RIC</td><td>GAS</td><td>...</td><td>ZHO</td><td>OCO</td><td>MSC</td><td>TSU</td><td>BOT</td><td>LAT</td><td>MAG</td><td>   </td><td>   </td><td>   </td></tr>\n",
       "\t<tr><td>46</td><td>VER</td><td>LEC</td><td>RUS</td><td>SAI</td><td>HAM</td><td>NOR</td><td>PER</td><td>GAS</td><td>DEV</td><td>...</td><td>OCO</td><td>MSC</td><td>TSU</td><td>BOT</td><td>LAT</td><td>MAG</td><td>   </td><td>   </td><td>   </td><td>   </td></tr>\n",
       "\t<tr><td>47</td><td>VER</td><td>LEC</td><td>RUS</td><td>SAI</td><td>HAM</td><td>NOR</td><td>PER</td><td>GAS</td><td>DEV</td><td>...</td><td>OCO</td><td>MSC</td><td>BOT</td><td>TSU</td><td>LAT</td><td>MAG</td><td>   </td><td>   </td><td>   </td><td>   </td></tr>\n",
       "\t<tr><td>48</td><td>VER</td><td>LEC</td><td>RUS</td><td>SAI</td><td>HAM</td><td>PER</td><td>NOR</td><td>GAS</td><td>DEV</td><td>...</td><td>OCO</td><td>MSC</td><td>BOT</td><td>TSU</td><td>LAT</td><td>MAG</td><td>   </td><td>   </td><td>   </td><td>   </td></tr>\n",
       "\t<tr><td>49</td><td>VER</td><td>LEC</td><td>RUS</td><td>SAI</td><td>HAM</td><td>PER</td><td>NOR</td><td>GAS</td><td>DEV</td><td>...</td><td>OCO</td><td>MSC</td><td>BOT</td><td>TSU</td><td>LAT</td><td>MAG</td><td>   </td><td>   </td><td>   </td><td>   </td></tr>\n",
       "\t<tr><td>50</td><td>VER</td><td>LEC</td><td>RUS</td><td>SAI</td><td>HAM</td><td>PER</td><td>NOR</td><td>GAS</td><td>DEV</td><td>...</td><td>OCO</td><td>MSC</td><td>BOT</td><td>TSU</td><td>LAT</td><td>MAG</td><td>   </td><td>   </td><td>   </td><td>   </td></tr>\n",
       "\t<tr><td>51</td><td>VER</td><td>LEC</td><td>RUS</td><td>SAI</td><td>HAM</td><td>PER</td><td>NOR</td><td>GAS</td><td>DEV</td><td>...</td><td>OCO</td><td>MSC</td><td>BOT</td><td>TSU</td><td>LAT</td><td>MAG</td><td>   </td><td>   </td><td>   </td><td>   </td></tr>\n",
       "\t<tr><td>52</td><td>VER</td><td>LEC</td><td>RUS</td><td>SAI</td><td>HAM</td><td>PER</td><td>NOR</td><td>GAS</td><td>DEV</td><td>...</td><td>OCO</td><td>MSC</td><td>BOT</td><td>TSU</td><td>LAT</td><td>MAG</td><td>   </td><td>   </td><td>   </td><td>   </td></tr>\n",
       "\t<tr><td>53</td><td>VER</td><td>LEC</td><td>RUS</td><td>SAI</td><td>HAM</td><td>PER</td><td>NOR</td><td>GAS</td><td>DEV</td><td>...</td><td>OCO</td><td>MSC</td><td>   </td><td>   </td><td>   </td><td>   </td><td>   </td><td>   </td><td>   </td><td>   </td></tr>\n",
       "</tbody>\n",
       "</table>\n"
      ],
      "text/latex": [
       "A tibble: 53 × 21\n",
       "\\begin{tabular}{lllllllllllllllllllll}\n",
       "  & LEC1 & RUS2 & NOR3 & RIC4 & GAS5 & ALO6 & VER7 & DEV8 & ZHO9 & ... & VET11 & STR12 & PER13 & OCO14 & BOT15 & MAG16 & MSC17 & SAI18 & HAM19 & TSU20\\\\\n",
       " <int> & <chr> & <chr> & <chr> & <chr> & <chr> & <chr> & <chr> & <chr> & <chr> & ... & <chr> & <chr> & <chr> & <chr> & <chr> & <chr> & <chr> & <chr> & <chr> & <chr>\\\\\n",
       "\\hline\n",
       "\t  1 & LEC & RUS & RIC & VER & GAS & NOR & ALO & DEV & ZHO & ... & STR & MAG & OCO & LAT & PER & SAI & MSC & TSU & HAM & BOT\\\\\n",
       "\t  2 & LEC & RUS & VER & RIC & GAS & NOR & ALO & DEV & ZHO & ... & VET & OCO & MAG & SAI & LAT & PER & TSU & HAM & MSC & BOT\\\\\n",
       "\t  3 & LEC & RUS & VER & RIC & GAS & NOR & ALO & DEV & ZHO & ... & VET & OCO & MAG & SAI & PER & LAT & TSU & HAM & MSC & BOT\\\\\n",
       "\t  4 & LEC & RUS & VER & RIC & GAS & NOR & ALO & DEV & ZHO & ... & VET & OCO & SAI & PER & MAG & LAT & TSU & HAM & MSC & BOT\\\\\n",
       "\t  5 & LEC & VER & RUS & RIC & GAS & NOR & ALO & DEV & ZHO & ... & SAI & VET & OCO & PER & MAG & LAT & TSU & HAM & MSC & BOT\\\\\n",
       "\t  6 & LEC & VER & RUS & RIC & GAS & NOR & ALO & DEV & ZHO & ... & STR & VET & PER & OCO & MAG & LAT & TSU & HAM & MSC & BOT\\\\\n",
       "\t  7 & LEC & VER & RUS & RIC & GAS & NOR & ALO & DEV & ZHO & ... & STR & VET & OCO & MAG & TSU & LAT & HAM & PER & MSC & BOT\\\\\n",
       "\t  8 & LEC & VER & RUS & RIC & GAS & NOR & ALO & DEV & SAI & ... & STR & VET & OCO & TSU & MAG & HAM & LAT & MSC & BOT & PER\\\\\n",
       "\t  9 & LEC & VER & RUS & RIC & GAS & NOR & ALO & SAI & DEV & ... & STR & VET & OCO & TSU & HAM & MAG & LAT & MSC & BOT & PER\\\\\n",
       "\t 10 & LEC & VER & RUS & RIC & GAS & NOR & SAI & ALO & DEV & ... & STR & OCO & VET & TSU & HAM & MAG & LAT & MSC & BOT & PER\\\\\n",
       "\t 11 & LEC & VER & RUS & RIC & GAS & SAI & NOR & ALO & DEV & ... & STR & OCO & HAM & TSU & MAG & LAT & MSC & BOT & PER &    \\\\\n",
       "\t 12 & VER & LEC & RUS & RIC & SAI & GAS & NOR & ALO & DEV & ... & STR & OCO & HAM & TSU & MAG & LAT & MSC & BOT & PER &    \\\\\n",
       "\t 13 & VER & RUS & LEC & SAI & RIC & GAS & ALO & NOR & DEV & ... & STR & OCO & HAM & TSU & LAT & MAG & MSC & BOT & PER &    \\\\\n",
       "\t 14 & VER & RUS & LEC & SAI & RIC & GAS & ALO & NOR & DEV & ... & STR & OCO & HAM & TSU & LAT & MAG & MSC & BOT & PER &    \\\\\n",
       "\t 15 & VER & RUS & LEC & SAI & RIC & GAS & ALO & NOR & DEV & ... & STR & OCO & HAM & TSU & MAG & MSC & BOT & LAT & PER &    \\\\\n",
       "\t 16 & VER & RUS & LEC & SAI & RIC & GAS & ALO & NOR & DEV & ... & STR & HAM & OCO & TSU & MSC & MAG & BOT & PER & LAT &    \\\\\n",
       "\t 17 & VER & RUS & LEC & SAI & RIC & GAS & ALO & NOR & DEV & ... & HAM & STR & OCO & TSU & MSC & MAG & BOT & PER & LAT &    \\\\\n",
       "\t 18 & VER & RUS & LEC & SAI & RIC & NOR & ALO & DEV & GAS & ... & ZHO & OCO & TSU & STR & MSC & BOT & MAG & PER & LAT &    \\\\\n",
       "\t 19 & VER & RUS & LEC & SAI & NOR & ALO & RIC & HAM & DEV & ... & MSC & TSU & BOT & MAG & PER & GAS & ZHO & STR & LAT &    \\\\\n",
       "\t 20 & VER & RUS & LEC & SAI & NOR & ALO & HAM & MSC & BOT & ... & MAG & RIC & GAS & DEV & ZHO & OCO & STR & TSU & LAT &    \\\\\n",
       "\t 21 & VER & RUS & LEC & SAI & NOR & ALO & HAM & MSC & BOT & ... & MAG & RIC & GAS & DEV & ZHO & OCO & TSU & STR & LAT &    \\\\\n",
       "\t 22 & VER & RUS & LEC & SAI & NOR & ALO & HAM & MSC & PER & ... & MAG & RIC & GAS & DEV & ZHO & OCO & TSU & STR & LAT &    \\\\\n",
       "\t 23 & VER & LEC & RUS & SAI & NOR & ALO & HAM & MSC & PER & ... & MAG & RIC & GAS & DEV & ZHO & OCO & TSU & STR & LAT &    \\\\\n",
       "\t 24 & VER & LEC & SAI & RUS & NOR & ALO & HAM & PER & MSC & ... & RIC & GAS & DEV & MAG & ZHO & OCO & TSU & LAT & STR &    \\\\\n",
       "\t 25 & VER & LEC & SAI & RUS & NOR & ALO & HAM & PER & MSC & ... & RIC & GAS & DEV & ZHO & OCO & TSU & LAT & STR & MAG &    \\\\\n",
       "\t 26 & LEC & VER & SAI & RUS & NOR & ALO & HAM & PER & MSC & ... & RIC & GAS & DEV & ZHO & OCO & TSU & LAT & STR & MAG &    \\\\\n",
       "\t 27 & LEC & VER & SAI & RUS & NOR & HAM & ALO & PER & MSC & ... & RIC & GAS & DEV & ZHO & OCO & TSU & LAT & STR & MAG &    \\\\\n",
       "\t 28 & LEC & VER & SAI & RUS & NOR & HAM & ALO & PER & MSC & ... & RIC & GAS & DEV & ZHO & OCO & TSU & LAT & STR & MAG &    \\\\\n",
       "\t 29 & LEC & VER & SAI & RUS & NOR & HAM & ALO & PER & MSC & ... & RIC & GAS & DEV & ZHO & OCO & TSU & LAT & STR & MAG &    \\\\\n",
       "\t 30 & LEC & VER & RUS & SAI & NOR & HAM & ALO & PER & MSC & ... & RIC & GAS & DEV & ZHO & OCO & TSU & LAT & STR & MAG &    \\\\\n",
       "\t 31 & LEC & VER & RUS & NOR & HAM & PER & SAI & ALO & MSC & ... & RIC & GAS & DEV & ZHO & OCO & TSU & LAT & STR & MAG &    \\\\\n",
       "\t 32 & LEC & VER & RUS & NOR & HAM & PER & SAI & MSC & BOT & ... & GAS & DEV & ZHO & OCO & TSU & LAT & STR & MAG &     &    \\\\\n",
       "\t 33 & LEC & VER & RUS & NOR & SAI & PER & HAM & BOT & MSC & ... & GAS & DEV & ZHO & OCO & TSU & LAT & STR & MAG &     &    \\\\\n",
       "\t 34 & VER & LEC & RUS & NOR & SAI & PER & BOT & RIC & GAS & ... & ZHO & HAM & OCO & TSU & LAT & STR & MSC & MAG &     &    \\\\\n",
       "\t 35 & VER & LEC & RUS & NOR & SAI & PER & RIC & GAS & HAM & ... & BOT & ZHO & OCO & TSU & LAT & MSC & STR & MAG &     &    \\\\\n",
       "\t 36 & VER & LEC & RUS & SAI & PER & RIC & HAM & GAS & NOR & ... & ZHO & OCO & TSU & LAT & MSC & STR & BOT & MAG &     &    \\\\\n",
       "\t 37 & VER & LEC & RUS & SAI & PER & HAM & NOR & RIC & GAS & ... & ZHO & OCO & TSU & LAT & MSC & BOT & STR & MAG &     &    \\\\\n",
       "\t 38 & VER & LEC & RUS & SAI & PER & HAM & NOR & RIC & GAS & ... & ZHO & OCO & TSU & LAT & MSC & BOT & STR & MAG &     &    \\\\\n",
       "\t 39 & VER & LEC & RUS & SAI & PER & HAM & NOR & RIC & GAS & ... & ZHO & OCO & TSU & LAT & MSC & BOT & STR & MAG &     &    \\\\\n",
       "\t 40 & VER & LEC & RUS & SAI & PER & HAM & NOR & RIC & GAS & ... & ZHO & OCO & TSU & LAT & MSC & BOT & MAG &     &     &    \\\\\n",
       "\t 41 & VER & LEC & RUS & SAI & PER & HAM & NOR & RIC & GAS & ... & ZHO & OCO & TSU & MSC & LAT & BOT & MAG &     &     &    \\\\\n",
       "\t 42 & VER & LEC & RUS & SAI & PER & HAM & NOR & RIC & GAS & ... & ZHO & OCO & TSU & MSC & BOT & LAT & MAG &     &     &    \\\\\n",
       "\t 43 & VER & LEC & RUS & SAI & HAM & NOR & PER & RIC & GAS & ... & ZHO & OCO & TSU & MSC & BOT & LAT & MAG &     &     &    \\\\\n",
       "\t 44 & VER & LEC & RUS & SAI & HAM & NOR & PER & RIC & GAS & ... & ZHO & OCO & TSU & MSC & BOT & LAT & MAG &     &     &    \\\\\n",
       "\t 45 & VER & LEC & RUS & SAI & HAM & NOR & PER & RIC & GAS & ... & ZHO & OCO & MSC & TSU & BOT & LAT & MAG &     &     &    \\\\\n",
       "\t 46 & VER & LEC & RUS & SAI & HAM & NOR & PER & GAS & DEV & ... & OCO & MSC & TSU & BOT & LAT & MAG &     &     &     &    \\\\\n",
       "\t 47 & VER & LEC & RUS & SAI & HAM & NOR & PER & GAS & DEV & ... & OCO & MSC & BOT & TSU & LAT & MAG &     &     &     &    \\\\\n",
       "\t 48 & VER & LEC & RUS & SAI & HAM & PER & NOR & GAS & DEV & ... & OCO & MSC & BOT & TSU & LAT & MAG &     &     &     &    \\\\\n",
       "\t 49 & VER & LEC & RUS & SAI & HAM & PER & NOR & GAS & DEV & ... & OCO & MSC & BOT & TSU & LAT & MAG &     &     &     &    \\\\\n",
       "\t 50 & VER & LEC & RUS & SAI & HAM & PER & NOR & GAS & DEV & ... & OCO & MSC & BOT & TSU & LAT & MAG &     &     &     &    \\\\\n",
       "\t 51 & VER & LEC & RUS & SAI & HAM & PER & NOR & GAS & DEV & ... & OCO & MSC & BOT & TSU & LAT & MAG &     &     &     &    \\\\\n",
       "\t 52 & VER & LEC & RUS & SAI & HAM & PER & NOR & GAS & DEV & ... & OCO & MSC & BOT & TSU & LAT & MAG &     &     &     &    \\\\\n",
       "\t 53 & VER & LEC & RUS & SAI & HAM & PER & NOR & GAS & DEV & ... & OCO & MSC &     &     &     &     &     &     &     &    \\\\\n",
       "\\end{tabular}\n"
      ],
      "text/markdown": [
       "\n",
       "A tibble: 53 × 21\n",
       "\n",
       "| <!----> &lt;int&gt; | LEC1 &lt;chr&gt; | RUS2 &lt;chr&gt; | NOR3 &lt;chr&gt; | RIC4 &lt;chr&gt; | GAS5 &lt;chr&gt; | ALO6 &lt;chr&gt; | VER7 &lt;chr&gt; | DEV8 &lt;chr&gt; | ZHO9 &lt;chr&gt; | ... ... | VET11 &lt;chr&gt; | STR12 &lt;chr&gt; | PER13 &lt;chr&gt; | OCO14 &lt;chr&gt; | BOT15 &lt;chr&gt; | MAG16 &lt;chr&gt; | MSC17 &lt;chr&gt; | SAI18 &lt;chr&gt; | HAM19 &lt;chr&gt; | TSU20 &lt;chr&gt; |\n",
       "|---|---|---|---|---|---|---|---|---|---|---|---|---|---|---|---|---|---|---|---|---|\n",
       "|  1 | LEC | RUS | RIC | VER | GAS | NOR | ALO | DEV | ZHO | ... | STR | MAG | OCO | LAT | PER | SAI | MSC | TSU | HAM | BOT |\n",
       "|  2 | LEC | RUS | VER | RIC | GAS | NOR | ALO | DEV | ZHO | ... | VET | OCO | MAG | SAI | LAT | PER | TSU | HAM | MSC | BOT |\n",
       "|  3 | LEC | RUS | VER | RIC | GAS | NOR | ALO | DEV | ZHO | ... | VET | OCO | MAG | SAI | PER | LAT | TSU | HAM | MSC | BOT |\n",
       "|  4 | LEC | RUS | VER | RIC | GAS | NOR | ALO | DEV | ZHO | ... | VET | OCO | SAI | PER | MAG | LAT | TSU | HAM | MSC | BOT |\n",
       "|  5 | LEC | VER | RUS | RIC | GAS | NOR | ALO | DEV | ZHO | ... | SAI | VET | OCO | PER | MAG | LAT | TSU | HAM | MSC | BOT |\n",
       "|  6 | LEC | VER | RUS | RIC | GAS | NOR | ALO | DEV | ZHO | ... | STR | VET | PER | OCO | MAG | LAT | TSU | HAM | MSC | BOT |\n",
       "|  7 | LEC | VER | RUS | RIC | GAS | NOR | ALO | DEV | ZHO | ... | STR | VET | OCO | MAG | TSU | LAT | HAM | PER | MSC | BOT |\n",
       "|  8 | LEC | VER | RUS | RIC | GAS | NOR | ALO | DEV | SAI | ... | STR | VET | OCO | TSU | MAG | HAM | LAT | MSC | BOT | PER |\n",
       "|  9 | LEC | VER | RUS | RIC | GAS | NOR | ALO | SAI | DEV | ... | STR | VET | OCO | TSU | HAM | MAG | LAT | MSC | BOT | PER |\n",
       "| 10 | LEC | VER | RUS | RIC | GAS | NOR | SAI | ALO | DEV | ... | STR | OCO | VET | TSU | HAM | MAG | LAT | MSC | BOT | PER |\n",
       "| 11 | LEC | VER | RUS | RIC | GAS | SAI | NOR | ALO | DEV | ... | STR | OCO | HAM | TSU | MAG | LAT | MSC | BOT | PER | <!----> |\n",
       "| 12 | VER | LEC | RUS | RIC | SAI | GAS | NOR | ALO | DEV | ... | STR | OCO | HAM | TSU | MAG | LAT | MSC | BOT | PER | <!----> |\n",
       "| 13 | VER | RUS | LEC | SAI | RIC | GAS | ALO | NOR | DEV | ... | STR | OCO | HAM | TSU | LAT | MAG | MSC | BOT | PER | <!----> |\n",
       "| 14 | VER | RUS | LEC | SAI | RIC | GAS | ALO | NOR | DEV | ... | STR | OCO | HAM | TSU | LAT | MAG | MSC | BOT | PER | <!----> |\n",
       "| 15 | VER | RUS | LEC | SAI | RIC | GAS | ALO | NOR | DEV | ... | STR | OCO | HAM | TSU | MAG | MSC | BOT | LAT | PER | <!----> |\n",
       "| 16 | VER | RUS | LEC | SAI | RIC | GAS | ALO | NOR | DEV | ... | STR | HAM | OCO | TSU | MSC | MAG | BOT | PER | LAT | <!----> |\n",
       "| 17 | VER | RUS | LEC | SAI | RIC | GAS | ALO | NOR | DEV | ... | HAM | STR | OCO | TSU | MSC | MAG | BOT | PER | LAT | <!----> |\n",
       "| 18 | VER | RUS | LEC | SAI | RIC | NOR | ALO | DEV | GAS | ... | ZHO | OCO | TSU | STR | MSC | BOT | MAG | PER | LAT | <!----> |\n",
       "| 19 | VER | RUS | LEC | SAI | NOR | ALO | RIC | HAM | DEV | ... | MSC | TSU | BOT | MAG | PER | GAS | ZHO | STR | LAT | <!----> |\n",
       "| 20 | VER | RUS | LEC | SAI | NOR | ALO | HAM | MSC | BOT | ... | MAG | RIC | GAS | DEV | ZHO | OCO | STR | TSU | LAT | <!----> |\n",
       "| 21 | VER | RUS | LEC | SAI | NOR | ALO | HAM | MSC | BOT | ... | MAG | RIC | GAS | DEV | ZHO | OCO | TSU | STR | LAT | <!----> |\n",
       "| 22 | VER | RUS | LEC | SAI | NOR | ALO | HAM | MSC | PER | ... | MAG | RIC | GAS | DEV | ZHO | OCO | TSU | STR | LAT | <!----> |\n",
       "| 23 | VER | LEC | RUS | SAI | NOR | ALO | HAM | MSC | PER | ... | MAG | RIC | GAS | DEV | ZHO | OCO | TSU | STR | LAT | <!----> |\n",
       "| 24 | VER | LEC | SAI | RUS | NOR | ALO | HAM | PER | MSC | ... | RIC | GAS | DEV | MAG | ZHO | OCO | TSU | LAT | STR | <!----> |\n",
       "| 25 | VER | LEC | SAI | RUS | NOR | ALO | HAM | PER | MSC | ... | RIC | GAS | DEV | ZHO | OCO | TSU | LAT | STR | MAG | <!----> |\n",
       "| 26 | LEC | VER | SAI | RUS | NOR | ALO | HAM | PER | MSC | ... | RIC | GAS | DEV | ZHO | OCO | TSU | LAT | STR | MAG | <!----> |\n",
       "| 27 | LEC | VER | SAI | RUS | NOR | HAM | ALO | PER | MSC | ... | RIC | GAS | DEV | ZHO | OCO | TSU | LAT | STR | MAG | <!----> |\n",
       "| 28 | LEC | VER | SAI | RUS | NOR | HAM | ALO | PER | MSC | ... | RIC | GAS | DEV | ZHO | OCO | TSU | LAT | STR | MAG | <!----> |\n",
       "| 29 | LEC | VER | SAI | RUS | NOR | HAM | ALO | PER | MSC | ... | RIC | GAS | DEV | ZHO | OCO | TSU | LAT | STR | MAG | <!----> |\n",
       "| 30 | LEC | VER | RUS | SAI | NOR | HAM | ALO | PER | MSC | ... | RIC | GAS | DEV | ZHO | OCO | TSU | LAT | STR | MAG | <!----> |\n",
       "| 31 | LEC | VER | RUS | NOR | HAM | PER | SAI | ALO | MSC | ... | RIC | GAS | DEV | ZHO | OCO | TSU | LAT | STR | MAG | <!----> |\n",
       "| 32 | LEC | VER | RUS | NOR | HAM | PER | SAI | MSC | BOT | ... | GAS | DEV | ZHO | OCO | TSU | LAT | STR | MAG | <!----> | <!----> |\n",
       "| 33 | LEC | VER | RUS | NOR | SAI | PER | HAM | BOT | MSC | ... | GAS | DEV | ZHO | OCO | TSU | LAT | STR | MAG | <!----> | <!----> |\n",
       "| 34 | VER | LEC | RUS | NOR | SAI | PER | BOT | RIC | GAS | ... | ZHO | HAM | OCO | TSU | LAT | STR | MSC | MAG | <!----> | <!----> |\n",
       "| 35 | VER | LEC | RUS | NOR | SAI | PER | RIC | GAS | HAM | ... | BOT | ZHO | OCO | TSU | LAT | MSC | STR | MAG | <!----> | <!----> |\n",
       "| 36 | VER | LEC | RUS | SAI | PER | RIC | HAM | GAS | NOR | ... | ZHO | OCO | TSU | LAT | MSC | STR | BOT | MAG | <!----> | <!----> |\n",
       "| 37 | VER | LEC | RUS | SAI | PER | HAM | NOR | RIC | GAS | ... | ZHO | OCO | TSU | LAT | MSC | BOT | STR | MAG | <!----> | <!----> |\n",
       "| 38 | VER | LEC | RUS | SAI | PER | HAM | NOR | RIC | GAS | ... | ZHO | OCO | TSU | LAT | MSC | BOT | STR | MAG | <!----> | <!----> |\n",
       "| 39 | VER | LEC | RUS | SAI | PER | HAM | NOR | RIC | GAS | ... | ZHO | OCO | TSU | LAT | MSC | BOT | STR | MAG | <!----> | <!----> |\n",
       "| 40 | VER | LEC | RUS | SAI | PER | HAM | NOR | RIC | GAS | ... | ZHO | OCO | TSU | LAT | MSC | BOT | MAG | <!----> | <!----> | <!----> |\n",
       "| 41 | VER | LEC | RUS | SAI | PER | HAM | NOR | RIC | GAS | ... | ZHO | OCO | TSU | MSC | LAT | BOT | MAG | <!----> | <!----> | <!----> |\n",
       "| 42 | VER | LEC | RUS | SAI | PER | HAM | NOR | RIC | GAS | ... | ZHO | OCO | TSU | MSC | BOT | LAT | MAG | <!----> | <!----> | <!----> |\n",
       "| 43 | VER | LEC | RUS | SAI | HAM | NOR | PER | RIC | GAS | ... | ZHO | OCO | TSU | MSC | BOT | LAT | MAG | <!----> | <!----> | <!----> |\n",
       "| 44 | VER | LEC | RUS | SAI | HAM | NOR | PER | RIC | GAS | ... | ZHO | OCO | TSU | MSC | BOT | LAT | MAG | <!----> | <!----> | <!----> |\n",
       "| 45 | VER | LEC | RUS | SAI | HAM | NOR | PER | RIC | GAS | ... | ZHO | OCO | MSC | TSU | BOT | LAT | MAG | <!----> | <!----> | <!----> |\n",
       "| 46 | VER | LEC | RUS | SAI | HAM | NOR | PER | GAS | DEV | ... | OCO | MSC | TSU | BOT | LAT | MAG | <!----> | <!----> | <!----> | <!----> |\n",
       "| 47 | VER | LEC | RUS | SAI | HAM | NOR | PER | GAS | DEV | ... | OCO | MSC | BOT | TSU | LAT | MAG | <!----> | <!----> | <!----> | <!----> |\n",
       "| 48 | VER | LEC | RUS | SAI | HAM | PER | NOR | GAS | DEV | ... | OCO | MSC | BOT | TSU | LAT | MAG | <!----> | <!----> | <!----> | <!----> |\n",
       "| 49 | VER | LEC | RUS | SAI | HAM | PER | NOR | GAS | DEV | ... | OCO | MSC | BOT | TSU | LAT | MAG | <!----> | <!----> | <!----> | <!----> |\n",
       "| 50 | VER | LEC | RUS | SAI | HAM | PER | NOR | GAS | DEV | ... | OCO | MSC | BOT | TSU | LAT | MAG | <!----> | <!----> | <!----> | <!----> |\n",
       "| 51 | VER | LEC | RUS | SAI | HAM | PER | NOR | GAS | DEV | ... | OCO | MSC | BOT | TSU | LAT | MAG | <!----> | <!----> | <!----> | <!----> |\n",
       "| 52 | VER | LEC | RUS | SAI | HAM | PER | NOR | GAS | DEV | ... | OCO | MSC | BOT | TSU | LAT | MAG | <!----> | <!----> | <!----> | <!----> |\n",
       "| 53 | VER | LEC | RUS | SAI | HAM | PER | NOR | GAS | DEV | ... | OCO | MSC | <!----> | <!----> | <!----> | <!----> | <!----> | <!----> | <!----> | <!----> |\n",
       "\n"
      ],
      "text/plain": [
       "      LEC1 RUS2 NOR3 RIC4 GAS5 ALO6 VER7 DEV8 ZHO9 ... VET11 STR12 PER13 OCO14\n",
       "1   1 LEC  RUS  RIC  VER  GAS  NOR  ALO  DEV  ZHO  ... STR   MAG   OCO   LAT  \n",
       "2   2 LEC  RUS  VER  RIC  GAS  NOR  ALO  DEV  ZHO  ... VET   OCO   MAG   SAI  \n",
       "3   3 LEC  RUS  VER  RIC  GAS  NOR  ALO  DEV  ZHO  ... VET   OCO   MAG   SAI  \n",
       "4   4 LEC  RUS  VER  RIC  GAS  NOR  ALO  DEV  ZHO  ... VET   OCO   SAI   PER  \n",
       "5   5 LEC  VER  RUS  RIC  GAS  NOR  ALO  DEV  ZHO  ... SAI   VET   OCO   PER  \n",
       "6   6 LEC  VER  RUS  RIC  GAS  NOR  ALO  DEV  ZHO  ... STR   VET   PER   OCO  \n",
       "7   7 LEC  VER  RUS  RIC  GAS  NOR  ALO  DEV  ZHO  ... STR   VET   OCO   MAG  \n",
       "8   8 LEC  VER  RUS  RIC  GAS  NOR  ALO  DEV  SAI  ... STR   VET   OCO   TSU  \n",
       "9   9 LEC  VER  RUS  RIC  GAS  NOR  ALO  SAI  DEV  ... STR   VET   OCO   TSU  \n",
       "10 10 LEC  VER  RUS  RIC  GAS  NOR  SAI  ALO  DEV  ... STR   OCO   VET   TSU  \n",
       "11 11 LEC  VER  RUS  RIC  GAS  SAI  NOR  ALO  DEV  ... STR   OCO   HAM   TSU  \n",
       "12 12 VER  LEC  RUS  RIC  SAI  GAS  NOR  ALO  DEV  ... STR   OCO   HAM   TSU  \n",
       "13 13 VER  RUS  LEC  SAI  RIC  GAS  ALO  NOR  DEV  ... STR   OCO   HAM   TSU  \n",
       "14 14 VER  RUS  LEC  SAI  RIC  GAS  ALO  NOR  DEV  ... STR   OCO   HAM   TSU  \n",
       "15 15 VER  RUS  LEC  SAI  RIC  GAS  ALO  NOR  DEV  ... STR   OCO   HAM   TSU  \n",
       "16 16 VER  RUS  LEC  SAI  RIC  GAS  ALO  NOR  DEV  ... STR   HAM   OCO   TSU  \n",
       "17 17 VER  RUS  LEC  SAI  RIC  GAS  ALO  NOR  DEV  ... HAM   STR   OCO   TSU  \n",
       "18 18 VER  RUS  LEC  SAI  RIC  NOR  ALO  DEV  GAS  ... ZHO   OCO   TSU   STR  \n",
       "19 19 VER  RUS  LEC  SAI  NOR  ALO  RIC  HAM  DEV  ... MSC   TSU   BOT   MAG  \n",
       "20 20 VER  RUS  LEC  SAI  NOR  ALO  HAM  MSC  BOT  ... MAG   RIC   GAS   DEV  \n",
       "21 21 VER  RUS  LEC  SAI  NOR  ALO  HAM  MSC  BOT  ... MAG   RIC   GAS   DEV  \n",
       "22 22 VER  RUS  LEC  SAI  NOR  ALO  HAM  MSC  PER  ... MAG   RIC   GAS   DEV  \n",
       "23 23 VER  LEC  RUS  SAI  NOR  ALO  HAM  MSC  PER  ... MAG   RIC   GAS   DEV  \n",
       "24 24 VER  LEC  SAI  RUS  NOR  ALO  HAM  PER  MSC  ... RIC   GAS   DEV   MAG  \n",
       "25 25 VER  LEC  SAI  RUS  NOR  ALO  HAM  PER  MSC  ... RIC   GAS   DEV   ZHO  \n",
       "26 26 LEC  VER  SAI  RUS  NOR  ALO  HAM  PER  MSC  ... RIC   GAS   DEV   ZHO  \n",
       "27 27 LEC  VER  SAI  RUS  NOR  HAM  ALO  PER  MSC  ... RIC   GAS   DEV   ZHO  \n",
       "28 28 LEC  VER  SAI  RUS  NOR  HAM  ALO  PER  MSC  ... RIC   GAS   DEV   ZHO  \n",
       "29 29 LEC  VER  SAI  RUS  NOR  HAM  ALO  PER  MSC  ... RIC   GAS   DEV   ZHO  \n",
       "30 30 LEC  VER  RUS  SAI  NOR  HAM  ALO  PER  MSC  ... RIC   GAS   DEV   ZHO  \n",
       "31 31 LEC  VER  RUS  NOR  HAM  PER  SAI  ALO  MSC  ... RIC   GAS   DEV   ZHO  \n",
       "32 32 LEC  VER  RUS  NOR  HAM  PER  SAI  MSC  BOT  ... GAS   DEV   ZHO   OCO  \n",
       "33 33 LEC  VER  RUS  NOR  SAI  PER  HAM  BOT  MSC  ... GAS   DEV   ZHO   OCO  \n",
       "34 34 VER  LEC  RUS  NOR  SAI  PER  BOT  RIC  GAS  ... ZHO   HAM   OCO   TSU  \n",
       "35 35 VER  LEC  RUS  NOR  SAI  PER  RIC  GAS  HAM  ... BOT   ZHO   OCO   TSU  \n",
       "36 36 VER  LEC  RUS  SAI  PER  RIC  HAM  GAS  NOR  ... ZHO   OCO   TSU   LAT  \n",
       "37 37 VER  LEC  RUS  SAI  PER  HAM  NOR  RIC  GAS  ... ZHO   OCO   TSU   LAT  \n",
       "38 38 VER  LEC  RUS  SAI  PER  HAM  NOR  RIC  GAS  ... ZHO   OCO   TSU   LAT  \n",
       "39 39 VER  LEC  RUS  SAI  PER  HAM  NOR  RIC  GAS  ... ZHO   OCO   TSU   LAT  \n",
       "40 40 VER  LEC  RUS  SAI  PER  HAM  NOR  RIC  GAS  ... ZHO   OCO   TSU   LAT  \n",
       "41 41 VER  LEC  RUS  SAI  PER  HAM  NOR  RIC  GAS  ... ZHO   OCO   TSU   MSC  \n",
       "42 42 VER  LEC  RUS  SAI  PER  HAM  NOR  RIC  GAS  ... ZHO   OCO   TSU   MSC  \n",
       "43 43 VER  LEC  RUS  SAI  HAM  NOR  PER  RIC  GAS  ... ZHO   OCO   TSU   MSC  \n",
       "44 44 VER  LEC  RUS  SAI  HAM  NOR  PER  RIC  GAS  ... ZHO   OCO   TSU   MSC  \n",
       "45 45 VER  LEC  RUS  SAI  HAM  NOR  PER  RIC  GAS  ... ZHO   OCO   MSC   TSU  \n",
       "46 46 VER  LEC  RUS  SAI  HAM  NOR  PER  GAS  DEV  ... OCO   MSC   TSU   BOT  \n",
       "47 47 VER  LEC  RUS  SAI  HAM  NOR  PER  GAS  DEV  ... OCO   MSC   BOT   TSU  \n",
       "48 48 VER  LEC  RUS  SAI  HAM  PER  NOR  GAS  DEV  ... OCO   MSC   BOT   TSU  \n",
       "49 49 VER  LEC  RUS  SAI  HAM  PER  NOR  GAS  DEV  ... OCO   MSC   BOT   TSU  \n",
       "50 50 VER  LEC  RUS  SAI  HAM  PER  NOR  GAS  DEV  ... OCO   MSC   BOT   TSU  \n",
       "51 51 VER  LEC  RUS  SAI  HAM  PER  NOR  GAS  DEV  ... OCO   MSC   BOT   TSU  \n",
       "52 52 VER  LEC  RUS  SAI  HAM  PER  NOR  GAS  DEV  ... OCO   MSC   BOT   TSU  \n",
       "53 53 VER  LEC  RUS  SAI  HAM  PER  NOR  GAS  DEV  ... OCO   MSC              \n",
       "   BOT15 MAG16 MSC17 SAI18 HAM19 TSU20\n",
       "1  PER   SAI   MSC   TSU   HAM   BOT  \n",
       "2  LAT   PER   TSU   HAM   MSC   BOT  \n",
       "3  PER   LAT   TSU   HAM   MSC   BOT  \n",
       "4  MAG   LAT   TSU   HAM   MSC   BOT  \n",
       "5  MAG   LAT   TSU   HAM   MSC   BOT  \n",
       "6  MAG   LAT   TSU   HAM   MSC   BOT  \n",
       "7  TSU   LAT   HAM   PER   MSC   BOT  \n",
       "8  MAG   HAM   LAT   MSC   BOT   PER  \n",
       "9  HAM   MAG   LAT   MSC   BOT   PER  \n",
       "10 HAM   MAG   LAT   MSC   BOT   PER  \n",
       "11 MAG   LAT   MSC   BOT   PER        \n",
       "12 MAG   LAT   MSC   BOT   PER        \n",
       "13 LAT   MAG   MSC   BOT   PER        \n",
       "14 LAT   MAG   MSC   BOT   PER        \n",
       "15 MAG   MSC   BOT   LAT   PER        \n",
       "16 MSC   MAG   BOT   PER   LAT        \n",
       "17 MSC   MAG   BOT   PER   LAT        \n",
       "18 MSC   BOT   MAG   PER   LAT        \n",
       "19 PER   GAS   ZHO   STR   LAT        \n",
       "20 ZHO   OCO   STR   TSU   LAT        \n",
       "21 ZHO   OCO   TSU   STR   LAT        \n",
       "22 ZHO   OCO   TSU   STR   LAT        \n",
       "23 ZHO   OCO   TSU   STR   LAT        \n",
       "24 ZHO   OCO   TSU   LAT   STR        \n",
       "25 OCO   TSU   LAT   STR   MAG        \n",
       "26 OCO   TSU   LAT   STR   MAG        \n",
       "27 OCO   TSU   LAT   STR   MAG        \n",
       "28 OCO   TSU   LAT   STR   MAG        \n",
       "29 OCO   TSU   LAT   STR   MAG        \n",
       "30 OCO   TSU   LAT   STR   MAG        \n",
       "31 OCO   TSU   LAT   STR   MAG        \n",
       "32 TSU   LAT   STR   MAG              \n",
       "33 TSU   LAT   STR   MAG              \n",
       "34 LAT   STR   MSC   MAG              \n",
       "35 LAT   MSC   STR   MAG              \n",
       "36 MSC   STR   BOT   MAG              \n",
       "37 MSC   BOT   STR   MAG              \n",
       "38 MSC   BOT   STR   MAG              \n",
       "39 MSC   BOT   STR   MAG              \n",
       "40 MSC   BOT   MAG                    \n",
       "41 LAT   BOT   MAG                    \n",
       "42 BOT   LAT   MAG                    \n",
       "43 BOT   LAT   MAG                    \n",
       "44 BOT   LAT   MAG                    \n",
       "45 BOT   LAT   MAG                    \n",
       "46 LAT   MAG                          \n",
       "47 LAT   MAG                          \n",
       "48 LAT   MAG                          \n",
       "49 LAT   MAG                          \n",
       "50 LAT   MAG                          \n",
       "51 LAT   MAG                          \n",
       "52 LAT   MAG                          \n",
       "53                                    "
      ]
     },
     "metadata": {},
     "output_type": "display_data"
    }
   ],
   "source": [
    "scores_df_header"
   ]
  },
  {
   "cell_type": "code",
   "execution_count": 27,
   "id": "230f89f3",
   "metadata": {
    "vscode": {
     "languageId": "r"
    }
   },
   "outputs": [
    {
     "data": {
      "text/html": [
       "<style>\n",
       ".list-inline {list-style: none; margin:0; padding: 0}\n",
       ".list-inline>li {display: inline-block}\n",
       ".list-inline>li:not(:last-child)::after {content: \"\\00b7\"; padding: 0 .5ex}\n",
       "</style>\n",
       "<ol class=list-inline><li>'LEC1'</li><li>'RUS2'</li><li>'NOR3'</li><li>'RIC4'</li><li>'GAS5'</li><li>'ALO6'</li><li>'VER7'</li><li>'DEV8'</li><li>'ZHO9'</li><li>'LAT10'</li><li>'VET11'</li><li>'STR12'</li><li>'PER13'</li><li>'OCO14'</li><li>'BOT15'</li><li>'MAG16'</li><li>'MSC17'</li><li>'SAI18'</li><li>'HAM19'</li><li>'TSU20'</li></ol>\n"
      ],
      "text/latex": [
       "\\begin{enumerate*}\n",
       "\\item 'LEC1'\n",
       "\\item 'RUS2'\n",
       "\\item 'NOR3'\n",
       "\\item 'RIC4'\n",
       "\\item 'GAS5'\n",
       "\\item 'ALO6'\n",
       "\\item 'VER7'\n",
       "\\item 'DEV8'\n",
       "\\item 'ZHO9'\n",
       "\\item 'LAT10'\n",
       "\\item 'VET11'\n",
       "\\item 'STR12'\n",
       "\\item 'PER13'\n",
       "\\item 'OCO14'\n",
       "\\item 'BOT15'\n",
       "\\item 'MAG16'\n",
       "\\item 'MSC17'\n",
       "\\item 'SAI18'\n",
       "\\item 'HAM19'\n",
       "\\item 'TSU20'\n",
       "\\end{enumerate*}\n"
      ],
      "text/markdown": [
       "1. 'LEC1'\n",
       "2. 'RUS2'\n",
       "3. 'NOR3'\n",
       "4. 'RIC4'\n",
       "5. 'GAS5'\n",
       "6. 'ALO6'\n",
       "7. 'VER7'\n",
       "8. 'DEV8'\n",
       "9. 'ZHO9'\n",
       "10. 'LAT10'\n",
       "11. 'VET11'\n",
       "12. 'STR12'\n",
       "13. 'PER13'\n",
       "14. 'OCO14'\n",
       "15. 'BOT15'\n",
       "16. 'MAG16'\n",
       "17. 'MSC17'\n",
       "18. 'SAI18'\n",
       "19. 'HAM19'\n",
       "20. 'TSU20'\n",
       "\n",
       "\n"
      ],
      "text/plain": [
       " [1] \"LEC1\"  \"RUS2\"  \"NOR3\"  \"RIC4\"  \"GAS5\"  \"ALO6\"  \"VER7\"  \"DEV8\"  \"ZHO9\" \n",
       "[10] \"LAT10\" \"VET11\" \"STR12\" \"PER13\" \"OCO14\" \"BOT15\" \"MAG16\" \"MSC17\" \"SAI18\"\n",
       "[19] \"HAM19\" \"TSU20\""
      ]
     },
     "metadata": {},
     "output_type": "display_data"
    }
   ],
   "source": [
    "namespos"
   ]
  },
  {
   "cell_type": "code",
   "execution_count": 47,
   "id": "737445f2",
   "metadata": {},
   "outputs": [],
   "source": [
    "names_pos <- names_pos[21]"
   ]
  },
  {
   "cell_type": "code",
   "execution_count": 49,
   "id": "805ed4db",
   "metadata": {},
   "outputs": [
    {
     "data": {
      "text/html": [
       "0"
      ],
      "text/latex": [
       "0"
      ],
      "text/markdown": [
       "0"
      ],
      "text/plain": [
       "[1] 0"
      ]
     },
     "metadata": {},
     "output_type": "display_data"
    }
   ],
   "source": [
    "names_pos"
   ]
  },
  {
   "cell_type": "code",
   "execution_count": 55,
   "id": "b2e536bd",
   "metadata": {
    "vscode": {
     "languageId": "r"
    }
   },
   "outputs": [
    {
     "name": "stderr",
     "output_type": "stream",
     "text": [
      "The following `from` values were not present in `x`: RUS, NOR, RIC, GAS, ALO, DEV, ZHO, LAT, VET, STR, PER, OCO, BOT, MAG, MSC, SAI, HAM, TSU\n",
      "\n",
      "The following `from` values were not present in `x`: NOR, RIC, GAS, ALO, DEV, ZHO, LAT, VET, STR, PER, OCO, BOT, MAG, MSC, SAI, HAM, TSU\n",
      "\n",
      "The following `from` values were not present in `x`: NOR, GAS, ALO, DEV, ZHO, LAT, VET, STR, PER, OCO, BOT, MAG, MSC, HAM, TSU\n",
      "\n",
      "The following `from` values were not present in `x`: LEC, GAS, ALO, DEV, ZHO, LAT, VET, STR, PER, OCO, BOT, MAG, MSC, HAM, TSU\n",
      "\n",
      "The following `from` values were not present in `x`: LEC, RUS, ALO, VER, DEV, ZHO, LAT, VET, STR, OCO, BOT, MAG, MSC, TSU\n",
      "\n",
      "The following `from` values were not present in `x`: LEC, RUS, VER, DEV, ZHO, LAT, VET, STR, OCO, BOT, MAG, MSC, TSU\n",
      "\n",
      "The following `from` values were not present in `x`: LEC, RUS, GAS, VER, DEV, ZHO, LAT, VET, STR, OCO, MAG, MSC, TSU\n",
      "\n",
      "The following `from` values were not present in `x`: LEC, RUS, VER, ZHO, LAT, VET, STR, OCO, MAG, TSU\n",
      "\n",
      "The following `from` values were not present in `x`: LEC, RUS, RIC, ALO, VER, LAT, VET, STR, OCO, MAG, TSU\n",
      "\n",
      "The following `from` values were not present in `x`: LEC, RUS, NOR, GAS, ALO, VER, LAT, MAG, MSC, TSU\n",
      "\n",
      "The following `from` values were not present in `x`: LEC, RUS, NOR, ALO, VER, DEV, LAT, PER, TSU\n",
      "\n",
      "The following `from` values were not present in `x`: LEC, RUS, NOR, ALO, VER, LAT, PER, BOT, SAI\n",
      "\n",
      "The following `from` values were not present in `x`: LEC, RUS, NOR, RIC, ALO, VER, LAT, STR\n",
      "\n",
      "The following `from` values were not present in `x`: LEC, RUS, NOR, RIC, GAS, ALO, VER, VET, HAM\n",
      "\n",
      "The following `from` values were not present in `x`: LEC, RUS, NOR, RIC, GAS, ALO, VER, DEV, VET, STR, SAI\n",
      "\n",
      "The following `from` values were not present in `x`: LEC, RUS, NOR, RIC, ALO, VER, DEV, ZHO, VET\n",
      "\n",
      "The following `from` values were not present in `x`: LEC, RUS, NOR, RIC, GAS, ALO, VER, DEV, VET, PER, OCO, SAI\n",
      "\n",
      "The following `from` values were not present in `x`: LEC, RUS, NOR, RIC, GAS, ALO, VER, DEV, ZHO, VET, OCO, SAI\n",
      "\n",
      "The following `from` values were not present in `x`: LEC, RUS, NOR, RIC, GAS, ALO, VER, DEV, ZHO, VET, OCO, SAI, TSU\n",
      "\n",
      "The following `from` values were not present in `x`: LEC, RUS, NOR, RIC, GAS, ALO, VER, DEV, ZHO, LAT, VET, STR, OCO, MAG, MSC, SAI, HAM, TSU\n",
      "\n"
     ]
    }
   ],
   "source": [
    "for (item in namespos){\n",
    "    scores_df_header[[item]] <- mapvalues(scores_df_header[[item]], from=names, to=names_pos)\n",
    "}"
   ]
  },
  {
   "cell_type": "code",
   "execution_count": 56,
   "id": "3effcbdc",
   "metadata": {
    "vscode": {
     "languageId": "r"
    }
   },
   "outputs": [
    {
     "data": {
      "text/html": [
       "<table class=\"dataframe\">\n",
       "<caption>A tibble: 6 × 21</caption>\n",
       "<thead>\n",
       "\t<tr><th scope=col></th><th scope=col>LEC1</th><th scope=col>RUS2</th><th scope=col>NOR3</th><th scope=col>RIC4</th><th scope=col>GAS5</th><th scope=col>ALO6</th><th scope=col>VER7</th><th scope=col>DEV8</th><th scope=col>ZHO9</th><th scope=col>...</th><th scope=col>VET11</th><th scope=col>STR12</th><th scope=col>PER13</th><th scope=col>OCO14</th><th scope=col>BOT15</th><th scope=col>MAG16</th><th scope=col>MSC17</th><th scope=col>SAI18</th><th scope=col>HAM19</th><th scope=col>TSU20</th></tr>\n",
       "\t<tr><th scope=col>&lt;int&gt;</th><th scope=col>&lt;chr&gt;</th><th scope=col>&lt;chr&gt;</th><th scope=col>&lt;chr&gt;</th><th scope=col>&lt;chr&gt;</th><th scope=col>&lt;chr&gt;</th><th scope=col>&lt;chr&gt;</th><th scope=col>&lt;chr&gt;</th><th scope=col>&lt;chr&gt;</th><th scope=col>&lt;chr&gt;</th><th scope=col>...</th><th scope=col>&lt;chr&gt;</th><th scope=col>&lt;chr&gt;</th><th scope=col>&lt;chr&gt;</th><th scope=col>&lt;chr&gt;</th><th scope=col>&lt;chr&gt;</th><th scope=col>&lt;chr&gt;</th><th scope=col>&lt;chr&gt;</th><th scope=col>&lt;chr&gt;</th><th scope=col>&lt;chr&gt;</th><th scope=col>&lt;chr&gt;</th></tr>\n",
       "</thead>\n",
       "<tbody>\n",
       "\t<tr><td>48</td><td>7</td><td>1</td><td>2</td><td>18</td><td>19</td><td>13</td><td>3</td><td>5</td><td>8</td><td>...</td><td>14</td><td>17</td><td>15</td><td>20</td><td>10</td><td>16</td><td></td><td></td><td></td><td></td></tr>\n",
       "\t<tr><td>49</td><td>7</td><td>1</td><td>2</td><td>18</td><td>19</td><td>13</td><td>3</td><td>5</td><td>8</td><td>...</td><td>14</td><td>17</td><td>15</td><td>20</td><td>10</td><td>16</td><td></td><td></td><td></td><td></td></tr>\n",
       "\t<tr><td>50</td><td>7</td><td>1</td><td>2</td><td>18</td><td>19</td><td>13</td><td>3</td><td>5</td><td>8</td><td>...</td><td>14</td><td>17</td><td>15</td><td>20</td><td>10</td><td>16</td><td></td><td></td><td></td><td></td></tr>\n",
       "\t<tr><td>51</td><td>7</td><td>1</td><td>2</td><td>18</td><td>19</td><td>13</td><td>3</td><td>5</td><td>8</td><td>...</td><td>14</td><td>17</td><td>15</td><td>20</td><td>10</td><td>16</td><td></td><td></td><td></td><td></td></tr>\n",
       "\t<tr><td>52</td><td>7</td><td>1</td><td>2</td><td>18</td><td>19</td><td>13</td><td>3</td><td>5</td><td>8</td><td>...</td><td>14</td><td>17</td><td>15</td><td>20</td><td>10</td><td>16</td><td></td><td></td><td></td><td></td></tr>\n",
       "\t<tr><td>53</td><td>7</td><td>1</td><td>2</td><td>18</td><td>19</td><td>13</td><td>3</td><td>5</td><td>8</td><td>...</td><td>14</td><td>17</td><td>  </td><td>  </td><td>  </td><td>  </td><td></td><td></td><td></td><td></td></tr>\n",
       "</tbody>\n",
       "</table>\n"
      ],
      "text/latex": [
       "A tibble: 6 × 21\n",
       "\\begin{tabular}{lllllllllllllllllllll}\n",
       "  & LEC1 & RUS2 & NOR3 & RIC4 & GAS5 & ALO6 & VER7 & DEV8 & ZHO9 & ... & VET11 & STR12 & PER13 & OCO14 & BOT15 & MAG16 & MSC17 & SAI18 & HAM19 & TSU20\\\\\n",
       " <int> & <chr> & <chr> & <chr> & <chr> & <chr> & <chr> & <chr> & <chr> & <chr> & ... & <chr> & <chr> & <chr> & <chr> & <chr> & <chr> & <chr> & <chr> & <chr> & <chr>\\\\\n",
       "\\hline\n",
       "\t 48 & 7 & 1 & 2 & 18 & 19 & 13 & 3 & 5 & 8 & ... & 14 & 17 & 15 & 20 & 10 & 16 &  &  &  & \\\\\n",
       "\t 49 & 7 & 1 & 2 & 18 & 19 & 13 & 3 & 5 & 8 & ... & 14 & 17 & 15 & 20 & 10 & 16 &  &  &  & \\\\\n",
       "\t 50 & 7 & 1 & 2 & 18 & 19 & 13 & 3 & 5 & 8 & ... & 14 & 17 & 15 & 20 & 10 & 16 &  &  &  & \\\\\n",
       "\t 51 & 7 & 1 & 2 & 18 & 19 & 13 & 3 & 5 & 8 & ... & 14 & 17 & 15 & 20 & 10 & 16 &  &  &  & \\\\\n",
       "\t 52 & 7 & 1 & 2 & 18 & 19 & 13 & 3 & 5 & 8 & ... & 14 & 17 & 15 & 20 & 10 & 16 &  &  &  & \\\\\n",
       "\t 53 & 7 & 1 & 2 & 18 & 19 & 13 & 3 & 5 & 8 & ... & 14 & 17 &    &    &    &    &  &  &  & \\\\\n",
       "\\end{tabular}\n"
      ],
      "text/markdown": [
       "\n",
       "A tibble: 6 × 21\n",
       "\n",
       "| <!----> &lt;int&gt; | LEC1 &lt;chr&gt; | RUS2 &lt;chr&gt; | NOR3 &lt;chr&gt; | RIC4 &lt;chr&gt; | GAS5 &lt;chr&gt; | ALO6 &lt;chr&gt; | VER7 &lt;chr&gt; | DEV8 &lt;chr&gt; | ZHO9 &lt;chr&gt; | ... ... | VET11 &lt;chr&gt; | STR12 &lt;chr&gt; | PER13 &lt;chr&gt; | OCO14 &lt;chr&gt; | BOT15 &lt;chr&gt; | MAG16 &lt;chr&gt; | MSC17 &lt;chr&gt; | SAI18 &lt;chr&gt; | HAM19 &lt;chr&gt; | TSU20 &lt;chr&gt; |\n",
       "|---|---|---|---|---|---|---|---|---|---|---|---|---|---|---|---|---|---|---|---|---|\n",
       "| 48 | 7 | 1 | 2 | 18 | 19 | 13 | 3 | 5 | 8 | ... | 14 | 17 | 15 | 20 | 10 | 16 | <!----> | <!----> | <!----> | <!----> |\n",
       "| 49 | 7 | 1 | 2 | 18 | 19 | 13 | 3 | 5 | 8 | ... | 14 | 17 | 15 | 20 | 10 | 16 | <!----> | <!----> | <!----> | <!----> |\n",
       "| 50 | 7 | 1 | 2 | 18 | 19 | 13 | 3 | 5 | 8 | ... | 14 | 17 | 15 | 20 | 10 | 16 | <!----> | <!----> | <!----> | <!----> |\n",
       "| 51 | 7 | 1 | 2 | 18 | 19 | 13 | 3 | 5 | 8 | ... | 14 | 17 | 15 | 20 | 10 | 16 | <!----> | <!----> | <!----> | <!----> |\n",
       "| 52 | 7 | 1 | 2 | 18 | 19 | 13 | 3 | 5 | 8 | ... | 14 | 17 | 15 | 20 | 10 | 16 | <!----> | <!----> | <!----> | <!----> |\n",
       "| 53 | 7 | 1 | 2 | 18 | 19 | 13 | 3 | 5 | 8 | ... | 14 | 17 | <!----> | <!----> | <!----> | <!----> | <!----> | <!----> | <!----> | <!----> |\n",
       "\n"
      ],
      "text/plain": [
       "     LEC1 RUS2 NOR3 RIC4 GAS5 ALO6 VER7 DEV8 ZHO9 ... VET11 STR12 PER13 OCO14\n",
       "1 48 7    1    2    18   19   13   3    5    8    ... 14    17    15    20   \n",
       "2 49 7    1    2    18   19   13   3    5    8    ... 14    17    15    20   \n",
       "3 50 7    1    2    18   19   13   3    5    8    ... 14    17    15    20   \n",
       "4 51 7    1    2    18   19   13   3    5    8    ... 14    17    15    20   \n",
       "5 52 7    1    2    18   19   13   3    5    8    ... 14    17    15    20   \n",
       "6 53 7    1    2    18   19   13   3    5    8    ... 14    17               \n",
       "  BOT15 MAG16 MSC17 SAI18 HAM19 TSU20\n",
       "1 10    16                           \n",
       "2 10    16                           \n",
       "3 10    16                           \n",
       "4 10    16                           \n",
       "5 10    16                           \n",
       "6                                    "
      ]
     },
     "metadata": {},
     "output_type": "display_data"
    }
   ],
   "source": [
    "scores_df_header %>% tail()"
   ]
  },
  {
   "cell_type": "code",
   "execution_count": 57,
   "id": "a3b96f59",
   "metadata": {
    "vscode": {
     "languageId": "r"
    }
   },
   "outputs": [
    {
     "data": {
      "text/html": [
       "<table class=\"dataframe\">\n",
       "<caption>A tibble: 6 × 21</caption>\n",
       "<thead>\n",
       "\t<tr><th scope=col>X1</th><th scope=col>X2</th><th scope=col>X3</th><th scope=col>X4</th><th scope=col>X5</th><th scope=col>X6</th><th scope=col>X7</th><th scope=col>X8</th><th scope=col>X9</th><th scope=col>X10</th><th scope=col>...</th><th scope=col>X12</th><th scope=col>X13</th><th scope=col>X14</th><th scope=col>X15</th><th scope=col>X16</th><th scope=col>X17</th><th scope=col>X18</th><th scope=col>X19</th><th scope=col>X20</th><th scope=col>X21</th></tr>\n",
       "\t<tr><th scope=col>&lt;int&gt;</th><th scope=col>&lt;chr&gt;</th><th scope=col>&lt;chr&gt;</th><th scope=col>&lt;chr&gt;</th><th scope=col>&lt;chr&gt;</th><th scope=col>&lt;chr&gt;</th><th scope=col>&lt;chr&gt;</th><th scope=col>&lt;chr&gt;</th><th scope=col>&lt;chr&gt;</th><th scope=col>&lt;chr&gt;</th><th scope=col>...</th><th scope=col>&lt;chr&gt;</th><th scope=col>&lt;chr&gt;</th><th scope=col>&lt;chr&gt;</th><th scope=col>&lt;chr&gt;</th><th scope=col>&lt;chr&gt;</th><th scope=col>&lt;chr&gt;</th><th scope=col>&lt;chr&gt;</th><th scope=col>&lt;chr&gt;</th><th scope=col>&lt;chr&gt;</th><th scope=col>&lt;chr&gt;</th></tr>\n",
       "</thead>\n",
       "<tbody>\n",
       "\t<tr><td>NA</td><td>LEC1</td><td>RUS2</td><td>NOR3</td><td>RIC4</td><td>GAS5</td><td>ALO6</td><td>VER7</td><td>DEV8</td><td>ZHO9</td><td>...</td><td>VET11</td><td>STR12</td><td>PER13</td><td>OCO14</td><td>BOT15</td><td>MAG16</td><td>MSC17</td><td>SAI18</td><td>HAM19</td><td>TSU20</td></tr>\n",
       "\t<tr><td> 1</td><td>LEC </td><td>RUS </td><td>RIC </td><td>VER </td><td>GAS </td><td>NOR </td><td>ALO </td><td>DEV </td><td>ZHO </td><td>...</td><td>STR  </td><td>MAG  </td><td>OCO  </td><td>LAT  </td><td>PER  </td><td>SAI  </td><td>MSC  </td><td>TSU  </td><td>HAM  </td><td>BOT  </td></tr>\n",
       "\t<tr><td> 2</td><td>LEC </td><td>RUS </td><td>VER </td><td>RIC </td><td>GAS </td><td>NOR </td><td>ALO </td><td>DEV </td><td>ZHO </td><td>...</td><td>VET  </td><td>OCO  </td><td>MAG  </td><td>SAI  </td><td>LAT  </td><td>PER  </td><td>TSU  </td><td>HAM  </td><td>MSC  </td><td>BOT  </td></tr>\n",
       "\t<tr><td> 3</td><td>LEC </td><td>RUS </td><td>VER </td><td>RIC </td><td>GAS </td><td>NOR </td><td>ALO </td><td>DEV </td><td>ZHO </td><td>...</td><td>VET  </td><td>OCO  </td><td>MAG  </td><td>SAI  </td><td>PER  </td><td>LAT  </td><td>TSU  </td><td>HAM  </td><td>MSC  </td><td>BOT  </td></tr>\n",
       "\t<tr><td> 4</td><td>LEC </td><td>RUS </td><td>VER </td><td>RIC </td><td>GAS </td><td>NOR </td><td>ALO </td><td>DEV </td><td>ZHO </td><td>...</td><td>VET  </td><td>OCO  </td><td>SAI  </td><td>PER  </td><td>MAG  </td><td>LAT  </td><td>TSU  </td><td>HAM  </td><td>MSC  </td><td>BOT  </td></tr>\n",
       "\t<tr><td> 5</td><td>LEC </td><td>VER </td><td>RUS </td><td>RIC </td><td>GAS </td><td>NOR </td><td>ALO </td><td>DEV </td><td>ZHO </td><td>...</td><td>SAI  </td><td>VET  </td><td>OCO  </td><td>PER  </td><td>MAG  </td><td>LAT  </td><td>TSU  </td><td>HAM  </td><td>MSC  </td><td>BOT  </td></tr>\n",
       "</tbody>\n",
       "</table>\n"
      ],
      "text/latex": [
       "A tibble: 6 × 21\n",
       "\\begin{tabular}{lllllllllllllllllllll}\n",
       " X1 & X2 & X3 & X4 & X5 & X6 & X7 & X8 & X9 & X10 & ... & X12 & X13 & X14 & X15 & X16 & X17 & X18 & X19 & X20 & X21\\\\\n",
       " <int> & <chr> & <chr> & <chr> & <chr> & <chr> & <chr> & <chr> & <chr> & <chr> & ... & <chr> & <chr> & <chr> & <chr> & <chr> & <chr> & <chr> & <chr> & <chr> & <chr>\\\\\n",
       "\\hline\n",
       "\t NA & LEC1 & RUS2 & NOR3 & RIC4 & GAS5 & ALO6 & VER7 & DEV8 & ZHO9 & ... & VET11 & STR12 & PER13 & OCO14 & BOT15 & MAG16 & MSC17 & SAI18 & HAM19 & TSU20\\\\\n",
       "\t  1 & LEC  & RUS  & RIC  & VER  & GAS  & NOR  & ALO  & DEV  & ZHO  & ... & STR   & MAG   & OCO   & LAT   & PER   & SAI   & MSC   & TSU   & HAM   & BOT  \\\\\n",
       "\t  2 & LEC  & RUS  & VER  & RIC  & GAS  & NOR  & ALO  & DEV  & ZHO  & ... & VET   & OCO   & MAG   & SAI   & LAT   & PER   & TSU   & HAM   & MSC   & BOT  \\\\\n",
       "\t  3 & LEC  & RUS  & VER  & RIC  & GAS  & NOR  & ALO  & DEV  & ZHO  & ... & VET   & OCO   & MAG   & SAI   & PER   & LAT   & TSU   & HAM   & MSC   & BOT  \\\\\n",
       "\t  4 & LEC  & RUS  & VER  & RIC  & GAS  & NOR  & ALO  & DEV  & ZHO  & ... & VET   & OCO   & SAI   & PER   & MAG   & LAT   & TSU   & HAM   & MSC   & BOT  \\\\\n",
       "\t  5 & LEC  & VER  & RUS  & RIC  & GAS  & NOR  & ALO  & DEV  & ZHO  & ... & SAI   & VET   & OCO   & PER   & MAG   & LAT   & TSU   & HAM   & MSC   & BOT  \\\\\n",
       "\\end{tabular}\n"
      ],
      "text/markdown": [
       "\n",
       "A tibble: 6 × 21\n",
       "\n",
       "| X1 &lt;int&gt; | X2 &lt;chr&gt; | X3 &lt;chr&gt; | X4 &lt;chr&gt; | X5 &lt;chr&gt; | X6 &lt;chr&gt; | X7 &lt;chr&gt; | X8 &lt;chr&gt; | X9 &lt;chr&gt; | X10 &lt;chr&gt; | ... ... | X12 &lt;chr&gt; | X13 &lt;chr&gt; | X14 &lt;chr&gt; | X15 &lt;chr&gt; | X16 &lt;chr&gt; | X17 &lt;chr&gt; | X18 &lt;chr&gt; | X19 &lt;chr&gt; | X20 &lt;chr&gt; | X21 &lt;chr&gt; |\n",
       "|---|---|---|---|---|---|---|---|---|---|---|---|---|---|---|---|---|---|---|---|---|\n",
       "| NA | LEC1 | RUS2 | NOR3 | RIC4 | GAS5 | ALO6 | VER7 | DEV8 | ZHO9 | ... | VET11 | STR12 | PER13 | OCO14 | BOT15 | MAG16 | MSC17 | SAI18 | HAM19 | TSU20 |\n",
       "|  1 | LEC  | RUS  | RIC  | VER  | GAS  | NOR  | ALO  | DEV  | ZHO  | ... | STR   | MAG   | OCO   | LAT   | PER   | SAI   | MSC   | TSU   | HAM   | BOT   |\n",
       "|  2 | LEC  | RUS  | VER  | RIC  | GAS  | NOR  | ALO  | DEV  | ZHO  | ... | VET   | OCO   | MAG   | SAI   | LAT   | PER   | TSU   | HAM   | MSC   | BOT   |\n",
       "|  3 | LEC  | RUS  | VER  | RIC  | GAS  | NOR  | ALO  | DEV  | ZHO  | ... | VET   | OCO   | MAG   | SAI   | PER   | LAT   | TSU   | HAM   | MSC   | BOT   |\n",
       "|  4 | LEC  | RUS  | VER  | RIC  | GAS  | NOR  | ALO  | DEV  | ZHO  | ... | VET   | OCO   | SAI   | PER   | MAG   | LAT   | TSU   | HAM   | MSC   | BOT   |\n",
       "|  5 | LEC  | VER  | RUS  | RIC  | GAS  | NOR  | ALO  | DEV  | ZHO  | ... | SAI   | VET   | OCO   | PER   | MAG   | LAT   | TSU   | HAM   | MSC   | BOT   |\n",
       "\n"
      ],
      "text/plain": [
       "  X1 X2   X3   X4   X5   X6   X7   X8   X9   X10  ... X12   X13   X14   X15  \n",
       "1 NA LEC1 RUS2 NOR3 RIC4 GAS5 ALO6 VER7 DEV8 ZHO9 ... VET11 STR12 PER13 OCO14\n",
       "2  1 LEC  RUS  RIC  VER  GAS  NOR  ALO  DEV  ZHO  ... STR   MAG   OCO   LAT  \n",
       "3  2 LEC  RUS  VER  RIC  GAS  NOR  ALO  DEV  ZHO  ... VET   OCO   MAG   SAI  \n",
       "4  3 LEC  RUS  VER  RIC  GAS  NOR  ALO  DEV  ZHO  ... VET   OCO   MAG   SAI  \n",
       "5  4 LEC  RUS  VER  RIC  GAS  NOR  ALO  DEV  ZHO  ... VET   OCO   SAI   PER  \n",
       "6  5 LEC  VER  RUS  RIC  GAS  NOR  ALO  DEV  ZHO  ... SAI   VET   OCO   PER  \n",
       "  X16   X17   X18   X19   X20   X21  \n",
       "1 BOT15 MAG16 MSC17 SAI18 HAM19 TSU20\n",
       "2 PER   SAI   MSC   TSU   HAM   BOT  \n",
       "3 LAT   PER   TSU   HAM   MSC   BOT  \n",
       "4 PER   LAT   TSU   HAM   MSC   BOT  \n",
       "5 MAG   LAT   TSU   HAM   MSC   BOT  \n",
       "6 MAG   LAT   TSU   HAM   MSC   BOT  "
      ]
     },
     "metadata": {},
     "output_type": "display_data"
    }
   ],
   "source": [
    "scores_df %>% head()"
   ]
  },
  {
   "cell_type": "code",
   "execution_count": 58,
   "id": "e20e9906",
   "metadata": {
    "vscode": {
     "languageId": "r"
    }
   },
   "outputs": [],
   "source": [
    "laps <- scores_df_header %>% nrow"
   ]
  },
  {
   "cell_type": "code",
   "execution_count": 59,
   "id": "62b2da01",
   "metadata": {
    "vscode": {
     "languageId": "r"
    }
   },
   "outputs": [
    {
     "data": {
      "text/html": [
       "53"
      ],
      "text/latex": [
       "53"
      ],
      "text/markdown": [
       "53"
      ],
      "text/plain": [
       "[1] 53"
      ]
     },
     "metadata": {},
     "output_type": "display_data"
    }
   ],
   "source": [
    "laps"
   ]
  },
  {
   "cell_type": "code",
   "execution_count": 60,
   "id": "87b3f833",
   "metadata": {
    "vscode": {
     "languageId": "r"
    }
   },
   "outputs": [
    {
     "ename": "ERROR",
     "evalue": "Error in parse(text = x, srcfile = src): <text>:2:45: unexpected '['\n1: for (i in 1:laps){\n2:     which(scores_df_header[i] == 7) - which([\n                                               ^\n",
     "output_type": "error",
     "traceback": [
      "Error in parse(text = x, srcfile = src): <text>:2:45: unexpected '['\n1: for (i in 1:laps){\n2:     which(scores_df_header[i] == 7) - which([\n                                               ^\nTraceback:\n"
     ]
    }
   ],
   "source": [
    "for (i in 1:laps){\n",
    "    which(scores_df_header[i] == 7) - which([i+1] == 7)\n",
    "}"
   ]
  },
  {
   "cell_type": "code",
   "execution_count": 61,
   "id": "972214c7",
   "metadata": {
    "vscode": {
     "languageId": "r"
    }
   },
   "outputs": [],
   "source": [
    "players <- 1:length(scores_df_header)-1"
   ]
  },
  {
   "cell_type": "code",
   "execution_count": 62,
   "id": "eacc84d9",
   "metadata": {
    "vscode": {
     "languageId": "r"
    }
   },
   "outputs": [
    {
     "data": {
      "text/html": [
       "<style>\n",
       ".list-inline {list-style: none; margin:0; padding: 0}\n",
       ".list-inline>li {display: inline-block}\n",
       ".list-inline>li:not(:last-child)::after {content: \"\\00b7\"; padding: 0 .5ex}\n",
       "</style>\n",
       "<ol class=list-inline><li>0</li><li>1</li><li>2</li><li>3</li><li>4</li><li>5</li><li>6</li><li>7</li><li>8</li><li>9</li><li>10</li><li>11</li><li>12</li><li>13</li><li>14</li><li>15</li><li>16</li><li>17</li><li>18</li><li>19</li><li>20</li></ol>\n"
      ],
      "text/latex": [
       "\\begin{enumerate*}\n",
       "\\item 0\n",
       "\\item 1\n",
       "\\item 2\n",
       "\\item 3\n",
       "\\item 4\n",
       "\\item 5\n",
       "\\item 6\n",
       "\\item 7\n",
       "\\item 8\n",
       "\\item 9\n",
       "\\item 10\n",
       "\\item 11\n",
       "\\item 12\n",
       "\\item 13\n",
       "\\item 14\n",
       "\\item 15\n",
       "\\item 16\n",
       "\\item 17\n",
       "\\item 18\n",
       "\\item 19\n",
       "\\item 20\n",
       "\\end{enumerate*}\n"
      ],
      "text/markdown": [
       "1. 0\n",
       "2. 1\n",
       "3. 2\n",
       "4. 3\n",
       "5. 4\n",
       "6. 5\n",
       "7. 6\n",
       "8. 7\n",
       "9. 8\n",
       "10. 9\n",
       "11. 10\n",
       "12. 11\n",
       "13. 12\n",
       "14. 13\n",
       "15. 14\n",
       "16. 15\n",
       "17. 16\n",
       "18. 17\n",
       "19. 18\n",
       "20. 19\n",
       "21. 20\n",
       "\n",
       "\n"
      ],
      "text/plain": [
       " [1]  0  1  2  3  4  5  6  7  8  9 10 11 12 13 14 15 16 17 18 19 20"
      ]
     },
     "metadata": {},
     "output_type": "display_data"
    }
   ],
   "source": [
    "players"
   ]
  },
  {
   "cell_type": "code",
   "execution_count": 63,
   "id": "0108afcc",
   "metadata": {
    "vscode": {
     "languageId": "r"
    }
   },
   "outputs": [],
   "source": [
    "players <- players[-1]"
   ]
  },
  {
   "cell_type": "code",
   "execution_count": 64,
   "id": "96e18502",
   "metadata": {
    "vscode": {
     "languageId": "r"
    }
   },
   "outputs": [
    {
     "data": {
      "text/html": [
       "<style>\n",
       ".list-inline {list-style: none; margin:0; padding: 0}\n",
       ".list-inline>li {display: inline-block}\n",
       ".list-inline>li:not(:last-child)::after {content: \"\\00b7\"; padding: 0 .5ex}\n",
       "</style>\n",
       "<ol class=list-inline><li>1</li><li>2</li><li>3</li><li>4</li><li>5</li><li>6</li><li>7</li><li>8</li><li>9</li><li>10</li><li>11</li><li>12</li><li>13</li><li>14</li><li>15</li><li>16</li><li>17</li><li>18</li><li>19</li><li>20</li></ol>\n"
      ],
      "text/latex": [
       "\\begin{enumerate*}\n",
       "\\item 1\n",
       "\\item 2\n",
       "\\item 3\n",
       "\\item 4\n",
       "\\item 5\n",
       "\\item 6\n",
       "\\item 7\n",
       "\\item 8\n",
       "\\item 9\n",
       "\\item 10\n",
       "\\item 11\n",
       "\\item 12\n",
       "\\item 13\n",
       "\\item 14\n",
       "\\item 15\n",
       "\\item 16\n",
       "\\item 17\n",
       "\\item 18\n",
       "\\item 19\n",
       "\\item 20\n",
       "\\end{enumerate*}\n"
      ],
      "text/markdown": [
       "1. 1\n",
       "2. 2\n",
       "3. 3\n",
       "4. 4\n",
       "5. 5\n",
       "6. 6\n",
       "7. 7\n",
       "8. 8\n",
       "9. 9\n",
       "10. 10\n",
       "11. 11\n",
       "12. 12\n",
       "13. 13\n",
       "14. 14\n",
       "15. 15\n",
       "16. 16\n",
       "17. 17\n",
       "18. 18\n",
       "19. 19\n",
       "20. 20\n",
       "\n",
       "\n"
      ],
      "text/plain": [
       " [1]  1  2  3  4  5  6  7  8  9 10 11 12 13 14 15 16 17 18 19 20"
      ]
     },
     "metadata": {},
     "output_type": "display_data"
    }
   ],
   "source": [
    "players"
   ]
  },
  {
   "cell_type": "code",
   "execution_count": 65,
   "id": "a0951f4f",
   "metadata": {
    "vscode": {
     "languageId": "r"
    }
   },
   "outputs": [],
   "source": [
    "table_without_laps <- rbind(players, table_without_laps)"
   ]
  },
  {
   "cell_type": "code",
   "execution_count": 66,
   "id": "676d8f02",
   "metadata": {
    "vscode": {
     "languageId": "r"
    }
   },
   "outputs": [],
   "source": [
    "table_without_laps <- scores_df_header[-1]"
   ]
  },
  {
   "cell_type": "code",
   "execution_count": 67,
   "id": "2c6f9da8",
   "metadata": {
    "vscode": {
     "languageId": "r"
    }
   },
   "outputs": [
    {
     "name": "stdout",
     "output_type": "stream",
     "text": [
      "[1] 2\n",
      "[1] 2\n",
      "[1] 7\n"
     ]
    },
    {
     "ename": "ERROR",
     "evalue": "Error in if (a > 0) {: argument is of length zero\n",
     "output_type": "error",
     "traceback": [
      "Error in if (a > 0) {: argument is of length zero\nTraceback:\n"
     ]
    }
   ],
   "source": [
    "overlap <- 0\n",
    "for (j in 1:20){\n",
    "    for (i in 1:52){\n",
    "        a <- which(table_without_laps[i, ] == j) - which(table_without_laps[i+1, ] == j)\n",
    "        if (a > 0){\n",
    "            overlap <- overlap + a\n",
    "        }\n",
    "    \n",
    "    }\n",
    "    print(overlap)\n",
    "    overlap <- 0\n",
    "}\n"
   ]
  },
  {
   "cell_type": "code",
   "execution_count": 68,
   "id": "e1e4eaa9",
   "metadata": {
    "vscode": {
     "languageId": "r"
    }
   },
   "outputs": [
    {
     "data": {
      "text/html": [],
      "text/latex": [],
      "text/markdown": [],
      "text/plain": [
       "integer(0)"
      ]
     },
     "metadata": {},
     "output_type": "display_data"
    },
    {
     "data": {
      "text/html": [
       "'integer'"
      ],
      "text/latex": [
       "'integer'"
      ],
      "text/markdown": [
       "'integer'"
      ],
      "text/plain": [
       "[1] \"integer\""
      ]
     },
     "metadata": {},
     "output_type": "display_data"
    }
   ],
   "source": [
    "a\n",
    "a %>% class()"
   ]
  },
  {
   "cell_type": "code",
   "execution_count": 196,
   "id": "a5400be6",
   "metadata": {
    "vscode": {
     "languageId": "r"
    }
   },
   "outputs": [
    {
     "name": "stdout",
     "output_type": "stream",
     "text": [
      "[1] \"Greater\"\n"
     ]
    }
   ],
   "source": [
    "if (a > 0)\n",
    "{\n",
    "    print('Greater')\n",
    "}"
   ]
  },
  {
   "cell_type": "code",
   "execution_count": 187,
   "id": "3306a3d4",
   "metadata": {
    "vscode": {
     "languageId": "r"
    }
   },
   "outputs": [
    {
     "data": {
      "text/html": [
       "<style>\n",
       ".list-inline {list-style: none; margin:0; padding: 0}\n",
       ".list-inline>li {display: inline-block}\n",
       ".list-inline>li:not(:last-child)::after {content: \"\\00b7\"; padding: 0 .5ex}\n",
       "</style>\n",
       "<ol class=list-inline><li>0</li><li>1</li><li>2</li><li>3</li><li>4</li><li>5</li><li>6</li><li>7</li><li>8</li><li>9</li><li>10</li><li>11</li><li>12</li><li>13</li><li>14</li><li>15</li><li>16</li><li>17</li><li>18</li><li>19</li><li>20</li></ol>\n"
      ],
      "text/latex": [
       "\\begin{enumerate*}\n",
       "\\item 0\n",
       "\\item 1\n",
       "\\item 2\n",
       "\\item 3\n",
       "\\item 4\n",
       "\\item 5\n",
       "\\item 6\n",
       "\\item 7\n",
       "\\item 8\n",
       "\\item 9\n",
       "\\item 10\n",
       "\\item 11\n",
       "\\item 12\n",
       "\\item 13\n",
       "\\item 14\n",
       "\\item 15\n",
       "\\item 16\n",
       "\\item 17\n",
       "\\item 18\n",
       "\\item 19\n",
       "\\item 20\n",
       "\\end{enumerate*}\n"
      ],
      "text/markdown": [
       "1. 0\n",
       "2. 1\n",
       "3. 2\n",
       "4. 3\n",
       "5. 4\n",
       "6. 5\n",
       "7. 6\n",
       "8. 7\n",
       "9. 8\n",
       "10. 9\n",
       "11. 10\n",
       "12. 11\n",
       "13. 12\n",
       "14. 13\n",
       "15. 14\n",
       "16. 15\n",
       "17. 16\n",
       "18. 17\n",
       "19. 18\n",
       "20. 19\n",
       "21. 20\n",
       "\n",
       "\n"
      ],
      "text/plain": [
       " [1]  0  1  2  3  4  5  6  7  8  9 10 11 12 13 14 15 16 17 18 19 20"
      ]
     },
     "metadata": {},
     "output_type": "display_data"
    }
   ],
   "source": [
    "players"
   ]
  },
  {
   "cell_type": "code",
   "execution_count": 210,
   "id": "9d8a69d6",
   "metadata": {
    "vscode": {
     "languageId": "r"
    }
   },
   "outputs": [
    {
     "name": "stdout",
     "output_type": "stream",
     "text": [
      "numeric(0)\n"
     ]
    },
    {
     "ename": "ERROR",
     "evalue": "Error in if (ans > 0) {: argument is of length zero\n",
     "output_type": "error",
     "traceback": [
      "Error in if (ans > 0) {: argument is of length zero\nTraceback:\n"
     ]
    }
   ],
   "source": [
    "sum <- 0\n",
    "ans <-\n",
    "for (j in 1:length(players)-1){\n",
    "    for (i in 1:laps){\n",
    "        ans <- which(table_without_laps[i, ] == j) - which(table_without_laps[i+1, ] == j)\n",
    "        print(as.numeric(ans))\n",
    "        if (ans > 0){\n",
    "            sum = sum + ans\n",
    "        }\n",
    "    }\n",
    "    return(sum)\n",
    "    sum <- 0\n",
    "}"
   ]
  },
  {
   "cell_type": "code",
   "execution_count": 218,
   "id": "d9413178",
   "metadata": {
    "vscode": {
     "languageId": "r"
    }
   },
   "outputs": [
    {
     "data": {
      "text/html": [
       "53"
      ],
      "text/latex": [
       "53"
      ],
      "text/markdown": [
       "53"
      ],
      "text/plain": [
       "[1] 53"
      ]
     },
     "metadata": {},
     "output_type": "display_data"
    }
   ],
   "source": [
    "laps"
   ]
  },
  {
   "cell_type": "code",
   "execution_count": 291,
   "id": "1540c880",
   "metadata": {
    "vscode": {
     "languageId": "r"
    }
   },
   "outputs": [
    {
     "ename": "ERROR",
     "evalue": "Error in if (ans > 0) {: argument is of length zero\n",
     "output_type": "error",
     "traceback": [
      "Error in if (ans > 0) {: argument is of length zero\nTraceback:\n"
     ]
    }
   ],
   "source": [
    "overlaps <- 0\n",
    "df <- data.frame()\n",
    "for (pno in 1:20){\n",
    "    for (i in 1:53){\n",
    "        ans <- which(table_without_laps[i, ] == pno) - which(table_without_laps[i+1, ] == pno)\n",
    "        if (ans > 0) {\n",
    "            overlaps = overlaps + which(table_without_laps[i, ] == pno) - which(table_without_laps[i+1, ] == pno)\n",
    "        }\n",
    "    }\n",
    "    df <- rbind(df, c(pno, overlaps))\n",
    "    overlaps <- 0\n",
    "}"
   ]
  },
  {
   "cell_type": "code",
   "execution_count": 292,
   "id": "ff9b10f6",
   "metadata": {
    "vscode": {
     "languageId": "r"
    }
   },
   "outputs": [
    {
     "data": {
      "text/html": [
       "<table class=\"dataframe\">\n",
       "<caption>A data.frame: 3 × 2</caption>\n",
       "<thead>\n",
       "\t<tr><th scope=col>X1</th><th scope=col>X2</th></tr>\n",
       "\t<tr><th scope=col>&lt;dbl&gt;</th><th scope=col>&lt;dbl&gt;</th></tr>\n",
       "</thead>\n",
       "<tbody>\n",
       "\t<tr><td>1</td><td>2</td></tr>\n",
       "\t<tr><td>2</td><td>2</td></tr>\n",
       "\t<tr><td>3</td><td>7</td></tr>\n",
       "</tbody>\n",
       "</table>\n"
      ],
      "text/latex": [
       "A data.frame: 3 × 2\n",
       "\\begin{tabular}{ll}\n",
       " X1 & X2\\\\\n",
       " <dbl> & <dbl>\\\\\n",
       "\\hline\n",
       "\t 1 & 2\\\\\n",
       "\t 2 & 2\\\\\n",
       "\t 3 & 7\\\\\n",
       "\\end{tabular}\n"
      ],
      "text/markdown": [
       "\n",
       "A data.frame: 3 × 2\n",
       "\n",
       "| X1 &lt;dbl&gt; | X2 &lt;dbl&gt; |\n",
       "|---|---|\n",
       "| 1 | 2 |\n",
       "| 2 | 2 |\n",
       "| 3 | 7 |\n",
       "\n"
      ],
      "text/plain": [
       "  X1 X2\n",
       "1 1  2 \n",
       "2 2  2 \n",
       "3 3  7 "
      ]
     },
     "metadata": {},
     "output_type": "display_data"
    }
   ],
   "source": [
    "df"
   ]
  },
  {
   "cell_type": "code",
   "execution_count": 280,
   "id": "062dc073",
   "metadata": {
    "vscode": {
     "languageId": "r"
    }
   },
   "outputs": [
    {
     "name": "stdout",
     "output_type": "stream",
     "text": [
      "[1] 2\n"
     ]
    }
   ],
   "source": [
    "num <- 2\n",
    "if (num > 1){\n",
    "    print(num)\n",
    "}"
   ]
  },
  {
   "cell_type": "code",
   "execution_count": 217,
   "id": "053a2063",
   "metadata": {
    "vscode": {
     "languageId": "r"
    }
   },
   "outputs": [
    {
     "data": {
      "text/html": [
       "21"
      ],
      "text/latex": [
       "21"
      ],
      "text/markdown": [
       "21"
      ],
      "text/plain": [
       "[1] 21"
      ]
     },
     "metadata": {},
     "output_type": "display_data"
    }
   ],
   "source": [
    "versum"
   ]
  },
  {
   "cell_type": "code",
   "execution_count": 270,
   "id": "15f41a23",
   "metadata": {
    "vscode": {
     "languageId": "r"
    }
   },
   "outputs": [],
   "source": [
    "df <- data.frame(Player = c(0), Overlaps = c(0), stringsAsFactors = FALSE)"
   ]
  },
  {
   "cell_type": "code",
   "execution_count": 271,
   "id": "e46d2145",
   "metadata": {
    "vscode": {
     "languageId": "r"
    }
   },
   "outputs": [
    {
     "data": {
      "text/html": [
       "<table class=\"dataframe\">\n",
       "<caption>A data.frame: 1 × 2</caption>\n",
       "<thead>\n",
       "\t<tr><th scope=col>Player</th><th scope=col>Overlaps</th></tr>\n",
       "\t<tr><th scope=col>&lt;dbl&gt;</th><th scope=col>&lt;dbl&gt;</th></tr>\n",
       "</thead>\n",
       "<tbody>\n",
       "\t<tr><td>0</td><td>0</td></tr>\n",
       "</tbody>\n",
       "</table>\n"
      ],
      "text/latex": [
       "A data.frame: 1 × 2\n",
       "\\begin{tabular}{ll}\n",
       " Player & Overlaps\\\\\n",
       " <dbl> & <dbl>\\\\\n",
       "\\hline\n",
       "\t 0 & 0\\\\\n",
       "\\end{tabular}\n"
      ],
      "text/markdown": [
       "\n",
       "A data.frame: 1 × 2\n",
       "\n",
       "| Player &lt;dbl&gt; | Overlaps &lt;dbl&gt; |\n",
       "|---|---|\n",
       "| 0 | 0 |\n",
       "\n"
      ],
      "text/plain": [
       "  Player Overlaps\n",
       "1 0      0       "
      ]
     },
     "metadata": {},
     "output_type": "display_data"
    }
   ],
   "source": [
    "df"
   ]
  },
  {
   "cell_type": "code",
   "execution_count": 273,
   "id": "4681d4bb",
   "metadata": {
    "vscode": {
     "languageId": "r"
    }
   },
   "outputs": [],
   "source": [
    "new_df <- data.frame()"
   ]
  },
  {
   "cell_type": "code",
   "execution_count": 274,
   "id": "cb15c598",
   "metadata": {
    "vscode": {
     "languageId": "r"
    }
   },
   "outputs": [],
   "source": [
    "new_df <- rbind(new_df, c(1, 7))"
   ]
  },
  {
   "cell_type": "code",
   "execution_count": 275,
   "id": "700353d0",
   "metadata": {
    "vscode": {
     "languageId": "r"
    }
   },
   "outputs": [
    {
     "data": {
      "text/html": [
       "<table class=\"dataframe\">\n",
       "<caption>A data.frame: 1 × 2</caption>\n",
       "<thead>\n",
       "\t<tr><th scope=col>X1</th><th scope=col>X7</th></tr>\n",
       "\t<tr><th scope=col>&lt;dbl&gt;</th><th scope=col>&lt;dbl&gt;</th></tr>\n",
       "</thead>\n",
       "<tbody>\n",
       "\t<tr><td>1</td><td>7</td></tr>\n",
       "</tbody>\n",
       "</table>\n"
      ],
      "text/latex": [
       "A data.frame: 1 × 2\n",
       "\\begin{tabular}{ll}\n",
       " X1 & X7\\\\\n",
       " <dbl> & <dbl>\\\\\n",
       "\\hline\n",
       "\t 1 & 7\\\\\n",
       "\\end{tabular}\n"
      ],
      "text/markdown": [
       "\n",
       "A data.frame: 1 × 2\n",
       "\n",
       "| X1 &lt;dbl&gt; | X7 &lt;dbl&gt; |\n",
       "|---|---|\n",
       "| 1 | 7 |\n",
       "\n"
      ],
      "text/plain": [
       "  X1 X7\n",
       "1 1  7 "
      ]
     },
     "metadata": {},
     "output_type": "display_data"
    }
   ],
   "source": [
    "new_df"
   ]
  },
  {
   "cell_type": "code",
   "execution_count": 264,
   "id": "de4174b2",
   "metadata": {
    "vscode": {
     "languageId": "r"
    }
   },
   "outputs": [
    {
     "data": {
      "text/html": [
       "<table class=\"dataframe\">\n",
       "<caption>A data.frame: 3 × 2</caption>\n",
       "<thead>\n",
       "\t<tr><th></th><th scope=col>Player</th><th scope=col>Overlaps</th></tr>\n",
       "\t<tr><th></th><th scope=col>&lt;fct&gt;</th><th scope=col>&lt;chr&gt;</th></tr>\n",
       "</thead>\n",
       "<tbody>\n",
       "\t<tr><th scope=row>1</th><td>TEST</td><td>0  </td></tr>\n",
       "\t<tr><th scope=row>2</th><td>NA  </td><td>100</td></tr>\n",
       "\t<tr><th scope=row>3</th><td>NA  </td><td>100</td></tr>\n",
       "</tbody>\n",
       "</table>\n"
      ],
      "text/latex": [
       "A data.frame: 3 × 2\n",
       "\\begin{tabular}{r|ll}\n",
       "  & Player & Overlaps\\\\\n",
       "  & <fct> & <chr>\\\\\n",
       "\\hline\n",
       "\t1 & TEST & 0  \\\\\n",
       "\t2 & NA   & 100\\\\\n",
       "\t3 & NA   & 100\\\\\n",
       "\\end{tabular}\n"
      ],
      "text/markdown": [
       "\n",
       "A data.frame: 3 × 2\n",
       "\n",
       "| <!--/--> | Player &lt;fct&gt; | Overlaps &lt;chr&gt; |\n",
       "|---|---|---|\n",
       "| 1 | TEST | 0   |\n",
       "| 2 | NA   | 100 |\n",
       "| 3 | NA   | 100 |\n",
       "\n"
      ],
      "text/plain": [
       "  Player Overlaps\n",
       "1 TEST   0       \n",
       "2 NA     100     \n",
       "3 NA     100     "
      ]
     },
     "metadata": {},
     "output_type": "display_data"
    }
   ],
   "source": [
    "df"
   ]
  },
  {
   "cell_type": "code",
   "execution_count": 42,
   "id": "ef3c8e20",
   "metadata": {
    "vscode": {
     "languageId": "r"
    }
   },
   "outputs": [
    {
     "data": {
      "text/html": [
       "<table class=\"dataframe\">\n",
       "<caption>A tibble: 1 × 21</caption>\n",
       "<thead>\n",
       "\t<tr><th scope=col></th><th scope=col>LEC1</th><th scope=col>RUS2</th><th scope=col>NOR3</th><th scope=col>RIC4</th><th scope=col>GAS5</th><th scope=col>ALO6</th><th scope=col>VER7</th><th scope=col>DEV8</th><th scope=col>ZHO9</th><th scope=col>...</th><th scope=col>VET11</th><th scope=col>STR12</th><th scope=col>PER13</th><th scope=col>OCO14</th><th scope=col>BOT15</th><th scope=col>MAG16</th><th scope=col>MSC17</th><th scope=col>SAI18</th><th scope=col>HAM19</th><th scope=col>TSU20</th></tr>\n",
       "\t<tr><th scope=col>&lt;int&gt;</th><th scope=col>&lt;chr&gt;</th><th scope=col>&lt;chr&gt;</th><th scope=col>&lt;chr&gt;</th><th scope=col>&lt;chr&gt;</th><th scope=col>&lt;chr&gt;</th><th scope=col>&lt;chr&gt;</th><th scope=col>&lt;chr&gt;</th><th scope=col>&lt;chr&gt;</th><th scope=col>&lt;chr&gt;</th><th scope=col>...</th><th scope=col>&lt;chr&gt;</th><th scope=col>&lt;chr&gt;</th><th scope=col>&lt;chr&gt;</th><th scope=col>&lt;chr&gt;</th><th scope=col>&lt;chr&gt;</th><th scope=col>&lt;chr&gt;</th><th scope=col>&lt;chr&gt;</th><th scope=col>&lt;chr&gt;</th><th scope=col>&lt;chr&gt;</th><th scope=col>&lt;chr&gt;</th></tr>\n",
       "</thead>\n",
       "<tbody>\n",
       "\t<tr><td>7</td><td>LEC</td><td>VER</td><td>RUS</td><td>RIC</td><td>GAS</td><td>NOR</td><td>ALO</td><td>DEV</td><td>ZHO</td><td>...</td><td>STR</td><td>VET</td><td>OCO</td><td>MAG</td><td>TSU</td><td>LAT</td><td>HAM</td><td>PER</td><td>MSC</td><td>BOT</td></tr>\n",
       "</tbody>\n",
       "</table>\n"
      ],
      "text/latex": [
       "A tibble: 1 × 21\n",
       "\\begin{tabular}{lllllllllllllllllllll}\n",
       "  & LEC1 & RUS2 & NOR3 & RIC4 & GAS5 & ALO6 & VER7 & DEV8 & ZHO9 & ... & VET11 & STR12 & PER13 & OCO14 & BOT15 & MAG16 & MSC17 & SAI18 & HAM19 & TSU20\\\\\n",
       " <int> & <chr> & <chr> & <chr> & <chr> & <chr> & <chr> & <chr> & <chr> & <chr> & ... & <chr> & <chr> & <chr> & <chr> & <chr> & <chr> & <chr> & <chr> & <chr> & <chr>\\\\\n",
       "\\hline\n",
       "\t 7 & LEC & VER & RUS & RIC & GAS & NOR & ALO & DEV & ZHO & ... & STR & VET & OCO & MAG & TSU & LAT & HAM & PER & MSC & BOT\\\\\n",
       "\\end{tabular}\n"
      ],
      "text/markdown": [
       "\n",
       "A tibble: 1 × 21\n",
       "\n",
       "| <!----> &lt;int&gt; | LEC1 &lt;chr&gt; | RUS2 &lt;chr&gt; | NOR3 &lt;chr&gt; | RIC4 &lt;chr&gt; | GAS5 &lt;chr&gt; | ALO6 &lt;chr&gt; | VER7 &lt;chr&gt; | DEV8 &lt;chr&gt; | ZHO9 &lt;chr&gt; | ... ... | VET11 &lt;chr&gt; | STR12 &lt;chr&gt; | PER13 &lt;chr&gt; | OCO14 &lt;chr&gt; | BOT15 &lt;chr&gt; | MAG16 &lt;chr&gt; | MSC17 &lt;chr&gt; | SAI18 &lt;chr&gt; | HAM19 &lt;chr&gt; | TSU20 &lt;chr&gt; |\n",
       "|---|---|---|---|---|---|---|---|---|---|---|---|---|---|---|---|---|---|---|---|---|\n",
       "| 7 | LEC | VER | RUS | RIC | GAS | NOR | ALO | DEV | ZHO | ... | STR | VET | OCO | MAG | TSU | LAT | HAM | PER | MSC | BOT |\n",
       "\n"
      ],
      "text/plain": [
       "    LEC1 RUS2 NOR3 RIC4 GAS5 ALO6 VER7 DEV8 ZHO9 ... VET11 STR12 PER13 OCO14\n",
       "1 7 LEC  VER  RUS  RIC  GAS  NOR  ALO  DEV  ZHO  ... STR   VET   OCO   MAG  \n",
       "  BOT15 MAG16 MSC17 SAI18 HAM19 TSU20\n",
       "1 TSU   LAT   HAM   PER   MSC   BOT  "
      ]
     },
     "metadata": {},
     "output_type": "display_data"
    }
   ],
   "source": [
    "scores_df_header[7, ]"
   ]
  },
  {
   "cell_type": "code",
   "execution_count": 43,
   "id": "f8497716",
   "metadata": {
    "vscode": {
     "languageId": "r"
    }
   },
   "outputs": [
    {
     "data": {
      "text/html": [
       "<table class=\"dataframe\">\n",
       "<caption>A tibble: 1 × 21</caption>\n",
       "<thead>\n",
       "\t<tr><th scope=col></th><th scope=col>LEC1</th><th scope=col>RUS2</th><th scope=col>NOR3</th><th scope=col>RIC4</th><th scope=col>GAS5</th><th scope=col>ALO6</th><th scope=col>VER7</th><th scope=col>DEV8</th><th scope=col>ZHO9</th><th scope=col>...</th><th scope=col>VET11</th><th scope=col>STR12</th><th scope=col>PER13</th><th scope=col>OCO14</th><th scope=col>BOT15</th><th scope=col>MAG16</th><th scope=col>MSC17</th><th scope=col>SAI18</th><th scope=col>HAM19</th><th scope=col>TSU20</th></tr>\n",
       "\t<tr><th scope=col>&lt;int&gt;</th><th scope=col>&lt;chr&gt;</th><th scope=col>&lt;chr&gt;</th><th scope=col>&lt;chr&gt;</th><th scope=col>&lt;chr&gt;</th><th scope=col>&lt;chr&gt;</th><th scope=col>&lt;chr&gt;</th><th scope=col>&lt;chr&gt;</th><th scope=col>&lt;chr&gt;</th><th scope=col>&lt;chr&gt;</th><th scope=col>...</th><th scope=col>&lt;chr&gt;</th><th scope=col>&lt;chr&gt;</th><th scope=col>&lt;chr&gt;</th><th scope=col>&lt;chr&gt;</th><th scope=col>&lt;chr&gt;</th><th scope=col>&lt;chr&gt;</th><th scope=col>&lt;chr&gt;</th><th scope=col>&lt;chr&gt;</th><th scope=col>&lt;chr&gt;</th><th scope=col>&lt;chr&gt;</th></tr>\n",
       "</thead>\n",
       "<tbody>\n",
       "\t<tr><td>8</td><td>LEC</td><td>VER</td><td>RUS</td><td>RIC</td><td>GAS</td><td>NOR</td><td>ALO</td><td>DEV</td><td>SAI</td><td>...</td><td>STR</td><td>VET</td><td>OCO</td><td>TSU</td><td>MAG</td><td>HAM</td><td>LAT</td><td>MSC</td><td>BOT</td><td>PER</td></tr>\n",
       "</tbody>\n",
       "</table>\n"
      ],
      "text/latex": [
       "A tibble: 1 × 21\n",
       "\\begin{tabular}{lllllllllllllllllllll}\n",
       "  & LEC1 & RUS2 & NOR3 & RIC4 & GAS5 & ALO6 & VER7 & DEV8 & ZHO9 & ... & VET11 & STR12 & PER13 & OCO14 & BOT15 & MAG16 & MSC17 & SAI18 & HAM19 & TSU20\\\\\n",
       " <int> & <chr> & <chr> & <chr> & <chr> & <chr> & <chr> & <chr> & <chr> & <chr> & ... & <chr> & <chr> & <chr> & <chr> & <chr> & <chr> & <chr> & <chr> & <chr> & <chr>\\\\\n",
       "\\hline\n",
       "\t 8 & LEC & VER & RUS & RIC & GAS & NOR & ALO & DEV & SAI & ... & STR & VET & OCO & TSU & MAG & HAM & LAT & MSC & BOT & PER\\\\\n",
       "\\end{tabular}\n"
      ],
      "text/markdown": [
       "\n",
       "A tibble: 1 × 21\n",
       "\n",
       "| <!----> &lt;int&gt; | LEC1 &lt;chr&gt; | RUS2 &lt;chr&gt; | NOR3 &lt;chr&gt; | RIC4 &lt;chr&gt; | GAS5 &lt;chr&gt; | ALO6 &lt;chr&gt; | VER7 &lt;chr&gt; | DEV8 &lt;chr&gt; | ZHO9 &lt;chr&gt; | ... ... | VET11 &lt;chr&gt; | STR12 &lt;chr&gt; | PER13 &lt;chr&gt; | OCO14 &lt;chr&gt; | BOT15 &lt;chr&gt; | MAG16 &lt;chr&gt; | MSC17 &lt;chr&gt; | SAI18 &lt;chr&gt; | HAM19 &lt;chr&gt; | TSU20 &lt;chr&gt; |\n",
       "|---|---|---|---|---|---|---|---|---|---|---|---|---|---|---|---|---|---|---|---|---|\n",
       "| 8 | LEC | VER | RUS | RIC | GAS | NOR | ALO | DEV | SAI | ... | STR | VET | OCO | TSU | MAG | HAM | LAT | MSC | BOT | PER |\n",
       "\n"
      ],
      "text/plain": [
       "    LEC1 RUS2 NOR3 RIC4 GAS5 ALO6 VER7 DEV8 ZHO9 ... VET11 STR12 PER13 OCO14\n",
       "1 8 LEC  VER  RUS  RIC  GAS  NOR  ALO  DEV  SAI  ... STR   VET   OCO   TSU  \n",
       "  BOT15 MAG16 MSC17 SAI18 HAM19 TSU20\n",
       "1 MAG   HAM   LAT   MSC   BOT   PER  "
      ]
     },
     "metadata": {},
     "output_type": "display_data"
    }
   ],
   "source": [
    "scores_df_header[8, ]"
   ]
  },
  {
   "cell_type": "code",
   "execution_count": null,
   "id": "1248df45",
   "metadata": {
    "vscode": {
     "languageId": "r"
    }
   },
   "outputs": [],
   "source": [
    "scores_df_header[8, ]"
   ]
  },
  {
   "cell_type": "code",
   "execution_count": 69,
   "id": "e5015d3b",
   "metadata": {
    "vscode": {
     "languageId": "r"
    }
   },
   "outputs": [
    {
     "data": {
      "text/html": [
       "<table class=\"dataframe\">\n",
       "<caption>A tibble: 53 × 20</caption>\n",
       "<thead>\n",
       "\t<tr><th scope=col>LEC1</th><th scope=col>RUS2</th><th scope=col>NOR3</th><th scope=col>RIC4</th><th scope=col>GAS5</th><th scope=col>ALO6</th><th scope=col>VER7</th><th scope=col>DEV8</th><th scope=col>ZHO9</th><th scope=col>LAT10</th><th scope=col>VET11</th><th scope=col>STR12</th><th scope=col>PER13</th><th scope=col>OCO14</th><th scope=col>BOT15</th><th scope=col>MAG16</th><th scope=col>MSC17</th><th scope=col>SAI18</th><th scope=col>HAM19</th><th scope=col>TSU20</th></tr>\n",
       "\t<tr><th scope=col>&lt;chr&gt;</th><th scope=col>&lt;chr&gt;</th><th scope=col>&lt;chr&gt;</th><th scope=col>&lt;chr&gt;</th><th scope=col>&lt;chr&gt;</th><th scope=col>&lt;chr&gt;</th><th scope=col>&lt;chr&gt;</th><th scope=col>&lt;chr&gt;</th><th scope=col>&lt;chr&gt;</th><th scope=col>&lt;chr&gt;</th><th scope=col>&lt;chr&gt;</th><th scope=col>&lt;chr&gt;</th><th scope=col>&lt;chr&gt;</th><th scope=col>&lt;chr&gt;</th><th scope=col>&lt;chr&gt;</th><th scope=col>&lt;chr&gt;</th><th scope=col>&lt;chr&gt;</th><th scope=col>&lt;chr&gt;</th><th scope=col>&lt;chr&gt;</th><th scope=col>&lt;chr&gt;</th></tr>\n",
       "</thead>\n",
       "<tbody>\n",
       "\t<tr><td>1</td><td>2</td><td>4 </td><td>7 </td><td>5 </td><td>3 </td><td>6 </td><td>8 </td><td>9 </td><td>11</td><td>12</td><td>16</td><td>14</td><td>10</td><td>13</td><td>18</td><td>17</td><td>20</td><td>19</td><td>15</td></tr>\n",
       "\t<tr><td>1</td><td>2</td><td>7 </td><td>4 </td><td>5 </td><td>3 </td><td>6 </td><td>8 </td><td>9 </td><td>12</td><td>11</td><td>14</td><td>16</td><td>18</td><td>10</td><td>13</td><td>20</td><td>19</td><td>17</td><td>15</td></tr>\n",
       "\t<tr><td>1</td><td>2</td><td>7 </td><td>4 </td><td>5 </td><td>3 </td><td>6 </td><td>8 </td><td>9 </td><td>12</td><td>11</td><td>14</td><td>16</td><td>18</td><td>13</td><td>10</td><td>20</td><td>19</td><td>17</td><td>15</td></tr>\n",
       "\t<tr><td>1</td><td>2</td><td>7 </td><td>4 </td><td>5 </td><td>3 </td><td>6 </td><td>8 </td><td>9 </td><td>12</td><td>11</td><td>14</td><td>18</td><td>13</td><td>16</td><td>10</td><td>20</td><td>19</td><td>17</td><td>15</td></tr>\n",
       "\t<tr><td>1</td><td>7</td><td>2 </td><td>4 </td><td>5 </td><td>3 </td><td>6 </td><td>8 </td><td>9 </td><td>12</td><td>18</td><td>11</td><td>14</td><td>13</td><td>16</td><td>10</td><td>20</td><td>19</td><td>17</td><td>15</td></tr>\n",
       "\t<tr><td>1</td><td>7</td><td>2 </td><td>4 </td><td>5 </td><td>3 </td><td>6 </td><td>8 </td><td>9 </td><td>18</td><td>12</td><td>11</td><td>13</td><td>14</td><td>16</td><td>10</td><td>20</td><td>19</td><td>17</td><td>15</td></tr>\n",
       "\t<tr><td>1</td><td>7</td><td>2 </td><td>4 </td><td>5 </td><td>3 </td><td>6 </td><td>8 </td><td>9 </td><td>18</td><td>12</td><td>11</td><td>14</td><td>16</td><td>20</td><td>10</td><td>19</td><td>13</td><td>17</td><td>15</td></tr>\n",
       "\t<tr><td>1</td><td>7</td><td>2 </td><td>4 </td><td>5 </td><td>3 </td><td>6 </td><td>8 </td><td>18</td><td>9 </td><td>12</td><td>11</td><td>14</td><td>20</td><td>16</td><td>19</td><td>10</td><td>17</td><td>15</td><td>13</td></tr>\n",
       "\t<tr><td>1</td><td>7</td><td>2 </td><td>4 </td><td>5 </td><td>3 </td><td>6 </td><td>18</td><td>8 </td><td>9 </td><td>12</td><td>11</td><td>14</td><td>20</td><td>19</td><td>16</td><td>10</td><td>17</td><td>15</td><td>13</td></tr>\n",
       "\t<tr><td>1</td><td>7</td><td>2 </td><td>4 </td><td>5 </td><td>3 </td><td>18</td><td>6 </td><td>8 </td><td>9 </td><td>12</td><td>14</td><td>11</td><td>20</td><td>19</td><td>16</td><td>10</td><td>17</td><td>15</td><td>13</td></tr>\n",
       "\t<tr><td>1</td><td>7</td><td>2 </td><td>4 </td><td>5 </td><td>18</td><td>3 </td><td>6 </td><td>8 </td><td>9 </td><td>12</td><td>14</td><td>19</td><td>20</td><td>16</td><td>10</td><td>17</td><td>15</td><td>13</td><td>  </td></tr>\n",
       "\t<tr><td>7</td><td>1</td><td>2 </td><td>4 </td><td>18</td><td>5 </td><td>3 </td><td>6 </td><td>8 </td><td>9 </td><td>12</td><td>14</td><td>19</td><td>20</td><td>16</td><td>10</td><td>17</td><td>15</td><td>13</td><td>  </td></tr>\n",
       "\t<tr><td>7</td><td>2</td><td>1 </td><td>18</td><td>4 </td><td>5 </td><td>6 </td><td>3 </td><td>8 </td><td>9 </td><td>12</td><td>14</td><td>19</td><td>20</td><td>10</td><td>16</td><td>17</td><td>15</td><td>13</td><td>  </td></tr>\n",
       "\t<tr><td>7</td><td>2</td><td>1 </td><td>18</td><td>4 </td><td>5 </td><td>6 </td><td>3 </td><td>8 </td><td>9 </td><td>12</td><td>14</td><td>19</td><td>20</td><td>10</td><td>16</td><td>17</td><td>15</td><td>13</td><td>  </td></tr>\n",
       "\t<tr><td>7</td><td>2</td><td>1 </td><td>18</td><td>4 </td><td>5 </td><td>6 </td><td>3 </td><td>8 </td><td>9 </td><td>12</td><td>14</td><td>19</td><td>20</td><td>16</td><td>17</td><td>15</td><td>10</td><td>13</td><td>  </td></tr>\n",
       "\t<tr><td>7</td><td>2</td><td>1 </td><td>18</td><td>4 </td><td>5 </td><td>6 </td><td>3 </td><td>8 </td><td>9 </td><td>12</td><td>19</td><td>14</td><td>20</td><td>17</td><td>16</td><td>15</td><td>13</td><td>10</td><td>  </td></tr>\n",
       "\t<tr><td>7</td><td>2</td><td>1 </td><td>18</td><td>4 </td><td>5 </td><td>6 </td><td>3 </td><td>8 </td><td>9 </td><td>19</td><td>12</td><td>14</td><td>20</td><td>17</td><td>16</td><td>15</td><td>13</td><td>10</td><td>  </td></tr>\n",
       "\t<tr><td>7</td><td>2</td><td>1 </td><td>18</td><td>4 </td><td>3 </td><td>6 </td><td>8 </td><td>5 </td><td>19</td><td>9 </td><td>14</td><td>20</td><td>12</td><td>17</td><td>15</td><td>16</td><td>13</td><td>10</td><td>  </td></tr>\n",
       "\t<tr><td>7</td><td>2</td><td>1 </td><td>18</td><td>3 </td><td>6 </td><td>4 </td><td>19</td><td>8 </td><td>14</td><td>17</td><td>20</td><td>15</td><td>16</td><td>13</td><td>5 </td><td>9 </td><td>12</td><td>10</td><td>  </td></tr>\n",
       "\t<tr><td>7</td><td>2</td><td>1 </td><td>18</td><td>3 </td><td>6 </td><td>19</td><td>17</td><td>15</td><td>13</td><td>16</td><td>4 </td><td>5 </td><td>8 </td><td>9 </td><td>14</td><td>12</td><td>20</td><td>10</td><td>  </td></tr>\n",
       "\t<tr><td>7</td><td>2</td><td>1 </td><td>18</td><td>3 </td><td>6 </td><td>19</td><td>17</td><td>15</td><td>13</td><td>16</td><td>4 </td><td>5 </td><td>8 </td><td>9 </td><td>14</td><td>20</td><td>12</td><td>10</td><td>  </td></tr>\n",
       "\t<tr><td>7</td><td>2</td><td>1 </td><td>18</td><td>3 </td><td>6 </td><td>19</td><td>17</td><td>13</td><td>15</td><td>16</td><td>4 </td><td>5 </td><td>8 </td><td>9 </td><td>14</td><td>20</td><td>12</td><td>10</td><td>  </td></tr>\n",
       "\t<tr><td>7</td><td>1</td><td>2 </td><td>18</td><td>3 </td><td>6 </td><td>19</td><td>17</td><td>13</td><td>15</td><td>16</td><td>4 </td><td>5 </td><td>8 </td><td>9 </td><td>14</td><td>20</td><td>12</td><td>10</td><td>  </td></tr>\n",
       "\t<tr><td>7</td><td>1</td><td>18</td><td>2 </td><td>3 </td><td>6 </td><td>19</td><td>13</td><td>17</td><td>15</td><td>4 </td><td>5 </td><td>8 </td><td>16</td><td>9 </td><td>14</td><td>20</td><td>10</td><td>12</td><td>  </td></tr>\n",
       "\t<tr><td>7</td><td>1</td><td>18</td><td>2 </td><td>3 </td><td>6 </td><td>19</td><td>13</td><td>17</td><td>15</td><td>4 </td><td>5 </td><td>8 </td><td>9 </td><td>14</td><td>20</td><td>10</td><td>12</td><td>16</td><td>  </td></tr>\n",
       "\t<tr><td>1</td><td>7</td><td>18</td><td>2 </td><td>3 </td><td>6 </td><td>19</td><td>13</td><td>17</td><td>15</td><td>4 </td><td>5 </td><td>8 </td><td>9 </td><td>14</td><td>20</td><td>10</td><td>12</td><td>16</td><td>  </td></tr>\n",
       "\t<tr><td>1</td><td>7</td><td>18</td><td>2 </td><td>3 </td><td>19</td><td>6 </td><td>13</td><td>17</td><td>15</td><td>4 </td><td>5 </td><td>8 </td><td>9 </td><td>14</td><td>20</td><td>10</td><td>12</td><td>16</td><td>  </td></tr>\n",
       "\t<tr><td>1</td><td>7</td><td>18</td><td>2 </td><td>3 </td><td>19</td><td>6 </td><td>13</td><td>17</td><td>15</td><td>4 </td><td>5 </td><td>8 </td><td>9 </td><td>14</td><td>20</td><td>10</td><td>12</td><td>16</td><td>  </td></tr>\n",
       "\t<tr><td>1</td><td>7</td><td>18</td><td>2 </td><td>3 </td><td>19</td><td>6 </td><td>13</td><td>17</td><td>15</td><td>4 </td><td>5 </td><td>8 </td><td>9 </td><td>14</td><td>20</td><td>10</td><td>12</td><td>16</td><td>  </td></tr>\n",
       "\t<tr><td>1</td><td>7</td><td>2 </td><td>18</td><td>3 </td><td>19</td><td>6 </td><td>13</td><td>17</td><td>15</td><td>4 </td><td>5 </td><td>8 </td><td>9 </td><td>14</td><td>20</td><td>10</td><td>12</td><td>16</td><td>  </td></tr>\n",
       "\t<tr><td>1</td><td>7</td><td>2 </td><td>3 </td><td>19</td><td>13</td><td>18</td><td>6 </td><td>17</td><td>15</td><td>4 </td><td>5 </td><td>8 </td><td>9 </td><td>14</td><td>20</td><td>10</td><td>12</td><td>16</td><td>  </td></tr>\n",
       "\t<tr><td>1</td><td>7</td><td>2 </td><td>3 </td><td>19</td><td>13</td><td>18</td><td>17</td><td>15</td><td>4 </td><td>5 </td><td>8 </td><td>9 </td><td>14</td><td>20</td><td>10</td><td>12</td><td>16</td><td>  </td><td>  </td></tr>\n",
       "\t<tr><td>1</td><td>7</td><td>2 </td><td>3 </td><td>18</td><td>13</td><td>19</td><td>15</td><td>17</td><td>4 </td><td>5 </td><td>8 </td><td>9 </td><td>14</td><td>20</td><td>10</td><td>12</td><td>16</td><td>  </td><td>  </td></tr>\n",
       "\t<tr><td>7</td><td>1</td><td>2 </td><td>3 </td><td>18</td><td>13</td><td>15</td><td>4 </td><td>5 </td><td>8 </td><td>9 </td><td>19</td><td>14</td><td>20</td><td>10</td><td>12</td><td>17</td><td>16</td><td>  </td><td>  </td></tr>\n",
       "\t<tr><td>7</td><td>1</td><td>2 </td><td>3 </td><td>18</td><td>13</td><td>4 </td><td>5 </td><td>19</td><td>8 </td><td>15</td><td>9 </td><td>14</td><td>20</td><td>10</td><td>17</td><td>12</td><td>16</td><td>  </td><td>  </td></tr>\n",
       "\t<tr><td>7</td><td>1</td><td>2 </td><td>18</td><td>13</td><td>4 </td><td>19</td><td>5 </td><td>3 </td><td>8 </td><td>9 </td><td>14</td><td>20</td><td>10</td><td>17</td><td>12</td><td>15</td><td>16</td><td>  </td><td>  </td></tr>\n",
       "\t<tr><td>7</td><td>1</td><td>2 </td><td>18</td><td>13</td><td>19</td><td>3 </td><td>4 </td><td>5 </td><td>8 </td><td>9 </td><td>14</td><td>20</td><td>10</td><td>17</td><td>15</td><td>12</td><td>16</td><td>  </td><td>  </td></tr>\n",
       "\t<tr><td>7</td><td>1</td><td>2 </td><td>18</td><td>13</td><td>19</td><td>3 </td><td>4 </td><td>5 </td><td>8 </td><td>9 </td><td>14</td><td>20</td><td>10</td><td>17</td><td>15</td><td>12</td><td>16</td><td>  </td><td>  </td></tr>\n",
       "\t<tr><td>7</td><td>1</td><td>2 </td><td>18</td><td>13</td><td>19</td><td>3 </td><td>4 </td><td>5 </td><td>8 </td><td>9 </td><td>14</td><td>20</td><td>10</td><td>17</td><td>15</td><td>12</td><td>16</td><td>  </td><td>  </td></tr>\n",
       "\t<tr><td>7</td><td>1</td><td>2 </td><td>18</td><td>13</td><td>19</td><td>3 </td><td>4 </td><td>5 </td><td>8 </td><td>9 </td><td>14</td><td>20</td><td>10</td><td>17</td><td>15</td><td>16</td><td>  </td><td>  </td><td>  </td></tr>\n",
       "\t<tr><td>7</td><td>1</td><td>2 </td><td>18</td><td>13</td><td>19</td><td>3 </td><td>4 </td><td>5 </td><td>8 </td><td>9 </td><td>14</td><td>20</td><td>17</td><td>10</td><td>15</td><td>16</td><td>  </td><td>  </td><td>  </td></tr>\n",
       "\t<tr><td>7</td><td>1</td><td>2 </td><td>18</td><td>13</td><td>19</td><td>3 </td><td>4 </td><td>5 </td><td>8 </td><td>9 </td><td>14</td><td>20</td><td>17</td><td>15</td><td>10</td><td>16</td><td>  </td><td>  </td><td>  </td></tr>\n",
       "\t<tr><td>7</td><td>1</td><td>2 </td><td>18</td><td>19</td><td>3 </td><td>13</td><td>4 </td><td>5 </td><td>8 </td><td>9 </td><td>14</td><td>20</td><td>17</td><td>15</td><td>10</td><td>16</td><td>  </td><td>  </td><td>  </td></tr>\n",
       "\t<tr><td>7</td><td>1</td><td>2 </td><td>18</td><td>19</td><td>3 </td><td>13</td><td>4 </td><td>5 </td><td>8 </td><td>9 </td><td>14</td><td>20</td><td>17</td><td>15</td><td>10</td><td>16</td><td>  </td><td>  </td><td>  </td></tr>\n",
       "\t<tr><td>7</td><td>1</td><td>2 </td><td>18</td><td>19</td><td>3 </td><td>13</td><td>4 </td><td>5 </td><td>8 </td><td>9 </td><td>14</td><td>17</td><td>20</td><td>15</td><td>10</td><td>16</td><td>  </td><td>  </td><td>  </td></tr>\n",
       "\t<tr><td>7</td><td>1</td><td>2 </td><td>18</td><td>19</td><td>3 </td><td>13</td><td>5 </td><td>8 </td><td>9 </td><td>14</td><td>17</td><td>20</td><td>15</td><td>10</td><td>16</td><td>  </td><td>  </td><td>  </td><td>  </td></tr>\n",
       "\t<tr><td>7</td><td>1</td><td>2 </td><td>18</td><td>19</td><td>3 </td><td>13</td><td>5 </td><td>8 </td><td>9 </td><td>14</td><td>17</td><td>15</td><td>20</td><td>10</td><td>16</td><td>  </td><td>  </td><td>  </td><td>  </td></tr>\n",
       "\t<tr><td>7</td><td>1</td><td>2 </td><td>18</td><td>19</td><td>13</td><td>3 </td><td>5 </td><td>8 </td><td>9 </td><td>14</td><td>17</td><td>15</td><td>20</td><td>10</td><td>16</td><td>  </td><td>  </td><td>  </td><td>  </td></tr>\n",
       "\t<tr><td>7</td><td>1</td><td>2 </td><td>18</td><td>19</td><td>13</td><td>3 </td><td>5 </td><td>8 </td><td>9 </td><td>14</td><td>17</td><td>15</td><td>20</td><td>10</td><td>16</td><td>  </td><td>  </td><td>  </td><td>  </td></tr>\n",
       "\t<tr><td>7</td><td>1</td><td>2 </td><td>18</td><td>19</td><td>13</td><td>3 </td><td>5 </td><td>8 </td><td>9 </td><td>14</td><td>17</td><td>15</td><td>20</td><td>10</td><td>16</td><td>  </td><td>  </td><td>  </td><td>  </td></tr>\n",
       "\t<tr><td>7</td><td>1</td><td>2 </td><td>18</td><td>19</td><td>13</td><td>3 </td><td>5 </td><td>8 </td><td>9 </td><td>14</td><td>17</td><td>15</td><td>20</td><td>10</td><td>16</td><td>  </td><td>  </td><td>  </td><td>  </td></tr>\n",
       "\t<tr><td>7</td><td>1</td><td>2 </td><td>18</td><td>19</td><td>13</td><td>3 </td><td>5 </td><td>8 </td><td>9 </td><td>14</td><td>17</td><td>15</td><td>20</td><td>10</td><td>16</td><td>  </td><td>  </td><td>  </td><td>  </td></tr>\n",
       "\t<tr><td>7</td><td>1</td><td>2 </td><td>18</td><td>19</td><td>13</td><td>3 </td><td>5 </td><td>8 </td><td>9 </td><td>14</td><td>17</td><td>  </td><td>  </td><td>  </td><td>  </td><td>  </td><td>  </td><td>  </td><td>  </td></tr>\n",
       "</tbody>\n",
       "</table>\n"
      ],
      "text/latex": [
       "A tibble: 53 × 20\n",
       "\\begin{tabular}{llllllllllllllllllll}\n",
       " LEC1 & RUS2 & NOR3 & RIC4 & GAS5 & ALO6 & VER7 & DEV8 & ZHO9 & LAT10 & VET11 & STR12 & PER13 & OCO14 & BOT15 & MAG16 & MSC17 & SAI18 & HAM19 & TSU20\\\\\n",
       " <chr> & <chr> & <chr> & <chr> & <chr> & <chr> & <chr> & <chr> & <chr> & <chr> & <chr> & <chr> & <chr> & <chr> & <chr> & <chr> & <chr> & <chr> & <chr> & <chr>\\\\\n",
       "\\hline\n",
       "\t 1 & 2 & 4  & 7  & 5  & 3  & 6  & 8  & 9  & 11 & 12 & 16 & 14 & 10 & 13 & 18 & 17 & 20 & 19 & 15\\\\\n",
       "\t 1 & 2 & 7  & 4  & 5  & 3  & 6  & 8  & 9  & 12 & 11 & 14 & 16 & 18 & 10 & 13 & 20 & 19 & 17 & 15\\\\\n",
       "\t 1 & 2 & 7  & 4  & 5  & 3  & 6  & 8  & 9  & 12 & 11 & 14 & 16 & 18 & 13 & 10 & 20 & 19 & 17 & 15\\\\\n",
       "\t 1 & 2 & 7  & 4  & 5  & 3  & 6  & 8  & 9  & 12 & 11 & 14 & 18 & 13 & 16 & 10 & 20 & 19 & 17 & 15\\\\\n",
       "\t 1 & 7 & 2  & 4  & 5  & 3  & 6  & 8  & 9  & 12 & 18 & 11 & 14 & 13 & 16 & 10 & 20 & 19 & 17 & 15\\\\\n",
       "\t 1 & 7 & 2  & 4  & 5  & 3  & 6  & 8  & 9  & 18 & 12 & 11 & 13 & 14 & 16 & 10 & 20 & 19 & 17 & 15\\\\\n",
       "\t 1 & 7 & 2  & 4  & 5  & 3  & 6  & 8  & 9  & 18 & 12 & 11 & 14 & 16 & 20 & 10 & 19 & 13 & 17 & 15\\\\\n",
       "\t 1 & 7 & 2  & 4  & 5  & 3  & 6  & 8  & 18 & 9  & 12 & 11 & 14 & 20 & 16 & 19 & 10 & 17 & 15 & 13\\\\\n",
       "\t 1 & 7 & 2  & 4  & 5  & 3  & 6  & 18 & 8  & 9  & 12 & 11 & 14 & 20 & 19 & 16 & 10 & 17 & 15 & 13\\\\\n",
       "\t 1 & 7 & 2  & 4  & 5  & 3  & 18 & 6  & 8  & 9  & 12 & 14 & 11 & 20 & 19 & 16 & 10 & 17 & 15 & 13\\\\\n",
       "\t 1 & 7 & 2  & 4  & 5  & 18 & 3  & 6  & 8  & 9  & 12 & 14 & 19 & 20 & 16 & 10 & 17 & 15 & 13 &   \\\\\n",
       "\t 7 & 1 & 2  & 4  & 18 & 5  & 3  & 6  & 8  & 9  & 12 & 14 & 19 & 20 & 16 & 10 & 17 & 15 & 13 &   \\\\\n",
       "\t 7 & 2 & 1  & 18 & 4  & 5  & 6  & 3  & 8  & 9  & 12 & 14 & 19 & 20 & 10 & 16 & 17 & 15 & 13 &   \\\\\n",
       "\t 7 & 2 & 1  & 18 & 4  & 5  & 6  & 3  & 8  & 9  & 12 & 14 & 19 & 20 & 10 & 16 & 17 & 15 & 13 &   \\\\\n",
       "\t 7 & 2 & 1  & 18 & 4  & 5  & 6  & 3  & 8  & 9  & 12 & 14 & 19 & 20 & 16 & 17 & 15 & 10 & 13 &   \\\\\n",
       "\t 7 & 2 & 1  & 18 & 4  & 5  & 6  & 3  & 8  & 9  & 12 & 19 & 14 & 20 & 17 & 16 & 15 & 13 & 10 &   \\\\\n",
       "\t 7 & 2 & 1  & 18 & 4  & 5  & 6  & 3  & 8  & 9  & 19 & 12 & 14 & 20 & 17 & 16 & 15 & 13 & 10 &   \\\\\n",
       "\t 7 & 2 & 1  & 18 & 4  & 3  & 6  & 8  & 5  & 19 & 9  & 14 & 20 & 12 & 17 & 15 & 16 & 13 & 10 &   \\\\\n",
       "\t 7 & 2 & 1  & 18 & 3  & 6  & 4  & 19 & 8  & 14 & 17 & 20 & 15 & 16 & 13 & 5  & 9  & 12 & 10 &   \\\\\n",
       "\t 7 & 2 & 1  & 18 & 3  & 6  & 19 & 17 & 15 & 13 & 16 & 4  & 5  & 8  & 9  & 14 & 12 & 20 & 10 &   \\\\\n",
       "\t 7 & 2 & 1  & 18 & 3  & 6  & 19 & 17 & 15 & 13 & 16 & 4  & 5  & 8  & 9  & 14 & 20 & 12 & 10 &   \\\\\n",
       "\t 7 & 2 & 1  & 18 & 3  & 6  & 19 & 17 & 13 & 15 & 16 & 4  & 5  & 8  & 9  & 14 & 20 & 12 & 10 &   \\\\\n",
       "\t 7 & 1 & 2  & 18 & 3  & 6  & 19 & 17 & 13 & 15 & 16 & 4  & 5  & 8  & 9  & 14 & 20 & 12 & 10 &   \\\\\n",
       "\t 7 & 1 & 18 & 2  & 3  & 6  & 19 & 13 & 17 & 15 & 4  & 5  & 8  & 16 & 9  & 14 & 20 & 10 & 12 &   \\\\\n",
       "\t 7 & 1 & 18 & 2  & 3  & 6  & 19 & 13 & 17 & 15 & 4  & 5  & 8  & 9  & 14 & 20 & 10 & 12 & 16 &   \\\\\n",
       "\t 1 & 7 & 18 & 2  & 3  & 6  & 19 & 13 & 17 & 15 & 4  & 5  & 8  & 9  & 14 & 20 & 10 & 12 & 16 &   \\\\\n",
       "\t 1 & 7 & 18 & 2  & 3  & 19 & 6  & 13 & 17 & 15 & 4  & 5  & 8  & 9  & 14 & 20 & 10 & 12 & 16 &   \\\\\n",
       "\t 1 & 7 & 18 & 2  & 3  & 19 & 6  & 13 & 17 & 15 & 4  & 5  & 8  & 9  & 14 & 20 & 10 & 12 & 16 &   \\\\\n",
       "\t 1 & 7 & 18 & 2  & 3  & 19 & 6  & 13 & 17 & 15 & 4  & 5  & 8  & 9  & 14 & 20 & 10 & 12 & 16 &   \\\\\n",
       "\t 1 & 7 & 2  & 18 & 3  & 19 & 6  & 13 & 17 & 15 & 4  & 5  & 8  & 9  & 14 & 20 & 10 & 12 & 16 &   \\\\\n",
       "\t 1 & 7 & 2  & 3  & 19 & 13 & 18 & 6  & 17 & 15 & 4  & 5  & 8  & 9  & 14 & 20 & 10 & 12 & 16 &   \\\\\n",
       "\t 1 & 7 & 2  & 3  & 19 & 13 & 18 & 17 & 15 & 4  & 5  & 8  & 9  & 14 & 20 & 10 & 12 & 16 &    &   \\\\\n",
       "\t 1 & 7 & 2  & 3  & 18 & 13 & 19 & 15 & 17 & 4  & 5  & 8  & 9  & 14 & 20 & 10 & 12 & 16 &    &   \\\\\n",
       "\t 7 & 1 & 2  & 3  & 18 & 13 & 15 & 4  & 5  & 8  & 9  & 19 & 14 & 20 & 10 & 12 & 17 & 16 &    &   \\\\\n",
       "\t 7 & 1 & 2  & 3  & 18 & 13 & 4  & 5  & 19 & 8  & 15 & 9  & 14 & 20 & 10 & 17 & 12 & 16 &    &   \\\\\n",
       "\t 7 & 1 & 2  & 18 & 13 & 4  & 19 & 5  & 3  & 8  & 9  & 14 & 20 & 10 & 17 & 12 & 15 & 16 &    &   \\\\\n",
       "\t 7 & 1 & 2  & 18 & 13 & 19 & 3  & 4  & 5  & 8  & 9  & 14 & 20 & 10 & 17 & 15 & 12 & 16 &    &   \\\\\n",
       "\t 7 & 1 & 2  & 18 & 13 & 19 & 3  & 4  & 5  & 8  & 9  & 14 & 20 & 10 & 17 & 15 & 12 & 16 &    &   \\\\\n",
       "\t 7 & 1 & 2  & 18 & 13 & 19 & 3  & 4  & 5  & 8  & 9  & 14 & 20 & 10 & 17 & 15 & 12 & 16 &    &   \\\\\n",
       "\t 7 & 1 & 2  & 18 & 13 & 19 & 3  & 4  & 5  & 8  & 9  & 14 & 20 & 10 & 17 & 15 & 16 &    &    &   \\\\\n",
       "\t 7 & 1 & 2  & 18 & 13 & 19 & 3  & 4  & 5  & 8  & 9  & 14 & 20 & 17 & 10 & 15 & 16 &    &    &   \\\\\n",
       "\t 7 & 1 & 2  & 18 & 13 & 19 & 3  & 4  & 5  & 8  & 9  & 14 & 20 & 17 & 15 & 10 & 16 &    &    &   \\\\\n",
       "\t 7 & 1 & 2  & 18 & 19 & 3  & 13 & 4  & 5  & 8  & 9  & 14 & 20 & 17 & 15 & 10 & 16 &    &    &   \\\\\n",
       "\t 7 & 1 & 2  & 18 & 19 & 3  & 13 & 4  & 5  & 8  & 9  & 14 & 20 & 17 & 15 & 10 & 16 &    &    &   \\\\\n",
       "\t 7 & 1 & 2  & 18 & 19 & 3  & 13 & 4  & 5  & 8  & 9  & 14 & 17 & 20 & 15 & 10 & 16 &    &    &   \\\\\n",
       "\t 7 & 1 & 2  & 18 & 19 & 3  & 13 & 5  & 8  & 9  & 14 & 17 & 20 & 15 & 10 & 16 &    &    &    &   \\\\\n",
       "\t 7 & 1 & 2  & 18 & 19 & 3  & 13 & 5  & 8  & 9  & 14 & 17 & 15 & 20 & 10 & 16 &    &    &    &   \\\\\n",
       "\t 7 & 1 & 2  & 18 & 19 & 13 & 3  & 5  & 8  & 9  & 14 & 17 & 15 & 20 & 10 & 16 &    &    &    &   \\\\\n",
       "\t 7 & 1 & 2  & 18 & 19 & 13 & 3  & 5  & 8  & 9  & 14 & 17 & 15 & 20 & 10 & 16 &    &    &    &   \\\\\n",
       "\t 7 & 1 & 2  & 18 & 19 & 13 & 3  & 5  & 8  & 9  & 14 & 17 & 15 & 20 & 10 & 16 &    &    &    &   \\\\\n",
       "\t 7 & 1 & 2  & 18 & 19 & 13 & 3  & 5  & 8  & 9  & 14 & 17 & 15 & 20 & 10 & 16 &    &    &    &   \\\\\n",
       "\t 7 & 1 & 2  & 18 & 19 & 13 & 3  & 5  & 8  & 9  & 14 & 17 & 15 & 20 & 10 & 16 &    &    &    &   \\\\\n",
       "\t 7 & 1 & 2  & 18 & 19 & 13 & 3  & 5  & 8  & 9  & 14 & 17 &    &    &    &    &    &    &    &   \\\\\n",
       "\\end{tabular}\n"
      ],
      "text/markdown": [
       "\n",
       "A tibble: 53 × 20\n",
       "\n",
       "| LEC1 &lt;chr&gt; | RUS2 &lt;chr&gt; | NOR3 &lt;chr&gt; | RIC4 &lt;chr&gt; | GAS5 &lt;chr&gt; | ALO6 &lt;chr&gt; | VER7 &lt;chr&gt; | DEV8 &lt;chr&gt; | ZHO9 &lt;chr&gt; | LAT10 &lt;chr&gt; | VET11 &lt;chr&gt; | STR12 &lt;chr&gt; | PER13 &lt;chr&gt; | OCO14 &lt;chr&gt; | BOT15 &lt;chr&gt; | MAG16 &lt;chr&gt; | MSC17 &lt;chr&gt; | SAI18 &lt;chr&gt; | HAM19 &lt;chr&gt; | TSU20 &lt;chr&gt; |\n",
       "|---|---|---|---|---|---|---|---|---|---|---|---|---|---|---|---|---|---|---|---|\n",
       "| 1 | 2 | 4  | 7  | 5  | 3  | 6  | 8  | 9  | 11 | 12 | 16 | 14 | 10 | 13 | 18 | 17 | 20 | 19 | 15 |\n",
       "| 1 | 2 | 7  | 4  | 5  | 3  | 6  | 8  | 9  | 12 | 11 | 14 | 16 | 18 | 10 | 13 | 20 | 19 | 17 | 15 |\n",
       "| 1 | 2 | 7  | 4  | 5  | 3  | 6  | 8  | 9  | 12 | 11 | 14 | 16 | 18 | 13 | 10 | 20 | 19 | 17 | 15 |\n",
       "| 1 | 2 | 7  | 4  | 5  | 3  | 6  | 8  | 9  | 12 | 11 | 14 | 18 | 13 | 16 | 10 | 20 | 19 | 17 | 15 |\n",
       "| 1 | 7 | 2  | 4  | 5  | 3  | 6  | 8  | 9  | 12 | 18 | 11 | 14 | 13 | 16 | 10 | 20 | 19 | 17 | 15 |\n",
       "| 1 | 7 | 2  | 4  | 5  | 3  | 6  | 8  | 9  | 18 | 12 | 11 | 13 | 14 | 16 | 10 | 20 | 19 | 17 | 15 |\n",
       "| 1 | 7 | 2  | 4  | 5  | 3  | 6  | 8  | 9  | 18 | 12 | 11 | 14 | 16 | 20 | 10 | 19 | 13 | 17 | 15 |\n",
       "| 1 | 7 | 2  | 4  | 5  | 3  | 6  | 8  | 18 | 9  | 12 | 11 | 14 | 20 | 16 | 19 | 10 | 17 | 15 | 13 |\n",
       "| 1 | 7 | 2  | 4  | 5  | 3  | 6  | 18 | 8  | 9  | 12 | 11 | 14 | 20 | 19 | 16 | 10 | 17 | 15 | 13 |\n",
       "| 1 | 7 | 2  | 4  | 5  | 3  | 18 | 6  | 8  | 9  | 12 | 14 | 11 | 20 | 19 | 16 | 10 | 17 | 15 | 13 |\n",
       "| 1 | 7 | 2  | 4  | 5  | 18 | 3  | 6  | 8  | 9  | 12 | 14 | 19 | 20 | 16 | 10 | 17 | 15 | 13 | <!----> |\n",
       "| 7 | 1 | 2  | 4  | 18 | 5  | 3  | 6  | 8  | 9  | 12 | 14 | 19 | 20 | 16 | 10 | 17 | 15 | 13 | <!----> |\n",
       "| 7 | 2 | 1  | 18 | 4  | 5  | 6  | 3  | 8  | 9  | 12 | 14 | 19 | 20 | 10 | 16 | 17 | 15 | 13 | <!----> |\n",
       "| 7 | 2 | 1  | 18 | 4  | 5  | 6  | 3  | 8  | 9  | 12 | 14 | 19 | 20 | 10 | 16 | 17 | 15 | 13 | <!----> |\n",
       "| 7 | 2 | 1  | 18 | 4  | 5  | 6  | 3  | 8  | 9  | 12 | 14 | 19 | 20 | 16 | 17 | 15 | 10 | 13 | <!----> |\n",
       "| 7 | 2 | 1  | 18 | 4  | 5  | 6  | 3  | 8  | 9  | 12 | 19 | 14 | 20 | 17 | 16 | 15 | 13 | 10 | <!----> |\n",
       "| 7 | 2 | 1  | 18 | 4  | 5  | 6  | 3  | 8  | 9  | 19 | 12 | 14 | 20 | 17 | 16 | 15 | 13 | 10 | <!----> |\n",
       "| 7 | 2 | 1  | 18 | 4  | 3  | 6  | 8  | 5  | 19 | 9  | 14 | 20 | 12 | 17 | 15 | 16 | 13 | 10 | <!----> |\n",
       "| 7 | 2 | 1  | 18 | 3  | 6  | 4  | 19 | 8  | 14 | 17 | 20 | 15 | 16 | 13 | 5  | 9  | 12 | 10 | <!----> |\n",
       "| 7 | 2 | 1  | 18 | 3  | 6  | 19 | 17 | 15 | 13 | 16 | 4  | 5  | 8  | 9  | 14 | 12 | 20 | 10 | <!----> |\n",
       "| 7 | 2 | 1  | 18 | 3  | 6  | 19 | 17 | 15 | 13 | 16 | 4  | 5  | 8  | 9  | 14 | 20 | 12 | 10 | <!----> |\n",
       "| 7 | 2 | 1  | 18 | 3  | 6  | 19 | 17 | 13 | 15 | 16 | 4  | 5  | 8  | 9  | 14 | 20 | 12 | 10 | <!----> |\n",
       "| 7 | 1 | 2  | 18 | 3  | 6  | 19 | 17 | 13 | 15 | 16 | 4  | 5  | 8  | 9  | 14 | 20 | 12 | 10 | <!----> |\n",
       "| 7 | 1 | 18 | 2  | 3  | 6  | 19 | 13 | 17 | 15 | 4  | 5  | 8  | 16 | 9  | 14 | 20 | 10 | 12 | <!----> |\n",
       "| 7 | 1 | 18 | 2  | 3  | 6  | 19 | 13 | 17 | 15 | 4  | 5  | 8  | 9  | 14 | 20 | 10 | 12 | 16 | <!----> |\n",
       "| 1 | 7 | 18 | 2  | 3  | 6  | 19 | 13 | 17 | 15 | 4  | 5  | 8  | 9  | 14 | 20 | 10 | 12 | 16 | <!----> |\n",
       "| 1 | 7 | 18 | 2  | 3  | 19 | 6  | 13 | 17 | 15 | 4  | 5  | 8  | 9  | 14 | 20 | 10 | 12 | 16 | <!----> |\n",
       "| 1 | 7 | 18 | 2  | 3  | 19 | 6  | 13 | 17 | 15 | 4  | 5  | 8  | 9  | 14 | 20 | 10 | 12 | 16 | <!----> |\n",
       "| 1 | 7 | 18 | 2  | 3  | 19 | 6  | 13 | 17 | 15 | 4  | 5  | 8  | 9  | 14 | 20 | 10 | 12 | 16 | <!----> |\n",
       "| 1 | 7 | 2  | 18 | 3  | 19 | 6  | 13 | 17 | 15 | 4  | 5  | 8  | 9  | 14 | 20 | 10 | 12 | 16 | <!----> |\n",
       "| 1 | 7 | 2  | 3  | 19 | 13 | 18 | 6  | 17 | 15 | 4  | 5  | 8  | 9  | 14 | 20 | 10 | 12 | 16 | <!----> |\n",
       "| 1 | 7 | 2  | 3  | 19 | 13 | 18 | 17 | 15 | 4  | 5  | 8  | 9  | 14 | 20 | 10 | 12 | 16 | <!----> | <!----> |\n",
       "| 1 | 7 | 2  | 3  | 18 | 13 | 19 | 15 | 17 | 4  | 5  | 8  | 9  | 14 | 20 | 10 | 12 | 16 | <!----> | <!----> |\n",
       "| 7 | 1 | 2  | 3  | 18 | 13 | 15 | 4  | 5  | 8  | 9  | 19 | 14 | 20 | 10 | 12 | 17 | 16 | <!----> | <!----> |\n",
       "| 7 | 1 | 2  | 3  | 18 | 13 | 4  | 5  | 19 | 8  | 15 | 9  | 14 | 20 | 10 | 17 | 12 | 16 | <!----> | <!----> |\n",
       "| 7 | 1 | 2  | 18 | 13 | 4  | 19 | 5  | 3  | 8  | 9  | 14 | 20 | 10 | 17 | 12 | 15 | 16 | <!----> | <!----> |\n",
       "| 7 | 1 | 2  | 18 | 13 | 19 | 3  | 4  | 5  | 8  | 9  | 14 | 20 | 10 | 17 | 15 | 12 | 16 | <!----> | <!----> |\n",
       "| 7 | 1 | 2  | 18 | 13 | 19 | 3  | 4  | 5  | 8  | 9  | 14 | 20 | 10 | 17 | 15 | 12 | 16 | <!----> | <!----> |\n",
       "| 7 | 1 | 2  | 18 | 13 | 19 | 3  | 4  | 5  | 8  | 9  | 14 | 20 | 10 | 17 | 15 | 12 | 16 | <!----> | <!----> |\n",
       "| 7 | 1 | 2  | 18 | 13 | 19 | 3  | 4  | 5  | 8  | 9  | 14 | 20 | 10 | 17 | 15 | 16 | <!----> | <!----> | <!----> |\n",
       "| 7 | 1 | 2  | 18 | 13 | 19 | 3  | 4  | 5  | 8  | 9  | 14 | 20 | 17 | 10 | 15 | 16 | <!----> | <!----> | <!----> |\n",
       "| 7 | 1 | 2  | 18 | 13 | 19 | 3  | 4  | 5  | 8  | 9  | 14 | 20 | 17 | 15 | 10 | 16 | <!----> | <!----> | <!----> |\n",
       "| 7 | 1 | 2  | 18 | 19 | 3  | 13 | 4  | 5  | 8  | 9  | 14 | 20 | 17 | 15 | 10 | 16 | <!----> | <!----> | <!----> |\n",
       "| 7 | 1 | 2  | 18 | 19 | 3  | 13 | 4  | 5  | 8  | 9  | 14 | 20 | 17 | 15 | 10 | 16 | <!----> | <!----> | <!----> |\n",
       "| 7 | 1 | 2  | 18 | 19 | 3  | 13 | 4  | 5  | 8  | 9  | 14 | 17 | 20 | 15 | 10 | 16 | <!----> | <!----> | <!----> |\n",
       "| 7 | 1 | 2  | 18 | 19 | 3  | 13 | 5  | 8  | 9  | 14 | 17 | 20 | 15 | 10 | 16 | <!----> | <!----> | <!----> | <!----> |\n",
       "| 7 | 1 | 2  | 18 | 19 | 3  | 13 | 5  | 8  | 9  | 14 | 17 | 15 | 20 | 10 | 16 | <!----> | <!----> | <!----> | <!----> |\n",
       "| 7 | 1 | 2  | 18 | 19 | 13 | 3  | 5  | 8  | 9  | 14 | 17 | 15 | 20 | 10 | 16 | <!----> | <!----> | <!----> | <!----> |\n",
       "| 7 | 1 | 2  | 18 | 19 | 13 | 3  | 5  | 8  | 9  | 14 | 17 | 15 | 20 | 10 | 16 | <!----> | <!----> | <!----> | <!----> |\n",
       "| 7 | 1 | 2  | 18 | 19 | 13 | 3  | 5  | 8  | 9  | 14 | 17 | 15 | 20 | 10 | 16 | <!----> | <!----> | <!----> | <!----> |\n",
       "| 7 | 1 | 2  | 18 | 19 | 13 | 3  | 5  | 8  | 9  | 14 | 17 | 15 | 20 | 10 | 16 | <!----> | <!----> | <!----> | <!----> |\n",
       "| 7 | 1 | 2  | 18 | 19 | 13 | 3  | 5  | 8  | 9  | 14 | 17 | 15 | 20 | 10 | 16 | <!----> | <!----> | <!----> | <!----> |\n",
       "| 7 | 1 | 2  | 18 | 19 | 13 | 3  | 5  | 8  | 9  | 14 | 17 | <!----> | <!----> | <!----> | <!----> | <!----> | <!----> | <!----> | <!----> |\n",
       "\n"
      ],
      "text/plain": [
       "   LEC1 RUS2 NOR3 RIC4 GAS5 ALO6 VER7 DEV8 ZHO9 LAT10 VET11 STR12 PER13 OCO14\n",
       "1  1    2    4    7    5    3    6    8    9    11    12    16    14    10   \n",
       "2  1    2    7    4    5    3    6    8    9    12    11    14    16    18   \n",
       "3  1    2    7    4    5    3    6    8    9    12    11    14    16    18   \n",
       "4  1    2    7    4    5    3    6    8    9    12    11    14    18    13   \n",
       "5  1    7    2    4    5    3    6    8    9    12    18    11    14    13   \n",
       "6  1    7    2    4    5    3    6    8    9    18    12    11    13    14   \n",
       "7  1    7    2    4    5    3    6    8    9    18    12    11    14    16   \n",
       "8  1    7    2    4    5    3    6    8    18   9     12    11    14    20   \n",
       "9  1    7    2    4    5    3    6    18   8    9     12    11    14    20   \n",
       "10 1    7    2    4    5    3    18   6    8    9     12    14    11    20   \n",
       "11 1    7    2    4    5    18   3    6    8    9     12    14    19    20   \n",
       "12 7    1    2    4    18   5    3    6    8    9     12    14    19    20   \n",
       "13 7    2    1    18   4    5    6    3    8    9     12    14    19    20   \n",
       "14 7    2    1    18   4    5    6    3    8    9     12    14    19    20   \n",
       "15 7    2    1    18   4    5    6    3    8    9     12    14    19    20   \n",
       "16 7    2    1    18   4    5    6    3    8    9     12    19    14    20   \n",
       "17 7    2    1    18   4    5    6    3    8    9     19    12    14    20   \n",
       "18 7    2    1    18   4    3    6    8    5    19    9     14    20    12   \n",
       "19 7    2    1    18   3    6    4    19   8    14    17    20    15    16   \n",
       "20 7    2    1    18   3    6    19   17   15   13    16    4     5     8    \n",
       "21 7    2    1    18   3    6    19   17   15   13    16    4     5     8    \n",
       "22 7    2    1    18   3    6    19   17   13   15    16    4     5     8    \n",
       "23 7    1    2    18   3    6    19   17   13   15    16    4     5     8    \n",
       "24 7    1    18   2    3    6    19   13   17   15    4     5     8     16   \n",
       "25 7    1    18   2    3    6    19   13   17   15    4     5     8     9    \n",
       "26 1    7    18   2    3    6    19   13   17   15    4     5     8     9    \n",
       "27 1    7    18   2    3    19   6    13   17   15    4     5     8     9    \n",
       "28 1    7    18   2    3    19   6    13   17   15    4     5     8     9    \n",
       "29 1    7    18   2    3    19   6    13   17   15    4     5     8     9    \n",
       "30 1    7    2    18   3    19   6    13   17   15    4     5     8     9    \n",
       "31 1    7    2    3    19   13   18   6    17   15    4     5     8     9    \n",
       "32 1    7    2    3    19   13   18   17   15   4     5     8     9     14   \n",
       "33 1    7    2    3    18   13   19   15   17   4     5     8     9     14   \n",
       "34 7    1    2    3    18   13   15   4    5    8     9     19    14    20   \n",
       "35 7    1    2    3    18   13   4    5    19   8     15    9     14    20   \n",
       "36 7    1    2    18   13   4    19   5    3    8     9     14    20    10   \n",
       "37 7    1    2    18   13   19   3    4    5    8     9     14    20    10   \n",
       "38 7    1    2    18   13   19   3    4    5    8     9     14    20    10   \n",
       "39 7    1    2    18   13   19   3    4    5    8     9     14    20    10   \n",
       "40 7    1    2    18   13   19   3    4    5    8     9     14    20    10   \n",
       "41 7    1    2    18   13   19   3    4    5    8     9     14    20    17   \n",
       "42 7    1    2    18   13   19   3    4    5    8     9     14    20    17   \n",
       "43 7    1    2    18   19   3    13   4    5    8     9     14    20    17   \n",
       "44 7    1    2    18   19   3    13   4    5    8     9     14    20    17   \n",
       "45 7    1    2    18   19   3    13   4    5    8     9     14    17    20   \n",
       "46 7    1    2    18   19   3    13   5    8    9     14    17    20    15   \n",
       "47 7    1    2    18   19   3    13   5    8    9     14    17    15    20   \n",
       "48 7    1    2    18   19   13   3    5    8    9     14    17    15    20   \n",
       "49 7    1    2    18   19   13   3    5    8    9     14    17    15    20   \n",
       "50 7    1    2    18   19   13   3    5    8    9     14    17    15    20   \n",
       "51 7    1    2    18   19   13   3    5    8    9     14    17    15    20   \n",
       "52 7    1    2    18   19   13   3    5    8    9     14    17    15    20   \n",
       "53 7    1    2    18   19   13   3    5    8    9     14    17               \n",
       "   BOT15 MAG16 MSC17 SAI18 HAM19 TSU20\n",
       "1  13    18    17    20    19    15   \n",
       "2  10    13    20    19    17    15   \n",
       "3  13    10    20    19    17    15   \n",
       "4  16    10    20    19    17    15   \n",
       "5  16    10    20    19    17    15   \n",
       "6  16    10    20    19    17    15   \n",
       "7  20    10    19    13    17    15   \n",
       "8  16    19    10    17    15    13   \n",
       "9  19    16    10    17    15    13   \n",
       "10 19    16    10    17    15    13   \n",
       "11 16    10    17    15    13         \n",
       "12 16    10    17    15    13         \n",
       "13 10    16    17    15    13         \n",
       "14 10    16    17    15    13         \n",
       "15 16    17    15    10    13         \n",
       "16 17    16    15    13    10         \n",
       "17 17    16    15    13    10         \n",
       "18 17    15    16    13    10         \n",
       "19 13    5     9     12    10         \n",
       "20 9     14    12    20    10         \n",
       "21 9     14    20    12    10         \n",
       "22 9     14    20    12    10         \n",
       "23 9     14    20    12    10         \n",
       "24 9     14    20    10    12         \n",
       "25 14    20    10    12    16         \n",
       "26 14    20    10    12    16         \n",
       "27 14    20    10    12    16         \n",
       "28 14    20    10    12    16         \n",
       "29 14    20    10    12    16         \n",
       "30 14    20    10    12    16         \n",
       "31 14    20    10    12    16         \n",
       "32 20    10    12    16               \n",
       "33 20    10    12    16               \n",
       "34 10    12    17    16               \n",
       "35 10    17    12    16               \n",
       "36 17    12    15    16               \n",
       "37 17    15    12    16               \n",
       "38 17    15    12    16               \n",
       "39 17    15    12    16               \n",
       "40 17    15    16                     \n",
       "41 10    15    16                     \n",
       "42 15    10    16                     \n",
       "43 15    10    16                     \n",
       "44 15    10    16                     \n",
       "45 15    10    16                     \n",
       "46 10    16                           \n",
       "47 10    16                           \n",
       "48 10    16                           \n",
       "49 10    16                           \n",
       "50 10    16                           \n",
       "51 10    16                           \n",
       "52 10    16                           \n",
       "53                                    "
      ]
     },
     "metadata": {},
     "output_type": "display_data"
    }
   ],
   "source": [
    "table_without_laps"
   ]
  },
  {
   "cell_type": "code",
   "execution_count": 70,
   "id": "b0a27703",
   "metadata": {
    "vscode": {
     "languageId": "r"
    }
   },
   "outputs": [],
   "source": [
    "total_players <- length(players)-1"
   ]
  },
  {
   "cell_type": "code",
   "execution_count": 327,
   "id": "831bf73b",
   "metadata": {
    "vscode": {
     "languageId": "r"
    }
   },
   "outputs": [],
   "source": [
    "laps <- as.integer(laps)\n",
    "total_players<-as.integer(total_players)"
   ]
  },
  {
   "cell_type": "code",
   "execution_count": 376,
   "id": "7bf4d9d5",
   "metadata": {
    "vscode": {
     "languageId": "r"
    }
   },
   "outputs": [
    {
     "name": "stdout",
     "output_type": "stream",
     "text": [
      "[1] 0\n",
      "[1] 0\n",
      "[1] 0\n",
      "[1] 0\n",
      "[1] 0\n",
      "[1] 0\n",
      "[1] 0\n",
      "[1] 0\n",
      "[1] 0\n",
      "[1] 0\n",
      "[1] 0\n",
      "[1] 0\n",
      "[1] 0\n",
      "[1] 0\n",
      "[1] 0\n",
      "[1] 0\n",
      "[1] 0\n",
      "[1] 0\n",
      "[1] 0\n",
      "[1] 0\n"
     ]
    }
   ],
   "source": [
    "overlaps <- c()\n",
    "overlap <- 0\n",
    "for (i in 1:1){\n",
    "    for (j in 1:20){\n",
    "        overlap <- which(table_without_laps[as.character(j), ] == as.character(i)) - which(table_without_laps[as.character(j), ] == as.character(i))\n",
    "        print(overlap)\n",
    "    }\n",
    "    \n",
    "}"
   ]
  },
  {
   "cell_type": "code",
   "execution_count": 370,
   "id": "757877aa",
   "metadata": {
    "vscode": {
     "languageId": "r"
    }
   },
   "outputs": [
    {
     "data": {
      "text/html": [
       "1"
      ],
      "text/latex": [
       "1"
      ],
      "text/markdown": [
       "1"
      ],
      "text/plain": [
       "[1] 1"
      ]
     },
     "metadata": {},
     "output_type": "display_data"
    }
   ],
   "source": [
    "which(table_without_laps[2, ] == '7') - which(table_without_laps[3, ] == '7')"
   ]
  },
  {
   "cell_type": "code",
   "execution_count": 339,
   "id": "3661c0c4",
   "metadata": {
    "vscode": {
     "languageId": "r"
    }
   },
   "outputs": [
    {
     "data": {
      "text/html": [
       "20"
      ],
      "text/latex": [
       "20"
      ],
      "text/markdown": [
       "20"
      ],
      "text/plain": [
       "[1] 20"
      ]
     },
     "metadata": {},
     "output_type": "display_data"
    }
   ],
   "source": [
    "lengtable_without_laps[1, ]"
   ]
  },
  {
   "cell_type": "code",
   "execution_count": 344,
   "id": "ebdb1d19",
   "metadata": {
    "vscode": {
     "languageId": "r"
    }
   },
   "outputs": [
    {
     "name": "stdout",
     "output_type": "stream",
     "text": [
      "[1] 1\n",
      "[1] 2\n",
      "[1] 3\n",
      "[1] 4\n",
      "[1] 5\n",
      "[1] 6\n",
      "[1] 7\n",
      "[1] 8\n",
      "[1] 9\n",
      "[1] 10\n",
      "[1] 11\n",
      "[1] 12\n",
      "[1] 13\n",
      "[1] 14\n",
      "[1] 15\n",
      "[1] 16\n",
      "[1] 17\n",
      "[1] 18\n",
      "[1] 19\n",
      "[1] 20\n"
     ]
    }
   ],
   "source": [
    "for (i in 1:20){\n",
    "    print(i)\n",
    "}"
   ]
  },
  {
   "cell_type": "code",
   "execution_count": 346,
   "id": "65e05890",
   "metadata": {
    "vscode": {
     "languageId": "r"
    }
   },
   "outputs": [
    {
     "name": "stdout",
     "output_type": "stream",
     "text": [
      "      [,1] [,2] [,3] [,4] [,5] [,6] [,7] [,8] [,9] [,10] [,11] [,12] [,13]\n",
      " [1,]    0   22   17   24   17   20   16   27   22    19    20    20    16\n",
      " [2,]   22    0   24   27   24   25   18   29   25    21    23    24    21\n",
      " [3,]   17   24    0   28   22   22   21   27   24    20    27    22    21\n",
      " [4,]   24   27   28    0   23   23   24   29   26    25    28    26    25\n",
      " [5,]   17   24   22   23    0   19   18   21   20    20    21    21    17\n",
      " [6,]   20   25   22   23   19    0   17   22   18    15    18    21    17\n",
      " [7,]   16   18   21   24   18   17    0   23   17    17    19    18    15\n",
      " [8,]   27   29   27   29   21   22   23    0   28    25    28    24    19\n",
      " [9,]   22   25   24   26   20   18   17   28    0    24    27    23    21\n",
      "[10,]   19   21   20   25   20   15   17   25   24     0    22    22    18\n",
      "[11,]   20   23   27   28   21   18   19   28   27    22     0    23    20\n",
      "[12,]   20   24   22   26   21   21   18   24   23    22    23     0    20\n",
      "[13,]   16   21   21   25   17   17   15   19   21    18    20    20     0\n",
      "[14,]   22   26   24   28   20   23   21   28   24    20    25    26    23\n",
      "[15,]   24   22   20   24   16   21   22   25   22    20    23    19    19\n",
      "[16,]   13   19   17   21   15   17   12   16   16    15    18    16    15\n",
      "[17,]   24   25   25   25   20   20   21   28   28    23    23    23    23\n",
      "[18,]   20   22   21   23   18   19   19   25   24    20    25    23    18\n",
      "[19,]   23   25   22   25   20   22   22   29   22    24    23    22    20\n",
      "[20,]   22   31   25   28   24   23   20   28   25    22    23    23    22\n",
      "      [,14] [,15] [,16] [,17] [,18] [,19] [,20]\n",
      " [1,]    22    24    13    24    20    23    22\n",
      " [2,]    26    22    19    25    22    25    31\n",
      " [3,]    24    20    17    25    21    22    25\n",
      " [4,]    28    24    21    25    23    25    28\n",
      " [5,]    20    16    15    20    18    20    24\n",
      " [6,]    23    21    17    20    19    22    23\n",
      " [7,]    21    22    12    21    19    22    20\n",
      " [8,]    28    25    16    28    25    29    28\n",
      " [9,]    24    22    16    28    24    22    25\n",
      "[10,]    20    20    15    23    20    24    22\n",
      "[11,]    25    23    18    23    25    23    23\n",
      "[12,]    26    19    16    23    23    22    23\n",
      "[13,]    23    19    15    23    18    20    22\n",
      "[14,]     0    27    17    27    23    22    25\n",
      "[15,]    27     0    15    26    20    24    25\n",
      "[16,]    17    15     0    16    14    17    17\n",
      "[17,]    27    26    16     0    22    24    26\n",
      "[18,]    23    20    14    22     0    23    23\n",
      "[19,]    22    24    17    24    23     0    25\n",
      "[20,]    25    25    17    26    23    25     0\n"
     ]
    }
   ],
   "source": [
    "total_players <- 20  # Replace with your actual number of players\n",
    "laps <- 53           # Replace with your actual number of laps\n",
    "\n",
    "# Sample data for demonstration\n",
    "table_without_laps <- matrix(sample(1:total_players, total_players * laps, replace = TRUE), nrow = laps)\n",
    "\n",
    "overlaps <- matrix(0, nrow = total_players, ncol = total_players)\n",
    "\n",
    "for (i in 1:total_players) {\n",
    "  for (j in 1:laps) {\n",
    "    for (k in 1:total_players) {\n",
    "      if (k != i) {\n",
    "        if (any(table_without_laps[j, ] == i) && any(table_without_laps[j, ] == k)) {\n",
    "          overlaps[i, k] <- overlaps[i, k] + 1\n",
    "        }\n",
    "      }\n",
    "    }\n",
    "  }\n",
    "}\n",
    "\n",
    "# Print the overlaps matrix\n",
    "print(overlaps)\n"
   ]
  },
  {
   "cell_type": "code",
   "execution_count": null,
   "id": "d0df8830",
   "metadata": {
    "vscode": {
     "languageId": "r"
    }
   },
   "outputs": [],
   "source": [
    "overlap <- 0\n",
    "i = 1\n",
    "j = 7\n",
    "for (j in 1:20){\n",
    "    for (i in 1:52){\n",
    "        a <- which(table_without_laps[i, ] == j) - which(table_without_laps[i+1, ] == j)\n",
    "        if (a > 0){\n",
    "            overlap <- overlap + a\n",
    "        }\n",
    "    \n",
    "    }\n",
    "    print(overlap)\n",
    "    overlap <- 0\n",
    "}"
   ]
  },
  {
   "cell_type": "code",
   "execution_count": 399,
   "id": "e2e009e0",
   "metadata": {
    "vscode": {
     "languageId": "r"
    }
   },
   "outputs": [
    {
     "data": {
      "text/html": [
       "<style>\n",
       ".list-inline {list-style: none; margin:0; padding: 0}\n",
       ".list-inline>li {display: inline-block}\n",
       ".list-inline>li:not(:last-child)::after {content: \"\\00b7\"; padding: 0 .5ex}\n",
       "</style>\n",
       "<ol class=list-inline><li>'1'</li><li>'1'</li><li>'1'</li><li>'1'</li><li>'1'</li><li>'1'</li><li>'1'</li><li>'1'</li><li>'1'</li><li>'1'</li><li>'1'</li><li>'1'</li><li>'7'</li><li>'7'</li><li>'7'</li><li>'7'</li><li>'7'</li><li>'7'</li><li>'7'</li><li>'7'</li><li>'7'</li><li>'7'</li><li>'7'</li><li>'7'</li><li>'7'</li><li>'7'</li><li>'1'</li><li>'1'</li><li>'1'</li><li>'1'</li><li>'1'</li><li>'1'</li><li>'1'</li><li>'1'</li><li>'7'</li><li>'7'</li><li>'7'</li><li>'7'</li><li>'7'</li><li>'7'</li><li>'7'</li><li>'7'</li><li>'7'</li><li>'7'</li><li>'7'</li><li>'7'</li><li>'7'</li><li>'7'</li><li>'7'</li><li>'7'</li><li>'7'</li><li>'7'</li><li>'7'</li><li>'7'</li></ol>\n"
      ],
      "text/latex": [
       "\\begin{enumerate*}\n",
       "\\item '1'\n",
       "\\item '1'\n",
       "\\item '1'\n",
       "\\item '1'\n",
       "\\item '1'\n",
       "\\item '1'\n",
       "\\item '1'\n",
       "\\item '1'\n",
       "\\item '1'\n",
       "\\item '1'\n",
       "\\item '1'\n",
       "\\item '1'\n",
       "\\item '7'\n",
       "\\item '7'\n",
       "\\item '7'\n",
       "\\item '7'\n",
       "\\item '7'\n",
       "\\item '7'\n",
       "\\item '7'\n",
       "\\item '7'\n",
       "\\item '7'\n",
       "\\item '7'\n",
       "\\item '7'\n",
       "\\item '7'\n",
       "\\item '7'\n",
       "\\item '7'\n",
       "\\item '1'\n",
       "\\item '1'\n",
       "\\item '1'\n",
       "\\item '1'\n",
       "\\item '1'\n",
       "\\item '1'\n",
       "\\item '1'\n",
       "\\item '1'\n",
       "\\item '7'\n",
       "\\item '7'\n",
       "\\item '7'\n",
       "\\item '7'\n",
       "\\item '7'\n",
       "\\item '7'\n",
       "\\item '7'\n",
       "\\item '7'\n",
       "\\item '7'\n",
       "\\item '7'\n",
       "\\item '7'\n",
       "\\item '7'\n",
       "\\item '7'\n",
       "\\item '7'\n",
       "\\item '7'\n",
       "\\item '7'\n",
       "\\item '7'\n",
       "\\item '7'\n",
       "\\item '7'\n",
       "\\item '7'\n",
       "\\end{enumerate*}\n"
      ],
      "text/markdown": [
       "1. '1'\n",
       "2. '1'\n",
       "3. '1'\n",
       "4. '1'\n",
       "5. '1'\n",
       "6. '1'\n",
       "7. '1'\n",
       "8. '1'\n",
       "9. '1'\n",
       "10. '1'\n",
       "11. '1'\n",
       "12. '1'\n",
       "13. '7'\n",
       "14. '7'\n",
       "15. '7'\n",
       "16. '7'\n",
       "17. '7'\n",
       "18. '7'\n",
       "19. '7'\n",
       "20. '7'\n",
       "21. '7'\n",
       "22. '7'\n",
       "23. '7'\n",
       "24. '7'\n",
       "25. '7'\n",
       "26. '7'\n",
       "27. '1'\n",
       "28. '1'\n",
       "29. '1'\n",
       "30. '1'\n",
       "31. '1'\n",
       "32. '1'\n",
       "33. '1'\n",
       "34. '1'\n",
       "35. '7'\n",
       "36. '7'\n",
       "37. '7'\n",
       "38. '7'\n",
       "39. '7'\n",
       "40. '7'\n",
       "41. '7'\n",
       "42. '7'\n",
       "43. '7'\n",
       "44. '7'\n",
       "45. '7'\n",
       "46. '7'\n",
       "47. '7'\n",
       "48. '7'\n",
       "49. '7'\n",
       "50. '7'\n",
       "51. '7'\n",
       "52. '7'\n",
       "53. '7'\n",
       "54. '7'\n",
       "\n",
       "\n"
      ],
      "text/plain": [
       " [1] \"1\" \"1\" \"1\" \"1\" \"1\" \"1\" \"1\" \"1\" \"1\" \"1\" \"1\" \"1\" \"7\" \"7\" \"7\" \"7\" \"7\" \"7\" \"7\"\n",
       "[20] \"7\" \"7\" \"7\" \"7\" \"7\" \"7\" \"7\" \"1\" \"1\" \"1\" \"1\" \"1\" \"1\" \"1\" \"1\" \"7\" \"7\" \"7\" \"7\"\n",
       "[39] \"7\" \"7\" \"7\" \"7\" \"7\" \"7\" \"7\" \"7\" \"7\" \"7\" \"7\" \"7\" \"7\" \"7\" \"7\" \"7\""
      ]
     },
     "metadata": {},
     "output_type": "display_data"
    }
   ],
   "source": [
    "scores_df_header$LEC1"
   ]
  },
  {
   "cell_type": "code",
   "execution_count": 417,
   "id": "658a11c3",
   "metadata": {
    "vscode": {
     "languageId": "r"
    }
   },
   "outputs": [],
   "source": [
    "\n",
    "b <- c(1, 2, '')\n",
    "a <- c(1, 2, NA)"
   ]
  },
  {
   "cell_type": "code",
   "execution_count": 419,
   "id": "f689126c",
   "metadata": {
    "vscode": {
     "languageId": "r"
    }
   },
   "outputs": [
    {
     "data": {
      "text/html": [
       "3"
      ],
      "text/latex": [
       "3"
      ],
      "text/markdown": [
       "3"
      ],
      "text/plain": [
       "[1] 3"
      ]
     },
     "metadata": {},
     "output_type": "display_data"
    }
   ],
   "source": [
    "length(b)"
   ]
  },
  {
   "cell_type": "code",
   "execution_count": 393,
   "id": "81c0ce2d",
   "metadata": {
    "vscode": {
     "languageId": "r"
    }
   },
   "outputs": [],
   "source": [
    "df <- data.frame(A = c(1, 2, 3, 4, ''), B = c(5, 6, 7, 8, 9))"
   ]
  },
  {
   "cell_type": "code",
   "execution_count": 394,
   "id": "7411a6fb",
   "metadata": {
    "vscode": {
     "languageId": "r"
    }
   },
   "outputs": [
    {
     "data": {
      "text/html": [
       "<table class=\"dataframe\">\n",
       "<caption>A data.frame: 5 × 2</caption>\n",
       "<thead>\n",
       "\t<tr><th scope=col>A</th><th scope=col>B</th></tr>\n",
       "\t<tr><th scope=col>&lt;fct&gt;</th><th scope=col>&lt;dbl&gt;</th></tr>\n",
       "</thead>\n",
       "<tbody>\n",
       "\t<tr><td>1</td><td>5</td></tr>\n",
       "\t<tr><td>2</td><td>6</td></tr>\n",
       "\t<tr><td>3</td><td>7</td></tr>\n",
       "\t<tr><td>4</td><td>8</td></tr>\n",
       "\t<tr><td> </td><td>9</td></tr>\n",
       "</tbody>\n",
       "</table>\n"
      ],
      "text/latex": [
       "A data.frame: 5 × 2\n",
       "\\begin{tabular}{ll}\n",
       " A & B\\\\\n",
       " <fct> & <dbl>\\\\\n",
       "\\hline\n",
       "\t 1 & 5\\\\\n",
       "\t 2 & 6\\\\\n",
       "\t 3 & 7\\\\\n",
       "\t 4 & 8\\\\\n",
       "\t   & 9\\\\\n",
       "\\end{tabular}\n"
      ],
      "text/markdown": [
       "\n",
       "A data.frame: 5 × 2\n",
       "\n",
       "| A &lt;fct&gt; | B &lt;dbl&gt; |\n",
       "|---|---|\n",
       "| 1 | 5 |\n",
       "| 2 | 6 |\n",
       "| 3 | 7 |\n",
       "| 4 | 8 |\n",
       "| <!----> | 9 |\n",
       "\n"
      ],
      "text/plain": [
       "  A B\n",
       "1 1 5\n",
       "2 2 6\n",
       "3 3 7\n",
       "4 4 8\n",
       "5   9"
      ]
     },
     "metadata": {},
     "output_type": "display_data"
    }
   ],
   "source": [
    "df"
   ]
  },
  {
   "cell_type": "code",
   "execution_count": 420,
   "id": "01233e58",
   "metadata": {
    "vscode": {
     "languageId": "r"
    }
   },
   "outputs": [],
   "source": [
    "df$A <- mapvalues(df$A, from = b, to = a)"
   ]
  },
  {
   "cell_type": "code",
   "execution_count": 411,
   "id": "128644dc",
   "metadata": {
    "vscode": {
     "languageId": "r"
    }
   },
   "outputs": [],
   "source": [
    "test <- scores_df_header_1$SAI18[50]"
   ]
  },
  {
   "cell_type": "code",
   "execution_count": 426,
   "id": "c0e2f6e3",
   "metadata": {
    "vscode": {
     "languageId": "r"
    }
   },
   "outputs": [
    {
     "data": {
      "text/html": [
       "<style>\n",
       ".list-inline {list-style: none; margin:0; padding: 0}\n",
       ".list-inline>li {display: inline-block}\n",
       ".list-inline>li:not(:last-child)::after {content: \"\\00b7\"; padding: 0 .5ex}\n",
       "</style>\n",
       "<ol class=list-inline><li>1</li><li>2</li><li>3</li><li>4</li><li>&lt;NA&gt;</li></ol>\n",
       "\n",
       "<details>\n",
       "\t<summary style=display:list-item;cursor:pointer>\n",
       "\t\t<strong>Levels</strong>:\n",
       "\t</summary>\n",
       "\t<style>\n",
       "\t.list-inline {list-style: none; margin:0; padding: 0}\n",
       "\t.list-inline>li {display: inline-block}\n",
       "\t.list-inline>li:not(:last-child)::after {content: \"\\00b7\"; padding: 0 .5ex}\n",
       "\t</style>\n",
       "\t<ol class=list-inline><li>'1'</li><li>'2'</li><li>'3'</li><li>'4'</li></ol>\n",
       "</details>"
      ],
      "text/latex": [
       "\\begin{enumerate*}\n",
       "\\item 1\n",
       "\\item 2\n",
       "\\item 3\n",
       "\\item 4\n",
       "\\item <NA>\n",
       "\\end{enumerate*}\n",
       "\n",
       "\\emph{Levels}: \\begin{enumerate*}\n",
       "\\item '1'\n",
       "\\item '2'\n",
       "\\item '3'\n",
       "\\item '4'\n",
       "\\end{enumerate*}\n"
      ],
      "text/markdown": [
       "1. 1\n",
       "2. 2\n",
       "3. 3\n",
       "4. 4\n",
       "5. &lt;NA&gt;\n",
       "\n",
       "\n",
       "\n",
       "**Levels**: 1. '1'\n",
       "2. '2'\n",
       "3. '3'\n",
       "4. '4'\n",
       "\n",
       "\n"
      ],
      "text/plain": [
       "[1] 1    2    3    4    <NA>\n",
       "Levels: 1 2 3 4"
      ]
     },
     "metadata": {},
     "output_type": "display_data"
    }
   ],
   "source": [
    "df$A"
   ]
  },
  {
   "cell_type": "code",
   "execution_count": 412,
   "id": "ad15e22c",
   "metadata": {
    "vscode": {
     "languageId": "r"
    }
   },
   "outputs": [
    {
     "data": {
      "text/html": [
       "''"
      ],
      "text/latex": [
       "''"
      ],
      "text/markdown": [
       "''"
      ],
      "text/plain": [
       "[1] \"\""
      ]
     },
     "metadata": {},
     "output_type": "display_data"
    }
   ],
   "source": [
    "test"
   ]
  },
  {
   "cell_type": "code",
   "execution_count": 413,
   "id": "06985b05",
   "metadata": {
    "vscode": {
     "languageId": "r"
    }
   },
   "outputs": [],
   "source": [
    "a <- ''"
   ]
  },
  {
   "cell_type": "code",
   "execution_count": 414,
   "id": "98939d38",
   "metadata": {
    "vscode": {
     "languageId": "r"
    }
   },
   "outputs": [
    {
     "data": {
      "text/html": [
       "''"
      ],
      "text/latex": [
       "''"
      ],
      "text/markdown": [
       "''"
      ],
      "text/plain": [
       "[1] \"\""
      ]
     },
     "metadata": {},
     "output_type": "display_data"
    }
   ],
   "source": [
    "a"
   ]
  },
  {
   "cell_type": "code",
   "execution_count": 415,
   "id": "b774a06a",
   "metadata": {
    "vscode": {
     "languageId": "r"
    }
   },
   "outputs": [
    {
     "data": {
      "text/html": [
       "'character'"
      ],
      "text/latex": [
       "'character'"
      ],
      "text/markdown": [
       "'character'"
      ],
      "text/plain": [
       "[1] \"character\""
      ]
     },
     "metadata": {},
     "output_type": "display_data"
    }
   ],
   "source": [
    "a %>% class()\n"
   ]
  },
  {
   "cell_type": "code",
   "execution_count": 431,
   "id": "a3d0b13d",
   "metadata": {
    "vscode": {
     "languageId": "r"
    }
   },
   "outputs": [
    {
     "data": {
      "text/html": [
       "17"
      ],
      "text/latex": [
       "17"
      ],
      "text/markdown": [
       "17"
      ],
      "text/plain": [
       "[1] 17"
      ]
     },
     "metadata": {},
     "output_type": "display_data"
    }
   ],
   "source": [
    "sum(scores_df_header_1[50,] != \"\")"
   ]
  },
  {
   "cell_type": "code",
   "execution_count": 432,
   "id": "7ec4889e",
   "metadata": {
    "vscode": {
     "languageId": "r"
    }
   },
   "outputs": [
    {
     "data": {
      "text/html": [
       "<table class=\"dataframe\">\n",
       "<caption>A tibble: 54 × 20</caption>\n",
       "<thead>\n",
       "\t<tr><th scope=col>LEC1</th><th scope=col>RUS2</th><th scope=col>NOR3</th><th scope=col>RIC4</th><th scope=col>GAS5</th><th scope=col>ALO6</th><th scope=col>VER7</th><th scope=col>DEV8</th><th scope=col>ZHO9</th><th scope=col>LAT10</th><th scope=col>VET11</th><th scope=col>STR12</th><th scope=col>PER13</th><th scope=col>OCO14</th><th scope=col>BOT15</th><th scope=col>MAG16</th><th scope=col>MSC17</th><th scope=col>SAI18</th><th scope=col>HAM19</th><th scope=col>TSU20</th></tr>\n",
       "\t<tr><th scope=col>&lt;chr&gt;</th><th scope=col>&lt;chr&gt;</th><th scope=col>&lt;chr&gt;</th><th scope=col>&lt;chr&gt;</th><th scope=col>&lt;chr&gt;</th><th scope=col>&lt;chr&gt;</th><th scope=col>&lt;chr&gt;</th><th scope=col>&lt;chr&gt;</th><th scope=col>&lt;chr&gt;</th><th scope=col>&lt;chr&gt;</th><th scope=col>&lt;chr&gt;</th><th scope=col>&lt;chr&gt;</th><th scope=col>&lt;chr&gt;</th><th scope=col>&lt;chr&gt;</th><th scope=col>&lt;chr&gt;</th><th scope=col>&lt;chr&gt;</th><th scope=col>&lt;chr&gt;</th><th scope=col>&lt;chr&gt;</th><th scope=col>&lt;chr&gt;</th><th scope=col>&lt;chr&gt;</th></tr>\n",
       "</thead>\n",
       "<tbody>\n",
       "\t<tr><td>1</td><td>2</td><td>3 </td><td>4 </td><td>5 </td><td>6 </td><td>7 </td><td>8 </td><td>9 </td><td>10</td><td>11</td><td>12</td><td>13</td><td>14</td><td>15</td><td>16</td><td>17</td><td>18</td><td>19</td><td>20</td></tr>\n",
       "\t<tr><td>1</td><td>2</td><td>4 </td><td>7 </td><td>5 </td><td>3 </td><td>6 </td><td>8 </td><td>9 </td><td>11</td><td>12</td><td>16</td><td>14</td><td>10</td><td>13</td><td>18</td><td>17</td><td>20</td><td>19</td><td>15</td></tr>\n",
       "\t<tr><td>1</td><td>2</td><td>7 </td><td>4 </td><td>5 </td><td>3 </td><td>6 </td><td>8 </td><td>9 </td><td>12</td><td>11</td><td>14</td><td>16</td><td>18</td><td>10</td><td>13</td><td>20</td><td>19</td><td>17</td><td>15</td></tr>\n",
       "\t<tr><td>1</td><td>2</td><td>7 </td><td>4 </td><td>5 </td><td>3 </td><td>6 </td><td>8 </td><td>9 </td><td>12</td><td>11</td><td>14</td><td>16</td><td>18</td><td>13</td><td>10</td><td>20</td><td>19</td><td>17</td><td>15</td></tr>\n",
       "\t<tr><td>1</td><td>2</td><td>7 </td><td>4 </td><td>5 </td><td>3 </td><td>6 </td><td>8 </td><td>9 </td><td>12</td><td>11</td><td>14</td><td>18</td><td>13</td><td>16</td><td>10</td><td>20</td><td>19</td><td>17</td><td>15</td></tr>\n",
       "\t<tr><td>1</td><td>7</td><td>2 </td><td>4 </td><td>5 </td><td>3 </td><td>6 </td><td>8 </td><td>9 </td><td>12</td><td>18</td><td>11</td><td>14</td><td>13</td><td>16</td><td>10</td><td>20</td><td>19</td><td>17</td><td>15</td></tr>\n",
       "\t<tr><td>1</td><td>7</td><td>2 </td><td>4 </td><td>5 </td><td>3 </td><td>6 </td><td>8 </td><td>9 </td><td>18</td><td>12</td><td>11</td><td>13</td><td>14</td><td>16</td><td>10</td><td>20</td><td>19</td><td>17</td><td>15</td></tr>\n",
       "\t<tr><td>1</td><td>7</td><td>2 </td><td>4 </td><td>5 </td><td>3 </td><td>6 </td><td>8 </td><td>9 </td><td>18</td><td>12</td><td>11</td><td>14</td><td>16</td><td>20</td><td>10</td><td>19</td><td>13</td><td>17</td><td>15</td></tr>\n",
       "\t<tr><td>1</td><td>7</td><td>2 </td><td>4 </td><td>5 </td><td>3 </td><td>6 </td><td>8 </td><td>18</td><td>9 </td><td>12</td><td>11</td><td>14</td><td>20</td><td>16</td><td>19</td><td>10</td><td>17</td><td>15</td><td>13</td></tr>\n",
       "\t<tr><td>1</td><td>7</td><td>2 </td><td>4 </td><td>5 </td><td>3 </td><td>6 </td><td>18</td><td>8 </td><td>9 </td><td>12</td><td>11</td><td>14</td><td>20</td><td>19</td><td>16</td><td>10</td><td>17</td><td>15</td><td>13</td></tr>\n",
       "\t<tr><td>1</td><td>7</td><td>2 </td><td>4 </td><td>5 </td><td>3 </td><td>18</td><td>6 </td><td>8 </td><td>9 </td><td>12</td><td>14</td><td>11</td><td>20</td><td>19</td><td>16</td><td>10</td><td>17</td><td>15</td><td>13</td></tr>\n",
       "\t<tr><td>1</td><td>7</td><td>2 </td><td>4 </td><td>5 </td><td>18</td><td>3 </td><td>6 </td><td>8 </td><td>9 </td><td>12</td><td>14</td><td>19</td><td>20</td><td>16</td><td>10</td><td>17</td><td>15</td><td>13</td><td>  </td></tr>\n",
       "\t<tr><td>7</td><td>1</td><td>2 </td><td>4 </td><td>18</td><td>5 </td><td>3 </td><td>6 </td><td>8 </td><td>9 </td><td>12</td><td>14</td><td>19</td><td>20</td><td>16</td><td>10</td><td>17</td><td>15</td><td>13</td><td>  </td></tr>\n",
       "\t<tr><td>7</td><td>2</td><td>1 </td><td>18</td><td>4 </td><td>5 </td><td>6 </td><td>3 </td><td>8 </td><td>9 </td><td>12</td><td>14</td><td>19</td><td>20</td><td>10</td><td>16</td><td>17</td><td>15</td><td>13</td><td>  </td></tr>\n",
       "\t<tr><td>7</td><td>2</td><td>1 </td><td>18</td><td>4 </td><td>5 </td><td>6 </td><td>3 </td><td>8 </td><td>9 </td><td>12</td><td>14</td><td>19</td><td>20</td><td>10</td><td>16</td><td>17</td><td>15</td><td>13</td><td>  </td></tr>\n",
       "\t<tr><td>7</td><td>2</td><td>1 </td><td>18</td><td>4 </td><td>5 </td><td>6 </td><td>3 </td><td>8 </td><td>9 </td><td>12</td><td>14</td><td>19</td><td>20</td><td>16</td><td>17</td><td>15</td><td>10</td><td>13</td><td>  </td></tr>\n",
       "\t<tr><td>7</td><td>2</td><td>1 </td><td>18</td><td>4 </td><td>5 </td><td>6 </td><td>3 </td><td>8 </td><td>9 </td><td>12</td><td>19</td><td>14</td><td>20</td><td>17</td><td>16</td><td>15</td><td>13</td><td>10</td><td>  </td></tr>\n",
       "\t<tr><td>7</td><td>2</td><td>1 </td><td>18</td><td>4 </td><td>5 </td><td>6 </td><td>3 </td><td>8 </td><td>9 </td><td>19</td><td>12</td><td>14</td><td>20</td><td>17</td><td>16</td><td>15</td><td>13</td><td>10</td><td>  </td></tr>\n",
       "\t<tr><td>7</td><td>2</td><td>1 </td><td>18</td><td>4 </td><td>3 </td><td>6 </td><td>8 </td><td>5 </td><td>19</td><td>9 </td><td>14</td><td>20</td><td>12</td><td>17</td><td>15</td><td>16</td><td>13</td><td>10</td><td>  </td></tr>\n",
       "\t<tr><td>7</td><td>2</td><td>1 </td><td>18</td><td>3 </td><td>6 </td><td>4 </td><td>19</td><td>8 </td><td>14</td><td>17</td><td>20</td><td>15</td><td>16</td><td>13</td><td>5 </td><td>9 </td><td>12</td><td>10</td><td>  </td></tr>\n",
       "\t<tr><td>7</td><td>2</td><td>1 </td><td>18</td><td>3 </td><td>6 </td><td>19</td><td>17</td><td>15</td><td>13</td><td>16</td><td>4 </td><td>5 </td><td>8 </td><td>9 </td><td>14</td><td>12</td><td>20</td><td>10</td><td>  </td></tr>\n",
       "\t<tr><td>7</td><td>2</td><td>1 </td><td>18</td><td>3 </td><td>6 </td><td>19</td><td>17</td><td>15</td><td>13</td><td>16</td><td>4 </td><td>5 </td><td>8 </td><td>9 </td><td>14</td><td>20</td><td>12</td><td>10</td><td>  </td></tr>\n",
       "\t<tr><td>7</td><td>2</td><td>1 </td><td>18</td><td>3 </td><td>6 </td><td>19</td><td>17</td><td>13</td><td>15</td><td>16</td><td>4 </td><td>5 </td><td>8 </td><td>9 </td><td>14</td><td>20</td><td>12</td><td>10</td><td>  </td></tr>\n",
       "\t<tr><td>7</td><td>1</td><td>2 </td><td>18</td><td>3 </td><td>6 </td><td>19</td><td>17</td><td>13</td><td>15</td><td>16</td><td>4 </td><td>5 </td><td>8 </td><td>9 </td><td>14</td><td>20</td><td>12</td><td>10</td><td>  </td></tr>\n",
       "\t<tr><td>7</td><td>1</td><td>18</td><td>2 </td><td>3 </td><td>6 </td><td>19</td><td>13</td><td>17</td><td>15</td><td>4 </td><td>5 </td><td>8 </td><td>16</td><td>9 </td><td>14</td><td>20</td><td>10</td><td>12</td><td>  </td></tr>\n",
       "\t<tr><td>7</td><td>1</td><td>18</td><td>2 </td><td>3 </td><td>6 </td><td>19</td><td>13</td><td>17</td><td>15</td><td>4 </td><td>5 </td><td>8 </td><td>9 </td><td>14</td><td>20</td><td>10</td><td>12</td><td>16</td><td>  </td></tr>\n",
       "\t<tr><td>1</td><td>7</td><td>18</td><td>2 </td><td>3 </td><td>6 </td><td>19</td><td>13</td><td>17</td><td>15</td><td>4 </td><td>5 </td><td>8 </td><td>9 </td><td>14</td><td>20</td><td>10</td><td>12</td><td>16</td><td>  </td></tr>\n",
       "\t<tr><td>1</td><td>7</td><td>18</td><td>2 </td><td>3 </td><td>19</td><td>6 </td><td>13</td><td>17</td><td>15</td><td>4 </td><td>5 </td><td>8 </td><td>9 </td><td>14</td><td>20</td><td>10</td><td>12</td><td>16</td><td>  </td></tr>\n",
       "\t<tr><td>1</td><td>7</td><td>18</td><td>2 </td><td>3 </td><td>19</td><td>6 </td><td>13</td><td>17</td><td>15</td><td>4 </td><td>5 </td><td>8 </td><td>9 </td><td>14</td><td>20</td><td>10</td><td>12</td><td>16</td><td>  </td></tr>\n",
       "\t<tr><td>1</td><td>7</td><td>18</td><td>2 </td><td>3 </td><td>19</td><td>6 </td><td>13</td><td>17</td><td>15</td><td>4 </td><td>5 </td><td>8 </td><td>9 </td><td>14</td><td>20</td><td>10</td><td>12</td><td>16</td><td>  </td></tr>\n",
       "\t<tr><td>1</td><td>7</td><td>2 </td><td>18</td><td>3 </td><td>19</td><td>6 </td><td>13</td><td>17</td><td>15</td><td>4 </td><td>5 </td><td>8 </td><td>9 </td><td>14</td><td>20</td><td>10</td><td>12</td><td>16</td><td>  </td></tr>\n",
       "\t<tr><td>1</td><td>7</td><td>2 </td><td>3 </td><td>19</td><td>13</td><td>18</td><td>6 </td><td>17</td><td>15</td><td>4 </td><td>5 </td><td>8 </td><td>9 </td><td>14</td><td>20</td><td>10</td><td>12</td><td>16</td><td>  </td></tr>\n",
       "\t<tr><td>1</td><td>7</td><td>2 </td><td>3 </td><td>19</td><td>13</td><td>18</td><td>17</td><td>15</td><td>4 </td><td>5 </td><td>8 </td><td>9 </td><td>14</td><td>20</td><td>10</td><td>12</td><td>16</td><td>  </td><td>  </td></tr>\n",
       "\t<tr><td>1</td><td>7</td><td>2 </td><td>3 </td><td>18</td><td>13</td><td>19</td><td>15</td><td>17</td><td>4 </td><td>5 </td><td>8 </td><td>9 </td><td>14</td><td>20</td><td>10</td><td>12</td><td>16</td><td>  </td><td>  </td></tr>\n",
       "\t<tr><td>7</td><td>1</td><td>2 </td><td>3 </td><td>18</td><td>13</td><td>15</td><td>4 </td><td>5 </td><td>8 </td><td>9 </td><td>19</td><td>14</td><td>20</td><td>10</td><td>12</td><td>17</td><td>16</td><td>  </td><td>  </td></tr>\n",
       "\t<tr><td>7</td><td>1</td><td>2 </td><td>3 </td><td>18</td><td>13</td><td>4 </td><td>5 </td><td>19</td><td>8 </td><td>15</td><td>9 </td><td>14</td><td>20</td><td>10</td><td>17</td><td>12</td><td>16</td><td>  </td><td>  </td></tr>\n",
       "\t<tr><td>7</td><td>1</td><td>2 </td><td>18</td><td>13</td><td>4 </td><td>19</td><td>5 </td><td>3 </td><td>8 </td><td>9 </td><td>14</td><td>20</td><td>10</td><td>17</td><td>12</td><td>15</td><td>16</td><td>  </td><td>  </td></tr>\n",
       "\t<tr><td>7</td><td>1</td><td>2 </td><td>18</td><td>13</td><td>19</td><td>3 </td><td>4 </td><td>5 </td><td>8 </td><td>9 </td><td>14</td><td>20</td><td>10</td><td>17</td><td>15</td><td>12</td><td>16</td><td>  </td><td>  </td></tr>\n",
       "\t<tr><td>7</td><td>1</td><td>2 </td><td>18</td><td>13</td><td>19</td><td>3 </td><td>4 </td><td>5 </td><td>8 </td><td>9 </td><td>14</td><td>20</td><td>10</td><td>17</td><td>15</td><td>12</td><td>16</td><td>  </td><td>  </td></tr>\n",
       "\t<tr><td>7</td><td>1</td><td>2 </td><td>18</td><td>13</td><td>19</td><td>3 </td><td>4 </td><td>5 </td><td>8 </td><td>9 </td><td>14</td><td>20</td><td>10</td><td>17</td><td>15</td><td>12</td><td>16</td><td>  </td><td>  </td></tr>\n",
       "\t<tr><td>7</td><td>1</td><td>2 </td><td>18</td><td>13</td><td>19</td><td>3 </td><td>4 </td><td>5 </td><td>8 </td><td>9 </td><td>14</td><td>20</td><td>10</td><td>17</td><td>15</td><td>16</td><td>  </td><td>  </td><td>  </td></tr>\n",
       "\t<tr><td>7</td><td>1</td><td>2 </td><td>18</td><td>13</td><td>19</td><td>3 </td><td>4 </td><td>5 </td><td>8 </td><td>9 </td><td>14</td><td>20</td><td>17</td><td>10</td><td>15</td><td>16</td><td>  </td><td>  </td><td>  </td></tr>\n",
       "\t<tr><td>7</td><td>1</td><td>2 </td><td>18</td><td>13</td><td>19</td><td>3 </td><td>4 </td><td>5 </td><td>8 </td><td>9 </td><td>14</td><td>20</td><td>17</td><td>15</td><td>10</td><td>16</td><td>  </td><td>  </td><td>  </td></tr>\n",
       "\t<tr><td>7</td><td>1</td><td>2 </td><td>18</td><td>19</td><td>3 </td><td>13</td><td>4 </td><td>5 </td><td>8 </td><td>9 </td><td>14</td><td>20</td><td>17</td><td>15</td><td>10</td><td>16</td><td>  </td><td>  </td><td>  </td></tr>\n",
       "\t<tr><td>7</td><td>1</td><td>2 </td><td>18</td><td>19</td><td>3 </td><td>13</td><td>4 </td><td>5 </td><td>8 </td><td>9 </td><td>14</td><td>20</td><td>17</td><td>15</td><td>10</td><td>16</td><td>  </td><td>  </td><td>  </td></tr>\n",
       "\t<tr><td>7</td><td>1</td><td>2 </td><td>18</td><td>19</td><td>3 </td><td>13</td><td>4 </td><td>5 </td><td>8 </td><td>9 </td><td>14</td><td>17</td><td>20</td><td>15</td><td>10</td><td>16</td><td>  </td><td>  </td><td>  </td></tr>\n",
       "\t<tr><td>7</td><td>1</td><td>2 </td><td>18</td><td>19</td><td>3 </td><td>13</td><td>5 </td><td>8 </td><td>9 </td><td>14</td><td>17</td><td>20</td><td>15</td><td>10</td><td>16</td><td>  </td><td>  </td><td>  </td><td>  </td></tr>\n",
       "\t<tr><td>7</td><td>1</td><td>2 </td><td>18</td><td>19</td><td>3 </td><td>13</td><td>5 </td><td>8 </td><td>9 </td><td>14</td><td>17</td><td>15</td><td>20</td><td>10</td><td>16</td><td>  </td><td>  </td><td>  </td><td>  </td></tr>\n",
       "\t<tr><td>7</td><td>1</td><td>2 </td><td>18</td><td>19</td><td>13</td><td>3 </td><td>5 </td><td>8 </td><td>9 </td><td>14</td><td>17</td><td>15</td><td>20</td><td>10</td><td>16</td><td>  </td><td>  </td><td>  </td><td>  </td></tr>\n",
       "\t<tr><td>7</td><td>1</td><td>2 </td><td>18</td><td>19</td><td>13</td><td>3 </td><td>5 </td><td>8 </td><td>9 </td><td>14</td><td>17</td><td>15</td><td>20</td><td>10</td><td>16</td><td>  </td><td>  </td><td>  </td><td>  </td></tr>\n",
       "\t<tr><td>7</td><td>1</td><td>2 </td><td>18</td><td>19</td><td>13</td><td>3 </td><td>5 </td><td>8 </td><td>9 </td><td>14</td><td>17</td><td>15</td><td>20</td><td>10</td><td>16</td><td>  </td><td>  </td><td>  </td><td>  </td></tr>\n",
       "\t<tr><td>7</td><td>1</td><td>2 </td><td>18</td><td>19</td><td>13</td><td>3 </td><td>5 </td><td>8 </td><td>9 </td><td>14</td><td>17</td><td>15</td><td>20</td><td>10</td><td>16</td><td>  </td><td>  </td><td>  </td><td>  </td></tr>\n",
       "\t<tr><td>7</td><td>1</td><td>2 </td><td>18</td><td>19</td><td>13</td><td>3 </td><td>5 </td><td>8 </td><td>9 </td><td>14</td><td>17</td><td>15</td><td>20</td><td>10</td><td>16</td><td>  </td><td>  </td><td>  </td><td>  </td></tr>\n",
       "\t<tr><td>7</td><td>1</td><td>2 </td><td>18</td><td>19</td><td>13</td><td>3 </td><td>5 </td><td>8 </td><td>9 </td><td>14</td><td>17</td><td>  </td><td>  </td><td>  </td><td>  </td><td>  </td><td>  </td><td>  </td><td>  </td></tr>\n",
       "</tbody>\n",
       "</table>\n"
      ],
      "text/latex": [
       "A tibble: 54 × 20\n",
       "\\begin{tabular}{llllllllllllllllllll}\n",
       " LEC1 & RUS2 & NOR3 & RIC4 & GAS5 & ALO6 & VER7 & DEV8 & ZHO9 & LAT10 & VET11 & STR12 & PER13 & OCO14 & BOT15 & MAG16 & MSC17 & SAI18 & HAM19 & TSU20\\\\\n",
       " <chr> & <chr> & <chr> & <chr> & <chr> & <chr> & <chr> & <chr> & <chr> & <chr> & <chr> & <chr> & <chr> & <chr> & <chr> & <chr> & <chr> & <chr> & <chr> & <chr>\\\\\n",
       "\\hline\n",
       "\t 1 & 2 & 3  & 4  & 5  & 6  & 7  & 8  & 9  & 10 & 11 & 12 & 13 & 14 & 15 & 16 & 17 & 18 & 19 & 20\\\\\n",
       "\t 1 & 2 & 4  & 7  & 5  & 3  & 6  & 8  & 9  & 11 & 12 & 16 & 14 & 10 & 13 & 18 & 17 & 20 & 19 & 15\\\\\n",
       "\t 1 & 2 & 7  & 4  & 5  & 3  & 6  & 8  & 9  & 12 & 11 & 14 & 16 & 18 & 10 & 13 & 20 & 19 & 17 & 15\\\\\n",
       "\t 1 & 2 & 7  & 4  & 5  & 3  & 6  & 8  & 9  & 12 & 11 & 14 & 16 & 18 & 13 & 10 & 20 & 19 & 17 & 15\\\\\n",
       "\t 1 & 2 & 7  & 4  & 5  & 3  & 6  & 8  & 9  & 12 & 11 & 14 & 18 & 13 & 16 & 10 & 20 & 19 & 17 & 15\\\\\n",
       "\t 1 & 7 & 2  & 4  & 5  & 3  & 6  & 8  & 9  & 12 & 18 & 11 & 14 & 13 & 16 & 10 & 20 & 19 & 17 & 15\\\\\n",
       "\t 1 & 7 & 2  & 4  & 5  & 3  & 6  & 8  & 9  & 18 & 12 & 11 & 13 & 14 & 16 & 10 & 20 & 19 & 17 & 15\\\\\n",
       "\t 1 & 7 & 2  & 4  & 5  & 3  & 6  & 8  & 9  & 18 & 12 & 11 & 14 & 16 & 20 & 10 & 19 & 13 & 17 & 15\\\\\n",
       "\t 1 & 7 & 2  & 4  & 5  & 3  & 6  & 8  & 18 & 9  & 12 & 11 & 14 & 20 & 16 & 19 & 10 & 17 & 15 & 13\\\\\n",
       "\t 1 & 7 & 2  & 4  & 5  & 3  & 6  & 18 & 8  & 9  & 12 & 11 & 14 & 20 & 19 & 16 & 10 & 17 & 15 & 13\\\\\n",
       "\t 1 & 7 & 2  & 4  & 5  & 3  & 18 & 6  & 8  & 9  & 12 & 14 & 11 & 20 & 19 & 16 & 10 & 17 & 15 & 13\\\\\n",
       "\t 1 & 7 & 2  & 4  & 5  & 18 & 3  & 6  & 8  & 9  & 12 & 14 & 19 & 20 & 16 & 10 & 17 & 15 & 13 &   \\\\\n",
       "\t 7 & 1 & 2  & 4  & 18 & 5  & 3  & 6  & 8  & 9  & 12 & 14 & 19 & 20 & 16 & 10 & 17 & 15 & 13 &   \\\\\n",
       "\t 7 & 2 & 1  & 18 & 4  & 5  & 6  & 3  & 8  & 9  & 12 & 14 & 19 & 20 & 10 & 16 & 17 & 15 & 13 &   \\\\\n",
       "\t 7 & 2 & 1  & 18 & 4  & 5  & 6  & 3  & 8  & 9  & 12 & 14 & 19 & 20 & 10 & 16 & 17 & 15 & 13 &   \\\\\n",
       "\t 7 & 2 & 1  & 18 & 4  & 5  & 6  & 3  & 8  & 9  & 12 & 14 & 19 & 20 & 16 & 17 & 15 & 10 & 13 &   \\\\\n",
       "\t 7 & 2 & 1  & 18 & 4  & 5  & 6  & 3  & 8  & 9  & 12 & 19 & 14 & 20 & 17 & 16 & 15 & 13 & 10 &   \\\\\n",
       "\t 7 & 2 & 1  & 18 & 4  & 5  & 6  & 3  & 8  & 9  & 19 & 12 & 14 & 20 & 17 & 16 & 15 & 13 & 10 &   \\\\\n",
       "\t 7 & 2 & 1  & 18 & 4  & 3  & 6  & 8  & 5  & 19 & 9  & 14 & 20 & 12 & 17 & 15 & 16 & 13 & 10 &   \\\\\n",
       "\t 7 & 2 & 1  & 18 & 3  & 6  & 4  & 19 & 8  & 14 & 17 & 20 & 15 & 16 & 13 & 5  & 9  & 12 & 10 &   \\\\\n",
       "\t 7 & 2 & 1  & 18 & 3  & 6  & 19 & 17 & 15 & 13 & 16 & 4  & 5  & 8  & 9  & 14 & 12 & 20 & 10 &   \\\\\n",
       "\t 7 & 2 & 1  & 18 & 3  & 6  & 19 & 17 & 15 & 13 & 16 & 4  & 5  & 8  & 9  & 14 & 20 & 12 & 10 &   \\\\\n",
       "\t 7 & 2 & 1  & 18 & 3  & 6  & 19 & 17 & 13 & 15 & 16 & 4  & 5  & 8  & 9  & 14 & 20 & 12 & 10 &   \\\\\n",
       "\t 7 & 1 & 2  & 18 & 3  & 6  & 19 & 17 & 13 & 15 & 16 & 4  & 5  & 8  & 9  & 14 & 20 & 12 & 10 &   \\\\\n",
       "\t 7 & 1 & 18 & 2  & 3  & 6  & 19 & 13 & 17 & 15 & 4  & 5  & 8  & 16 & 9  & 14 & 20 & 10 & 12 &   \\\\\n",
       "\t 7 & 1 & 18 & 2  & 3  & 6  & 19 & 13 & 17 & 15 & 4  & 5  & 8  & 9  & 14 & 20 & 10 & 12 & 16 &   \\\\\n",
       "\t 1 & 7 & 18 & 2  & 3  & 6  & 19 & 13 & 17 & 15 & 4  & 5  & 8  & 9  & 14 & 20 & 10 & 12 & 16 &   \\\\\n",
       "\t 1 & 7 & 18 & 2  & 3  & 19 & 6  & 13 & 17 & 15 & 4  & 5  & 8  & 9  & 14 & 20 & 10 & 12 & 16 &   \\\\\n",
       "\t 1 & 7 & 18 & 2  & 3  & 19 & 6  & 13 & 17 & 15 & 4  & 5  & 8  & 9  & 14 & 20 & 10 & 12 & 16 &   \\\\\n",
       "\t 1 & 7 & 18 & 2  & 3  & 19 & 6  & 13 & 17 & 15 & 4  & 5  & 8  & 9  & 14 & 20 & 10 & 12 & 16 &   \\\\\n",
       "\t 1 & 7 & 2  & 18 & 3  & 19 & 6  & 13 & 17 & 15 & 4  & 5  & 8  & 9  & 14 & 20 & 10 & 12 & 16 &   \\\\\n",
       "\t 1 & 7 & 2  & 3  & 19 & 13 & 18 & 6  & 17 & 15 & 4  & 5  & 8  & 9  & 14 & 20 & 10 & 12 & 16 &   \\\\\n",
       "\t 1 & 7 & 2  & 3  & 19 & 13 & 18 & 17 & 15 & 4  & 5  & 8  & 9  & 14 & 20 & 10 & 12 & 16 &    &   \\\\\n",
       "\t 1 & 7 & 2  & 3  & 18 & 13 & 19 & 15 & 17 & 4  & 5  & 8  & 9  & 14 & 20 & 10 & 12 & 16 &    &   \\\\\n",
       "\t 7 & 1 & 2  & 3  & 18 & 13 & 15 & 4  & 5  & 8  & 9  & 19 & 14 & 20 & 10 & 12 & 17 & 16 &    &   \\\\\n",
       "\t 7 & 1 & 2  & 3  & 18 & 13 & 4  & 5  & 19 & 8  & 15 & 9  & 14 & 20 & 10 & 17 & 12 & 16 &    &   \\\\\n",
       "\t 7 & 1 & 2  & 18 & 13 & 4  & 19 & 5  & 3  & 8  & 9  & 14 & 20 & 10 & 17 & 12 & 15 & 16 &    &   \\\\\n",
       "\t 7 & 1 & 2  & 18 & 13 & 19 & 3  & 4  & 5  & 8  & 9  & 14 & 20 & 10 & 17 & 15 & 12 & 16 &    &   \\\\\n",
       "\t 7 & 1 & 2  & 18 & 13 & 19 & 3  & 4  & 5  & 8  & 9  & 14 & 20 & 10 & 17 & 15 & 12 & 16 &    &   \\\\\n",
       "\t 7 & 1 & 2  & 18 & 13 & 19 & 3  & 4  & 5  & 8  & 9  & 14 & 20 & 10 & 17 & 15 & 12 & 16 &    &   \\\\\n",
       "\t 7 & 1 & 2  & 18 & 13 & 19 & 3  & 4  & 5  & 8  & 9  & 14 & 20 & 10 & 17 & 15 & 16 &    &    &   \\\\\n",
       "\t 7 & 1 & 2  & 18 & 13 & 19 & 3  & 4  & 5  & 8  & 9  & 14 & 20 & 17 & 10 & 15 & 16 &    &    &   \\\\\n",
       "\t 7 & 1 & 2  & 18 & 13 & 19 & 3  & 4  & 5  & 8  & 9  & 14 & 20 & 17 & 15 & 10 & 16 &    &    &   \\\\\n",
       "\t 7 & 1 & 2  & 18 & 19 & 3  & 13 & 4  & 5  & 8  & 9  & 14 & 20 & 17 & 15 & 10 & 16 &    &    &   \\\\\n",
       "\t 7 & 1 & 2  & 18 & 19 & 3  & 13 & 4  & 5  & 8  & 9  & 14 & 20 & 17 & 15 & 10 & 16 &    &    &   \\\\\n",
       "\t 7 & 1 & 2  & 18 & 19 & 3  & 13 & 4  & 5  & 8  & 9  & 14 & 17 & 20 & 15 & 10 & 16 &    &    &   \\\\\n",
       "\t 7 & 1 & 2  & 18 & 19 & 3  & 13 & 5  & 8  & 9  & 14 & 17 & 20 & 15 & 10 & 16 &    &    &    &   \\\\\n",
       "\t 7 & 1 & 2  & 18 & 19 & 3  & 13 & 5  & 8  & 9  & 14 & 17 & 15 & 20 & 10 & 16 &    &    &    &   \\\\\n",
       "\t 7 & 1 & 2  & 18 & 19 & 13 & 3  & 5  & 8  & 9  & 14 & 17 & 15 & 20 & 10 & 16 &    &    &    &   \\\\\n",
       "\t 7 & 1 & 2  & 18 & 19 & 13 & 3  & 5  & 8  & 9  & 14 & 17 & 15 & 20 & 10 & 16 &    &    &    &   \\\\\n",
       "\t 7 & 1 & 2  & 18 & 19 & 13 & 3  & 5  & 8  & 9  & 14 & 17 & 15 & 20 & 10 & 16 &    &    &    &   \\\\\n",
       "\t 7 & 1 & 2  & 18 & 19 & 13 & 3  & 5  & 8  & 9  & 14 & 17 & 15 & 20 & 10 & 16 &    &    &    &   \\\\\n",
       "\t 7 & 1 & 2  & 18 & 19 & 13 & 3  & 5  & 8  & 9  & 14 & 17 & 15 & 20 & 10 & 16 &    &    &    &   \\\\\n",
       "\t 7 & 1 & 2  & 18 & 19 & 13 & 3  & 5  & 8  & 9  & 14 & 17 &    &    &    &    &    &    &    &   \\\\\n",
       "\\end{tabular}\n"
      ],
      "text/markdown": [
       "\n",
       "A tibble: 54 × 20\n",
       "\n",
       "| LEC1 &lt;chr&gt; | RUS2 &lt;chr&gt; | NOR3 &lt;chr&gt; | RIC4 &lt;chr&gt; | GAS5 &lt;chr&gt; | ALO6 &lt;chr&gt; | VER7 &lt;chr&gt; | DEV8 &lt;chr&gt; | ZHO9 &lt;chr&gt; | LAT10 &lt;chr&gt; | VET11 &lt;chr&gt; | STR12 &lt;chr&gt; | PER13 &lt;chr&gt; | OCO14 &lt;chr&gt; | BOT15 &lt;chr&gt; | MAG16 &lt;chr&gt; | MSC17 &lt;chr&gt; | SAI18 &lt;chr&gt; | HAM19 &lt;chr&gt; | TSU20 &lt;chr&gt; |\n",
       "|---|---|---|---|---|---|---|---|---|---|---|---|---|---|---|---|---|---|---|---|\n",
       "| 1 | 2 | 3  | 4  | 5  | 6  | 7  | 8  | 9  | 10 | 11 | 12 | 13 | 14 | 15 | 16 | 17 | 18 | 19 | 20 |\n",
       "| 1 | 2 | 4  | 7  | 5  | 3  | 6  | 8  | 9  | 11 | 12 | 16 | 14 | 10 | 13 | 18 | 17 | 20 | 19 | 15 |\n",
       "| 1 | 2 | 7  | 4  | 5  | 3  | 6  | 8  | 9  | 12 | 11 | 14 | 16 | 18 | 10 | 13 | 20 | 19 | 17 | 15 |\n",
       "| 1 | 2 | 7  | 4  | 5  | 3  | 6  | 8  | 9  | 12 | 11 | 14 | 16 | 18 | 13 | 10 | 20 | 19 | 17 | 15 |\n",
       "| 1 | 2 | 7  | 4  | 5  | 3  | 6  | 8  | 9  | 12 | 11 | 14 | 18 | 13 | 16 | 10 | 20 | 19 | 17 | 15 |\n",
       "| 1 | 7 | 2  | 4  | 5  | 3  | 6  | 8  | 9  | 12 | 18 | 11 | 14 | 13 | 16 | 10 | 20 | 19 | 17 | 15 |\n",
       "| 1 | 7 | 2  | 4  | 5  | 3  | 6  | 8  | 9  | 18 | 12 | 11 | 13 | 14 | 16 | 10 | 20 | 19 | 17 | 15 |\n",
       "| 1 | 7 | 2  | 4  | 5  | 3  | 6  | 8  | 9  | 18 | 12 | 11 | 14 | 16 | 20 | 10 | 19 | 13 | 17 | 15 |\n",
       "| 1 | 7 | 2  | 4  | 5  | 3  | 6  | 8  | 18 | 9  | 12 | 11 | 14 | 20 | 16 | 19 | 10 | 17 | 15 | 13 |\n",
       "| 1 | 7 | 2  | 4  | 5  | 3  | 6  | 18 | 8  | 9  | 12 | 11 | 14 | 20 | 19 | 16 | 10 | 17 | 15 | 13 |\n",
       "| 1 | 7 | 2  | 4  | 5  | 3  | 18 | 6  | 8  | 9  | 12 | 14 | 11 | 20 | 19 | 16 | 10 | 17 | 15 | 13 |\n",
       "| 1 | 7 | 2  | 4  | 5  | 18 | 3  | 6  | 8  | 9  | 12 | 14 | 19 | 20 | 16 | 10 | 17 | 15 | 13 | <!----> |\n",
       "| 7 | 1 | 2  | 4  | 18 | 5  | 3  | 6  | 8  | 9  | 12 | 14 | 19 | 20 | 16 | 10 | 17 | 15 | 13 | <!----> |\n",
       "| 7 | 2 | 1  | 18 | 4  | 5  | 6  | 3  | 8  | 9  | 12 | 14 | 19 | 20 | 10 | 16 | 17 | 15 | 13 | <!----> |\n",
       "| 7 | 2 | 1  | 18 | 4  | 5  | 6  | 3  | 8  | 9  | 12 | 14 | 19 | 20 | 10 | 16 | 17 | 15 | 13 | <!----> |\n",
       "| 7 | 2 | 1  | 18 | 4  | 5  | 6  | 3  | 8  | 9  | 12 | 14 | 19 | 20 | 16 | 17 | 15 | 10 | 13 | <!----> |\n",
       "| 7 | 2 | 1  | 18 | 4  | 5  | 6  | 3  | 8  | 9  | 12 | 19 | 14 | 20 | 17 | 16 | 15 | 13 | 10 | <!----> |\n",
       "| 7 | 2 | 1  | 18 | 4  | 5  | 6  | 3  | 8  | 9  | 19 | 12 | 14 | 20 | 17 | 16 | 15 | 13 | 10 | <!----> |\n",
       "| 7 | 2 | 1  | 18 | 4  | 3  | 6  | 8  | 5  | 19 | 9  | 14 | 20 | 12 | 17 | 15 | 16 | 13 | 10 | <!----> |\n",
       "| 7 | 2 | 1  | 18 | 3  | 6  | 4  | 19 | 8  | 14 | 17 | 20 | 15 | 16 | 13 | 5  | 9  | 12 | 10 | <!----> |\n",
       "| 7 | 2 | 1  | 18 | 3  | 6  | 19 | 17 | 15 | 13 | 16 | 4  | 5  | 8  | 9  | 14 | 12 | 20 | 10 | <!----> |\n",
       "| 7 | 2 | 1  | 18 | 3  | 6  | 19 | 17 | 15 | 13 | 16 | 4  | 5  | 8  | 9  | 14 | 20 | 12 | 10 | <!----> |\n",
       "| 7 | 2 | 1  | 18 | 3  | 6  | 19 | 17 | 13 | 15 | 16 | 4  | 5  | 8  | 9  | 14 | 20 | 12 | 10 | <!----> |\n",
       "| 7 | 1 | 2  | 18 | 3  | 6  | 19 | 17 | 13 | 15 | 16 | 4  | 5  | 8  | 9  | 14 | 20 | 12 | 10 | <!----> |\n",
       "| 7 | 1 | 18 | 2  | 3  | 6  | 19 | 13 | 17 | 15 | 4  | 5  | 8  | 16 | 9  | 14 | 20 | 10 | 12 | <!----> |\n",
       "| 7 | 1 | 18 | 2  | 3  | 6  | 19 | 13 | 17 | 15 | 4  | 5  | 8  | 9  | 14 | 20 | 10 | 12 | 16 | <!----> |\n",
       "| 1 | 7 | 18 | 2  | 3  | 6  | 19 | 13 | 17 | 15 | 4  | 5  | 8  | 9  | 14 | 20 | 10 | 12 | 16 | <!----> |\n",
       "| 1 | 7 | 18 | 2  | 3  | 19 | 6  | 13 | 17 | 15 | 4  | 5  | 8  | 9  | 14 | 20 | 10 | 12 | 16 | <!----> |\n",
       "| 1 | 7 | 18 | 2  | 3  | 19 | 6  | 13 | 17 | 15 | 4  | 5  | 8  | 9  | 14 | 20 | 10 | 12 | 16 | <!----> |\n",
       "| 1 | 7 | 18 | 2  | 3  | 19 | 6  | 13 | 17 | 15 | 4  | 5  | 8  | 9  | 14 | 20 | 10 | 12 | 16 | <!----> |\n",
       "| 1 | 7 | 2  | 18 | 3  | 19 | 6  | 13 | 17 | 15 | 4  | 5  | 8  | 9  | 14 | 20 | 10 | 12 | 16 | <!----> |\n",
       "| 1 | 7 | 2  | 3  | 19 | 13 | 18 | 6  | 17 | 15 | 4  | 5  | 8  | 9  | 14 | 20 | 10 | 12 | 16 | <!----> |\n",
       "| 1 | 7 | 2  | 3  | 19 | 13 | 18 | 17 | 15 | 4  | 5  | 8  | 9  | 14 | 20 | 10 | 12 | 16 | <!----> | <!----> |\n",
       "| 1 | 7 | 2  | 3  | 18 | 13 | 19 | 15 | 17 | 4  | 5  | 8  | 9  | 14 | 20 | 10 | 12 | 16 | <!----> | <!----> |\n",
       "| 7 | 1 | 2  | 3  | 18 | 13 | 15 | 4  | 5  | 8  | 9  | 19 | 14 | 20 | 10 | 12 | 17 | 16 | <!----> | <!----> |\n",
       "| 7 | 1 | 2  | 3  | 18 | 13 | 4  | 5  | 19 | 8  | 15 | 9  | 14 | 20 | 10 | 17 | 12 | 16 | <!----> | <!----> |\n",
       "| 7 | 1 | 2  | 18 | 13 | 4  | 19 | 5  | 3  | 8  | 9  | 14 | 20 | 10 | 17 | 12 | 15 | 16 | <!----> | <!----> |\n",
       "| 7 | 1 | 2  | 18 | 13 | 19 | 3  | 4  | 5  | 8  | 9  | 14 | 20 | 10 | 17 | 15 | 12 | 16 | <!----> | <!----> |\n",
       "| 7 | 1 | 2  | 18 | 13 | 19 | 3  | 4  | 5  | 8  | 9  | 14 | 20 | 10 | 17 | 15 | 12 | 16 | <!----> | <!----> |\n",
       "| 7 | 1 | 2  | 18 | 13 | 19 | 3  | 4  | 5  | 8  | 9  | 14 | 20 | 10 | 17 | 15 | 12 | 16 | <!----> | <!----> |\n",
       "| 7 | 1 | 2  | 18 | 13 | 19 | 3  | 4  | 5  | 8  | 9  | 14 | 20 | 10 | 17 | 15 | 16 | <!----> | <!----> | <!----> |\n",
       "| 7 | 1 | 2  | 18 | 13 | 19 | 3  | 4  | 5  | 8  | 9  | 14 | 20 | 17 | 10 | 15 | 16 | <!----> | <!----> | <!----> |\n",
       "| 7 | 1 | 2  | 18 | 13 | 19 | 3  | 4  | 5  | 8  | 9  | 14 | 20 | 17 | 15 | 10 | 16 | <!----> | <!----> | <!----> |\n",
       "| 7 | 1 | 2  | 18 | 19 | 3  | 13 | 4  | 5  | 8  | 9  | 14 | 20 | 17 | 15 | 10 | 16 | <!----> | <!----> | <!----> |\n",
       "| 7 | 1 | 2  | 18 | 19 | 3  | 13 | 4  | 5  | 8  | 9  | 14 | 20 | 17 | 15 | 10 | 16 | <!----> | <!----> | <!----> |\n",
       "| 7 | 1 | 2  | 18 | 19 | 3  | 13 | 4  | 5  | 8  | 9  | 14 | 17 | 20 | 15 | 10 | 16 | <!----> | <!----> | <!----> |\n",
       "| 7 | 1 | 2  | 18 | 19 | 3  | 13 | 5  | 8  | 9  | 14 | 17 | 20 | 15 | 10 | 16 | <!----> | <!----> | <!----> | <!----> |\n",
       "| 7 | 1 | 2  | 18 | 19 | 3  | 13 | 5  | 8  | 9  | 14 | 17 | 15 | 20 | 10 | 16 | <!----> | <!----> | <!----> | <!----> |\n",
       "| 7 | 1 | 2  | 18 | 19 | 13 | 3  | 5  | 8  | 9  | 14 | 17 | 15 | 20 | 10 | 16 | <!----> | <!----> | <!----> | <!----> |\n",
       "| 7 | 1 | 2  | 18 | 19 | 13 | 3  | 5  | 8  | 9  | 14 | 17 | 15 | 20 | 10 | 16 | <!----> | <!----> | <!----> | <!----> |\n",
       "| 7 | 1 | 2  | 18 | 19 | 13 | 3  | 5  | 8  | 9  | 14 | 17 | 15 | 20 | 10 | 16 | <!----> | <!----> | <!----> | <!----> |\n",
       "| 7 | 1 | 2  | 18 | 19 | 13 | 3  | 5  | 8  | 9  | 14 | 17 | 15 | 20 | 10 | 16 | <!----> | <!----> | <!----> | <!----> |\n",
       "| 7 | 1 | 2  | 18 | 19 | 13 | 3  | 5  | 8  | 9  | 14 | 17 | 15 | 20 | 10 | 16 | <!----> | <!----> | <!----> | <!----> |\n",
       "| 7 | 1 | 2  | 18 | 19 | 13 | 3  | 5  | 8  | 9  | 14 | 17 | <!----> | <!----> | <!----> | <!----> | <!----> | <!----> | <!----> | <!----> |\n",
       "\n"
      ],
      "text/plain": [
       "   LEC1 RUS2 NOR3 RIC4 GAS5 ALO6 VER7 DEV8 ZHO9 LAT10 VET11 STR12 PER13 OCO14\n",
       "1  1    2    3    4    5    6    7    8    9    10    11    12    13    14   \n",
       "2  1    2    4    7    5    3    6    8    9    11    12    16    14    10   \n",
       "3  1    2    7    4    5    3    6    8    9    12    11    14    16    18   \n",
       "4  1    2    7    4    5    3    6    8    9    12    11    14    16    18   \n",
       "5  1    2    7    4    5    3    6    8    9    12    11    14    18    13   \n",
       "6  1    7    2    4    5    3    6    8    9    12    18    11    14    13   \n",
       "7  1    7    2    4    5    3    6    8    9    18    12    11    13    14   \n",
       "8  1    7    2    4    5    3    6    8    9    18    12    11    14    16   \n",
       "9  1    7    2    4    5    3    6    8    18   9     12    11    14    20   \n",
       "10 1    7    2    4    5    3    6    18   8    9     12    11    14    20   \n",
       "11 1    7    2    4    5    3    18   6    8    9     12    14    11    20   \n",
       "12 1    7    2    4    5    18   3    6    8    9     12    14    19    20   \n",
       "13 7    1    2    4    18   5    3    6    8    9     12    14    19    20   \n",
       "14 7    2    1    18   4    5    6    3    8    9     12    14    19    20   \n",
       "15 7    2    1    18   4    5    6    3    8    9     12    14    19    20   \n",
       "16 7    2    1    18   4    5    6    3    8    9     12    14    19    20   \n",
       "17 7    2    1    18   4    5    6    3    8    9     12    19    14    20   \n",
       "18 7    2    1    18   4    5    6    3    8    9     19    12    14    20   \n",
       "19 7    2    1    18   4    3    6    8    5    19    9     14    20    12   \n",
       "20 7    2    1    18   3    6    4    19   8    14    17    20    15    16   \n",
       "21 7    2    1    18   3    6    19   17   15   13    16    4     5     8    \n",
       "22 7    2    1    18   3    6    19   17   15   13    16    4     5     8    \n",
       "23 7    2    1    18   3    6    19   17   13   15    16    4     5     8    \n",
       "24 7    1    2    18   3    6    19   17   13   15    16    4     5     8    \n",
       "25 7    1    18   2    3    6    19   13   17   15    4     5     8     16   \n",
       "26 7    1    18   2    3    6    19   13   17   15    4     5     8     9    \n",
       "27 1    7    18   2    3    6    19   13   17   15    4     5     8     9    \n",
       "28 1    7    18   2    3    19   6    13   17   15    4     5     8     9    \n",
       "29 1    7    18   2    3    19   6    13   17   15    4     5     8     9    \n",
       "30 1    7    18   2    3    19   6    13   17   15    4     5     8     9    \n",
       "31 1    7    2    18   3    19   6    13   17   15    4     5     8     9    \n",
       "32 1    7    2    3    19   13   18   6    17   15    4     5     8     9    \n",
       "33 1    7    2    3    19   13   18   17   15   4     5     8     9     14   \n",
       "34 1    7    2    3    18   13   19   15   17   4     5     8     9     14   \n",
       "35 7    1    2    3    18   13   15   4    5    8     9     19    14    20   \n",
       "36 7    1    2    3    18   13   4    5    19   8     15    9     14    20   \n",
       "37 7    1    2    18   13   4    19   5    3    8     9     14    20    10   \n",
       "38 7    1    2    18   13   19   3    4    5    8     9     14    20    10   \n",
       "39 7    1    2    18   13   19   3    4    5    8     9     14    20    10   \n",
       "40 7    1    2    18   13   19   3    4    5    8     9     14    20    10   \n",
       "41 7    1    2    18   13   19   3    4    5    8     9     14    20    10   \n",
       "42 7    1    2    18   13   19   3    4    5    8     9     14    20    17   \n",
       "43 7    1    2    18   13   19   3    4    5    8     9     14    20    17   \n",
       "44 7    1    2    18   19   3    13   4    5    8     9     14    20    17   \n",
       "45 7    1    2    18   19   3    13   4    5    8     9     14    20    17   \n",
       "46 7    1    2    18   19   3    13   4    5    8     9     14    17    20   \n",
       "47 7    1    2    18   19   3    13   5    8    9     14    17    20    15   \n",
       "48 7    1    2    18   19   3    13   5    8    9     14    17    15    20   \n",
       "49 7    1    2    18   19   13   3    5    8    9     14    17    15    20   \n",
       "50 7    1    2    18   19   13   3    5    8    9     14    17    15    20   \n",
       "51 7    1    2    18   19   13   3    5    8    9     14    17    15    20   \n",
       "52 7    1    2    18   19   13   3    5    8    9     14    17    15    20   \n",
       "53 7    1    2    18   19   13   3    5    8    9     14    17    15    20   \n",
       "54 7    1    2    18   19   13   3    5    8    9     14    17               \n",
       "   BOT15 MAG16 MSC17 SAI18 HAM19 TSU20\n",
       "1  15    16    17    18    19    20   \n",
       "2  13    18    17    20    19    15   \n",
       "3  10    13    20    19    17    15   \n",
       "4  13    10    20    19    17    15   \n",
       "5  16    10    20    19    17    15   \n",
       "6  16    10    20    19    17    15   \n",
       "7  16    10    20    19    17    15   \n",
       "8  20    10    19    13    17    15   \n",
       "9  16    19    10    17    15    13   \n",
       "10 19    16    10    17    15    13   \n",
       "11 19    16    10    17    15    13   \n",
       "12 16    10    17    15    13         \n",
       "13 16    10    17    15    13         \n",
       "14 10    16    17    15    13         \n",
       "15 10    16    17    15    13         \n",
       "16 16    17    15    10    13         \n",
       "17 17    16    15    13    10         \n",
       "18 17    16    15    13    10         \n",
       "19 17    15    16    13    10         \n",
       "20 13    5     9     12    10         \n",
       "21 9     14    12    20    10         \n",
       "22 9     14    20    12    10         \n",
       "23 9     14    20    12    10         \n",
       "24 9     14    20    12    10         \n",
       "25 9     14    20    10    12         \n",
       "26 14    20    10    12    16         \n",
       "27 14    20    10    12    16         \n",
       "28 14    20    10    12    16         \n",
       "29 14    20    10    12    16         \n",
       "30 14    20    10    12    16         \n",
       "31 14    20    10    12    16         \n",
       "32 14    20    10    12    16         \n",
       "33 20    10    12    16               \n",
       "34 20    10    12    16               \n",
       "35 10    12    17    16               \n",
       "36 10    17    12    16               \n",
       "37 17    12    15    16               \n",
       "38 17    15    12    16               \n",
       "39 17    15    12    16               \n",
       "40 17    15    12    16               \n",
       "41 17    15    16                     \n",
       "42 10    15    16                     \n",
       "43 15    10    16                     \n",
       "44 15    10    16                     \n",
       "45 15    10    16                     \n",
       "46 15    10    16                     \n",
       "47 10    16                           \n",
       "48 10    16                           \n",
       "49 10    16                           \n",
       "50 10    16                           \n",
       "51 10    16                           \n",
       "52 10    16                           \n",
       "53 10    16                           \n",
       "54                                    "
      ]
     },
     "metadata": {},
     "output_type": "display_data"
    }
   ],
   "source": [
    "table_without_laps"
   ]
  },
  {
   "cell_type": "code",
   "execution_count": 433,
   "id": "e6bbb01b",
   "metadata": {
    "vscode": {
     "languageId": "r"
    }
   },
   "outputs": [
    {
     "data": {
      "text/html": [
       "53"
      ],
      "text/latex": [
       "53"
      ],
      "text/markdown": [
       "53"
      ],
      "text/plain": [
       "[1] 53"
      ]
     },
     "metadata": {},
     "output_type": "display_data"
    }
   ],
   "source": [
    "laps"
   ]
  },
  {
   "cell_type": "code",
   "execution_count": 439,
   "id": "0e754c0d",
   "metadata": {
    "vscode": {
     "languageId": "r"
    }
   },
   "outputs": [
    {
     "name": "stdout",
     "output_type": "stream",
     "text": [
      "[1] 9\n",
      "[1] 2\n",
      "[1] 7\n"
     ]
    },
    {
     "ename": "ERROR",
     "evalue": "Error in if (a > 0) {: argument is of length zero\n",
     "output_type": "error",
     "traceback": [
      "Error in if (a > 0) {: argument is of length zero\nTraceback:\n"
     ]
    }
   ],
   "source": [
    "for (j in 1:20){\n",
    "    for (i in 1:52){\n",
    "        a <- which(table_without_laps[i, ] == j) - which(table_without_laps[i+1, ] == j)\n",
    "        if (a > 0){\n",
    "            overlap <- overlap + a\n",
    "        }\n",
    "    \n",
    "    }\n",
    "    print(overlap)\n",
    "    overlap <- 0\n",
    "}"
   ]
  },
  {
   "cell_type": "code",
   "execution_count": 438,
   "id": "442a3eae",
   "metadata": {
    "vscode": {
     "languageId": "r"
    }
   },
   "outputs": [
    {
     "data": {
      "text/html": [
       "13"
      ],
      "text/latex": [
       "13"
      ],
      "text/markdown": [
       "13"
      ],
      "text/plain": [
       "[1] 13"
      ]
     },
     "metadata": {},
     "output_type": "display_data"
    }
   ],
   "source": [
    "sum(scores_df_header_1[53,] != \"\")"
   ]
  },
  {
   "cell_type": "code",
   "execution_count": 545,
   "id": "ccc20dbe",
   "metadata": {
    "vscode": {
     "languageId": "r"
    }
   },
   "outputs": [
    {
     "data": {
      "text/html": [
       "<table class=\"dataframe\">\n",
       "<caption>A tibble: 53 × 20</caption>\n",
       "<thead>\n",
       "\t<tr><th scope=col>LEC1</th><th scope=col>RUS2</th><th scope=col>NOR3</th><th scope=col>RIC4</th><th scope=col>GAS5</th><th scope=col>ALO6</th><th scope=col>VER7</th><th scope=col>DEV8</th><th scope=col>ZHO9</th><th scope=col>LAT10</th><th scope=col>VET11</th><th scope=col>STR12</th><th scope=col>PER13</th><th scope=col>OCO14</th><th scope=col>BOT15</th><th scope=col>MAG16</th><th scope=col>MSC17</th><th scope=col>SAI18</th><th scope=col>HAM19</th><th scope=col>TSU20</th></tr>\n",
       "\t<tr><th scope=col>&lt;chr&gt;</th><th scope=col>&lt;chr&gt;</th><th scope=col>&lt;chr&gt;</th><th scope=col>&lt;chr&gt;</th><th scope=col>&lt;chr&gt;</th><th scope=col>&lt;chr&gt;</th><th scope=col>&lt;chr&gt;</th><th scope=col>&lt;chr&gt;</th><th scope=col>&lt;chr&gt;</th><th scope=col>&lt;chr&gt;</th><th scope=col>&lt;chr&gt;</th><th scope=col>&lt;chr&gt;</th><th scope=col>&lt;chr&gt;</th><th scope=col>&lt;chr&gt;</th><th scope=col>&lt;chr&gt;</th><th scope=col>&lt;chr&gt;</th><th scope=col>&lt;chr&gt;</th><th scope=col>&lt;chr&gt;</th><th scope=col>&lt;chr&gt;</th><th scope=col>&lt;chr&gt;</th></tr>\n",
       "</thead>\n",
       "<tbody>\n",
       "\t<tr><td>1</td><td>2</td><td>4 </td><td>7 </td><td>5 </td><td>3 </td><td>6 </td><td>8 </td><td>9 </td><td>11</td><td>12</td><td>16</td><td>14</td><td>10</td><td>13</td><td>18</td><td>17</td><td>20</td><td>19</td><td>15</td></tr>\n",
       "\t<tr><td>1</td><td>2</td><td>7 </td><td>4 </td><td>5 </td><td>3 </td><td>6 </td><td>8 </td><td>9 </td><td>12</td><td>11</td><td>14</td><td>16</td><td>18</td><td>10</td><td>13</td><td>20</td><td>19</td><td>17</td><td>15</td></tr>\n",
       "\t<tr><td>1</td><td>2</td><td>7 </td><td>4 </td><td>5 </td><td>3 </td><td>6 </td><td>8 </td><td>9 </td><td>12</td><td>11</td><td>14</td><td>16</td><td>18</td><td>13</td><td>10</td><td>20</td><td>19</td><td>17</td><td>15</td></tr>\n",
       "\t<tr><td>1</td><td>2</td><td>7 </td><td>4 </td><td>5 </td><td>3 </td><td>6 </td><td>8 </td><td>9 </td><td>12</td><td>11</td><td>14</td><td>18</td><td>13</td><td>16</td><td>10</td><td>20</td><td>19</td><td>17</td><td>15</td></tr>\n",
       "\t<tr><td>1</td><td>7</td><td>2 </td><td>4 </td><td>5 </td><td>3 </td><td>6 </td><td>8 </td><td>9 </td><td>12</td><td>18</td><td>11</td><td>14</td><td>13</td><td>16</td><td>10</td><td>20</td><td>19</td><td>17</td><td>15</td></tr>\n",
       "\t<tr><td>1</td><td>7</td><td>2 </td><td>4 </td><td>5 </td><td>3 </td><td>6 </td><td>8 </td><td>9 </td><td>18</td><td>12</td><td>11</td><td>13</td><td>14</td><td>16</td><td>10</td><td>20</td><td>19</td><td>17</td><td>15</td></tr>\n",
       "\t<tr><td>1</td><td>7</td><td>2 </td><td>4 </td><td>5 </td><td>3 </td><td>6 </td><td>8 </td><td>9 </td><td>18</td><td>12</td><td>11</td><td>14</td><td>16</td><td>20</td><td>10</td><td>19</td><td>13</td><td>17</td><td>15</td></tr>\n",
       "\t<tr><td>1</td><td>7</td><td>2 </td><td>4 </td><td>5 </td><td>3 </td><td>6 </td><td>8 </td><td>18</td><td>9 </td><td>12</td><td>11</td><td>14</td><td>20</td><td>16</td><td>19</td><td>10</td><td>17</td><td>15</td><td>13</td></tr>\n",
       "\t<tr><td>1</td><td>7</td><td>2 </td><td>4 </td><td>5 </td><td>3 </td><td>6 </td><td>18</td><td>8 </td><td>9 </td><td>12</td><td>11</td><td>14</td><td>20</td><td>19</td><td>16</td><td>10</td><td>17</td><td>15</td><td>13</td></tr>\n",
       "\t<tr><td>1</td><td>7</td><td>2 </td><td>4 </td><td>5 </td><td>3 </td><td>18</td><td>6 </td><td>8 </td><td>9 </td><td>12</td><td>14</td><td>11</td><td>20</td><td>19</td><td>16</td><td>10</td><td>17</td><td>15</td><td>13</td></tr>\n",
       "\t<tr><td>1</td><td>7</td><td>2 </td><td>4 </td><td>5 </td><td>18</td><td>3 </td><td>6 </td><td>8 </td><td>9 </td><td>12</td><td>14</td><td>19</td><td>20</td><td>16</td><td>10</td><td>17</td><td>15</td><td>13</td><td>  </td></tr>\n",
       "\t<tr><td>7</td><td>1</td><td>2 </td><td>4 </td><td>18</td><td>5 </td><td>3 </td><td>6 </td><td>8 </td><td>9 </td><td>12</td><td>14</td><td>19</td><td>20</td><td>16</td><td>10</td><td>17</td><td>15</td><td>13</td><td>  </td></tr>\n",
       "\t<tr><td>7</td><td>2</td><td>1 </td><td>18</td><td>4 </td><td>5 </td><td>6 </td><td>3 </td><td>8 </td><td>9 </td><td>12</td><td>14</td><td>19</td><td>20</td><td>10</td><td>16</td><td>17</td><td>15</td><td>13</td><td>  </td></tr>\n",
       "\t<tr><td>7</td><td>2</td><td>1 </td><td>18</td><td>4 </td><td>5 </td><td>6 </td><td>3 </td><td>8 </td><td>9 </td><td>12</td><td>14</td><td>19</td><td>20</td><td>10</td><td>16</td><td>17</td><td>15</td><td>13</td><td>  </td></tr>\n",
       "\t<tr><td>7</td><td>2</td><td>1 </td><td>18</td><td>4 </td><td>5 </td><td>6 </td><td>3 </td><td>8 </td><td>9 </td><td>12</td><td>14</td><td>19</td><td>20</td><td>16</td><td>17</td><td>15</td><td>10</td><td>13</td><td>  </td></tr>\n",
       "\t<tr><td>7</td><td>2</td><td>1 </td><td>18</td><td>4 </td><td>5 </td><td>6 </td><td>3 </td><td>8 </td><td>9 </td><td>12</td><td>19</td><td>14</td><td>20</td><td>17</td><td>16</td><td>15</td><td>13</td><td>10</td><td>  </td></tr>\n",
       "\t<tr><td>7</td><td>2</td><td>1 </td><td>18</td><td>4 </td><td>5 </td><td>6 </td><td>3 </td><td>8 </td><td>9 </td><td>19</td><td>12</td><td>14</td><td>20</td><td>17</td><td>16</td><td>15</td><td>13</td><td>10</td><td>  </td></tr>\n",
       "\t<tr><td>7</td><td>2</td><td>1 </td><td>18</td><td>4 </td><td>3 </td><td>6 </td><td>8 </td><td>5 </td><td>19</td><td>9 </td><td>14</td><td>20</td><td>12</td><td>17</td><td>15</td><td>16</td><td>13</td><td>10</td><td>  </td></tr>\n",
       "\t<tr><td>7</td><td>2</td><td>1 </td><td>18</td><td>3 </td><td>6 </td><td>4 </td><td>19</td><td>8 </td><td>14</td><td>17</td><td>20</td><td>15</td><td>16</td><td>13</td><td>5 </td><td>9 </td><td>12</td><td>10</td><td>  </td></tr>\n",
       "\t<tr><td>7</td><td>2</td><td>1 </td><td>18</td><td>3 </td><td>6 </td><td>19</td><td>17</td><td>15</td><td>13</td><td>16</td><td>4 </td><td>5 </td><td>8 </td><td>9 </td><td>14</td><td>12</td><td>20</td><td>10</td><td>  </td></tr>\n",
       "\t<tr><td>7</td><td>2</td><td>1 </td><td>18</td><td>3 </td><td>6 </td><td>19</td><td>17</td><td>15</td><td>13</td><td>16</td><td>4 </td><td>5 </td><td>8 </td><td>9 </td><td>14</td><td>20</td><td>12</td><td>10</td><td>  </td></tr>\n",
       "\t<tr><td>7</td><td>2</td><td>1 </td><td>18</td><td>3 </td><td>6 </td><td>19</td><td>17</td><td>13</td><td>15</td><td>16</td><td>4 </td><td>5 </td><td>8 </td><td>9 </td><td>14</td><td>20</td><td>12</td><td>10</td><td>  </td></tr>\n",
       "\t<tr><td>7</td><td>1</td><td>2 </td><td>18</td><td>3 </td><td>6 </td><td>19</td><td>17</td><td>13</td><td>15</td><td>16</td><td>4 </td><td>5 </td><td>8 </td><td>9 </td><td>14</td><td>20</td><td>12</td><td>10</td><td>  </td></tr>\n",
       "\t<tr><td>7</td><td>1</td><td>18</td><td>2 </td><td>3 </td><td>6 </td><td>19</td><td>13</td><td>17</td><td>15</td><td>4 </td><td>5 </td><td>8 </td><td>16</td><td>9 </td><td>14</td><td>20</td><td>10</td><td>12</td><td>  </td></tr>\n",
       "\t<tr><td>7</td><td>1</td><td>18</td><td>2 </td><td>3 </td><td>6 </td><td>19</td><td>13</td><td>17</td><td>15</td><td>4 </td><td>5 </td><td>8 </td><td>9 </td><td>14</td><td>20</td><td>10</td><td>12</td><td>16</td><td>  </td></tr>\n",
       "\t<tr><td>1</td><td>7</td><td>18</td><td>2 </td><td>3 </td><td>6 </td><td>19</td><td>13</td><td>17</td><td>15</td><td>4 </td><td>5 </td><td>8 </td><td>9 </td><td>14</td><td>20</td><td>10</td><td>12</td><td>16</td><td>  </td></tr>\n",
       "\t<tr><td>1</td><td>7</td><td>18</td><td>2 </td><td>3 </td><td>19</td><td>6 </td><td>13</td><td>17</td><td>15</td><td>4 </td><td>5 </td><td>8 </td><td>9 </td><td>14</td><td>20</td><td>10</td><td>12</td><td>16</td><td>  </td></tr>\n",
       "\t<tr><td>1</td><td>7</td><td>18</td><td>2 </td><td>3 </td><td>19</td><td>6 </td><td>13</td><td>17</td><td>15</td><td>4 </td><td>5 </td><td>8 </td><td>9 </td><td>14</td><td>20</td><td>10</td><td>12</td><td>16</td><td>  </td></tr>\n",
       "\t<tr><td>1</td><td>7</td><td>18</td><td>2 </td><td>3 </td><td>19</td><td>6 </td><td>13</td><td>17</td><td>15</td><td>4 </td><td>5 </td><td>8 </td><td>9 </td><td>14</td><td>20</td><td>10</td><td>12</td><td>16</td><td>  </td></tr>\n",
       "\t<tr><td>1</td><td>7</td><td>2 </td><td>18</td><td>3 </td><td>19</td><td>6 </td><td>13</td><td>17</td><td>15</td><td>4 </td><td>5 </td><td>8 </td><td>9 </td><td>14</td><td>20</td><td>10</td><td>12</td><td>16</td><td>  </td></tr>\n",
       "\t<tr><td>1</td><td>7</td><td>2 </td><td>3 </td><td>19</td><td>13</td><td>18</td><td>6 </td><td>17</td><td>15</td><td>4 </td><td>5 </td><td>8 </td><td>9 </td><td>14</td><td>20</td><td>10</td><td>12</td><td>16</td><td>  </td></tr>\n",
       "\t<tr><td>1</td><td>7</td><td>2 </td><td>3 </td><td>19</td><td>13</td><td>18</td><td>17</td><td>15</td><td>4 </td><td>5 </td><td>8 </td><td>9 </td><td>14</td><td>20</td><td>10</td><td>12</td><td>16</td><td>  </td><td>  </td></tr>\n",
       "\t<tr><td>1</td><td>7</td><td>2 </td><td>3 </td><td>18</td><td>13</td><td>19</td><td>15</td><td>17</td><td>4 </td><td>5 </td><td>8 </td><td>9 </td><td>14</td><td>20</td><td>10</td><td>12</td><td>16</td><td>  </td><td>  </td></tr>\n",
       "\t<tr><td>7</td><td>1</td><td>2 </td><td>3 </td><td>18</td><td>13</td><td>15</td><td>4 </td><td>5 </td><td>8 </td><td>9 </td><td>19</td><td>14</td><td>20</td><td>10</td><td>12</td><td>17</td><td>16</td><td>  </td><td>  </td></tr>\n",
       "\t<tr><td>7</td><td>1</td><td>2 </td><td>3 </td><td>18</td><td>13</td><td>4 </td><td>5 </td><td>19</td><td>8 </td><td>15</td><td>9 </td><td>14</td><td>20</td><td>10</td><td>17</td><td>12</td><td>16</td><td>  </td><td>  </td></tr>\n",
       "\t<tr><td>7</td><td>1</td><td>2 </td><td>18</td><td>13</td><td>4 </td><td>19</td><td>5 </td><td>3 </td><td>8 </td><td>9 </td><td>14</td><td>20</td><td>10</td><td>17</td><td>12</td><td>15</td><td>16</td><td>  </td><td>  </td></tr>\n",
       "\t<tr><td>7</td><td>1</td><td>2 </td><td>18</td><td>13</td><td>19</td><td>3 </td><td>4 </td><td>5 </td><td>8 </td><td>9 </td><td>14</td><td>20</td><td>10</td><td>17</td><td>15</td><td>12</td><td>16</td><td>  </td><td>  </td></tr>\n",
       "\t<tr><td>7</td><td>1</td><td>2 </td><td>18</td><td>13</td><td>19</td><td>3 </td><td>4 </td><td>5 </td><td>8 </td><td>9 </td><td>14</td><td>20</td><td>10</td><td>17</td><td>15</td><td>12</td><td>16</td><td>  </td><td>  </td></tr>\n",
       "\t<tr><td>7</td><td>1</td><td>2 </td><td>18</td><td>13</td><td>19</td><td>3 </td><td>4 </td><td>5 </td><td>8 </td><td>9 </td><td>14</td><td>20</td><td>10</td><td>17</td><td>15</td><td>12</td><td>16</td><td>  </td><td>  </td></tr>\n",
       "\t<tr><td>7</td><td>1</td><td>2 </td><td>18</td><td>13</td><td>19</td><td>3 </td><td>4 </td><td>5 </td><td>8 </td><td>9 </td><td>14</td><td>20</td><td>10</td><td>17</td><td>15</td><td>16</td><td>  </td><td>  </td><td>  </td></tr>\n",
       "\t<tr><td>7</td><td>1</td><td>2 </td><td>18</td><td>13</td><td>19</td><td>3 </td><td>4 </td><td>5 </td><td>8 </td><td>9 </td><td>14</td><td>20</td><td>17</td><td>10</td><td>15</td><td>16</td><td>  </td><td>  </td><td>  </td></tr>\n",
       "\t<tr><td>7</td><td>1</td><td>2 </td><td>18</td><td>13</td><td>19</td><td>3 </td><td>4 </td><td>5 </td><td>8 </td><td>9 </td><td>14</td><td>20</td><td>17</td><td>15</td><td>10</td><td>16</td><td>  </td><td>  </td><td>  </td></tr>\n",
       "\t<tr><td>7</td><td>1</td><td>2 </td><td>18</td><td>19</td><td>3 </td><td>13</td><td>4 </td><td>5 </td><td>8 </td><td>9 </td><td>14</td><td>20</td><td>17</td><td>15</td><td>10</td><td>16</td><td>  </td><td>  </td><td>  </td></tr>\n",
       "\t<tr><td>7</td><td>1</td><td>2 </td><td>18</td><td>19</td><td>3 </td><td>13</td><td>4 </td><td>5 </td><td>8 </td><td>9 </td><td>14</td><td>20</td><td>17</td><td>15</td><td>10</td><td>16</td><td>  </td><td>  </td><td>  </td></tr>\n",
       "\t<tr><td>7</td><td>1</td><td>2 </td><td>18</td><td>19</td><td>3 </td><td>13</td><td>4 </td><td>5 </td><td>8 </td><td>9 </td><td>14</td><td>17</td><td>20</td><td>15</td><td>10</td><td>16</td><td>  </td><td>  </td><td>  </td></tr>\n",
       "\t<tr><td>7</td><td>1</td><td>2 </td><td>18</td><td>19</td><td>3 </td><td>13</td><td>5 </td><td>8 </td><td>9 </td><td>14</td><td>17</td><td>20</td><td>15</td><td>10</td><td>16</td><td>  </td><td>  </td><td>  </td><td>  </td></tr>\n",
       "\t<tr><td>7</td><td>1</td><td>2 </td><td>18</td><td>19</td><td>3 </td><td>13</td><td>5 </td><td>8 </td><td>9 </td><td>14</td><td>17</td><td>15</td><td>20</td><td>10</td><td>16</td><td>  </td><td>  </td><td>  </td><td>  </td></tr>\n",
       "\t<tr><td>7</td><td>1</td><td>2 </td><td>18</td><td>19</td><td>13</td><td>3 </td><td>5 </td><td>8 </td><td>9 </td><td>14</td><td>17</td><td>15</td><td>20</td><td>10</td><td>16</td><td>  </td><td>  </td><td>  </td><td>  </td></tr>\n",
       "\t<tr><td>7</td><td>1</td><td>2 </td><td>18</td><td>19</td><td>13</td><td>3 </td><td>5 </td><td>8 </td><td>9 </td><td>14</td><td>17</td><td>15</td><td>20</td><td>10</td><td>16</td><td>  </td><td>  </td><td>  </td><td>  </td></tr>\n",
       "\t<tr><td>7</td><td>1</td><td>2 </td><td>18</td><td>19</td><td>13</td><td>3 </td><td>5 </td><td>8 </td><td>9 </td><td>14</td><td>17</td><td>15</td><td>20</td><td>10</td><td>16</td><td>  </td><td>  </td><td>  </td><td>  </td></tr>\n",
       "\t<tr><td>7</td><td>1</td><td>2 </td><td>18</td><td>19</td><td>13</td><td>3 </td><td>5 </td><td>8 </td><td>9 </td><td>14</td><td>17</td><td>15</td><td>20</td><td>10</td><td>16</td><td>  </td><td>  </td><td>  </td><td>  </td></tr>\n",
       "\t<tr><td>7</td><td>1</td><td>2 </td><td>18</td><td>19</td><td>13</td><td>3 </td><td>5 </td><td>8 </td><td>9 </td><td>14</td><td>17</td><td>15</td><td>20</td><td>10</td><td>16</td><td>  </td><td>  </td><td>  </td><td>  </td></tr>\n",
       "\t<tr><td>7</td><td>1</td><td>2 </td><td>18</td><td>19</td><td>13</td><td>3 </td><td>5 </td><td>8 </td><td>9 </td><td>14</td><td>17</td><td>  </td><td>  </td><td>  </td><td>  </td><td>  </td><td>  </td><td>  </td><td>  </td></tr>\n",
       "</tbody>\n",
       "</table>\n"
      ],
      "text/latex": [
       "A tibble: 53 × 20\n",
       "\\begin{tabular}{llllllllllllllllllll}\n",
       " LEC1 & RUS2 & NOR3 & RIC4 & GAS5 & ALO6 & VER7 & DEV8 & ZHO9 & LAT10 & VET11 & STR12 & PER13 & OCO14 & BOT15 & MAG16 & MSC17 & SAI18 & HAM19 & TSU20\\\\\n",
       " <chr> & <chr> & <chr> & <chr> & <chr> & <chr> & <chr> & <chr> & <chr> & <chr> & <chr> & <chr> & <chr> & <chr> & <chr> & <chr> & <chr> & <chr> & <chr> & <chr>\\\\\n",
       "\\hline\n",
       "\t 1 & 2 & 4  & 7  & 5  & 3  & 6  & 8  & 9  & 11 & 12 & 16 & 14 & 10 & 13 & 18 & 17 & 20 & 19 & 15\\\\\n",
       "\t 1 & 2 & 7  & 4  & 5  & 3  & 6  & 8  & 9  & 12 & 11 & 14 & 16 & 18 & 10 & 13 & 20 & 19 & 17 & 15\\\\\n",
       "\t 1 & 2 & 7  & 4  & 5  & 3  & 6  & 8  & 9  & 12 & 11 & 14 & 16 & 18 & 13 & 10 & 20 & 19 & 17 & 15\\\\\n",
       "\t 1 & 2 & 7  & 4  & 5  & 3  & 6  & 8  & 9  & 12 & 11 & 14 & 18 & 13 & 16 & 10 & 20 & 19 & 17 & 15\\\\\n",
       "\t 1 & 7 & 2  & 4  & 5  & 3  & 6  & 8  & 9  & 12 & 18 & 11 & 14 & 13 & 16 & 10 & 20 & 19 & 17 & 15\\\\\n",
       "\t 1 & 7 & 2  & 4  & 5  & 3  & 6  & 8  & 9  & 18 & 12 & 11 & 13 & 14 & 16 & 10 & 20 & 19 & 17 & 15\\\\\n",
       "\t 1 & 7 & 2  & 4  & 5  & 3  & 6  & 8  & 9  & 18 & 12 & 11 & 14 & 16 & 20 & 10 & 19 & 13 & 17 & 15\\\\\n",
       "\t 1 & 7 & 2  & 4  & 5  & 3  & 6  & 8  & 18 & 9  & 12 & 11 & 14 & 20 & 16 & 19 & 10 & 17 & 15 & 13\\\\\n",
       "\t 1 & 7 & 2  & 4  & 5  & 3  & 6  & 18 & 8  & 9  & 12 & 11 & 14 & 20 & 19 & 16 & 10 & 17 & 15 & 13\\\\\n",
       "\t 1 & 7 & 2  & 4  & 5  & 3  & 18 & 6  & 8  & 9  & 12 & 14 & 11 & 20 & 19 & 16 & 10 & 17 & 15 & 13\\\\\n",
       "\t 1 & 7 & 2  & 4  & 5  & 18 & 3  & 6  & 8  & 9  & 12 & 14 & 19 & 20 & 16 & 10 & 17 & 15 & 13 &   \\\\\n",
       "\t 7 & 1 & 2  & 4  & 18 & 5  & 3  & 6  & 8  & 9  & 12 & 14 & 19 & 20 & 16 & 10 & 17 & 15 & 13 &   \\\\\n",
       "\t 7 & 2 & 1  & 18 & 4  & 5  & 6  & 3  & 8  & 9  & 12 & 14 & 19 & 20 & 10 & 16 & 17 & 15 & 13 &   \\\\\n",
       "\t 7 & 2 & 1  & 18 & 4  & 5  & 6  & 3  & 8  & 9  & 12 & 14 & 19 & 20 & 10 & 16 & 17 & 15 & 13 &   \\\\\n",
       "\t 7 & 2 & 1  & 18 & 4  & 5  & 6  & 3  & 8  & 9  & 12 & 14 & 19 & 20 & 16 & 17 & 15 & 10 & 13 &   \\\\\n",
       "\t 7 & 2 & 1  & 18 & 4  & 5  & 6  & 3  & 8  & 9  & 12 & 19 & 14 & 20 & 17 & 16 & 15 & 13 & 10 &   \\\\\n",
       "\t 7 & 2 & 1  & 18 & 4  & 5  & 6  & 3  & 8  & 9  & 19 & 12 & 14 & 20 & 17 & 16 & 15 & 13 & 10 &   \\\\\n",
       "\t 7 & 2 & 1  & 18 & 4  & 3  & 6  & 8  & 5  & 19 & 9  & 14 & 20 & 12 & 17 & 15 & 16 & 13 & 10 &   \\\\\n",
       "\t 7 & 2 & 1  & 18 & 3  & 6  & 4  & 19 & 8  & 14 & 17 & 20 & 15 & 16 & 13 & 5  & 9  & 12 & 10 &   \\\\\n",
       "\t 7 & 2 & 1  & 18 & 3  & 6  & 19 & 17 & 15 & 13 & 16 & 4  & 5  & 8  & 9  & 14 & 12 & 20 & 10 &   \\\\\n",
       "\t 7 & 2 & 1  & 18 & 3  & 6  & 19 & 17 & 15 & 13 & 16 & 4  & 5  & 8  & 9  & 14 & 20 & 12 & 10 &   \\\\\n",
       "\t 7 & 2 & 1  & 18 & 3  & 6  & 19 & 17 & 13 & 15 & 16 & 4  & 5  & 8  & 9  & 14 & 20 & 12 & 10 &   \\\\\n",
       "\t 7 & 1 & 2  & 18 & 3  & 6  & 19 & 17 & 13 & 15 & 16 & 4  & 5  & 8  & 9  & 14 & 20 & 12 & 10 &   \\\\\n",
       "\t 7 & 1 & 18 & 2  & 3  & 6  & 19 & 13 & 17 & 15 & 4  & 5  & 8  & 16 & 9  & 14 & 20 & 10 & 12 &   \\\\\n",
       "\t 7 & 1 & 18 & 2  & 3  & 6  & 19 & 13 & 17 & 15 & 4  & 5  & 8  & 9  & 14 & 20 & 10 & 12 & 16 &   \\\\\n",
       "\t 1 & 7 & 18 & 2  & 3  & 6  & 19 & 13 & 17 & 15 & 4  & 5  & 8  & 9  & 14 & 20 & 10 & 12 & 16 &   \\\\\n",
       "\t 1 & 7 & 18 & 2  & 3  & 19 & 6  & 13 & 17 & 15 & 4  & 5  & 8  & 9  & 14 & 20 & 10 & 12 & 16 &   \\\\\n",
       "\t 1 & 7 & 18 & 2  & 3  & 19 & 6  & 13 & 17 & 15 & 4  & 5  & 8  & 9  & 14 & 20 & 10 & 12 & 16 &   \\\\\n",
       "\t 1 & 7 & 18 & 2  & 3  & 19 & 6  & 13 & 17 & 15 & 4  & 5  & 8  & 9  & 14 & 20 & 10 & 12 & 16 &   \\\\\n",
       "\t 1 & 7 & 2  & 18 & 3  & 19 & 6  & 13 & 17 & 15 & 4  & 5  & 8  & 9  & 14 & 20 & 10 & 12 & 16 &   \\\\\n",
       "\t 1 & 7 & 2  & 3  & 19 & 13 & 18 & 6  & 17 & 15 & 4  & 5  & 8  & 9  & 14 & 20 & 10 & 12 & 16 &   \\\\\n",
       "\t 1 & 7 & 2  & 3  & 19 & 13 & 18 & 17 & 15 & 4  & 5  & 8  & 9  & 14 & 20 & 10 & 12 & 16 &    &   \\\\\n",
       "\t 1 & 7 & 2  & 3  & 18 & 13 & 19 & 15 & 17 & 4  & 5  & 8  & 9  & 14 & 20 & 10 & 12 & 16 &    &   \\\\\n",
       "\t 7 & 1 & 2  & 3  & 18 & 13 & 15 & 4  & 5  & 8  & 9  & 19 & 14 & 20 & 10 & 12 & 17 & 16 &    &   \\\\\n",
       "\t 7 & 1 & 2  & 3  & 18 & 13 & 4  & 5  & 19 & 8  & 15 & 9  & 14 & 20 & 10 & 17 & 12 & 16 &    &   \\\\\n",
       "\t 7 & 1 & 2  & 18 & 13 & 4  & 19 & 5  & 3  & 8  & 9  & 14 & 20 & 10 & 17 & 12 & 15 & 16 &    &   \\\\\n",
       "\t 7 & 1 & 2  & 18 & 13 & 19 & 3  & 4  & 5  & 8  & 9  & 14 & 20 & 10 & 17 & 15 & 12 & 16 &    &   \\\\\n",
       "\t 7 & 1 & 2  & 18 & 13 & 19 & 3  & 4  & 5  & 8  & 9  & 14 & 20 & 10 & 17 & 15 & 12 & 16 &    &   \\\\\n",
       "\t 7 & 1 & 2  & 18 & 13 & 19 & 3  & 4  & 5  & 8  & 9  & 14 & 20 & 10 & 17 & 15 & 12 & 16 &    &   \\\\\n",
       "\t 7 & 1 & 2  & 18 & 13 & 19 & 3  & 4  & 5  & 8  & 9  & 14 & 20 & 10 & 17 & 15 & 16 &    &    &   \\\\\n",
       "\t 7 & 1 & 2  & 18 & 13 & 19 & 3  & 4  & 5  & 8  & 9  & 14 & 20 & 17 & 10 & 15 & 16 &    &    &   \\\\\n",
       "\t 7 & 1 & 2  & 18 & 13 & 19 & 3  & 4  & 5  & 8  & 9  & 14 & 20 & 17 & 15 & 10 & 16 &    &    &   \\\\\n",
       "\t 7 & 1 & 2  & 18 & 19 & 3  & 13 & 4  & 5  & 8  & 9  & 14 & 20 & 17 & 15 & 10 & 16 &    &    &   \\\\\n",
       "\t 7 & 1 & 2  & 18 & 19 & 3  & 13 & 4  & 5  & 8  & 9  & 14 & 20 & 17 & 15 & 10 & 16 &    &    &   \\\\\n",
       "\t 7 & 1 & 2  & 18 & 19 & 3  & 13 & 4  & 5  & 8  & 9  & 14 & 17 & 20 & 15 & 10 & 16 &    &    &   \\\\\n",
       "\t 7 & 1 & 2  & 18 & 19 & 3  & 13 & 5  & 8  & 9  & 14 & 17 & 20 & 15 & 10 & 16 &    &    &    &   \\\\\n",
       "\t 7 & 1 & 2  & 18 & 19 & 3  & 13 & 5  & 8  & 9  & 14 & 17 & 15 & 20 & 10 & 16 &    &    &    &   \\\\\n",
       "\t 7 & 1 & 2  & 18 & 19 & 13 & 3  & 5  & 8  & 9  & 14 & 17 & 15 & 20 & 10 & 16 &    &    &    &   \\\\\n",
       "\t 7 & 1 & 2  & 18 & 19 & 13 & 3  & 5  & 8  & 9  & 14 & 17 & 15 & 20 & 10 & 16 &    &    &    &   \\\\\n",
       "\t 7 & 1 & 2  & 18 & 19 & 13 & 3  & 5  & 8  & 9  & 14 & 17 & 15 & 20 & 10 & 16 &    &    &    &   \\\\\n",
       "\t 7 & 1 & 2  & 18 & 19 & 13 & 3  & 5  & 8  & 9  & 14 & 17 & 15 & 20 & 10 & 16 &    &    &    &   \\\\\n",
       "\t 7 & 1 & 2  & 18 & 19 & 13 & 3  & 5  & 8  & 9  & 14 & 17 & 15 & 20 & 10 & 16 &    &    &    &   \\\\\n",
       "\t 7 & 1 & 2  & 18 & 19 & 13 & 3  & 5  & 8  & 9  & 14 & 17 &    &    &    &    &    &    &    &   \\\\\n",
       "\\end{tabular}\n"
      ],
      "text/markdown": [
       "\n",
       "A tibble: 53 × 20\n",
       "\n",
       "| LEC1 &lt;chr&gt; | RUS2 &lt;chr&gt; | NOR3 &lt;chr&gt; | RIC4 &lt;chr&gt; | GAS5 &lt;chr&gt; | ALO6 &lt;chr&gt; | VER7 &lt;chr&gt; | DEV8 &lt;chr&gt; | ZHO9 &lt;chr&gt; | LAT10 &lt;chr&gt; | VET11 &lt;chr&gt; | STR12 &lt;chr&gt; | PER13 &lt;chr&gt; | OCO14 &lt;chr&gt; | BOT15 &lt;chr&gt; | MAG16 &lt;chr&gt; | MSC17 &lt;chr&gt; | SAI18 &lt;chr&gt; | HAM19 &lt;chr&gt; | TSU20 &lt;chr&gt; |\n",
       "|---|---|---|---|---|---|---|---|---|---|---|---|---|---|---|---|---|---|---|---|\n",
       "| 1 | 2 | 4  | 7  | 5  | 3  | 6  | 8  | 9  | 11 | 12 | 16 | 14 | 10 | 13 | 18 | 17 | 20 | 19 | 15 |\n",
       "| 1 | 2 | 7  | 4  | 5  | 3  | 6  | 8  | 9  | 12 | 11 | 14 | 16 | 18 | 10 | 13 | 20 | 19 | 17 | 15 |\n",
       "| 1 | 2 | 7  | 4  | 5  | 3  | 6  | 8  | 9  | 12 | 11 | 14 | 16 | 18 | 13 | 10 | 20 | 19 | 17 | 15 |\n",
       "| 1 | 2 | 7  | 4  | 5  | 3  | 6  | 8  | 9  | 12 | 11 | 14 | 18 | 13 | 16 | 10 | 20 | 19 | 17 | 15 |\n",
       "| 1 | 7 | 2  | 4  | 5  | 3  | 6  | 8  | 9  | 12 | 18 | 11 | 14 | 13 | 16 | 10 | 20 | 19 | 17 | 15 |\n",
       "| 1 | 7 | 2  | 4  | 5  | 3  | 6  | 8  | 9  | 18 | 12 | 11 | 13 | 14 | 16 | 10 | 20 | 19 | 17 | 15 |\n",
       "| 1 | 7 | 2  | 4  | 5  | 3  | 6  | 8  | 9  | 18 | 12 | 11 | 14 | 16 | 20 | 10 | 19 | 13 | 17 | 15 |\n",
       "| 1 | 7 | 2  | 4  | 5  | 3  | 6  | 8  | 18 | 9  | 12 | 11 | 14 | 20 | 16 | 19 | 10 | 17 | 15 | 13 |\n",
       "| 1 | 7 | 2  | 4  | 5  | 3  | 6  | 18 | 8  | 9  | 12 | 11 | 14 | 20 | 19 | 16 | 10 | 17 | 15 | 13 |\n",
       "| 1 | 7 | 2  | 4  | 5  | 3  | 18 | 6  | 8  | 9  | 12 | 14 | 11 | 20 | 19 | 16 | 10 | 17 | 15 | 13 |\n",
       "| 1 | 7 | 2  | 4  | 5  | 18 | 3  | 6  | 8  | 9  | 12 | 14 | 19 | 20 | 16 | 10 | 17 | 15 | 13 | <!----> |\n",
       "| 7 | 1 | 2  | 4  | 18 | 5  | 3  | 6  | 8  | 9  | 12 | 14 | 19 | 20 | 16 | 10 | 17 | 15 | 13 | <!----> |\n",
       "| 7 | 2 | 1  | 18 | 4  | 5  | 6  | 3  | 8  | 9  | 12 | 14 | 19 | 20 | 10 | 16 | 17 | 15 | 13 | <!----> |\n",
       "| 7 | 2 | 1  | 18 | 4  | 5  | 6  | 3  | 8  | 9  | 12 | 14 | 19 | 20 | 10 | 16 | 17 | 15 | 13 | <!----> |\n",
       "| 7 | 2 | 1  | 18 | 4  | 5  | 6  | 3  | 8  | 9  | 12 | 14 | 19 | 20 | 16 | 17 | 15 | 10 | 13 | <!----> |\n",
       "| 7 | 2 | 1  | 18 | 4  | 5  | 6  | 3  | 8  | 9  | 12 | 19 | 14 | 20 | 17 | 16 | 15 | 13 | 10 | <!----> |\n",
       "| 7 | 2 | 1  | 18 | 4  | 5  | 6  | 3  | 8  | 9  | 19 | 12 | 14 | 20 | 17 | 16 | 15 | 13 | 10 | <!----> |\n",
       "| 7 | 2 | 1  | 18 | 4  | 3  | 6  | 8  | 5  | 19 | 9  | 14 | 20 | 12 | 17 | 15 | 16 | 13 | 10 | <!----> |\n",
       "| 7 | 2 | 1  | 18 | 3  | 6  | 4  | 19 | 8  | 14 | 17 | 20 | 15 | 16 | 13 | 5  | 9  | 12 | 10 | <!----> |\n",
       "| 7 | 2 | 1  | 18 | 3  | 6  | 19 | 17 | 15 | 13 | 16 | 4  | 5  | 8  | 9  | 14 | 12 | 20 | 10 | <!----> |\n",
       "| 7 | 2 | 1  | 18 | 3  | 6  | 19 | 17 | 15 | 13 | 16 | 4  | 5  | 8  | 9  | 14 | 20 | 12 | 10 | <!----> |\n",
       "| 7 | 2 | 1  | 18 | 3  | 6  | 19 | 17 | 13 | 15 | 16 | 4  | 5  | 8  | 9  | 14 | 20 | 12 | 10 | <!----> |\n",
       "| 7 | 1 | 2  | 18 | 3  | 6  | 19 | 17 | 13 | 15 | 16 | 4  | 5  | 8  | 9  | 14 | 20 | 12 | 10 | <!----> |\n",
       "| 7 | 1 | 18 | 2  | 3  | 6  | 19 | 13 | 17 | 15 | 4  | 5  | 8  | 16 | 9  | 14 | 20 | 10 | 12 | <!----> |\n",
       "| 7 | 1 | 18 | 2  | 3  | 6  | 19 | 13 | 17 | 15 | 4  | 5  | 8  | 9  | 14 | 20 | 10 | 12 | 16 | <!----> |\n",
       "| 1 | 7 | 18 | 2  | 3  | 6  | 19 | 13 | 17 | 15 | 4  | 5  | 8  | 9  | 14 | 20 | 10 | 12 | 16 | <!----> |\n",
       "| 1 | 7 | 18 | 2  | 3  | 19 | 6  | 13 | 17 | 15 | 4  | 5  | 8  | 9  | 14 | 20 | 10 | 12 | 16 | <!----> |\n",
       "| 1 | 7 | 18 | 2  | 3  | 19 | 6  | 13 | 17 | 15 | 4  | 5  | 8  | 9  | 14 | 20 | 10 | 12 | 16 | <!----> |\n",
       "| 1 | 7 | 18 | 2  | 3  | 19 | 6  | 13 | 17 | 15 | 4  | 5  | 8  | 9  | 14 | 20 | 10 | 12 | 16 | <!----> |\n",
       "| 1 | 7 | 2  | 18 | 3  | 19 | 6  | 13 | 17 | 15 | 4  | 5  | 8  | 9  | 14 | 20 | 10 | 12 | 16 | <!----> |\n",
       "| 1 | 7 | 2  | 3  | 19 | 13 | 18 | 6  | 17 | 15 | 4  | 5  | 8  | 9  | 14 | 20 | 10 | 12 | 16 | <!----> |\n",
       "| 1 | 7 | 2  | 3  | 19 | 13 | 18 | 17 | 15 | 4  | 5  | 8  | 9  | 14 | 20 | 10 | 12 | 16 | <!----> | <!----> |\n",
       "| 1 | 7 | 2  | 3  | 18 | 13 | 19 | 15 | 17 | 4  | 5  | 8  | 9  | 14 | 20 | 10 | 12 | 16 | <!----> | <!----> |\n",
       "| 7 | 1 | 2  | 3  | 18 | 13 | 15 | 4  | 5  | 8  | 9  | 19 | 14 | 20 | 10 | 12 | 17 | 16 | <!----> | <!----> |\n",
       "| 7 | 1 | 2  | 3  | 18 | 13 | 4  | 5  | 19 | 8  | 15 | 9  | 14 | 20 | 10 | 17 | 12 | 16 | <!----> | <!----> |\n",
       "| 7 | 1 | 2  | 18 | 13 | 4  | 19 | 5  | 3  | 8  | 9  | 14 | 20 | 10 | 17 | 12 | 15 | 16 | <!----> | <!----> |\n",
       "| 7 | 1 | 2  | 18 | 13 | 19 | 3  | 4  | 5  | 8  | 9  | 14 | 20 | 10 | 17 | 15 | 12 | 16 | <!----> | <!----> |\n",
       "| 7 | 1 | 2  | 18 | 13 | 19 | 3  | 4  | 5  | 8  | 9  | 14 | 20 | 10 | 17 | 15 | 12 | 16 | <!----> | <!----> |\n",
       "| 7 | 1 | 2  | 18 | 13 | 19 | 3  | 4  | 5  | 8  | 9  | 14 | 20 | 10 | 17 | 15 | 12 | 16 | <!----> | <!----> |\n",
       "| 7 | 1 | 2  | 18 | 13 | 19 | 3  | 4  | 5  | 8  | 9  | 14 | 20 | 10 | 17 | 15 | 16 | <!----> | <!----> | <!----> |\n",
       "| 7 | 1 | 2  | 18 | 13 | 19 | 3  | 4  | 5  | 8  | 9  | 14 | 20 | 17 | 10 | 15 | 16 | <!----> | <!----> | <!----> |\n",
       "| 7 | 1 | 2  | 18 | 13 | 19 | 3  | 4  | 5  | 8  | 9  | 14 | 20 | 17 | 15 | 10 | 16 | <!----> | <!----> | <!----> |\n",
       "| 7 | 1 | 2  | 18 | 19 | 3  | 13 | 4  | 5  | 8  | 9  | 14 | 20 | 17 | 15 | 10 | 16 | <!----> | <!----> | <!----> |\n",
       "| 7 | 1 | 2  | 18 | 19 | 3  | 13 | 4  | 5  | 8  | 9  | 14 | 20 | 17 | 15 | 10 | 16 | <!----> | <!----> | <!----> |\n",
       "| 7 | 1 | 2  | 18 | 19 | 3  | 13 | 4  | 5  | 8  | 9  | 14 | 17 | 20 | 15 | 10 | 16 | <!----> | <!----> | <!----> |\n",
       "| 7 | 1 | 2  | 18 | 19 | 3  | 13 | 5  | 8  | 9  | 14 | 17 | 20 | 15 | 10 | 16 | <!----> | <!----> | <!----> | <!----> |\n",
       "| 7 | 1 | 2  | 18 | 19 | 3  | 13 | 5  | 8  | 9  | 14 | 17 | 15 | 20 | 10 | 16 | <!----> | <!----> | <!----> | <!----> |\n",
       "| 7 | 1 | 2  | 18 | 19 | 13 | 3  | 5  | 8  | 9  | 14 | 17 | 15 | 20 | 10 | 16 | <!----> | <!----> | <!----> | <!----> |\n",
       "| 7 | 1 | 2  | 18 | 19 | 13 | 3  | 5  | 8  | 9  | 14 | 17 | 15 | 20 | 10 | 16 | <!----> | <!----> | <!----> | <!----> |\n",
       "| 7 | 1 | 2  | 18 | 19 | 13 | 3  | 5  | 8  | 9  | 14 | 17 | 15 | 20 | 10 | 16 | <!----> | <!----> | <!----> | <!----> |\n",
       "| 7 | 1 | 2  | 18 | 19 | 13 | 3  | 5  | 8  | 9  | 14 | 17 | 15 | 20 | 10 | 16 | <!----> | <!----> | <!----> | <!----> |\n",
       "| 7 | 1 | 2  | 18 | 19 | 13 | 3  | 5  | 8  | 9  | 14 | 17 | 15 | 20 | 10 | 16 | <!----> | <!----> | <!----> | <!----> |\n",
       "| 7 | 1 | 2  | 18 | 19 | 13 | 3  | 5  | 8  | 9  | 14 | 17 | <!----> | <!----> | <!----> | <!----> | <!----> | <!----> | <!----> | <!----> |\n",
       "\n"
      ],
      "text/plain": [
       "   LEC1 RUS2 NOR3 RIC4 GAS5 ALO6 VER7 DEV8 ZHO9 LAT10 VET11 STR12 PER13 OCO14\n",
       "1  1    2    4    7    5    3    6    8    9    11    12    16    14    10   \n",
       "2  1    2    7    4    5    3    6    8    9    12    11    14    16    18   \n",
       "3  1    2    7    4    5    3    6    8    9    12    11    14    16    18   \n",
       "4  1    2    7    4    5    3    6    8    9    12    11    14    18    13   \n",
       "5  1    7    2    4    5    3    6    8    9    12    18    11    14    13   \n",
       "6  1    7    2    4    5    3    6    8    9    18    12    11    13    14   \n",
       "7  1    7    2    4    5    3    6    8    9    18    12    11    14    16   \n",
       "8  1    7    2    4    5    3    6    8    18   9     12    11    14    20   \n",
       "9  1    7    2    4    5    3    6    18   8    9     12    11    14    20   \n",
       "10 1    7    2    4    5    3    18   6    8    9     12    14    11    20   \n",
       "11 1    7    2    4    5    18   3    6    8    9     12    14    19    20   \n",
       "12 7    1    2    4    18   5    3    6    8    9     12    14    19    20   \n",
       "13 7    2    1    18   4    5    6    3    8    9     12    14    19    20   \n",
       "14 7    2    1    18   4    5    6    3    8    9     12    14    19    20   \n",
       "15 7    2    1    18   4    5    6    3    8    9     12    14    19    20   \n",
       "16 7    2    1    18   4    5    6    3    8    9     12    19    14    20   \n",
       "17 7    2    1    18   4    5    6    3    8    9     19    12    14    20   \n",
       "18 7    2    1    18   4    3    6    8    5    19    9     14    20    12   \n",
       "19 7    2    1    18   3    6    4    19   8    14    17    20    15    16   \n",
       "20 7    2    1    18   3    6    19   17   15   13    16    4     5     8    \n",
       "21 7    2    1    18   3    6    19   17   15   13    16    4     5     8    \n",
       "22 7    2    1    18   3    6    19   17   13   15    16    4     5     8    \n",
       "23 7    1    2    18   3    6    19   17   13   15    16    4     5     8    \n",
       "24 7    1    18   2    3    6    19   13   17   15    4     5     8     16   \n",
       "25 7    1    18   2    3    6    19   13   17   15    4     5     8     9    \n",
       "26 1    7    18   2    3    6    19   13   17   15    4     5     8     9    \n",
       "27 1    7    18   2    3    19   6    13   17   15    4     5     8     9    \n",
       "28 1    7    18   2    3    19   6    13   17   15    4     5     8     9    \n",
       "29 1    7    18   2    3    19   6    13   17   15    4     5     8     9    \n",
       "30 1    7    2    18   3    19   6    13   17   15    4     5     8     9    \n",
       "31 1    7    2    3    19   13   18   6    17   15    4     5     8     9    \n",
       "32 1    7    2    3    19   13   18   17   15   4     5     8     9     14   \n",
       "33 1    7    2    3    18   13   19   15   17   4     5     8     9     14   \n",
       "34 7    1    2    3    18   13   15   4    5    8     9     19    14    20   \n",
       "35 7    1    2    3    18   13   4    5    19   8     15    9     14    20   \n",
       "36 7    1    2    18   13   4    19   5    3    8     9     14    20    10   \n",
       "37 7    1    2    18   13   19   3    4    5    8     9     14    20    10   \n",
       "38 7    1    2    18   13   19   3    4    5    8     9     14    20    10   \n",
       "39 7    1    2    18   13   19   3    4    5    8     9     14    20    10   \n",
       "40 7    1    2    18   13   19   3    4    5    8     9     14    20    10   \n",
       "41 7    1    2    18   13   19   3    4    5    8     9     14    20    17   \n",
       "42 7    1    2    18   13   19   3    4    5    8     9     14    20    17   \n",
       "43 7    1    2    18   19   3    13   4    5    8     9     14    20    17   \n",
       "44 7    1    2    18   19   3    13   4    5    8     9     14    20    17   \n",
       "45 7    1    2    18   19   3    13   4    5    8     9     14    17    20   \n",
       "46 7    1    2    18   19   3    13   5    8    9     14    17    20    15   \n",
       "47 7    1    2    18   19   3    13   5    8    9     14    17    15    20   \n",
       "48 7    1    2    18   19   13   3    5    8    9     14    17    15    20   \n",
       "49 7    1    2    18   19   13   3    5    8    9     14    17    15    20   \n",
       "50 7    1    2    18   19   13   3    5    8    9     14    17    15    20   \n",
       "51 7    1    2    18   19   13   3    5    8    9     14    17    15    20   \n",
       "52 7    1    2    18   19   13   3    5    8    9     14    17    15    20   \n",
       "53 7    1    2    18   19   13   3    5    8    9     14    17               \n",
       "   BOT15 MAG16 MSC17 SAI18 HAM19 TSU20\n",
       "1  13    18    17    20    19    15   \n",
       "2  10    13    20    19    17    15   \n",
       "3  13    10    20    19    17    15   \n",
       "4  16    10    20    19    17    15   \n",
       "5  16    10    20    19    17    15   \n",
       "6  16    10    20    19    17    15   \n",
       "7  20    10    19    13    17    15   \n",
       "8  16    19    10    17    15    13   \n",
       "9  19    16    10    17    15    13   \n",
       "10 19    16    10    17    15    13   \n",
       "11 16    10    17    15    13         \n",
       "12 16    10    17    15    13         \n",
       "13 10    16    17    15    13         \n",
       "14 10    16    17    15    13         \n",
       "15 16    17    15    10    13         \n",
       "16 17    16    15    13    10         \n",
       "17 17    16    15    13    10         \n",
       "18 17    15    16    13    10         \n",
       "19 13    5     9     12    10         \n",
       "20 9     14    12    20    10         \n",
       "21 9     14    20    12    10         \n",
       "22 9     14    20    12    10         \n",
       "23 9     14    20    12    10         \n",
       "24 9     14    20    10    12         \n",
       "25 14    20    10    12    16         \n",
       "26 14    20    10    12    16         \n",
       "27 14    20    10    12    16         \n",
       "28 14    20    10    12    16         \n",
       "29 14    20    10    12    16         \n",
       "30 14    20    10    12    16         \n",
       "31 14    20    10    12    16         \n",
       "32 20    10    12    16               \n",
       "33 20    10    12    16               \n",
       "34 10    12    17    16               \n",
       "35 10    17    12    16               \n",
       "36 17    12    15    16               \n",
       "37 17    15    12    16               \n",
       "38 17    15    12    16               \n",
       "39 17    15    12    16               \n",
       "40 17    15    16                     \n",
       "41 10    15    16                     \n",
       "42 15    10    16                     \n",
       "43 15    10    16                     \n",
       "44 15    10    16                     \n",
       "45 15    10    16                     \n",
       "46 10    16                           \n",
       "47 10    16                           \n",
       "48 10    16                           \n",
       "49 10    16                           \n",
       "50 10    16                           \n",
       "51 10    16                           \n",
       "52 10    16                           \n",
       "53                                    "
      ]
     },
     "metadata": {},
     "output_type": "display_data"
    }
   ],
   "source": [
    "table_without_laps"
   ]
  },
  {
   "cell_type": "code",
   "execution_count": 543,
   "id": "f22c2f16",
   "metadata": {
    "vscode": {
     "languageId": "r"
    }
   },
   "outputs": [],
   "source": [
    "o <- which(table_without_laps[1, ] == 7) - which(table_without_laps[2, ] == 7)"
   ]
  },
  {
   "cell_type": "code",
   "execution_count": 544,
   "id": "166239dd",
   "metadata": {
    "vscode": {
     "languageId": "r"
    }
   },
   "outputs": [
    {
     "data": {
      "text/html": [
       "1"
      ],
      "text/latex": [
       "1"
      ],
      "text/markdown": [
       "1"
      ],
      "text/plain": [
       "[1] 1"
      ]
     },
     "metadata": {},
     "output_type": "display_data"
    }
   ],
   "source": [
    "o"
   ]
  },
  {
   "cell_type": "code",
   "execution_count": 550,
   "id": "7f6c21ce",
   "metadata": {
    "vscode": {
     "languageId": "r"
    }
   },
   "outputs": [
    {
     "name": "stdout",
     "output_type": "stream",
     "text": [
      "[1] -1\n",
      "[1] 0\n",
      "[1] 0\n",
      "[1] 0\n",
      "[1] 0\n",
      "[1] 0\n",
      "[1] 0\n",
      "[1] 0\n",
      "[1] 0\n",
      "[1] 0\n",
      "[1] 0\n",
      "[1] -1\n",
      "[1] 0\n",
      "[1] 0\n",
      "[1] 0\n",
      "[1] 0\n",
      "[1] 0\n",
      "[1] -2\n",
      "[1] -5\n",
      "[1] 0\n",
      "[1] 0\n",
      "[1] 0\n",
      "[1] 1\n",
      "[1] 0\n",
      "[1] 0\n",
      "[1] 0\n",
      "[1] 0\n",
      "[1] 0\n",
      "[1] 0\n",
      "[1] 0\n",
      "[1] 1\n",
      "[1] 0\n",
      "[1] 2\n",
      "[1] 1\n",
      "[1] 1\n",
      "[1] -2\n",
      "[1] 0\n",
      "[1] 0\n",
      "[1] 0\n",
      "[1] 0\n",
      "[1] 0\n",
      "[1] 0\n",
      "[1] 0\n",
      "[1] 0\n",
      "integer(0)\n",
      "integer(0)\n",
      "integer(0)\n",
      "integer(0)\n",
      "integer(0)\n",
      "integer(0)\n",
      "integer(0)\n",
      "integer(0)\n"
     ]
    }
   ],
   "source": [
    "overlap <- 0\n",
    "pl <- 4\n",
    "for (i in 1:52){\n",
    "    overlap <- which(table_without_laps[i, ] == pl) - which(table_without_laps[i+1, ] == pl)\n",
    "    print(overlap)\n",
    "}"
   ]
  },
  {
   "cell_type": "code",
   "execution_count": 539,
   "id": "02945c59",
   "metadata": {
    "vscode": {
     "languageId": "r"
    }
   },
   "outputs": [
    {
     "name": "stdout",
     "output_type": "stream",
     "text": [
      "integer(0)\n"
     ]
    }
   ],
   "source": [
    "print(as.integer(overlap))"
   ]
  },
  {
   "cell_type": "code",
   "execution_count": 81,
   "id": "ad38042c",
   "metadata": {
    "vscode": {
     "languageId": "r"
    }
   },
   "outputs": [],
   "source": [
    "#define function to catch integer(0)\n",
    "integer0_test <- function(data) {\n",
    " \n",
    "  if(identical(data, integer(0))) {\n",
    "    return(0)\n",
    "  }\n",
    "\n",
    "  else {\n",
    "    return(data)\n",
    "  }\n",
    "\n",
    "}"
   ]
  },
  {
   "cell_type": "code",
   "execution_count": 72,
   "id": "f76f6d51",
   "metadata": {
    "vscode": {
     "languageId": "r"
    }
   },
   "outputs": [
    {
     "data": {
      "text/html": [
       "<table class=\"dataframe\">\n",
       "<caption>A tibble: 53 × 20</caption>\n",
       "<thead>\n",
       "\t<tr><th scope=col>LEC1</th><th scope=col>RUS2</th><th scope=col>NOR3</th><th scope=col>RIC4</th><th scope=col>GAS5</th><th scope=col>ALO6</th><th scope=col>VER7</th><th scope=col>DEV8</th><th scope=col>ZHO9</th><th scope=col>LAT10</th><th scope=col>VET11</th><th scope=col>STR12</th><th scope=col>PER13</th><th scope=col>OCO14</th><th scope=col>BOT15</th><th scope=col>MAG16</th><th scope=col>MSC17</th><th scope=col>SAI18</th><th scope=col>HAM19</th><th scope=col>TSU20</th></tr>\n",
       "\t<tr><th scope=col>&lt;chr&gt;</th><th scope=col>&lt;chr&gt;</th><th scope=col>&lt;chr&gt;</th><th scope=col>&lt;chr&gt;</th><th scope=col>&lt;chr&gt;</th><th scope=col>&lt;chr&gt;</th><th scope=col>&lt;chr&gt;</th><th scope=col>&lt;chr&gt;</th><th scope=col>&lt;chr&gt;</th><th scope=col>&lt;chr&gt;</th><th scope=col>&lt;chr&gt;</th><th scope=col>&lt;chr&gt;</th><th scope=col>&lt;chr&gt;</th><th scope=col>&lt;chr&gt;</th><th scope=col>&lt;chr&gt;</th><th scope=col>&lt;chr&gt;</th><th scope=col>&lt;chr&gt;</th><th scope=col>&lt;chr&gt;</th><th scope=col>&lt;chr&gt;</th><th scope=col>&lt;chr&gt;</th></tr>\n",
       "</thead>\n",
       "<tbody>\n",
       "\t<tr><td>1</td><td>2</td><td>4 </td><td>7 </td><td>5 </td><td>3 </td><td>6 </td><td>8 </td><td>9 </td><td>11</td><td>12</td><td>16</td><td>14</td><td>10</td><td>13</td><td>18</td><td>17</td><td>20</td><td>19</td><td>15</td></tr>\n",
       "\t<tr><td>1</td><td>2</td><td>7 </td><td>4 </td><td>5 </td><td>3 </td><td>6 </td><td>8 </td><td>9 </td><td>12</td><td>11</td><td>14</td><td>16</td><td>18</td><td>10</td><td>13</td><td>20</td><td>19</td><td>17</td><td>15</td></tr>\n",
       "\t<tr><td>1</td><td>2</td><td>7 </td><td>4 </td><td>5 </td><td>3 </td><td>6 </td><td>8 </td><td>9 </td><td>12</td><td>11</td><td>14</td><td>16</td><td>18</td><td>13</td><td>10</td><td>20</td><td>19</td><td>17</td><td>15</td></tr>\n",
       "\t<tr><td>1</td><td>2</td><td>7 </td><td>4 </td><td>5 </td><td>3 </td><td>6 </td><td>8 </td><td>9 </td><td>12</td><td>11</td><td>14</td><td>18</td><td>13</td><td>16</td><td>10</td><td>20</td><td>19</td><td>17</td><td>15</td></tr>\n",
       "\t<tr><td>1</td><td>7</td><td>2 </td><td>4 </td><td>5 </td><td>3 </td><td>6 </td><td>8 </td><td>9 </td><td>12</td><td>18</td><td>11</td><td>14</td><td>13</td><td>16</td><td>10</td><td>20</td><td>19</td><td>17</td><td>15</td></tr>\n",
       "\t<tr><td>1</td><td>7</td><td>2 </td><td>4 </td><td>5 </td><td>3 </td><td>6 </td><td>8 </td><td>9 </td><td>18</td><td>12</td><td>11</td><td>13</td><td>14</td><td>16</td><td>10</td><td>20</td><td>19</td><td>17</td><td>15</td></tr>\n",
       "\t<tr><td>1</td><td>7</td><td>2 </td><td>4 </td><td>5 </td><td>3 </td><td>6 </td><td>8 </td><td>9 </td><td>18</td><td>12</td><td>11</td><td>14</td><td>16</td><td>20</td><td>10</td><td>19</td><td>13</td><td>17</td><td>15</td></tr>\n",
       "\t<tr><td>1</td><td>7</td><td>2 </td><td>4 </td><td>5 </td><td>3 </td><td>6 </td><td>8 </td><td>18</td><td>9 </td><td>12</td><td>11</td><td>14</td><td>20</td><td>16</td><td>19</td><td>10</td><td>17</td><td>15</td><td>13</td></tr>\n",
       "\t<tr><td>1</td><td>7</td><td>2 </td><td>4 </td><td>5 </td><td>3 </td><td>6 </td><td>18</td><td>8 </td><td>9 </td><td>12</td><td>11</td><td>14</td><td>20</td><td>19</td><td>16</td><td>10</td><td>17</td><td>15</td><td>13</td></tr>\n",
       "\t<tr><td>1</td><td>7</td><td>2 </td><td>4 </td><td>5 </td><td>3 </td><td>18</td><td>6 </td><td>8 </td><td>9 </td><td>12</td><td>14</td><td>11</td><td>20</td><td>19</td><td>16</td><td>10</td><td>17</td><td>15</td><td>13</td></tr>\n",
       "\t<tr><td>1</td><td>7</td><td>2 </td><td>4 </td><td>5 </td><td>18</td><td>3 </td><td>6 </td><td>8 </td><td>9 </td><td>12</td><td>14</td><td>19</td><td>20</td><td>16</td><td>10</td><td>17</td><td>15</td><td>13</td><td>  </td></tr>\n",
       "\t<tr><td>7</td><td>1</td><td>2 </td><td>4 </td><td>18</td><td>5 </td><td>3 </td><td>6 </td><td>8 </td><td>9 </td><td>12</td><td>14</td><td>19</td><td>20</td><td>16</td><td>10</td><td>17</td><td>15</td><td>13</td><td>  </td></tr>\n",
       "\t<tr><td>7</td><td>2</td><td>1 </td><td>18</td><td>4 </td><td>5 </td><td>6 </td><td>3 </td><td>8 </td><td>9 </td><td>12</td><td>14</td><td>19</td><td>20</td><td>10</td><td>16</td><td>17</td><td>15</td><td>13</td><td>  </td></tr>\n",
       "\t<tr><td>7</td><td>2</td><td>1 </td><td>18</td><td>4 </td><td>5 </td><td>6 </td><td>3 </td><td>8 </td><td>9 </td><td>12</td><td>14</td><td>19</td><td>20</td><td>10</td><td>16</td><td>17</td><td>15</td><td>13</td><td>  </td></tr>\n",
       "\t<tr><td>7</td><td>2</td><td>1 </td><td>18</td><td>4 </td><td>5 </td><td>6 </td><td>3 </td><td>8 </td><td>9 </td><td>12</td><td>14</td><td>19</td><td>20</td><td>16</td><td>17</td><td>15</td><td>10</td><td>13</td><td>  </td></tr>\n",
       "\t<tr><td>7</td><td>2</td><td>1 </td><td>18</td><td>4 </td><td>5 </td><td>6 </td><td>3 </td><td>8 </td><td>9 </td><td>12</td><td>19</td><td>14</td><td>20</td><td>17</td><td>16</td><td>15</td><td>13</td><td>10</td><td>  </td></tr>\n",
       "\t<tr><td>7</td><td>2</td><td>1 </td><td>18</td><td>4 </td><td>5 </td><td>6 </td><td>3 </td><td>8 </td><td>9 </td><td>19</td><td>12</td><td>14</td><td>20</td><td>17</td><td>16</td><td>15</td><td>13</td><td>10</td><td>  </td></tr>\n",
       "\t<tr><td>7</td><td>2</td><td>1 </td><td>18</td><td>4 </td><td>3 </td><td>6 </td><td>8 </td><td>5 </td><td>19</td><td>9 </td><td>14</td><td>20</td><td>12</td><td>17</td><td>15</td><td>16</td><td>13</td><td>10</td><td>  </td></tr>\n",
       "\t<tr><td>7</td><td>2</td><td>1 </td><td>18</td><td>3 </td><td>6 </td><td>4 </td><td>19</td><td>8 </td><td>14</td><td>17</td><td>20</td><td>15</td><td>16</td><td>13</td><td>5 </td><td>9 </td><td>12</td><td>10</td><td>  </td></tr>\n",
       "\t<tr><td>7</td><td>2</td><td>1 </td><td>18</td><td>3 </td><td>6 </td><td>19</td><td>17</td><td>15</td><td>13</td><td>16</td><td>4 </td><td>5 </td><td>8 </td><td>9 </td><td>14</td><td>12</td><td>20</td><td>10</td><td>  </td></tr>\n",
       "\t<tr><td>7</td><td>2</td><td>1 </td><td>18</td><td>3 </td><td>6 </td><td>19</td><td>17</td><td>15</td><td>13</td><td>16</td><td>4 </td><td>5 </td><td>8 </td><td>9 </td><td>14</td><td>20</td><td>12</td><td>10</td><td>  </td></tr>\n",
       "\t<tr><td>7</td><td>2</td><td>1 </td><td>18</td><td>3 </td><td>6 </td><td>19</td><td>17</td><td>13</td><td>15</td><td>16</td><td>4 </td><td>5 </td><td>8 </td><td>9 </td><td>14</td><td>20</td><td>12</td><td>10</td><td>  </td></tr>\n",
       "\t<tr><td>7</td><td>1</td><td>2 </td><td>18</td><td>3 </td><td>6 </td><td>19</td><td>17</td><td>13</td><td>15</td><td>16</td><td>4 </td><td>5 </td><td>8 </td><td>9 </td><td>14</td><td>20</td><td>12</td><td>10</td><td>  </td></tr>\n",
       "\t<tr><td>7</td><td>1</td><td>18</td><td>2 </td><td>3 </td><td>6 </td><td>19</td><td>13</td><td>17</td><td>15</td><td>4 </td><td>5 </td><td>8 </td><td>16</td><td>9 </td><td>14</td><td>20</td><td>10</td><td>12</td><td>  </td></tr>\n",
       "\t<tr><td>7</td><td>1</td><td>18</td><td>2 </td><td>3 </td><td>6 </td><td>19</td><td>13</td><td>17</td><td>15</td><td>4 </td><td>5 </td><td>8 </td><td>9 </td><td>14</td><td>20</td><td>10</td><td>12</td><td>16</td><td>  </td></tr>\n",
       "\t<tr><td>1</td><td>7</td><td>18</td><td>2 </td><td>3 </td><td>6 </td><td>19</td><td>13</td><td>17</td><td>15</td><td>4 </td><td>5 </td><td>8 </td><td>9 </td><td>14</td><td>20</td><td>10</td><td>12</td><td>16</td><td>  </td></tr>\n",
       "\t<tr><td>1</td><td>7</td><td>18</td><td>2 </td><td>3 </td><td>19</td><td>6 </td><td>13</td><td>17</td><td>15</td><td>4 </td><td>5 </td><td>8 </td><td>9 </td><td>14</td><td>20</td><td>10</td><td>12</td><td>16</td><td>  </td></tr>\n",
       "\t<tr><td>1</td><td>7</td><td>18</td><td>2 </td><td>3 </td><td>19</td><td>6 </td><td>13</td><td>17</td><td>15</td><td>4 </td><td>5 </td><td>8 </td><td>9 </td><td>14</td><td>20</td><td>10</td><td>12</td><td>16</td><td>  </td></tr>\n",
       "\t<tr><td>1</td><td>7</td><td>18</td><td>2 </td><td>3 </td><td>19</td><td>6 </td><td>13</td><td>17</td><td>15</td><td>4 </td><td>5 </td><td>8 </td><td>9 </td><td>14</td><td>20</td><td>10</td><td>12</td><td>16</td><td>  </td></tr>\n",
       "\t<tr><td>1</td><td>7</td><td>2 </td><td>18</td><td>3 </td><td>19</td><td>6 </td><td>13</td><td>17</td><td>15</td><td>4 </td><td>5 </td><td>8 </td><td>9 </td><td>14</td><td>20</td><td>10</td><td>12</td><td>16</td><td>  </td></tr>\n",
       "\t<tr><td>1</td><td>7</td><td>2 </td><td>3 </td><td>19</td><td>13</td><td>18</td><td>6 </td><td>17</td><td>15</td><td>4 </td><td>5 </td><td>8 </td><td>9 </td><td>14</td><td>20</td><td>10</td><td>12</td><td>16</td><td>  </td></tr>\n",
       "\t<tr><td>1</td><td>7</td><td>2 </td><td>3 </td><td>19</td><td>13</td><td>18</td><td>17</td><td>15</td><td>4 </td><td>5 </td><td>8 </td><td>9 </td><td>14</td><td>20</td><td>10</td><td>12</td><td>16</td><td>  </td><td>  </td></tr>\n",
       "\t<tr><td>1</td><td>7</td><td>2 </td><td>3 </td><td>18</td><td>13</td><td>19</td><td>15</td><td>17</td><td>4 </td><td>5 </td><td>8 </td><td>9 </td><td>14</td><td>20</td><td>10</td><td>12</td><td>16</td><td>  </td><td>  </td></tr>\n",
       "\t<tr><td>7</td><td>1</td><td>2 </td><td>3 </td><td>18</td><td>13</td><td>15</td><td>4 </td><td>5 </td><td>8 </td><td>9 </td><td>19</td><td>14</td><td>20</td><td>10</td><td>12</td><td>17</td><td>16</td><td>  </td><td>  </td></tr>\n",
       "\t<tr><td>7</td><td>1</td><td>2 </td><td>3 </td><td>18</td><td>13</td><td>4 </td><td>5 </td><td>19</td><td>8 </td><td>15</td><td>9 </td><td>14</td><td>20</td><td>10</td><td>17</td><td>12</td><td>16</td><td>  </td><td>  </td></tr>\n",
       "\t<tr><td>7</td><td>1</td><td>2 </td><td>18</td><td>13</td><td>4 </td><td>19</td><td>5 </td><td>3 </td><td>8 </td><td>9 </td><td>14</td><td>20</td><td>10</td><td>17</td><td>12</td><td>15</td><td>16</td><td>  </td><td>  </td></tr>\n",
       "\t<tr><td>7</td><td>1</td><td>2 </td><td>18</td><td>13</td><td>19</td><td>3 </td><td>4 </td><td>5 </td><td>8 </td><td>9 </td><td>14</td><td>20</td><td>10</td><td>17</td><td>15</td><td>12</td><td>16</td><td>  </td><td>  </td></tr>\n",
       "\t<tr><td>7</td><td>1</td><td>2 </td><td>18</td><td>13</td><td>19</td><td>3 </td><td>4 </td><td>5 </td><td>8 </td><td>9 </td><td>14</td><td>20</td><td>10</td><td>17</td><td>15</td><td>12</td><td>16</td><td>  </td><td>  </td></tr>\n",
       "\t<tr><td>7</td><td>1</td><td>2 </td><td>18</td><td>13</td><td>19</td><td>3 </td><td>4 </td><td>5 </td><td>8 </td><td>9 </td><td>14</td><td>20</td><td>10</td><td>17</td><td>15</td><td>12</td><td>16</td><td>  </td><td>  </td></tr>\n",
       "\t<tr><td>7</td><td>1</td><td>2 </td><td>18</td><td>13</td><td>19</td><td>3 </td><td>4 </td><td>5 </td><td>8 </td><td>9 </td><td>14</td><td>20</td><td>10</td><td>17</td><td>15</td><td>16</td><td>  </td><td>  </td><td>  </td></tr>\n",
       "\t<tr><td>7</td><td>1</td><td>2 </td><td>18</td><td>13</td><td>19</td><td>3 </td><td>4 </td><td>5 </td><td>8 </td><td>9 </td><td>14</td><td>20</td><td>17</td><td>10</td><td>15</td><td>16</td><td>  </td><td>  </td><td>  </td></tr>\n",
       "\t<tr><td>7</td><td>1</td><td>2 </td><td>18</td><td>13</td><td>19</td><td>3 </td><td>4 </td><td>5 </td><td>8 </td><td>9 </td><td>14</td><td>20</td><td>17</td><td>15</td><td>10</td><td>16</td><td>  </td><td>  </td><td>  </td></tr>\n",
       "\t<tr><td>7</td><td>1</td><td>2 </td><td>18</td><td>19</td><td>3 </td><td>13</td><td>4 </td><td>5 </td><td>8 </td><td>9 </td><td>14</td><td>20</td><td>17</td><td>15</td><td>10</td><td>16</td><td>  </td><td>  </td><td>  </td></tr>\n",
       "\t<tr><td>7</td><td>1</td><td>2 </td><td>18</td><td>19</td><td>3 </td><td>13</td><td>4 </td><td>5 </td><td>8 </td><td>9 </td><td>14</td><td>20</td><td>17</td><td>15</td><td>10</td><td>16</td><td>  </td><td>  </td><td>  </td></tr>\n",
       "\t<tr><td>7</td><td>1</td><td>2 </td><td>18</td><td>19</td><td>3 </td><td>13</td><td>4 </td><td>5 </td><td>8 </td><td>9 </td><td>14</td><td>17</td><td>20</td><td>15</td><td>10</td><td>16</td><td>  </td><td>  </td><td>  </td></tr>\n",
       "\t<tr><td>7</td><td>1</td><td>2 </td><td>18</td><td>19</td><td>3 </td><td>13</td><td>5 </td><td>8 </td><td>9 </td><td>14</td><td>17</td><td>20</td><td>15</td><td>10</td><td>16</td><td>  </td><td>  </td><td>  </td><td>  </td></tr>\n",
       "\t<tr><td>7</td><td>1</td><td>2 </td><td>18</td><td>19</td><td>3 </td><td>13</td><td>5 </td><td>8 </td><td>9 </td><td>14</td><td>17</td><td>15</td><td>20</td><td>10</td><td>16</td><td>  </td><td>  </td><td>  </td><td>  </td></tr>\n",
       "\t<tr><td>7</td><td>1</td><td>2 </td><td>18</td><td>19</td><td>13</td><td>3 </td><td>5 </td><td>8 </td><td>9 </td><td>14</td><td>17</td><td>15</td><td>20</td><td>10</td><td>16</td><td>  </td><td>  </td><td>  </td><td>  </td></tr>\n",
       "\t<tr><td>7</td><td>1</td><td>2 </td><td>18</td><td>19</td><td>13</td><td>3 </td><td>5 </td><td>8 </td><td>9 </td><td>14</td><td>17</td><td>15</td><td>20</td><td>10</td><td>16</td><td>  </td><td>  </td><td>  </td><td>  </td></tr>\n",
       "\t<tr><td>7</td><td>1</td><td>2 </td><td>18</td><td>19</td><td>13</td><td>3 </td><td>5 </td><td>8 </td><td>9 </td><td>14</td><td>17</td><td>15</td><td>20</td><td>10</td><td>16</td><td>  </td><td>  </td><td>  </td><td>  </td></tr>\n",
       "\t<tr><td>7</td><td>1</td><td>2 </td><td>18</td><td>19</td><td>13</td><td>3 </td><td>5 </td><td>8 </td><td>9 </td><td>14</td><td>17</td><td>15</td><td>20</td><td>10</td><td>16</td><td>  </td><td>  </td><td>  </td><td>  </td></tr>\n",
       "\t<tr><td>7</td><td>1</td><td>2 </td><td>18</td><td>19</td><td>13</td><td>3 </td><td>5 </td><td>8 </td><td>9 </td><td>14</td><td>17</td><td>15</td><td>20</td><td>10</td><td>16</td><td>  </td><td>  </td><td>  </td><td>  </td></tr>\n",
       "\t<tr><td>7</td><td>1</td><td>2 </td><td>18</td><td>19</td><td>13</td><td>3 </td><td>5 </td><td>8 </td><td>9 </td><td>14</td><td>17</td><td>  </td><td>  </td><td>  </td><td>  </td><td>  </td><td>  </td><td>  </td><td>  </td></tr>\n",
       "</tbody>\n",
       "</table>\n"
      ],
      "text/latex": [
       "A tibble: 53 × 20\n",
       "\\begin{tabular}{llllllllllllllllllll}\n",
       " LEC1 & RUS2 & NOR3 & RIC4 & GAS5 & ALO6 & VER7 & DEV8 & ZHO9 & LAT10 & VET11 & STR12 & PER13 & OCO14 & BOT15 & MAG16 & MSC17 & SAI18 & HAM19 & TSU20\\\\\n",
       " <chr> & <chr> & <chr> & <chr> & <chr> & <chr> & <chr> & <chr> & <chr> & <chr> & <chr> & <chr> & <chr> & <chr> & <chr> & <chr> & <chr> & <chr> & <chr> & <chr>\\\\\n",
       "\\hline\n",
       "\t 1 & 2 & 4  & 7  & 5  & 3  & 6  & 8  & 9  & 11 & 12 & 16 & 14 & 10 & 13 & 18 & 17 & 20 & 19 & 15\\\\\n",
       "\t 1 & 2 & 7  & 4  & 5  & 3  & 6  & 8  & 9  & 12 & 11 & 14 & 16 & 18 & 10 & 13 & 20 & 19 & 17 & 15\\\\\n",
       "\t 1 & 2 & 7  & 4  & 5  & 3  & 6  & 8  & 9  & 12 & 11 & 14 & 16 & 18 & 13 & 10 & 20 & 19 & 17 & 15\\\\\n",
       "\t 1 & 2 & 7  & 4  & 5  & 3  & 6  & 8  & 9  & 12 & 11 & 14 & 18 & 13 & 16 & 10 & 20 & 19 & 17 & 15\\\\\n",
       "\t 1 & 7 & 2  & 4  & 5  & 3  & 6  & 8  & 9  & 12 & 18 & 11 & 14 & 13 & 16 & 10 & 20 & 19 & 17 & 15\\\\\n",
       "\t 1 & 7 & 2  & 4  & 5  & 3  & 6  & 8  & 9  & 18 & 12 & 11 & 13 & 14 & 16 & 10 & 20 & 19 & 17 & 15\\\\\n",
       "\t 1 & 7 & 2  & 4  & 5  & 3  & 6  & 8  & 9  & 18 & 12 & 11 & 14 & 16 & 20 & 10 & 19 & 13 & 17 & 15\\\\\n",
       "\t 1 & 7 & 2  & 4  & 5  & 3  & 6  & 8  & 18 & 9  & 12 & 11 & 14 & 20 & 16 & 19 & 10 & 17 & 15 & 13\\\\\n",
       "\t 1 & 7 & 2  & 4  & 5  & 3  & 6  & 18 & 8  & 9  & 12 & 11 & 14 & 20 & 19 & 16 & 10 & 17 & 15 & 13\\\\\n",
       "\t 1 & 7 & 2  & 4  & 5  & 3  & 18 & 6  & 8  & 9  & 12 & 14 & 11 & 20 & 19 & 16 & 10 & 17 & 15 & 13\\\\\n",
       "\t 1 & 7 & 2  & 4  & 5  & 18 & 3  & 6  & 8  & 9  & 12 & 14 & 19 & 20 & 16 & 10 & 17 & 15 & 13 &   \\\\\n",
       "\t 7 & 1 & 2  & 4  & 18 & 5  & 3  & 6  & 8  & 9  & 12 & 14 & 19 & 20 & 16 & 10 & 17 & 15 & 13 &   \\\\\n",
       "\t 7 & 2 & 1  & 18 & 4  & 5  & 6  & 3  & 8  & 9  & 12 & 14 & 19 & 20 & 10 & 16 & 17 & 15 & 13 &   \\\\\n",
       "\t 7 & 2 & 1  & 18 & 4  & 5  & 6  & 3  & 8  & 9  & 12 & 14 & 19 & 20 & 10 & 16 & 17 & 15 & 13 &   \\\\\n",
       "\t 7 & 2 & 1  & 18 & 4  & 5  & 6  & 3  & 8  & 9  & 12 & 14 & 19 & 20 & 16 & 17 & 15 & 10 & 13 &   \\\\\n",
       "\t 7 & 2 & 1  & 18 & 4  & 5  & 6  & 3  & 8  & 9  & 12 & 19 & 14 & 20 & 17 & 16 & 15 & 13 & 10 &   \\\\\n",
       "\t 7 & 2 & 1  & 18 & 4  & 5  & 6  & 3  & 8  & 9  & 19 & 12 & 14 & 20 & 17 & 16 & 15 & 13 & 10 &   \\\\\n",
       "\t 7 & 2 & 1  & 18 & 4  & 3  & 6  & 8  & 5  & 19 & 9  & 14 & 20 & 12 & 17 & 15 & 16 & 13 & 10 &   \\\\\n",
       "\t 7 & 2 & 1  & 18 & 3  & 6  & 4  & 19 & 8  & 14 & 17 & 20 & 15 & 16 & 13 & 5  & 9  & 12 & 10 &   \\\\\n",
       "\t 7 & 2 & 1  & 18 & 3  & 6  & 19 & 17 & 15 & 13 & 16 & 4  & 5  & 8  & 9  & 14 & 12 & 20 & 10 &   \\\\\n",
       "\t 7 & 2 & 1  & 18 & 3  & 6  & 19 & 17 & 15 & 13 & 16 & 4  & 5  & 8  & 9  & 14 & 20 & 12 & 10 &   \\\\\n",
       "\t 7 & 2 & 1  & 18 & 3  & 6  & 19 & 17 & 13 & 15 & 16 & 4  & 5  & 8  & 9  & 14 & 20 & 12 & 10 &   \\\\\n",
       "\t 7 & 1 & 2  & 18 & 3  & 6  & 19 & 17 & 13 & 15 & 16 & 4  & 5  & 8  & 9  & 14 & 20 & 12 & 10 &   \\\\\n",
       "\t 7 & 1 & 18 & 2  & 3  & 6  & 19 & 13 & 17 & 15 & 4  & 5  & 8  & 16 & 9  & 14 & 20 & 10 & 12 &   \\\\\n",
       "\t 7 & 1 & 18 & 2  & 3  & 6  & 19 & 13 & 17 & 15 & 4  & 5  & 8  & 9  & 14 & 20 & 10 & 12 & 16 &   \\\\\n",
       "\t 1 & 7 & 18 & 2  & 3  & 6  & 19 & 13 & 17 & 15 & 4  & 5  & 8  & 9  & 14 & 20 & 10 & 12 & 16 &   \\\\\n",
       "\t 1 & 7 & 18 & 2  & 3  & 19 & 6  & 13 & 17 & 15 & 4  & 5  & 8  & 9  & 14 & 20 & 10 & 12 & 16 &   \\\\\n",
       "\t 1 & 7 & 18 & 2  & 3  & 19 & 6  & 13 & 17 & 15 & 4  & 5  & 8  & 9  & 14 & 20 & 10 & 12 & 16 &   \\\\\n",
       "\t 1 & 7 & 18 & 2  & 3  & 19 & 6  & 13 & 17 & 15 & 4  & 5  & 8  & 9  & 14 & 20 & 10 & 12 & 16 &   \\\\\n",
       "\t 1 & 7 & 2  & 18 & 3  & 19 & 6  & 13 & 17 & 15 & 4  & 5  & 8  & 9  & 14 & 20 & 10 & 12 & 16 &   \\\\\n",
       "\t 1 & 7 & 2  & 3  & 19 & 13 & 18 & 6  & 17 & 15 & 4  & 5  & 8  & 9  & 14 & 20 & 10 & 12 & 16 &   \\\\\n",
       "\t 1 & 7 & 2  & 3  & 19 & 13 & 18 & 17 & 15 & 4  & 5  & 8  & 9  & 14 & 20 & 10 & 12 & 16 &    &   \\\\\n",
       "\t 1 & 7 & 2  & 3  & 18 & 13 & 19 & 15 & 17 & 4  & 5  & 8  & 9  & 14 & 20 & 10 & 12 & 16 &    &   \\\\\n",
       "\t 7 & 1 & 2  & 3  & 18 & 13 & 15 & 4  & 5  & 8  & 9  & 19 & 14 & 20 & 10 & 12 & 17 & 16 &    &   \\\\\n",
       "\t 7 & 1 & 2  & 3  & 18 & 13 & 4  & 5  & 19 & 8  & 15 & 9  & 14 & 20 & 10 & 17 & 12 & 16 &    &   \\\\\n",
       "\t 7 & 1 & 2  & 18 & 13 & 4  & 19 & 5  & 3  & 8  & 9  & 14 & 20 & 10 & 17 & 12 & 15 & 16 &    &   \\\\\n",
       "\t 7 & 1 & 2  & 18 & 13 & 19 & 3  & 4  & 5  & 8  & 9  & 14 & 20 & 10 & 17 & 15 & 12 & 16 &    &   \\\\\n",
       "\t 7 & 1 & 2  & 18 & 13 & 19 & 3  & 4  & 5  & 8  & 9  & 14 & 20 & 10 & 17 & 15 & 12 & 16 &    &   \\\\\n",
       "\t 7 & 1 & 2  & 18 & 13 & 19 & 3  & 4  & 5  & 8  & 9  & 14 & 20 & 10 & 17 & 15 & 12 & 16 &    &   \\\\\n",
       "\t 7 & 1 & 2  & 18 & 13 & 19 & 3  & 4  & 5  & 8  & 9  & 14 & 20 & 10 & 17 & 15 & 16 &    &    &   \\\\\n",
       "\t 7 & 1 & 2  & 18 & 13 & 19 & 3  & 4  & 5  & 8  & 9  & 14 & 20 & 17 & 10 & 15 & 16 &    &    &   \\\\\n",
       "\t 7 & 1 & 2  & 18 & 13 & 19 & 3  & 4  & 5  & 8  & 9  & 14 & 20 & 17 & 15 & 10 & 16 &    &    &   \\\\\n",
       "\t 7 & 1 & 2  & 18 & 19 & 3  & 13 & 4  & 5  & 8  & 9  & 14 & 20 & 17 & 15 & 10 & 16 &    &    &   \\\\\n",
       "\t 7 & 1 & 2  & 18 & 19 & 3  & 13 & 4  & 5  & 8  & 9  & 14 & 20 & 17 & 15 & 10 & 16 &    &    &   \\\\\n",
       "\t 7 & 1 & 2  & 18 & 19 & 3  & 13 & 4  & 5  & 8  & 9  & 14 & 17 & 20 & 15 & 10 & 16 &    &    &   \\\\\n",
       "\t 7 & 1 & 2  & 18 & 19 & 3  & 13 & 5  & 8  & 9  & 14 & 17 & 20 & 15 & 10 & 16 &    &    &    &   \\\\\n",
       "\t 7 & 1 & 2  & 18 & 19 & 3  & 13 & 5  & 8  & 9  & 14 & 17 & 15 & 20 & 10 & 16 &    &    &    &   \\\\\n",
       "\t 7 & 1 & 2  & 18 & 19 & 13 & 3  & 5  & 8  & 9  & 14 & 17 & 15 & 20 & 10 & 16 &    &    &    &   \\\\\n",
       "\t 7 & 1 & 2  & 18 & 19 & 13 & 3  & 5  & 8  & 9  & 14 & 17 & 15 & 20 & 10 & 16 &    &    &    &   \\\\\n",
       "\t 7 & 1 & 2  & 18 & 19 & 13 & 3  & 5  & 8  & 9  & 14 & 17 & 15 & 20 & 10 & 16 &    &    &    &   \\\\\n",
       "\t 7 & 1 & 2  & 18 & 19 & 13 & 3  & 5  & 8  & 9  & 14 & 17 & 15 & 20 & 10 & 16 &    &    &    &   \\\\\n",
       "\t 7 & 1 & 2  & 18 & 19 & 13 & 3  & 5  & 8  & 9  & 14 & 17 & 15 & 20 & 10 & 16 &    &    &    &   \\\\\n",
       "\t 7 & 1 & 2  & 18 & 19 & 13 & 3  & 5  & 8  & 9  & 14 & 17 &    &    &    &    &    &    &    &   \\\\\n",
       "\\end{tabular}\n"
      ],
      "text/markdown": [
       "\n",
       "A tibble: 53 × 20\n",
       "\n",
       "| LEC1 &lt;chr&gt; | RUS2 &lt;chr&gt; | NOR3 &lt;chr&gt; | RIC4 &lt;chr&gt; | GAS5 &lt;chr&gt; | ALO6 &lt;chr&gt; | VER7 &lt;chr&gt; | DEV8 &lt;chr&gt; | ZHO9 &lt;chr&gt; | LAT10 &lt;chr&gt; | VET11 &lt;chr&gt; | STR12 &lt;chr&gt; | PER13 &lt;chr&gt; | OCO14 &lt;chr&gt; | BOT15 &lt;chr&gt; | MAG16 &lt;chr&gt; | MSC17 &lt;chr&gt; | SAI18 &lt;chr&gt; | HAM19 &lt;chr&gt; | TSU20 &lt;chr&gt; |\n",
       "|---|---|---|---|---|---|---|---|---|---|---|---|---|---|---|---|---|---|---|---|\n",
       "| 1 | 2 | 4  | 7  | 5  | 3  | 6  | 8  | 9  | 11 | 12 | 16 | 14 | 10 | 13 | 18 | 17 | 20 | 19 | 15 |\n",
       "| 1 | 2 | 7  | 4  | 5  | 3  | 6  | 8  | 9  | 12 | 11 | 14 | 16 | 18 | 10 | 13 | 20 | 19 | 17 | 15 |\n",
       "| 1 | 2 | 7  | 4  | 5  | 3  | 6  | 8  | 9  | 12 | 11 | 14 | 16 | 18 | 13 | 10 | 20 | 19 | 17 | 15 |\n",
       "| 1 | 2 | 7  | 4  | 5  | 3  | 6  | 8  | 9  | 12 | 11 | 14 | 18 | 13 | 16 | 10 | 20 | 19 | 17 | 15 |\n",
       "| 1 | 7 | 2  | 4  | 5  | 3  | 6  | 8  | 9  | 12 | 18 | 11 | 14 | 13 | 16 | 10 | 20 | 19 | 17 | 15 |\n",
       "| 1 | 7 | 2  | 4  | 5  | 3  | 6  | 8  | 9  | 18 | 12 | 11 | 13 | 14 | 16 | 10 | 20 | 19 | 17 | 15 |\n",
       "| 1 | 7 | 2  | 4  | 5  | 3  | 6  | 8  | 9  | 18 | 12 | 11 | 14 | 16 | 20 | 10 | 19 | 13 | 17 | 15 |\n",
       "| 1 | 7 | 2  | 4  | 5  | 3  | 6  | 8  | 18 | 9  | 12 | 11 | 14 | 20 | 16 | 19 | 10 | 17 | 15 | 13 |\n",
       "| 1 | 7 | 2  | 4  | 5  | 3  | 6  | 18 | 8  | 9  | 12 | 11 | 14 | 20 | 19 | 16 | 10 | 17 | 15 | 13 |\n",
       "| 1 | 7 | 2  | 4  | 5  | 3  | 18 | 6  | 8  | 9  | 12 | 14 | 11 | 20 | 19 | 16 | 10 | 17 | 15 | 13 |\n",
       "| 1 | 7 | 2  | 4  | 5  | 18 | 3  | 6  | 8  | 9  | 12 | 14 | 19 | 20 | 16 | 10 | 17 | 15 | 13 | <!----> |\n",
       "| 7 | 1 | 2  | 4  | 18 | 5  | 3  | 6  | 8  | 9  | 12 | 14 | 19 | 20 | 16 | 10 | 17 | 15 | 13 | <!----> |\n",
       "| 7 | 2 | 1  | 18 | 4  | 5  | 6  | 3  | 8  | 9  | 12 | 14 | 19 | 20 | 10 | 16 | 17 | 15 | 13 | <!----> |\n",
       "| 7 | 2 | 1  | 18 | 4  | 5  | 6  | 3  | 8  | 9  | 12 | 14 | 19 | 20 | 10 | 16 | 17 | 15 | 13 | <!----> |\n",
       "| 7 | 2 | 1  | 18 | 4  | 5  | 6  | 3  | 8  | 9  | 12 | 14 | 19 | 20 | 16 | 17 | 15 | 10 | 13 | <!----> |\n",
       "| 7 | 2 | 1  | 18 | 4  | 5  | 6  | 3  | 8  | 9  | 12 | 19 | 14 | 20 | 17 | 16 | 15 | 13 | 10 | <!----> |\n",
       "| 7 | 2 | 1  | 18 | 4  | 5  | 6  | 3  | 8  | 9  | 19 | 12 | 14 | 20 | 17 | 16 | 15 | 13 | 10 | <!----> |\n",
       "| 7 | 2 | 1  | 18 | 4  | 3  | 6  | 8  | 5  | 19 | 9  | 14 | 20 | 12 | 17 | 15 | 16 | 13 | 10 | <!----> |\n",
       "| 7 | 2 | 1  | 18 | 3  | 6  | 4  | 19 | 8  | 14 | 17 | 20 | 15 | 16 | 13 | 5  | 9  | 12 | 10 | <!----> |\n",
       "| 7 | 2 | 1  | 18 | 3  | 6  | 19 | 17 | 15 | 13 | 16 | 4  | 5  | 8  | 9  | 14 | 12 | 20 | 10 | <!----> |\n",
       "| 7 | 2 | 1  | 18 | 3  | 6  | 19 | 17 | 15 | 13 | 16 | 4  | 5  | 8  | 9  | 14 | 20 | 12 | 10 | <!----> |\n",
       "| 7 | 2 | 1  | 18 | 3  | 6  | 19 | 17 | 13 | 15 | 16 | 4  | 5  | 8  | 9  | 14 | 20 | 12 | 10 | <!----> |\n",
       "| 7 | 1 | 2  | 18 | 3  | 6  | 19 | 17 | 13 | 15 | 16 | 4  | 5  | 8  | 9  | 14 | 20 | 12 | 10 | <!----> |\n",
       "| 7 | 1 | 18 | 2  | 3  | 6  | 19 | 13 | 17 | 15 | 4  | 5  | 8  | 16 | 9  | 14 | 20 | 10 | 12 | <!----> |\n",
       "| 7 | 1 | 18 | 2  | 3  | 6  | 19 | 13 | 17 | 15 | 4  | 5  | 8  | 9  | 14 | 20 | 10 | 12 | 16 | <!----> |\n",
       "| 1 | 7 | 18 | 2  | 3  | 6  | 19 | 13 | 17 | 15 | 4  | 5  | 8  | 9  | 14 | 20 | 10 | 12 | 16 | <!----> |\n",
       "| 1 | 7 | 18 | 2  | 3  | 19 | 6  | 13 | 17 | 15 | 4  | 5  | 8  | 9  | 14 | 20 | 10 | 12 | 16 | <!----> |\n",
       "| 1 | 7 | 18 | 2  | 3  | 19 | 6  | 13 | 17 | 15 | 4  | 5  | 8  | 9  | 14 | 20 | 10 | 12 | 16 | <!----> |\n",
       "| 1 | 7 | 18 | 2  | 3  | 19 | 6  | 13 | 17 | 15 | 4  | 5  | 8  | 9  | 14 | 20 | 10 | 12 | 16 | <!----> |\n",
       "| 1 | 7 | 2  | 18 | 3  | 19 | 6  | 13 | 17 | 15 | 4  | 5  | 8  | 9  | 14 | 20 | 10 | 12 | 16 | <!----> |\n",
       "| 1 | 7 | 2  | 3  | 19 | 13 | 18 | 6  | 17 | 15 | 4  | 5  | 8  | 9  | 14 | 20 | 10 | 12 | 16 | <!----> |\n",
       "| 1 | 7 | 2  | 3  | 19 | 13 | 18 | 17 | 15 | 4  | 5  | 8  | 9  | 14 | 20 | 10 | 12 | 16 | <!----> | <!----> |\n",
       "| 1 | 7 | 2  | 3  | 18 | 13 | 19 | 15 | 17 | 4  | 5  | 8  | 9  | 14 | 20 | 10 | 12 | 16 | <!----> | <!----> |\n",
       "| 7 | 1 | 2  | 3  | 18 | 13 | 15 | 4  | 5  | 8  | 9  | 19 | 14 | 20 | 10 | 12 | 17 | 16 | <!----> | <!----> |\n",
       "| 7 | 1 | 2  | 3  | 18 | 13 | 4  | 5  | 19 | 8  | 15 | 9  | 14 | 20 | 10 | 17 | 12 | 16 | <!----> | <!----> |\n",
       "| 7 | 1 | 2  | 18 | 13 | 4  | 19 | 5  | 3  | 8  | 9  | 14 | 20 | 10 | 17 | 12 | 15 | 16 | <!----> | <!----> |\n",
       "| 7 | 1 | 2  | 18 | 13 | 19 | 3  | 4  | 5  | 8  | 9  | 14 | 20 | 10 | 17 | 15 | 12 | 16 | <!----> | <!----> |\n",
       "| 7 | 1 | 2  | 18 | 13 | 19 | 3  | 4  | 5  | 8  | 9  | 14 | 20 | 10 | 17 | 15 | 12 | 16 | <!----> | <!----> |\n",
       "| 7 | 1 | 2  | 18 | 13 | 19 | 3  | 4  | 5  | 8  | 9  | 14 | 20 | 10 | 17 | 15 | 12 | 16 | <!----> | <!----> |\n",
       "| 7 | 1 | 2  | 18 | 13 | 19 | 3  | 4  | 5  | 8  | 9  | 14 | 20 | 10 | 17 | 15 | 16 | <!----> | <!----> | <!----> |\n",
       "| 7 | 1 | 2  | 18 | 13 | 19 | 3  | 4  | 5  | 8  | 9  | 14 | 20 | 17 | 10 | 15 | 16 | <!----> | <!----> | <!----> |\n",
       "| 7 | 1 | 2  | 18 | 13 | 19 | 3  | 4  | 5  | 8  | 9  | 14 | 20 | 17 | 15 | 10 | 16 | <!----> | <!----> | <!----> |\n",
       "| 7 | 1 | 2  | 18 | 19 | 3  | 13 | 4  | 5  | 8  | 9  | 14 | 20 | 17 | 15 | 10 | 16 | <!----> | <!----> | <!----> |\n",
       "| 7 | 1 | 2  | 18 | 19 | 3  | 13 | 4  | 5  | 8  | 9  | 14 | 20 | 17 | 15 | 10 | 16 | <!----> | <!----> | <!----> |\n",
       "| 7 | 1 | 2  | 18 | 19 | 3  | 13 | 4  | 5  | 8  | 9  | 14 | 17 | 20 | 15 | 10 | 16 | <!----> | <!----> | <!----> |\n",
       "| 7 | 1 | 2  | 18 | 19 | 3  | 13 | 5  | 8  | 9  | 14 | 17 | 20 | 15 | 10 | 16 | <!----> | <!----> | <!----> | <!----> |\n",
       "| 7 | 1 | 2  | 18 | 19 | 3  | 13 | 5  | 8  | 9  | 14 | 17 | 15 | 20 | 10 | 16 | <!----> | <!----> | <!----> | <!----> |\n",
       "| 7 | 1 | 2  | 18 | 19 | 13 | 3  | 5  | 8  | 9  | 14 | 17 | 15 | 20 | 10 | 16 | <!----> | <!----> | <!----> | <!----> |\n",
       "| 7 | 1 | 2  | 18 | 19 | 13 | 3  | 5  | 8  | 9  | 14 | 17 | 15 | 20 | 10 | 16 | <!----> | <!----> | <!----> | <!----> |\n",
       "| 7 | 1 | 2  | 18 | 19 | 13 | 3  | 5  | 8  | 9  | 14 | 17 | 15 | 20 | 10 | 16 | <!----> | <!----> | <!----> | <!----> |\n",
       "| 7 | 1 | 2  | 18 | 19 | 13 | 3  | 5  | 8  | 9  | 14 | 17 | 15 | 20 | 10 | 16 | <!----> | <!----> | <!----> | <!----> |\n",
       "| 7 | 1 | 2  | 18 | 19 | 13 | 3  | 5  | 8  | 9  | 14 | 17 | 15 | 20 | 10 | 16 | <!----> | <!----> | <!----> | <!----> |\n",
       "| 7 | 1 | 2  | 18 | 19 | 13 | 3  | 5  | 8  | 9  | 14 | 17 | <!----> | <!----> | <!----> | <!----> | <!----> | <!----> | <!----> | <!----> |\n",
       "\n"
      ],
      "text/plain": [
       "   LEC1 RUS2 NOR3 RIC4 GAS5 ALO6 VER7 DEV8 ZHO9 LAT10 VET11 STR12 PER13 OCO14\n",
       "1  1    2    4    7    5    3    6    8    9    11    12    16    14    10   \n",
       "2  1    2    7    4    5    3    6    8    9    12    11    14    16    18   \n",
       "3  1    2    7    4    5    3    6    8    9    12    11    14    16    18   \n",
       "4  1    2    7    4    5    3    6    8    9    12    11    14    18    13   \n",
       "5  1    7    2    4    5    3    6    8    9    12    18    11    14    13   \n",
       "6  1    7    2    4    5    3    6    8    9    18    12    11    13    14   \n",
       "7  1    7    2    4    5    3    6    8    9    18    12    11    14    16   \n",
       "8  1    7    2    4    5    3    6    8    18   9     12    11    14    20   \n",
       "9  1    7    2    4    5    3    6    18   8    9     12    11    14    20   \n",
       "10 1    7    2    4    5    3    18   6    8    9     12    14    11    20   \n",
       "11 1    7    2    4    5    18   3    6    8    9     12    14    19    20   \n",
       "12 7    1    2    4    18   5    3    6    8    9     12    14    19    20   \n",
       "13 7    2    1    18   4    5    6    3    8    9     12    14    19    20   \n",
       "14 7    2    1    18   4    5    6    3    8    9     12    14    19    20   \n",
       "15 7    2    1    18   4    5    6    3    8    9     12    14    19    20   \n",
       "16 7    2    1    18   4    5    6    3    8    9     12    19    14    20   \n",
       "17 7    2    1    18   4    5    6    3    8    9     19    12    14    20   \n",
       "18 7    2    1    18   4    3    6    8    5    19    9     14    20    12   \n",
       "19 7    2    1    18   3    6    4    19   8    14    17    20    15    16   \n",
       "20 7    2    1    18   3    6    19   17   15   13    16    4     5     8    \n",
       "21 7    2    1    18   3    6    19   17   15   13    16    4     5     8    \n",
       "22 7    2    1    18   3    6    19   17   13   15    16    4     5     8    \n",
       "23 7    1    2    18   3    6    19   17   13   15    16    4     5     8    \n",
       "24 7    1    18   2    3    6    19   13   17   15    4     5     8     16   \n",
       "25 7    1    18   2    3    6    19   13   17   15    4     5     8     9    \n",
       "26 1    7    18   2    3    6    19   13   17   15    4     5     8     9    \n",
       "27 1    7    18   2    3    19   6    13   17   15    4     5     8     9    \n",
       "28 1    7    18   2    3    19   6    13   17   15    4     5     8     9    \n",
       "29 1    7    18   2    3    19   6    13   17   15    4     5     8     9    \n",
       "30 1    7    2    18   3    19   6    13   17   15    4     5     8     9    \n",
       "31 1    7    2    3    19   13   18   6    17   15    4     5     8     9    \n",
       "32 1    7    2    3    19   13   18   17   15   4     5     8     9     14   \n",
       "33 1    7    2    3    18   13   19   15   17   4     5     8     9     14   \n",
       "34 7    1    2    3    18   13   15   4    5    8     9     19    14    20   \n",
       "35 7    1    2    3    18   13   4    5    19   8     15    9     14    20   \n",
       "36 7    1    2    18   13   4    19   5    3    8     9     14    20    10   \n",
       "37 7    1    2    18   13   19   3    4    5    8     9     14    20    10   \n",
       "38 7    1    2    18   13   19   3    4    5    8     9     14    20    10   \n",
       "39 7    1    2    18   13   19   3    4    5    8     9     14    20    10   \n",
       "40 7    1    2    18   13   19   3    4    5    8     9     14    20    10   \n",
       "41 7    1    2    18   13   19   3    4    5    8     9     14    20    17   \n",
       "42 7    1    2    18   13   19   3    4    5    8     9     14    20    17   \n",
       "43 7    1    2    18   19   3    13   4    5    8     9     14    20    17   \n",
       "44 7    1    2    18   19   3    13   4    5    8     9     14    20    17   \n",
       "45 7    1    2    18   19   3    13   4    5    8     9     14    17    20   \n",
       "46 7    1    2    18   19   3    13   5    8    9     14    17    20    15   \n",
       "47 7    1    2    18   19   3    13   5    8    9     14    17    15    20   \n",
       "48 7    1    2    18   19   13   3    5    8    9     14    17    15    20   \n",
       "49 7    1    2    18   19   13   3    5    8    9     14    17    15    20   \n",
       "50 7    1    2    18   19   13   3    5    8    9     14    17    15    20   \n",
       "51 7    1    2    18   19   13   3    5    8    9     14    17    15    20   \n",
       "52 7    1    2    18   19   13   3    5    8    9     14    17    15    20   \n",
       "53 7    1    2    18   19   13   3    5    8    9     14    17               \n",
       "   BOT15 MAG16 MSC17 SAI18 HAM19 TSU20\n",
       "1  13    18    17    20    19    15   \n",
       "2  10    13    20    19    17    15   \n",
       "3  13    10    20    19    17    15   \n",
       "4  16    10    20    19    17    15   \n",
       "5  16    10    20    19    17    15   \n",
       "6  16    10    20    19    17    15   \n",
       "7  20    10    19    13    17    15   \n",
       "8  16    19    10    17    15    13   \n",
       "9  19    16    10    17    15    13   \n",
       "10 19    16    10    17    15    13   \n",
       "11 16    10    17    15    13         \n",
       "12 16    10    17    15    13         \n",
       "13 10    16    17    15    13         \n",
       "14 10    16    17    15    13         \n",
       "15 16    17    15    10    13         \n",
       "16 17    16    15    13    10         \n",
       "17 17    16    15    13    10         \n",
       "18 17    15    16    13    10         \n",
       "19 13    5     9     12    10         \n",
       "20 9     14    12    20    10         \n",
       "21 9     14    20    12    10         \n",
       "22 9     14    20    12    10         \n",
       "23 9     14    20    12    10         \n",
       "24 9     14    20    10    12         \n",
       "25 14    20    10    12    16         \n",
       "26 14    20    10    12    16         \n",
       "27 14    20    10    12    16         \n",
       "28 14    20    10    12    16         \n",
       "29 14    20    10    12    16         \n",
       "30 14    20    10    12    16         \n",
       "31 14    20    10    12    16         \n",
       "32 20    10    12    16               \n",
       "33 20    10    12    16               \n",
       "34 10    12    17    16               \n",
       "35 10    17    12    16               \n",
       "36 17    12    15    16               \n",
       "37 17    15    12    16               \n",
       "38 17    15    12    16               \n",
       "39 17    15    12    16               \n",
       "40 17    15    16                     \n",
       "41 10    15    16                     \n",
       "42 15    10    16                     \n",
       "43 15    10    16                     \n",
       "44 15    10    16                     \n",
       "45 15    10    16                     \n",
       "46 10    16                           \n",
       "47 10    16                           \n",
       "48 10    16                           \n",
       "49 10    16                           \n",
       "50 10    16                           \n",
       "51 10    16                           \n",
       "52 10    16                           \n",
       "53                                    "
      ]
     },
     "metadata": {},
     "output_type": "display_data"
    }
   ],
   "source": [
    "table_without_laps"
   ]
  },
  {
   "cell_type": "code",
   "execution_count": 73,
   "id": "798e099a",
   "metadata": {
    "vscode": {
     "languageId": "r"
    }
   },
   "outputs": [
    {
     "name": "stdout",
     "output_type": "stream",
     "text": [
      "[1] 1\n",
      "[1] 0\n",
      "[1] 0\n",
      "[1] 1\n",
      "[1] 0\n",
      "[1] 0\n",
      "[1] 0\n",
      "[1] 0\n",
      "[1] 0\n",
      "[1] 0\n",
      "[1] 1\n",
      "[1] 0\n",
      "[1] 0\n",
      "[1] 0\n",
      "[1] 0\n",
      "[1] 0\n",
      "[1] 0\n",
      "[1] 0\n",
      "[1] 0\n",
      "[1] 0\n",
      "[1] 0\n",
      "[1] 0\n",
      "[1] 0\n",
      "[1] 0\n",
      "[1] -1\n",
      "[1] 0\n",
      "[1] 0\n",
      "[1] 0\n",
      "[1] 0\n",
      "[1] 0\n",
      "[1] 0\n",
      "[1] 0\n",
      "[1] 1\n",
      "[1] 0\n",
      "[1] 0\n",
      "[1] 0\n",
      "[1] 0\n",
      "[1] 0\n",
      "[1] 0\n",
      "[1] 0\n",
      "[1] 0\n",
      "[1] 0\n",
      "[1] 0\n",
      "[1] 0\n",
      "[1] 0\n",
      "[1] 0\n",
      "[1] 0\n",
      "[1] 0\n",
      "[1] 0\n",
      "[1] 0\n",
      "[1] 0\n",
      "[1] 0\n",
      "[1] NA\n"
     ]
    }
   ],
   "source": [
    "overlap <- 0\n",
    "pl <- 7\n",
    "for (i in 1:53){\n",
    "    overlap <- which(table_without_laps[i, ] == pl) - which(table_without_laps[i+1, ] == pl)\n",
    "    overlap <- integer0_test(overlap)\n",
    "    print(overlap)\n",
    "}"
   ]
  },
  {
   "cell_type": "code",
   "execution_count": 75,
   "id": "48ea3c59",
   "metadata": {
    "vscode": {
     "languageId": "r"
    }
   },
   "outputs": [],
   "source": [
    "race_graph_df <- data.frame()"
   ]
  },
  {
   "cell_type": "code",
   "execution_count": 76,
   "id": "5f4a308a",
   "metadata": {
    "vscode": {
     "languageId": "r"
    }
   },
   "outputs": [
    {
     "data": {
      "text/html": [
       "53"
      ],
      "text/latex": [
       "53"
      ],
      "text/markdown": [
       "53"
      ],
      "text/plain": [
       "[1] 53"
      ]
     },
     "metadata": {},
     "output_type": "display_data"
    }
   ],
   "source": [
    "laps"
   ]
  },
  {
   "cell_type": "code",
   "execution_count": 82,
   "id": "111759ce",
   "metadata": {
    "vscode": {
     "languageId": "r"
    }
   },
   "outputs": [],
   "source": [
    "overlap <- 0\n",
    "df <- data.frame()\n",
    "for (j in 1:20){\n",
    "    for (i in 1:53){\n",
    "        a <- which(table_without_laps[i, ] == j) - which(table_without_laps[i+1, ] == j)\n",
    "        a <- integer0_test(a)\n",
    "        if (a > 0){\n",
    "            overlap <- overlap + a\n",
    "        }\n",
    "    \n",
    "    }\n",
    "    df <- rbind(df, c(j, overlap))\n",
    "    overlap <- 0\n",
    "    a <- 0\n",
    "}"
   ]
  },
  {
   "cell_type": "code",
   "execution_count": 83,
   "id": "fd4d3237",
   "metadata": {
    "vscode": {
     "languageId": "r"
    }
   },
   "outputs": [
    {
     "data": {
      "text/html": [
       "<style>\n",
       ".list-inline {list-style: none; margin:0; padding: 0}\n",
       ".list-inline>li {display: inline-block}\n",
       ".list-inline>li:not(:last-child)::after {content: \"\\00b7\"; padding: 0 .5ex}\n",
       "</style>\n",
       "<ol class=list-inline><li>1</li><li>2</li><li>3</li><li>4</li><li>5</li><li>6</li><li>7</li><li>8</li><li>9</li><li>10</li><li>11</li><li>12</li><li>13</li><li>14</li><li>15</li><li>16</li><li>17</li><li>18</li><li>19</li><li>20</li></ol>\n"
      ],
      "text/latex": [
       "\\begin{enumerate*}\n",
       "\\item 1\n",
       "\\item 2\n",
       "\\item 3\n",
       "\\item 4\n",
       "\\item 5\n",
       "\\item 6\n",
       "\\item 7\n",
       "\\item 8\n",
       "\\item 9\n",
       "\\item 10\n",
       "\\item 11\n",
       "\\item 12\n",
       "\\item 13\n",
       "\\item 14\n",
       "\\item 15\n",
       "\\item 16\n",
       "\\item 17\n",
       "\\item 18\n",
       "\\item 19\n",
       "\\item 20\n",
       "\\end{enumerate*}\n"
      ],
      "text/markdown": [
       "1. 1\n",
       "2. 2\n",
       "3. 3\n",
       "4. 4\n",
       "5. 5\n",
       "6. 6\n",
       "7. 7\n",
       "8. 8\n",
       "9. 9\n",
       "10. 10\n",
       "11. 11\n",
       "12. 12\n",
       "13. 13\n",
       "14. 14\n",
       "15. 15\n",
       "16. 16\n",
       "17. 17\n",
       "18. 18\n",
       "19. 19\n",
       "20. 20\n",
       "\n",
       "\n"
      ],
      "text/plain": [
       " [1]  1  2  3  4  5  6  7  8  9 10 11 12 13 14 15 16 17 18 19 20"
      ]
     },
     "metadata": {},
     "output_type": "display_data"
    }
   ],
   "source": [
    "names_pos"
   ]
  },
  {
   "cell_type": "code",
   "execution_count": 84,
   "id": "e6a16eaf",
   "metadata": {
    "vscode": {
     "languageId": "r"
    }
   },
   "outputs": [],
   "source": [
    "df$X1 <- mapvalues(df$X1, from=names_pos, to=names)"
   ]
  },
  {
   "cell_type": "code",
   "execution_count": 85,
   "id": "93609650",
   "metadata": {
    "vscode": {
     "languageId": "r"
    }
   },
   "outputs": [
    {
     "data": {
      "text/html": [
       "<table class=\"dataframe\">\n",
       "<caption>A data.frame: 20 × 2</caption>\n",
       "<thead>\n",
       "\t<tr><th scope=col>X1</th><th scope=col>X2</th></tr>\n",
       "\t<tr><th scope=col>&lt;chr&gt;</th><th scope=col>&lt;dbl&gt;</th></tr>\n",
       "</thead>\n",
       "<tbody>\n",
       "\t<tr><td>LEC</td><td> 2</td></tr>\n",
       "\t<tr><td>RUS</td><td> 2</td></tr>\n",
       "\t<tr><td>NOR</td><td> 7</td></tr>\n",
       "\t<tr><td>RIC</td><td> 6</td></tr>\n",
       "\t<tr><td>GAS</td><td> 9</td></tr>\n",
       "\t<tr><td>ALO</td><td> 2</td></tr>\n",
       "\t<tr><td>VER</td><td> 4</td></tr>\n",
       "\t<tr><td>DEV</td><td> 6</td></tr>\n",
       "\t<tr><td>ZHO</td><td> 8</td></tr>\n",
       "\t<tr><td>LAT</td><td> 8</td></tr>\n",
       "\t<tr><td>VET</td><td> 0</td></tr>\n",
       "\t<tr><td>STR</td><td> 6</td></tr>\n",
       "\t<tr><td>PER</td><td>19</td></tr>\n",
       "\t<tr><td>OCO</td><td>11</td></tr>\n",
       "\t<tr><td>BOT</td><td>18</td></tr>\n",
       "\t<tr><td>MAG</td><td>12</td></tr>\n",
       "\t<tr><td>MSC</td><td>17</td></tr>\n",
       "\t<tr><td>SAI</td><td>16</td></tr>\n",
       "\t<tr><td>HAM</td><td>21</td></tr>\n",
       "\t<tr><td>TSU</td><td>12</td></tr>\n",
       "</tbody>\n",
       "</table>\n"
      ],
      "text/latex": [
       "A data.frame: 20 × 2\n",
       "\\begin{tabular}{ll}\n",
       " X1 & X2\\\\\n",
       " <chr> & <dbl>\\\\\n",
       "\\hline\n",
       "\t LEC &  2\\\\\n",
       "\t RUS &  2\\\\\n",
       "\t NOR &  7\\\\\n",
       "\t RIC &  6\\\\\n",
       "\t GAS &  9\\\\\n",
       "\t ALO &  2\\\\\n",
       "\t VER &  4\\\\\n",
       "\t DEV &  6\\\\\n",
       "\t ZHO &  8\\\\\n",
       "\t LAT &  8\\\\\n",
       "\t VET &  0\\\\\n",
       "\t STR &  6\\\\\n",
       "\t PER & 19\\\\\n",
       "\t OCO & 11\\\\\n",
       "\t BOT & 18\\\\\n",
       "\t MAG & 12\\\\\n",
       "\t MSC & 17\\\\\n",
       "\t SAI & 16\\\\\n",
       "\t HAM & 21\\\\\n",
       "\t TSU & 12\\\\\n",
       "\\end{tabular}\n"
      ],
      "text/markdown": [
       "\n",
       "A data.frame: 20 × 2\n",
       "\n",
       "| X1 &lt;chr&gt; | X2 &lt;dbl&gt; |\n",
       "|---|---|\n",
       "| LEC |  2 |\n",
       "| RUS |  2 |\n",
       "| NOR |  7 |\n",
       "| RIC |  6 |\n",
       "| GAS |  9 |\n",
       "| ALO |  2 |\n",
       "| VER |  4 |\n",
       "| DEV |  6 |\n",
       "| ZHO |  8 |\n",
       "| LAT |  8 |\n",
       "| VET |  0 |\n",
       "| STR |  6 |\n",
       "| PER | 19 |\n",
       "| OCO | 11 |\n",
       "| BOT | 18 |\n",
       "| MAG | 12 |\n",
       "| MSC | 17 |\n",
       "| SAI | 16 |\n",
       "| HAM | 21 |\n",
       "| TSU | 12 |\n",
       "\n"
      ],
      "text/plain": [
       "   X1  X2\n",
       "1  LEC  2\n",
       "2  RUS  2\n",
       "3  NOR  7\n",
       "4  RIC  6\n",
       "5  GAS  9\n",
       "6  ALO  2\n",
       "7  VER  4\n",
       "8  DEV  6\n",
       "9  ZHO  8\n",
       "10 LAT  8\n",
       "11 VET  0\n",
       "12 STR  6\n",
       "13 PER 19\n",
       "14 OCO 11\n",
       "15 BOT 18\n",
       "16 MAG 12\n",
       "17 MSC 17\n",
       "18 SAI 16\n",
       "19 HAM 21\n",
       "20 TSU 12"
      ]
     },
     "metadata": {},
     "output_type": "display_data"
    }
   ],
   "source": [
    "df"
   ]
  },
  {
   "cell_type": "code",
   "execution_count": 86,
   "id": "57ce8d04",
   "metadata": {
    "vscode": {
     "languageId": "r"
    }
   },
   "outputs": [
    {
     "data": {
      "text/html": [
       "<table class=\"dataframe\">\n",
       "<caption>A tibble: 53 × 20</caption>\n",
       "<thead>\n",
       "\t<tr><th scope=col>LEC1</th><th scope=col>RUS2</th><th scope=col>NOR3</th><th scope=col>RIC4</th><th scope=col>GAS5</th><th scope=col>ALO6</th><th scope=col>VER7</th><th scope=col>DEV8</th><th scope=col>ZHO9</th><th scope=col>LAT10</th><th scope=col>VET11</th><th scope=col>STR12</th><th scope=col>PER13</th><th scope=col>OCO14</th><th scope=col>BOT15</th><th scope=col>MAG16</th><th scope=col>MSC17</th><th scope=col>SAI18</th><th scope=col>HAM19</th><th scope=col>TSU20</th></tr>\n",
       "\t<tr><th scope=col>&lt;chr&gt;</th><th scope=col>&lt;chr&gt;</th><th scope=col>&lt;chr&gt;</th><th scope=col>&lt;chr&gt;</th><th scope=col>&lt;chr&gt;</th><th scope=col>&lt;chr&gt;</th><th scope=col>&lt;chr&gt;</th><th scope=col>&lt;chr&gt;</th><th scope=col>&lt;chr&gt;</th><th scope=col>&lt;chr&gt;</th><th scope=col>&lt;chr&gt;</th><th scope=col>&lt;chr&gt;</th><th scope=col>&lt;chr&gt;</th><th scope=col>&lt;chr&gt;</th><th scope=col>&lt;chr&gt;</th><th scope=col>&lt;chr&gt;</th><th scope=col>&lt;chr&gt;</th><th scope=col>&lt;chr&gt;</th><th scope=col>&lt;chr&gt;</th><th scope=col>&lt;chr&gt;</th></tr>\n",
       "</thead>\n",
       "<tbody>\n",
       "\t<tr><td>1</td><td>2</td><td>4 </td><td>7 </td><td>5 </td><td>3 </td><td>6 </td><td>8 </td><td>9 </td><td>11</td><td>12</td><td>16</td><td>14</td><td>10</td><td>13</td><td>18</td><td>17</td><td>20</td><td>19</td><td>15</td></tr>\n",
       "\t<tr><td>1</td><td>2</td><td>7 </td><td>4 </td><td>5 </td><td>3 </td><td>6 </td><td>8 </td><td>9 </td><td>12</td><td>11</td><td>14</td><td>16</td><td>18</td><td>10</td><td>13</td><td>20</td><td>19</td><td>17</td><td>15</td></tr>\n",
       "\t<tr><td>1</td><td>2</td><td>7 </td><td>4 </td><td>5 </td><td>3 </td><td>6 </td><td>8 </td><td>9 </td><td>12</td><td>11</td><td>14</td><td>16</td><td>18</td><td>13</td><td>10</td><td>20</td><td>19</td><td>17</td><td>15</td></tr>\n",
       "\t<tr><td>1</td><td>2</td><td>7 </td><td>4 </td><td>5 </td><td>3 </td><td>6 </td><td>8 </td><td>9 </td><td>12</td><td>11</td><td>14</td><td>18</td><td>13</td><td>16</td><td>10</td><td>20</td><td>19</td><td>17</td><td>15</td></tr>\n",
       "\t<tr><td>1</td><td>7</td><td>2 </td><td>4 </td><td>5 </td><td>3 </td><td>6 </td><td>8 </td><td>9 </td><td>12</td><td>18</td><td>11</td><td>14</td><td>13</td><td>16</td><td>10</td><td>20</td><td>19</td><td>17</td><td>15</td></tr>\n",
       "\t<tr><td>1</td><td>7</td><td>2 </td><td>4 </td><td>5 </td><td>3 </td><td>6 </td><td>8 </td><td>9 </td><td>18</td><td>12</td><td>11</td><td>13</td><td>14</td><td>16</td><td>10</td><td>20</td><td>19</td><td>17</td><td>15</td></tr>\n",
       "\t<tr><td>1</td><td>7</td><td>2 </td><td>4 </td><td>5 </td><td>3 </td><td>6 </td><td>8 </td><td>9 </td><td>18</td><td>12</td><td>11</td><td>14</td><td>16</td><td>20</td><td>10</td><td>19</td><td>13</td><td>17</td><td>15</td></tr>\n",
       "\t<tr><td>1</td><td>7</td><td>2 </td><td>4 </td><td>5 </td><td>3 </td><td>6 </td><td>8 </td><td>18</td><td>9 </td><td>12</td><td>11</td><td>14</td><td>20</td><td>16</td><td>19</td><td>10</td><td>17</td><td>15</td><td>13</td></tr>\n",
       "\t<tr><td>1</td><td>7</td><td>2 </td><td>4 </td><td>5 </td><td>3 </td><td>6 </td><td>18</td><td>8 </td><td>9 </td><td>12</td><td>11</td><td>14</td><td>20</td><td>19</td><td>16</td><td>10</td><td>17</td><td>15</td><td>13</td></tr>\n",
       "\t<tr><td>1</td><td>7</td><td>2 </td><td>4 </td><td>5 </td><td>3 </td><td>18</td><td>6 </td><td>8 </td><td>9 </td><td>12</td><td>14</td><td>11</td><td>20</td><td>19</td><td>16</td><td>10</td><td>17</td><td>15</td><td>13</td></tr>\n",
       "\t<tr><td>1</td><td>7</td><td>2 </td><td>4 </td><td>5 </td><td>18</td><td>3 </td><td>6 </td><td>8 </td><td>9 </td><td>12</td><td>14</td><td>19</td><td>20</td><td>16</td><td>10</td><td>17</td><td>15</td><td>13</td><td>  </td></tr>\n",
       "\t<tr><td>7</td><td>1</td><td>2 </td><td>4 </td><td>18</td><td>5 </td><td>3 </td><td>6 </td><td>8 </td><td>9 </td><td>12</td><td>14</td><td>19</td><td>20</td><td>16</td><td>10</td><td>17</td><td>15</td><td>13</td><td>  </td></tr>\n",
       "\t<tr><td>7</td><td>2</td><td>1 </td><td>18</td><td>4 </td><td>5 </td><td>6 </td><td>3 </td><td>8 </td><td>9 </td><td>12</td><td>14</td><td>19</td><td>20</td><td>10</td><td>16</td><td>17</td><td>15</td><td>13</td><td>  </td></tr>\n",
       "\t<tr><td>7</td><td>2</td><td>1 </td><td>18</td><td>4 </td><td>5 </td><td>6 </td><td>3 </td><td>8 </td><td>9 </td><td>12</td><td>14</td><td>19</td><td>20</td><td>10</td><td>16</td><td>17</td><td>15</td><td>13</td><td>  </td></tr>\n",
       "\t<tr><td>7</td><td>2</td><td>1 </td><td>18</td><td>4 </td><td>5 </td><td>6 </td><td>3 </td><td>8 </td><td>9 </td><td>12</td><td>14</td><td>19</td><td>20</td><td>16</td><td>17</td><td>15</td><td>10</td><td>13</td><td>  </td></tr>\n",
       "\t<tr><td>7</td><td>2</td><td>1 </td><td>18</td><td>4 </td><td>5 </td><td>6 </td><td>3 </td><td>8 </td><td>9 </td><td>12</td><td>19</td><td>14</td><td>20</td><td>17</td><td>16</td><td>15</td><td>13</td><td>10</td><td>  </td></tr>\n",
       "\t<tr><td>7</td><td>2</td><td>1 </td><td>18</td><td>4 </td><td>5 </td><td>6 </td><td>3 </td><td>8 </td><td>9 </td><td>19</td><td>12</td><td>14</td><td>20</td><td>17</td><td>16</td><td>15</td><td>13</td><td>10</td><td>  </td></tr>\n",
       "\t<tr><td>7</td><td>2</td><td>1 </td><td>18</td><td>4 </td><td>3 </td><td>6 </td><td>8 </td><td>5 </td><td>19</td><td>9 </td><td>14</td><td>20</td><td>12</td><td>17</td><td>15</td><td>16</td><td>13</td><td>10</td><td>  </td></tr>\n",
       "\t<tr><td>7</td><td>2</td><td>1 </td><td>18</td><td>3 </td><td>6 </td><td>4 </td><td>19</td><td>8 </td><td>14</td><td>17</td><td>20</td><td>15</td><td>16</td><td>13</td><td>5 </td><td>9 </td><td>12</td><td>10</td><td>  </td></tr>\n",
       "\t<tr><td>7</td><td>2</td><td>1 </td><td>18</td><td>3 </td><td>6 </td><td>19</td><td>17</td><td>15</td><td>13</td><td>16</td><td>4 </td><td>5 </td><td>8 </td><td>9 </td><td>14</td><td>12</td><td>20</td><td>10</td><td>  </td></tr>\n",
       "\t<tr><td>7</td><td>2</td><td>1 </td><td>18</td><td>3 </td><td>6 </td><td>19</td><td>17</td><td>15</td><td>13</td><td>16</td><td>4 </td><td>5 </td><td>8 </td><td>9 </td><td>14</td><td>20</td><td>12</td><td>10</td><td>  </td></tr>\n",
       "\t<tr><td>7</td><td>2</td><td>1 </td><td>18</td><td>3 </td><td>6 </td><td>19</td><td>17</td><td>13</td><td>15</td><td>16</td><td>4 </td><td>5 </td><td>8 </td><td>9 </td><td>14</td><td>20</td><td>12</td><td>10</td><td>  </td></tr>\n",
       "\t<tr><td>7</td><td>1</td><td>2 </td><td>18</td><td>3 </td><td>6 </td><td>19</td><td>17</td><td>13</td><td>15</td><td>16</td><td>4 </td><td>5 </td><td>8 </td><td>9 </td><td>14</td><td>20</td><td>12</td><td>10</td><td>  </td></tr>\n",
       "\t<tr><td>7</td><td>1</td><td>18</td><td>2 </td><td>3 </td><td>6 </td><td>19</td><td>13</td><td>17</td><td>15</td><td>4 </td><td>5 </td><td>8 </td><td>16</td><td>9 </td><td>14</td><td>20</td><td>10</td><td>12</td><td>  </td></tr>\n",
       "\t<tr><td>7</td><td>1</td><td>18</td><td>2 </td><td>3 </td><td>6 </td><td>19</td><td>13</td><td>17</td><td>15</td><td>4 </td><td>5 </td><td>8 </td><td>9 </td><td>14</td><td>20</td><td>10</td><td>12</td><td>16</td><td>  </td></tr>\n",
       "\t<tr><td>1</td><td>7</td><td>18</td><td>2 </td><td>3 </td><td>6 </td><td>19</td><td>13</td><td>17</td><td>15</td><td>4 </td><td>5 </td><td>8 </td><td>9 </td><td>14</td><td>20</td><td>10</td><td>12</td><td>16</td><td>  </td></tr>\n",
       "\t<tr><td>1</td><td>7</td><td>18</td><td>2 </td><td>3 </td><td>19</td><td>6 </td><td>13</td><td>17</td><td>15</td><td>4 </td><td>5 </td><td>8 </td><td>9 </td><td>14</td><td>20</td><td>10</td><td>12</td><td>16</td><td>  </td></tr>\n",
       "\t<tr><td>1</td><td>7</td><td>18</td><td>2 </td><td>3 </td><td>19</td><td>6 </td><td>13</td><td>17</td><td>15</td><td>4 </td><td>5 </td><td>8 </td><td>9 </td><td>14</td><td>20</td><td>10</td><td>12</td><td>16</td><td>  </td></tr>\n",
       "\t<tr><td>1</td><td>7</td><td>18</td><td>2 </td><td>3 </td><td>19</td><td>6 </td><td>13</td><td>17</td><td>15</td><td>4 </td><td>5 </td><td>8 </td><td>9 </td><td>14</td><td>20</td><td>10</td><td>12</td><td>16</td><td>  </td></tr>\n",
       "\t<tr><td>1</td><td>7</td><td>2 </td><td>18</td><td>3 </td><td>19</td><td>6 </td><td>13</td><td>17</td><td>15</td><td>4 </td><td>5 </td><td>8 </td><td>9 </td><td>14</td><td>20</td><td>10</td><td>12</td><td>16</td><td>  </td></tr>\n",
       "\t<tr><td>1</td><td>7</td><td>2 </td><td>3 </td><td>19</td><td>13</td><td>18</td><td>6 </td><td>17</td><td>15</td><td>4 </td><td>5 </td><td>8 </td><td>9 </td><td>14</td><td>20</td><td>10</td><td>12</td><td>16</td><td>  </td></tr>\n",
       "\t<tr><td>1</td><td>7</td><td>2 </td><td>3 </td><td>19</td><td>13</td><td>18</td><td>17</td><td>15</td><td>4 </td><td>5 </td><td>8 </td><td>9 </td><td>14</td><td>20</td><td>10</td><td>12</td><td>16</td><td>  </td><td>  </td></tr>\n",
       "\t<tr><td>1</td><td>7</td><td>2 </td><td>3 </td><td>18</td><td>13</td><td>19</td><td>15</td><td>17</td><td>4 </td><td>5 </td><td>8 </td><td>9 </td><td>14</td><td>20</td><td>10</td><td>12</td><td>16</td><td>  </td><td>  </td></tr>\n",
       "\t<tr><td>7</td><td>1</td><td>2 </td><td>3 </td><td>18</td><td>13</td><td>15</td><td>4 </td><td>5 </td><td>8 </td><td>9 </td><td>19</td><td>14</td><td>20</td><td>10</td><td>12</td><td>17</td><td>16</td><td>  </td><td>  </td></tr>\n",
       "\t<tr><td>7</td><td>1</td><td>2 </td><td>3 </td><td>18</td><td>13</td><td>4 </td><td>5 </td><td>19</td><td>8 </td><td>15</td><td>9 </td><td>14</td><td>20</td><td>10</td><td>17</td><td>12</td><td>16</td><td>  </td><td>  </td></tr>\n",
       "\t<tr><td>7</td><td>1</td><td>2 </td><td>18</td><td>13</td><td>4 </td><td>19</td><td>5 </td><td>3 </td><td>8 </td><td>9 </td><td>14</td><td>20</td><td>10</td><td>17</td><td>12</td><td>15</td><td>16</td><td>  </td><td>  </td></tr>\n",
       "\t<tr><td>7</td><td>1</td><td>2 </td><td>18</td><td>13</td><td>19</td><td>3 </td><td>4 </td><td>5 </td><td>8 </td><td>9 </td><td>14</td><td>20</td><td>10</td><td>17</td><td>15</td><td>12</td><td>16</td><td>  </td><td>  </td></tr>\n",
       "\t<tr><td>7</td><td>1</td><td>2 </td><td>18</td><td>13</td><td>19</td><td>3 </td><td>4 </td><td>5 </td><td>8 </td><td>9 </td><td>14</td><td>20</td><td>10</td><td>17</td><td>15</td><td>12</td><td>16</td><td>  </td><td>  </td></tr>\n",
       "\t<tr><td>7</td><td>1</td><td>2 </td><td>18</td><td>13</td><td>19</td><td>3 </td><td>4 </td><td>5 </td><td>8 </td><td>9 </td><td>14</td><td>20</td><td>10</td><td>17</td><td>15</td><td>12</td><td>16</td><td>  </td><td>  </td></tr>\n",
       "\t<tr><td>7</td><td>1</td><td>2 </td><td>18</td><td>13</td><td>19</td><td>3 </td><td>4 </td><td>5 </td><td>8 </td><td>9 </td><td>14</td><td>20</td><td>10</td><td>17</td><td>15</td><td>16</td><td>  </td><td>  </td><td>  </td></tr>\n",
       "\t<tr><td>7</td><td>1</td><td>2 </td><td>18</td><td>13</td><td>19</td><td>3 </td><td>4 </td><td>5 </td><td>8 </td><td>9 </td><td>14</td><td>20</td><td>17</td><td>10</td><td>15</td><td>16</td><td>  </td><td>  </td><td>  </td></tr>\n",
       "\t<tr><td>7</td><td>1</td><td>2 </td><td>18</td><td>13</td><td>19</td><td>3 </td><td>4 </td><td>5 </td><td>8 </td><td>9 </td><td>14</td><td>20</td><td>17</td><td>15</td><td>10</td><td>16</td><td>  </td><td>  </td><td>  </td></tr>\n",
       "\t<tr><td>7</td><td>1</td><td>2 </td><td>18</td><td>19</td><td>3 </td><td>13</td><td>4 </td><td>5 </td><td>8 </td><td>9 </td><td>14</td><td>20</td><td>17</td><td>15</td><td>10</td><td>16</td><td>  </td><td>  </td><td>  </td></tr>\n",
       "\t<tr><td>7</td><td>1</td><td>2 </td><td>18</td><td>19</td><td>3 </td><td>13</td><td>4 </td><td>5 </td><td>8 </td><td>9 </td><td>14</td><td>20</td><td>17</td><td>15</td><td>10</td><td>16</td><td>  </td><td>  </td><td>  </td></tr>\n",
       "\t<tr><td>7</td><td>1</td><td>2 </td><td>18</td><td>19</td><td>3 </td><td>13</td><td>4 </td><td>5 </td><td>8 </td><td>9 </td><td>14</td><td>17</td><td>20</td><td>15</td><td>10</td><td>16</td><td>  </td><td>  </td><td>  </td></tr>\n",
       "\t<tr><td>7</td><td>1</td><td>2 </td><td>18</td><td>19</td><td>3 </td><td>13</td><td>5 </td><td>8 </td><td>9 </td><td>14</td><td>17</td><td>20</td><td>15</td><td>10</td><td>16</td><td>  </td><td>  </td><td>  </td><td>  </td></tr>\n",
       "\t<tr><td>7</td><td>1</td><td>2 </td><td>18</td><td>19</td><td>3 </td><td>13</td><td>5 </td><td>8 </td><td>9 </td><td>14</td><td>17</td><td>15</td><td>20</td><td>10</td><td>16</td><td>  </td><td>  </td><td>  </td><td>  </td></tr>\n",
       "\t<tr><td>7</td><td>1</td><td>2 </td><td>18</td><td>19</td><td>13</td><td>3 </td><td>5 </td><td>8 </td><td>9 </td><td>14</td><td>17</td><td>15</td><td>20</td><td>10</td><td>16</td><td>  </td><td>  </td><td>  </td><td>  </td></tr>\n",
       "\t<tr><td>7</td><td>1</td><td>2 </td><td>18</td><td>19</td><td>13</td><td>3 </td><td>5 </td><td>8 </td><td>9 </td><td>14</td><td>17</td><td>15</td><td>20</td><td>10</td><td>16</td><td>  </td><td>  </td><td>  </td><td>  </td></tr>\n",
       "\t<tr><td>7</td><td>1</td><td>2 </td><td>18</td><td>19</td><td>13</td><td>3 </td><td>5 </td><td>8 </td><td>9 </td><td>14</td><td>17</td><td>15</td><td>20</td><td>10</td><td>16</td><td>  </td><td>  </td><td>  </td><td>  </td></tr>\n",
       "\t<tr><td>7</td><td>1</td><td>2 </td><td>18</td><td>19</td><td>13</td><td>3 </td><td>5 </td><td>8 </td><td>9 </td><td>14</td><td>17</td><td>15</td><td>20</td><td>10</td><td>16</td><td>  </td><td>  </td><td>  </td><td>  </td></tr>\n",
       "\t<tr><td>7</td><td>1</td><td>2 </td><td>18</td><td>19</td><td>13</td><td>3 </td><td>5 </td><td>8 </td><td>9 </td><td>14</td><td>17</td><td>15</td><td>20</td><td>10</td><td>16</td><td>  </td><td>  </td><td>  </td><td>  </td></tr>\n",
       "\t<tr><td>7</td><td>1</td><td>2 </td><td>18</td><td>19</td><td>13</td><td>3 </td><td>5 </td><td>8 </td><td>9 </td><td>14</td><td>17</td><td>  </td><td>  </td><td>  </td><td>  </td><td>  </td><td>  </td><td>  </td><td>  </td></tr>\n",
       "</tbody>\n",
       "</table>\n"
      ],
      "text/latex": [
       "A tibble: 53 × 20\n",
       "\\begin{tabular}{llllllllllllllllllll}\n",
       " LEC1 & RUS2 & NOR3 & RIC4 & GAS5 & ALO6 & VER7 & DEV8 & ZHO9 & LAT10 & VET11 & STR12 & PER13 & OCO14 & BOT15 & MAG16 & MSC17 & SAI18 & HAM19 & TSU20\\\\\n",
       " <chr> & <chr> & <chr> & <chr> & <chr> & <chr> & <chr> & <chr> & <chr> & <chr> & <chr> & <chr> & <chr> & <chr> & <chr> & <chr> & <chr> & <chr> & <chr> & <chr>\\\\\n",
       "\\hline\n",
       "\t 1 & 2 & 4  & 7  & 5  & 3  & 6  & 8  & 9  & 11 & 12 & 16 & 14 & 10 & 13 & 18 & 17 & 20 & 19 & 15\\\\\n",
       "\t 1 & 2 & 7  & 4  & 5  & 3  & 6  & 8  & 9  & 12 & 11 & 14 & 16 & 18 & 10 & 13 & 20 & 19 & 17 & 15\\\\\n",
       "\t 1 & 2 & 7  & 4  & 5  & 3  & 6  & 8  & 9  & 12 & 11 & 14 & 16 & 18 & 13 & 10 & 20 & 19 & 17 & 15\\\\\n",
       "\t 1 & 2 & 7  & 4  & 5  & 3  & 6  & 8  & 9  & 12 & 11 & 14 & 18 & 13 & 16 & 10 & 20 & 19 & 17 & 15\\\\\n",
       "\t 1 & 7 & 2  & 4  & 5  & 3  & 6  & 8  & 9  & 12 & 18 & 11 & 14 & 13 & 16 & 10 & 20 & 19 & 17 & 15\\\\\n",
       "\t 1 & 7 & 2  & 4  & 5  & 3  & 6  & 8  & 9  & 18 & 12 & 11 & 13 & 14 & 16 & 10 & 20 & 19 & 17 & 15\\\\\n",
       "\t 1 & 7 & 2  & 4  & 5  & 3  & 6  & 8  & 9  & 18 & 12 & 11 & 14 & 16 & 20 & 10 & 19 & 13 & 17 & 15\\\\\n",
       "\t 1 & 7 & 2  & 4  & 5  & 3  & 6  & 8  & 18 & 9  & 12 & 11 & 14 & 20 & 16 & 19 & 10 & 17 & 15 & 13\\\\\n",
       "\t 1 & 7 & 2  & 4  & 5  & 3  & 6  & 18 & 8  & 9  & 12 & 11 & 14 & 20 & 19 & 16 & 10 & 17 & 15 & 13\\\\\n",
       "\t 1 & 7 & 2  & 4  & 5  & 3  & 18 & 6  & 8  & 9  & 12 & 14 & 11 & 20 & 19 & 16 & 10 & 17 & 15 & 13\\\\\n",
       "\t 1 & 7 & 2  & 4  & 5  & 18 & 3  & 6  & 8  & 9  & 12 & 14 & 19 & 20 & 16 & 10 & 17 & 15 & 13 &   \\\\\n",
       "\t 7 & 1 & 2  & 4  & 18 & 5  & 3  & 6  & 8  & 9  & 12 & 14 & 19 & 20 & 16 & 10 & 17 & 15 & 13 &   \\\\\n",
       "\t 7 & 2 & 1  & 18 & 4  & 5  & 6  & 3  & 8  & 9  & 12 & 14 & 19 & 20 & 10 & 16 & 17 & 15 & 13 &   \\\\\n",
       "\t 7 & 2 & 1  & 18 & 4  & 5  & 6  & 3  & 8  & 9  & 12 & 14 & 19 & 20 & 10 & 16 & 17 & 15 & 13 &   \\\\\n",
       "\t 7 & 2 & 1  & 18 & 4  & 5  & 6  & 3  & 8  & 9  & 12 & 14 & 19 & 20 & 16 & 17 & 15 & 10 & 13 &   \\\\\n",
       "\t 7 & 2 & 1  & 18 & 4  & 5  & 6  & 3  & 8  & 9  & 12 & 19 & 14 & 20 & 17 & 16 & 15 & 13 & 10 &   \\\\\n",
       "\t 7 & 2 & 1  & 18 & 4  & 5  & 6  & 3  & 8  & 9  & 19 & 12 & 14 & 20 & 17 & 16 & 15 & 13 & 10 &   \\\\\n",
       "\t 7 & 2 & 1  & 18 & 4  & 3  & 6  & 8  & 5  & 19 & 9  & 14 & 20 & 12 & 17 & 15 & 16 & 13 & 10 &   \\\\\n",
       "\t 7 & 2 & 1  & 18 & 3  & 6  & 4  & 19 & 8  & 14 & 17 & 20 & 15 & 16 & 13 & 5  & 9  & 12 & 10 &   \\\\\n",
       "\t 7 & 2 & 1  & 18 & 3  & 6  & 19 & 17 & 15 & 13 & 16 & 4  & 5  & 8  & 9  & 14 & 12 & 20 & 10 &   \\\\\n",
       "\t 7 & 2 & 1  & 18 & 3  & 6  & 19 & 17 & 15 & 13 & 16 & 4  & 5  & 8  & 9  & 14 & 20 & 12 & 10 &   \\\\\n",
       "\t 7 & 2 & 1  & 18 & 3  & 6  & 19 & 17 & 13 & 15 & 16 & 4  & 5  & 8  & 9  & 14 & 20 & 12 & 10 &   \\\\\n",
       "\t 7 & 1 & 2  & 18 & 3  & 6  & 19 & 17 & 13 & 15 & 16 & 4  & 5  & 8  & 9  & 14 & 20 & 12 & 10 &   \\\\\n",
       "\t 7 & 1 & 18 & 2  & 3  & 6  & 19 & 13 & 17 & 15 & 4  & 5  & 8  & 16 & 9  & 14 & 20 & 10 & 12 &   \\\\\n",
       "\t 7 & 1 & 18 & 2  & 3  & 6  & 19 & 13 & 17 & 15 & 4  & 5  & 8  & 9  & 14 & 20 & 10 & 12 & 16 &   \\\\\n",
       "\t 1 & 7 & 18 & 2  & 3  & 6  & 19 & 13 & 17 & 15 & 4  & 5  & 8  & 9  & 14 & 20 & 10 & 12 & 16 &   \\\\\n",
       "\t 1 & 7 & 18 & 2  & 3  & 19 & 6  & 13 & 17 & 15 & 4  & 5  & 8  & 9  & 14 & 20 & 10 & 12 & 16 &   \\\\\n",
       "\t 1 & 7 & 18 & 2  & 3  & 19 & 6  & 13 & 17 & 15 & 4  & 5  & 8  & 9  & 14 & 20 & 10 & 12 & 16 &   \\\\\n",
       "\t 1 & 7 & 18 & 2  & 3  & 19 & 6  & 13 & 17 & 15 & 4  & 5  & 8  & 9  & 14 & 20 & 10 & 12 & 16 &   \\\\\n",
       "\t 1 & 7 & 2  & 18 & 3  & 19 & 6  & 13 & 17 & 15 & 4  & 5  & 8  & 9  & 14 & 20 & 10 & 12 & 16 &   \\\\\n",
       "\t 1 & 7 & 2  & 3  & 19 & 13 & 18 & 6  & 17 & 15 & 4  & 5  & 8  & 9  & 14 & 20 & 10 & 12 & 16 &   \\\\\n",
       "\t 1 & 7 & 2  & 3  & 19 & 13 & 18 & 17 & 15 & 4  & 5  & 8  & 9  & 14 & 20 & 10 & 12 & 16 &    &   \\\\\n",
       "\t 1 & 7 & 2  & 3  & 18 & 13 & 19 & 15 & 17 & 4  & 5  & 8  & 9  & 14 & 20 & 10 & 12 & 16 &    &   \\\\\n",
       "\t 7 & 1 & 2  & 3  & 18 & 13 & 15 & 4  & 5  & 8  & 9  & 19 & 14 & 20 & 10 & 12 & 17 & 16 &    &   \\\\\n",
       "\t 7 & 1 & 2  & 3  & 18 & 13 & 4  & 5  & 19 & 8  & 15 & 9  & 14 & 20 & 10 & 17 & 12 & 16 &    &   \\\\\n",
       "\t 7 & 1 & 2  & 18 & 13 & 4  & 19 & 5  & 3  & 8  & 9  & 14 & 20 & 10 & 17 & 12 & 15 & 16 &    &   \\\\\n",
       "\t 7 & 1 & 2  & 18 & 13 & 19 & 3  & 4  & 5  & 8  & 9  & 14 & 20 & 10 & 17 & 15 & 12 & 16 &    &   \\\\\n",
       "\t 7 & 1 & 2  & 18 & 13 & 19 & 3  & 4  & 5  & 8  & 9  & 14 & 20 & 10 & 17 & 15 & 12 & 16 &    &   \\\\\n",
       "\t 7 & 1 & 2  & 18 & 13 & 19 & 3  & 4  & 5  & 8  & 9  & 14 & 20 & 10 & 17 & 15 & 12 & 16 &    &   \\\\\n",
       "\t 7 & 1 & 2  & 18 & 13 & 19 & 3  & 4  & 5  & 8  & 9  & 14 & 20 & 10 & 17 & 15 & 16 &    &    &   \\\\\n",
       "\t 7 & 1 & 2  & 18 & 13 & 19 & 3  & 4  & 5  & 8  & 9  & 14 & 20 & 17 & 10 & 15 & 16 &    &    &   \\\\\n",
       "\t 7 & 1 & 2  & 18 & 13 & 19 & 3  & 4  & 5  & 8  & 9  & 14 & 20 & 17 & 15 & 10 & 16 &    &    &   \\\\\n",
       "\t 7 & 1 & 2  & 18 & 19 & 3  & 13 & 4  & 5  & 8  & 9  & 14 & 20 & 17 & 15 & 10 & 16 &    &    &   \\\\\n",
       "\t 7 & 1 & 2  & 18 & 19 & 3  & 13 & 4  & 5  & 8  & 9  & 14 & 20 & 17 & 15 & 10 & 16 &    &    &   \\\\\n",
       "\t 7 & 1 & 2  & 18 & 19 & 3  & 13 & 4  & 5  & 8  & 9  & 14 & 17 & 20 & 15 & 10 & 16 &    &    &   \\\\\n",
       "\t 7 & 1 & 2  & 18 & 19 & 3  & 13 & 5  & 8  & 9  & 14 & 17 & 20 & 15 & 10 & 16 &    &    &    &   \\\\\n",
       "\t 7 & 1 & 2  & 18 & 19 & 3  & 13 & 5  & 8  & 9  & 14 & 17 & 15 & 20 & 10 & 16 &    &    &    &   \\\\\n",
       "\t 7 & 1 & 2  & 18 & 19 & 13 & 3  & 5  & 8  & 9  & 14 & 17 & 15 & 20 & 10 & 16 &    &    &    &   \\\\\n",
       "\t 7 & 1 & 2  & 18 & 19 & 13 & 3  & 5  & 8  & 9  & 14 & 17 & 15 & 20 & 10 & 16 &    &    &    &   \\\\\n",
       "\t 7 & 1 & 2  & 18 & 19 & 13 & 3  & 5  & 8  & 9  & 14 & 17 & 15 & 20 & 10 & 16 &    &    &    &   \\\\\n",
       "\t 7 & 1 & 2  & 18 & 19 & 13 & 3  & 5  & 8  & 9  & 14 & 17 & 15 & 20 & 10 & 16 &    &    &    &   \\\\\n",
       "\t 7 & 1 & 2  & 18 & 19 & 13 & 3  & 5  & 8  & 9  & 14 & 17 & 15 & 20 & 10 & 16 &    &    &    &   \\\\\n",
       "\t 7 & 1 & 2  & 18 & 19 & 13 & 3  & 5  & 8  & 9  & 14 & 17 &    &    &    &    &    &    &    &   \\\\\n",
       "\\end{tabular}\n"
      ],
      "text/markdown": [
       "\n",
       "A tibble: 53 × 20\n",
       "\n",
       "| LEC1 &lt;chr&gt; | RUS2 &lt;chr&gt; | NOR3 &lt;chr&gt; | RIC4 &lt;chr&gt; | GAS5 &lt;chr&gt; | ALO6 &lt;chr&gt; | VER7 &lt;chr&gt; | DEV8 &lt;chr&gt; | ZHO9 &lt;chr&gt; | LAT10 &lt;chr&gt; | VET11 &lt;chr&gt; | STR12 &lt;chr&gt; | PER13 &lt;chr&gt; | OCO14 &lt;chr&gt; | BOT15 &lt;chr&gt; | MAG16 &lt;chr&gt; | MSC17 &lt;chr&gt; | SAI18 &lt;chr&gt; | HAM19 &lt;chr&gt; | TSU20 &lt;chr&gt; |\n",
       "|---|---|---|---|---|---|---|---|---|---|---|---|---|---|---|---|---|---|---|---|\n",
       "| 1 | 2 | 4  | 7  | 5  | 3  | 6  | 8  | 9  | 11 | 12 | 16 | 14 | 10 | 13 | 18 | 17 | 20 | 19 | 15 |\n",
       "| 1 | 2 | 7  | 4  | 5  | 3  | 6  | 8  | 9  | 12 | 11 | 14 | 16 | 18 | 10 | 13 | 20 | 19 | 17 | 15 |\n",
       "| 1 | 2 | 7  | 4  | 5  | 3  | 6  | 8  | 9  | 12 | 11 | 14 | 16 | 18 | 13 | 10 | 20 | 19 | 17 | 15 |\n",
       "| 1 | 2 | 7  | 4  | 5  | 3  | 6  | 8  | 9  | 12 | 11 | 14 | 18 | 13 | 16 | 10 | 20 | 19 | 17 | 15 |\n",
       "| 1 | 7 | 2  | 4  | 5  | 3  | 6  | 8  | 9  | 12 | 18 | 11 | 14 | 13 | 16 | 10 | 20 | 19 | 17 | 15 |\n",
       "| 1 | 7 | 2  | 4  | 5  | 3  | 6  | 8  | 9  | 18 | 12 | 11 | 13 | 14 | 16 | 10 | 20 | 19 | 17 | 15 |\n",
       "| 1 | 7 | 2  | 4  | 5  | 3  | 6  | 8  | 9  | 18 | 12 | 11 | 14 | 16 | 20 | 10 | 19 | 13 | 17 | 15 |\n",
       "| 1 | 7 | 2  | 4  | 5  | 3  | 6  | 8  | 18 | 9  | 12 | 11 | 14 | 20 | 16 | 19 | 10 | 17 | 15 | 13 |\n",
       "| 1 | 7 | 2  | 4  | 5  | 3  | 6  | 18 | 8  | 9  | 12 | 11 | 14 | 20 | 19 | 16 | 10 | 17 | 15 | 13 |\n",
       "| 1 | 7 | 2  | 4  | 5  | 3  | 18 | 6  | 8  | 9  | 12 | 14 | 11 | 20 | 19 | 16 | 10 | 17 | 15 | 13 |\n",
       "| 1 | 7 | 2  | 4  | 5  | 18 | 3  | 6  | 8  | 9  | 12 | 14 | 19 | 20 | 16 | 10 | 17 | 15 | 13 | <!----> |\n",
       "| 7 | 1 | 2  | 4  | 18 | 5  | 3  | 6  | 8  | 9  | 12 | 14 | 19 | 20 | 16 | 10 | 17 | 15 | 13 | <!----> |\n",
       "| 7 | 2 | 1  | 18 | 4  | 5  | 6  | 3  | 8  | 9  | 12 | 14 | 19 | 20 | 10 | 16 | 17 | 15 | 13 | <!----> |\n",
       "| 7 | 2 | 1  | 18 | 4  | 5  | 6  | 3  | 8  | 9  | 12 | 14 | 19 | 20 | 10 | 16 | 17 | 15 | 13 | <!----> |\n",
       "| 7 | 2 | 1  | 18 | 4  | 5  | 6  | 3  | 8  | 9  | 12 | 14 | 19 | 20 | 16 | 17 | 15 | 10 | 13 | <!----> |\n",
       "| 7 | 2 | 1  | 18 | 4  | 5  | 6  | 3  | 8  | 9  | 12 | 19 | 14 | 20 | 17 | 16 | 15 | 13 | 10 | <!----> |\n",
       "| 7 | 2 | 1  | 18 | 4  | 5  | 6  | 3  | 8  | 9  | 19 | 12 | 14 | 20 | 17 | 16 | 15 | 13 | 10 | <!----> |\n",
       "| 7 | 2 | 1  | 18 | 4  | 3  | 6  | 8  | 5  | 19 | 9  | 14 | 20 | 12 | 17 | 15 | 16 | 13 | 10 | <!----> |\n",
       "| 7 | 2 | 1  | 18 | 3  | 6  | 4  | 19 | 8  | 14 | 17 | 20 | 15 | 16 | 13 | 5  | 9  | 12 | 10 | <!----> |\n",
       "| 7 | 2 | 1  | 18 | 3  | 6  | 19 | 17 | 15 | 13 | 16 | 4  | 5  | 8  | 9  | 14 | 12 | 20 | 10 | <!----> |\n",
       "| 7 | 2 | 1  | 18 | 3  | 6  | 19 | 17 | 15 | 13 | 16 | 4  | 5  | 8  | 9  | 14 | 20 | 12 | 10 | <!----> |\n",
       "| 7 | 2 | 1  | 18 | 3  | 6  | 19 | 17 | 13 | 15 | 16 | 4  | 5  | 8  | 9  | 14 | 20 | 12 | 10 | <!----> |\n",
       "| 7 | 1 | 2  | 18 | 3  | 6  | 19 | 17 | 13 | 15 | 16 | 4  | 5  | 8  | 9  | 14 | 20 | 12 | 10 | <!----> |\n",
       "| 7 | 1 | 18 | 2  | 3  | 6  | 19 | 13 | 17 | 15 | 4  | 5  | 8  | 16 | 9  | 14 | 20 | 10 | 12 | <!----> |\n",
       "| 7 | 1 | 18 | 2  | 3  | 6  | 19 | 13 | 17 | 15 | 4  | 5  | 8  | 9  | 14 | 20 | 10 | 12 | 16 | <!----> |\n",
       "| 1 | 7 | 18 | 2  | 3  | 6  | 19 | 13 | 17 | 15 | 4  | 5  | 8  | 9  | 14 | 20 | 10 | 12 | 16 | <!----> |\n",
       "| 1 | 7 | 18 | 2  | 3  | 19 | 6  | 13 | 17 | 15 | 4  | 5  | 8  | 9  | 14 | 20 | 10 | 12 | 16 | <!----> |\n",
       "| 1 | 7 | 18 | 2  | 3  | 19 | 6  | 13 | 17 | 15 | 4  | 5  | 8  | 9  | 14 | 20 | 10 | 12 | 16 | <!----> |\n",
       "| 1 | 7 | 18 | 2  | 3  | 19 | 6  | 13 | 17 | 15 | 4  | 5  | 8  | 9  | 14 | 20 | 10 | 12 | 16 | <!----> |\n",
       "| 1 | 7 | 2  | 18 | 3  | 19 | 6  | 13 | 17 | 15 | 4  | 5  | 8  | 9  | 14 | 20 | 10 | 12 | 16 | <!----> |\n",
       "| 1 | 7 | 2  | 3  | 19 | 13 | 18 | 6  | 17 | 15 | 4  | 5  | 8  | 9  | 14 | 20 | 10 | 12 | 16 | <!----> |\n",
       "| 1 | 7 | 2  | 3  | 19 | 13 | 18 | 17 | 15 | 4  | 5  | 8  | 9  | 14 | 20 | 10 | 12 | 16 | <!----> | <!----> |\n",
       "| 1 | 7 | 2  | 3  | 18 | 13 | 19 | 15 | 17 | 4  | 5  | 8  | 9  | 14 | 20 | 10 | 12 | 16 | <!----> | <!----> |\n",
       "| 7 | 1 | 2  | 3  | 18 | 13 | 15 | 4  | 5  | 8  | 9  | 19 | 14 | 20 | 10 | 12 | 17 | 16 | <!----> | <!----> |\n",
       "| 7 | 1 | 2  | 3  | 18 | 13 | 4  | 5  | 19 | 8  | 15 | 9  | 14 | 20 | 10 | 17 | 12 | 16 | <!----> | <!----> |\n",
       "| 7 | 1 | 2  | 18 | 13 | 4  | 19 | 5  | 3  | 8  | 9  | 14 | 20 | 10 | 17 | 12 | 15 | 16 | <!----> | <!----> |\n",
       "| 7 | 1 | 2  | 18 | 13 | 19 | 3  | 4  | 5  | 8  | 9  | 14 | 20 | 10 | 17 | 15 | 12 | 16 | <!----> | <!----> |\n",
       "| 7 | 1 | 2  | 18 | 13 | 19 | 3  | 4  | 5  | 8  | 9  | 14 | 20 | 10 | 17 | 15 | 12 | 16 | <!----> | <!----> |\n",
       "| 7 | 1 | 2  | 18 | 13 | 19 | 3  | 4  | 5  | 8  | 9  | 14 | 20 | 10 | 17 | 15 | 12 | 16 | <!----> | <!----> |\n",
       "| 7 | 1 | 2  | 18 | 13 | 19 | 3  | 4  | 5  | 8  | 9  | 14 | 20 | 10 | 17 | 15 | 16 | <!----> | <!----> | <!----> |\n",
       "| 7 | 1 | 2  | 18 | 13 | 19 | 3  | 4  | 5  | 8  | 9  | 14 | 20 | 17 | 10 | 15 | 16 | <!----> | <!----> | <!----> |\n",
       "| 7 | 1 | 2  | 18 | 13 | 19 | 3  | 4  | 5  | 8  | 9  | 14 | 20 | 17 | 15 | 10 | 16 | <!----> | <!----> | <!----> |\n",
       "| 7 | 1 | 2  | 18 | 19 | 3  | 13 | 4  | 5  | 8  | 9  | 14 | 20 | 17 | 15 | 10 | 16 | <!----> | <!----> | <!----> |\n",
       "| 7 | 1 | 2  | 18 | 19 | 3  | 13 | 4  | 5  | 8  | 9  | 14 | 20 | 17 | 15 | 10 | 16 | <!----> | <!----> | <!----> |\n",
       "| 7 | 1 | 2  | 18 | 19 | 3  | 13 | 4  | 5  | 8  | 9  | 14 | 17 | 20 | 15 | 10 | 16 | <!----> | <!----> | <!----> |\n",
       "| 7 | 1 | 2  | 18 | 19 | 3  | 13 | 5  | 8  | 9  | 14 | 17 | 20 | 15 | 10 | 16 | <!----> | <!----> | <!----> | <!----> |\n",
       "| 7 | 1 | 2  | 18 | 19 | 3  | 13 | 5  | 8  | 9  | 14 | 17 | 15 | 20 | 10 | 16 | <!----> | <!----> | <!----> | <!----> |\n",
       "| 7 | 1 | 2  | 18 | 19 | 13 | 3  | 5  | 8  | 9  | 14 | 17 | 15 | 20 | 10 | 16 | <!----> | <!----> | <!----> | <!----> |\n",
       "| 7 | 1 | 2  | 18 | 19 | 13 | 3  | 5  | 8  | 9  | 14 | 17 | 15 | 20 | 10 | 16 | <!----> | <!----> | <!----> | <!----> |\n",
       "| 7 | 1 | 2  | 18 | 19 | 13 | 3  | 5  | 8  | 9  | 14 | 17 | 15 | 20 | 10 | 16 | <!----> | <!----> | <!----> | <!----> |\n",
       "| 7 | 1 | 2  | 18 | 19 | 13 | 3  | 5  | 8  | 9  | 14 | 17 | 15 | 20 | 10 | 16 | <!----> | <!----> | <!----> | <!----> |\n",
       "| 7 | 1 | 2  | 18 | 19 | 13 | 3  | 5  | 8  | 9  | 14 | 17 | 15 | 20 | 10 | 16 | <!----> | <!----> | <!----> | <!----> |\n",
       "| 7 | 1 | 2  | 18 | 19 | 13 | 3  | 5  | 8  | 9  | 14 | 17 | <!----> | <!----> | <!----> | <!----> | <!----> | <!----> | <!----> | <!----> |\n",
       "\n"
      ],
      "text/plain": [
       "   LEC1 RUS2 NOR3 RIC4 GAS5 ALO6 VER7 DEV8 ZHO9 LAT10 VET11 STR12 PER13 OCO14\n",
       "1  1    2    4    7    5    3    6    8    9    11    12    16    14    10   \n",
       "2  1    2    7    4    5    3    6    8    9    12    11    14    16    18   \n",
       "3  1    2    7    4    5    3    6    8    9    12    11    14    16    18   \n",
       "4  1    2    7    4    5    3    6    8    9    12    11    14    18    13   \n",
       "5  1    7    2    4    5    3    6    8    9    12    18    11    14    13   \n",
       "6  1    7    2    4    5    3    6    8    9    18    12    11    13    14   \n",
       "7  1    7    2    4    5    3    6    8    9    18    12    11    14    16   \n",
       "8  1    7    2    4    5    3    6    8    18   9     12    11    14    20   \n",
       "9  1    7    2    4    5    3    6    18   8    9     12    11    14    20   \n",
       "10 1    7    2    4    5    3    18   6    8    9     12    14    11    20   \n",
       "11 1    7    2    4    5    18   3    6    8    9     12    14    19    20   \n",
       "12 7    1    2    4    18   5    3    6    8    9     12    14    19    20   \n",
       "13 7    2    1    18   4    5    6    3    8    9     12    14    19    20   \n",
       "14 7    2    1    18   4    5    6    3    8    9     12    14    19    20   \n",
       "15 7    2    1    18   4    5    6    3    8    9     12    14    19    20   \n",
       "16 7    2    1    18   4    5    6    3    8    9     12    19    14    20   \n",
       "17 7    2    1    18   4    5    6    3    8    9     19    12    14    20   \n",
       "18 7    2    1    18   4    3    6    8    5    19    9     14    20    12   \n",
       "19 7    2    1    18   3    6    4    19   8    14    17    20    15    16   \n",
       "20 7    2    1    18   3    6    19   17   15   13    16    4     5     8    \n",
       "21 7    2    1    18   3    6    19   17   15   13    16    4     5     8    \n",
       "22 7    2    1    18   3    6    19   17   13   15    16    4     5     8    \n",
       "23 7    1    2    18   3    6    19   17   13   15    16    4     5     8    \n",
       "24 7    1    18   2    3    6    19   13   17   15    4     5     8     16   \n",
       "25 7    1    18   2    3    6    19   13   17   15    4     5     8     9    \n",
       "26 1    7    18   2    3    6    19   13   17   15    4     5     8     9    \n",
       "27 1    7    18   2    3    19   6    13   17   15    4     5     8     9    \n",
       "28 1    7    18   2    3    19   6    13   17   15    4     5     8     9    \n",
       "29 1    7    18   2    3    19   6    13   17   15    4     5     8     9    \n",
       "30 1    7    2    18   3    19   6    13   17   15    4     5     8     9    \n",
       "31 1    7    2    3    19   13   18   6    17   15    4     5     8     9    \n",
       "32 1    7    2    3    19   13   18   17   15   4     5     8     9     14   \n",
       "33 1    7    2    3    18   13   19   15   17   4     5     8     9     14   \n",
       "34 7    1    2    3    18   13   15   4    5    8     9     19    14    20   \n",
       "35 7    1    2    3    18   13   4    5    19   8     15    9     14    20   \n",
       "36 7    1    2    18   13   4    19   5    3    8     9     14    20    10   \n",
       "37 7    1    2    18   13   19   3    4    5    8     9     14    20    10   \n",
       "38 7    1    2    18   13   19   3    4    5    8     9     14    20    10   \n",
       "39 7    1    2    18   13   19   3    4    5    8     9     14    20    10   \n",
       "40 7    1    2    18   13   19   3    4    5    8     9     14    20    10   \n",
       "41 7    1    2    18   13   19   3    4    5    8     9     14    20    17   \n",
       "42 7    1    2    18   13   19   3    4    5    8     9     14    20    17   \n",
       "43 7    1    2    18   19   3    13   4    5    8     9     14    20    17   \n",
       "44 7    1    2    18   19   3    13   4    5    8     9     14    20    17   \n",
       "45 7    1    2    18   19   3    13   4    5    8     9     14    17    20   \n",
       "46 7    1    2    18   19   3    13   5    8    9     14    17    20    15   \n",
       "47 7    1    2    18   19   3    13   5    8    9     14    17    15    20   \n",
       "48 7    1    2    18   19   13   3    5    8    9     14    17    15    20   \n",
       "49 7    1    2    18   19   13   3    5    8    9     14    17    15    20   \n",
       "50 7    1    2    18   19   13   3    5    8    9     14    17    15    20   \n",
       "51 7    1    2    18   19   13   3    5    8    9     14    17    15    20   \n",
       "52 7    1    2    18   19   13   3    5    8    9     14    17    15    20   \n",
       "53 7    1    2    18   19   13   3    5    8    9     14    17               \n",
       "   BOT15 MAG16 MSC17 SAI18 HAM19 TSU20\n",
       "1  13    18    17    20    19    15   \n",
       "2  10    13    20    19    17    15   \n",
       "3  13    10    20    19    17    15   \n",
       "4  16    10    20    19    17    15   \n",
       "5  16    10    20    19    17    15   \n",
       "6  16    10    20    19    17    15   \n",
       "7  20    10    19    13    17    15   \n",
       "8  16    19    10    17    15    13   \n",
       "9  19    16    10    17    15    13   \n",
       "10 19    16    10    17    15    13   \n",
       "11 16    10    17    15    13         \n",
       "12 16    10    17    15    13         \n",
       "13 10    16    17    15    13         \n",
       "14 10    16    17    15    13         \n",
       "15 16    17    15    10    13         \n",
       "16 17    16    15    13    10         \n",
       "17 17    16    15    13    10         \n",
       "18 17    15    16    13    10         \n",
       "19 13    5     9     12    10         \n",
       "20 9     14    12    20    10         \n",
       "21 9     14    20    12    10         \n",
       "22 9     14    20    12    10         \n",
       "23 9     14    20    12    10         \n",
       "24 9     14    20    10    12         \n",
       "25 14    20    10    12    16         \n",
       "26 14    20    10    12    16         \n",
       "27 14    20    10    12    16         \n",
       "28 14    20    10    12    16         \n",
       "29 14    20    10    12    16         \n",
       "30 14    20    10    12    16         \n",
       "31 14    20    10    12    16         \n",
       "32 20    10    12    16               \n",
       "33 20    10    12    16               \n",
       "34 10    12    17    16               \n",
       "35 10    17    12    16               \n",
       "36 17    12    15    16               \n",
       "37 17    15    12    16               \n",
       "38 17    15    12    16               \n",
       "39 17    15    12    16               \n",
       "40 17    15    16                     \n",
       "41 10    15    16                     \n",
       "42 15    10    16                     \n",
       "43 15    10    16                     \n",
       "44 15    10    16                     \n",
       "45 15    10    16                     \n",
       "46 10    16                           \n",
       "47 10    16                           \n",
       "48 10    16                           \n",
       "49 10    16                           \n",
       "50 10    16                           \n",
       "51 10    16                           \n",
       "52 10    16                           \n",
       "53                                    "
      ]
     },
     "metadata": {},
     "output_type": "display_data"
    }
   ],
   "source": [
    "table_without_laps"
   ]
  },
  {
   "cell_type": "code",
   "execution_count": 87,
   "id": "8ad344aa",
   "metadata": {
    "vscode": {
     "languageId": "r"
    }
   },
   "outputs": [],
   "source": [
    "overlapping <- function(vector, names, names_pos, table){\n",
    "    \n",
    "    did <- 0\n",
    "    got <- 0\n",
    "    vector_number <- mapvalues(vector, from = names, to = names_pos)\n",
    "    vector_number <- sort(vector_number)\n",
    "    vector <- mapvalues(vector_number, from = names_pos, to = names)\n",
    "    for (i in 1:53){\n",
    "        previous_lap <- which(table_without_laps[i, ] == vector_number[1]) - which(table_without_laps[i, ] == vector_number[2])\n",
    "        next_lap <- which(table_without_laps[i + 1, ] == vector_number[1]) - which(table_without_laps[i + 1, ] == vector_number[2])\n",
    "        previous_lap  <- integer0_test(previous_lap)\n",
    "        next_lap <- integer0_test(next_lap)\n",
    "        if (previous_lap < 0 & next_lap > 0) {\n",
    "            did <- did + 1  \n",
    "        }\n",
    "        else if (previous_lap > 0 && next_lap < 0) {\n",
    "            got <- got + 1\n",
    "        }\n",
    "    }\n",
    "    print(sprintf('%s overtakes %s %d time(s)', vector[1], vector[2], got))\n",
    "    print(sprintf('%s overtakes %s %d time(s)', vector[2], vector[1], did))\n",
    "}"
   ]
  },
  {
   "cell_type": "code",
   "execution_count": 88,
   "id": "43c69ce2",
   "metadata": {
    "vscode": {
     "languageId": "r"
    }
   },
   "outputs": [
    {
     "name": "stderr",
     "output_type": "stream",
     "text": [
      "The following `from` values were not present in `x`: LEC, RUS, NOR, RIC, GAS, ALO, VER, DEV, ZHO, VET, STR, PER, OCO, MAG, MSC, SAI, HAM, TSU\n",
      "\n",
      "The following `from` values were not present in `x`: 1, 2, 3, 4, 5, 6, 7, 8, 9, 11, 12, 13, 14, 16, 17, 18, 19, 20\n",
      "\n"
     ]
    },
    {
     "name": "stdout",
     "output_type": "stream",
     "text": [
      "[1] \"LAT overtakes BOT 1 time(s)\"\n",
      "[1] \"BOT overtakes LAT 2 time(s)\"\n"
     ]
    }
   ],
   "source": [
    "overlapping(c('LAT', 'BOT'), names ,names_pos, table_without_laps)"
   ]
  },
  {
   "cell_type": "code",
   "execution_count": 60,
   "id": "23a5fd09",
   "metadata": {
    "vscode": {
     "languageId": "r"
    }
   },
   "outputs": [
    {
     "name": "stdout",
     "output_type": "stream",
     "text": [
      "[1] 1\n",
      "[1] 3\n",
      "[1] 6\n",
      "[1] 10\n",
      "[1] 15\n",
      "[1] 21\n",
      "[1] 28\n",
      "[1] 36\n",
      "[1] 45\n",
      "[1] 55\n"
     ]
    }
   ],
   "source": [
    "did <- 0\n",
    "for (i in 1:10){\n",
    "    did <- did + i\n",
    "    print(did)\n",
    "}"
   ]
  },
  {
   "cell_type": "code",
   "execution_count": 624,
   "id": "e94f1dd0",
   "metadata": {
    "vscode": {
     "languageId": "r"
    }
   },
   "outputs": [
    {
     "data": {
      "text/html": [
       "<style>\n",
       ".list-inline {list-style: none; margin:0; padding: 0}\n",
       ".list-inline>li {display: inline-block}\n",
       ".list-inline>li:not(:last-child)::after {content: \"\\00b7\"; padding: 0 .5ex}\n",
       "</style>\n",
       "<ol class=list-inline><li>3</li><li>10</li></ol>\n"
      ],
      "text/latex": [
       "\\begin{enumerate*}\n",
       "\\item 3\n",
       "\\item 10\n",
       "\\end{enumerate*}\n"
      ],
      "text/markdown": [
       "1. 3\n",
       "2. 10\n",
       "\n",
       "\n"
      ],
      "text/plain": [
       "[1]  3 10"
      ]
     },
     "metadata": {},
     "output_type": "display_data"
    },
    {
     "data": {
      "text/html": [
       "10"
      ],
      "text/latex": [
       "10"
      ],
      "text/markdown": [
       "10"
      ],
      "text/plain": [
       "[1] 10"
      ]
     },
     "metadata": {},
     "output_type": "display_data"
    }
   ],
   "source": [
    "k <- c(10, 3)\n",
    "sort(k)\n",
    "k[1]"
   ]
  },
  {
   "cell_type": "code",
   "execution_count": 617,
   "id": "ae44757a",
   "metadata": {
    "vscode": {
     "languageId": "r"
    }
   },
   "outputs": [
    {
     "data": {
      "text/html": [
       "<style>\n",
       ".list-inline {list-style: none; margin:0; padding: 0}\n",
       ".list-inline>li {display: inline-block}\n",
       ".list-inline>li:not(:last-child)::after {content: \"\\00b7\"; padding: 0 .5ex}\n",
       "</style>\n",
       "<ol class=list-inline><li>1</li><li>2</li><li>3</li><li>4</li><li>5</li><li>6</li><li>7</li><li>8</li><li>9</li><li>10</li><li>11</li><li>12</li><li>13</li><li>14</li><li>15</li><li>16</li><li>17</li><li>18</li><li>19</li><li>20</li></ol>\n"
      ],
      "text/latex": [
       "\\begin{enumerate*}\n",
       "\\item 1\n",
       "\\item 2\n",
       "\\item 3\n",
       "\\item 4\n",
       "\\item 5\n",
       "\\item 6\n",
       "\\item 7\n",
       "\\item 8\n",
       "\\item 9\n",
       "\\item 10\n",
       "\\item 11\n",
       "\\item 12\n",
       "\\item 13\n",
       "\\item 14\n",
       "\\item 15\n",
       "\\item 16\n",
       "\\item 17\n",
       "\\item 18\n",
       "\\item 19\n",
       "\\item 20\n",
       "\\end{enumerate*}\n"
      ],
      "text/markdown": [
       "1. 1\n",
       "2. 2\n",
       "3. 3\n",
       "4. 4\n",
       "5. 5\n",
       "6. 6\n",
       "7. 7\n",
       "8. 8\n",
       "9. 9\n",
       "10. 10\n",
       "11. 11\n",
       "12. 12\n",
       "13. 13\n",
       "14. 14\n",
       "15. 15\n",
       "16. 16\n",
       "17. 17\n",
       "18. 18\n",
       "19. 19\n",
       "20. 20\n",
       "\n",
       "\n"
      ],
      "text/plain": [
       " [1]  1  2  3  4  5  6  7  8  9 10 11 12 13 14 15 16 17 18 19 20"
      ]
     },
     "metadata": {},
     "output_type": "display_data"
    }
   ],
   "source": [
    "names_pos"
   ]
  },
  {
   "cell_type": "code",
   "execution_count": 563,
   "id": "73faeda0",
   "metadata": {
    "vscode": {
     "languageId": "r"
    }
   },
   "outputs": [],
   "source": [
    "scores_with_names <- scores_df_header_1[-1]"
   ]
  },
  {
   "cell_type": "code",
   "execution_count": 566,
   "id": "e08c665c",
   "metadata": {
    "vscode": {
     "languageId": "r"
    }
   },
   "outputs": [
    {
     "data": {
      "text/html": [
       "<style>\n",
       ".list-inline {list-style: none; margin:0; padding: 0}\n",
       ".list-inline>li {display: inline-block}\n",
       ".list-inline>li:not(:last-child)::after {content: \"\\00b7\"; padding: 0 .5ex}\n",
       "</style>\n",
       "<ol class=list-inline><li>'LEC'</li><li>'RUS'</li><li>'NOR'</li><li>'RIC'</li><li>'GAS'</li><li>'ALO'</li><li>'VER'</li><li>'DEV'</li><li>'ZHO'</li><li>'LAT'</li><li>'VET'</li><li>'STR'</li><li>'PER'</li><li>'OCO'</li><li>'BOT'</li><li>'MAG'</li><li>'MSC'</li><li>'SAI'</li><li>'HAM'</li><li>'TSU'</li></ol>\n"
      ],
      "text/latex": [
       "\\begin{enumerate*}\n",
       "\\item 'LEC'\n",
       "\\item 'RUS'\n",
       "\\item 'NOR'\n",
       "\\item 'RIC'\n",
       "\\item 'GAS'\n",
       "\\item 'ALO'\n",
       "\\item 'VER'\n",
       "\\item 'DEV'\n",
       "\\item 'ZHO'\n",
       "\\item 'LAT'\n",
       "\\item 'VET'\n",
       "\\item 'STR'\n",
       "\\item 'PER'\n",
       "\\item 'OCO'\n",
       "\\item 'BOT'\n",
       "\\item 'MAG'\n",
       "\\item 'MSC'\n",
       "\\item 'SAI'\n",
       "\\item 'HAM'\n",
       "\\item 'TSU'\n",
       "\\end{enumerate*}\n"
      ],
      "text/markdown": [
       "1. 'LEC'\n",
       "2. 'RUS'\n",
       "3. 'NOR'\n",
       "4. 'RIC'\n",
       "5. 'GAS'\n",
       "6. 'ALO'\n",
       "7. 'VER'\n",
       "8. 'DEV'\n",
       "9. 'ZHO'\n",
       "10. 'LAT'\n",
       "11. 'VET'\n",
       "12. 'STR'\n",
       "13. 'PER'\n",
       "14. 'OCO'\n",
       "15. 'BOT'\n",
       "16. 'MAG'\n",
       "17. 'MSC'\n",
       "18. 'SAI'\n",
       "19. 'HAM'\n",
       "20. 'TSU'\n",
       "\n",
       "\n"
      ],
      "text/plain": [
       " [1] \"LEC\" \"RUS\" \"NOR\" \"RIC\" \"GAS\" \"ALO\" \"VER\" \"DEV\" \"ZHO\" \"LAT\" \"VET\" \"STR\"\n",
       "[13] \"PER\" \"OCO\" \"BOT\" \"MAG\" \"MSC\" \"SAI\" \"HAM\" \"TSU\""
      ]
     },
     "metadata": {},
     "output_type": "display_data"
    }
   ],
   "source": [
    "names"
   ]
  },
  {
   "cell_type": "code",
   "execution_count": 567,
   "id": "e2aeec24",
   "metadata": {
    "vscode": {
     "languageId": "r"
    }
   },
   "outputs": [],
   "source": [
    "scores_with_names <- rbind(names, scores_with_names)"
   ]
  },
  {
   "cell_type": "code",
   "execution_count": 568,
   "id": "8c802bf4",
   "metadata": {
    "vscode": {
     "languageId": "r"
    }
   },
   "outputs": [
    {
     "data": {
      "text/html": [
       "<table class=\"dataframe\">\n",
       "<caption>A tibble: 54 × 20</caption>\n",
       "<thead>\n",
       "\t<tr><th scope=col>LEC1</th><th scope=col>RUS2</th><th scope=col>NOR3</th><th scope=col>RIC4</th><th scope=col>GAS5</th><th scope=col>ALO6</th><th scope=col>VER7</th><th scope=col>DEV8</th><th scope=col>ZHO9</th><th scope=col>LAT10</th><th scope=col>VET11</th><th scope=col>STR12</th><th scope=col>PER13</th><th scope=col>OCO14</th><th scope=col>BOT15</th><th scope=col>MAG16</th><th scope=col>MSC17</th><th scope=col>SAI18</th><th scope=col>HAM19</th><th scope=col>TSU20</th></tr>\n",
       "\t<tr><th scope=col>&lt;chr&gt;</th><th scope=col>&lt;chr&gt;</th><th scope=col>&lt;chr&gt;</th><th scope=col>&lt;chr&gt;</th><th scope=col>&lt;chr&gt;</th><th scope=col>&lt;chr&gt;</th><th scope=col>&lt;chr&gt;</th><th scope=col>&lt;chr&gt;</th><th scope=col>&lt;chr&gt;</th><th scope=col>&lt;chr&gt;</th><th scope=col>&lt;chr&gt;</th><th scope=col>&lt;chr&gt;</th><th scope=col>&lt;chr&gt;</th><th scope=col>&lt;chr&gt;</th><th scope=col>&lt;chr&gt;</th><th scope=col>&lt;chr&gt;</th><th scope=col>&lt;chr&gt;</th><th scope=col>&lt;chr&gt;</th><th scope=col>&lt;chr&gt;</th><th scope=col>&lt;chr&gt;</th></tr>\n",
       "</thead>\n",
       "<tbody>\n",
       "\t<tr><td>LEC</td><td>RUS</td><td>NOR</td><td>RIC</td><td>GAS</td><td>ALO</td><td>VER</td><td>DEV</td><td>ZHO</td><td>LAT</td><td>VET</td><td>STR</td><td>PER</td><td>OCO</td><td>BOT</td><td>MAG</td><td>MSC</td><td>SAI</td><td>HAM</td><td>TSU</td></tr>\n",
       "\t<tr><td>LEC</td><td>RUS</td><td>RIC</td><td>VER</td><td>GAS</td><td>NOR</td><td>ALO</td><td>DEV</td><td>ZHO</td><td>VET</td><td>STR</td><td>MAG</td><td>OCO</td><td>LAT</td><td>PER</td><td>SAI</td><td>MSC</td><td>TSU</td><td>HAM</td><td>BOT</td></tr>\n",
       "\t<tr><td>LEC</td><td>RUS</td><td>VER</td><td>RIC</td><td>GAS</td><td>NOR</td><td>ALO</td><td>DEV</td><td>ZHO</td><td>STR</td><td>VET</td><td>OCO</td><td>MAG</td><td>SAI</td><td>LAT</td><td>PER</td><td>TSU</td><td>HAM</td><td>MSC</td><td>BOT</td></tr>\n",
       "\t<tr><td>LEC</td><td>RUS</td><td>VER</td><td>RIC</td><td>GAS</td><td>NOR</td><td>ALO</td><td>DEV</td><td>ZHO</td><td>STR</td><td>VET</td><td>OCO</td><td>MAG</td><td>SAI</td><td>PER</td><td>LAT</td><td>TSU</td><td>HAM</td><td>MSC</td><td>BOT</td></tr>\n",
       "\t<tr><td>LEC</td><td>RUS</td><td>VER</td><td>RIC</td><td>GAS</td><td>NOR</td><td>ALO</td><td>DEV</td><td>ZHO</td><td>STR</td><td>VET</td><td>OCO</td><td>SAI</td><td>PER</td><td>MAG</td><td>LAT</td><td>TSU</td><td>HAM</td><td>MSC</td><td>BOT</td></tr>\n",
       "\t<tr><td>LEC</td><td>VER</td><td>RUS</td><td>RIC</td><td>GAS</td><td>NOR</td><td>ALO</td><td>DEV</td><td>ZHO</td><td>STR</td><td>SAI</td><td>VET</td><td>OCO</td><td>PER</td><td>MAG</td><td>LAT</td><td>TSU</td><td>HAM</td><td>MSC</td><td>BOT</td></tr>\n",
       "\t<tr><td>LEC</td><td>VER</td><td>RUS</td><td>RIC</td><td>GAS</td><td>NOR</td><td>ALO</td><td>DEV</td><td>ZHO</td><td>SAI</td><td>STR</td><td>VET</td><td>PER</td><td>OCO</td><td>MAG</td><td>LAT</td><td>TSU</td><td>HAM</td><td>MSC</td><td>BOT</td></tr>\n",
       "\t<tr><td>LEC</td><td>VER</td><td>RUS</td><td>RIC</td><td>GAS</td><td>NOR</td><td>ALO</td><td>DEV</td><td>ZHO</td><td>SAI</td><td>STR</td><td>VET</td><td>OCO</td><td>MAG</td><td>TSU</td><td>LAT</td><td>HAM</td><td>PER</td><td>MSC</td><td>BOT</td></tr>\n",
       "\t<tr><td>LEC</td><td>VER</td><td>RUS</td><td>RIC</td><td>GAS</td><td>NOR</td><td>ALO</td><td>DEV</td><td>SAI</td><td>ZHO</td><td>STR</td><td>VET</td><td>OCO</td><td>TSU</td><td>MAG</td><td>HAM</td><td>LAT</td><td>MSC</td><td>BOT</td><td>PER</td></tr>\n",
       "\t<tr><td>LEC</td><td>VER</td><td>RUS</td><td>RIC</td><td>GAS</td><td>NOR</td><td>ALO</td><td>SAI</td><td>DEV</td><td>ZHO</td><td>STR</td><td>VET</td><td>OCO</td><td>TSU</td><td>HAM</td><td>MAG</td><td>LAT</td><td>MSC</td><td>BOT</td><td>PER</td></tr>\n",
       "\t<tr><td>LEC</td><td>VER</td><td>RUS</td><td>RIC</td><td>GAS</td><td>NOR</td><td>SAI</td><td>ALO</td><td>DEV</td><td>ZHO</td><td>STR</td><td>OCO</td><td>VET</td><td>TSU</td><td>HAM</td><td>MAG</td><td>LAT</td><td>MSC</td><td>BOT</td><td>PER</td></tr>\n",
       "\t<tr><td>LEC</td><td>VER</td><td>RUS</td><td>RIC</td><td>GAS</td><td>SAI</td><td>NOR</td><td>ALO</td><td>DEV</td><td>ZHO</td><td>STR</td><td>OCO</td><td>HAM</td><td>TSU</td><td>MAG</td><td>LAT</td><td>MSC</td><td>BOT</td><td>PER</td><td>   </td></tr>\n",
       "\t<tr><td>VER</td><td>LEC</td><td>RUS</td><td>RIC</td><td>SAI</td><td>GAS</td><td>NOR</td><td>ALO</td><td>DEV</td><td>ZHO</td><td>STR</td><td>OCO</td><td>HAM</td><td>TSU</td><td>MAG</td><td>LAT</td><td>MSC</td><td>BOT</td><td>PER</td><td>   </td></tr>\n",
       "\t<tr><td>VER</td><td>RUS</td><td>LEC</td><td>SAI</td><td>RIC</td><td>GAS</td><td>ALO</td><td>NOR</td><td>DEV</td><td>ZHO</td><td>STR</td><td>OCO</td><td>HAM</td><td>TSU</td><td>LAT</td><td>MAG</td><td>MSC</td><td>BOT</td><td>PER</td><td>   </td></tr>\n",
       "\t<tr><td>VER</td><td>RUS</td><td>LEC</td><td>SAI</td><td>RIC</td><td>GAS</td><td>ALO</td><td>NOR</td><td>DEV</td><td>ZHO</td><td>STR</td><td>OCO</td><td>HAM</td><td>TSU</td><td>LAT</td><td>MAG</td><td>MSC</td><td>BOT</td><td>PER</td><td>   </td></tr>\n",
       "\t<tr><td>VER</td><td>RUS</td><td>LEC</td><td>SAI</td><td>RIC</td><td>GAS</td><td>ALO</td><td>NOR</td><td>DEV</td><td>ZHO</td><td>STR</td><td>OCO</td><td>HAM</td><td>TSU</td><td>MAG</td><td>MSC</td><td>BOT</td><td>LAT</td><td>PER</td><td>   </td></tr>\n",
       "\t<tr><td>VER</td><td>RUS</td><td>LEC</td><td>SAI</td><td>RIC</td><td>GAS</td><td>ALO</td><td>NOR</td><td>DEV</td><td>ZHO</td><td>STR</td><td>HAM</td><td>OCO</td><td>TSU</td><td>MSC</td><td>MAG</td><td>BOT</td><td>PER</td><td>LAT</td><td>   </td></tr>\n",
       "\t<tr><td>VER</td><td>RUS</td><td>LEC</td><td>SAI</td><td>RIC</td><td>GAS</td><td>ALO</td><td>NOR</td><td>DEV</td><td>ZHO</td><td>HAM</td><td>STR</td><td>OCO</td><td>TSU</td><td>MSC</td><td>MAG</td><td>BOT</td><td>PER</td><td>LAT</td><td>   </td></tr>\n",
       "\t<tr><td>VER</td><td>RUS</td><td>LEC</td><td>SAI</td><td>RIC</td><td>NOR</td><td>ALO</td><td>DEV</td><td>GAS</td><td>HAM</td><td>ZHO</td><td>OCO</td><td>TSU</td><td>STR</td><td>MSC</td><td>BOT</td><td>MAG</td><td>PER</td><td>LAT</td><td>   </td></tr>\n",
       "\t<tr><td>VER</td><td>RUS</td><td>LEC</td><td>SAI</td><td>NOR</td><td>ALO</td><td>RIC</td><td>HAM</td><td>DEV</td><td>OCO</td><td>MSC</td><td>TSU</td><td>BOT</td><td>MAG</td><td>PER</td><td>GAS</td><td>ZHO</td><td>STR</td><td>LAT</td><td>   </td></tr>\n",
       "\t<tr><td>VER</td><td>RUS</td><td>LEC</td><td>SAI</td><td>NOR</td><td>ALO</td><td>HAM</td><td>MSC</td><td>BOT</td><td>PER</td><td>MAG</td><td>RIC</td><td>GAS</td><td>DEV</td><td>ZHO</td><td>OCO</td><td>STR</td><td>TSU</td><td>LAT</td><td>   </td></tr>\n",
       "\t<tr><td>VER</td><td>RUS</td><td>LEC</td><td>SAI</td><td>NOR</td><td>ALO</td><td>HAM</td><td>MSC</td><td>BOT</td><td>PER</td><td>MAG</td><td>RIC</td><td>GAS</td><td>DEV</td><td>ZHO</td><td>OCO</td><td>TSU</td><td>STR</td><td>LAT</td><td>   </td></tr>\n",
       "\t<tr><td>VER</td><td>RUS</td><td>LEC</td><td>SAI</td><td>NOR</td><td>ALO</td><td>HAM</td><td>MSC</td><td>PER</td><td>BOT</td><td>MAG</td><td>RIC</td><td>GAS</td><td>DEV</td><td>ZHO</td><td>OCO</td><td>TSU</td><td>STR</td><td>LAT</td><td>   </td></tr>\n",
       "\t<tr><td>VER</td><td>LEC</td><td>RUS</td><td>SAI</td><td>NOR</td><td>ALO</td><td>HAM</td><td>MSC</td><td>PER</td><td>BOT</td><td>MAG</td><td>RIC</td><td>GAS</td><td>DEV</td><td>ZHO</td><td>OCO</td><td>TSU</td><td>STR</td><td>LAT</td><td>   </td></tr>\n",
       "\t<tr><td>VER</td><td>LEC</td><td>SAI</td><td>RUS</td><td>NOR</td><td>ALO</td><td>HAM</td><td>PER</td><td>MSC</td><td>BOT</td><td>RIC</td><td>GAS</td><td>DEV</td><td>MAG</td><td>ZHO</td><td>OCO</td><td>TSU</td><td>LAT</td><td>STR</td><td>   </td></tr>\n",
       "\t<tr><td>VER</td><td>LEC</td><td>SAI</td><td>RUS</td><td>NOR</td><td>ALO</td><td>HAM</td><td>PER</td><td>MSC</td><td>BOT</td><td>RIC</td><td>GAS</td><td>DEV</td><td>ZHO</td><td>OCO</td><td>TSU</td><td>LAT</td><td>STR</td><td>MAG</td><td>   </td></tr>\n",
       "\t<tr><td>LEC</td><td>VER</td><td>SAI</td><td>RUS</td><td>NOR</td><td>ALO</td><td>HAM</td><td>PER</td><td>MSC</td><td>BOT</td><td>RIC</td><td>GAS</td><td>DEV</td><td>ZHO</td><td>OCO</td><td>TSU</td><td>LAT</td><td>STR</td><td>MAG</td><td>   </td></tr>\n",
       "\t<tr><td>LEC</td><td>VER</td><td>SAI</td><td>RUS</td><td>NOR</td><td>HAM</td><td>ALO</td><td>PER</td><td>MSC</td><td>BOT</td><td>RIC</td><td>GAS</td><td>DEV</td><td>ZHO</td><td>OCO</td><td>TSU</td><td>LAT</td><td>STR</td><td>MAG</td><td>   </td></tr>\n",
       "\t<tr><td>LEC</td><td>VER</td><td>SAI</td><td>RUS</td><td>NOR</td><td>HAM</td><td>ALO</td><td>PER</td><td>MSC</td><td>BOT</td><td>RIC</td><td>GAS</td><td>DEV</td><td>ZHO</td><td>OCO</td><td>TSU</td><td>LAT</td><td>STR</td><td>MAG</td><td>   </td></tr>\n",
       "\t<tr><td>LEC</td><td>VER</td><td>SAI</td><td>RUS</td><td>NOR</td><td>HAM</td><td>ALO</td><td>PER</td><td>MSC</td><td>BOT</td><td>RIC</td><td>GAS</td><td>DEV</td><td>ZHO</td><td>OCO</td><td>TSU</td><td>LAT</td><td>STR</td><td>MAG</td><td>   </td></tr>\n",
       "\t<tr><td>LEC</td><td>VER</td><td>RUS</td><td>SAI</td><td>NOR</td><td>HAM</td><td>ALO</td><td>PER</td><td>MSC</td><td>BOT</td><td>RIC</td><td>GAS</td><td>DEV</td><td>ZHO</td><td>OCO</td><td>TSU</td><td>LAT</td><td>STR</td><td>MAG</td><td>   </td></tr>\n",
       "\t<tr><td>LEC</td><td>VER</td><td>RUS</td><td>NOR</td><td>HAM</td><td>PER</td><td>SAI</td><td>ALO</td><td>MSC</td><td>BOT</td><td>RIC</td><td>GAS</td><td>DEV</td><td>ZHO</td><td>OCO</td><td>TSU</td><td>LAT</td><td>STR</td><td>MAG</td><td>   </td></tr>\n",
       "\t<tr><td>LEC</td><td>VER</td><td>RUS</td><td>NOR</td><td>HAM</td><td>PER</td><td>SAI</td><td>MSC</td><td>BOT</td><td>RIC</td><td>GAS</td><td>DEV</td><td>ZHO</td><td>OCO</td><td>TSU</td><td>LAT</td><td>STR</td><td>MAG</td><td>   </td><td>   </td></tr>\n",
       "\t<tr><td>LEC</td><td>VER</td><td>RUS</td><td>NOR</td><td>SAI</td><td>PER</td><td>HAM</td><td>BOT</td><td>MSC</td><td>RIC</td><td>GAS</td><td>DEV</td><td>ZHO</td><td>OCO</td><td>TSU</td><td>LAT</td><td>STR</td><td>MAG</td><td>   </td><td>   </td></tr>\n",
       "\t<tr><td>VER</td><td>LEC</td><td>RUS</td><td>NOR</td><td>SAI</td><td>PER</td><td>BOT</td><td>RIC</td><td>GAS</td><td>DEV</td><td>ZHO</td><td>HAM</td><td>OCO</td><td>TSU</td><td>LAT</td><td>STR</td><td>MSC</td><td>MAG</td><td>   </td><td>   </td></tr>\n",
       "\t<tr><td>VER</td><td>LEC</td><td>RUS</td><td>NOR</td><td>SAI</td><td>PER</td><td>RIC</td><td>GAS</td><td>HAM</td><td>DEV</td><td>BOT</td><td>ZHO</td><td>OCO</td><td>TSU</td><td>LAT</td><td>MSC</td><td>STR</td><td>MAG</td><td>   </td><td>   </td></tr>\n",
       "\t<tr><td>VER</td><td>LEC</td><td>RUS</td><td>SAI</td><td>PER</td><td>RIC</td><td>HAM</td><td>GAS</td><td>NOR</td><td>DEV</td><td>ZHO</td><td>OCO</td><td>TSU</td><td>LAT</td><td>MSC</td><td>STR</td><td>BOT</td><td>MAG</td><td>   </td><td>   </td></tr>\n",
       "\t<tr><td>VER</td><td>LEC</td><td>RUS</td><td>SAI</td><td>PER</td><td>HAM</td><td>NOR</td><td>RIC</td><td>GAS</td><td>DEV</td><td>ZHO</td><td>OCO</td><td>TSU</td><td>LAT</td><td>MSC</td><td>BOT</td><td>STR</td><td>MAG</td><td>   </td><td>   </td></tr>\n",
       "\t<tr><td>VER</td><td>LEC</td><td>RUS</td><td>SAI</td><td>PER</td><td>HAM</td><td>NOR</td><td>RIC</td><td>GAS</td><td>DEV</td><td>ZHO</td><td>OCO</td><td>TSU</td><td>LAT</td><td>MSC</td><td>BOT</td><td>STR</td><td>MAG</td><td>   </td><td>   </td></tr>\n",
       "\t<tr><td>VER</td><td>LEC</td><td>RUS</td><td>SAI</td><td>PER</td><td>HAM</td><td>NOR</td><td>RIC</td><td>GAS</td><td>DEV</td><td>ZHO</td><td>OCO</td><td>TSU</td><td>LAT</td><td>MSC</td><td>BOT</td><td>STR</td><td>MAG</td><td>   </td><td>   </td></tr>\n",
       "\t<tr><td>VER</td><td>LEC</td><td>RUS</td><td>SAI</td><td>PER</td><td>HAM</td><td>NOR</td><td>RIC</td><td>GAS</td><td>DEV</td><td>ZHO</td><td>OCO</td><td>TSU</td><td>LAT</td><td>MSC</td><td>BOT</td><td>MAG</td><td>   </td><td>   </td><td>   </td></tr>\n",
       "\t<tr><td>VER</td><td>LEC</td><td>RUS</td><td>SAI</td><td>PER</td><td>HAM</td><td>NOR</td><td>RIC</td><td>GAS</td><td>DEV</td><td>ZHO</td><td>OCO</td><td>TSU</td><td>MSC</td><td>LAT</td><td>BOT</td><td>MAG</td><td>   </td><td>   </td><td>   </td></tr>\n",
       "\t<tr><td>VER</td><td>LEC</td><td>RUS</td><td>SAI</td><td>PER</td><td>HAM</td><td>NOR</td><td>RIC</td><td>GAS</td><td>DEV</td><td>ZHO</td><td>OCO</td><td>TSU</td><td>MSC</td><td>BOT</td><td>LAT</td><td>MAG</td><td>   </td><td>   </td><td>   </td></tr>\n",
       "\t<tr><td>VER</td><td>LEC</td><td>RUS</td><td>SAI</td><td>HAM</td><td>NOR</td><td>PER</td><td>RIC</td><td>GAS</td><td>DEV</td><td>ZHO</td><td>OCO</td><td>TSU</td><td>MSC</td><td>BOT</td><td>LAT</td><td>MAG</td><td>   </td><td>   </td><td>   </td></tr>\n",
       "\t<tr><td>VER</td><td>LEC</td><td>RUS</td><td>SAI</td><td>HAM</td><td>NOR</td><td>PER</td><td>RIC</td><td>GAS</td><td>DEV</td><td>ZHO</td><td>OCO</td><td>TSU</td><td>MSC</td><td>BOT</td><td>LAT</td><td>MAG</td><td>   </td><td>   </td><td>   </td></tr>\n",
       "\t<tr><td>VER</td><td>LEC</td><td>RUS</td><td>SAI</td><td>HAM</td><td>NOR</td><td>PER</td><td>RIC</td><td>GAS</td><td>DEV</td><td>ZHO</td><td>OCO</td><td>MSC</td><td>TSU</td><td>BOT</td><td>LAT</td><td>MAG</td><td>   </td><td>   </td><td>   </td></tr>\n",
       "\t<tr><td>VER</td><td>LEC</td><td>RUS</td><td>SAI</td><td>HAM</td><td>NOR</td><td>PER</td><td>GAS</td><td>DEV</td><td>ZHO</td><td>OCO</td><td>MSC</td><td>TSU</td><td>BOT</td><td>LAT</td><td>MAG</td><td>   </td><td>   </td><td>   </td><td>   </td></tr>\n",
       "\t<tr><td>VER</td><td>LEC</td><td>RUS</td><td>SAI</td><td>HAM</td><td>NOR</td><td>PER</td><td>GAS</td><td>DEV</td><td>ZHO</td><td>OCO</td><td>MSC</td><td>BOT</td><td>TSU</td><td>LAT</td><td>MAG</td><td>   </td><td>   </td><td>   </td><td>   </td></tr>\n",
       "\t<tr><td>VER</td><td>LEC</td><td>RUS</td><td>SAI</td><td>HAM</td><td>PER</td><td>NOR</td><td>GAS</td><td>DEV</td><td>ZHO</td><td>OCO</td><td>MSC</td><td>BOT</td><td>TSU</td><td>LAT</td><td>MAG</td><td>   </td><td>   </td><td>   </td><td>   </td></tr>\n",
       "\t<tr><td>VER</td><td>LEC</td><td>RUS</td><td>SAI</td><td>HAM</td><td>PER</td><td>NOR</td><td>GAS</td><td>DEV</td><td>ZHO</td><td>OCO</td><td>MSC</td><td>BOT</td><td>TSU</td><td>LAT</td><td>MAG</td><td>   </td><td>   </td><td>   </td><td>   </td></tr>\n",
       "\t<tr><td>VER</td><td>LEC</td><td>RUS</td><td>SAI</td><td>HAM</td><td>PER</td><td>NOR</td><td>GAS</td><td>DEV</td><td>ZHO</td><td>OCO</td><td>MSC</td><td>BOT</td><td>TSU</td><td>LAT</td><td>MAG</td><td>   </td><td>   </td><td>   </td><td>   </td></tr>\n",
       "\t<tr><td>VER</td><td>LEC</td><td>RUS</td><td>SAI</td><td>HAM</td><td>PER</td><td>NOR</td><td>GAS</td><td>DEV</td><td>ZHO</td><td>OCO</td><td>MSC</td><td>BOT</td><td>TSU</td><td>LAT</td><td>MAG</td><td>   </td><td>   </td><td>   </td><td>   </td></tr>\n",
       "\t<tr><td>VER</td><td>LEC</td><td>RUS</td><td>SAI</td><td>HAM</td><td>PER</td><td>NOR</td><td>GAS</td><td>DEV</td><td>ZHO</td><td>OCO</td><td>MSC</td><td>BOT</td><td>TSU</td><td>LAT</td><td>MAG</td><td>   </td><td>   </td><td>   </td><td>   </td></tr>\n",
       "\t<tr><td>VER</td><td>LEC</td><td>RUS</td><td>SAI</td><td>HAM</td><td>PER</td><td>NOR</td><td>GAS</td><td>DEV</td><td>ZHO</td><td>OCO</td><td>MSC</td><td>   </td><td>   </td><td>   </td><td>   </td><td>   </td><td>   </td><td>   </td><td>   </td></tr>\n",
       "</tbody>\n",
       "</table>\n"
      ],
      "text/latex": [
       "A tibble: 54 × 20\n",
       "\\begin{tabular}{llllllllllllllllllll}\n",
       " LEC1 & RUS2 & NOR3 & RIC4 & GAS5 & ALO6 & VER7 & DEV8 & ZHO9 & LAT10 & VET11 & STR12 & PER13 & OCO14 & BOT15 & MAG16 & MSC17 & SAI18 & HAM19 & TSU20\\\\\n",
       " <chr> & <chr> & <chr> & <chr> & <chr> & <chr> & <chr> & <chr> & <chr> & <chr> & <chr> & <chr> & <chr> & <chr> & <chr> & <chr> & <chr> & <chr> & <chr> & <chr>\\\\\n",
       "\\hline\n",
       "\t LEC & RUS & NOR & RIC & GAS & ALO & VER & DEV & ZHO & LAT & VET & STR & PER & OCO & BOT & MAG & MSC & SAI & HAM & TSU\\\\\n",
       "\t LEC & RUS & RIC & VER & GAS & NOR & ALO & DEV & ZHO & VET & STR & MAG & OCO & LAT & PER & SAI & MSC & TSU & HAM & BOT\\\\\n",
       "\t LEC & RUS & VER & RIC & GAS & NOR & ALO & DEV & ZHO & STR & VET & OCO & MAG & SAI & LAT & PER & TSU & HAM & MSC & BOT\\\\\n",
       "\t LEC & RUS & VER & RIC & GAS & NOR & ALO & DEV & ZHO & STR & VET & OCO & MAG & SAI & PER & LAT & TSU & HAM & MSC & BOT\\\\\n",
       "\t LEC & RUS & VER & RIC & GAS & NOR & ALO & DEV & ZHO & STR & VET & OCO & SAI & PER & MAG & LAT & TSU & HAM & MSC & BOT\\\\\n",
       "\t LEC & VER & RUS & RIC & GAS & NOR & ALO & DEV & ZHO & STR & SAI & VET & OCO & PER & MAG & LAT & TSU & HAM & MSC & BOT\\\\\n",
       "\t LEC & VER & RUS & RIC & GAS & NOR & ALO & DEV & ZHO & SAI & STR & VET & PER & OCO & MAG & LAT & TSU & HAM & MSC & BOT\\\\\n",
       "\t LEC & VER & RUS & RIC & GAS & NOR & ALO & DEV & ZHO & SAI & STR & VET & OCO & MAG & TSU & LAT & HAM & PER & MSC & BOT\\\\\n",
       "\t LEC & VER & RUS & RIC & GAS & NOR & ALO & DEV & SAI & ZHO & STR & VET & OCO & TSU & MAG & HAM & LAT & MSC & BOT & PER\\\\\n",
       "\t LEC & VER & RUS & RIC & GAS & NOR & ALO & SAI & DEV & ZHO & STR & VET & OCO & TSU & HAM & MAG & LAT & MSC & BOT & PER\\\\\n",
       "\t LEC & VER & RUS & RIC & GAS & NOR & SAI & ALO & DEV & ZHO & STR & OCO & VET & TSU & HAM & MAG & LAT & MSC & BOT & PER\\\\\n",
       "\t LEC & VER & RUS & RIC & GAS & SAI & NOR & ALO & DEV & ZHO & STR & OCO & HAM & TSU & MAG & LAT & MSC & BOT & PER &    \\\\\n",
       "\t VER & LEC & RUS & RIC & SAI & GAS & NOR & ALO & DEV & ZHO & STR & OCO & HAM & TSU & MAG & LAT & MSC & BOT & PER &    \\\\\n",
       "\t VER & RUS & LEC & SAI & RIC & GAS & ALO & NOR & DEV & ZHO & STR & OCO & HAM & TSU & LAT & MAG & MSC & BOT & PER &    \\\\\n",
       "\t VER & RUS & LEC & SAI & RIC & GAS & ALO & NOR & DEV & ZHO & STR & OCO & HAM & TSU & LAT & MAG & MSC & BOT & PER &    \\\\\n",
       "\t VER & RUS & LEC & SAI & RIC & GAS & ALO & NOR & DEV & ZHO & STR & OCO & HAM & TSU & MAG & MSC & BOT & LAT & PER &    \\\\\n",
       "\t VER & RUS & LEC & SAI & RIC & GAS & ALO & NOR & DEV & ZHO & STR & HAM & OCO & TSU & MSC & MAG & BOT & PER & LAT &    \\\\\n",
       "\t VER & RUS & LEC & SAI & RIC & GAS & ALO & NOR & DEV & ZHO & HAM & STR & OCO & TSU & MSC & MAG & BOT & PER & LAT &    \\\\\n",
       "\t VER & RUS & LEC & SAI & RIC & NOR & ALO & DEV & GAS & HAM & ZHO & OCO & TSU & STR & MSC & BOT & MAG & PER & LAT &    \\\\\n",
       "\t VER & RUS & LEC & SAI & NOR & ALO & RIC & HAM & DEV & OCO & MSC & TSU & BOT & MAG & PER & GAS & ZHO & STR & LAT &    \\\\\n",
       "\t VER & RUS & LEC & SAI & NOR & ALO & HAM & MSC & BOT & PER & MAG & RIC & GAS & DEV & ZHO & OCO & STR & TSU & LAT &    \\\\\n",
       "\t VER & RUS & LEC & SAI & NOR & ALO & HAM & MSC & BOT & PER & MAG & RIC & GAS & DEV & ZHO & OCO & TSU & STR & LAT &    \\\\\n",
       "\t VER & RUS & LEC & SAI & NOR & ALO & HAM & MSC & PER & BOT & MAG & RIC & GAS & DEV & ZHO & OCO & TSU & STR & LAT &    \\\\\n",
       "\t VER & LEC & RUS & SAI & NOR & ALO & HAM & MSC & PER & BOT & MAG & RIC & GAS & DEV & ZHO & OCO & TSU & STR & LAT &    \\\\\n",
       "\t VER & LEC & SAI & RUS & NOR & ALO & HAM & PER & MSC & BOT & RIC & GAS & DEV & MAG & ZHO & OCO & TSU & LAT & STR &    \\\\\n",
       "\t VER & LEC & SAI & RUS & NOR & ALO & HAM & PER & MSC & BOT & RIC & GAS & DEV & ZHO & OCO & TSU & LAT & STR & MAG &    \\\\\n",
       "\t LEC & VER & SAI & RUS & NOR & ALO & HAM & PER & MSC & BOT & RIC & GAS & DEV & ZHO & OCO & TSU & LAT & STR & MAG &    \\\\\n",
       "\t LEC & VER & SAI & RUS & NOR & HAM & ALO & PER & MSC & BOT & RIC & GAS & DEV & ZHO & OCO & TSU & LAT & STR & MAG &    \\\\\n",
       "\t LEC & VER & SAI & RUS & NOR & HAM & ALO & PER & MSC & BOT & RIC & GAS & DEV & ZHO & OCO & TSU & LAT & STR & MAG &    \\\\\n",
       "\t LEC & VER & SAI & RUS & NOR & HAM & ALO & PER & MSC & BOT & RIC & GAS & DEV & ZHO & OCO & TSU & LAT & STR & MAG &    \\\\\n",
       "\t LEC & VER & RUS & SAI & NOR & HAM & ALO & PER & MSC & BOT & RIC & GAS & DEV & ZHO & OCO & TSU & LAT & STR & MAG &    \\\\\n",
       "\t LEC & VER & RUS & NOR & HAM & PER & SAI & ALO & MSC & BOT & RIC & GAS & DEV & ZHO & OCO & TSU & LAT & STR & MAG &    \\\\\n",
       "\t LEC & VER & RUS & NOR & HAM & PER & SAI & MSC & BOT & RIC & GAS & DEV & ZHO & OCO & TSU & LAT & STR & MAG &     &    \\\\\n",
       "\t LEC & VER & RUS & NOR & SAI & PER & HAM & BOT & MSC & RIC & GAS & DEV & ZHO & OCO & TSU & LAT & STR & MAG &     &    \\\\\n",
       "\t VER & LEC & RUS & NOR & SAI & PER & BOT & RIC & GAS & DEV & ZHO & HAM & OCO & TSU & LAT & STR & MSC & MAG &     &    \\\\\n",
       "\t VER & LEC & RUS & NOR & SAI & PER & RIC & GAS & HAM & DEV & BOT & ZHO & OCO & TSU & LAT & MSC & STR & MAG &     &    \\\\\n",
       "\t VER & LEC & RUS & SAI & PER & RIC & HAM & GAS & NOR & DEV & ZHO & OCO & TSU & LAT & MSC & STR & BOT & MAG &     &    \\\\\n",
       "\t VER & LEC & RUS & SAI & PER & HAM & NOR & RIC & GAS & DEV & ZHO & OCO & TSU & LAT & MSC & BOT & STR & MAG &     &    \\\\\n",
       "\t VER & LEC & RUS & SAI & PER & HAM & NOR & RIC & GAS & DEV & ZHO & OCO & TSU & LAT & MSC & BOT & STR & MAG &     &    \\\\\n",
       "\t VER & LEC & RUS & SAI & PER & HAM & NOR & RIC & GAS & DEV & ZHO & OCO & TSU & LAT & MSC & BOT & STR & MAG &     &    \\\\\n",
       "\t VER & LEC & RUS & SAI & PER & HAM & NOR & RIC & GAS & DEV & ZHO & OCO & TSU & LAT & MSC & BOT & MAG &     &     &    \\\\\n",
       "\t VER & LEC & RUS & SAI & PER & HAM & NOR & RIC & GAS & DEV & ZHO & OCO & TSU & MSC & LAT & BOT & MAG &     &     &    \\\\\n",
       "\t VER & LEC & RUS & SAI & PER & HAM & NOR & RIC & GAS & DEV & ZHO & OCO & TSU & MSC & BOT & LAT & MAG &     &     &    \\\\\n",
       "\t VER & LEC & RUS & SAI & HAM & NOR & PER & RIC & GAS & DEV & ZHO & OCO & TSU & MSC & BOT & LAT & MAG &     &     &    \\\\\n",
       "\t VER & LEC & RUS & SAI & HAM & NOR & PER & RIC & GAS & DEV & ZHO & OCO & TSU & MSC & BOT & LAT & MAG &     &     &    \\\\\n",
       "\t VER & LEC & RUS & SAI & HAM & NOR & PER & RIC & GAS & DEV & ZHO & OCO & MSC & TSU & BOT & LAT & MAG &     &     &    \\\\\n",
       "\t VER & LEC & RUS & SAI & HAM & NOR & PER & GAS & DEV & ZHO & OCO & MSC & TSU & BOT & LAT & MAG &     &     &     &    \\\\\n",
       "\t VER & LEC & RUS & SAI & HAM & NOR & PER & GAS & DEV & ZHO & OCO & MSC & BOT & TSU & LAT & MAG &     &     &     &    \\\\\n",
       "\t VER & LEC & RUS & SAI & HAM & PER & NOR & GAS & DEV & ZHO & OCO & MSC & BOT & TSU & LAT & MAG &     &     &     &    \\\\\n",
       "\t VER & LEC & RUS & SAI & HAM & PER & NOR & GAS & DEV & ZHO & OCO & MSC & BOT & TSU & LAT & MAG &     &     &     &    \\\\\n",
       "\t VER & LEC & RUS & SAI & HAM & PER & NOR & GAS & DEV & ZHO & OCO & MSC & BOT & TSU & LAT & MAG &     &     &     &    \\\\\n",
       "\t VER & LEC & RUS & SAI & HAM & PER & NOR & GAS & DEV & ZHO & OCO & MSC & BOT & TSU & LAT & MAG &     &     &     &    \\\\\n",
       "\t VER & LEC & RUS & SAI & HAM & PER & NOR & GAS & DEV & ZHO & OCO & MSC & BOT & TSU & LAT & MAG &     &     &     &    \\\\\n",
       "\t VER & LEC & RUS & SAI & HAM & PER & NOR & GAS & DEV & ZHO & OCO & MSC &     &     &     &     &     &     &     &    \\\\\n",
       "\\end{tabular}\n"
      ],
      "text/markdown": [
       "\n",
       "A tibble: 54 × 20\n",
       "\n",
       "| LEC1 &lt;chr&gt; | RUS2 &lt;chr&gt; | NOR3 &lt;chr&gt; | RIC4 &lt;chr&gt; | GAS5 &lt;chr&gt; | ALO6 &lt;chr&gt; | VER7 &lt;chr&gt; | DEV8 &lt;chr&gt; | ZHO9 &lt;chr&gt; | LAT10 &lt;chr&gt; | VET11 &lt;chr&gt; | STR12 &lt;chr&gt; | PER13 &lt;chr&gt; | OCO14 &lt;chr&gt; | BOT15 &lt;chr&gt; | MAG16 &lt;chr&gt; | MSC17 &lt;chr&gt; | SAI18 &lt;chr&gt; | HAM19 &lt;chr&gt; | TSU20 &lt;chr&gt; |\n",
       "|---|---|---|---|---|---|---|---|---|---|---|---|---|---|---|---|---|---|---|---|\n",
       "| LEC | RUS | NOR | RIC | GAS | ALO | VER | DEV | ZHO | LAT | VET | STR | PER | OCO | BOT | MAG | MSC | SAI | HAM | TSU |\n",
       "| LEC | RUS | RIC | VER | GAS | NOR | ALO | DEV | ZHO | VET | STR | MAG | OCO | LAT | PER | SAI | MSC | TSU | HAM | BOT |\n",
       "| LEC | RUS | VER | RIC | GAS | NOR | ALO | DEV | ZHO | STR | VET | OCO | MAG | SAI | LAT | PER | TSU | HAM | MSC | BOT |\n",
       "| LEC | RUS | VER | RIC | GAS | NOR | ALO | DEV | ZHO | STR | VET | OCO | MAG | SAI | PER | LAT | TSU | HAM | MSC | BOT |\n",
       "| LEC | RUS | VER | RIC | GAS | NOR | ALO | DEV | ZHO | STR | VET | OCO | SAI | PER | MAG | LAT | TSU | HAM | MSC | BOT |\n",
       "| LEC | VER | RUS | RIC | GAS | NOR | ALO | DEV | ZHO | STR | SAI | VET | OCO | PER | MAG | LAT | TSU | HAM | MSC | BOT |\n",
       "| LEC | VER | RUS | RIC | GAS | NOR | ALO | DEV | ZHO | SAI | STR | VET | PER | OCO | MAG | LAT | TSU | HAM | MSC | BOT |\n",
       "| LEC | VER | RUS | RIC | GAS | NOR | ALO | DEV | ZHO | SAI | STR | VET | OCO | MAG | TSU | LAT | HAM | PER | MSC | BOT |\n",
       "| LEC | VER | RUS | RIC | GAS | NOR | ALO | DEV | SAI | ZHO | STR | VET | OCO | TSU | MAG | HAM | LAT | MSC | BOT | PER |\n",
       "| LEC | VER | RUS | RIC | GAS | NOR | ALO | SAI | DEV | ZHO | STR | VET | OCO | TSU | HAM | MAG | LAT | MSC | BOT | PER |\n",
       "| LEC | VER | RUS | RIC | GAS | NOR | SAI | ALO | DEV | ZHO | STR | OCO | VET | TSU | HAM | MAG | LAT | MSC | BOT | PER |\n",
       "| LEC | VER | RUS | RIC | GAS | SAI | NOR | ALO | DEV | ZHO | STR | OCO | HAM | TSU | MAG | LAT | MSC | BOT | PER | <!----> |\n",
       "| VER | LEC | RUS | RIC | SAI | GAS | NOR | ALO | DEV | ZHO | STR | OCO | HAM | TSU | MAG | LAT | MSC | BOT | PER | <!----> |\n",
       "| VER | RUS | LEC | SAI | RIC | GAS | ALO | NOR | DEV | ZHO | STR | OCO | HAM | TSU | LAT | MAG | MSC | BOT | PER | <!----> |\n",
       "| VER | RUS | LEC | SAI | RIC | GAS | ALO | NOR | DEV | ZHO | STR | OCO | HAM | TSU | LAT | MAG | MSC | BOT | PER | <!----> |\n",
       "| VER | RUS | LEC | SAI | RIC | GAS | ALO | NOR | DEV | ZHO | STR | OCO | HAM | TSU | MAG | MSC | BOT | LAT | PER | <!----> |\n",
       "| VER | RUS | LEC | SAI | RIC | GAS | ALO | NOR | DEV | ZHO | STR | HAM | OCO | TSU | MSC | MAG | BOT | PER | LAT | <!----> |\n",
       "| VER | RUS | LEC | SAI | RIC | GAS | ALO | NOR | DEV | ZHO | HAM | STR | OCO | TSU | MSC | MAG | BOT | PER | LAT | <!----> |\n",
       "| VER | RUS | LEC | SAI | RIC | NOR | ALO | DEV | GAS | HAM | ZHO | OCO | TSU | STR | MSC | BOT | MAG | PER | LAT | <!----> |\n",
       "| VER | RUS | LEC | SAI | NOR | ALO | RIC | HAM | DEV | OCO | MSC | TSU | BOT | MAG | PER | GAS | ZHO | STR | LAT | <!----> |\n",
       "| VER | RUS | LEC | SAI | NOR | ALO | HAM | MSC | BOT | PER | MAG | RIC | GAS | DEV | ZHO | OCO | STR | TSU | LAT | <!----> |\n",
       "| VER | RUS | LEC | SAI | NOR | ALO | HAM | MSC | BOT | PER | MAG | RIC | GAS | DEV | ZHO | OCO | TSU | STR | LAT | <!----> |\n",
       "| VER | RUS | LEC | SAI | NOR | ALO | HAM | MSC | PER | BOT | MAG | RIC | GAS | DEV | ZHO | OCO | TSU | STR | LAT | <!----> |\n",
       "| VER | LEC | RUS | SAI | NOR | ALO | HAM | MSC | PER | BOT | MAG | RIC | GAS | DEV | ZHO | OCO | TSU | STR | LAT | <!----> |\n",
       "| VER | LEC | SAI | RUS | NOR | ALO | HAM | PER | MSC | BOT | RIC | GAS | DEV | MAG | ZHO | OCO | TSU | LAT | STR | <!----> |\n",
       "| VER | LEC | SAI | RUS | NOR | ALO | HAM | PER | MSC | BOT | RIC | GAS | DEV | ZHO | OCO | TSU | LAT | STR | MAG | <!----> |\n",
       "| LEC | VER | SAI | RUS | NOR | ALO | HAM | PER | MSC | BOT | RIC | GAS | DEV | ZHO | OCO | TSU | LAT | STR | MAG | <!----> |\n",
       "| LEC | VER | SAI | RUS | NOR | HAM | ALO | PER | MSC | BOT | RIC | GAS | DEV | ZHO | OCO | TSU | LAT | STR | MAG | <!----> |\n",
       "| LEC | VER | SAI | RUS | NOR | HAM | ALO | PER | MSC | BOT | RIC | GAS | DEV | ZHO | OCO | TSU | LAT | STR | MAG | <!----> |\n",
       "| LEC | VER | SAI | RUS | NOR | HAM | ALO | PER | MSC | BOT | RIC | GAS | DEV | ZHO | OCO | TSU | LAT | STR | MAG | <!----> |\n",
       "| LEC | VER | RUS | SAI | NOR | HAM | ALO | PER | MSC | BOT | RIC | GAS | DEV | ZHO | OCO | TSU | LAT | STR | MAG | <!----> |\n",
       "| LEC | VER | RUS | NOR | HAM | PER | SAI | ALO | MSC | BOT | RIC | GAS | DEV | ZHO | OCO | TSU | LAT | STR | MAG | <!----> |\n",
       "| LEC | VER | RUS | NOR | HAM | PER | SAI | MSC | BOT | RIC | GAS | DEV | ZHO | OCO | TSU | LAT | STR | MAG | <!----> | <!----> |\n",
       "| LEC | VER | RUS | NOR | SAI | PER | HAM | BOT | MSC | RIC | GAS | DEV | ZHO | OCO | TSU | LAT | STR | MAG | <!----> | <!----> |\n",
       "| VER | LEC | RUS | NOR | SAI | PER | BOT | RIC | GAS | DEV | ZHO | HAM | OCO | TSU | LAT | STR | MSC | MAG | <!----> | <!----> |\n",
       "| VER | LEC | RUS | NOR | SAI | PER | RIC | GAS | HAM | DEV | BOT | ZHO | OCO | TSU | LAT | MSC | STR | MAG | <!----> | <!----> |\n",
       "| VER | LEC | RUS | SAI | PER | RIC | HAM | GAS | NOR | DEV | ZHO | OCO | TSU | LAT | MSC | STR | BOT | MAG | <!----> | <!----> |\n",
       "| VER | LEC | RUS | SAI | PER | HAM | NOR | RIC | GAS | DEV | ZHO | OCO | TSU | LAT | MSC | BOT | STR | MAG | <!----> | <!----> |\n",
       "| VER | LEC | RUS | SAI | PER | HAM | NOR | RIC | GAS | DEV | ZHO | OCO | TSU | LAT | MSC | BOT | STR | MAG | <!----> | <!----> |\n",
       "| VER | LEC | RUS | SAI | PER | HAM | NOR | RIC | GAS | DEV | ZHO | OCO | TSU | LAT | MSC | BOT | STR | MAG | <!----> | <!----> |\n",
       "| VER | LEC | RUS | SAI | PER | HAM | NOR | RIC | GAS | DEV | ZHO | OCO | TSU | LAT | MSC | BOT | MAG | <!----> | <!----> | <!----> |\n",
       "| VER | LEC | RUS | SAI | PER | HAM | NOR | RIC | GAS | DEV | ZHO | OCO | TSU | MSC | LAT | BOT | MAG | <!----> | <!----> | <!----> |\n",
       "| VER | LEC | RUS | SAI | PER | HAM | NOR | RIC | GAS | DEV | ZHO | OCO | TSU | MSC | BOT | LAT | MAG | <!----> | <!----> | <!----> |\n",
       "| VER | LEC | RUS | SAI | HAM | NOR | PER | RIC | GAS | DEV | ZHO | OCO | TSU | MSC | BOT | LAT | MAG | <!----> | <!----> | <!----> |\n",
       "| VER | LEC | RUS | SAI | HAM | NOR | PER | RIC | GAS | DEV | ZHO | OCO | TSU | MSC | BOT | LAT | MAG | <!----> | <!----> | <!----> |\n",
       "| VER | LEC | RUS | SAI | HAM | NOR | PER | RIC | GAS | DEV | ZHO | OCO | MSC | TSU | BOT | LAT | MAG | <!----> | <!----> | <!----> |\n",
       "| VER | LEC | RUS | SAI | HAM | NOR | PER | GAS | DEV | ZHO | OCO | MSC | TSU | BOT | LAT | MAG | <!----> | <!----> | <!----> | <!----> |\n",
       "| VER | LEC | RUS | SAI | HAM | NOR | PER | GAS | DEV | ZHO | OCO | MSC | BOT | TSU | LAT | MAG | <!----> | <!----> | <!----> | <!----> |\n",
       "| VER | LEC | RUS | SAI | HAM | PER | NOR | GAS | DEV | ZHO | OCO | MSC | BOT | TSU | LAT | MAG | <!----> | <!----> | <!----> | <!----> |\n",
       "| VER | LEC | RUS | SAI | HAM | PER | NOR | GAS | DEV | ZHO | OCO | MSC | BOT | TSU | LAT | MAG | <!----> | <!----> | <!----> | <!----> |\n",
       "| VER | LEC | RUS | SAI | HAM | PER | NOR | GAS | DEV | ZHO | OCO | MSC | BOT | TSU | LAT | MAG | <!----> | <!----> | <!----> | <!----> |\n",
       "| VER | LEC | RUS | SAI | HAM | PER | NOR | GAS | DEV | ZHO | OCO | MSC | BOT | TSU | LAT | MAG | <!----> | <!----> | <!----> | <!----> |\n",
       "| VER | LEC | RUS | SAI | HAM | PER | NOR | GAS | DEV | ZHO | OCO | MSC | BOT | TSU | LAT | MAG | <!----> | <!----> | <!----> | <!----> |\n",
       "| VER | LEC | RUS | SAI | HAM | PER | NOR | GAS | DEV | ZHO | OCO | MSC | <!----> | <!----> | <!----> | <!----> | <!----> | <!----> | <!----> | <!----> |\n",
       "\n"
      ],
      "text/plain": [
       "   LEC1 RUS2 NOR3 RIC4 GAS5 ALO6 VER7 DEV8 ZHO9 LAT10 VET11 STR12 PER13 OCO14\n",
       "1  LEC  RUS  NOR  RIC  GAS  ALO  VER  DEV  ZHO  LAT   VET   STR   PER   OCO  \n",
       "2  LEC  RUS  RIC  VER  GAS  NOR  ALO  DEV  ZHO  VET   STR   MAG   OCO   LAT  \n",
       "3  LEC  RUS  VER  RIC  GAS  NOR  ALO  DEV  ZHO  STR   VET   OCO   MAG   SAI  \n",
       "4  LEC  RUS  VER  RIC  GAS  NOR  ALO  DEV  ZHO  STR   VET   OCO   MAG   SAI  \n",
       "5  LEC  RUS  VER  RIC  GAS  NOR  ALO  DEV  ZHO  STR   VET   OCO   SAI   PER  \n",
       "6  LEC  VER  RUS  RIC  GAS  NOR  ALO  DEV  ZHO  STR   SAI   VET   OCO   PER  \n",
       "7  LEC  VER  RUS  RIC  GAS  NOR  ALO  DEV  ZHO  SAI   STR   VET   PER   OCO  \n",
       "8  LEC  VER  RUS  RIC  GAS  NOR  ALO  DEV  ZHO  SAI   STR   VET   OCO   MAG  \n",
       "9  LEC  VER  RUS  RIC  GAS  NOR  ALO  DEV  SAI  ZHO   STR   VET   OCO   TSU  \n",
       "10 LEC  VER  RUS  RIC  GAS  NOR  ALO  SAI  DEV  ZHO   STR   VET   OCO   TSU  \n",
       "11 LEC  VER  RUS  RIC  GAS  NOR  SAI  ALO  DEV  ZHO   STR   OCO   VET   TSU  \n",
       "12 LEC  VER  RUS  RIC  GAS  SAI  NOR  ALO  DEV  ZHO   STR   OCO   HAM   TSU  \n",
       "13 VER  LEC  RUS  RIC  SAI  GAS  NOR  ALO  DEV  ZHO   STR   OCO   HAM   TSU  \n",
       "14 VER  RUS  LEC  SAI  RIC  GAS  ALO  NOR  DEV  ZHO   STR   OCO   HAM   TSU  \n",
       "15 VER  RUS  LEC  SAI  RIC  GAS  ALO  NOR  DEV  ZHO   STR   OCO   HAM   TSU  \n",
       "16 VER  RUS  LEC  SAI  RIC  GAS  ALO  NOR  DEV  ZHO   STR   OCO   HAM   TSU  \n",
       "17 VER  RUS  LEC  SAI  RIC  GAS  ALO  NOR  DEV  ZHO   STR   HAM   OCO   TSU  \n",
       "18 VER  RUS  LEC  SAI  RIC  GAS  ALO  NOR  DEV  ZHO   HAM   STR   OCO   TSU  \n",
       "19 VER  RUS  LEC  SAI  RIC  NOR  ALO  DEV  GAS  HAM   ZHO   OCO   TSU   STR  \n",
       "20 VER  RUS  LEC  SAI  NOR  ALO  RIC  HAM  DEV  OCO   MSC   TSU   BOT   MAG  \n",
       "21 VER  RUS  LEC  SAI  NOR  ALO  HAM  MSC  BOT  PER   MAG   RIC   GAS   DEV  \n",
       "22 VER  RUS  LEC  SAI  NOR  ALO  HAM  MSC  BOT  PER   MAG   RIC   GAS   DEV  \n",
       "23 VER  RUS  LEC  SAI  NOR  ALO  HAM  MSC  PER  BOT   MAG   RIC   GAS   DEV  \n",
       "24 VER  LEC  RUS  SAI  NOR  ALO  HAM  MSC  PER  BOT   MAG   RIC   GAS   DEV  \n",
       "25 VER  LEC  SAI  RUS  NOR  ALO  HAM  PER  MSC  BOT   RIC   GAS   DEV   MAG  \n",
       "26 VER  LEC  SAI  RUS  NOR  ALO  HAM  PER  MSC  BOT   RIC   GAS   DEV   ZHO  \n",
       "27 LEC  VER  SAI  RUS  NOR  ALO  HAM  PER  MSC  BOT   RIC   GAS   DEV   ZHO  \n",
       "28 LEC  VER  SAI  RUS  NOR  HAM  ALO  PER  MSC  BOT   RIC   GAS   DEV   ZHO  \n",
       "29 LEC  VER  SAI  RUS  NOR  HAM  ALO  PER  MSC  BOT   RIC   GAS   DEV   ZHO  \n",
       "30 LEC  VER  SAI  RUS  NOR  HAM  ALO  PER  MSC  BOT   RIC   GAS   DEV   ZHO  \n",
       "31 LEC  VER  RUS  SAI  NOR  HAM  ALO  PER  MSC  BOT   RIC   GAS   DEV   ZHO  \n",
       "32 LEC  VER  RUS  NOR  HAM  PER  SAI  ALO  MSC  BOT   RIC   GAS   DEV   ZHO  \n",
       "33 LEC  VER  RUS  NOR  HAM  PER  SAI  MSC  BOT  RIC   GAS   DEV   ZHO   OCO  \n",
       "34 LEC  VER  RUS  NOR  SAI  PER  HAM  BOT  MSC  RIC   GAS   DEV   ZHO   OCO  \n",
       "35 VER  LEC  RUS  NOR  SAI  PER  BOT  RIC  GAS  DEV   ZHO   HAM   OCO   TSU  \n",
       "36 VER  LEC  RUS  NOR  SAI  PER  RIC  GAS  HAM  DEV   BOT   ZHO   OCO   TSU  \n",
       "37 VER  LEC  RUS  SAI  PER  RIC  HAM  GAS  NOR  DEV   ZHO   OCO   TSU   LAT  \n",
       "38 VER  LEC  RUS  SAI  PER  HAM  NOR  RIC  GAS  DEV   ZHO   OCO   TSU   LAT  \n",
       "39 VER  LEC  RUS  SAI  PER  HAM  NOR  RIC  GAS  DEV   ZHO   OCO   TSU   LAT  \n",
       "40 VER  LEC  RUS  SAI  PER  HAM  NOR  RIC  GAS  DEV   ZHO   OCO   TSU   LAT  \n",
       "41 VER  LEC  RUS  SAI  PER  HAM  NOR  RIC  GAS  DEV   ZHO   OCO   TSU   LAT  \n",
       "42 VER  LEC  RUS  SAI  PER  HAM  NOR  RIC  GAS  DEV   ZHO   OCO   TSU   MSC  \n",
       "43 VER  LEC  RUS  SAI  PER  HAM  NOR  RIC  GAS  DEV   ZHO   OCO   TSU   MSC  \n",
       "44 VER  LEC  RUS  SAI  HAM  NOR  PER  RIC  GAS  DEV   ZHO   OCO   TSU   MSC  \n",
       "45 VER  LEC  RUS  SAI  HAM  NOR  PER  RIC  GAS  DEV   ZHO   OCO   TSU   MSC  \n",
       "46 VER  LEC  RUS  SAI  HAM  NOR  PER  RIC  GAS  DEV   ZHO   OCO   MSC   TSU  \n",
       "47 VER  LEC  RUS  SAI  HAM  NOR  PER  GAS  DEV  ZHO   OCO   MSC   TSU   BOT  \n",
       "48 VER  LEC  RUS  SAI  HAM  NOR  PER  GAS  DEV  ZHO   OCO   MSC   BOT   TSU  \n",
       "49 VER  LEC  RUS  SAI  HAM  PER  NOR  GAS  DEV  ZHO   OCO   MSC   BOT   TSU  \n",
       "50 VER  LEC  RUS  SAI  HAM  PER  NOR  GAS  DEV  ZHO   OCO   MSC   BOT   TSU  \n",
       "51 VER  LEC  RUS  SAI  HAM  PER  NOR  GAS  DEV  ZHO   OCO   MSC   BOT   TSU  \n",
       "52 VER  LEC  RUS  SAI  HAM  PER  NOR  GAS  DEV  ZHO   OCO   MSC   BOT   TSU  \n",
       "53 VER  LEC  RUS  SAI  HAM  PER  NOR  GAS  DEV  ZHO   OCO   MSC   BOT   TSU  \n",
       "54 VER  LEC  RUS  SAI  HAM  PER  NOR  GAS  DEV  ZHO   OCO   MSC              \n",
       "   BOT15 MAG16 MSC17 SAI18 HAM19 TSU20\n",
       "1  BOT   MAG   MSC   SAI   HAM   TSU  \n",
       "2  PER   SAI   MSC   TSU   HAM   BOT  \n",
       "3  LAT   PER   TSU   HAM   MSC   BOT  \n",
       "4  PER   LAT   TSU   HAM   MSC   BOT  \n",
       "5  MAG   LAT   TSU   HAM   MSC   BOT  \n",
       "6  MAG   LAT   TSU   HAM   MSC   BOT  \n",
       "7  MAG   LAT   TSU   HAM   MSC   BOT  \n",
       "8  TSU   LAT   HAM   PER   MSC   BOT  \n",
       "9  MAG   HAM   LAT   MSC   BOT   PER  \n",
       "10 HAM   MAG   LAT   MSC   BOT   PER  \n",
       "11 HAM   MAG   LAT   MSC   BOT   PER  \n",
       "12 MAG   LAT   MSC   BOT   PER        \n",
       "13 MAG   LAT   MSC   BOT   PER        \n",
       "14 LAT   MAG   MSC   BOT   PER        \n",
       "15 LAT   MAG   MSC   BOT   PER        \n",
       "16 MAG   MSC   BOT   LAT   PER        \n",
       "17 MSC   MAG   BOT   PER   LAT        \n",
       "18 MSC   MAG   BOT   PER   LAT        \n",
       "19 MSC   BOT   MAG   PER   LAT        \n",
       "20 PER   GAS   ZHO   STR   LAT        \n",
       "21 ZHO   OCO   STR   TSU   LAT        \n",
       "22 ZHO   OCO   TSU   STR   LAT        \n",
       "23 ZHO   OCO   TSU   STR   LAT        \n",
       "24 ZHO   OCO   TSU   STR   LAT        \n",
       "25 ZHO   OCO   TSU   LAT   STR        \n",
       "26 OCO   TSU   LAT   STR   MAG        \n",
       "27 OCO   TSU   LAT   STR   MAG        \n",
       "28 OCO   TSU   LAT   STR   MAG        \n",
       "29 OCO   TSU   LAT   STR   MAG        \n",
       "30 OCO   TSU   LAT   STR   MAG        \n",
       "31 OCO   TSU   LAT   STR   MAG        \n",
       "32 OCO   TSU   LAT   STR   MAG        \n",
       "33 TSU   LAT   STR   MAG              \n",
       "34 TSU   LAT   STR   MAG              \n",
       "35 LAT   STR   MSC   MAG              \n",
       "36 LAT   MSC   STR   MAG              \n",
       "37 MSC   STR   BOT   MAG              \n",
       "38 MSC   BOT   STR   MAG              \n",
       "39 MSC   BOT   STR   MAG              \n",
       "40 MSC   BOT   STR   MAG              \n",
       "41 MSC   BOT   MAG                    \n",
       "42 LAT   BOT   MAG                    \n",
       "43 BOT   LAT   MAG                    \n",
       "44 BOT   LAT   MAG                    \n",
       "45 BOT   LAT   MAG                    \n",
       "46 BOT   LAT   MAG                    \n",
       "47 LAT   MAG                          \n",
       "48 LAT   MAG                          \n",
       "49 LAT   MAG                          \n",
       "50 LAT   MAG                          \n",
       "51 LAT   MAG                          \n",
       "52 LAT   MAG                          \n",
       "53 LAT   MAG                          \n",
       "54                                    "
      ]
     },
     "metadata": {},
     "output_type": "display_data"
    }
   ],
   "source": [
    "scores_with_names"
   ]
  },
  {
   "cell_type": "code",
   "execution_count": 573,
   "id": "30ed5dfc",
   "metadata": {
    "vscode": {
     "languageId": "r"
    }
   },
   "outputs": [
    {
     "data": {
      "text/html": [
       "54"
      ],
      "text/latex": [
       "54"
      ],
      "text/markdown": [
       "54"
      ],
      "text/plain": [
       "[1] 54"
      ]
     },
     "metadata": {},
     "output_type": "display_data"
    }
   ],
   "source": [
    "scores_with_names[[1]] %>% length()"
   ]
  },
  {
   "cell_type": "code",
   "execution_count": 589,
   "id": "89cdf75b",
   "metadata": {
    "vscode": {
     "languageId": "r"
    }
   },
   "outputs": [],
   "source": [
    "df <- data.frame(Driver = character(0), Overlaps = numeric(0), stringsAsFactors = FALSE)"
   ]
  },
  {
   "cell_type": "code",
   "execution_count": 595,
   "id": "4a82dc8e",
   "metadata": {
    "vscode": {
     "languageId": "r"
    }
   },
   "outputs": [
    {
     "data": {
      "text/html": [
       "<table class=\"dataframe\">\n",
       "<caption>A data.frame: 2 × 2</caption>\n",
       "<thead>\n",
       "\t<tr><th scope=col>X.naman.</th><th scope=col>X.5.</th></tr>\n",
       "\t<tr><th scope=col>&lt;fct&gt;</th><th scope=col>&lt;fct&gt;</th></tr>\n",
       "</thead>\n",
       "<tbody>\n",
       "\t<tr><td>naman</td><td>5 </td></tr>\n",
       "\t<tr><td>NA   </td><td>NA</td></tr>\n",
       "</tbody>\n",
       "</table>\n"
      ],
      "text/latex": [
       "A data.frame: 2 × 2\n",
       "\\begin{tabular}{ll}\n",
       " X.naman. & X.5.\\\\\n",
       " <fct> & <fct>\\\\\n",
       "\\hline\n",
       "\t naman & 5 \\\\\n",
       "\t NA    & NA\\\\\n",
       "\\end{tabular}\n"
      ],
      "text/markdown": [
       "\n",
       "A data.frame: 2 × 2\n",
       "\n",
       "| X.naman. &lt;fct&gt; | X.5. &lt;fct&gt; |\n",
       "|---|---|\n",
       "| naman | 5  |\n",
       "| NA    | NA |\n",
       "\n"
      ],
      "text/plain": [
       "  X.naman. X.5.\n",
       "1 naman    5   \n",
       "2 NA       NA  "
      ]
     },
     "metadata": {},
     "output_type": "display_data"
    }
   ],
   "source": [
    "df"
   ]
  },
  {
   "cell_type": "code",
   "execution_count": 596,
   "id": "29b106c9",
   "metadata": {
    "vscode": {
     "languageId": "r"
    }
   },
   "outputs": [
    {
     "name": "stderr",
     "output_type": "stream",
     "text": [
      "Warning message in `[<-.factor`(`*tmp*`, ri, value = \"Test\"):\n",
      "\"invalid factor level, NA generated\"\n",
      "Warning message in `[<-.factor`(`*tmp*`, ri, value = \"410\"):\n",
      "\"invalid factor level, NA generated\"\n"
     ]
    }
   ],
   "source": [
    "df <- rbind(df, c(\"Test\", 410))"
   ]
  },
  {
   "cell_type": "code",
   "execution_count": 599,
   "id": "0c1b85f5",
   "metadata": {
    "vscode": {
     "languageId": "r"
    }
   },
   "outputs": [],
   "source": [
    "overlap <- 0\n",
    "df <- data.frame(Driver = character(0), Overlaps = numeric(0), stringsAsFactors = FALSE)\n",
    "for (j in names){\n",
    "    for (i in 1:52){\n",
    "        a <- which(table_without_laps[i, ] == j) - which(table_without_laps[i+1, ] == j)\n",
    "        a <- integer0_test(a)\n",
    "        if (a > 0){\n",
    "            overlap <- overlap + a\n",
    "        }\n",
    "    \n",
    "    }\n",
    "    df <- rbind(df, c(as.factor(j), overlap))\n",
    "    overlap <- 0\n",
    "    a <- 0\n",
    "}"
   ]
  },
  {
   "cell_type": "code",
   "execution_count": 600,
   "id": "8dec0c2f",
   "metadata": {
    "vscode": {
     "languageId": "r"
    }
   },
   "outputs": [
    {
     "data": {
      "text/html": [
       "<table class=\"dataframe\">\n",
       "<caption>A data.frame: 20 × 2</caption>\n",
       "<thead>\n",
       "\t<tr><th scope=col>X1</th><th scope=col>X0</th></tr>\n",
       "\t<tr><th scope=col>&lt;dbl&gt;</th><th scope=col>&lt;dbl&gt;</th></tr>\n",
       "</thead>\n",
       "<tbody>\n",
       "\t<tr><td>1</td><td>0</td></tr>\n",
       "\t<tr><td>1</td><td>0</td></tr>\n",
       "\t<tr><td>1</td><td>0</td></tr>\n",
       "\t<tr><td>1</td><td>0</td></tr>\n",
       "\t<tr><td>1</td><td>0</td></tr>\n",
       "\t<tr><td>1</td><td>0</td></tr>\n",
       "\t<tr><td>1</td><td>0</td></tr>\n",
       "\t<tr><td>1</td><td>0</td></tr>\n",
       "\t<tr><td>1</td><td>0</td></tr>\n",
       "\t<tr><td>1</td><td>0</td></tr>\n",
       "\t<tr><td>1</td><td>0</td></tr>\n",
       "\t<tr><td>1</td><td>0</td></tr>\n",
       "\t<tr><td>1</td><td>0</td></tr>\n",
       "\t<tr><td>1</td><td>0</td></tr>\n",
       "\t<tr><td>1</td><td>0</td></tr>\n",
       "\t<tr><td>1</td><td>0</td></tr>\n",
       "\t<tr><td>1</td><td>0</td></tr>\n",
       "\t<tr><td>1</td><td>0</td></tr>\n",
       "\t<tr><td>1</td><td>0</td></tr>\n",
       "\t<tr><td>1</td><td>0</td></tr>\n",
       "</tbody>\n",
       "</table>\n"
      ],
      "text/latex": [
       "A data.frame: 20 × 2\n",
       "\\begin{tabular}{ll}\n",
       " X1 & X0\\\\\n",
       " <dbl> & <dbl>\\\\\n",
       "\\hline\n",
       "\t 1 & 0\\\\\n",
       "\t 1 & 0\\\\\n",
       "\t 1 & 0\\\\\n",
       "\t 1 & 0\\\\\n",
       "\t 1 & 0\\\\\n",
       "\t 1 & 0\\\\\n",
       "\t 1 & 0\\\\\n",
       "\t 1 & 0\\\\\n",
       "\t 1 & 0\\\\\n",
       "\t 1 & 0\\\\\n",
       "\t 1 & 0\\\\\n",
       "\t 1 & 0\\\\\n",
       "\t 1 & 0\\\\\n",
       "\t 1 & 0\\\\\n",
       "\t 1 & 0\\\\\n",
       "\t 1 & 0\\\\\n",
       "\t 1 & 0\\\\\n",
       "\t 1 & 0\\\\\n",
       "\t 1 & 0\\\\\n",
       "\t 1 & 0\\\\\n",
       "\\end{tabular}\n"
      ],
      "text/markdown": [
       "\n",
       "A data.frame: 20 × 2\n",
       "\n",
       "| X1 &lt;dbl&gt; | X0 &lt;dbl&gt; |\n",
       "|---|---|\n",
       "| 1 | 0 |\n",
       "| 1 | 0 |\n",
       "| 1 | 0 |\n",
       "| 1 | 0 |\n",
       "| 1 | 0 |\n",
       "| 1 | 0 |\n",
       "| 1 | 0 |\n",
       "| 1 | 0 |\n",
       "| 1 | 0 |\n",
       "| 1 | 0 |\n",
       "| 1 | 0 |\n",
       "| 1 | 0 |\n",
       "| 1 | 0 |\n",
       "| 1 | 0 |\n",
       "| 1 | 0 |\n",
       "| 1 | 0 |\n",
       "| 1 | 0 |\n",
       "| 1 | 0 |\n",
       "| 1 | 0 |\n",
       "| 1 | 0 |\n",
       "\n"
      ],
      "text/plain": [
       "   X1 X0\n",
       "1  1  0 \n",
       "2  1  0 \n",
       "3  1  0 \n",
       "4  1  0 \n",
       "5  1  0 \n",
       "6  1  0 \n",
       "7  1  0 \n",
       "8  1  0 \n",
       "9  1  0 \n",
       "10 1  0 \n",
       "11 1  0 \n",
       "12 1  0 \n",
       "13 1  0 \n",
       "14 1  0 \n",
       "15 1  0 \n",
       "16 1  0 \n",
       "17 1  0 \n",
       "18 1  0 \n",
       "19 1  0 \n",
       "20 1  0 "
      ]
     },
     "metadata": {},
     "output_type": "display_data"
    }
   ],
   "source": [
    "df"
   ]
  },
  {
   "cell_type": "code",
   "execution_count": 68,
   "id": "fc9b0b71",
   "metadata": {
    "vscode": {
     "languageId": "r"
    }
   },
   "outputs": [
    {
     "data": {
      "text/html": [
       "54"
      ],
      "text/latex": [
       "54"
      ],
      "text/markdown": [
       "54"
      ],
      "text/plain": [
       "[1] 54"
      ]
     },
     "metadata": {},
     "output_type": "display_data"
    }
   ],
   "source": [
    "table_without_laps %>% nrow()"
   ]
  },
  {
   "cell_type": "code",
   "execution_count": 54,
   "id": "c5d87f3e",
   "metadata": {
    "vscode": {
     "languageId": "r"
    }
   },
   "outputs": [],
   "source": [
    "race_graph_df <- data.frame(laps = c(1:laps))"
   ]
  },
  {
   "cell_type": "code",
   "execution_count": 123,
   "id": "c4d39046",
   "metadata": {
    "vscode": {
     "languageId": "r"
    }
   },
   "outputs": [],
   "source": [
    "race_graph_df <- rbind(0, race_graph_df)"
   ]
  },
  {
   "cell_type": "code",
   "execution_count": 84,
   "id": "3a1b140f",
   "metadata": {
    "vscode": {
     "languageId": "r"
    }
   },
   "outputs": [
    {
     "data": {
      "text/html": [
       "53"
      ],
      "text/latex": [
       "53"
      ],
      "text/markdown": [
       "53"
      ],
      "text/plain": [
       "[1] 53"
      ]
     },
     "metadata": {},
     "output_type": "display_data"
    }
   ],
   "source": [
    "laps"
   ]
  },
  {
   "cell_type": "code",
   "execution_count": 33,
   "id": "0a726f6e",
   "metadata": {
    "vscode": {
     "languageId": "r"
    }
   },
   "outputs": [],
   "source": [
    "race_graph_df <- data.frame(laps = c(1:53))\n",
    "race_graph_df <- rbind(0, race_graph_df)"
   ]
  },
  {
   "cell_type": "code",
   "execution_count": 34,
   "id": "a01507c3",
   "metadata": {
    "vscode": {
     "languageId": "r"
    }
   },
   "outputs": [],
   "source": [
    "pos <- c()\n",
    "for (i in 1:20){\n",
    "    for (j in 1:54){\n",
    "        current_pos <- which(table_without_laps[j, ] == i)\n",
    "        current_pos <- integer0_test(current_pos)\n",
    "        pos <- append(pos, current_pos)\n",
    "    }\n",
    "    varname <- paste(\"driver\", i , sep=\".\")\n",
    "    race_graph_df[[varname]] <- with(race_graph_df, pos)\n",
    "    pos <- c()\n",
    "}"
   ]
  },
  {
   "cell_type": "code",
   "execution_count": 35,
   "id": "9bdb71e4",
   "metadata": {
    "vscode": {
     "languageId": "r"
    }
   },
   "outputs": [
    {
     "data": {
      "text/html": [
       "<table class=\"dataframe\">\n",
       "<caption>A data.frame: 54 × 21</caption>\n",
       "<thead>\n",
       "\t<tr><th scope=col>laps</th><th scope=col>driver.1</th><th scope=col>driver.2</th><th scope=col>driver.3</th><th scope=col>driver.4</th><th scope=col>driver.5</th><th scope=col>driver.6</th><th scope=col>driver.7</th><th scope=col>driver.8</th><th scope=col>driver.9</th><th scope=col>⋯</th><th scope=col>driver.11</th><th scope=col>driver.12</th><th scope=col>driver.13</th><th scope=col>driver.14</th><th scope=col>driver.15</th><th scope=col>driver.16</th><th scope=col>driver.17</th><th scope=col>driver.18</th><th scope=col>driver.19</th><th scope=col>driver.20</th></tr>\n",
       "\t<tr><th scope=col>&lt;dbl&gt;</th><th scope=col>&lt;int&gt;</th><th scope=col>&lt;int&gt;</th><th scope=col>&lt;int&gt;</th><th scope=col>&lt;int&gt;</th><th scope=col>&lt;int&gt;</th><th scope=col>&lt;int&gt;</th><th scope=col>&lt;int&gt;</th><th scope=col>&lt;int&gt;</th><th scope=col>&lt;int&gt;</th><th scope=col>⋯</th><th scope=col>&lt;int&gt;</th><th scope=col>&lt;int&gt;</th><th scope=col>&lt;int&gt;</th><th scope=col>&lt;int&gt;</th><th scope=col>&lt;int&gt;</th><th scope=col>&lt;int&gt;</th><th scope=col>&lt;int&gt;</th><th scope=col>&lt;int&gt;</th><th scope=col>&lt;int&gt;</th><th scope=col>&lt;int&gt;</th></tr>\n",
       "</thead>\n",
       "<tbody>\n",
       "\t<tr><td> 0</td><td>1</td><td>2</td><td>3</td><td> 4</td><td> 5</td><td> 6</td><td>7</td><td> 8</td><td> 9</td><td>⋯</td><td>11</td><td>12</td><td>13</td><td>14</td><td>15</td><td>16</td><td>17</td><td>18</td><td>19</td><td>20</td></tr>\n",
       "\t<tr><td> 1</td><td>1</td><td>2</td><td>6</td><td> 3</td><td> 5</td><td> 7</td><td>4</td><td> 8</td><td> 9</td><td>⋯</td><td>10</td><td>11</td><td>15</td><td>13</td><td>20</td><td>12</td><td>17</td><td>16</td><td>19</td><td>18</td></tr>\n",
       "\t<tr><td> 2</td><td>1</td><td>2</td><td>6</td><td> 4</td><td> 5</td><td> 7</td><td>3</td><td> 8</td><td> 9</td><td>⋯</td><td>11</td><td>10</td><td>16</td><td>12</td><td>20</td><td>13</td><td>19</td><td>14</td><td>18</td><td>17</td></tr>\n",
       "\t<tr><td> 3</td><td>1</td><td>2</td><td>6</td><td> 4</td><td> 5</td><td> 7</td><td>3</td><td> 8</td><td> 9</td><td>⋯</td><td>11</td><td>10</td><td>15</td><td>12</td><td>20</td><td>13</td><td>19</td><td>14</td><td>18</td><td>17</td></tr>\n",
       "\t<tr><td> 4</td><td>1</td><td>2</td><td>6</td><td> 4</td><td> 5</td><td> 7</td><td>3</td><td> 8</td><td> 9</td><td>⋯</td><td>11</td><td>10</td><td>14</td><td>12</td><td>20</td><td>15</td><td>19</td><td>13</td><td>18</td><td>17</td></tr>\n",
       "\t<tr><td> 5</td><td>1</td><td>3</td><td>6</td><td> 4</td><td> 5</td><td> 7</td><td>2</td><td> 8</td><td> 9</td><td>⋯</td><td>12</td><td>10</td><td>14</td><td>13</td><td>20</td><td>15</td><td>19</td><td>11</td><td>18</td><td>17</td></tr>\n",
       "\t<tr><td> 6</td><td>1</td><td>3</td><td>6</td><td> 4</td><td> 5</td><td> 7</td><td>2</td><td> 8</td><td> 9</td><td>⋯</td><td>12</td><td>11</td><td>13</td><td>14</td><td>20</td><td>15</td><td>19</td><td>10</td><td>18</td><td>17</td></tr>\n",
       "\t<tr><td> 7</td><td>1</td><td>3</td><td>6</td><td> 4</td><td> 5</td><td> 7</td><td>2</td><td> 8</td><td> 9</td><td>⋯</td><td>12</td><td>11</td><td>18</td><td>13</td><td>20</td><td>14</td><td>19</td><td>10</td><td>17</td><td>15</td></tr>\n",
       "\t<tr><td> 8</td><td>1</td><td>3</td><td>6</td><td> 4</td><td> 5</td><td> 7</td><td>2</td><td> 8</td><td>10</td><td>⋯</td><td>12</td><td>11</td><td>20</td><td>13</td><td>19</td><td>15</td><td>18</td><td> 9</td><td>16</td><td>14</td></tr>\n",
       "\t<tr><td> 9</td><td>1</td><td>3</td><td>6</td><td> 4</td><td> 5</td><td> 7</td><td>2</td><td> 9</td><td>10</td><td>⋯</td><td>12</td><td>11</td><td>20</td><td>13</td><td>19</td><td>16</td><td>18</td><td> 8</td><td>15</td><td>14</td></tr>\n",
       "\t<tr><td>10</td><td>1</td><td>3</td><td>6</td><td> 4</td><td> 5</td><td> 8</td><td>2</td><td> 9</td><td>10</td><td>⋯</td><td>13</td><td>11</td><td>20</td><td>12</td><td>19</td><td>16</td><td>18</td><td> 7</td><td>15</td><td>14</td></tr>\n",
       "\t<tr><td>11</td><td>1</td><td>3</td><td>7</td><td> 4</td><td> 5</td><td> 8</td><td>2</td><td> 9</td><td>10</td><td>⋯</td><td>NA</td><td>11</td><td>19</td><td>12</td><td>18</td><td>15</td><td>17</td><td> 6</td><td>13</td><td>14</td></tr>\n",
       "\t<tr><td>12</td><td>2</td><td>3</td><td>7</td><td> 4</td><td> 6</td><td> 8</td><td>1</td><td> 9</td><td>10</td><td>⋯</td><td>NA</td><td>11</td><td>19</td><td>12</td><td>18</td><td>15</td><td>17</td><td> 5</td><td>13</td><td>14</td></tr>\n",
       "\t<tr><td>13</td><td>3</td><td>2</td><td>8</td><td> 5</td><td> 6</td><td> 7</td><td>1</td><td> 9</td><td>10</td><td>⋯</td><td>NA</td><td>11</td><td>19</td><td>12</td><td>18</td><td>16</td><td>17</td><td> 4</td><td>13</td><td>14</td></tr>\n",
       "\t<tr><td>14</td><td>3</td><td>2</td><td>8</td><td> 5</td><td> 6</td><td> 7</td><td>1</td><td> 9</td><td>10</td><td>⋯</td><td>NA</td><td>11</td><td>19</td><td>12</td><td>18</td><td>16</td><td>17</td><td> 4</td><td>13</td><td>14</td></tr>\n",
       "\t<tr><td>15</td><td>3</td><td>2</td><td>8</td><td> 5</td><td> 6</td><td> 7</td><td>1</td><td> 9</td><td>10</td><td>⋯</td><td>NA</td><td>11</td><td>19</td><td>12</td><td>17</td><td>15</td><td>16</td><td> 4</td><td>13</td><td>14</td></tr>\n",
       "\t<tr><td>16</td><td>3</td><td>2</td><td>8</td><td> 5</td><td> 6</td><td> 7</td><td>1</td><td> 9</td><td>10</td><td>⋯</td><td>NA</td><td>11</td><td>18</td><td>13</td><td>17</td><td>16</td><td>15</td><td> 4</td><td>12</td><td>14</td></tr>\n",
       "\t<tr><td>17</td><td>3</td><td>2</td><td>8</td><td> 5</td><td> 6</td><td> 7</td><td>1</td><td> 9</td><td>10</td><td>⋯</td><td>NA</td><td>12</td><td>18</td><td>13</td><td>17</td><td>16</td><td>15</td><td> 4</td><td>11</td><td>14</td></tr>\n",
       "\t<tr><td>18</td><td>3</td><td>2</td><td>6</td><td> 5</td><td> 9</td><td> 7</td><td>1</td><td> 8</td><td>11</td><td>⋯</td><td>NA</td><td>14</td><td>18</td><td>12</td><td>16</td><td>17</td><td>15</td><td> 4</td><td>10</td><td>13</td></tr>\n",
       "\t<tr><td>19</td><td>3</td><td>2</td><td>5</td><td> 7</td><td>16</td><td> 6</td><td>1</td><td> 9</td><td>17</td><td>⋯</td><td>NA</td><td>18</td><td>15</td><td>10</td><td>13</td><td>14</td><td>11</td><td> 4</td><td> 8</td><td>12</td></tr>\n",
       "\t<tr><td>20</td><td>3</td><td>2</td><td>5</td><td>12</td><td>13</td><td> 6</td><td>1</td><td>14</td><td>15</td><td>⋯</td><td>NA</td><td>17</td><td>10</td><td>16</td><td> 9</td><td>11</td><td> 8</td><td> 4</td><td> 7</td><td>18</td></tr>\n",
       "\t<tr><td>21</td><td>3</td><td>2</td><td>5</td><td>12</td><td>13</td><td> 6</td><td>1</td><td>14</td><td>15</td><td>⋯</td><td>NA</td><td>18</td><td>10</td><td>16</td><td> 9</td><td>11</td><td> 8</td><td> 4</td><td> 7</td><td>17</td></tr>\n",
       "\t<tr><td>22</td><td>3</td><td>2</td><td>5</td><td>12</td><td>13</td><td> 6</td><td>1</td><td>14</td><td>15</td><td>⋯</td><td>NA</td><td>18</td><td> 9</td><td>16</td><td>10</td><td>11</td><td> 8</td><td> 4</td><td> 7</td><td>17</td></tr>\n",
       "\t<tr><td>23</td><td>2</td><td>3</td><td>5</td><td>12</td><td>13</td><td> 6</td><td>1</td><td>14</td><td>15</td><td>⋯</td><td>NA</td><td>18</td><td> 9</td><td>16</td><td>10</td><td>11</td><td> 8</td><td> 4</td><td> 7</td><td>17</td></tr>\n",
       "\t<tr><td>24</td><td>2</td><td>4</td><td>5</td><td>11</td><td>12</td><td> 6</td><td>1</td><td>13</td><td>15</td><td>⋯</td><td>NA</td><td>19</td><td> 8</td><td>16</td><td>10</td><td>14</td><td> 9</td><td> 3</td><td> 7</td><td>17</td></tr>\n",
       "\t<tr><td>25</td><td>2</td><td>4</td><td>5</td><td>11</td><td>12</td><td> 6</td><td>1</td><td>13</td><td>14</td><td>⋯</td><td>NA</td><td>18</td><td> 8</td><td>15</td><td>10</td><td>19</td><td> 9</td><td> 3</td><td> 7</td><td>16</td></tr>\n",
       "\t<tr><td>26</td><td>1</td><td>4</td><td>5</td><td>11</td><td>12</td><td> 6</td><td>2</td><td>13</td><td>14</td><td>⋯</td><td>NA</td><td>18</td><td> 8</td><td>15</td><td>10</td><td>19</td><td> 9</td><td> 3</td><td> 7</td><td>16</td></tr>\n",
       "\t<tr><td>27</td><td>1</td><td>4</td><td>5</td><td>11</td><td>12</td><td> 7</td><td>2</td><td>13</td><td>14</td><td>⋯</td><td>NA</td><td>18</td><td> 8</td><td>15</td><td>10</td><td>19</td><td> 9</td><td> 3</td><td> 6</td><td>16</td></tr>\n",
       "\t<tr><td>28</td><td>1</td><td>4</td><td>5</td><td>11</td><td>12</td><td> 7</td><td>2</td><td>13</td><td>14</td><td>⋯</td><td>NA</td><td>18</td><td> 8</td><td>15</td><td>10</td><td>19</td><td> 9</td><td> 3</td><td> 6</td><td>16</td></tr>\n",
       "\t<tr><td>29</td><td>1</td><td>4</td><td>5</td><td>11</td><td>12</td><td> 7</td><td>2</td><td>13</td><td>14</td><td>⋯</td><td>NA</td><td>18</td><td> 8</td><td>15</td><td>10</td><td>19</td><td> 9</td><td> 3</td><td> 6</td><td>16</td></tr>\n",
       "\t<tr><td>30</td><td>1</td><td>3</td><td>5</td><td>11</td><td>12</td><td> 7</td><td>2</td><td>13</td><td>14</td><td>⋯</td><td>NA</td><td>18</td><td> 8</td><td>15</td><td>10</td><td>19</td><td> 9</td><td> 4</td><td> 6</td><td>16</td></tr>\n",
       "\t<tr><td>31</td><td>1</td><td>3</td><td>4</td><td>11</td><td>12</td><td> 8</td><td>2</td><td>13</td><td>14</td><td>⋯</td><td>NA</td><td>18</td><td> 6</td><td>15</td><td>10</td><td>19</td><td> 9</td><td> 7</td><td> 5</td><td>16</td></tr>\n",
       "\t<tr><td>32</td><td>1</td><td>3</td><td>4</td><td>10</td><td>11</td><td>NA</td><td>2</td><td>12</td><td>13</td><td>⋯</td><td>NA</td><td>17</td><td> 6</td><td>14</td><td> 9</td><td>18</td><td> 8</td><td> 7</td><td> 5</td><td>15</td></tr>\n",
       "\t<tr><td>33</td><td>1</td><td>3</td><td>4</td><td>10</td><td>11</td><td>NA</td><td>2</td><td>12</td><td>13</td><td>⋯</td><td>NA</td><td>17</td><td> 6</td><td>14</td><td> 8</td><td>18</td><td> 9</td><td> 5</td><td> 7</td><td>15</td></tr>\n",
       "\t<tr><td>34</td><td>2</td><td>3</td><td>4</td><td> 8</td><td> 9</td><td>NA</td><td>1</td><td>10</td><td>11</td><td>⋯</td><td>NA</td><td>16</td><td> 6</td><td>13</td><td> 7</td><td>18</td><td>17</td><td> 5</td><td>12</td><td>14</td></tr>\n",
       "\t<tr><td>35</td><td>2</td><td>3</td><td>4</td><td> 7</td><td> 8</td><td>NA</td><td>1</td><td>10</td><td>12</td><td>⋯</td><td>NA</td><td>17</td><td> 6</td><td>13</td><td>11</td><td>18</td><td>16</td><td> 5</td><td> 9</td><td>14</td></tr>\n",
       "\t<tr><td>36</td><td>2</td><td>3</td><td>9</td><td> 6</td><td> 8</td><td>NA</td><td>1</td><td>10</td><td>11</td><td>⋯</td><td>NA</td><td>16</td><td> 5</td><td>12</td><td>17</td><td>18</td><td>15</td><td> 4</td><td> 7</td><td>13</td></tr>\n",
       "\t<tr><td>37</td><td>2</td><td>3</td><td>7</td><td> 8</td><td> 9</td><td>NA</td><td>1</td><td>10</td><td>11</td><td>⋯</td><td>NA</td><td>17</td><td> 5</td><td>12</td><td>16</td><td>18</td><td>15</td><td> 4</td><td> 6</td><td>13</td></tr>\n",
       "\t<tr><td>38</td><td>2</td><td>3</td><td>7</td><td> 8</td><td> 9</td><td>NA</td><td>1</td><td>10</td><td>11</td><td>⋯</td><td>NA</td><td>17</td><td> 5</td><td>12</td><td>16</td><td>18</td><td>15</td><td> 4</td><td> 6</td><td>13</td></tr>\n",
       "\t<tr><td>39</td><td>2</td><td>3</td><td>7</td><td> 8</td><td> 9</td><td>NA</td><td>1</td><td>10</td><td>11</td><td>⋯</td><td>NA</td><td>17</td><td> 5</td><td>12</td><td>16</td><td>18</td><td>15</td><td> 4</td><td> 6</td><td>13</td></tr>\n",
       "\t<tr><td>40</td><td>2</td><td>3</td><td>7</td><td> 8</td><td> 9</td><td>NA</td><td>1</td><td>10</td><td>11</td><td>⋯</td><td>NA</td><td>NA</td><td> 5</td><td>12</td><td>16</td><td>17</td><td>15</td><td> 4</td><td> 6</td><td>13</td></tr>\n",
       "\t<tr><td>41</td><td>2</td><td>3</td><td>7</td><td> 8</td><td> 9</td><td>NA</td><td>1</td><td>10</td><td>11</td><td>⋯</td><td>NA</td><td>NA</td><td> 5</td><td>12</td><td>16</td><td>17</td><td>14</td><td> 4</td><td> 6</td><td>13</td></tr>\n",
       "\t<tr><td>42</td><td>2</td><td>3</td><td>7</td><td> 8</td><td> 9</td><td>NA</td><td>1</td><td>10</td><td>11</td><td>⋯</td><td>NA</td><td>NA</td><td> 5</td><td>12</td><td>15</td><td>17</td><td>14</td><td> 4</td><td> 6</td><td>13</td></tr>\n",
       "\t<tr><td>43</td><td>2</td><td>3</td><td>6</td><td> 8</td><td> 9</td><td>NA</td><td>1</td><td>10</td><td>11</td><td>⋯</td><td>NA</td><td>NA</td><td> 7</td><td>12</td><td>15</td><td>17</td><td>14</td><td> 4</td><td> 5</td><td>13</td></tr>\n",
       "\t<tr><td>44</td><td>2</td><td>3</td><td>6</td><td> 8</td><td> 9</td><td>NA</td><td>1</td><td>10</td><td>11</td><td>⋯</td><td>NA</td><td>NA</td><td> 7</td><td>12</td><td>15</td><td>17</td><td>14</td><td> 4</td><td> 5</td><td>13</td></tr>\n",
       "\t<tr><td>45</td><td>2</td><td>3</td><td>6</td><td> 8</td><td> 9</td><td>NA</td><td>1</td><td>10</td><td>11</td><td>⋯</td><td>NA</td><td>NA</td><td> 7</td><td>12</td><td>15</td><td>17</td><td>13</td><td> 4</td><td> 5</td><td>14</td></tr>\n",
       "\t<tr><td>46</td><td>2</td><td>3</td><td>6</td><td>NA</td><td> 8</td><td>NA</td><td>1</td><td> 9</td><td>10</td><td>⋯</td><td>NA</td><td>NA</td><td> 7</td><td>11</td><td>14</td><td>16</td><td>12</td><td> 4</td><td> 5</td><td>13</td></tr>\n",
       "\t<tr><td>47</td><td>2</td><td>3</td><td>6</td><td>NA</td><td> 8</td><td>NA</td><td>1</td><td> 9</td><td>10</td><td>⋯</td><td>NA</td><td>NA</td><td> 7</td><td>11</td><td>13</td><td>16</td><td>12</td><td> 4</td><td> 5</td><td>14</td></tr>\n",
       "\t<tr><td>48</td><td>2</td><td>3</td><td>7</td><td>NA</td><td> 8</td><td>NA</td><td>1</td><td> 9</td><td>10</td><td>⋯</td><td>NA</td><td>NA</td><td> 6</td><td>11</td><td>13</td><td>16</td><td>12</td><td> 4</td><td> 5</td><td>14</td></tr>\n",
       "\t<tr><td>49</td><td>2</td><td>3</td><td>7</td><td>NA</td><td> 8</td><td>NA</td><td>1</td><td> 9</td><td>10</td><td>⋯</td><td>NA</td><td>NA</td><td> 6</td><td>11</td><td>13</td><td>16</td><td>12</td><td> 4</td><td> 5</td><td>14</td></tr>\n",
       "\t<tr><td>50</td><td>2</td><td>3</td><td>7</td><td>NA</td><td> 8</td><td>NA</td><td>1</td><td> 9</td><td>10</td><td>⋯</td><td>NA</td><td>NA</td><td> 6</td><td>11</td><td>13</td><td>16</td><td>12</td><td> 4</td><td> 5</td><td>14</td></tr>\n",
       "\t<tr><td>51</td><td>2</td><td>3</td><td>7</td><td>NA</td><td> 8</td><td>NA</td><td>1</td><td> 9</td><td>10</td><td>⋯</td><td>NA</td><td>NA</td><td> 6</td><td>11</td><td>13</td><td>16</td><td>12</td><td> 4</td><td> 5</td><td>14</td></tr>\n",
       "\t<tr><td>52</td><td>2</td><td>3</td><td>7</td><td>NA</td><td> 8</td><td>NA</td><td>1</td><td> 9</td><td>10</td><td>⋯</td><td>NA</td><td>NA</td><td> 6</td><td>11</td><td>13</td><td>16</td><td>12</td><td> 4</td><td> 5</td><td>14</td></tr>\n",
       "\t<tr><td>53</td><td>2</td><td>3</td><td>7</td><td>NA</td><td> 8</td><td>NA</td><td>1</td><td> 9</td><td>10</td><td>⋯</td><td>NA</td><td>NA</td><td> 6</td><td>11</td><td>NA</td><td>NA</td><td>12</td><td> 4</td><td> 5</td><td>NA</td></tr>\n",
       "</tbody>\n",
       "</table>\n"
      ],
      "text/latex": [
       "A data.frame: 54 × 21\n",
       "\\begin{tabular}{lllllllllllllllllllll}\n",
       " laps & driver.1 & driver.2 & driver.3 & driver.4 & driver.5 & driver.6 & driver.7 & driver.8 & driver.9 & ⋯ & driver.11 & driver.12 & driver.13 & driver.14 & driver.15 & driver.16 & driver.17 & driver.18 & driver.19 & driver.20\\\\\n",
       " <dbl> & <int> & <int> & <int> & <int> & <int> & <int> & <int> & <int> & <int> & ⋯ & <int> & <int> & <int> & <int> & <int> & <int> & <int> & <int> & <int> & <int>\\\\\n",
       "\\hline\n",
       "\t  0 & 1 & 2 & 3 &  4 &  5 &  6 & 7 &  8 &  9 & ⋯ & 11 & 12 & 13 & 14 & 15 & 16 & 17 & 18 & 19 & 20\\\\\n",
       "\t  1 & 1 & 2 & 6 &  3 &  5 &  7 & 4 &  8 &  9 & ⋯ & 10 & 11 & 15 & 13 & 20 & 12 & 17 & 16 & 19 & 18\\\\\n",
       "\t  2 & 1 & 2 & 6 &  4 &  5 &  7 & 3 &  8 &  9 & ⋯ & 11 & 10 & 16 & 12 & 20 & 13 & 19 & 14 & 18 & 17\\\\\n",
       "\t  3 & 1 & 2 & 6 &  4 &  5 &  7 & 3 &  8 &  9 & ⋯ & 11 & 10 & 15 & 12 & 20 & 13 & 19 & 14 & 18 & 17\\\\\n",
       "\t  4 & 1 & 2 & 6 &  4 &  5 &  7 & 3 &  8 &  9 & ⋯ & 11 & 10 & 14 & 12 & 20 & 15 & 19 & 13 & 18 & 17\\\\\n",
       "\t  5 & 1 & 3 & 6 &  4 &  5 &  7 & 2 &  8 &  9 & ⋯ & 12 & 10 & 14 & 13 & 20 & 15 & 19 & 11 & 18 & 17\\\\\n",
       "\t  6 & 1 & 3 & 6 &  4 &  5 &  7 & 2 &  8 &  9 & ⋯ & 12 & 11 & 13 & 14 & 20 & 15 & 19 & 10 & 18 & 17\\\\\n",
       "\t  7 & 1 & 3 & 6 &  4 &  5 &  7 & 2 &  8 &  9 & ⋯ & 12 & 11 & 18 & 13 & 20 & 14 & 19 & 10 & 17 & 15\\\\\n",
       "\t  8 & 1 & 3 & 6 &  4 &  5 &  7 & 2 &  8 & 10 & ⋯ & 12 & 11 & 20 & 13 & 19 & 15 & 18 &  9 & 16 & 14\\\\\n",
       "\t  9 & 1 & 3 & 6 &  4 &  5 &  7 & 2 &  9 & 10 & ⋯ & 12 & 11 & 20 & 13 & 19 & 16 & 18 &  8 & 15 & 14\\\\\n",
       "\t 10 & 1 & 3 & 6 &  4 &  5 &  8 & 2 &  9 & 10 & ⋯ & 13 & 11 & 20 & 12 & 19 & 16 & 18 &  7 & 15 & 14\\\\\n",
       "\t 11 & 1 & 3 & 7 &  4 &  5 &  8 & 2 &  9 & 10 & ⋯ & NA & 11 & 19 & 12 & 18 & 15 & 17 &  6 & 13 & 14\\\\\n",
       "\t 12 & 2 & 3 & 7 &  4 &  6 &  8 & 1 &  9 & 10 & ⋯ & NA & 11 & 19 & 12 & 18 & 15 & 17 &  5 & 13 & 14\\\\\n",
       "\t 13 & 3 & 2 & 8 &  5 &  6 &  7 & 1 &  9 & 10 & ⋯ & NA & 11 & 19 & 12 & 18 & 16 & 17 &  4 & 13 & 14\\\\\n",
       "\t 14 & 3 & 2 & 8 &  5 &  6 &  7 & 1 &  9 & 10 & ⋯ & NA & 11 & 19 & 12 & 18 & 16 & 17 &  4 & 13 & 14\\\\\n",
       "\t 15 & 3 & 2 & 8 &  5 &  6 &  7 & 1 &  9 & 10 & ⋯ & NA & 11 & 19 & 12 & 17 & 15 & 16 &  4 & 13 & 14\\\\\n",
       "\t 16 & 3 & 2 & 8 &  5 &  6 &  7 & 1 &  9 & 10 & ⋯ & NA & 11 & 18 & 13 & 17 & 16 & 15 &  4 & 12 & 14\\\\\n",
       "\t 17 & 3 & 2 & 8 &  5 &  6 &  7 & 1 &  9 & 10 & ⋯ & NA & 12 & 18 & 13 & 17 & 16 & 15 &  4 & 11 & 14\\\\\n",
       "\t 18 & 3 & 2 & 6 &  5 &  9 &  7 & 1 &  8 & 11 & ⋯ & NA & 14 & 18 & 12 & 16 & 17 & 15 &  4 & 10 & 13\\\\\n",
       "\t 19 & 3 & 2 & 5 &  7 & 16 &  6 & 1 &  9 & 17 & ⋯ & NA & 18 & 15 & 10 & 13 & 14 & 11 &  4 &  8 & 12\\\\\n",
       "\t 20 & 3 & 2 & 5 & 12 & 13 &  6 & 1 & 14 & 15 & ⋯ & NA & 17 & 10 & 16 &  9 & 11 &  8 &  4 &  7 & 18\\\\\n",
       "\t 21 & 3 & 2 & 5 & 12 & 13 &  6 & 1 & 14 & 15 & ⋯ & NA & 18 & 10 & 16 &  9 & 11 &  8 &  4 &  7 & 17\\\\\n",
       "\t 22 & 3 & 2 & 5 & 12 & 13 &  6 & 1 & 14 & 15 & ⋯ & NA & 18 &  9 & 16 & 10 & 11 &  8 &  4 &  7 & 17\\\\\n",
       "\t 23 & 2 & 3 & 5 & 12 & 13 &  6 & 1 & 14 & 15 & ⋯ & NA & 18 &  9 & 16 & 10 & 11 &  8 &  4 &  7 & 17\\\\\n",
       "\t 24 & 2 & 4 & 5 & 11 & 12 &  6 & 1 & 13 & 15 & ⋯ & NA & 19 &  8 & 16 & 10 & 14 &  9 &  3 &  7 & 17\\\\\n",
       "\t 25 & 2 & 4 & 5 & 11 & 12 &  6 & 1 & 13 & 14 & ⋯ & NA & 18 &  8 & 15 & 10 & 19 &  9 &  3 &  7 & 16\\\\\n",
       "\t 26 & 1 & 4 & 5 & 11 & 12 &  6 & 2 & 13 & 14 & ⋯ & NA & 18 &  8 & 15 & 10 & 19 &  9 &  3 &  7 & 16\\\\\n",
       "\t 27 & 1 & 4 & 5 & 11 & 12 &  7 & 2 & 13 & 14 & ⋯ & NA & 18 &  8 & 15 & 10 & 19 &  9 &  3 &  6 & 16\\\\\n",
       "\t 28 & 1 & 4 & 5 & 11 & 12 &  7 & 2 & 13 & 14 & ⋯ & NA & 18 &  8 & 15 & 10 & 19 &  9 &  3 &  6 & 16\\\\\n",
       "\t 29 & 1 & 4 & 5 & 11 & 12 &  7 & 2 & 13 & 14 & ⋯ & NA & 18 &  8 & 15 & 10 & 19 &  9 &  3 &  6 & 16\\\\\n",
       "\t 30 & 1 & 3 & 5 & 11 & 12 &  7 & 2 & 13 & 14 & ⋯ & NA & 18 &  8 & 15 & 10 & 19 &  9 &  4 &  6 & 16\\\\\n",
       "\t 31 & 1 & 3 & 4 & 11 & 12 &  8 & 2 & 13 & 14 & ⋯ & NA & 18 &  6 & 15 & 10 & 19 &  9 &  7 &  5 & 16\\\\\n",
       "\t 32 & 1 & 3 & 4 & 10 & 11 & NA & 2 & 12 & 13 & ⋯ & NA & 17 &  6 & 14 &  9 & 18 &  8 &  7 &  5 & 15\\\\\n",
       "\t 33 & 1 & 3 & 4 & 10 & 11 & NA & 2 & 12 & 13 & ⋯ & NA & 17 &  6 & 14 &  8 & 18 &  9 &  5 &  7 & 15\\\\\n",
       "\t 34 & 2 & 3 & 4 &  8 &  9 & NA & 1 & 10 & 11 & ⋯ & NA & 16 &  6 & 13 &  7 & 18 & 17 &  5 & 12 & 14\\\\\n",
       "\t 35 & 2 & 3 & 4 &  7 &  8 & NA & 1 & 10 & 12 & ⋯ & NA & 17 &  6 & 13 & 11 & 18 & 16 &  5 &  9 & 14\\\\\n",
       "\t 36 & 2 & 3 & 9 &  6 &  8 & NA & 1 & 10 & 11 & ⋯ & NA & 16 &  5 & 12 & 17 & 18 & 15 &  4 &  7 & 13\\\\\n",
       "\t 37 & 2 & 3 & 7 &  8 &  9 & NA & 1 & 10 & 11 & ⋯ & NA & 17 &  5 & 12 & 16 & 18 & 15 &  4 &  6 & 13\\\\\n",
       "\t 38 & 2 & 3 & 7 &  8 &  9 & NA & 1 & 10 & 11 & ⋯ & NA & 17 &  5 & 12 & 16 & 18 & 15 &  4 &  6 & 13\\\\\n",
       "\t 39 & 2 & 3 & 7 &  8 &  9 & NA & 1 & 10 & 11 & ⋯ & NA & 17 &  5 & 12 & 16 & 18 & 15 &  4 &  6 & 13\\\\\n",
       "\t 40 & 2 & 3 & 7 &  8 &  9 & NA & 1 & 10 & 11 & ⋯ & NA & NA &  5 & 12 & 16 & 17 & 15 &  4 &  6 & 13\\\\\n",
       "\t 41 & 2 & 3 & 7 &  8 &  9 & NA & 1 & 10 & 11 & ⋯ & NA & NA &  5 & 12 & 16 & 17 & 14 &  4 &  6 & 13\\\\\n",
       "\t 42 & 2 & 3 & 7 &  8 &  9 & NA & 1 & 10 & 11 & ⋯ & NA & NA &  5 & 12 & 15 & 17 & 14 &  4 &  6 & 13\\\\\n",
       "\t 43 & 2 & 3 & 6 &  8 &  9 & NA & 1 & 10 & 11 & ⋯ & NA & NA &  7 & 12 & 15 & 17 & 14 &  4 &  5 & 13\\\\\n",
       "\t 44 & 2 & 3 & 6 &  8 &  9 & NA & 1 & 10 & 11 & ⋯ & NA & NA &  7 & 12 & 15 & 17 & 14 &  4 &  5 & 13\\\\\n",
       "\t 45 & 2 & 3 & 6 &  8 &  9 & NA & 1 & 10 & 11 & ⋯ & NA & NA &  7 & 12 & 15 & 17 & 13 &  4 &  5 & 14\\\\\n",
       "\t 46 & 2 & 3 & 6 & NA &  8 & NA & 1 &  9 & 10 & ⋯ & NA & NA &  7 & 11 & 14 & 16 & 12 &  4 &  5 & 13\\\\\n",
       "\t 47 & 2 & 3 & 6 & NA &  8 & NA & 1 &  9 & 10 & ⋯ & NA & NA &  7 & 11 & 13 & 16 & 12 &  4 &  5 & 14\\\\\n",
       "\t 48 & 2 & 3 & 7 & NA &  8 & NA & 1 &  9 & 10 & ⋯ & NA & NA &  6 & 11 & 13 & 16 & 12 &  4 &  5 & 14\\\\\n",
       "\t 49 & 2 & 3 & 7 & NA &  8 & NA & 1 &  9 & 10 & ⋯ & NA & NA &  6 & 11 & 13 & 16 & 12 &  4 &  5 & 14\\\\\n",
       "\t 50 & 2 & 3 & 7 & NA &  8 & NA & 1 &  9 & 10 & ⋯ & NA & NA &  6 & 11 & 13 & 16 & 12 &  4 &  5 & 14\\\\\n",
       "\t 51 & 2 & 3 & 7 & NA &  8 & NA & 1 &  9 & 10 & ⋯ & NA & NA &  6 & 11 & 13 & 16 & 12 &  4 &  5 & 14\\\\\n",
       "\t 52 & 2 & 3 & 7 & NA &  8 & NA & 1 &  9 & 10 & ⋯ & NA & NA &  6 & 11 & 13 & 16 & 12 &  4 &  5 & 14\\\\\n",
       "\t 53 & 2 & 3 & 7 & NA &  8 & NA & 1 &  9 & 10 & ⋯ & NA & NA &  6 & 11 & NA & NA & 12 &  4 &  5 & NA\\\\\n",
       "\\end{tabular}\n"
      ],
      "text/markdown": [
       "\n",
       "A data.frame: 54 × 21\n",
       "\n",
       "| laps &lt;dbl&gt; | driver.1 &lt;int&gt; | driver.2 &lt;int&gt; | driver.3 &lt;int&gt; | driver.4 &lt;int&gt; | driver.5 &lt;int&gt; | driver.6 &lt;int&gt; | driver.7 &lt;int&gt; | driver.8 &lt;int&gt; | driver.9 &lt;int&gt; | ⋯ ⋯ | driver.11 &lt;int&gt; | driver.12 &lt;int&gt; | driver.13 &lt;int&gt; | driver.14 &lt;int&gt; | driver.15 &lt;int&gt; | driver.16 &lt;int&gt; | driver.17 &lt;int&gt; | driver.18 &lt;int&gt; | driver.19 &lt;int&gt; | driver.20 &lt;int&gt; |\n",
       "|---|---|---|---|---|---|---|---|---|---|---|---|---|---|---|---|---|---|---|---|---|\n",
       "|  0 | 1 | 2 | 3 |  4 |  5 |  6 | 7 |  8 |  9 | ⋯ | 11 | 12 | 13 | 14 | 15 | 16 | 17 | 18 | 19 | 20 |\n",
       "|  1 | 1 | 2 | 6 |  3 |  5 |  7 | 4 |  8 |  9 | ⋯ | 10 | 11 | 15 | 13 | 20 | 12 | 17 | 16 | 19 | 18 |\n",
       "|  2 | 1 | 2 | 6 |  4 |  5 |  7 | 3 |  8 |  9 | ⋯ | 11 | 10 | 16 | 12 | 20 | 13 | 19 | 14 | 18 | 17 |\n",
       "|  3 | 1 | 2 | 6 |  4 |  5 |  7 | 3 |  8 |  9 | ⋯ | 11 | 10 | 15 | 12 | 20 | 13 | 19 | 14 | 18 | 17 |\n",
       "|  4 | 1 | 2 | 6 |  4 |  5 |  7 | 3 |  8 |  9 | ⋯ | 11 | 10 | 14 | 12 | 20 | 15 | 19 | 13 | 18 | 17 |\n",
       "|  5 | 1 | 3 | 6 |  4 |  5 |  7 | 2 |  8 |  9 | ⋯ | 12 | 10 | 14 | 13 | 20 | 15 | 19 | 11 | 18 | 17 |\n",
       "|  6 | 1 | 3 | 6 |  4 |  5 |  7 | 2 |  8 |  9 | ⋯ | 12 | 11 | 13 | 14 | 20 | 15 | 19 | 10 | 18 | 17 |\n",
       "|  7 | 1 | 3 | 6 |  4 |  5 |  7 | 2 |  8 |  9 | ⋯ | 12 | 11 | 18 | 13 | 20 | 14 | 19 | 10 | 17 | 15 |\n",
       "|  8 | 1 | 3 | 6 |  4 |  5 |  7 | 2 |  8 | 10 | ⋯ | 12 | 11 | 20 | 13 | 19 | 15 | 18 |  9 | 16 | 14 |\n",
       "|  9 | 1 | 3 | 6 |  4 |  5 |  7 | 2 |  9 | 10 | ⋯ | 12 | 11 | 20 | 13 | 19 | 16 | 18 |  8 | 15 | 14 |\n",
       "| 10 | 1 | 3 | 6 |  4 |  5 |  8 | 2 |  9 | 10 | ⋯ | 13 | 11 | 20 | 12 | 19 | 16 | 18 |  7 | 15 | 14 |\n",
       "| 11 | 1 | 3 | 7 |  4 |  5 |  8 | 2 |  9 | 10 | ⋯ | NA | 11 | 19 | 12 | 18 | 15 | 17 |  6 | 13 | 14 |\n",
       "| 12 | 2 | 3 | 7 |  4 |  6 |  8 | 1 |  9 | 10 | ⋯ | NA | 11 | 19 | 12 | 18 | 15 | 17 |  5 | 13 | 14 |\n",
       "| 13 | 3 | 2 | 8 |  5 |  6 |  7 | 1 |  9 | 10 | ⋯ | NA | 11 | 19 | 12 | 18 | 16 | 17 |  4 | 13 | 14 |\n",
       "| 14 | 3 | 2 | 8 |  5 |  6 |  7 | 1 |  9 | 10 | ⋯ | NA | 11 | 19 | 12 | 18 | 16 | 17 |  4 | 13 | 14 |\n",
       "| 15 | 3 | 2 | 8 |  5 |  6 |  7 | 1 |  9 | 10 | ⋯ | NA | 11 | 19 | 12 | 17 | 15 | 16 |  4 | 13 | 14 |\n",
       "| 16 | 3 | 2 | 8 |  5 |  6 |  7 | 1 |  9 | 10 | ⋯ | NA | 11 | 18 | 13 | 17 | 16 | 15 |  4 | 12 | 14 |\n",
       "| 17 | 3 | 2 | 8 |  5 |  6 |  7 | 1 |  9 | 10 | ⋯ | NA | 12 | 18 | 13 | 17 | 16 | 15 |  4 | 11 | 14 |\n",
       "| 18 | 3 | 2 | 6 |  5 |  9 |  7 | 1 |  8 | 11 | ⋯ | NA | 14 | 18 | 12 | 16 | 17 | 15 |  4 | 10 | 13 |\n",
       "| 19 | 3 | 2 | 5 |  7 | 16 |  6 | 1 |  9 | 17 | ⋯ | NA | 18 | 15 | 10 | 13 | 14 | 11 |  4 |  8 | 12 |\n",
       "| 20 | 3 | 2 | 5 | 12 | 13 |  6 | 1 | 14 | 15 | ⋯ | NA | 17 | 10 | 16 |  9 | 11 |  8 |  4 |  7 | 18 |\n",
       "| 21 | 3 | 2 | 5 | 12 | 13 |  6 | 1 | 14 | 15 | ⋯ | NA | 18 | 10 | 16 |  9 | 11 |  8 |  4 |  7 | 17 |\n",
       "| 22 | 3 | 2 | 5 | 12 | 13 |  6 | 1 | 14 | 15 | ⋯ | NA | 18 |  9 | 16 | 10 | 11 |  8 |  4 |  7 | 17 |\n",
       "| 23 | 2 | 3 | 5 | 12 | 13 |  6 | 1 | 14 | 15 | ⋯ | NA | 18 |  9 | 16 | 10 | 11 |  8 |  4 |  7 | 17 |\n",
       "| 24 | 2 | 4 | 5 | 11 | 12 |  6 | 1 | 13 | 15 | ⋯ | NA | 19 |  8 | 16 | 10 | 14 |  9 |  3 |  7 | 17 |\n",
       "| 25 | 2 | 4 | 5 | 11 | 12 |  6 | 1 | 13 | 14 | ⋯ | NA | 18 |  8 | 15 | 10 | 19 |  9 |  3 |  7 | 16 |\n",
       "| 26 | 1 | 4 | 5 | 11 | 12 |  6 | 2 | 13 | 14 | ⋯ | NA | 18 |  8 | 15 | 10 | 19 |  9 |  3 |  7 | 16 |\n",
       "| 27 | 1 | 4 | 5 | 11 | 12 |  7 | 2 | 13 | 14 | ⋯ | NA | 18 |  8 | 15 | 10 | 19 |  9 |  3 |  6 | 16 |\n",
       "| 28 | 1 | 4 | 5 | 11 | 12 |  7 | 2 | 13 | 14 | ⋯ | NA | 18 |  8 | 15 | 10 | 19 |  9 |  3 |  6 | 16 |\n",
       "| 29 | 1 | 4 | 5 | 11 | 12 |  7 | 2 | 13 | 14 | ⋯ | NA | 18 |  8 | 15 | 10 | 19 |  9 |  3 |  6 | 16 |\n",
       "| 30 | 1 | 3 | 5 | 11 | 12 |  7 | 2 | 13 | 14 | ⋯ | NA | 18 |  8 | 15 | 10 | 19 |  9 |  4 |  6 | 16 |\n",
       "| 31 | 1 | 3 | 4 | 11 | 12 |  8 | 2 | 13 | 14 | ⋯ | NA | 18 |  6 | 15 | 10 | 19 |  9 |  7 |  5 | 16 |\n",
       "| 32 | 1 | 3 | 4 | 10 | 11 | NA | 2 | 12 | 13 | ⋯ | NA | 17 |  6 | 14 |  9 | 18 |  8 |  7 |  5 | 15 |\n",
       "| 33 | 1 | 3 | 4 | 10 | 11 | NA | 2 | 12 | 13 | ⋯ | NA | 17 |  6 | 14 |  8 | 18 |  9 |  5 |  7 | 15 |\n",
       "| 34 | 2 | 3 | 4 |  8 |  9 | NA | 1 | 10 | 11 | ⋯ | NA | 16 |  6 | 13 |  7 | 18 | 17 |  5 | 12 | 14 |\n",
       "| 35 | 2 | 3 | 4 |  7 |  8 | NA | 1 | 10 | 12 | ⋯ | NA | 17 |  6 | 13 | 11 | 18 | 16 |  5 |  9 | 14 |\n",
       "| 36 | 2 | 3 | 9 |  6 |  8 | NA | 1 | 10 | 11 | ⋯ | NA | 16 |  5 | 12 | 17 | 18 | 15 |  4 |  7 | 13 |\n",
       "| 37 | 2 | 3 | 7 |  8 |  9 | NA | 1 | 10 | 11 | ⋯ | NA | 17 |  5 | 12 | 16 | 18 | 15 |  4 |  6 | 13 |\n",
       "| 38 | 2 | 3 | 7 |  8 |  9 | NA | 1 | 10 | 11 | ⋯ | NA | 17 |  5 | 12 | 16 | 18 | 15 |  4 |  6 | 13 |\n",
       "| 39 | 2 | 3 | 7 |  8 |  9 | NA | 1 | 10 | 11 | ⋯ | NA | 17 |  5 | 12 | 16 | 18 | 15 |  4 |  6 | 13 |\n",
       "| 40 | 2 | 3 | 7 |  8 |  9 | NA | 1 | 10 | 11 | ⋯ | NA | NA |  5 | 12 | 16 | 17 | 15 |  4 |  6 | 13 |\n",
       "| 41 | 2 | 3 | 7 |  8 |  9 | NA | 1 | 10 | 11 | ⋯ | NA | NA |  5 | 12 | 16 | 17 | 14 |  4 |  6 | 13 |\n",
       "| 42 | 2 | 3 | 7 |  8 |  9 | NA | 1 | 10 | 11 | ⋯ | NA | NA |  5 | 12 | 15 | 17 | 14 |  4 |  6 | 13 |\n",
       "| 43 | 2 | 3 | 6 |  8 |  9 | NA | 1 | 10 | 11 | ⋯ | NA | NA |  7 | 12 | 15 | 17 | 14 |  4 |  5 | 13 |\n",
       "| 44 | 2 | 3 | 6 |  8 |  9 | NA | 1 | 10 | 11 | ⋯ | NA | NA |  7 | 12 | 15 | 17 | 14 |  4 |  5 | 13 |\n",
       "| 45 | 2 | 3 | 6 |  8 |  9 | NA | 1 | 10 | 11 | ⋯ | NA | NA |  7 | 12 | 15 | 17 | 13 |  4 |  5 | 14 |\n",
       "| 46 | 2 | 3 | 6 | NA |  8 | NA | 1 |  9 | 10 | ⋯ | NA | NA |  7 | 11 | 14 | 16 | 12 |  4 |  5 | 13 |\n",
       "| 47 | 2 | 3 | 6 | NA |  8 | NA | 1 |  9 | 10 | ⋯ | NA | NA |  7 | 11 | 13 | 16 | 12 |  4 |  5 | 14 |\n",
       "| 48 | 2 | 3 | 7 | NA |  8 | NA | 1 |  9 | 10 | ⋯ | NA | NA |  6 | 11 | 13 | 16 | 12 |  4 |  5 | 14 |\n",
       "| 49 | 2 | 3 | 7 | NA |  8 | NA | 1 |  9 | 10 | ⋯ | NA | NA |  6 | 11 | 13 | 16 | 12 |  4 |  5 | 14 |\n",
       "| 50 | 2 | 3 | 7 | NA |  8 | NA | 1 |  9 | 10 | ⋯ | NA | NA |  6 | 11 | 13 | 16 | 12 |  4 |  5 | 14 |\n",
       "| 51 | 2 | 3 | 7 | NA |  8 | NA | 1 |  9 | 10 | ⋯ | NA | NA |  6 | 11 | 13 | 16 | 12 |  4 |  5 | 14 |\n",
       "| 52 | 2 | 3 | 7 | NA |  8 | NA | 1 |  9 | 10 | ⋯ | NA | NA |  6 | 11 | 13 | 16 | 12 |  4 |  5 | 14 |\n",
       "| 53 | 2 | 3 | 7 | NA |  8 | NA | 1 |  9 | 10 | ⋯ | NA | NA |  6 | 11 | NA | NA | 12 |  4 |  5 | NA |\n",
       "\n"
      ],
      "text/plain": [
       "   laps driver.1 driver.2 driver.3 driver.4 driver.5 driver.6 driver.7 driver.8\n",
       "1   0   1        2        3         4        5        6       7         8      \n",
       "2   1   1        2        6         3        5        7       4         8      \n",
       "3   2   1        2        6         4        5        7       3         8      \n",
       "4   3   1        2        6         4        5        7       3         8      \n",
       "5   4   1        2        6         4        5        7       3         8      \n",
       "6   5   1        3        6         4        5        7       2         8      \n",
       "7   6   1        3        6         4        5        7       2         8      \n",
       "8   7   1        3        6         4        5        7       2         8      \n",
       "9   8   1        3        6         4        5        7       2         8      \n",
       "10  9   1        3        6         4        5        7       2         9      \n",
       "11 10   1        3        6         4        5        8       2         9      \n",
       "12 11   1        3        7         4        5        8       2         9      \n",
       "13 12   2        3        7         4        6        8       1         9      \n",
       "14 13   3        2        8         5        6        7       1         9      \n",
       "15 14   3        2        8         5        6        7       1         9      \n",
       "16 15   3        2        8         5        6        7       1         9      \n",
       "17 16   3        2        8         5        6        7       1         9      \n",
       "18 17   3        2        8         5        6        7       1         9      \n",
       "19 18   3        2        6         5        9        7       1         8      \n",
       "20 19   3        2        5         7       16        6       1         9      \n",
       "21 20   3        2        5        12       13        6       1        14      \n",
       "22 21   3        2        5        12       13        6       1        14      \n",
       "23 22   3        2        5        12       13        6       1        14      \n",
       "24 23   2        3        5        12       13        6       1        14      \n",
       "25 24   2        4        5        11       12        6       1        13      \n",
       "26 25   2        4        5        11       12        6       1        13      \n",
       "27 26   1        4        5        11       12        6       2        13      \n",
       "28 27   1        4        5        11       12        7       2        13      \n",
       "29 28   1        4        5        11       12        7       2        13      \n",
       "30 29   1        4        5        11       12        7       2        13      \n",
       "31 30   1        3        5        11       12        7       2        13      \n",
       "32 31   1        3        4        11       12        8       2        13      \n",
       "33 32   1        3        4        10       11       NA       2        12      \n",
       "34 33   1        3        4        10       11       NA       2        12      \n",
       "35 34   2        3        4         8        9       NA       1        10      \n",
       "36 35   2        3        4         7        8       NA       1        10      \n",
       "37 36   2        3        9         6        8       NA       1        10      \n",
       "38 37   2        3        7         8        9       NA       1        10      \n",
       "39 38   2        3        7         8        9       NA       1        10      \n",
       "40 39   2        3        7         8        9       NA       1        10      \n",
       "41 40   2        3        7         8        9       NA       1        10      \n",
       "42 41   2        3        7         8        9       NA       1        10      \n",
       "43 42   2        3        7         8        9       NA       1        10      \n",
       "44 43   2        3        6         8        9       NA       1        10      \n",
       "45 44   2        3        6         8        9       NA       1        10      \n",
       "46 45   2        3        6         8        9       NA       1        10      \n",
       "47 46   2        3        6        NA        8       NA       1         9      \n",
       "48 47   2        3        6        NA        8       NA       1         9      \n",
       "49 48   2        3        7        NA        8       NA       1         9      \n",
       "50 49   2        3        7        NA        8       NA       1         9      \n",
       "51 50   2        3        7        NA        8       NA       1         9      \n",
       "52 51   2        3        7        NA        8       NA       1         9      \n",
       "53 52   2        3        7        NA        8       NA       1         9      \n",
       "54 53   2        3        7        NA        8       NA       1         9      \n",
       "   driver.9 <U+22EF>        driver.11 driver.12 driver.13 driver.14 driver.15\n",
       "1   9       <U+22EF> 11        12        13        14        15       \n",
       "2   9       <U+22EF> 10        11        15        13        20       \n",
       "3   9       <U+22EF> 11        10        16        12        20       \n",
       "4   9       <U+22EF> 11        10        15        12        20       \n",
       "5   9       <U+22EF> 11        10        14        12        20       \n",
       "6   9       <U+22EF> 12        10        14        13        20       \n",
       "7   9       <U+22EF> 12        11        13        14        20       \n",
       "8   9       <U+22EF> 12        11        18        13        20       \n",
       "9  10       <U+22EF> 12        11        20        13        19       \n",
       "10 10       <U+22EF> 12        11        20        13        19       \n",
       "11 10       <U+22EF> 13        11        20        12        19       \n",
       "12 10       <U+22EF> NA        11        19        12        18       \n",
       "13 10       <U+22EF> NA        11        19        12        18       \n",
       "14 10       <U+22EF> NA        11        19        12        18       \n",
       "15 10       <U+22EF> NA        11        19        12        18       \n",
       "16 10       <U+22EF> NA        11        19        12        17       \n",
       "17 10       <U+22EF> NA        11        18        13        17       \n",
       "18 10       <U+22EF> NA        12        18        13        17       \n",
       "19 11       <U+22EF> NA        14        18        12        16       \n",
       "20 17       <U+22EF> NA        18        15        10        13       \n",
       "21 15       <U+22EF> NA        17        10        16         9       \n",
       "22 15       <U+22EF> NA        18        10        16         9       \n",
       "23 15       <U+22EF> NA        18         9        16        10       \n",
       "24 15       <U+22EF> NA        18         9        16        10       \n",
       "25 15       <U+22EF> NA        19         8        16        10       \n",
       "26 14       <U+22EF> NA        18         8        15        10       \n",
       "27 14       <U+22EF> NA        18         8        15        10       \n",
       "28 14       <U+22EF> NA        18         8        15        10       \n",
       "29 14       <U+22EF> NA        18         8        15        10       \n",
       "30 14       <U+22EF> NA        18         8        15        10       \n",
       "31 14       <U+22EF> NA        18         8        15        10       \n",
       "32 14       <U+22EF> NA        18         6        15        10       \n",
       "33 13       <U+22EF> NA        17         6        14         9       \n",
       "34 13       <U+22EF> NA        17         6        14         8       \n",
       "35 11       <U+22EF> NA        16         6        13         7       \n",
       "36 12       <U+22EF> NA        17         6        13        11       \n",
       "37 11       <U+22EF> NA        16         5        12        17       \n",
       "38 11       <U+22EF> NA        17         5        12        16       \n",
       "39 11       <U+22EF> NA        17         5        12        16       \n",
       "40 11       <U+22EF> NA        17         5        12        16       \n",
       "41 11       <U+22EF> NA        NA         5        12        16       \n",
       "42 11       <U+22EF> NA        NA         5        12        16       \n",
       "43 11       <U+22EF> NA        NA         5        12        15       \n",
       "44 11       <U+22EF> NA        NA         7        12        15       \n",
       "45 11       <U+22EF> NA        NA         7        12        15       \n",
       "46 11       <U+22EF> NA        NA         7        12        15       \n",
       "47 10       <U+22EF> NA        NA         7        11        14       \n",
       "48 10       <U+22EF> NA        NA         7        11        13       \n",
       "49 10       <U+22EF> NA        NA         6        11        13       \n",
       "50 10       <U+22EF> NA        NA         6        11        13       \n",
       "51 10       <U+22EF> NA        NA         6        11        13       \n",
       "52 10       <U+22EF> NA        NA         6        11        13       \n",
       "53 10       <U+22EF> NA        NA         6        11        13       \n",
       "54 10       <U+22EF> NA        NA         6        11        NA       \n",
       "   driver.16 driver.17 driver.18 driver.19 driver.20\n",
       "1  16        17        18        19        20       \n",
       "2  12        17        16        19        18       \n",
       "3  13        19        14        18        17       \n",
       "4  13        19        14        18        17       \n",
       "5  15        19        13        18        17       \n",
       "6  15        19        11        18        17       \n",
       "7  15        19        10        18        17       \n",
       "8  14        19        10        17        15       \n",
       "9  15        18         9        16        14       \n",
       "10 16        18         8        15        14       \n",
       "11 16        18         7        15        14       \n",
       "12 15        17         6        13        14       \n",
       "13 15        17         5        13        14       \n",
       "14 16        17         4        13        14       \n",
       "15 16        17         4        13        14       \n",
       "16 15        16         4        13        14       \n",
       "17 16        15         4        12        14       \n",
       "18 16        15         4        11        14       \n",
       "19 17        15         4        10        13       \n",
       "20 14        11         4         8        12       \n",
       "21 11         8         4         7        18       \n",
       "22 11         8         4         7        17       \n",
       "23 11         8         4         7        17       \n",
       "24 11         8         4         7        17       \n",
       "25 14         9         3         7        17       \n",
       "26 19         9         3         7        16       \n",
       "27 19         9         3         7        16       \n",
       "28 19         9         3         6        16       \n",
       "29 19         9         3         6        16       \n",
       "30 19         9         3         6        16       \n",
       "31 19         9         4         6        16       \n",
       "32 19         9         7         5        16       \n",
       "33 18         8         7         5        15       \n",
       "34 18         9         5         7        15       \n",
       "35 18        17         5        12        14       \n",
       "36 18        16         5         9        14       \n",
       "37 18        15         4         7        13       \n",
       "38 18        15         4         6        13       \n",
       "39 18        15         4         6        13       \n",
       "40 18        15         4         6        13       \n",
       "41 17        15         4         6        13       \n",
       "42 17        14         4         6        13       \n",
       "43 17        14         4         6        13       \n",
       "44 17        14         4         5        13       \n",
       "45 17        14         4         5        13       \n",
       "46 17        13         4         5        14       \n",
       "47 16        12         4         5        13       \n",
       "48 16        12         4         5        14       \n",
       "49 16        12         4         5        14       \n",
       "50 16        12         4         5        14       \n",
       "51 16        12         4         5        14       \n",
       "52 16        12         4         5        14       \n",
       "53 16        12         4         5        14       \n",
       "54 NA        12         4         5        NA       "
      ]
     },
     "metadata": {},
     "output_type": "display_data"
    }
   ],
   "source": [
    "race_graph_df"
   ]
  },
  {
   "cell_type": "code",
   "execution_count": 36,
   "id": "a2224975",
   "metadata": {
    "vscode": {
     "languageId": "r"
    }
   },
   "outputs": [
    {
     "data": {
      "text/html": [
       "<table class=\"dataframe\">\n",
       "<caption>A data.frame: 54 × 5</caption>\n",
       "<thead>\n",
       "\t<tr><th scope=col>laps</th><th scope=col>driver.1</th><th scope=col>driver.2</th><th scope=col>driver.3</th><th scope=col>driver.4</th></tr>\n",
       "\t<tr><th scope=col>&lt;dbl&gt;</th><th scope=col>&lt;int&gt;</th><th scope=col>&lt;int&gt;</th><th scope=col>&lt;int&gt;</th><th scope=col>&lt;int&gt;</th></tr>\n",
       "</thead>\n",
       "<tbody>\n",
       "\t<tr><td> 0</td><td>1</td><td>2</td><td>3</td><td> 4</td></tr>\n",
       "\t<tr><td> 1</td><td>1</td><td>2</td><td>6</td><td> 3</td></tr>\n",
       "\t<tr><td> 2</td><td>1</td><td>2</td><td>6</td><td> 4</td></tr>\n",
       "\t<tr><td> 3</td><td>1</td><td>2</td><td>6</td><td> 4</td></tr>\n",
       "\t<tr><td> 4</td><td>1</td><td>2</td><td>6</td><td> 4</td></tr>\n",
       "\t<tr><td> 5</td><td>1</td><td>3</td><td>6</td><td> 4</td></tr>\n",
       "\t<tr><td> 6</td><td>1</td><td>3</td><td>6</td><td> 4</td></tr>\n",
       "\t<tr><td> 7</td><td>1</td><td>3</td><td>6</td><td> 4</td></tr>\n",
       "\t<tr><td> 8</td><td>1</td><td>3</td><td>6</td><td> 4</td></tr>\n",
       "\t<tr><td> 9</td><td>1</td><td>3</td><td>6</td><td> 4</td></tr>\n",
       "\t<tr><td>10</td><td>1</td><td>3</td><td>6</td><td> 4</td></tr>\n",
       "\t<tr><td>11</td><td>1</td><td>3</td><td>7</td><td> 4</td></tr>\n",
       "\t<tr><td>12</td><td>2</td><td>3</td><td>7</td><td> 4</td></tr>\n",
       "\t<tr><td>13</td><td>3</td><td>2</td><td>8</td><td> 5</td></tr>\n",
       "\t<tr><td>14</td><td>3</td><td>2</td><td>8</td><td> 5</td></tr>\n",
       "\t<tr><td>15</td><td>3</td><td>2</td><td>8</td><td> 5</td></tr>\n",
       "\t<tr><td>16</td><td>3</td><td>2</td><td>8</td><td> 5</td></tr>\n",
       "\t<tr><td>17</td><td>3</td><td>2</td><td>8</td><td> 5</td></tr>\n",
       "\t<tr><td>18</td><td>3</td><td>2</td><td>6</td><td> 5</td></tr>\n",
       "\t<tr><td>19</td><td>3</td><td>2</td><td>5</td><td> 7</td></tr>\n",
       "\t<tr><td>20</td><td>3</td><td>2</td><td>5</td><td>12</td></tr>\n",
       "\t<tr><td>21</td><td>3</td><td>2</td><td>5</td><td>12</td></tr>\n",
       "\t<tr><td>22</td><td>3</td><td>2</td><td>5</td><td>12</td></tr>\n",
       "\t<tr><td>23</td><td>2</td><td>3</td><td>5</td><td>12</td></tr>\n",
       "\t<tr><td>24</td><td>2</td><td>4</td><td>5</td><td>11</td></tr>\n",
       "\t<tr><td>25</td><td>2</td><td>4</td><td>5</td><td>11</td></tr>\n",
       "\t<tr><td>26</td><td>1</td><td>4</td><td>5</td><td>11</td></tr>\n",
       "\t<tr><td>27</td><td>1</td><td>4</td><td>5</td><td>11</td></tr>\n",
       "\t<tr><td>28</td><td>1</td><td>4</td><td>5</td><td>11</td></tr>\n",
       "\t<tr><td>29</td><td>1</td><td>4</td><td>5</td><td>11</td></tr>\n",
       "\t<tr><td>30</td><td>1</td><td>3</td><td>5</td><td>11</td></tr>\n",
       "\t<tr><td>31</td><td>1</td><td>3</td><td>4</td><td>11</td></tr>\n",
       "\t<tr><td>32</td><td>1</td><td>3</td><td>4</td><td>10</td></tr>\n",
       "\t<tr><td>33</td><td>1</td><td>3</td><td>4</td><td>10</td></tr>\n",
       "\t<tr><td>34</td><td>2</td><td>3</td><td>4</td><td> 8</td></tr>\n",
       "\t<tr><td>35</td><td>2</td><td>3</td><td>4</td><td> 7</td></tr>\n",
       "\t<tr><td>36</td><td>2</td><td>3</td><td>9</td><td> 6</td></tr>\n",
       "\t<tr><td>37</td><td>2</td><td>3</td><td>7</td><td> 8</td></tr>\n",
       "\t<tr><td>38</td><td>2</td><td>3</td><td>7</td><td> 8</td></tr>\n",
       "\t<tr><td>39</td><td>2</td><td>3</td><td>7</td><td> 8</td></tr>\n",
       "\t<tr><td>40</td><td>2</td><td>3</td><td>7</td><td> 8</td></tr>\n",
       "\t<tr><td>41</td><td>2</td><td>3</td><td>7</td><td> 8</td></tr>\n",
       "\t<tr><td>42</td><td>2</td><td>3</td><td>7</td><td> 8</td></tr>\n",
       "\t<tr><td>43</td><td>2</td><td>3</td><td>6</td><td> 8</td></tr>\n",
       "\t<tr><td>44</td><td>2</td><td>3</td><td>6</td><td> 8</td></tr>\n",
       "\t<tr><td>45</td><td>2</td><td>3</td><td>6</td><td> 8</td></tr>\n",
       "\t<tr><td>46</td><td>2</td><td>3</td><td>6</td><td>NA</td></tr>\n",
       "\t<tr><td>47</td><td>2</td><td>3</td><td>6</td><td>NA</td></tr>\n",
       "\t<tr><td>48</td><td>2</td><td>3</td><td>7</td><td>NA</td></tr>\n",
       "\t<tr><td>49</td><td>2</td><td>3</td><td>7</td><td>NA</td></tr>\n",
       "\t<tr><td>50</td><td>2</td><td>3</td><td>7</td><td>NA</td></tr>\n",
       "\t<tr><td>51</td><td>2</td><td>3</td><td>7</td><td>NA</td></tr>\n",
       "\t<tr><td>52</td><td>2</td><td>3</td><td>7</td><td>NA</td></tr>\n",
       "\t<tr><td>53</td><td>2</td><td>3</td><td>7</td><td>NA</td></tr>\n",
       "</tbody>\n",
       "</table>\n"
      ],
      "text/latex": [
       "A data.frame: 54 × 5\n",
       "\\begin{tabular}{lllll}\n",
       " laps & driver.1 & driver.2 & driver.3 & driver.4\\\\\n",
       " <dbl> & <int> & <int> & <int> & <int>\\\\\n",
       "\\hline\n",
       "\t  0 & 1 & 2 & 3 &  4\\\\\n",
       "\t  1 & 1 & 2 & 6 &  3\\\\\n",
       "\t  2 & 1 & 2 & 6 &  4\\\\\n",
       "\t  3 & 1 & 2 & 6 &  4\\\\\n",
       "\t  4 & 1 & 2 & 6 &  4\\\\\n",
       "\t  5 & 1 & 3 & 6 &  4\\\\\n",
       "\t  6 & 1 & 3 & 6 &  4\\\\\n",
       "\t  7 & 1 & 3 & 6 &  4\\\\\n",
       "\t  8 & 1 & 3 & 6 &  4\\\\\n",
       "\t  9 & 1 & 3 & 6 &  4\\\\\n",
       "\t 10 & 1 & 3 & 6 &  4\\\\\n",
       "\t 11 & 1 & 3 & 7 &  4\\\\\n",
       "\t 12 & 2 & 3 & 7 &  4\\\\\n",
       "\t 13 & 3 & 2 & 8 &  5\\\\\n",
       "\t 14 & 3 & 2 & 8 &  5\\\\\n",
       "\t 15 & 3 & 2 & 8 &  5\\\\\n",
       "\t 16 & 3 & 2 & 8 &  5\\\\\n",
       "\t 17 & 3 & 2 & 8 &  5\\\\\n",
       "\t 18 & 3 & 2 & 6 &  5\\\\\n",
       "\t 19 & 3 & 2 & 5 &  7\\\\\n",
       "\t 20 & 3 & 2 & 5 & 12\\\\\n",
       "\t 21 & 3 & 2 & 5 & 12\\\\\n",
       "\t 22 & 3 & 2 & 5 & 12\\\\\n",
       "\t 23 & 2 & 3 & 5 & 12\\\\\n",
       "\t 24 & 2 & 4 & 5 & 11\\\\\n",
       "\t 25 & 2 & 4 & 5 & 11\\\\\n",
       "\t 26 & 1 & 4 & 5 & 11\\\\\n",
       "\t 27 & 1 & 4 & 5 & 11\\\\\n",
       "\t 28 & 1 & 4 & 5 & 11\\\\\n",
       "\t 29 & 1 & 4 & 5 & 11\\\\\n",
       "\t 30 & 1 & 3 & 5 & 11\\\\\n",
       "\t 31 & 1 & 3 & 4 & 11\\\\\n",
       "\t 32 & 1 & 3 & 4 & 10\\\\\n",
       "\t 33 & 1 & 3 & 4 & 10\\\\\n",
       "\t 34 & 2 & 3 & 4 &  8\\\\\n",
       "\t 35 & 2 & 3 & 4 &  7\\\\\n",
       "\t 36 & 2 & 3 & 9 &  6\\\\\n",
       "\t 37 & 2 & 3 & 7 &  8\\\\\n",
       "\t 38 & 2 & 3 & 7 &  8\\\\\n",
       "\t 39 & 2 & 3 & 7 &  8\\\\\n",
       "\t 40 & 2 & 3 & 7 &  8\\\\\n",
       "\t 41 & 2 & 3 & 7 &  8\\\\\n",
       "\t 42 & 2 & 3 & 7 &  8\\\\\n",
       "\t 43 & 2 & 3 & 6 &  8\\\\\n",
       "\t 44 & 2 & 3 & 6 &  8\\\\\n",
       "\t 45 & 2 & 3 & 6 &  8\\\\\n",
       "\t 46 & 2 & 3 & 6 & NA\\\\\n",
       "\t 47 & 2 & 3 & 6 & NA\\\\\n",
       "\t 48 & 2 & 3 & 7 & NA\\\\\n",
       "\t 49 & 2 & 3 & 7 & NA\\\\\n",
       "\t 50 & 2 & 3 & 7 & NA\\\\\n",
       "\t 51 & 2 & 3 & 7 & NA\\\\\n",
       "\t 52 & 2 & 3 & 7 & NA\\\\\n",
       "\t 53 & 2 & 3 & 7 & NA\\\\\n",
       "\\end{tabular}\n"
      ],
      "text/markdown": [
       "\n",
       "A data.frame: 54 × 5\n",
       "\n",
       "| laps &lt;dbl&gt; | driver.1 &lt;int&gt; | driver.2 &lt;int&gt; | driver.3 &lt;int&gt; | driver.4 &lt;int&gt; |\n",
       "|---|---|---|---|---|\n",
       "|  0 | 1 | 2 | 3 |  4 |\n",
       "|  1 | 1 | 2 | 6 |  3 |\n",
       "|  2 | 1 | 2 | 6 |  4 |\n",
       "|  3 | 1 | 2 | 6 |  4 |\n",
       "|  4 | 1 | 2 | 6 |  4 |\n",
       "|  5 | 1 | 3 | 6 |  4 |\n",
       "|  6 | 1 | 3 | 6 |  4 |\n",
       "|  7 | 1 | 3 | 6 |  4 |\n",
       "|  8 | 1 | 3 | 6 |  4 |\n",
       "|  9 | 1 | 3 | 6 |  4 |\n",
       "| 10 | 1 | 3 | 6 |  4 |\n",
       "| 11 | 1 | 3 | 7 |  4 |\n",
       "| 12 | 2 | 3 | 7 |  4 |\n",
       "| 13 | 3 | 2 | 8 |  5 |\n",
       "| 14 | 3 | 2 | 8 |  5 |\n",
       "| 15 | 3 | 2 | 8 |  5 |\n",
       "| 16 | 3 | 2 | 8 |  5 |\n",
       "| 17 | 3 | 2 | 8 |  5 |\n",
       "| 18 | 3 | 2 | 6 |  5 |\n",
       "| 19 | 3 | 2 | 5 |  7 |\n",
       "| 20 | 3 | 2 | 5 | 12 |\n",
       "| 21 | 3 | 2 | 5 | 12 |\n",
       "| 22 | 3 | 2 | 5 | 12 |\n",
       "| 23 | 2 | 3 | 5 | 12 |\n",
       "| 24 | 2 | 4 | 5 | 11 |\n",
       "| 25 | 2 | 4 | 5 | 11 |\n",
       "| 26 | 1 | 4 | 5 | 11 |\n",
       "| 27 | 1 | 4 | 5 | 11 |\n",
       "| 28 | 1 | 4 | 5 | 11 |\n",
       "| 29 | 1 | 4 | 5 | 11 |\n",
       "| 30 | 1 | 3 | 5 | 11 |\n",
       "| 31 | 1 | 3 | 4 | 11 |\n",
       "| 32 | 1 | 3 | 4 | 10 |\n",
       "| 33 | 1 | 3 | 4 | 10 |\n",
       "| 34 | 2 | 3 | 4 |  8 |\n",
       "| 35 | 2 | 3 | 4 |  7 |\n",
       "| 36 | 2 | 3 | 9 |  6 |\n",
       "| 37 | 2 | 3 | 7 |  8 |\n",
       "| 38 | 2 | 3 | 7 |  8 |\n",
       "| 39 | 2 | 3 | 7 |  8 |\n",
       "| 40 | 2 | 3 | 7 |  8 |\n",
       "| 41 | 2 | 3 | 7 |  8 |\n",
       "| 42 | 2 | 3 | 7 |  8 |\n",
       "| 43 | 2 | 3 | 6 |  8 |\n",
       "| 44 | 2 | 3 | 6 |  8 |\n",
       "| 45 | 2 | 3 | 6 |  8 |\n",
       "| 46 | 2 | 3 | 6 | NA |\n",
       "| 47 | 2 | 3 | 6 | NA |\n",
       "| 48 | 2 | 3 | 7 | NA |\n",
       "| 49 | 2 | 3 | 7 | NA |\n",
       "| 50 | 2 | 3 | 7 | NA |\n",
       "| 51 | 2 | 3 | 7 | NA |\n",
       "| 52 | 2 | 3 | 7 | NA |\n",
       "| 53 | 2 | 3 | 7 | NA |\n",
       "\n"
      ],
      "text/plain": [
       "   laps driver.1 driver.2 driver.3 driver.4\n",
       "1   0   1        2        3         4      \n",
       "2   1   1        2        6         3      \n",
       "3   2   1        2        6         4      \n",
       "4   3   1        2        6         4      \n",
       "5   4   1        2        6         4      \n",
       "6   5   1        3        6         4      \n",
       "7   6   1        3        6         4      \n",
       "8   7   1        3        6         4      \n",
       "9   8   1        3        6         4      \n",
       "10  9   1        3        6         4      \n",
       "11 10   1        3        6         4      \n",
       "12 11   1        3        7         4      \n",
       "13 12   2        3        7         4      \n",
       "14 13   3        2        8         5      \n",
       "15 14   3        2        8         5      \n",
       "16 15   3        2        8         5      \n",
       "17 16   3        2        8         5      \n",
       "18 17   3        2        8         5      \n",
       "19 18   3        2        6         5      \n",
       "20 19   3        2        5         7      \n",
       "21 20   3        2        5        12      \n",
       "22 21   3        2        5        12      \n",
       "23 22   3        2        5        12      \n",
       "24 23   2        3        5        12      \n",
       "25 24   2        4        5        11      \n",
       "26 25   2        4        5        11      \n",
       "27 26   1        4        5        11      \n",
       "28 27   1        4        5        11      \n",
       "29 28   1        4        5        11      \n",
       "30 29   1        4        5        11      \n",
       "31 30   1        3        5        11      \n",
       "32 31   1        3        4        11      \n",
       "33 32   1        3        4        10      \n",
       "34 33   1        3        4        10      \n",
       "35 34   2        3        4         8      \n",
       "36 35   2        3        4         7      \n",
       "37 36   2        3        9         6      \n",
       "38 37   2        3        7         8      \n",
       "39 38   2        3        7         8      \n",
       "40 39   2        3        7         8      \n",
       "41 40   2        3        7         8      \n",
       "42 41   2        3        7         8      \n",
       "43 42   2        3        7         8      \n",
       "44 43   2        3        6         8      \n",
       "45 44   2        3        6         8      \n",
       "46 45   2        3        6         8      \n",
       "47 46   2        3        6        NA      \n",
       "48 47   2        3        6        NA      \n",
       "49 48   2        3        7        NA      \n",
       "50 49   2        3        7        NA      \n",
       "51 50   2        3        7        NA      \n",
       "52 51   2        3        7        NA      \n",
       "53 52   2        3        7        NA      \n",
       "54 53   2        3        7        NA      "
      ]
     },
     "metadata": {},
     "output_type": "display_data"
    }
   ],
   "source": [
    "race_graph_df[1:5]"
   ]
  },
  {
   "cell_type": "code",
   "execution_count": 133,
   "id": "1f4c587a",
   "metadata": {
    "vscode": {
     "languageId": "r"
    }
   },
   "outputs": [],
   "source": [
    "plot <- ggplot(race_graph_df, aes(x = laps)) +\n",
    "  geom_line(aes(y = driver.1, color = \"Driver 1\")) +\n",
    "  geom_line(aes(y = driver.2, color = \"Driver 2\")) +\n",
    "  geom_line(aes(y = driver.3, color = \"Driver 3\")) +\n",
    "  geom_line(aes(y = driver.4, color = \"Driver 4\")) +\n",
    "  labs(x = \"Laps\", y = \"Driver Performance\") +\n",
    "  scale_color_manual(values = c(\"Driver 1\" = \"red\", \"Driver 2\" = \"blue\", \"Driver 3\" = \"green\", \"Driver 4\" = \"purple\")) +\n",
    "  theme_minimal()"
   ]
  },
  {
   "cell_type": "code",
   "execution_count": 38,
   "id": "0f03d07a",
   "metadata": {
    "vscode": {
     "languageId": "r"
    }
   },
   "outputs": [
    {
     "name": "stderr",
     "output_type": "stream",
     "text": [
      "`geom_smooth()` using formula 'y ~ x'\n",
      "\n",
      "ERROR while rich displaying an object: Error: stat_smooth requires the following missing aesthetics: y\n",
      "\n",
      "Traceback:\n",
      "1. FUN(X[[i]], ...)\n",
      "2. tryCatch(withCallingHandlers({\n",
      " .     if (!mime %in% names(repr::mime2repr)) \n",
      " .         stop(\"No repr_* for mimetype \", mime, \" in repr::mime2repr\")\n",
      " .     rpr <- repr::mime2repr[[mime]](obj)\n",
      " .     if (is.null(rpr)) \n",
      " .         return(NULL)\n",
      " .     prepare_content(is.raw(rpr), rpr)\n",
      " . }, error = error_handler), error = outer_handler)\n",
      "3. tryCatchList(expr, classes, parentenv, handlers)\n",
      "4. tryCatchOne(expr, names, parentenv, handlers[[1L]])\n",
      "5. doTryCatch(return(expr), name, parentenv, handler)\n",
      "6. withCallingHandlers({\n",
      " .     if (!mime %in% names(repr::mime2repr)) \n",
      " .         stop(\"No repr_* for mimetype \", mime, \" in repr::mime2repr\")\n",
      " .     rpr <- repr::mime2repr[[mime]](obj)\n",
      " .     if (is.null(rpr)) \n",
      " .         return(NULL)\n",
      " .     prepare_content(is.raw(rpr), rpr)\n",
      " . }, error = error_handler)\n",
      "7. repr::mime2repr[[mime]](obj)\n",
      "8. repr_text.default(obj)\n",
      "9. paste(capture.output(print(obj)), collapse = \"\\n\")\n",
      "10. capture.output(print(obj))\n",
      "11. evalVis(expr)\n",
      "12. withVisible(eval(expr, pf))\n",
      "13. eval(expr, pf)\n",
      "14. eval(expr, pf)\n",
      "15. print(obj)\n",
      "16. print.ggplot(obj)\n",
      "17. ggplot_build(x)\n",
      "18. ggplot_build.ggplot(x)\n",
      "19. by_layer(function(l, d) l$compute_statistic(d, layout))\n",
      "20. f(l = layers[[i]], d = data[[i]])\n",
      "21. l$compute_statistic(d, layout)\n",
      "22. f(..., self = self)\n",
      "23. self$stat$compute_layer(data, params, layout)\n",
      "24. f(..., self = self)\n",
      "25. check_required_aesthetics(self$required_aes, c(names(data), names(params)), \n",
      "  .     snake_class(self))\n",
      "26. abort(glue(\"{name} requires the following missing aesthetics: \", \n",
      "  .     glue_collapse(lapply(missing_aes, glue_collapse, sep = \", \", \n",
      "  .         last = \" and \"), sep = \" or \")))\n",
      "27. signal_abort(cnd)\n"
     ]
    },
    {
     "data": {
      "image/png": "[encoded data removed]",
      "text/plain": [
       "plot without title"
      ]
     },
     "metadata": {
      "image/png": {
       "height": 420,
       "width": 420
      }
     },
     "output_type": "display_data"
    }
   ],
   "source": [
    "  ggplot(race_graph_df, aes(x = laps)) +\n",
    "  geom_line(aes(y = driver.1, color = \"Driver 1\"), size = 1.5) +\n",
    "  geom_line(aes(y = driver.2, color = \"Driver 2\"), size = 1.5) +\n",
    "  geom_line(aes(y = driver.3, color = \"Driver 3\"), size = 1.5) +\n",
    "  geom_line(aes(y = driver.4, color = \"Driver 4\"), size = 1.5) +\n",
    "  geom_smooth(method = \"loess\", se = FALSE, color = \"blue\") + \n",
    "  labs(x = \"Laps\", y = \"Driver Position\") +\n",
    "  scale_color_manual(values = c(\"Driver 1\" = \"red\", \"Driver 2\" = \"blue\", \"Driver 3\" = \"green\", \"Driver 4\" = \"purple\")) +\n",
    "  scale_y_reverse() +  # Reverse the y-axis\n",
    "  theme_minimal()"
   ]
  },
  {
   "cell_type": "code",
   "execution_count": 39,
   "id": "64264274",
   "metadata": {
    "vscode": {
     "languageId": "r"
    }
   },
   "outputs": [
    {
     "name": "stderr",
     "output_type": "stream",
     "text": [
      "`geom_smooth()` using formula 'y ~ x'\n",
      "\n",
      "ERROR while rich displaying an object: Error: stat_smooth requires the following missing aesthetics: y\n",
      "\n",
      "Traceback:\n",
      "1. FUN(X[[i]], ...)\n",
      "2. tryCatch(withCallingHandlers({\n",
      " .     if (!mime %in% names(repr::mime2repr)) \n",
      " .         stop(\"No repr_* for mimetype \", mime, \" in repr::mime2repr\")\n",
      " .     rpr <- repr::mime2repr[[mime]](obj)\n",
      " .     if (is.null(rpr)) \n",
      " .         return(NULL)\n",
      " .     prepare_content(is.raw(rpr), rpr)\n",
      " . }, error = error_handler), error = outer_handler)\n",
      "3. tryCatchList(expr, classes, parentenv, handlers)\n",
      "4. tryCatchOne(expr, names, parentenv, handlers[[1L]])\n",
      "5. doTryCatch(return(expr), name, parentenv, handler)\n",
      "6. withCallingHandlers({\n",
      " .     if (!mime %in% names(repr::mime2repr)) \n",
      " .         stop(\"No repr_* for mimetype \", mime, \" in repr::mime2repr\")\n",
      " .     rpr <- repr::mime2repr[[mime]](obj)\n",
      " .     if (is.null(rpr)) \n",
      " .         return(NULL)\n",
      " .     prepare_content(is.raw(rpr), rpr)\n",
      " . }, error = error_handler)\n",
      "7. repr::mime2repr[[mime]](obj)\n",
      "8. repr_text.default(obj)\n",
      "9. paste(capture.output(print(obj)), collapse = \"\\n\")\n",
      "10. capture.output(print(obj))\n",
      "11. evalVis(expr)\n",
      "12. withVisible(eval(expr, pf))\n",
      "13. eval(expr, pf)\n",
      "14. eval(expr, pf)\n",
      "15. print(obj)\n",
      "16. print.ggplot(obj)\n",
      "17. ggplot_build(x)\n",
      "18. ggplot_build.ggplot(x)\n",
      "19. by_layer(function(l, d) l$compute_statistic(d, layout))\n",
      "20. f(l = layers[[i]], d = data[[i]])\n",
      "21. l$compute_statistic(d, layout)\n",
      "22. f(..., self = self)\n",
      "23. self$stat$compute_layer(data, params, layout)\n",
      "24. f(..., self = self)\n",
      "25. check_required_aesthetics(self$required_aes, c(names(data), names(params)), \n",
      "  .     snake_class(self))\n",
      "26. abort(glue(\"{name} requires the following missing aesthetics: \", \n",
      "  .     glue_collapse(lapply(missing_aes, glue_collapse, sep = \", \", \n",
      "  .         last = \" and \"), sep = \" or \")))\n",
      "27. signal_abort(cnd)\n"
     ]
    },
    {
     "data": {
      "image/png": "[encoded data removed]",
      "text/plain": [
       "plot without title"
      ]
     },
     "metadata": {
      "image/png": {
       "height": 420,
       "width": 420
      }
     },
     "output_type": "display_data"
    }
   ],
   "source": [
    "plot2 <- ggplot(race_graph_df, aes(x = laps)) +\n",
    "  geom_line(aes(y = driver.1, color = \"Driver 1\"), size = 1.5) +\n",
    "  geom_line(aes(y = driver.2, color = \"Driver 2\"), size = 1.5) +\n",
    "  geom_line(aes(y = driver.3, color = \"Driver 3\"), size = 1.5) +\n",
    "  geom_line(aes(y = driver.4, color = \"Driver 4\"), size = 1.5) +\n",
    "  geom_smooth(method = \"loess\", se = FALSE, color = \"black\") +  # Add smoothed line\n",
    "  labs(x = \"Laps\", y = \"Driver Position\") +\n",
    "  scale_color_manual(values = c(\"Driver 1\" = \"red\", \"Driver 2\" = \"blue\", \"Driver 3\" = \"green\", \"Driver 4\" = \"purple\")) +\n",
    "  scale_y_reverse() +  # Reverse the y-axis\n",
    "  theme_minimal()\n",
    "\n",
    "plot2"
   ]
  },
  {
   "cell_type": "code",
   "execution_count": 216,
   "id": "329def9f",
   "metadata": {
    "vscode": {
     "languageId": "r"
    }
   },
   "outputs": [
    {
     "ename": "ERROR",
     "evalue": "Error in rep(seq_len(nrow(polygon)), splits + 1): invalid 'times' argument\n",
     "output_type": "error",
     "traceback": [
      "Error in rep(seq_len(nrow(polygon)), splits + 1): invalid 'times' argument\nTraceback:\n",
      "1. animate(animation)",
      "2. animate.gganim(animation)",
      "3. prerender(plot, nframes_total)",
      "4. ggplot_build(plot)",
      "5. ggplot_build.gganim(plot)",
      "6. scene$after_defaults(data)",
      "7. f(..., self = self)",
      "8. self$transition$expand_data(layer_data[tween_last], self$layer_type[tween_last], \n .     self$group_column[tween_last], self$match_shape[tween_last], \n .     ease, self$transmuters$enter_transmuters(tween_last), self$transmuters$exit_transmuters(tween_last), \n .     self$transition_params, which(tween_last))",
      "9. f(..., self = self)",
      "10. Map(function(data, type, id, match, ease, enter, exit, layer_index) {\n  .     self$expand_layer(data, type, id, match, ease, enter, exit, \n  .         params, layer_index)\n  . }, data = data, type = type, id = id, match = match, ease = ease, \n  .     enter = enter, exit = exit, layer_index = layer_index)",
      "11. mapply(FUN = f, ..., SIMPLIFY = FALSE)",
      "12. (function (data, type, id, match, ease, enter, exit, layer_index) \n  . {\n  .     self$expand_layer(data, type, id, match, ease, enter, exit, \n  .         params, layer_index)\n  . })(data = dots[[1L]][[1L]], type = dots[[2L]][[1L]], id = dots[[3L]][[1L]], \n  .     match = dots[[4L]][[1L]], ease = dots[[5L]][[1L]], enter = dots[[6L]][[1L]], \n  .     exit = dots[[7L]][[1L]], layer_index = dots[[8L]][[1L]])",
      "13. self$expand_layer(data, type, id, match, ease, enter, exit, params, \n  .     layer_index)",
      "14. f(..., self = self)",
      "15. lapply(split(data, data$PANEL), function(data) {\n  .     self$expand_panel(data, type, id, match, ease, enter, exit, \n  .         params, layer_index)\n  . })",
      "16. FUN(X[[i]], ...)",
      "17. self$expand_panel(data, type, id, match, ease, enter, exit, params, \n  .     layer_index)",
      "18. f(..., self = self)",
      "19. transform_path(all_frames, next_state, ease, params$transition_length[i], \n  .     !!id, enter, exit, match)",
      "20. transformr::tween_path(...)",
      "21. align_paths(from, to, enter = enter, exit = exit, match = match)",
      "22. mapply(match_shapes, from = paths$from, to = paths$to, MoreArgs = list(enter = enter, \n  .     exit = exit, min_n = min_n, closed = FALSE), SIMPLIFY = FALSE)",
      "23. (function (from, to, enter, exit, min_n, closed = TRUE) \n  . {\n  .     if (is.null(from)) {\n  .         if (is.null(enter)) {\n  .             from <- list(to[[1]][0, , drop = FALSE])\n  .             to <- from\n  .         }\n  .         else {\n  .             from <- lapply(to, function(x) {\n  .                 x <- enter(x)\n  .                 x$.phase <- \"enter\"\n  .                 x\n  .             })\n  .         }\n  .     }\n  .     else if (is.null(to)) {\n  .         if (is.null(exit)) {\n  .             to <- list(from[[1]][0, , drop = FALSE])\n  .             from <- to\n  .         }\n  .         else {\n  .             to <- lapply(from, function(x) {\n  .                 x <- exit(x)\n  .                 x$.phase <- \"exit\"\n  .                 x\n  .             })\n  .         }\n  .     }\n  .     else {\n  .         matched <- if (closed) \n  .             match_polygon(from, to, min_n)\n  .         else match_path(from, to, min_n)\n  .         from <- matched$from\n  .         to <- matched$to\n  .     }\n  .     from <- do.call(rbind, lapply(from, function(x) x[seq_len(nrow(x) + \n  .         1), ]))\n  .     to <- do.call(rbind, lapply(to, function(x) x[seq_len(nrow(x) + \n  .         1), ]))\n  .     from <- from[-nrow(from), ]\n  .     to <- to[-nrow(to), ]\n  .     list(from = from, to = to)\n  . })(from = dots[[1L]][[1L]], to = dots[[2L]][[1L]], enter = function (x) \n  . {\n  .     for (i in seq_along(factory_line)) {\n  .         x <- factory_line[[i]](x)\n  .     }\n  .     x\n  . }, exit = function (x) \n  . {\n  .     for (i in seq_along(factory_line)) {\n  .         x <- factory_line[[i]](x)\n  .     }\n  .     x\n  . }, min_n = 50, closed = FALSE)",
      "24. match_path(from, to, min_n)",
      "25. Map(function(from, to) {\n  .     n_points <- max(c(min_n, nrow(from), nrow(to)))\n  .     if (nrow(from) < n_points) \n  .         from <- add_points(from, n_points - nrow(from), connect = FALSE)\n  .     if (nrow(to) < n_points) \n  .         to <- add_points(to, n_points - nrow(to), connect = FALSE)\n  .     list(from = from, to = to)\n  . }, from = from, to = to)",
      "26. mapply(FUN = f, ..., SIMPLIFY = FALSE)",
      "27. (function (from, to) \n  . {\n  .     n_points <- max(c(min_n, nrow(from), nrow(to)))\n  .     if (nrow(from) < n_points) \n  .         from <- add_points(from, n_points - nrow(from), connect = FALSE)\n  .     if (nrow(to) < n_points) \n  .         to <- add_points(to, n_points - nrow(to), connect = FALSE)\n  .     list(from = from, to = to)\n  . })(from = dots[[1L]][[1L]], to = dots[[2L]][[1L]])",
      "28. add_points(from, n_points - nrow(from), connect = FALSE)",
      "29. polygon[rep(seq_len(nrow(polygon)), splits + 1), ]",
      "30. `[.data.frame`(polygon, rep(seq_len(nrow(polygon)), splits + \n  .     1), )"
     ]
    }
   ],
   "source": [
    "# Sample data\n",
    "laps <- 1:10\n",
    "driver.1 <- c(2, 4, 6, 8, 10, 12, 14, 16, 18, 20)\n",
    "driver.2 <- c(1, 3, 5, 7, 9, 11, 13, 15, 17, 19)\n",
    "\n",
    "# Create a data frame\n",
    "data <- data.frame(laps, driver.1, driver.2)\n",
    "\n",
    "# Create a ggplot2 plot\n",
    "p <- ggplot(data, aes(x = laps)) +\n",
    "  geom_line(aes(y = driver.1, color = \"Driver 1\")) +\n",
    "  geom_line(aes(y = driver.2, color = \"Driver 2\")) +\n",
    "  labs(x = \"Laps\", y = \"Driver Position\") +\n",
    "  scale_color_manual(values = c(\"Driver 1\" = \"red\", \"Driver 2\" = \"blue\")) +\n",
    "  theme_minimal()\n",
    "\n",
    "# Create an animation with changing y-coordinates\n",
    "animation <- p +\n",
    "  transition_states(laps, transition_length = 2, state_length = 1) +\n",
    "  enter_fade() +\n",
    "  exit_fade()\n",
    "\n",
    "# Render and play the animation\n",
    "animate(animation, nframes = 100, fps = 10)\n"
   ]
  },
  {
   "cell_type": "code",
   "execution_count": 212,
   "id": "ab58df9f",
   "metadata": {
    "vscode": {
     "languageId": "r"
    }
   },
   "outputs": [
    {
     "name": "stderr",
     "output_type": "stream",
     "text": [
      "geom_path: Each group consists of only one observation. Do you need to adjust\n",
      "the group aesthetic?\n",
      "\n",
      "geom_path: Each group consists of only one observation. Do you need to adjust\n",
      "the group aesthetic?\n",
      "\n",
      "geom_path: Each group consists of only one observation. Do you need to adjust\n",
      "the group aesthetic?\n",
      "\n",
      "geom_path: Each group consists of only one observation. Do you need to adjust\n",
      "the group aesthetic?\n",
      "\n",
      "geom_path: Each group consists of only one observation. Do you need to adjust\n",
      "the group aesthetic?\n",
      "\n",
      "geom_path: Each group consists of only one observation. Do you need to adjust\n",
      "the group aesthetic?\n",
      "\n",
      "geom_path: Each group consists of only one observation. Do you need to adjust\n",
      "the group aesthetic?\n",
      "\n",
      "geom_path: Each group consists of only one observation. Do you need to adjust\n",
      "the group aesthetic?\n",
      "\n",
      "Warning message:\n",
      "\"Removed 1 row(s) containing missing values (geom_path).\"\n",
      "Warning message:\n",
      "\"Removed 1 row(s) containing missing values (geom_path).\"\n",
      "Warning message:\n",
      "\"Removed 1 row(s) containing missing values (geom_path).\"\n",
      "Warning message:\n",
      "\"Removed 2 row(s) containing missing values (geom_path).\"\n",
      "Warning message:\n",
      "\"Removed 2 row(s) containing missing values (geom_path).\"\n",
      "Warning message:\n",
      "\"Removed 3 row(s) containing missing values (geom_path).\"\n",
      "Warning message:\n",
      "\"Removed 3 row(s) containing missing values (geom_path).\"\n",
      "Warning message:\n",
      "\"Removed 4 row(s) containing missing values (geom_path).\"\n",
      "Warning message:\n",
      "\"Removed 4 row(s) containing missing values (geom_path).\"\n",
      "Warning message:\n",
      "\"Removed 5 row(s) containing missing values (geom_path).\"\n",
      "Warning message:\n",
      "\"Removed 6 row(s) containing missing values (geom_path).\"\n",
      "Warning message:\n",
      "\"Removed 6 row(s) containing missing values (geom_path).\"\n",
      "Warning message:\n",
      "\"Removed 7 row(s) containing missing values (geom_path).\"\n",
      "Warning message:\n",
      "\"Removed 7 row(s) containing missing values (geom_path).\"\n",
      "Warning message:\n",
      "\"Removed 8 row(s) containing missing values (geom_path).\"\n",
      "Warning message:\n",
      "\"Removed 8 row(s) containing missing values (geom_path).\"\n"
     ]
    }
   ],
   "source": [
    "plot2 + transition_reveal(as.integer(laps))\n",
    "anim_save(\"race.gif\")"
   ]
  },
  {
   "cell_type": "code",
   "execution_count": 147,
   "id": "e9a79249",
   "metadata": {
    "vscode": {
     "languageId": "r"
    }
   },
   "outputs": [
    {
     "name": "stderr",
     "output_type": "stream",
     "text": [
      "also installing the dependencies 'proxy', 'e1071', 'wk', 'classInt', 's2', 'units', 'sf', 'lpSolve'\n",
      "\n",
      "\n"
     ]
    },
    {
     "name": "stdout",
     "output_type": "stream",
     "text": [
      "\n",
      "  There are binary versions available but the source versions are later:\n",
      "           binary source needs_compilation\n",
      "proxy      0.4-25 0.4-27              TRUE\n",
      "e1071       1.7-6 1.7-13              TRUE\n",
      "wk          0.4.1  0.8.0              TRUE\n",
      "classInt    0.4-3 0.4-10              TRUE\n",
      "s2          1.0.4  1.1.4              TRUE\n",
      "units       0.7-1  0.8-4              TRUE\n",
      "sf          0.9-8 1.0-14              TRUE\n",
      "lpSolve    5.6.15 5.6.19              TRUE\n",
      "transformr  0.1.3  0.1.4              TRUE\n",
      "\n",
      "  Binaries will be installed\n",
      "package 'proxy' successfully unpacked and MD5 sums checked\n",
      "package 'e1071' successfully unpacked and MD5 sums checked\n",
      "package 'wk' successfully unpacked and MD5 sums checked\n",
      "package 'classInt' successfully unpacked and MD5 sums checked\n",
      "package 's2' successfully unpacked and MD5 sums checked\n",
      "package 'units' successfully unpacked and MD5 sums checked\n",
      "package 'sf' successfully unpacked and MD5 sums checked\n",
      "package 'lpSolve' successfully unpacked and MD5 sums checked\n",
      "package 'transformr' successfully unpacked and MD5 sums checked\n",
      "\n",
      "The downloaded binary packages are in\n",
      "\tC:\\Users\\rasto\\AppData\\Local\\Temp\\Rtmp2lR7Do\\downloaded_packages\n"
     ]
    }
   ],
   "source": [
    "install.packages('transformr')"
   ]
  },
  {
   "cell_type": "code",
   "execution_count": 148,
   "id": "38a4bf31",
   "metadata": {
    "vscode": {
     "languageId": "r"
    }
   },
   "outputs": [
    {
     "name": "stderr",
     "output_type": "stream",
     "text": [
      "Warning message:\n",
      "\"package 'transformr' was built under R version 3.6.3\"\n"
     ]
    }
   ],
   "source": [
    "library('transformr')"
   ]
  },
  {
   "cell_type": "code",
   "execution_count": 161,
   "id": "d06b81e8",
   "metadata": {
    "vscode": {
     "languageId": "r"
    }
   },
   "outputs": [
    {
     "name": "stderr",
     "output_type": "stream",
     "text": [
      "geom_path: Each group consists of only one observation. Do you need to adjust\n",
      "the group aesthetic?\n",
      "\n",
      "geom_path: Each group consists of only one observation. Do you need to adjust\n",
      "the group aesthetic?\n",
      "\n",
      "geom_path: Each group consists of only one observation. Do you need to adjust\n",
      "the group aesthetic?\n",
      "\n",
      "geom_path: Each group consists of only one observation. Do you need to adjust\n",
      "the group aesthetic?\n",
      "\n",
      "geom_path: Each group consists of only one observation. Do you need to adjust\n",
      "the group aesthetic?\n",
      "\n",
      "geom_path: Each group consists of only one observation. Do you need to adjust\n",
      "the group aesthetic?\n",
      "\n",
      "geom_path: Each group consists of only one observation. Do you need to adjust\n",
      "the group aesthetic?\n",
      "\n",
      "geom_path: Each group consists of only one observation. Do you need to adjust\n",
      "the group aesthetic?\n",
      "\n",
      "geom_path: Each group consists of only one observation. Do you need to adjust\n",
      "the group aesthetic?\n",
      "\n",
      "geom_path: Each group consists of only one observation. Do you need to adjust\n",
      "the group aesthetic?\n",
      "\n",
      "geom_path: Each group consists of only one observation. Do you need to adjust\n",
      "the group aesthetic?\n",
      "\n",
      "geom_path: Each group consists of only one observation. Do you need to adjust\n",
      "the group aesthetic?\n",
      "\n",
      "geom_path: Each group consists of only one observation. Do you need to adjust\n",
      "the group aesthetic?\n",
      "\n",
      "geom_path: Each group consists of only one observation. Do you need to adjust\n",
      "the group aesthetic?\n",
      "\n",
      "geom_path: Each group consists of only one observation. Do you need to adjust\n",
      "the group aesthetic?\n",
      "\n",
      "geom_path: Each group consists of only one observation. Do you need to adjust\n",
      "the group aesthetic?\n",
      "\n",
      "geom_path: Each group consists of only one observation. Do you need to adjust\n",
      "the group aesthetic?\n",
      "\n",
      "geom_path: Each group consists of only one observation. Do you need to adjust\n",
      "the group aesthetic?\n",
      "\n",
      "geom_path: Each group consists of only one observation. Do you need to adjust\n",
      "the group aesthetic?\n",
      "\n",
      "geom_path: Each group consists of only one observation. Do you need to adjust\n",
      "the group aesthetic?\n",
      "\n",
      "geom_path: Each group consists of only one observation. Do you need to adjust\n",
      "the group aesthetic?\n",
      "\n",
      "geom_path: Each group consists of only one observation. Do you need to adjust\n",
      "the group aesthetic?\n",
      "\n",
      "geom_path: Each group consists of only one observation. Do you need to adjust\n",
      "the group aesthetic?\n",
      "\n",
      "geom_path: Each group consists of only one observation. Do you need to adjust\n",
      "the group aesthetic?\n",
      "\n",
      "geom_path: Each group consists of only one observation. Do you need to adjust\n",
      "the group aesthetic?\n",
      "\n",
      "geom_path: Each group consists of only one observation. Do you need to adjust\n",
      "the group aesthetic?\n",
      "\n",
      "geom_path: Each group consists of only one observation. Do you need to adjust\n",
      "the group aesthetic?\n",
      "\n",
      "geom_path: Each group consists of only one observation. Do you need to adjust\n",
      "the group aesthetic?\n",
      "\n",
      "geom_path: Each group consists of only one observation. Do you need to adjust\n",
      "the group aesthetic?\n",
      "\n",
      "geom_path: Each group consists of only one observation. Do you need to adjust\n",
      "the group aesthetic?\n",
      "\n",
      "geom_path: Each group consists of only one observation. Do you need to adjust\n",
      "the group aesthetic?\n",
      "\n",
      "geom_path: Each group consists of only one observation. Do you need to adjust\n",
      "the group aesthetic?\n",
      "\n",
      "geom_path: Each group consists of only one observation. Do you need to adjust\n",
      "the group aesthetic?\n",
      "\n",
      "geom_path: Each group consists of only one observation. Do you need to adjust\n",
      "the group aesthetic?\n",
      "\n",
      "geom_path: Each group consists of only one observation. Do you need to adjust\n",
      "the group aesthetic?\n",
      "\n",
      "geom_path: Each group consists of only one observation. Do you need to adjust\n",
      "the group aesthetic?\n",
      "\n",
      "geom_path: Each group consists of only one observation. Do you need to adjust\n",
      "the group aesthetic?\n",
      "\n",
      "geom_path: Each group consists of only one observation. Do you need to adjust\n",
      "the group aesthetic?\n",
      "\n",
      "geom_path: Each group consists of only one observation. Do you need to adjust\n",
      "the group aesthetic?\n",
      "\n",
      "geom_path: Each group consists of only one observation. Do you need to adjust\n",
      "the group aesthetic?\n",
      "\n",
      "geom_path: Each group consists of only one observation. Do you need to adjust\n",
      "the group aesthetic?\n",
      "\n",
      "geom_path: Each group consists of only one observation. Do you need to adjust\n",
      "the group aesthetic?\n",
      "\n",
      "geom_path: Each group consists of only one observation. Do you need to adjust\n",
      "the group aesthetic?\n",
      "\n",
      "geom_path: Each group consists of only one observation. Do you need to adjust\n",
      "the group aesthetic?\n",
      "\n",
      "geom_path: Each group consists of only one observation. Do you need to adjust\n",
      "the group aesthetic?\n",
      "\n",
      "geom_path: Each group consists of only one observation. Do you need to adjust\n",
      "the group aesthetic?\n",
      "\n",
      "geom_path: Each group consists of only one observation. Do you need to adjust\n",
      "the group aesthetic?\n",
      "\n",
      "geom_path: Each group consists of only one observation. Do you need to adjust\n",
      "the group aesthetic?\n",
      "\n",
      "geom_path: Each group consists of only one observation. Do you need to adjust\n",
      "the group aesthetic?\n",
      "\n",
      "geom_path: Each group consists of only one observation. Do you need to adjust\n",
      "the group aesthetic?\n",
      "\n",
      "geom_path: Each group consists of only one observation. Do you need to adjust\n",
      "the group aesthetic?\n",
      "\n",
      "geom_path: Each group consists of only one observation. Do you need to adjust\n",
      "the group aesthetic?\n",
      "\n",
      "geom_path: Each group consists of only one observation. Do you need to adjust\n",
      "the group aesthetic?\n",
      "\n",
      "geom_path: Each group consists of only one observation. Do you need to adjust\n",
      "the group aesthetic?\n",
      "\n",
      "geom_path: Each group consists of only one observation. Do you need to adjust\n",
      "the group aesthetic?\n",
      "\n",
      "geom_path: Each group consists of only one observation. Do you need to adjust\n",
      "the group aesthetic?\n",
      "\n",
      "geom_path: Each group consists of only one observation. Do you need to adjust\n",
      "the group aesthetic?\n",
      "\n",
      "geom_path: Each group consists of only one observation. Do you need to adjust\n",
      "the group aesthetic?\n",
      "\n",
      "geom_path: Each group consists of only one observation. Do you need to adjust\n",
      "the group aesthetic?\n",
      "\n",
      "geom_path: Each group consists of only one observation. Do you need to adjust\n",
      "the group aesthetic?\n",
      "\n",
      "geom_path: Each group consists of only one observation. Do you need to adjust\n",
      "the group aesthetic?\n",
      "\n",
      "geom_path: Each group consists of only one observation. Do you need to adjust\n",
      "the group aesthetic?\n",
      "\n",
      "geom_path: Each group consists of only one observation. Do you need to adjust\n",
      "the group aesthetic?\n",
      "\n",
      "geom_path: Each group consists of only one observation. Do you need to adjust\n",
      "the group aesthetic?\n",
      "\n",
      "geom_path: Each group consists of only one observation. Do you need to adjust\n",
      "the group aesthetic?\n",
      "\n",
      "geom_path: Each group consists of only one observation. Do you need to adjust\n",
      "the group aesthetic?\n",
      "\n",
      "geom_path: Each group consists of only one observation. Do you need to adjust\n",
      "the group aesthetic?\n",
      "\n",
      "geom_path: Each group consists of only one observation. Do you need to adjust\n",
      "the group aesthetic?\n",
      "\n",
      "geom_path: Each group consists of only one observation. Do you need to adjust\n",
      "the group aesthetic?\n",
      "\n",
      "geom_path: Each group consists of only one observation. Do you need to adjust\n",
      "the group aesthetic?\n",
      "\n",
      "geom_path: Each group consists of only one observation. Do you need to adjust\n",
      "the group aesthetic?\n",
      "\n",
      "geom_path: Each group consists of only one observation. Do you need to adjust\n",
      "the group aesthetic?\n",
      "\n",
      "geom_path: Each group consists of only one observation. Do you need to adjust\n",
      "the group aesthetic?\n",
      "\n",
      "geom_path: Each group consists of only one observation. Do you need to adjust\n",
      "the group aesthetic?\n",
      "\n",
      "geom_path: Each group consists of only one observation. Do you need to adjust\n",
      "the group aesthetic?\n",
      "\n",
      "geom_path: Each group consists of only one observation. Do you need to adjust\n",
      "the group aesthetic?\n",
      "\n",
      "geom_path: Each group consists of only one observation. Do you need to adjust\n",
      "the group aesthetic?\n",
      "\n",
      "geom_path: Each group consists of only one observation. Do you need to adjust\n",
      "the group aesthetic?\n",
      "\n",
      "geom_path: Each group consists of only one observation. Do you need to adjust\n",
      "the group aesthetic?\n",
      "\n",
      "geom_path: Each group consists of only one observation. Do you need to adjust\n",
      "the group aesthetic?\n",
      "\n",
      "geom_path: Each group consists of only one observation. Do you need to adjust\n",
      "the group aesthetic?\n",
      "\n",
      "geom_path: Each group consists of only one observation. Do you need to adjust\n",
      "the group aesthetic?\n",
      "\n",
      "geom_path: Each group consists of only one observation. Do you need to adjust\n",
      "the group aesthetic?\n",
      "\n",
      "geom_path: Each group consists of only one observation. Do you need to adjust\n",
      "the group aesthetic?\n",
      "\n",
      "geom_path: Each group consists of only one observation. Do you need to adjust\n",
      "the group aesthetic?\n",
      "\n",
      "geom_path: Each group consists of only one observation. Do you need to adjust\n",
      "the group aesthetic?\n",
      "\n",
      "geom_path: Each group consists of only one observation. Do you need to adjust\n",
      "the group aesthetic?\n",
      "\n",
      "geom_path: Each group consists of only one observation. Do you need to adjust\n",
      "the group aesthetic?\n",
      "\n",
      "geom_path: Each group consists of only one observation. Do you need to adjust\n",
      "the group aesthetic?\n",
      "\n",
      "geom_path: Each group consists of only one observation. Do you need to adjust\n",
      "the group aesthetic?\n",
      "\n",
      "geom_path: Each group consists of only one observation. Do you need to adjust\n",
      "the group aesthetic?\n",
      "\n",
      "geom_path: Each group consists of only one observation. Do you need to adjust\n",
      "the group aesthetic?\n",
      "\n",
      "geom_path: Each group consists of only one observation. Do you need to adjust\n",
      "the group aesthetic?\n",
      "\n",
      "geom_path: Each group consists of only one observation. Do you need to adjust\n",
      "the group aesthetic?\n",
      "\n",
      "geom_path: Each group consists of only one observation. Do you need to adjust\n",
      "the group aesthetic?\n",
      "\n",
      "geom_path: Each group consists of only one observation. Do you need to adjust\n",
      "the group aesthetic?\n",
      "\n",
      "geom_path: Each group consists of only one observation. Do you need to adjust\n",
      "the group aesthetic?\n",
      "\n",
      "geom_path: Each group consists of only one observation. Do you need to adjust\n",
      "the group aesthetic?\n",
      "\n",
      "geom_path: Each group consists of only one observation. Do you need to adjust\n",
      "the group aesthetic?\n",
      "\n",
      "geom_path: Each group consists of only one observation. Do you need to adjust\n",
      "the group aesthetic?\n",
      "\n",
      "geom_path: Each group consists of only one observation. Do you need to adjust\n",
      "the group aesthetic?\n",
      "\n",
      "geom_path: Each group consists of only one observation. Do you need to adjust\n",
      "the group aesthetic?\n",
      "\n",
      "geom_path: Each group consists of only one observation. Do you need to adjust\n",
      "the group aesthetic?\n",
      "\n",
      "geom_path: Each group consists of only one observation. Do you need to adjust\n",
      "the group aesthetic?\n",
      "\n",
      "geom_path: Each group consists of only one observation. Do you need to adjust\n",
      "the group aesthetic?\n",
      "\n",
      "geom_path: Each group consists of only one observation. Do you need to adjust\n",
      "the group aesthetic?\n",
      "\n",
      "geom_path: Each group consists of only one observation. Do you need to adjust\n",
      "the group aesthetic?\n",
      "\n",
      "geom_path: Each group consists of only one observation. Do you need to adjust\n",
      "the group aesthetic?\n",
      "\n",
      "geom_path: Each group consists of only one observation. Do you need to adjust\n",
      "the group aesthetic?\n",
      "\n",
      "geom_path: Each group consists of only one observation. Do you need to adjust\n",
      "the group aesthetic?\n",
      "\n",
      "geom_path: Each group consists of only one observation. Do you need to adjust\n",
      "the group aesthetic?\n",
      "\n",
      "geom_path: Each group consists of only one observation. Do you need to adjust\n",
      "the group aesthetic?\n",
      "\n",
      "geom_path: Each group consists of only one observation. Do you need to adjust\n",
      "the group aesthetic?\n",
      "\n",
      "geom_path: Each group consists of only one observation. Do you need to adjust\n",
      "the group aesthetic?\n",
      "\n",
      "geom_path: Each group consists of only one observation. Do you need to adjust\n",
      "the group aesthetic?\n",
      "\n",
      "geom_path: Each group consists of only one observation. Do you need to adjust\n",
      "the group aesthetic?\n",
      "\n",
      "geom_path: Each group consists of only one observation. Do you need to adjust\n",
      "the group aesthetic?\n",
      "\n",
      "geom_path: Each group consists of only one observation. Do you need to adjust\n",
      "the group aesthetic?\n",
      "\n",
      "geom_path: Each group consists of only one observation. Do you need to adjust\n",
      "the group aesthetic?\n",
      "\n",
      "geom_path: Each group consists of only one observation. Do you need to adjust\n",
      "the group aesthetic?\n",
      "\n",
      "geom_path: Each group consists of only one observation. Do you need to adjust\n",
      "the group aesthetic?\n",
      "\n",
      "geom_path: Each group consists of only one observation. Do you need to adjust\n",
      "the group aesthetic?\n",
      "\n",
      "geom_path: Each group consists of only one observation. Do you need to adjust\n",
      "the group aesthetic?\n",
      "\n",
      "geom_path: Each group consists of only one observation. Do you need to adjust\n",
      "the group aesthetic?\n",
      "\n",
      "geom_path: Each group consists of only one observation. Do you need to adjust\n",
      "the group aesthetic?\n",
      "\n",
      "geom_path: Each group consists of only one observation. Do you need to adjust\n",
      "the group aesthetic?\n",
      "\n",
      "geom_path: Each group consists of only one observation. Do you need to adjust\n",
      "the group aesthetic?\n",
      "\n",
      "geom_path: Each group consists of only one observation. Do you need to adjust\n",
      "the group aesthetic?\n",
      "\n",
      "geom_path: Each group consists of only one observation. Do you need to adjust\n",
      "the group aesthetic?\n",
      "\n",
      "geom_path: Each group consists of only one observation. Do you need to adjust\n",
      "the group aesthetic?\n",
      "\n",
      "geom_path: Each group consists of only one observation. Do you need to adjust\n",
      "the group aesthetic?\n",
      "\n",
      "geom_path: Each group consists of only one observation. Do you need to adjust\n",
      "the group aesthetic?\n",
      "\n",
      "geom_path: Each group consists of only one observation. Do you need to adjust\n",
      "the group aesthetic?\n",
      "\n",
      "geom_path: Each group consists of only one observation. Do you need to adjust\n",
      "the group aesthetic?\n",
      "\n",
      "geom_path: Each group consists of only one observation. Do you need to adjust\n",
      "the group aesthetic?\n",
      "\n",
      "geom_path: Each group consists of only one observation. Do you need to adjust\n",
      "the group aesthetic?\n",
      "\n",
      "geom_path: Each group consists of only one observation. Do you need to adjust\n",
      "the group aesthetic?\n",
      "\n",
      "geom_path: Each group consists of only one observation. Do you need to adjust\n",
      "the group aesthetic?\n",
      "\n",
      "geom_path: Each group consists of only one observation. Do you need to adjust\n",
      "the group aesthetic?\n",
      "\n",
      "geom_path: Each group consists of only one observation. Do you need to adjust\n",
      "the group aesthetic?\n",
      "\n",
      "geom_path: Each group consists of only one observation. Do you need to adjust\n",
      "the group aesthetic?\n",
      "\n",
      "geom_path: Each group consists of only one observation. Do you need to adjust\n",
      "the group aesthetic?\n",
      "\n",
      "geom_path: Each group consists of only one observation. Do you need to adjust\n",
      "the group aesthetic?\n",
      "\n",
      "geom_path: Each group consists of only one observation. Do you need to adjust\n",
      "the group aesthetic?\n",
      "\n",
      "geom_path: Each group consists of only one observation. Do you need to adjust\n",
      "the group aesthetic?\n",
      "\n",
      "geom_path: Each group consists of only one observation. Do you need to adjust\n",
      "the group aesthetic?\n",
      "\n",
      "geom_path: Each group consists of only one observation. Do you need to adjust\n",
      "the group aesthetic?\n",
      "\n",
      "geom_path: Each group consists of only one observation. Do you need to adjust\n",
      "the group aesthetic?\n",
      "\n",
      "geom_path: Each group consists of only one observation. Do you need to adjust\n",
      "the group aesthetic?\n",
      "\n",
      "geom_path: Each group consists of only one observation. Do you need to adjust\n",
      "the group aesthetic?\n",
      "\n",
      "geom_path: Each group consists of only one observation. Do you need to adjust\n",
      "the group aesthetic?\n",
      "\n",
      "geom_path: Each group consists of only one observation. Do you need to adjust\n",
      "the group aesthetic?\n",
      "\n",
      "geom_path: Each group consists of only one observation. Do you need to adjust\n",
      "the group aesthetic?\n",
      "\n",
      "geom_path: Each group consists of only one observation. Do you need to adjust\n",
      "the group aesthetic?\n",
      "\n",
      "geom_path: Each group consists of only one observation. Do you need to adjust\n",
      "the group aesthetic?\n",
      "\n",
      "geom_path: Each group consists of only one observation. Do you need to adjust\n",
      "the group aesthetic?\n",
      "\n",
      "geom_path: Each group consists of only one observation. Do you need to adjust\n",
      "the group aesthetic?\n",
      "\n",
      "geom_path: Each group consists of only one observation. Do you need to adjust\n",
      "the group aesthetic?\n",
      "\n",
      "geom_path: Each group consists of only one observation. Do you need to adjust\n",
      "the group aesthetic?\n",
      "\n",
      "geom_path: Each group consists of only one observation. Do you need to adjust\n",
      "the group aesthetic?\n",
      "\n",
      "geom_path: Each group consists of only one observation. Do you need to adjust\n",
      "the group aesthetic?\n",
      "\n",
      "geom_path: Each group consists of only one observation. Do you need to adjust\n",
      "the group aesthetic?\n",
      "\n",
      "geom_path: Each group consists of only one observation. Do you need to adjust\n",
      "the group aesthetic?\n",
      "\n",
      "geom_path: Each group consists of only one observation. Do you need to adjust\n",
      "the group aesthetic?\n",
      "\n",
      "geom_path: Each group consists of only one observation. Do you need to adjust\n",
      "the group aesthetic?\n",
      "\n",
      "geom_path: Each group consists of only one observation. Do you need to adjust\n",
      "the group aesthetic?\n",
      "\n",
      "geom_path: Each group consists of only one observation. Do you need to adjust\n",
      "the group aesthetic?\n",
      "\n",
      "geom_path: Each group consists of only one observation. Do you need to adjust\n",
      "the group aesthetic?\n",
      "\n",
      "geom_path: Each group consists of only one observation. Do you need to adjust\n",
      "the group aesthetic?\n",
      "\n",
      "geom_path: Each group consists of only one observation. Do you need to adjust\n",
      "the group aesthetic?\n",
      "\n",
      "geom_path: Each group consists of only one observation. Do you need to adjust\n",
      "the group aesthetic?\n",
      "\n",
      "geom_path: Each group consists of only one observation. Do you need to adjust\n",
      "the group aesthetic?\n",
      "\n",
      "geom_path: Each group consists of only one observation. Do you need to adjust\n",
      "the group aesthetic?\n",
      "\n",
      "geom_path: Each group consists of only one observation. Do you need to adjust\n",
      "the group aesthetic?\n",
      "\n",
      "geom_path: Each group consists of only one observation. Do you need to adjust\n",
      "the group aesthetic?\n",
      "\n",
      "geom_path: Each group consists of only one observation. Do you need to adjust\n",
      "the group aesthetic?\n",
      "\n",
      "geom_path: Each group consists of only one observation. Do you need to adjust\n",
      "the group aesthetic?\n",
      "\n",
      "geom_path: Each group consists of only one observation. Do you need to adjust\n",
      "the group aesthetic?\n",
      "\n",
      "geom_path: Each group consists of only one observation. Do you need to adjust\n",
      "the group aesthetic?\n",
      "\n",
      "geom_path: Each group consists of only one observation. Do you need to adjust\n",
      "the group aesthetic?\n",
      "\n",
      "geom_path: Each group consists of only one observation. Do you need to adjust\n",
      "the group aesthetic?\n",
      "\n",
      "geom_path: Each group consists of only one observation. Do you need to adjust\n",
      "the group aesthetic?\n",
      "\n",
      "geom_path: Each group consists of only one observation. Do you need to adjust\n",
      "the group aesthetic?\n",
      "\n",
      "geom_path: Each group consists of only one observation. Do you need to adjust\n",
      "the group aesthetic?\n",
      "\n",
      "geom_path: Each group consists of only one observation. Do you need to adjust\n",
      "the group aesthetic?\n",
      "\n",
      "geom_path: Each group consists of only one observation. Do you need to adjust\n",
      "the group aesthetic?\n",
      "\n",
      "geom_path: Each group consists of only one observation. Do you need to adjust\n",
      "the group aesthetic?\n",
      "\n",
      "geom_path: Each group consists of only one observation. Do you need to adjust\n",
      "the group aesthetic?\n",
      "\n",
      "geom_path: Each group consists of only one observation. Do you need to adjust\n",
      "the group aesthetic?\n",
      "\n",
      "geom_path: Each group consists of only one observation. Do you need to adjust\n",
      "the group aesthetic?\n",
      "\n",
      "geom_path: Each group consists of only one observation. Do you need to adjust\n",
      "the group aesthetic?\n",
      "\n",
      "geom_path: Each group consists of only one observation. Do you need to adjust\n",
      "the group aesthetic?\n",
      "\n",
      "geom_path: Each group consists of only one observation. Do you need to adjust\n",
      "the group aesthetic?\n",
      "\n",
      "geom_path: Each group consists of only one observation. Do you need to adjust\n",
      "the group aesthetic?\n",
      "\n",
      "geom_path: Each group consists of only one observation. Do you need to adjust\n",
      "the group aesthetic?\n",
      "\n",
      "geom_path: Each group consists of only one observation. Do you need to adjust\n",
      "the group aesthetic?\n",
      "\n",
      "geom_path: Each group consists of only one observation. Do you need to adjust\n",
      "the group aesthetic?\n",
      "\n",
      "geom_path: Each group consists of only one observation. Do you need to adjust\n",
      "the group aesthetic?\n",
      "\n",
      "geom_path: Each group consists of only one observation. Do you need to adjust\n",
      "the group aesthetic?\n",
      "\n",
      "geom_path: Each group consists of only one observation. Do you need to adjust\n",
      "the group aesthetic?\n",
      "\n",
      "geom_path: Each group consists of only one observation. Do you need to adjust\n",
      "the group aesthetic?\n",
      "\n",
      "geom_path: Each group consists of only one observation. Do you need to adjust\n",
      "the group aesthetic?\n",
      "\n",
      "geom_path: Each group consists of only one observation. Do you need to adjust\n",
      "the group aesthetic?\n",
      "\n",
      "geom_path: Each group consists of only one observation. Do you need to adjust\n",
      "the group aesthetic?\n",
      "\n",
      "geom_path: Each group consists of only one observation. Do you need to adjust\n",
      "the group aesthetic?\n",
      "\n",
      "geom_path: Each group consists of only one observation. Do you need to adjust\n",
      "the group aesthetic?\n",
      "\n",
      "geom_path: Each group consists of only one observation. Do you need to adjust\n",
      "the group aesthetic?\n",
      "\n",
      "geom_path: Each group consists of only one observation. Do you need to adjust\n",
      "the group aesthetic?\n",
      "\n",
      "geom_path: Each group consists of only one observation. Do you need to adjust\n",
      "the group aesthetic?\n",
      "\n",
      "geom_path: Each group consists of only one observation. Do you need to adjust\n",
      "the group aesthetic?\n",
      "\n",
      "geom_path: Each group consists of only one observation. Do you need to adjust\n",
      "the group aesthetic?\n",
      "\n",
      "geom_path: Each group consists of only one observation. Do you need to adjust\n",
      "the group aesthetic?\n",
      "\n",
      "geom_path: Each group consists of only one observation. Do you need to adjust\n",
      "the group aesthetic?\n",
      "\n",
      "geom_path: Each group consists of only one observation. Do you need to adjust\n",
      "the group aesthetic?\n",
      "\n",
      "geom_path: Each group consists of only one observation. Do you need to adjust\n",
      "the group aesthetic?\n",
      "\n",
      "geom_path: Each group consists of only one observation. Do you need to adjust\n",
      "the group aesthetic?\n",
      "\n",
      "geom_path: Each group consists of only one observation. Do you need to adjust\n",
      "the group aesthetic?\n",
      "\n",
      "geom_path: Each group consists of only one observation. Do you need to adjust\n",
      "the group aesthetic?\n",
      "\n",
      "geom_path: Each group consists of only one observation. Do you need to adjust\n",
      "the group aesthetic?\n",
      "\n",
      "geom_path: Each group consists of only one observation. Do you need to adjust\n",
      "the group aesthetic?\n",
      "\n",
      "geom_path: Each group consists of only one observation. Do you need to adjust\n",
      "the group aesthetic?\n",
      "\n",
      "geom_path: Each group consists of only one observation. Do you need to adjust\n",
      "the group aesthetic?\n",
      "\n",
      "geom_path: Each group consists of only one observation. Do you need to adjust\n",
      "the group aesthetic?\n",
      "\n",
      "geom_path: Each group consists of only one observation. Do you need to adjust\n",
      "the group aesthetic?\n",
      "\n",
      "geom_path: Each group consists of only one observation. Do you need to adjust\n",
      "the group aesthetic?\n",
      "\n",
      "geom_path: Each group consists of only one observation. Do you need to adjust\n",
      "the group aesthetic?\n",
      "\n",
      "geom_path: Each group consists of only one observation. Do you need to adjust\n",
      "the group aesthetic?\n",
      "\n",
      "geom_path: Each group consists of only one observation. Do you need to adjust\n",
      "the group aesthetic?\n",
      "\n",
      "geom_path: Each group consists of only one observation. Do you need to adjust\n",
      "the group aesthetic?\n",
      "\n",
      "geom_path: Each group consists of only one observation. Do you need to adjust\n",
      "the group aesthetic?\n",
      "\n",
      "geom_path: Each group consists of only one observation. Do you need to adjust\n",
      "the group aesthetic?\n",
      "\n",
      "geom_path: Each group consists of only one observation. Do you need to adjust\n",
      "the group aesthetic?\n",
      "\n",
      "geom_path: Each group consists of only one observation. Do you need to adjust\n",
      "the group aesthetic?\n",
      "\n",
      "geom_path: Each group consists of only one observation. Do you need to adjust\n",
      "the group aesthetic?\n",
      "\n",
      "geom_path: Each group consists of only one observation. Do you need to adjust\n",
      "the group aesthetic?\n",
      "\n",
      "geom_path: Each group consists of only one observation. Do you need to adjust\n",
      "the group aesthetic?\n",
      "\n",
      "geom_path: Each group consists of only one observation. Do you need to adjust\n",
      "the group aesthetic?\n",
      "\n",
      "geom_path: Each group consists of only one observation. Do you need to adjust\n",
      "the group aesthetic?\n",
      "\n",
      "geom_path: Each group consists of only one observation. Do you need to adjust\n",
      "the group aesthetic?\n",
      "\n",
      "geom_path: Each group consists of only one observation. Do you need to adjust\n",
      "the group aesthetic?\n",
      "\n",
      "geom_path: Each group consists of only one observation. Do you need to adjust\n",
      "the group aesthetic?\n",
      "\n",
      "geom_path: Each group consists of only one observation. Do you need to adjust\n",
      "the group aesthetic?\n",
      "\n",
      "geom_path: Each group consists of only one observation. Do you need to adjust\n",
      "the group aesthetic?\n",
      "\n",
      "geom_path: Each group consists of only one observation. Do you need to adjust\n",
      "the group aesthetic?\n",
      "\n",
      "geom_path: Each group consists of only one observation. Do you need to adjust\n",
      "the group aesthetic?\n",
      "\n",
      "geom_path: Each group consists of only one observation. Do you need to adjust\n",
      "the group aesthetic?\n",
      "\n",
      "geom_path: Each group consists of only one observation. Do you need to adjust\n",
      "the group aesthetic?\n",
      "\n",
      "geom_path: Each group consists of only one observation. Do you need to adjust\n",
      "the group aesthetic?\n",
      "\n",
      "geom_path: Each group consists of only one observation. Do you need to adjust\n",
      "the group aesthetic?\n",
      "\n",
      "geom_path: Each group consists of only one observation. Do you need to adjust\n",
      "the group aesthetic?\n",
      "\n",
      "geom_path: Each group consists of only one observation. Do you need to adjust\n",
      "the group aesthetic?\n",
      "\n",
      "geom_path: Each group consists of only one observation. Do you need to adjust\n",
      "the group aesthetic?\n",
      "\n",
      "geom_path: Each group consists of only one observation. Do you need to adjust\n",
      "the group aesthetic?\n",
      "\n",
      "geom_path: Each group consists of only one observation. Do you need to adjust\n",
      "the group aesthetic?\n",
      "\n",
      "geom_path: Each group consists of only one observation. Do you need to adjust\n",
      "the group aesthetic?\n",
      "\n",
      "geom_path: Each group consists of only one observation. Do you need to adjust\n",
      "the group aesthetic?\n",
      "\n",
      "geom_path: Each group consists of only one observation. Do you need to adjust\n",
      "the group aesthetic?\n",
      "\n",
      "geom_path: Each group consists of only one observation. Do you need to adjust\n",
      "the group aesthetic?\n",
      "\n",
      "geom_path: Each group consists of only one observation. Do you need to adjust\n",
      "the group aesthetic?\n",
      "\n",
      "geom_path: Each group consists of only one observation. Do you need to adjust\n",
      "the group aesthetic?\n",
      "\n",
      "geom_path: Each group consists of only one observation. Do you need to adjust\n",
      "the group aesthetic?\n",
      "\n",
      "geom_path: Each group consists of only one observation. Do you need to adjust\n",
      "the group aesthetic?\n",
      "\n",
      "geom_path: Each group consists of only one observation. Do you need to adjust\n",
      "the group aesthetic?\n",
      "\n",
      "geom_path: Each group consists of only one observation. Do you need to adjust\n",
      "the group aesthetic?\n",
      "\n",
      "geom_path: Each group consists of only one observation. Do you need to adjust\n",
      "the group aesthetic?\n",
      "\n",
      "geom_path: Each group consists of only one observation. Do you need to adjust\n",
      "the group aesthetic?\n",
      "\n",
      "geom_path: Each group consists of only one observation. Do you need to adjust\n",
      "the group aesthetic?\n",
      "\n",
      "geom_path: Each group consists of only one observation. Do you need to adjust\n",
      "the group aesthetic?\n",
      "\n",
      "geom_path: Each group consists of only one observation. Do you need to adjust\n",
      "the group aesthetic?\n",
      "\n",
      "geom_path: Each group consists of only one observation. Do you need to adjust\n",
      "the group aesthetic?\n",
      "\n",
      "geom_path: Each group consists of only one observation. Do you need to adjust\n",
      "the group aesthetic?\n",
      "\n",
      "geom_path: Each group consists of only one observation. Do you need to adjust\n",
      "the group aesthetic?\n",
      "\n",
      "geom_path: Each group consists of only one observation. Do you need to adjust\n",
      "the group aesthetic?\n",
      "\n",
      "geom_path: Each group consists of only one observation. Do you need to adjust\n",
      "the group aesthetic?\n",
      "\n",
      "geom_path: Each group consists of only one observation. Do you need to adjust\n",
      "the group aesthetic?\n",
      "\n",
      "geom_path: Each group consists of only one observation. Do you need to adjust\n",
      "the group aesthetic?\n",
      "\n",
      "geom_path: Each group consists of only one observation. Do you need to adjust\n",
      "the group aesthetic?\n",
      "\n",
      "geom_path: Each group consists of only one observation. Do you need to adjust\n",
      "the group aesthetic?\n",
      "\n",
      "geom_path: Each group consists of only one observation. Do you need to adjust\n",
      "the group aesthetic?\n",
      "\n",
      "geom_path: Each group consists of only one observation. Do you need to adjust\n",
      "the group aesthetic?\n",
      "\n",
      "geom_path: Each group consists of only one observation. Do you need to adjust\n",
      "the group aesthetic?\n",
      "\n",
      "geom_path: Each group consists of only one observation. Do you need to adjust\n",
      "the group aesthetic?\n",
      "\n",
      "geom_path: Each group consists of only one observation. Do you need to adjust\n",
      "the group aesthetic?\n",
      "\n",
      "geom_path: Each group consists of only one observation. Do you need to adjust\n",
      "the group aesthetic?\n",
      "\n",
      "geom_path: Each group consists of only one observation. Do you need to adjust\n",
      "the group aesthetic?\n",
      "\n",
      "geom_path: Each group consists of only one observation. Do you need to adjust\n",
      "the group aesthetic?\n",
      "\n",
      "geom_path: Each group consists of only one observation. Do you need to adjust\n",
      "the group aesthetic?\n",
      "\n",
      "geom_path: Each group consists of only one observation. Do you need to adjust\n",
      "the group aesthetic?\n",
      "\n",
      "geom_path: Each group consists of only one observation. Do you need to adjust\n",
      "the group aesthetic?\n",
      "\n",
      "geom_path: Each group consists of only one observation. Do you need to adjust\n",
      "the group aesthetic?\n",
      "\n",
      "geom_path: Each group consists of only one observation. Do you need to adjust\n",
      "the group aesthetic?\n",
      "\n",
      "geom_path: Each group consists of only one observation. Do you need to adjust\n",
      "the group aesthetic?\n",
      "\n",
      "geom_path: Each group consists of only one observation. Do you need to adjust\n",
      "the group aesthetic?\n",
      "\n",
      "geom_path: Each group consists of only one observation. Do you need to adjust\n",
      "the group aesthetic?\n",
      "\n",
      "geom_path: Each group consists of only one observation. Do you need to adjust\n",
      "the group aesthetic?\n",
      "\n",
      "geom_path: Each group consists of only one observation. Do you need to adjust\n",
      "the group aesthetic?\n",
      "\n",
      "geom_path: Each group consists of only one observation. Do you need to adjust\n",
      "the group aesthetic?\n",
      "\n",
      "geom_path: Each group consists of only one observation. Do you need to adjust\n",
      "the group aesthetic?\n",
      "\n",
      "geom_path: Each group consists of only one observation. Do you need to adjust\n",
      "the group aesthetic?\n",
      "\n",
      "geom_path: Each group consists of only one observation. Do you need to adjust\n",
      "the group aesthetic?\n",
      "\n",
      "geom_path: Each group consists of only one observation. Do you need to adjust\n",
      "the group aesthetic?\n",
      "\n",
      "geom_path: Each group consists of only one observation. Do you need to adjust\n",
      "the group aesthetic?\n",
      "\n",
      "geom_path: Each group consists of only one observation. Do you need to adjust\n",
      "the group aesthetic?\n",
      "\n",
      "geom_path: Each group consists of only one observation. Do you need to adjust\n",
      "the group aesthetic?\n",
      "\n",
      "geom_path: Each group consists of only one observation. Do you need to adjust\n",
      "the group aesthetic?\n",
      "\n",
      "geom_path: Each group consists of only one observation. Do you need to adjust\n",
      "the group aesthetic?\n",
      "\n",
      "geom_path: Each group consists of only one observation. Do you need to adjust\n",
      "the group aesthetic?\n",
      "\n",
      "geom_path: Each group consists of only one observation. Do you need to adjust\n",
      "the group aesthetic?\n",
      "\n",
      "geom_path: Each group consists of only one observation. Do you need to adjust\n",
      "the group aesthetic?\n",
      "\n",
      "geom_path: Each group consists of only one observation. Do you need to adjust\n",
      "the group aesthetic?\n",
      "\n",
      "geom_path: Each group consists of only one observation. Do you need to adjust\n",
      "the group aesthetic?\n",
      "\n",
      "geom_path: Each group consists of only one observation. Do you need to adjust\n",
      "the group aesthetic?\n",
      "\n",
      "geom_path: Each group consists of only one observation. Do you need to adjust\n",
      "the group aesthetic?\n",
      "\n",
      "geom_path: Each group consists of only one observation. Do you need to adjust\n",
      "the group aesthetic?\n",
      "\n",
      "geom_path: Each group consists of only one observation. Do you need to adjust\n",
      "the group aesthetic?\n",
      "\n",
      "geom_path: Each group consists of only one observation. Do you need to adjust\n",
      "the group aesthetic?\n",
      "\n",
      "geom_path: Each group consists of only one observation. Do you need to adjust\n",
      "the group aesthetic?\n",
      "\n",
      "geom_path: Each group consists of only one observation. Do you need to adjust\n",
      "the group aesthetic?\n",
      "\n",
      "geom_path: Each group consists of only one observation. Do you need to adjust\n",
      "the group aesthetic?\n",
      "\n",
      "geom_path: Each group consists of only one observation. Do you need to adjust\n",
      "the group aesthetic?\n",
      "\n",
      "geom_path: Each group consists of only one observation. Do you need to adjust\n",
      "the group aesthetic?\n",
      "\n",
      "geom_path: Each group consists of only one observation. Do you need to adjust\n",
      "the group aesthetic?\n",
      "\n",
      "geom_path: Each group consists of only one observation. Do you need to adjust\n",
      "the group aesthetic?\n",
      "\n",
      "geom_path: Each group consists of only one observation. Do you need to adjust\n",
      "the group aesthetic?\n",
      "\n",
      "geom_path: Each group consists of only one observation. Do you need to adjust\n",
      "the group aesthetic?\n",
      "\n",
      "geom_path: Each group consists of only one observation. Do you need to adjust\n",
      "the group aesthetic?\n",
      "\n",
      "geom_path: Each group consists of only one observation. Do you need to adjust\n",
      "the group aesthetic?\n",
      "\n",
      "geom_path: Each group consists of only one observation. Do you need to adjust\n",
      "the group aesthetic?\n",
      "\n",
      "geom_path: Each group consists of only one observation. Do you need to adjust\n",
      "the group aesthetic?\n",
      "\n",
      "geom_path: Each group consists of only one observation. Do you need to adjust\n",
      "the group aesthetic?\n",
      "\n",
      "geom_path: Each group consists of only one observation. Do you need to adjust\n",
      "the group aesthetic?\n",
      "\n",
      "geom_path: Each group consists of only one observation. Do you need to adjust\n",
      "the group aesthetic?\n",
      "\n",
      "geom_path: Each group consists of only one observation. Do you need to adjust\n",
      "the group aesthetic?\n",
      "\n",
      "geom_path: Each group consists of only one observation. Do you need to adjust\n",
      "the group aesthetic?\n",
      "\n",
      "geom_path: Each group consists of only one observation. Do you need to adjust\n",
      "the group aesthetic?\n",
      "\n",
      "geom_path: Each group consists of only one observation. Do you need to adjust\n",
      "the group aesthetic?\n",
      "\n",
      "geom_path: Each group consists of only one observation. Do you need to adjust\n",
      "the group aesthetic?\n",
      "\n",
      "geom_path: Each group consists of only one observation. Do you need to adjust\n",
      "the group aesthetic?\n",
      "\n",
      "geom_path: Each group consists of only one observation. Do you need to adjust\n",
      "the group aesthetic?\n",
      "\n",
      "geom_path: Each group consists of only one observation. Do you need to adjust\n",
      "the group aesthetic?\n",
      "\n",
      "geom_path: Each group consists of only one observation. Do you need to adjust\n",
      "the group aesthetic?\n",
      "\n",
      "geom_path: Each group consists of only one observation. Do you need to adjust\n",
      "the group aesthetic?\n",
      "\n",
      "geom_path: Each group consists of only one observation. Do you need to adjust\n",
      "the group aesthetic?\n",
      "\n",
      "geom_path: Each group consists of only one observation. Do you need to adjust\n",
      "the group aesthetic?\n",
      "\n",
      "geom_path: Each group consists of only one observation. Do you need to adjust\n",
      "the group aesthetic?\n",
      "\n",
      "geom_path: Each group consists of only one observation. Do you need to adjust\n",
      "the group aesthetic?\n",
      "\n",
      "geom_path: Each group consists of only one observation. Do you need to adjust\n",
      "the group aesthetic?\n",
      "\n",
      "geom_path: Each group consists of only one observation. Do you need to adjust\n",
      "the group aesthetic?\n",
      "\n",
      "geom_path: Each group consists of only one observation. Do you need to adjust\n",
      "the group aesthetic?\n",
      "\n",
      "geom_path: Each group consists of only one observation. Do you need to adjust\n",
      "the group aesthetic?\n",
      "\n",
      "geom_path: Each group consists of only one observation. Do you need to adjust\n",
      "the group aesthetic?\n",
      "\n",
      "geom_path: Each group consists of only one observation. Do you need to adjust\n",
      "the group aesthetic?\n",
      "\n",
      "geom_path: Each group consists of only one observation. Do you need to adjust\n",
      "the group aesthetic?\n",
      "\n",
      "geom_path: Each group consists of only one observation. Do you need to adjust\n",
      "the group aesthetic?\n",
      "\n",
      "geom_path: Each group consists of only one observation. Do you need to adjust\n",
      "the group aesthetic?\n",
      "\n",
      "geom_path: Each group consists of only one observation. Do you need to adjust\n",
      "the group aesthetic?\n",
      "\n",
      "geom_path: Each group consists of only one observation. Do you need to adjust\n",
      "the group aesthetic?\n",
      "\n",
      "geom_path: Each group consists of only one observation. Do you need to adjust\n",
      "the group aesthetic?\n",
      "\n",
      "geom_path: Each group consists of only one observation. Do you need to adjust\n",
      "the group aesthetic?\n",
      "\n",
      "geom_path: Each group consists of only one observation. Do you need to adjust\n",
      "the group aesthetic?\n",
      "\n",
      "geom_path: Each group consists of only one observation. Do you need to adjust\n",
      "the group aesthetic?\n",
      "\n",
      "geom_path: Each group consists of only one observation. Do you need to adjust\n",
      "the group aesthetic?\n",
      "\n",
      "geom_path: Each group consists of only one observation. Do you need to adjust\n",
      "the group aesthetic?\n",
      "\n",
      "geom_path: Each group consists of only one observation. Do you need to adjust\n",
      "the group aesthetic?\n",
      "\n",
      "geom_path: Each group consists of only one observation. Do you need to adjust\n",
      "the group aesthetic?\n",
      "\n",
      "geom_path: Each group consists of only one observation. Do you need to adjust\n",
      "the group aesthetic?\n",
      "\n",
      "geom_path: Each group consists of only one observation. Do you need to adjust\n",
      "the group aesthetic?\n",
      "\n",
      "geom_path: Each group consists of only one observation. Do you need to adjust\n",
      "the group aesthetic?\n",
      "\n",
      "geom_path: Each group consists of only one observation. Do you need to adjust\n",
      "the group aesthetic?\n",
      "\n",
      "geom_path: Each group consists of only one observation. Do you need to adjust\n",
      "the group aesthetic?\n",
      "\n",
      "geom_path: Each group consists of only one observation. Do you need to adjust\n",
      "the group aesthetic?\n",
      "\n",
      "geom_path: Each group consists of only one observation. Do you need to adjust\n",
      "the group aesthetic?\n",
      "\n",
      "geom_path: Each group consists of only one observation. Do you need to adjust\n",
      "the group aesthetic?\n",
      "\n",
      "geom_path: Each group consists of only one observation. Do you need to adjust\n",
      "the group aesthetic?\n",
      "\n",
      "geom_path: Each group consists of only one observation. Do you need to adjust\n",
      "the group aesthetic?\n",
      "\n",
      "geom_path: Each group consists of only one observation. Do you need to adjust\n",
      "the group aesthetic?\n",
      "\n",
      "geom_path: Each group consists of only one observation. Do you need to adjust\n",
      "the group aesthetic?\n",
      "\n",
      "geom_path: Each group consists of only one observation. Do you need to adjust\n",
      "the group aesthetic?\n",
      "\n",
      "geom_path: Each group consists of only one observation. Do you need to adjust\n",
      "the group aesthetic?\n",
      "\n",
      "geom_path: Each group consists of only one observation. Do you need to adjust\n",
      "the group aesthetic?\n",
      "\n",
      "geom_path: Each group consists of only one observation. Do you need to adjust\n",
      "the group aesthetic?\n",
      "\n",
      "geom_path: Each group consists of only one observation. Do you need to adjust\n",
      "the group aesthetic?\n",
      "\n",
      "geom_path: Each group consists of only one observation. Do you need to adjust\n",
      "the group aesthetic?\n",
      "\n",
      "geom_path: Each group consists of only one observation. Do you need to adjust\n",
      "the group aesthetic?\n",
      "\n"
     ]
    }
   ],
   "source": [
    "p <- ggplot(race_graph_df, aes(x = laps)) +\n",
    "  geom_line(aes(y = driver.1, color = \"Driver 1\")) +\n",
    "  geom_line(aes(y = driver.2, color = \"Driver 2\")) +\n",
    "  geom_line(aes(y = driver.18, color = \"Driver 3\")) +\n",
    "  geom_line(aes(y = driver.19, color = \"Driver 4\")) +\n",
    "  labs(x = \"Laps\", y = \"Driver Position\") +\n",
    "  scale_color_manual(values = c(\"Driver 1\" = \"red\", \"Driver 2\" = \"blue\", \"Driver 3\" = \"green\", \"Driver 4\" = \"purple\")) +\n",
    "  scale_y_reverse() +  # Reverse the y-axis\n",
    "  theme_minimal()\n",
    "\n",
    "# Create the animation\n",
    "animation <- p +\n",
    "  transition_states(laps, transition_length = 2, state_length = 1) +\n",
    "  enter_fade() +\n",
    "  exit_fade()\n",
    "\n",
    "# Render and play the animation\n",
    "animate(animation, nframes = 100, fps = 10)\n"
   ]
  },
  {
   "cell_type": "code",
   "execution_count": 163,
   "id": "1fe3f26a",
   "metadata": {
    "vscode": {
     "languageId": "r"
    }
   },
   "outputs": [],
   "source": [
    "shorter_race_df <- race_graph_df[1:5]"
   ]
  },
  {
   "cell_type": "code",
   "execution_count": 208,
   "id": "27f6fcec",
   "metadata": {
    "vscode": {
     "languageId": "r"
    }
   },
   "outputs": [],
   "source": [
    "options(\n",
    "  repr.plot.width = 15,    # Width in inches\n",
    "  repr.plot.height = 15    # Height in inches\n",
    ")"
   ]
  },
  {
   "cell_type": "code",
   "execution_count": 164,
   "id": "09750058",
   "metadata": {
    "vscode": {
     "languageId": "r"
    }
   },
   "outputs": [
    {
     "ename": "ERROR",
     "evalue": "Error in rep(seq_len(nrow(polygon)), splits + 1): invalid 'times' argument\n",
     "output_type": "error",
     "traceback": [
      "Error in rep(seq_len(nrow(polygon)), splits + 1): invalid 'times' argument\nTraceback:\n",
      "1. animate(animation, nframes = 100, fps = 10, end_pause = 10)",
      "2. animate.gganim(animation, nframes = 100, fps = 10, end_pause = 10)",
      "3. prerender(plot, nframes_total)",
      "4. ggplot_build(plot)",
      "5. ggplot_build.gganim(plot)",
      "6. scene$after_defaults(data)",
      "7. f(..., self = self)",
      "8. self$transition$expand_data(layer_data[tween_last], self$layer_type[tween_last], \n .     self$group_column[tween_last], self$match_shape[tween_last], \n .     ease, self$transmuters$enter_transmuters(tween_last), self$transmuters$exit_transmuters(tween_last), \n .     self$transition_params, which(tween_last))",
      "9. f(..., self = self)",
      "10. Map(function(data, type, id, match, ease, enter, exit, layer_index) {\n  .     self$expand_layer(data, type, id, match, ease, enter, exit, \n  .         params, layer_index)\n  . }, data = data, type = type, id = id, match = match, ease = ease, \n  .     enter = enter, exit = exit, layer_index = layer_index)",
      "11. mapply(FUN = f, ..., SIMPLIFY = FALSE)",
      "12. (function (data, type, id, match, ease, enter, exit, layer_index) \n  . {\n  .     self$expand_layer(data, type, id, match, ease, enter, exit, \n  .         params, layer_index)\n  . })(data = dots[[1L]][[1L]], type = dots[[2L]][[1L]], id = dots[[3L]][[1L]], \n  .     match = dots[[4L]][[1L]], ease = dots[[5L]][[1L]], enter = dots[[6L]][[1L]], \n  .     exit = dots[[7L]][[1L]], layer_index = dots[[8L]][[1L]])",
      "13. self$expand_layer(data, type, id, match, ease, enter, exit, params, \n  .     layer_index)",
      "14. f(..., self = self)",
      "15. lapply(split(data, data$PANEL), function(data) {\n  .     self$expand_panel(data, type, id, match, ease, enter, exit, \n  .         params, layer_index)\n  . })",
      "16. FUN(X[[i]], ...)",
      "17. self$expand_panel(data, type, id, match, ease, enter, exit, params, \n  .     layer_index)",
      "18. f(..., self = self)",
      "19. transform_path(all_frames, next_state, ease, params$transition_length[i], \n  .     !!id, enter, exit, match)",
      "20. transformr::tween_path(...)",
      "21. align_paths(from, to, enter = enter, exit = exit, match = match)",
      "22. mapply(match_shapes, from = paths$from, to = paths$to, MoreArgs = list(enter = enter, \n  .     exit = exit, min_n = min_n, closed = FALSE), SIMPLIFY = FALSE)",
      "23. (function (from, to, enter, exit, min_n, closed = TRUE) \n  . {\n  .     if (is.null(from)) {\n  .         if (is.null(enter)) {\n  .             from <- list(to[[1]][0, , drop = FALSE])\n  .             to <- from\n  .         }\n  .         else {\n  .             from <- lapply(to, function(x) {\n  .                 x <- enter(x)\n  .                 x$.phase <- \"enter\"\n  .                 x\n  .             })\n  .         }\n  .     }\n  .     else if (is.null(to)) {\n  .         if (is.null(exit)) {\n  .             to <- list(from[[1]][0, , drop = FALSE])\n  .             from <- to\n  .         }\n  .         else {\n  .             to <- lapply(from, function(x) {\n  .                 x <- exit(x)\n  .                 x$.phase <- \"exit\"\n  .                 x\n  .             })\n  .         }\n  .     }\n  .     else {\n  .         matched <- if (closed) \n  .             match_polygon(from, to, min_n)\n  .         else match_path(from, to, min_n)\n  .         from <- matched$from\n  .         to <- matched$to\n  .     }\n  .     from <- do.call(rbind, lapply(from, function(x) x[seq_len(nrow(x) + \n  .         1), ]))\n  .     to <- do.call(rbind, lapply(to, function(x) x[seq_len(nrow(x) + \n  .         1), ]))\n  .     from <- from[-nrow(from), ]\n  .     to <- to[-nrow(to), ]\n  .     list(from = from, to = to)\n  . })(from = dots[[1L]][[1L]], to = dots[[2L]][[1L]], enter = function (x) \n  . {\n  .     for (i in seq_along(factory_line)) {\n  .         x <- factory_line[[i]](x)\n  .     }\n  .     x\n  . }, exit = function (x) \n  . {\n  .     for (i in seq_along(factory_line)) {\n  .         x <- factory_line[[i]](x)\n  .     }\n  .     x\n  . }, min_n = 50, closed = FALSE)",
      "24. match_path(from, to, min_n)",
      "25. Map(function(from, to) {\n  .     n_points <- max(c(min_n, nrow(from), nrow(to)))\n  .     if (nrow(from) < n_points) \n  .         from <- add_points(from, n_points - nrow(from), connect = FALSE)\n  .     if (nrow(to) < n_points) \n  .         to <- add_points(to, n_points - nrow(to), connect = FALSE)\n  .     list(from = from, to = to)\n  . }, from = from, to = to)",
      "26. mapply(FUN = f, ..., SIMPLIFY = FALSE)",
      "27. (function (from, to) \n  . {\n  .     n_points <- max(c(min_n, nrow(from), nrow(to)))\n  .     if (nrow(from) < n_points) \n  .         from <- add_points(from, n_points - nrow(from), connect = FALSE)\n  .     if (nrow(to) < n_points) \n  .         to <- add_points(to, n_points - nrow(to), connect = FALSE)\n  .     list(from = from, to = to)\n  . })(from = dots[[1L]][[1L]], to = dots[[2L]][[1L]])",
      "28. add_points(from, n_points - nrow(from), connect = FALSE)",
      "29. polygon[rep(seq_len(nrow(polygon)), splits + 1), ]",
      "30. `[.data.frame`(polygon, rep(seq_len(nrow(polygon)), splits + \n  .     1), )"
     ]
    }
   ],
   "source": [
    "# Convert the data frame to long format\n",
    "race_graph_df_long <- shorter_race_df %>%\n",
    "  pivot_longer(cols = starts_with(\"driver.\"), names_to = \"Driver\", values_to = \"Position\")\n",
    "\n",
    "# Create the line plot with animation\n",
    "p <- ggplot(race_graph_df_long, aes(x = laps, y = Position, color = Driver)) +\n",
    "  geom_line() +\n",
    "  labs(x = \"Laps\", y = \"Driver Position\") +\n",
    "  scale_color_manual(values = c(\"Driver 1\" = \"red\", \"Driver 2\" = \"blue\", \"Driver 3\" = \"green\", \"Driver 4\" = \"purple\")) +\n",
    "  scale_y_reverse() +  # Reverse the y-axis\n",
    "  theme_minimal()\n",
    "\n",
    "# Create the animation\n",
    "animation <- p +\n",
    "  transition_states(laps, transition_length = 2, state_length = 1) +\n",
    "  enter_fade() +\n",
    "  exit_fade()\n",
    "\n",
    "# Render and play the animation\n",
    "animate(animation, nframes = 100, fps = 10, end_pause = 10)\n"
   ]
  },
  {
   "cell_type": "code",
   "execution_count": 59,
   "id": "50546d70",
   "metadata": {
    "vscode": {
     "languageId": "r"
    }
   },
   "outputs": [],
   "source": [
    "race_graph_df %>% mutate('LEC' <- )"
   ]
  },
  {
   "cell_type": "code",
   "execution_count": 56,
   "id": "2064adfe",
   "metadata": {
    "vscode": {
     "languageId": "r"
    }
   },
   "outputs": [
    {
     "data": {
      "text/html": [
       "<table class=\"dataframe\">\n",
       "<caption>A data.frame: 53 × 1</caption>\n",
       "<thead>\n",
       "\t<tr><th scope=col>laps</th></tr>\n",
       "\t<tr><th scope=col>&lt;int&gt;</th></tr>\n",
       "</thead>\n",
       "<tbody>\n",
       "\t<tr><td> 1</td></tr>\n",
       "\t<tr><td> 2</td></tr>\n",
       "\t<tr><td> 3</td></tr>\n",
       "\t<tr><td> 4</td></tr>\n",
       "\t<tr><td> 5</td></tr>\n",
       "\t<tr><td> 6</td></tr>\n",
       "\t<tr><td> 7</td></tr>\n",
       "\t<tr><td> 8</td></tr>\n",
       "\t<tr><td> 9</td></tr>\n",
       "\t<tr><td>10</td></tr>\n",
       "\t<tr><td>11</td></tr>\n",
       "\t<tr><td>12</td></tr>\n",
       "\t<tr><td>13</td></tr>\n",
       "\t<tr><td>14</td></tr>\n",
       "\t<tr><td>15</td></tr>\n",
       "\t<tr><td>16</td></tr>\n",
       "\t<tr><td>17</td></tr>\n",
       "\t<tr><td>18</td></tr>\n",
       "\t<tr><td>19</td></tr>\n",
       "\t<tr><td>20</td></tr>\n",
       "\t<tr><td>21</td></tr>\n",
       "\t<tr><td>22</td></tr>\n",
       "\t<tr><td>23</td></tr>\n",
       "\t<tr><td>24</td></tr>\n",
       "\t<tr><td>25</td></tr>\n",
       "\t<tr><td>26</td></tr>\n",
       "\t<tr><td>27</td></tr>\n",
       "\t<tr><td>28</td></tr>\n",
       "\t<tr><td>29</td></tr>\n",
       "\t<tr><td>30</td></tr>\n",
       "\t<tr><td>31</td></tr>\n",
       "\t<tr><td>32</td></tr>\n",
       "\t<tr><td>33</td></tr>\n",
       "\t<tr><td>34</td></tr>\n",
       "\t<tr><td>35</td></tr>\n",
       "\t<tr><td>36</td></tr>\n",
       "\t<tr><td>37</td></tr>\n",
       "\t<tr><td>38</td></tr>\n",
       "\t<tr><td>39</td></tr>\n",
       "\t<tr><td>40</td></tr>\n",
       "\t<tr><td>41</td></tr>\n",
       "\t<tr><td>42</td></tr>\n",
       "\t<tr><td>43</td></tr>\n",
       "\t<tr><td>44</td></tr>\n",
       "\t<tr><td>45</td></tr>\n",
       "\t<tr><td>46</td></tr>\n",
       "\t<tr><td>47</td></tr>\n",
       "\t<tr><td>48</td></tr>\n",
       "\t<tr><td>49</td></tr>\n",
       "\t<tr><td>50</td></tr>\n",
       "\t<tr><td>51</td></tr>\n",
       "\t<tr><td>52</td></tr>\n",
       "\t<tr><td>53</td></tr>\n",
       "</tbody>\n",
       "</table>\n"
      ],
      "text/latex": [
       "A data.frame: 53 × 1\n",
       "\\begin{tabular}{l}\n",
       " laps\\\\\n",
       " <int>\\\\\n",
       "\\hline\n",
       "\t  1\\\\\n",
       "\t  2\\\\\n",
       "\t  3\\\\\n",
       "\t  4\\\\\n",
       "\t  5\\\\\n",
       "\t  6\\\\\n",
       "\t  7\\\\\n",
       "\t  8\\\\\n",
       "\t  9\\\\\n",
       "\t 10\\\\\n",
       "\t 11\\\\\n",
       "\t 12\\\\\n",
       "\t 13\\\\\n",
       "\t 14\\\\\n",
       "\t 15\\\\\n",
       "\t 16\\\\\n",
       "\t 17\\\\\n",
       "\t 18\\\\\n",
       "\t 19\\\\\n",
       "\t 20\\\\\n",
       "\t 21\\\\\n",
       "\t 22\\\\\n",
       "\t 23\\\\\n",
       "\t 24\\\\\n",
       "\t 25\\\\\n",
       "\t 26\\\\\n",
       "\t 27\\\\\n",
       "\t 28\\\\\n",
       "\t 29\\\\\n",
       "\t 30\\\\\n",
       "\t 31\\\\\n",
       "\t 32\\\\\n",
       "\t 33\\\\\n",
       "\t 34\\\\\n",
       "\t 35\\\\\n",
       "\t 36\\\\\n",
       "\t 37\\\\\n",
       "\t 38\\\\\n",
       "\t 39\\\\\n",
       "\t 40\\\\\n",
       "\t 41\\\\\n",
       "\t 42\\\\\n",
       "\t 43\\\\\n",
       "\t 44\\\\\n",
       "\t 45\\\\\n",
       "\t 46\\\\\n",
       "\t 47\\\\\n",
       "\t 48\\\\\n",
       "\t 49\\\\\n",
       "\t 50\\\\\n",
       "\t 51\\\\\n",
       "\t 52\\\\\n",
       "\t 53\\\\\n",
       "\\end{tabular}\n"
      ],
      "text/markdown": [
       "\n",
       "A data.frame: 53 × 1\n",
       "\n",
       "| laps &lt;int&gt; |\n",
       "|---|\n",
       "|  1 |\n",
       "|  2 |\n",
       "|  3 |\n",
       "|  4 |\n",
       "|  5 |\n",
       "|  6 |\n",
       "|  7 |\n",
       "|  8 |\n",
       "|  9 |\n",
       "| 10 |\n",
       "| 11 |\n",
       "| 12 |\n",
       "| 13 |\n",
       "| 14 |\n",
       "| 15 |\n",
       "| 16 |\n",
       "| 17 |\n",
       "| 18 |\n",
       "| 19 |\n",
       "| 20 |\n",
       "| 21 |\n",
       "| 22 |\n",
       "| 23 |\n",
       "| 24 |\n",
       "| 25 |\n",
       "| 26 |\n",
       "| 27 |\n",
       "| 28 |\n",
       "| 29 |\n",
       "| 30 |\n",
       "| 31 |\n",
       "| 32 |\n",
       "| 33 |\n",
       "| 34 |\n",
       "| 35 |\n",
       "| 36 |\n",
       "| 37 |\n",
       "| 38 |\n",
       "| 39 |\n",
       "| 40 |\n",
       "| 41 |\n",
       "| 42 |\n",
       "| 43 |\n",
       "| 44 |\n",
       "| 45 |\n",
       "| 46 |\n",
       "| 47 |\n",
       "| 48 |\n",
       "| 49 |\n",
       "| 50 |\n",
       "| 51 |\n",
       "| 52 |\n",
       "| 53 |\n",
       "\n"
      ],
      "text/plain": [
       "   laps\n",
       "1   1  \n",
       "2   2  \n",
       "3   3  \n",
       "4   4  \n",
       "5   5  \n",
       "6   6  \n",
       "7   7  \n",
       "8   8  \n",
       "9   9  \n",
       "10 10  \n",
       "11 11  \n",
       "12 12  \n",
       "13 13  \n",
       "14 14  \n",
       "15 15  \n",
       "16 16  \n",
       "17 17  \n",
       "18 18  \n",
       "19 19  \n",
       "20 20  \n",
       "21 21  \n",
       "22 22  \n",
       "23 23  \n",
       "24 24  \n",
       "25 25  \n",
       "26 26  \n",
       "27 27  \n",
       "28 28  \n",
       "29 29  \n",
       "30 30  \n",
       "31 31  \n",
       "32 32  \n",
       "33 33  \n",
       "34 34  \n",
       "35 35  \n",
       "36 36  \n",
       "37 37  \n",
       "38 38  \n",
       "39 39  \n",
       "40 40  \n",
       "41 41  \n",
       "42 42  \n",
       "43 43  \n",
       "44 44  \n",
       "45 45  \n",
       "46 46  \n",
       "47 47  \n",
       "48 48  \n",
       "49 49  \n",
       "50 50  \n",
       "51 51  \n",
       "52 52  \n",
       "53 53  "
      ]
     },
     "metadata": {},
     "output_type": "display_data"
    }
   ],
   "source": [
    "race_graph_df"
   ]
  },
  {
   "cell_type": "code",
   "execution_count": 75,
   "id": "e76c1682",
   "metadata": {
    "vscode": {
     "languageId": "r"
    }
   },
   "outputs": [],
   "source": [
    "ls <- c()\n"
   ]
  },
  {
   "cell_type": "code",
   "execution_count": 76,
   "id": "f16d74b1",
   "metadata": {
    "vscode": {
     "languageId": "r"
    }
   },
   "outputs": [
    {
     "data": {
      "text/html": [
       "<style>\n",
       ".list-inline {list-style: none; margin:0; padding: 0}\n",
       ".list-inline>li {display: inline-block}\n",
       ".list-inline>li:not(:last-child)::after {content: \"\\00b7\"; padding: 0 .5ex}\n",
       "</style>\n",
       "<ol class=list-inline><li>1</li><li>2</li><li>3</li><li>4</li><li>5</li><li>6</li><li>7</li><li>8</li><li>9</li><li>10</li><li>11</li><li>12</li><li>13</li><li>14</li><li>15</li><li>16</li><li>17</li><li>18</li><li>19</li><li>20</li><li>21</li><li>22</li><li>23</li><li>24</li><li>25</li><li>26</li><li>27</li><li>28</li><li>29</li><li>30</li><li>31</li><li>32</li><li>33</li><li>34</li><li>35</li><li>36</li><li>37</li><li>38</li><li>39</li><li>40</li><li>41</li><li>42</li><li>43</li><li>44</li><li>45</li><li>46</li><li>47</li><li>48</li><li>49</li><li>50</li><li>51</li><li>52</li><li>53</li></ol>\n"
      ],
      "text/latex": [
       "\\begin{enumerate*}\n",
       "\\item 1\n",
       "\\item 2\n",
       "\\item 3\n",
       "\\item 4\n",
       "\\item 5\n",
       "\\item 6\n",
       "\\item 7\n",
       "\\item 8\n",
       "\\item 9\n",
       "\\item 10\n",
       "\\item 11\n",
       "\\item 12\n",
       "\\item 13\n",
       "\\item 14\n",
       "\\item 15\n",
       "\\item 16\n",
       "\\item 17\n",
       "\\item 18\n",
       "\\item 19\n",
       "\\item 20\n",
       "\\item 21\n",
       "\\item 22\n",
       "\\item 23\n",
       "\\item 24\n",
       "\\item 25\n",
       "\\item 26\n",
       "\\item 27\n",
       "\\item 28\n",
       "\\item 29\n",
       "\\item 30\n",
       "\\item 31\n",
       "\\item 32\n",
       "\\item 33\n",
       "\\item 34\n",
       "\\item 35\n",
       "\\item 36\n",
       "\\item 37\n",
       "\\item 38\n",
       "\\item 39\n",
       "\\item 40\n",
       "\\item 41\n",
       "\\item 42\n",
       "\\item 43\n",
       "\\item 44\n",
       "\\item 45\n",
       "\\item 46\n",
       "\\item 47\n",
       "\\item 48\n",
       "\\item 49\n",
       "\\item 50\n",
       "\\item 51\n",
       "\\item 52\n",
       "\\item 53\n",
       "\\end{enumerate*}\n"
      ],
      "text/markdown": [
       "1. 1\n",
       "2. 2\n",
       "3. 3\n",
       "4. 4\n",
       "5. 5\n",
       "6. 6\n",
       "7. 7\n",
       "8. 8\n",
       "9. 9\n",
       "10. 10\n",
       "11. 11\n",
       "12. 12\n",
       "13. 13\n",
       "14. 14\n",
       "15. 15\n",
       "16. 16\n",
       "17. 17\n",
       "18. 18\n",
       "19. 19\n",
       "20. 20\n",
       "21. 21\n",
       "22. 22\n",
       "23. 23\n",
       "24. 24\n",
       "25. 25\n",
       "26. 26\n",
       "27. 27\n",
       "28. 28\n",
       "29. 29\n",
       "30. 30\n",
       "31. 31\n",
       "32. 32\n",
       "33. 33\n",
       "34. 34\n",
       "35. 35\n",
       "36. 36\n",
       "37. 37\n",
       "38. 38\n",
       "39. 39\n",
       "40. 40\n",
       "41. 41\n",
       "42. 42\n",
       "43. 43\n",
       "44. 44\n",
       "45. 45\n",
       "46. 46\n",
       "47. 47\n",
       "48. 48\n",
       "49. 49\n",
       "50. 50\n",
       "51. 51\n",
       "52. 52\n",
       "53. 53\n",
       "\n",
       "\n"
      ],
      "text/plain": [
       " [1]  1  2  3  4  5  6  7  8  9 10 11 12 13 14 15 16 17 18 19 20 21 22 23 24 25\n",
       "[26] 26 27 28 29 30 31 32 33 34 35 36 37 38 39 40 41 42 43 44 45 46 47 48 49 50\n",
       "[51] 51 52 53"
      ]
     },
     "metadata": {},
     "output_type": "display_data"
    }
   ],
   "source": [
    "append(ls, a)"
   ]
  },
  {
   "cell_type": "code",
   "execution_count": 77,
   "id": "52a41a9b",
   "metadata": {
    "vscode": {
     "languageId": "r"
    }
   },
   "outputs": [
    {
     "data": {
      "text/plain": [
       "NULL"
      ]
     },
     "metadata": {},
     "output_type": "display_data"
    }
   ],
   "source": [
    "ls"
   ]
  },
  {
   "cell_type": "code",
   "execution_count": 89,
   "id": "7e652f3f",
   "metadata": {
    "vscode": {
     "languageId": "r"
    }
   },
   "outputs": [
    {
     "data": {
      "text/plain": [
       "{html_document}\n",
       "<html id=\"ctl00_html\" lang=\"en\">\n",
       "[1] <head>\\n<!-- Google Analytics --><!-- Global site tag (gtag.js) - Google  ...\n",
       "[2] <body>\\r\\n  <form name=\"aspnetForm\" method=\"post\" action=\"/en/2022/italie ..."
      ]
     },
     "metadata": {},
     "output_type": "display_data"
    }
   ],
   "source": [
    "page "
   ]
  },
  {
   "cell_type": "code",
   "execution_count": 172,
   "id": "6f94e2b5",
   "metadata": {},
   "outputs": [],
   "source": [
    "scores_df_header <- page %>% html_node('.datatable') %>% html_table(header = FALSE)"
   ]
  },
  {
   "cell_type": "code",
   "execution_count": 98,
   "id": "b574f39c",
   "metadata": {},
   "outputs": [
    {
     "data": {
      "text/html": [
       "<table class=\"dataframe\">\n",
       "<caption>A tibble: 1 × 21</caption>\n",
       "<thead>\n",
       "\t<tr><th scope=col>X1</th><th scope=col>X2</th><th scope=col>X3</th><th scope=col>X4</th><th scope=col>X5</th><th scope=col>X6</th><th scope=col>X7</th><th scope=col>X8</th><th scope=col>X9</th><th scope=col>X10</th><th scope=col>...</th><th scope=col>X12</th><th scope=col>X13</th><th scope=col>X14</th><th scope=col>X15</th><th scope=col>X16</th><th scope=col>X17</th><th scope=col>X18</th><th scope=col>X19</th><th scope=col>X20</th><th scope=col>X21</th></tr>\n",
       "\t<tr><th scope=col>&lt;int&gt;</th><th scope=col>&lt;chr&gt;</th><th scope=col>&lt;chr&gt;</th><th scope=col>&lt;chr&gt;</th><th scope=col>&lt;chr&gt;</th><th scope=col>&lt;chr&gt;</th><th scope=col>&lt;chr&gt;</th><th scope=col>&lt;chr&gt;</th><th scope=col>&lt;chr&gt;</th><th scope=col>&lt;chr&gt;</th><th scope=col>...</th><th scope=col>&lt;chr&gt;</th><th scope=col>&lt;chr&gt;</th><th scope=col>&lt;chr&gt;</th><th scope=col>&lt;chr&gt;</th><th scope=col>&lt;chr&gt;</th><th scope=col>&lt;chr&gt;</th><th scope=col>&lt;chr&gt;</th><th scope=col>&lt;chr&gt;</th><th scope=col>&lt;chr&gt;</th><th scope=col>&lt;chr&gt;</th></tr>\n",
       "</thead>\n",
       "<tbody>\n",
       "\t<tr><td>NA</td><td>LEC1</td><td>RUS2</td><td>NOR3</td><td>RIC4</td><td>GAS5</td><td>ALO6</td><td>VER7</td><td>DEV8</td><td>ZHO9</td><td>...</td><td>VET11</td><td>STR12</td><td>PER13</td><td>OCO14</td><td>BOT15</td><td>MAG16</td><td>MSC17</td><td>SAI18</td><td>HAM19</td><td>TSU20</td></tr>\n",
       "</tbody>\n",
       "</table>\n"
      ],
      "text/latex": [
       "A tibble: 1 × 21\n",
       "\\begin{tabular}{lllllllllllllllllllll}\n",
       " X1 & X2 & X3 & X4 & X5 & X6 & X7 & X8 & X9 & X10 & ... & X12 & X13 & X14 & X15 & X16 & X17 & X18 & X19 & X20 & X21\\\\\n",
       " <int> & <chr> & <chr> & <chr> & <chr> & <chr> & <chr> & <chr> & <chr> & <chr> & ... & <chr> & <chr> & <chr> & <chr> & <chr> & <chr> & <chr> & <chr> & <chr> & <chr>\\\\\n",
       "\\hline\n",
       "\t NA & LEC1 & RUS2 & NOR3 & RIC4 & GAS5 & ALO6 & VER7 & DEV8 & ZHO9 & ... & VET11 & STR12 & PER13 & OCO14 & BOT15 & MAG16 & MSC17 & SAI18 & HAM19 & TSU20\\\\\n",
       "\\end{tabular}\n"
      ],
      "text/markdown": [
       "\n",
       "A tibble: 1 × 21\n",
       "\n",
       "| X1 &lt;int&gt; | X2 &lt;chr&gt; | X3 &lt;chr&gt; | X4 &lt;chr&gt; | X5 &lt;chr&gt; | X6 &lt;chr&gt; | X7 &lt;chr&gt; | X8 &lt;chr&gt; | X9 &lt;chr&gt; | X10 &lt;chr&gt; | ... ... | X12 &lt;chr&gt; | X13 &lt;chr&gt; | X14 &lt;chr&gt; | X15 &lt;chr&gt; | X16 &lt;chr&gt; | X17 &lt;chr&gt; | X18 &lt;chr&gt; | X19 &lt;chr&gt; | X20 &lt;chr&gt; | X21 &lt;chr&gt; |\n",
       "|---|---|---|---|---|---|---|---|---|---|---|---|---|---|---|---|---|---|---|---|---|\n",
       "| NA | LEC1 | RUS2 | NOR3 | RIC4 | GAS5 | ALO6 | VER7 | DEV8 | ZHO9 | ... | VET11 | STR12 | PER13 | OCO14 | BOT15 | MAG16 | MSC17 | SAI18 | HAM19 | TSU20 |\n",
       "\n"
      ],
      "text/plain": [
       "  X1 X2   X3   X4   X5   X6   X7   X8   X9   X10  ... X12   X13   X14   X15  \n",
       "1 NA LEC1 RUS2 NOR3 RIC4 GAS5 ALO6 VER7 DEV8 ZHO9 ... VET11 STR12 PER13 OCO14\n",
       "  X16   X17   X18   X19   X20   X21  \n",
       "1 BOT15 MAG16 MSC17 SAI18 HAM19 TSU20"
      ]
     },
     "metadata": {},
     "output_type": "display_data"
    }
   ],
   "source": [
    "scores_df_header[1, ]"
   ]
  },
  {
   "cell_type": "code",
   "execution_count": 149,
   "id": "909fc50f",
   "metadata": {},
   "outputs": [
    {
     "data": {
      "text/html": [
       "<style>\n",
       ".list-inline {list-style: none; margin:0; padding: 0}\n",
       ".list-inline>li {display: inline-block}\n",
       ".list-inline>li:not(:last-child)::after {content: \"\\00b7\"; padding: 0 .5ex}\n",
       "</style>\n",
       "<ol class=list-inline><li>'LEC1'</li><li>'RUS2'</li><li>'NOR3'</li><li>'RIC4'</li><li>'GAS5'</li><li>'ALO6'</li><li>'VER7'</li><li>'DEV8'</li><li>'ZHO9'</li><li>'LAT10'</li><li>'VET11'</li><li>'STR12'</li><li>'PER13'</li><li>'OCO14'</li><li>'BOT15'</li><li>'MAG16'</li><li>'MSC17'</li><li>'SAI18'</li><li>'HAM19'</li><li>'TSU20'</li></ol>\n"
      ],
      "text/latex": [
       "\\begin{enumerate*}\n",
       "\\item 'LEC1'\n",
       "\\item 'RUS2'\n",
       "\\item 'NOR3'\n",
       "\\item 'RIC4'\n",
       "\\item 'GAS5'\n",
       "\\item 'ALO6'\n",
       "\\item 'VER7'\n",
       "\\item 'DEV8'\n",
       "\\item 'ZHO9'\n",
       "\\item 'LAT10'\n",
       "\\item 'VET11'\n",
       "\\item 'STR12'\n",
       "\\item 'PER13'\n",
       "\\item 'OCO14'\n",
       "\\item 'BOT15'\n",
       "\\item 'MAG16'\n",
       "\\item 'MSC17'\n",
       "\\item 'SAI18'\n",
       "\\item 'HAM19'\n",
       "\\item 'TSU20'\n",
       "\\end{enumerate*}\n"
      ],
      "text/markdown": [
       "1. 'LEC1'\n",
       "2. 'RUS2'\n",
       "3. 'NOR3'\n",
       "4. 'RIC4'\n",
       "5. 'GAS5'\n",
       "6. 'ALO6'\n",
       "7. 'VER7'\n",
       "8. 'DEV8'\n",
       "9. 'ZHO9'\n",
       "10. 'LAT10'\n",
       "11. 'VET11'\n",
       "12. 'STR12'\n",
       "13. 'PER13'\n",
       "14. 'OCO14'\n",
       "15. 'BOT15'\n",
       "16. 'MAG16'\n",
       "17. 'MSC17'\n",
       "18. 'SAI18'\n",
       "19. 'HAM19'\n",
       "20. 'TSU20'\n",
       "\n",
       "\n"
      ],
      "text/plain": [
       " [1] \"LEC1\"  \"RUS2\"  \"NOR3\"  \"RIC4\"  \"GAS5\"  \"ALO6\"  \"VER7\"  \"DEV8\"  \"ZHO9\" \n",
       "[10] \"LAT10\" \"VET11\" \"STR12\" \"PER13\" \"OCO14\" \"BOT15\" \"MAG16\" \"MSC17\" \"SAI18\"\n",
       "[19] \"HAM19\" \"TSU20\""
      ]
     },
     "metadata": {},
     "output_type": "display_data"
    }
   ],
   "source": [
    "namespos"
   ]
  },
  {
   "cell_type": "code",
   "execution_count": 173,
   "id": "ddd88014",
   "metadata": {},
   "outputs": [],
   "source": [
    "col = c(0:20)"
   ]
  },
  {
   "cell_type": "code",
   "execution_count": 174,
   "id": "5b6176d6",
   "metadata": {},
   "outputs": [],
   "source": [
    "names(scores_df_header) <- col"
   ]
  },
  {
   "cell_type": "code",
   "execution_count": 175,
   "id": "0d1528f2",
   "metadata": {},
   "outputs": [
    {
     "data": {
      "text/html": [
       "<style>\n",
       ".list-inline {list-style: none; margin:0; padding: 0}\n",
       ".list-inline>li {display: inline-block}\n",
       ".list-inline>li:not(:last-child)::after {content: \"\\00b7\"; padding: 0 .5ex}\n",
       "</style>\n",
       "<ol class=list-inline><li>1</li><li>2</li><li>3</li><li>4</li><li>5</li><li>6</li><li>7</li><li>8</li><li>9</li><li>10</li><li>11</li><li>12</li><li>13</li><li>14</li><li>15</li><li>16</li><li>17</li><li>18</li><li>19</li><li>20</li></ol>\n"
      ],
      "text/latex": [
       "\\begin{enumerate*}\n",
       "\\item 1\n",
       "\\item 2\n",
       "\\item 3\n",
       "\\item 4\n",
       "\\item 5\n",
       "\\item 6\n",
       "\\item 7\n",
       "\\item 8\n",
       "\\item 9\n",
       "\\item 10\n",
       "\\item 11\n",
       "\\item 12\n",
       "\\item 13\n",
       "\\item 14\n",
       "\\item 15\n",
       "\\item 16\n",
       "\\item 17\n",
       "\\item 18\n",
       "\\item 19\n",
       "\\item 20\n",
       "\\end{enumerate*}\n"
      ],
      "text/markdown": [
       "1. 1\n",
       "2. 2\n",
       "3. 3\n",
       "4. 4\n",
       "5. 5\n",
       "6. 6\n",
       "7. 7\n",
       "8. 8\n",
       "9. 9\n",
       "10. 10\n",
       "11. 11\n",
       "12. 12\n",
       "13. 13\n",
       "14. 14\n",
       "15. 15\n",
       "16. 16\n",
       "17. 17\n",
       "18. 18\n",
       "19. 19\n",
       "20. 20\n",
       "\n",
       "\n"
      ],
      "text/plain": [
       " [1]  1  2  3  4  5  6  7  8  9 10 11 12 13 14 15 16 17 18 19 20"
      ]
     },
     "metadata": {},
     "output_type": "display_data"
    }
   ],
   "source": [
    "names_pos"
   ]
  },
  {
   "cell_type": "code",
   "execution_count": 176,
   "id": "74bbdb4b",
   "metadata": {},
   "outputs": [
    {
     "name": "stderr",
     "output_type": "stream",
     "text": [
      "The following `from` values were not present in `x`: RUS2, NOR3, RIC4, GAS5, ALO6, VER7, DEV8, ZHO9, LAT10, VET11, STR12, PER13, OCO14, BOT15, MAG16, MSC17, SAI18, HAM19, TSU20\n",
      "\n",
      "The following `from` values were not present in `x`: LEC1, NOR3, RIC4, GAS5, ALO6, VER7, DEV8, ZHO9, LAT10, VET11, STR12, PER13, OCO14, BOT15, MAG16, MSC17, SAI18, HAM19, TSU20\n",
      "\n",
      "The following `from` values were not present in `x`: LEC1, RUS2, RIC4, GAS5, ALO6, VER7, DEV8, ZHO9, LAT10, VET11, STR12, PER13, OCO14, BOT15, MAG16, MSC17, SAI18, HAM19, TSU20\n",
      "\n",
      "The following `from` values were not present in `x`: LEC1, RUS2, NOR3, GAS5, ALO6, VER7, DEV8, ZHO9, LAT10, VET11, STR12, PER13, OCO14, BOT15, MAG16, MSC17, SAI18, HAM19, TSU20\n",
      "\n",
      "The following `from` values were not present in `x`: LEC1, RUS2, NOR3, RIC4, ALO6, VER7, DEV8, ZHO9, LAT10, VET11, STR12, PER13, OCO14, BOT15, MAG16, MSC17, SAI18, HAM19, TSU20\n",
      "\n",
      "The following `from` values were not present in `x`: LEC1, RUS2, NOR3, RIC4, GAS5, VER7, DEV8, ZHO9, LAT10, VET11, STR12, PER13, OCO14, BOT15, MAG16, MSC17, SAI18, HAM19, TSU20\n",
      "\n",
      "The following `from` values were not present in `x`: LEC1, RUS2, NOR3, RIC4, GAS5, ALO6, DEV8, ZHO9, LAT10, VET11, STR12, PER13, OCO14, BOT15, MAG16, MSC17, SAI18, HAM19, TSU20\n",
      "\n",
      "The following `from` values were not present in `x`: LEC1, RUS2, NOR3, RIC4, GAS5, ALO6, VER7, ZHO9, LAT10, VET11, STR12, PER13, OCO14, BOT15, MAG16, MSC17, SAI18, HAM19, TSU20\n",
      "\n",
      "The following `from` values were not present in `x`: LEC1, RUS2, NOR3, RIC4, GAS5, ALO6, VER7, DEV8, LAT10, VET11, STR12, PER13, OCO14, BOT15, MAG16, MSC17, SAI18, HAM19, TSU20\n",
      "\n",
      "The following `from` values were not present in `x`: LEC1, RUS2, NOR3, RIC4, GAS5, ALO6, VER7, DEV8, ZHO9, VET11, STR12, PER13, OCO14, BOT15, MAG16, MSC17, SAI18, HAM19, TSU20\n",
      "\n",
      "The following `from` values were not present in `x`: LEC1, RUS2, NOR3, RIC4, GAS5, ALO6, VER7, DEV8, ZHO9, LAT10, STR12, PER13, OCO14, BOT15, MAG16, MSC17, SAI18, HAM19, TSU20\n",
      "\n",
      "The following `from` values were not present in `x`: LEC1, RUS2, NOR3, RIC4, GAS5, ALO6, VER7, DEV8, ZHO9, LAT10, VET11, PER13, OCO14, BOT15, MAG16, MSC17, SAI18, HAM19, TSU20\n",
      "\n",
      "The following `from` values were not present in `x`: LEC1, RUS2, NOR3, RIC4, GAS5, ALO6, VER7, DEV8, ZHO9, LAT10, VET11, STR12, OCO14, BOT15, MAG16, MSC17, SAI18, HAM19, TSU20\n",
      "\n",
      "The following `from` values were not present in `x`: LEC1, RUS2, NOR3, RIC4, GAS5, ALO6, VER7, DEV8, ZHO9, LAT10, VET11, STR12, PER13, BOT15, MAG16, MSC17, SAI18, HAM19, TSU20\n",
      "\n",
      "The following `from` values were not present in `x`: LEC1, RUS2, NOR3, RIC4, GAS5, ALO6, VER7, DEV8, ZHO9, LAT10, VET11, STR12, PER13, OCO14, MAG16, MSC17, SAI18, HAM19, TSU20\n",
      "\n",
      "The following `from` values were not present in `x`: LEC1, RUS2, NOR3, RIC4, GAS5, ALO6, VER7, DEV8, ZHO9, LAT10, VET11, STR12, PER13, OCO14, BOT15, MSC17, SAI18, HAM19, TSU20\n",
      "\n",
      "The following `from` values were not present in `x`: LEC1, RUS2, NOR3, RIC4, GAS5, ALO6, VER7, DEV8, ZHO9, LAT10, VET11, STR12, PER13, OCO14, BOT15, MAG16, SAI18, HAM19, TSU20\n",
      "\n",
      "The following `from` values were not present in `x`: LEC1, RUS2, NOR3, RIC4, GAS5, ALO6, VER7, DEV8, ZHO9, LAT10, VET11, STR12, PER13, OCO14, BOT15, MAG16, MSC17, HAM19, TSU20\n",
      "\n",
      "The following `from` values were not present in `x`: LEC1, RUS2, NOR3, RIC4, GAS5, ALO6, VER7, DEV8, ZHO9, LAT10, VET11, STR12, PER13, OCO14, BOT15, MAG16, MSC17, SAI18, TSU20\n",
      "\n",
      "The following `from` values were not present in `x`: LEC1, RUS2, NOR3, RIC4, GAS5, ALO6, VER7, DEV8, ZHO9, LAT10, VET11, STR12, PER13, OCO14, BOT15, MAG16, MSC17, SAI18, HAM19\n",
      "\n"
     ]
    }
   ],
   "source": [
    "for (i in 2:21){\n",
    "    scores_df_header[[i]] <- mapvalues(scores_df_header[[i]], from = namespos, to = names)\n",
    "}"
   ]
  },
  {
   "cell_type": "code",
   "execution_count": 177,
   "id": "0748a48d",
   "metadata": {},
   "outputs": [
    {
     "data": {
      "text/html": [
       "<table class=\"dataframe\">\n",
       "<caption>A tibble: 54 × 21</caption>\n",
       "<thead>\n",
       "\t<tr><th scope=col>0</th><th scope=col>1</th><th scope=col>2</th><th scope=col>3</th><th scope=col>4</th><th scope=col>5</th><th scope=col>6</th><th scope=col>7</th><th scope=col>8</th><th scope=col>9</th><th scope=col>...</th><th scope=col>11</th><th scope=col>12</th><th scope=col>13</th><th scope=col>14</th><th scope=col>15</th><th scope=col>16</th><th scope=col>17</th><th scope=col>18</th><th scope=col>19</th><th scope=col>20</th></tr>\n",
       "\t<tr><th scope=col>&lt;int&gt;</th><th scope=col>&lt;chr&gt;</th><th scope=col>&lt;chr&gt;</th><th scope=col>&lt;chr&gt;</th><th scope=col>&lt;chr&gt;</th><th scope=col>&lt;chr&gt;</th><th scope=col>&lt;chr&gt;</th><th scope=col>&lt;chr&gt;</th><th scope=col>&lt;chr&gt;</th><th scope=col>&lt;chr&gt;</th><th scope=col>...</th><th scope=col>&lt;chr&gt;</th><th scope=col>&lt;chr&gt;</th><th scope=col>&lt;chr&gt;</th><th scope=col>&lt;chr&gt;</th><th scope=col>&lt;chr&gt;</th><th scope=col>&lt;chr&gt;</th><th scope=col>&lt;chr&gt;</th><th scope=col>&lt;chr&gt;</th><th scope=col>&lt;chr&gt;</th><th scope=col>&lt;chr&gt;</th></tr>\n",
       "</thead>\n",
       "<tbody>\n",
       "\t<tr><td>NA</td><td>LEC</td><td>RUS</td><td>NOR</td><td>RIC</td><td>GAS</td><td>ALO</td><td>VER</td><td>DEV</td><td>ZHO</td><td>...</td><td>VET</td><td>STR</td><td>PER</td><td>OCO</td><td>BOT</td><td>MAG</td><td>MSC</td><td>SAI</td><td>HAM</td><td>TSU</td></tr>\n",
       "\t<tr><td> 1</td><td>LEC</td><td>RUS</td><td>RIC</td><td>VER</td><td>GAS</td><td>NOR</td><td>ALO</td><td>DEV</td><td>ZHO</td><td>...</td><td>STR</td><td>MAG</td><td>OCO</td><td>LAT</td><td>PER</td><td>SAI</td><td>MSC</td><td>TSU</td><td>HAM</td><td>BOT</td></tr>\n",
       "\t<tr><td> 2</td><td>LEC</td><td>RUS</td><td>VER</td><td>RIC</td><td>GAS</td><td>NOR</td><td>ALO</td><td>DEV</td><td>ZHO</td><td>...</td><td>VET</td><td>OCO</td><td>MAG</td><td>SAI</td><td>LAT</td><td>PER</td><td>TSU</td><td>HAM</td><td>MSC</td><td>BOT</td></tr>\n",
       "\t<tr><td> 3</td><td>LEC</td><td>RUS</td><td>VER</td><td>RIC</td><td>GAS</td><td>NOR</td><td>ALO</td><td>DEV</td><td>ZHO</td><td>...</td><td>VET</td><td>OCO</td><td>MAG</td><td>SAI</td><td>PER</td><td>LAT</td><td>TSU</td><td>HAM</td><td>MSC</td><td>BOT</td></tr>\n",
       "\t<tr><td> 4</td><td>LEC</td><td>RUS</td><td>VER</td><td>RIC</td><td>GAS</td><td>NOR</td><td>ALO</td><td>DEV</td><td>ZHO</td><td>...</td><td>VET</td><td>OCO</td><td>SAI</td><td>PER</td><td>MAG</td><td>LAT</td><td>TSU</td><td>HAM</td><td>MSC</td><td>BOT</td></tr>\n",
       "\t<tr><td> 5</td><td>LEC</td><td>VER</td><td>RUS</td><td>RIC</td><td>GAS</td><td>NOR</td><td>ALO</td><td>DEV</td><td>ZHO</td><td>...</td><td>SAI</td><td>VET</td><td>OCO</td><td>PER</td><td>MAG</td><td>LAT</td><td>TSU</td><td>HAM</td><td>MSC</td><td>BOT</td></tr>\n",
       "\t<tr><td> 6</td><td>LEC</td><td>VER</td><td>RUS</td><td>RIC</td><td>GAS</td><td>NOR</td><td>ALO</td><td>DEV</td><td>ZHO</td><td>...</td><td>STR</td><td>VET</td><td>PER</td><td>OCO</td><td>MAG</td><td>LAT</td><td>TSU</td><td>HAM</td><td>MSC</td><td>BOT</td></tr>\n",
       "\t<tr><td> 7</td><td>LEC</td><td>VER</td><td>RUS</td><td>RIC</td><td>GAS</td><td>NOR</td><td>ALO</td><td>DEV</td><td>ZHO</td><td>...</td><td>STR</td><td>VET</td><td>OCO</td><td>MAG</td><td>TSU</td><td>LAT</td><td>HAM</td><td>PER</td><td>MSC</td><td>BOT</td></tr>\n",
       "\t<tr><td> 8</td><td>LEC</td><td>VER</td><td>RUS</td><td>RIC</td><td>GAS</td><td>NOR</td><td>ALO</td><td>DEV</td><td>SAI</td><td>...</td><td>STR</td><td>VET</td><td>OCO</td><td>TSU</td><td>MAG</td><td>HAM</td><td>LAT</td><td>MSC</td><td>BOT</td><td>PER</td></tr>\n",
       "\t<tr><td> 9</td><td>LEC</td><td>VER</td><td>RUS</td><td>RIC</td><td>GAS</td><td>NOR</td><td>ALO</td><td>SAI</td><td>DEV</td><td>...</td><td>STR</td><td>VET</td><td>OCO</td><td>TSU</td><td>HAM</td><td>MAG</td><td>LAT</td><td>MSC</td><td>BOT</td><td>PER</td></tr>\n",
       "\t<tr><td>10</td><td>LEC</td><td>VER</td><td>RUS</td><td>RIC</td><td>GAS</td><td>NOR</td><td>SAI</td><td>ALO</td><td>DEV</td><td>...</td><td>STR</td><td>OCO</td><td>VET</td><td>TSU</td><td>HAM</td><td>MAG</td><td>LAT</td><td>MSC</td><td>BOT</td><td>PER</td></tr>\n",
       "\t<tr><td>11</td><td>LEC</td><td>VER</td><td>RUS</td><td>RIC</td><td>GAS</td><td>SAI</td><td>NOR</td><td>ALO</td><td>DEV</td><td>...</td><td>STR</td><td>OCO</td><td>HAM</td><td>TSU</td><td>MAG</td><td>LAT</td><td>MSC</td><td>BOT</td><td>PER</td><td>   </td></tr>\n",
       "\t<tr><td>12</td><td>VER</td><td>LEC</td><td>RUS</td><td>RIC</td><td>SAI</td><td>GAS</td><td>NOR</td><td>ALO</td><td>DEV</td><td>...</td><td>STR</td><td>OCO</td><td>HAM</td><td>TSU</td><td>MAG</td><td>LAT</td><td>MSC</td><td>BOT</td><td>PER</td><td>   </td></tr>\n",
       "\t<tr><td>13</td><td>VER</td><td>RUS</td><td>LEC</td><td>SAI</td><td>RIC</td><td>GAS</td><td>ALO</td><td>NOR</td><td>DEV</td><td>...</td><td>STR</td><td>OCO</td><td>HAM</td><td>TSU</td><td>LAT</td><td>MAG</td><td>MSC</td><td>BOT</td><td>PER</td><td>   </td></tr>\n",
       "\t<tr><td>14</td><td>VER</td><td>RUS</td><td>LEC</td><td>SAI</td><td>RIC</td><td>GAS</td><td>ALO</td><td>NOR</td><td>DEV</td><td>...</td><td>STR</td><td>OCO</td><td>HAM</td><td>TSU</td><td>LAT</td><td>MAG</td><td>MSC</td><td>BOT</td><td>PER</td><td>   </td></tr>\n",
       "\t<tr><td>15</td><td>VER</td><td>RUS</td><td>LEC</td><td>SAI</td><td>RIC</td><td>GAS</td><td>ALO</td><td>NOR</td><td>DEV</td><td>...</td><td>STR</td><td>OCO</td><td>HAM</td><td>TSU</td><td>MAG</td><td>MSC</td><td>BOT</td><td>LAT</td><td>PER</td><td>   </td></tr>\n",
       "\t<tr><td>16</td><td>VER</td><td>RUS</td><td>LEC</td><td>SAI</td><td>RIC</td><td>GAS</td><td>ALO</td><td>NOR</td><td>DEV</td><td>...</td><td>STR</td><td>HAM</td><td>OCO</td><td>TSU</td><td>MSC</td><td>MAG</td><td>BOT</td><td>PER</td><td>LAT</td><td>   </td></tr>\n",
       "\t<tr><td>17</td><td>VER</td><td>RUS</td><td>LEC</td><td>SAI</td><td>RIC</td><td>GAS</td><td>ALO</td><td>NOR</td><td>DEV</td><td>...</td><td>HAM</td><td>STR</td><td>OCO</td><td>TSU</td><td>MSC</td><td>MAG</td><td>BOT</td><td>PER</td><td>LAT</td><td>   </td></tr>\n",
       "\t<tr><td>18</td><td>VER</td><td>RUS</td><td>LEC</td><td>SAI</td><td>RIC</td><td>NOR</td><td>ALO</td><td>DEV</td><td>GAS</td><td>...</td><td>ZHO</td><td>OCO</td><td>TSU</td><td>STR</td><td>MSC</td><td>BOT</td><td>MAG</td><td>PER</td><td>LAT</td><td>   </td></tr>\n",
       "\t<tr><td>19</td><td>VER</td><td>RUS</td><td>LEC</td><td>SAI</td><td>NOR</td><td>ALO</td><td>RIC</td><td>HAM</td><td>DEV</td><td>...</td><td>MSC</td><td>TSU</td><td>BOT</td><td>MAG</td><td>PER</td><td>GAS</td><td>ZHO</td><td>STR</td><td>LAT</td><td>   </td></tr>\n",
       "\t<tr><td>20</td><td>VER</td><td>RUS</td><td>LEC</td><td>SAI</td><td>NOR</td><td>ALO</td><td>HAM</td><td>MSC</td><td>BOT</td><td>...</td><td>MAG</td><td>RIC</td><td>GAS</td><td>DEV</td><td>ZHO</td><td>OCO</td><td>STR</td><td>TSU</td><td>LAT</td><td>   </td></tr>\n",
       "\t<tr><td>21</td><td>VER</td><td>RUS</td><td>LEC</td><td>SAI</td><td>NOR</td><td>ALO</td><td>HAM</td><td>MSC</td><td>BOT</td><td>...</td><td>MAG</td><td>RIC</td><td>GAS</td><td>DEV</td><td>ZHO</td><td>OCO</td><td>TSU</td><td>STR</td><td>LAT</td><td>   </td></tr>\n",
       "\t<tr><td>22</td><td>VER</td><td>RUS</td><td>LEC</td><td>SAI</td><td>NOR</td><td>ALO</td><td>HAM</td><td>MSC</td><td>PER</td><td>...</td><td>MAG</td><td>RIC</td><td>GAS</td><td>DEV</td><td>ZHO</td><td>OCO</td><td>TSU</td><td>STR</td><td>LAT</td><td>   </td></tr>\n",
       "\t<tr><td>23</td><td>VER</td><td>LEC</td><td>RUS</td><td>SAI</td><td>NOR</td><td>ALO</td><td>HAM</td><td>MSC</td><td>PER</td><td>...</td><td>MAG</td><td>RIC</td><td>GAS</td><td>DEV</td><td>ZHO</td><td>OCO</td><td>TSU</td><td>STR</td><td>LAT</td><td>   </td></tr>\n",
       "\t<tr><td>24</td><td>VER</td><td>LEC</td><td>SAI</td><td>RUS</td><td>NOR</td><td>ALO</td><td>HAM</td><td>PER</td><td>MSC</td><td>...</td><td>RIC</td><td>GAS</td><td>DEV</td><td>MAG</td><td>ZHO</td><td>OCO</td><td>TSU</td><td>LAT</td><td>STR</td><td>   </td></tr>\n",
       "\t<tr><td>25</td><td>VER</td><td>LEC</td><td>SAI</td><td>RUS</td><td>NOR</td><td>ALO</td><td>HAM</td><td>PER</td><td>MSC</td><td>...</td><td>RIC</td><td>GAS</td><td>DEV</td><td>ZHO</td><td>OCO</td><td>TSU</td><td>LAT</td><td>STR</td><td>MAG</td><td>   </td></tr>\n",
       "\t<tr><td>26</td><td>LEC</td><td>VER</td><td>SAI</td><td>RUS</td><td>NOR</td><td>ALO</td><td>HAM</td><td>PER</td><td>MSC</td><td>...</td><td>RIC</td><td>GAS</td><td>DEV</td><td>ZHO</td><td>OCO</td><td>TSU</td><td>LAT</td><td>STR</td><td>MAG</td><td>   </td></tr>\n",
       "\t<tr><td>27</td><td>LEC</td><td>VER</td><td>SAI</td><td>RUS</td><td>NOR</td><td>HAM</td><td>ALO</td><td>PER</td><td>MSC</td><td>...</td><td>RIC</td><td>GAS</td><td>DEV</td><td>ZHO</td><td>OCO</td><td>TSU</td><td>LAT</td><td>STR</td><td>MAG</td><td>   </td></tr>\n",
       "\t<tr><td>28</td><td>LEC</td><td>VER</td><td>SAI</td><td>RUS</td><td>NOR</td><td>HAM</td><td>ALO</td><td>PER</td><td>MSC</td><td>...</td><td>RIC</td><td>GAS</td><td>DEV</td><td>ZHO</td><td>OCO</td><td>TSU</td><td>LAT</td><td>STR</td><td>MAG</td><td>   </td></tr>\n",
       "\t<tr><td>29</td><td>LEC</td><td>VER</td><td>SAI</td><td>RUS</td><td>NOR</td><td>HAM</td><td>ALO</td><td>PER</td><td>MSC</td><td>...</td><td>RIC</td><td>GAS</td><td>DEV</td><td>ZHO</td><td>OCO</td><td>TSU</td><td>LAT</td><td>STR</td><td>MAG</td><td>   </td></tr>\n",
       "\t<tr><td>30</td><td>LEC</td><td>VER</td><td>RUS</td><td>SAI</td><td>NOR</td><td>HAM</td><td>ALO</td><td>PER</td><td>MSC</td><td>...</td><td>RIC</td><td>GAS</td><td>DEV</td><td>ZHO</td><td>OCO</td><td>TSU</td><td>LAT</td><td>STR</td><td>MAG</td><td>   </td></tr>\n",
       "\t<tr><td>31</td><td>LEC</td><td>VER</td><td>RUS</td><td>NOR</td><td>HAM</td><td>PER</td><td>SAI</td><td>ALO</td><td>MSC</td><td>...</td><td>RIC</td><td>GAS</td><td>DEV</td><td>ZHO</td><td>OCO</td><td>TSU</td><td>LAT</td><td>STR</td><td>MAG</td><td>   </td></tr>\n",
       "\t<tr><td>32</td><td>LEC</td><td>VER</td><td>RUS</td><td>NOR</td><td>HAM</td><td>PER</td><td>SAI</td><td>MSC</td><td>BOT</td><td>...</td><td>GAS</td><td>DEV</td><td>ZHO</td><td>OCO</td><td>TSU</td><td>LAT</td><td>STR</td><td>MAG</td><td>   </td><td>   </td></tr>\n",
       "\t<tr><td>33</td><td>LEC</td><td>VER</td><td>RUS</td><td>NOR</td><td>SAI</td><td>PER</td><td>HAM</td><td>BOT</td><td>MSC</td><td>...</td><td>GAS</td><td>DEV</td><td>ZHO</td><td>OCO</td><td>TSU</td><td>LAT</td><td>STR</td><td>MAG</td><td>   </td><td>   </td></tr>\n",
       "\t<tr><td>34</td><td>VER</td><td>LEC</td><td>RUS</td><td>NOR</td><td>SAI</td><td>PER</td><td>BOT</td><td>RIC</td><td>GAS</td><td>...</td><td>ZHO</td><td>HAM</td><td>OCO</td><td>TSU</td><td>LAT</td><td>STR</td><td>MSC</td><td>MAG</td><td>   </td><td>   </td></tr>\n",
       "\t<tr><td>35</td><td>VER</td><td>LEC</td><td>RUS</td><td>NOR</td><td>SAI</td><td>PER</td><td>RIC</td><td>GAS</td><td>HAM</td><td>...</td><td>BOT</td><td>ZHO</td><td>OCO</td><td>TSU</td><td>LAT</td><td>MSC</td><td>STR</td><td>MAG</td><td>   </td><td>   </td></tr>\n",
       "\t<tr><td>36</td><td>VER</td><td>LEC</td><td>RUS</td><td>SAI</td><td>PER</td><td>RIC</td><td>HAM</td><td>GAS</td><td>NOR</td><td>...</td><td>ZHO</td><td>OCO</td><td>TSU</td><td>LAT</td><td>MSC</td><td>STR</td><td>BOT</td><td>MAG</td><td>   </td><td>   </td></tr>\n",
       "\t<tr><td>37</td><td>VER</td><td>LEC</td><td>RUS</td><td>SAI</td><td>PER</td><td>HAM</td><td>NOR</td><td>RIC</td><td>GAS</td><td>...</td><td>ZHO</td><td>OCO</td><td>TSU</td><td>LAT</td><td>MSC</td><td>BOT</td><td>STR</td><td>MAG</td><td>   </td><td>   </td></tr>\n",
       "\t<tr><td>38</td><td>VER</td><td>LEC</td><td>RUS</td><td>SAI</td><td>PER</td><td>HAM</td><td>NOR</td><td>RIC</td><td>GAS</td><td>...</td><td>ZHO</td><td>OCO</td><td>TSU</td><td>LAT</td><td>MSC</td><td>BOT</td><td>STR</td><td>MAG</td><td>   </td><td>   </td></tr>\n",
       "\t<tr><td>39</td><td>VER</td><td>LEC</td><td>RUS</td><td>SAI</td><td>PER</td><td>HAM</td><td>NOR</td><td>RIC</td><td>GAS</td><td>...</td><td>ZHO</td><td>OCO</td><td>TSU</td><td>LAT</td><td>MSC</td><td>BOT</td><td>STR</td><td>MAG</td><td>   </td><td>   </td></tr>\n",
       "\t<tr><td>40</td><td>VER</td><td>LEC</td><td>RUS</td><td>SAI</td><td>PER</td><td>HAM</td><td>NOR</td><td>RIC</td><td>GAS</td><td>...</td><td>ZHO</td><td>OCO</td><td>TSU</td><td>LAT</td><td>MSC</td><td>BOT</td><td>MAG</td><td>   </td><td>   </td><td>   </td></tr>\n",
       "\t<tr><td>41</td><td>VER</td><td>LEC</td><td>RUS</td><td>SAI</td><td>PER</td><td>HAM</td><td>NOR</td><td>RIC</td><td>GAS</td><td>...</td><td>ZHO</td><td>OCO</td><td>TSU</td><td>MSC</td><td>LAT</td><td>BOT</td><td>MAG</td><td>   </td><td>   </td><td>   </td></tr>\n",
       "\t<tr><td>42</td><td>VER</td><td>LEC</td><td>RUS</td><td>SAI</td><td>PER</td><td>HAM</td><td>NOR</td><td>RIC</td><td>GAS</td><td>...</td><td>ZHO</td><td>OCO</td><td>TSU</td><td>MSC</td><td>BOT</td><td>LAT</td><td>MAG</td><td>   </td><td>   </td><td>   </td></tr>\n",
       "\t<tr><td>43</td><td>VER</td><td>LEC</td><td>RUS</td><td>SAI</td><td>HAM</td><td>NOR</td><td>PER</td><td>RIC</td><td>GAS</td><td>...</td><td>ZHO</td><td>OCO</td><td>TSU</td><td>MSC</td><td>BOT</td><td>LAT</td><td>MAG</td><td>   </td><td>   </td><td>   </td></tr>\n",
       "\t<tr><td>44</td><td>VER</td><td>LEC</td><td>RUS</td><td>SAI</td><td>HAM</td><td>NOR</td><td>PER</td><td>RIC</td><td>GAS</td><td>...</td><td>ZHO</td><td>OCO</td><td>TSU</td><td>MSC</td><td>BOT</td><td>LAT</td><td>MAG</td><td>   </td><td>   </td><td>   </td></tr>\n",
       "\t<tr><td>45</td><td>VER</td><td>LEC</td><td>RUS</td><td>SAI</td><td>HAM</td><td>NOR</td><td>PER</td><td>RIC</td><td>GAS</td><td>...</td><td>ZHO</td><td>OCO</td><td>MSC</td><td>TSU</td><td>BOT</td><td>LAT</td><td>MAG</td><td>   </td><td>   </td><td>   </td></tr>\n",
       "\t<tr><td>46</td><td>VER</td><td>LEC</td><td>RUS</td><td>SAI</td><td>HAM</td><td>NOR</td><td>PER</td><td>GAS</td><td>DEV</td><td>...</td><td>OCO</td><td>MSC</td><td>TSU</td><td>BOT</td><td>LAT</td><td>MAG</td><td>   </td><td>   </td><td>   </td><td>   </td></tr>\n",
       "\t<tr><td>47</td><td>VER</td><td>LEC</td><td>RUS</td><td>SAI</td><td>HAM</td><td>NOR</td><td>PER</td><td>GAS</td><td>DEV</td><td>...</td><td>OCO</td><td>MSC</td><td>BOT</td><td>TSU</td><td>LAT</td><td>MAG</td><td>   </td><td>   </td><td>   </td><td>   </td></tr>\n",
       "\t<tr><td>48</td><td>VER</td><td>LEC</td><td>RUS</td><td>SAI</td><td>HAM</td><td>PER</td><td>NOR</td><td>GAS</td><td>DEV</td><td>...</td><td>OCO</td><td>MSC</td><td>BOT</td><td>TSU</td><td>LAT</td><td>MAG</td><td>   </td><td>   </td><td>   </td><td>   </td></tr>\n",
       "\t<tr><td>49</td><td>VER</td><td>LEC</td><td>RUS</td><td>SAI</td><td>HAM</td><td>PER</td><td>NOR</td><td>GAS</td><td>DEV</td><td>...</td><td>OCO</td><td>MSC</td><td>BOT</td><td>TSU</td><td>LAT</td><td>MAG</td><td>   </td><td>   </td><td>   </td><td>   </td></tr>\n",
       "\t<tr><td>50</td><td>VER</td><td>LEC</td><td>RUS</td><td>SAI</td><td>HAM</td><td>PER</td><td>NOR</td><td>GAS</td><td>DEV</td><td>...</td><td>OCO</td><td>MSC</td><td>BOT</td><td>TSU</td><td>LAT</td><td>MAG</td><td>   </td><td>   </td><td>   </td><td>   </td></tr>\n",
       "\t<tr><td>51</td><td>VER</td><td>LEC</td><td>RUS</td><td>SAI</td><td>HAM</td><td>PER</td><td>NOR</td><td>GAS</td><td>DEV</td><td>...</td><td>OCO</td><td>MSC</td><td>BOT</td><td>TSU</td><td>LAT</td><td>MAG</td><td>   </td><td>   </td><td>   </td><td>   </td></tr>\n",
       "\t<tr><td>52</td><td>VER</td><td>LEC</td><td>RUS</td><td>SAI</td><td>HAM</td><td>PER</td><td>NOR</td><td>GAS</td><td>DEV</td><td>...</td><td>OCO</td><td>MSC</td><td>BOT</td><td>TSU</td><td>LAT</td><td>MAG</td><td>   </td><td>   </td><td>   </td><td>   </td></tr>\n",
       "\t<tr><td>53</td><td>VER</td><td>LEC</td><td>RUS</td><td>SAI</td><td>HAM</td><td>PER</td><td>NOR</td><td>GAS</td><td>DEV</td><td>...</td><td>OCO</td><td>MSC</td><td>   </td><td>   </td><td>   </td><td>   </td><td>   </td><td>   </td><td>   </td><td>   </td></tr>\n",
       "</tbody>\n",
       "</table>\n"
      ],
      "text/latex": [
       "A tibble: 54 × 21\n",
       "\\begin{tabular}{lllllllllllllllllllll}\n",
       " 0 & 1 & 2 & 3 & 4 & 5 & 6 & 7 & 8 & 9 & ... & 11 & 12 & 13 & 14 & 15 & 16 & 17 & 18 & 19 & 20\\\\\n",
       " <int> & <chr> & <chr> & <chr> & <chr> & <chr> & <chr> & <chr> & <chr> & <chr> & ... & <chr> & <chr> & <chr> & <chr> & <chr> & <chr> & <chr> & <chr> & <chr> & <chr>\\\\\n",
       "\\hline\n",
       "\t NA & LEC & RUS & NOR & RIC & GAS & ALO & VER & DEV & ZHO & ... & VET & STR & PER & OCO & BOT & MAG & MSC & SAI & HAM & TSU\\\\\n",
       "\t  1 & LEC & RUS & RIC & VER & GAS & NOR & ALO & DEV & ZHO & ... & STR & MAG & OCO & LAT & PER & SAI & MSC & TSU & HAM & BOT\\\\\n",
       "\t  2 & LEC & RUS & VER & RIC & GAS & NOR & ALO & DEV & ZHO & ... & VET & OCO & MAG & SAI & LAT & PER & TSU & HAM & MSC & BOT\\\\\n",
       "\t  3 & LEC & RUS & VER & RIC & GAS & NOR & ALO & DEV & ZHO & ... & VET & OCO & MAG & SAI & PER & LAT & TSU & HAM & MSC & BOT\\\\\n",
       "\t  4 & LEC & RUS & VER & RIC & GAS & NOR & ALO & DEV & ZHO & ... & VET & OCO & SAI & PER & MAG & LAT & TSU & HAM & MSC & BOT\\\\\n",
       "\t  5 & LEC & VER & RUS & RIC & GAS & NOR & ALO & DEV & ZHO & ... & SAI & VET & OCO & PER & MAG & LAT & TSU & HAM & MSC & BOT\\\\\n",
       "\t  6 & LEC & VER & RUS & RIC & GAS & NOR & ALO & DEV & ZHO & ... & STR & VET & PER & OCO & MAG & LAT & TSU & HAM & MSC & BOT\\\\\n",
       "\t  7 & LEC & VER & RUS & RIC & GAS & NOR & ALO & DEV & ZHO & ... & STR & VET & OCO & MAG & TSU & LAT & HAM & PER & MSC & BOT\\\\\n",
       "\t  8 & LEC & VER & RUS & RIC & GAS & NOR & ALO & DEV & SAI & ... & STR & VET & OCO & TSU & MAG & HAM & LAT & MSC & BOT & PER\\\\\n",
       "\t  9 & LEC & VER & RUS & RIC & GAS & NOR & ALO & SAI & DEV & ... & STR & VET & OCO & TSU & HAM & MAG & LAT & MSC & BOT & PER\\\\\n",
       "\t 10 & LEC & VER & RUS & RIC & GAS & NOR & SAI & ALO & DEV & ... & STR & OCO & VET & TSU & HAM & MAG & LAT & MSC & BOT & PER\\\\\n",
       "\t 11 & LEC & VER & RUS & RIC & GAS & SAI & NOR & ALO & DEV & ... & STR & OCO & HAM & TSU & MAG & LAT & MSC & BOT & PER &    \\\\\n",
       "\t 12 & VER & LEC & RUS & RIC & SAI & GAS & NOR & ALO & DEV & ... & STR & OCO & HAM & TSU & MAG & LAT & MSC & BOT & PER &    \\\\\n",
       "\t 13 & VER & RUS & LEC & SAI & RIC & GAS & ALO & NOR & DEV & ... & STR & OCO & HAM & TSU & LAT & MAG & MSC & BOT & PER &    \\\\\n",
       "\t 14 & VER & RUS & LEC & SAI & RIC & GAS & ALO & NOR & DEV & ... & STR & OCO & HAM & TSU & LAT & MAG & MSC & BOT & PER &    \\\\\n",
       "\t 15 & VER & RUS & LEC & SAI & RIC & GAS & ALO & NOR & DEV & ... & STR & OCO & HAM & TSU & MAG & MSC & BOT & LAT & PER &    \\\\\n",
       "\t 16 & VER & RUS & LEC & SAI & RIC & GAS & ALO & NOR & DEV & ... & STR & HAM & OCO & TSU & MSC & MAG & BOT & PER & LAT &    \\\\\n",
       "\t 17 & VER & RUS & LEC & SAI & RIC & GAS & ALO & NOR & DEV & ... & HAM & STR & OCO & TSU & MSC & MAG & BOT & PER & LAT &    \\\\\n",
       "\t 18 & VER & RUS & LEC & SAI & RIC & NOR & ALO & DEV & GAS & ... & ZHO & OCO & TSU & STR & MSC & BOT & MAG & PER & LAT &    \\\\\n",
       "\t 19 & VER & RUS & LEC & SAI & NOR & ALO & RIC & HAM & DEV & ... & MSC & TSU & BOT & MAG & PER & GAS & ZHO & STR & LAT &    \\\\\n",
       "\t 20 & VER & RUS & LEC & SAI & NOR & ALO & HAM & MSC & BOT & ... & MAG & RIC & GAS & DEV & ZHO & OCO & STR & TSU & LAT &    \\\\\n",
       "\t 21 & VER & RUS & LEC & SAI & NOR & ALO & HAM & MSC & BOT & ... & MAG & RIC & GAS & DEV & ZHO & OCO & TSU & STR & LAT &    \\\\\n",
       "\t 22 & VER & RUS & LEC & SAI & NOR & ALO & HAM & MSC & PER & ... & MAG & RIC & GAS & DEV & ZHO & OCO & TSU & STR & LAT &    \\\\\n",
       "\t 23 & VER & LEC & RUS & SAI & NOR & ALO & HAM & MSC & PER & ... & MAG & RIC & GAS & DEV & ZHO & OCO & TSU & STR & LAT &    \\\\\n",
       "\t 24 & VER & LEC & SAI & RUS & NOR & ALO & HAM & PER & MSC & ... & RIC & GAS & DEV & MAG & ZHO & OCO & TSU & LAT & STR &    \\\\\n",
       "\t 25 & VER & LEC & SAI & RUS & NOR & ALO & HAM & PER & MSC & ... & RIC & GAS & DEV & ZHO & OCO & TSU & LAT & STR & MAG &    \\\\\n",
       "\t 26 & LEC & VER & SAI & RUS & NOR & ALO & HAM & PER & MSC & ... & RIC & GAS & DEV & ZHO & OCO & TSU & LAT & STR & MAG &    \\\\\n",
       "\t 27 & LEC & VER & SAI & RUS & NOR & HAM & ALO & PER & MSC & ... & RIC & GAS & DEV & ZHO & OCO & TSU & LAT & STR & MAG &    \\\\\n",
       "\t 28 & LEC & VER & SAI & RUS & NOR & HAM & ALO & PER & MSC & ... & RIC & GAS & DEV & ZHO & OCO & TSU & LAT & STR & MAG &    \\\\\n",
       "\t 29 & LEC & VER & SAI & RUS & NOR & HAM & ALO & PER & MSC & ... & RIC & GAS & DEV & ZHO & OCO & TSU & LAT & STR & MAG &    \\\\\n",
       "\t 30 & LEC & VER & RUS & SAI & NOR & HAM & ALO & PER & MSC & ... & RIC & GAS & DEV & ZHO & OCO & TSU & LAT & STR & MAG &    \\\\\n",
       "\t 31 & LEC & VER & RUS & NOR & HAM & PER & SAI & ALO & MSC & ... & RIC & GAS & DEV & ZHO & OCO & TSU & LAT & STR & MAG &    \\\\\n",
       "\t 32 & LEC & VER & RUS & NOR & HAM & PER & SAI & MSC & BOT & ... & GAS & DEV & ZHO & OCO & TSU & LAT & STR & MAG &     &    \\\\\n",
       "\t 33 & LEC & VER & RUS & NOR & SAI & PER & HAM & BOT & MSC & ... & GAS & DEV & ZHO & OCO & TSU & LAT & STR & MAG &     &    \\\\\n",
       "\t 34 & VER & LEC & RUS & NOR & SAI & PER & BOT & RIC & GAS & ... & ZHO & HAM & OCO & TSU & LAT & STR & MSC & MAG &     &    \\\\\n",
       "\t 35 & VER & LEC & RUS & NOR & SAI & PER & RIC & GAS & HAM & ... & BOT & ZHO & OCO & TSU & LAT & MSC & STR & MAG &     &    \\\\\n",
       "\t 36 & VER & LEC & RUS & SAI & PER & RIC & HAM & GAS & NOR & ... & ZHO & OCO & TSU & LAT & MSC & STR & BOT & MAG &     &    \\\\\n",
       "\t 37 & VER & LEC & RUS & SAI & PER & HAM & NOR & RIC & GAS & ... & ZHO & OCO & TSU & LAT & MSC & BOT & STR & MAG &     &    \\\\\n",
       "\t 38 & VER & LEC & RUS & SAI & PER & HAM & NOR & RIC & GAS & ... & ZHO & OCO & TSU & LAT & MSC & BOT & STR & MAG &     &    \\\\\n",
       "\t 39 & VER & LEC & RUS & SAI & PER & HAM & NOR & RIC & GAS & ... & ZHO & OCO & TSU & LAT & MSC & BOT & STR & MAG &     &    \\\\\n",
       "\t 40 & VER & LEC & RUS & SAI & PER & HAM & NOR & RIC & GAS & ... & ZHO & OCO & TSU & LAT & MSC & BOT & MAG &     &     &    \\\\\n",
       "\t 41 & VER & LEC & RUS & SAI & PER & HAM & NOR & RIC & GAS & ... & ZHO & OCO & TSU & MSC & LAT & BOT & MAG &     &     &    \\\\\n",
       "\t 42 & VER & LEC & RUS & SAI & PER & HAM & NOR & RIC & GAS & ... & ZHO & OCO & TSU & MSC & BOT & LAT & MAG &     &     &    \\\\\n",
       "\t 43 & VER & LEC & RUS & SAI & HAM & NOR & PER & RIC & GAS & ... & ZHO & OCO & TSU & MSC & BOT & LAT & MAG &     &     &    \\\\\n",
       "\t 44 & VER & LEC & RUS & SAI & HAM & NOR & PER & RIC & GAS & ... & ZHO & OCO & TSU & MSC & BOT & LAT & MAG &     &     &    \\\\\n",
       "\t 45 & VER & LEC & RUS & SAI & HAM & NOR & PER & RIC & GAS & ... & ZHO & OCO & MSC & TSU & BOT & LAT & MAG &     &     &    \\\\\n",
       "\t 46 & VER & LEC & RUS & SAI & HAM & NOR & PER & GAS & DEV & ... & OCO & MSC & TSU & BOT & LAT & MAG &     &     &     &    \\\\\n",
       "\t 47 & VER & LEC & RUS & SAI & HAM & NOR & PER & GAS & DEV & ... & OCO & MSC & BOT & TSU & LAT & MAG &     &     &     &    \\\\\n",
       "\t 48 & VER & LEC & RUS & SAI & HAM & PER & NOR & GAS & DEV & ... & OCO & MSC & BOT & TSU & LAT & MAG &     &     &     &    \\\\\n",
       "\t 49 & VER & LEC & RUS & SAI & HAM & PER & NOR & GAS & DEV & ... & OCO & MSC & BOT & TSU & LAT & MAG &     &     &     &    \\\\\n",
       "\t 50 & VER & LEC & RUS & SAI & HAM & PER & NOR & GAS & DEV & ... & OCO & MSC & BOT & TSU & LAT & MAG &     &     &     &    \\\\\n",
       "\t 51 & VER & LEC & RUS & SAI & HAM & PER & NOR & GAS & DEV & ... & OCO & MSC & BOT & TSU & LAT & MAG &     &     &     &    \\\\\n",
       "\t 52 & VER & LEC & RUS & SAI & HAM & PER & NOR & GAS & DEV & ... & OCO & MSC & BOT & TSU & LAT & MAG &     &     &     &    \\\\\n",
       "\t 53 & VER & LEC & RUS & SAI & HAM & PER & NOR & GAS & DEV & ... & OCO & MSC &     &     &     &     &     &     &     &    \\\\\n",
       "\\end{tabular}\n"
      ],
      "text/markdown": [
       "\n",
       "A tibble: 54 × 21\n",
       "\n",
       "| 0 &lt;int&gt; | 1 &lt;chr&gt; | 2 &lt;chr&gt; | 3 &lt;chr&gt; | 4 &lt;chr&gt; | 5 &lt;chr&gt; | 6 &lt;chr&gt; | 7 &lt;chr&gt; | 8 &lt;chr&gt; | 9 &lt;chr&gt; | ... ... | 11 &lt;chr&gt; | 12 &lt;chr&gt; | 13 &lt;chr&gt; | 14 &lt;chr&gt; | 15 &lt;chr&gt; | 16 &lt;chr&gt; | 17 &lt;chr&gt; | 18 &lt;chr&gt; | 19 &lt;chr&gt; | 20 &lt;chr&gt; |\n",
       "|---|---|---|---|---|---|---|---|---|---|---|---|---|---|---|---|---|---|---|---|---|\n",
       "| NA | LEC | RUS | NOR | RIC | GAS | ALO | VER | DEV | ZHO | ... | VET | STR | PER | OCO | BOT | MAG | MSC | SAI | HAM | TSU |\n",
       "|  1 | LEC | RUS | RIC | VER | GAS | NOR | ALO | DEV | ZHO | ... | STR | MAG | OCO | LAT | PER | SAI | MSC | TSU | HAM | BOT |\n",
       "|  2 | LEC | RUS | VER | RIC | GAS | NOR | ALO | DEV | ZHO | ... | VET | OCO | MAG | SAI | LAT | PER | TSU | HAM | MSC | BOT |\n",
       "|  3 | LEC | RUS | VER | RIC | GAS | NOR | ALO | DEV | ZHO | ... | VET | OCO | MAG | SAI | PER | LAT | TSU | HAM | MSC | BOT |\n",
       "|  4 | LEC | RUS | VER | RIC | GAS | NOR | ALO | DEV | ZHO | ... | VET | OCO | SAI | PER | MAG | LAT | TSU | HAM | MSC | BOT |\n",
       "|  5 | LEC | VER | RUS | RIC | GAS | NOR | ALO | DEV | ZHO | ... | SAI | VET | OCO | PER | MAG | LAT | TSU | HAM | MSC | BOT |\n",
       "|  6 | LEC | VER | RUS | RIC | GAS | NOR | ALO | DEV | ZHO | ... | STR | VET | PER | OCO | MAG | LAT | TSU | HAM | MSC | BOT |\n",
       "|  7 | LEC | VER | RUS | RIC | GAS | NOR | ALO | DEV | ZHO | ... | STR | VET | OCO | MAG | TSU | LAT | HAM | PER | MSC | BOT |\n",
       "|  8 | LEC | VER | RUS | RIC | GAS | NOR | ALO | DEV | SAI | ... | STR | VET | OCO | TSU | MAG | HAM | LAT | MSC | BOT | PER |\n",
       "|  9 | LEC | VER | RUS | RIC | GAS | NOR | ALO | SAI | DEV | ... | STR | VET | OCO | TSU | HAM | MAG | LAT | MSC | BOT | PER |\n",
       "| 10 | LEC | VER | RUS | RIC | GAS | NOR | SAI | ALO | DEV | ... | STR | OCO | VET | TSU | HAM | MAG | LAT | MSC | BOT | PER |\n",
       "| 11 | LEC | VER | RUS | RIC | GAS | SAI | NOR | ALO | DEV | ... | STR | OCO | HAM | TSU | MAG | LAT | MSC | BOT | PER | <!----> |\n",
       "| 12 | VER | LEC | RUS | RIC | SAI | GAS | NOR | ALO | DEV | ... | STR | OCO | HAM | TSU | MAG | LAT | MSC | BOT | PER | <!----> |\n",
       "| 13 | VER | RUS | LEC | SAI | RIC | GAS | ALO | NOR | DEV | ... | STR | OCO | HAM | TSU | LAT | MAG | MSC | BOT | PER | <!----> |\n",
       "| 14 | VER | RUS | LEC | SAI | RIC | GAS | ALO | NOR | DEV | ... | STR | OCO | HAM | TSU | LAT | MAG | MSC | BOT | PER | <!----> |\n",
       "| 15 | VER | RUS | LEC | SAI | RIC | GAS | ALO | NOR | DEV | ... | STR | OCO | HAM | TSU | MAG | MSC | BOT | LAT | PER | <!----> |\n",
       "| 16 | VER | RUS | LEC | SAI | RIC | GAS | ALO | NOR | DEV | ... | STR | HAM | OCO | TSU | MSC | MAG | BOT | PER | LAT | <!----> |\n",
       "| 17 | VER | RUS | LEC | SAI | RIC | GAS | ALO | NOR | DEV | ... | HAM | STR | OCO | TSU | MSC | MAG | BOT | PER | LAT | <!----> |\n",
       "| 18 | VER | RUS | LEC | SAI | RIC | NOR | ALO | DEV | GAS | ... | ZHO | OCO | TSU | STR | MSC | BOT | MAG | PER | LAT | <!----> |\n",
       "| 19 | VER | RUS | LEC | SAI | NOR | ALO | RIC | HAM | DEV | ... | MSC | TSU | BOT | MAG | PER | GAS | ZHO | STR | LAT | <!----> |\n",
       "| 20 | VER | RUS | LEC | SAI | NOR | ALO | HAM | MSC | BOT | ... | MAG | RIC | GAS | DEV | ZHO | OCO | STR | TSU | LAT | <!----> |\n",
       "| 21 | VER | RUS | LEC | SAI | NOR | ALO | HAM | MSC | BOT | ... | MAG | RIC | GAS | DEV | ZHO | OCO | TSU | STR | LAT | <!----> |\n",
       "| 22 | VER | RUS | LEC | SAI | NOR | ALO | HAM | MSC | PER | ... | MAG | RIC | GAS | DEV | ZHO | OCO | TSU | STR | LAT | <!----> |\n",
       "| 23 | VER | LEC | RUS | SAI | NOR | ALO | HAM | MSC | PER | ... | MAG | RIC | GAS | DEV | ZHO | OCO | TSU | STR | LAT | <!----> |\n",
       "| 24 | VER | LEC | SAI | RUS | NOR | ALO | HAM | PER | MSC | ... | RIC | GAS | DEV | MAG | ZHO | OCO | TSU | LAT | STR | <!----> |\n",
       "| 25 | VER | LEC | SAI | RUS | NOR | ALO | HAM | PER | MSC | ... | RIC | GAS | DEV | ZHO | OCO | TSU | LAT | STR | MAG | <!----> |\n",
       "| 26 | LEC | VER | SAI | RUS | NOR | ALO | HAM | PER | MSC | ... | RIC | GAS | DEV | ZHO | OCO | TSU | LAT | STR | MAG | <!----> |\n",
       "| 27 | LEC | VER | SAI | RUS | NOR | HAM | ALO | PER | MSC | ... | RIC | GAS | DEV | ZHO | OCO | TSU | LAT | STR | MAG | <!----> |\n",
       "| 28 | LEC | VER | SAI | RUS | NOR | HAM | ALO | PER | MSC | ... | RIC | GAS | DEV | ZHO | OCO | TSU | LAT | STR | MAG | <!----> |\n",
       "| 29 | LEC | VER | SAI | RUS | NOR | HAM | ALO | PER | MSC | ... | RIC | GAS | DEV | ZHO | OCO | TSU | LAT | STR | MAG | <!----> |\n",
       "| 30 | LEC | VER | RUS | SAI | NOR | HAM | ALO | PER | MSC | ... | RIC | GAS | DEV | ZHO | OCO | TSU | LAT | STR | MAG | <!----> |\n",
       "| 31 | LEC | VER | RUS | NOR | HAM | PER | SAI | ALO | MSC | ... | RIC | GAS | DEV | ZHO | OCO | TSU | LAT | STR | MAG | <!----> |\n",
       "| 32 | LEC | VER | RUS | NOR | HAM | PER | SAI | MSC | BOT | ... | GAS | DEV | ZHO | OCO | TSU | LAT | STR | MAG | <!----> | <!----> |\n",
       "| 33 | LEC | VER | RUS | NOR | SAI | PER | HAM | BOT | MSC | ... | GAS | DEV | ZHO | OCO | TSU | LAT | STR | MAG | <!----> | <!----> |\n",
       "| 34 | VER | LEC | RUS | NOR | SAI | PER | BOT | RIC | GAS | ... | ZHO | HAM | OCO | TSU | LAT | STR | MSC | MAG | <!----> | <!----> |\n",
       "| 35 | VER | LEC | RUS | NOR | SAI | PER | RIC | GAS | HAM | ... | BOT | ZHO | OCO | TSU | LAT | MSC | STR | MAG | <!----> | <!----> |\n",
       "| 36 | VER | LEC | RUS | SAI | PER | RIC | HAM | GAS | NOR | ... | ZHO | OCO | TSU | LAT | MSC | STR | BOT | MAG | <!----> | <!----> |\n",
       "| 37 | VER | LEC | RUS | SAI | PER | HAM | NOR | RIC | GAS | ... | ZHO | OCO | TSU | LAT | MSC | BOT | STR | MAG | <!----> | <!----> |\n",
       "| 38 | VER | LEC | RUS | SAI | PER | HAM | NOR | RIC | GAS | ... | ZHO | OCO | TSU | LAT | MSC | BOT | STR | MAG | <!----> | <!----> |\n",
       "| 39 | VER | LEC | RUS | SAI | PER | HAM | NOR | RIC | GAS | ... | ZHO | OCO | TSU | LAT | MSC | BOT | STR | MAG | <!----> | <!----> |\n",
       "| 40 | VER | LEC | RUS | SAI | PER | HAM | NOR | RIC | GAS | ... | ZHO | OCO | TSU | LAT | MSC | BOT | MAG | <!----> | <!----> | <!----> |\n",
       "| 41 | VER | LEC | RUS | SAI | PER | HAM | NOR | RIC | GAS | ... | ZHO | OCO | TSU | MSC | LAT | BOT | MAG | <!----> | <!----> | <!----> |\n",
       "| 42 | VER | LEC | RUS | SAI | PER | HAM | NOR | RIC | GAS | ... | ZHO | OCO | TSU | MSC | BOT | LAT | MAG | <!----> | <!----> | <!----> |\n",
       "| 43 | VER | LEC | RUS | SAI | HAM | NOR | PER | RIC | GAS | ... | ZHO | OCO | TSU | MSC | BOT | LAT | MAG | <!----> | <!----> | <!----> |\n",
       "| 44 | VER | LEC | RUS | SAI | HAM | NOR | PER | RIC | GAS | ... | ZHO | OCO | TSU | MSC | BOT | LAT | MAG | <!----> | <!----> | <!----> |\n",
       "| 45 | VER | LEC | RUS | SAI | HAM | NOR | PER | RIC | GAS | ... | ZHO | OCO | MSC | TSU | BOT | LAT | MAG | <!----> | <!----> | <!----> |\n",
       "| 46 | VER | LEC | RUS | SAI | HAM | NOR | PER | GAS | DEV | ... | OCO | MSC | TSU | BOT | LAT | MAG | <!----> | <!----> | <!----> | <!----> |\n",
       "| 47 | VER | LEC | RUS | SAI | HAM | NOR | PER | GAS | DEV | ... | OCO | MSC | BOT | TSU | LAT | MAG | <!----> | <!----> | <!----> | <!----> |\n",
       "| 48 | VER | LEC | RUS | SAI | HAM | PER | NOR | GAS | DEV | ... | OCO | MSC | BOT | TSU | LAT | MAG | <!----> | <!----> | <!----> | <!----> |\n",
       "| 49 | VER | LEC | RUS | SAI | HAM | PER | NOR | GAS | DEV | ... | OCO | MSC | BOT | TSU | LAT | MAG | <!----> | <!----> | <!----> | <!----> |\n",
       "| 50 | VER | LEC | RUS | SAI | HAM | PER | NOR | GAS | DEV | ... | OCO | MSC | BOT | TSU | LAT | MAG | <!----> | <!----> | <!----> | <!----> |\n",
       "| 51 | VER | LEC | RUS | SAI | HAM | PER | NOR | GAS | DEV | ... | OCO | MSC | BOT | TSU | LAT | MAG | <!----> | <!----> | <!----> | <!----> |\n",
       "| 52 | VER | LEC | RUS | SAI | HAM | PER | NOR | GAS | DEV | ... | OCO | MSC | BOT | TSU | LAT | MAG | <!----> | <!----> | <!----> | <!----> |\n",
       "| 53 | VER | LEC | RUS | SAI | HAM | PER | NOR | GAS | DEV | ... | OCO | MSC | <!----> | <!----> | <!----> | <!----> | <!----> | <!----> | <!----> | <!----> |\n",
       "\n"
      ],
      "text/plain": [
       "   0  1   2   3   4   5   6   7   8   9   ... 11  12  13  14  15  16  17  18 \n",
       "1  NA LEC RUS NOR RIC GAS ALO VER DEV ZHO ... VET STR PER OCO BOT MAG MSC SAI\n",
       "2   1 LEC RUS RIC VER GAS NOR ALO DEV ZHO ... STR MAG OCO LAT PER SAI MSC TSU\n",
       "3   2 LEC RUS VER RIC GAS NOR ALO DEV ZHO ... VET OCO MAG SAI LAT PER TSU HAM\n",
       "4   3 LEC RUS VER RIC GAS NOR ALO DEV ZHO ... VET OCO MAG SAI PER LAT TSU HAM\n",
       "5   4 LEC RUS VER RIC GAS NOR ALO DEV ZHO ... VET OCO SAI PER MAG LAT TSU HAM\n",
       "6   5 LEC VER RUS RIC GAS NOR ALO DEV ZHO ... SAI VET OCO PER MAG LAT TSU HAM\n",
       "7   6 LEC VER RUS RIC GAS NOR ALO DEV ZHO ... STR VET PER OCO MAG LAT TSU HAM\n",
       "8   7 LEC VER RUS RIC GAS NOR ALO DEV ZHO ... STR VET OCO MAG TSU LAT HAM PER\n",
       "9   8 LEC VER RUS RIC GAS NOR ALO DEV SAI ... STR VET OCO TSU MAG HAM LAT MSC\n",
       "10  9 LEC VER RUS RIC GAS NOR ALO SAI DEV ... STR VET OCO TSU HAM MAG LAT MSC\n",
       "11 10 LEC VER RUS RIC GAS NOR SAI ALO DEV ... STR OCO VET TSU HAM MAG LAT MSC\n",
       "12 11 LEC VER RUS RIC GAS SAI NOR ALO DEV ... STR OCO HAM TSU MAG LAT MSC BOT\n",
       "13 12 VER LEC RUS RIC SAI GAS NOR ALO DEV ... STR OCO HAM TSU MAG LAT MSC BOT\n",
       "14 13 VER RUS LEC SAI RIC GAS ALO NOR DEV ... STR OCO HAM TSU LAT MAG MSC BOT\n",
       "15 14 VER RUS LEC SAI RIC GAS ALO NOR DEV ... STR OCO HAM TSU LAT MAG MSC BOT\n",
       "16 15 VER RUS LEC SAI RIC GAS ALO NOR DEV ... STR OCO HAM TSU MAG MSC BOT LAT\n",
       "17 16 VER RUS LEC SAI RIC GAS ALO NOR DEV ... STR HAM OCO TSU MSC MAG BOT PER\n",
       "18 17 VER RUS LEC SAI RIC GAS ALO NOR DEV ... HAM STR OCO TSU MSC MAG BOT PER\n",
       "19 18 VER RUS LEC SAI RIC NOR ALO DEV GAS ... ZHO OCO TSU STR MSC BOT MAG PER\n",
       "20 19 VER RUS LEC SAI NOR ALO RIC HAM DEV ... MSC TSU BOT MAG PER GAS ZHO STR\n",
       "21 20 VER RUS LEC SAI NOR ALO HAM MSC BOT ... MAG RIC GAS DEV ZHO OCO STR TSU\n",
       "22 21 VER RUS LEC SAI NOR ALO HAM MSC BOT ... MAG RIC GAS DEV ZHO OCO TSU STR\n",
       "23 22 VER RUS LEC SAI NOR ALO HAM MSC PER ... MAG RIC GAS DEV ZHO OCO TSU STR\n",
       "24 23 VER LEC RUS SAI NOR ALO HAM MSC PER ... MAG RIC GAS DEV ZHO OCO TSU STR\n",
       "25 24 VER LEC SAI RUS NOR ALO HAM PER MSC ... RIC GAS DEV MAG ZHO OCO TSU LAT\n",
       "26 25 VER LEC SAI RUS NOR ALO HAM PER MSC ... RIC GAS DEV ZHO OCO TSU LAT STR\n",
       "27 26 LEC VER SAI RUS NOR ALO HAM PER MSC ... RIC GAS DEV ZHO OCO TSU LAT STR\n",
       "28 27 LEC VER SAI RUS NOR HAM ALO PER MSC ... RIC GAS DEV ZHO OCO TSU LAT STR\n",
       "29 28 LEC VER SAI RUS NOR HAM ALO PER MSC ... RIC GAS DEV ZHO OCO TSU LAT STR\n",
       "30 29 LEC VER SAI RUS NOR HAM ALO PER MSC ... RIC GAS DEV ZHO OCO TSU LAT STR\n",
       "31 30 LEC VER RUS SAI NOR HAM ALO PER MSC ... RIC GAS DEV ZHO OCO TSU LAT STR\n",
       "32 31 LEC VER RUS NOR HAM PER SAI ALO MSC ... RIC GAS DEV ZHO OCO TSU LAT STR\n",
       "33 32 LEC VER RUS NOR HAM PER SAI MSC BOT ... GAS DEV ZHO OCO TSU LAT STR MAG\n",
       "34 33 LEC VER RUS NOR SAI PER HAM BOT MSC ... GAS DEV ZHO OCO TSU LAT STR MAG\n",
       "35 34 VER LEC RUS NOR SAI PER BOT RIC GAS ... ZHO HAM OCO TSU LAT STR MSC MAG\n",
       "36 35 VER LEC RUS NOR SAI PER RIC GAS HAM ... BOT ZHO OCO TSU LAT MSC STR MAG\n",
       "37 36 VER LEC RUS SAI PER RIC HAM GAS NOR ... ZHO OCO TSU LAT MSC STR BOT MAG\n",
       "38 37 VER LEC RUS SAI PER HAM NOR RIC GAS ... ZHO OCO TSU LAT MSC BOT STR MAG\n",
       "39 38 VER LEC RUS SAI PER HAM NOR RIC GAS ... ZHO OCO TSU LAT MSC BOT STR MAG\n",
       "40 39 VER LEC RUS SAI PER HAM NOR RIC GAS ... ZHO OCO TSU LAT MSC BOT STR MAG\n",
       "41 40 VER LEC RUS SAI PER HAM NOR RIC GAS ... ZHO OCO TSU LAT MSC BOT MAG    \n",
       "42 41 VER LEC RUS SAI PER HAM NOR RIC GAS ... ZHO OCO TSU MSC LAT BOT MAG    \n",
       "43 42 VER LEC RUS SAI PER HAM NOR RIC GAS ... ZHO OCO TSU MSC BOT LAT MAG    \n",
       "44 43 VER LEC RUS SAI HAM NOR PER RIC GAS ... ZHO OCO TSU MSC BOT LAT MAG    \n",
       "45 44 VER LEC RUS SAI HAM NOR PER RIC GAS ... ZHO OCO TSU MSC BOT LAT MAG    \n",
       "46 45 VER LEC RUS SAI HAM NOR PER RIC GAS ... ZHO OCO MSC TSU BOT LAT MAG    \n",
       "47 46 VER LEC RUS SAI HAM NOR PER GAS DEV ... OCO MSC TSU BOT LAT MAG        \n",
       "48 47 VER LEC RUS SAI HAM NOR PER GAS DEV ... OCO MSC BOT TSU LAT MAG        \n",
       "49 48 VER LEC RUS SAI HAM PER NOR GAS DEV ... OCO MSC BOT TSU LAT MAG        \n",
       "50 49 VER LEC RUS SAI HAM PER NOR GAS DEV ... OCO MSC BOT TSU LAT MAG        \n",
       "51 50 VER LEC RUS SAI HAM PER NOR GAS DEV ... OCO MSC BOT TSU LAT MAG        \n",
       "52 51 VER LEC RUS SAI HAM PER NOR GAS DEV ... OCO MSC BOT TSU LAT MAG        \n",
       "53 52 VER LEC RUS SAI HAM PER NOR GAS DEV ... OCO MSC BOT TSU LAT MAG        \n",
       "54 53 VER LEC RUS SAI HAM PER NOR GAS DEV ... OCO MSC                        \n",
       "   19  20 \n",
       "1  HAM TSU\n",
       "2  HAM BOT\n",
       "3  MSC BOT\n",
       "4  MSC BOT\n",
       "5  MSC BOT\n",
       "6  MSC BOT\n",
       "7  MSC BOT\n",
       "8  MSC BOT\n",
       "9  BOT PER\n",
       "10 BOT PER\n",
       "11 BOT PER\n",
       "12 PER    \n",
       "13 PER    \n",
       "14 PER    \n",
       "15 PER    \n",
       "16 PER    \n",
       "17 LAT    \n",
       "18 LAT    \n",
       "19 LAT    \n",
       "20 LAT    \n",
       "21 LAT    \n",
       "22 LAT    \n",
       "23 LAT    \n",
       "24 LAT    \n",
       "25 STR    \n",
       "26 MAG    \n",
       "27 MAG    \n",
       "28 MAG    \n",
       "29 MAG    \n",
       "30 MAG    \n",
       "31 MAG    \n",
       "32 MAG    \n",
       "33        \n",
       "34        \n",
       "35        \n",
       "36        \n",
       "37        \n",
       "38        \n",
       "39        \n",
       "40        \n",
       "41        \n",
       "42        \n",
       "43        \n",
       "44        \n",
       "45        \n",
       "46        \n",
       "47        \n",
       "48        \n",
       "49        \n",
       "50        \n",
       "51        \n",
       "52        \n",
       "53        \n",
       "54        "
      ]
     },
     "metadata": {},
     "output_type": "display_data"
    }
   ],
   "source": [
    "scores_df_header"
   ]
  },
  {
   "cell_type": "code",
   "execution_count": 168,
   "id": "7cef3d74",
   "metadata": {},
   "outputs": [
    {
     "name": "stderr",
     "output_type": "stream",
     "text": [
      "The following `from` values were not present in `x`: LEC, RUS, NOR, RIC, GAS, ALO, VER, DEV, ZHO, LAT, VET, STR, PER, OCO, BOT, MAG, MSC, SAI, HAM, TSU\n",
      "\n",
      "The following `from` values were not present in `x`: LEC, RUS, NOR, RIC, GAS, ALO, VER, DEV, ZHO, LAT, VET, STR, PER, OCO, BOT, MAG, MSC, SAI, HAM, TSU\n",
      "\n",
      "The following `from` values were not present in `x`: LEC, RUS, NOR, RIC, GAS, ALO, VER, DEV, ZHO, LAT, VET, STR, PER, OCO, BOT, MAG, MSC, SAI, HAM, TSU\n",
      "\n",
      "The following `from` values were not present in `x`: LEC, RUS, NOR, RIC, GAS, ALO, VER, DEV, ZHO, LAT, VET, STR, PER, OCO, BOT, MAG, MSC, SAI, HAM, TSU\n",
      "\n",
      "The following `from` values were not present in `x`: LEC, RUS, NOR, RIC, GAS, ALO, VER, DEV, ZHO, LAT, VET, STR, PER, OCO, BOT, MAG, MSC, SAI, HAM, TSU\n",
      "\n",
      "The following `from` values were not present in `x`: LEC, RUS, NOR, RIC, GAS, ALO, VER, DEV, ZHO, LAT, VET, STR, PER, OCO, BOT, MAG, MSC, SAI, HAM, TSU\n",
      "\n",
      "The following `from` values were not present in `x`: LEC, RUS, NOR, RIC, GAS, ALO, VER, DEV, ZHO, LAT, VET, STR, PER, OCO, BOT, MAG, MSC, SAI, HAM, TSU\n",
      "\n",
      "The following `from` values were not present in `x`: LEC, RUS, NOR, RIC, GAS, ALO, VER, DEV, ZHO, LAT, VET, STR, PER, OCO, BOT, MAG, MSC, SAI, HAM, TSU\n",
      "\n",
      "The following `from` values were not present in `x`: LEC, RUS, NOR, RIC, GAS, ALO, VER, DEV, ZHO, LAT, VET, STR, PER, OCO, BOT, MAG, MSC, SAI, HAM, TSU\n",
      "\n",
      "The following `from` values were not present in `x`: LEC, RUS, NOR, RIC, GAS, ALO, VER, DEV, ZHO, LAT, VET, STR, PER, OCO, BOT, MAG, MSC, SAI, HAM, TSU\n",
      "\n",
      "The following `from` values were not present in `x`: LEC, RUS, NOR, RIC, GAS, ALO, VER, DEV, ZHO, LAT, VET, STR, PER, OCO, BOT, MAG, MSC, SAI, HAM, TSU\n",
      "\n",
      "The following `from` values were not present in `x`: LEC, RUS, NOR, RIC, GAS, ALO, VER, DEV, ZHO, LAT, VET, STR, PER, OCO, BOT, MAG, MSC, SAI, HAM, TSU\n",
      "\n",
      "The following `from` values were not present in `x`: LEC, RUS, NOR, RIC, GAS, ALO, VER, DEV, ZHO, LAT, VET, STR, PER, OCO, BOT, MAG, MSC, SAI, HAM, TSU\n",
      "\n",
      "The following `from` values were not present in `x`: LEC, RUS, NOR, RIC, GAS, ALO, VER, DEV, ZHO, LAT, VET, STR, PER, OCO, BOT, MAG, MSC, SAI, HAM, TSU\n",
      "\n",
      "The following `from` values were not present in `x`: LEC, RUS, NOR, RIC, GAS, ALO, VER, DEV, ZHO, LAT, VET, STR, PER, OCO, BOT, MAG, MSC, SAI, HAM, TSU\n",
      "\n",
      "The following `from` values were not present in `x`: LEC, RUS, NOR, RIC, GAS, ALO, VER, DEV, ZHO, LAT, VET, STR, PER, OCO, BOT, MAG, MSC, SAI, HAM, TSU\n",
      "\n",
      "The following `from` values were not present in `x`: LEC, RUS, NOR, RIC, GAS, ALO, VER, DEV, ZHO, LAT, VET, STR, PER, OCO, BOT, MAG, MSC, SAI, HAM, TSU\n",
      "\n",
      "The following `from` values were not present in `x`: LEC, RUS, NOR, RIC, GAS, ALO, VER, DEV, ZHO, LAT, VET, STR, PER, OCO, BOT, MAG, MSC, SAI, HAM, TSU\n",
      "\n",
      "The following `from` values were not present in `x`: LEC, RUS, NOR, RIC, GAS, ALO, VER, DEV, ZHO, LAT, VET, STR, PER, OCO, BOT, MAG, MSC, SAI, HAM, TSU\n",
      "\n",
      "The following `from` values were not present in `x`: LEC, RUS, NOR, RIC, GAS, ALO, VER, DEV, ZHO, LAT, VET, STR, OCO, MAG, MSC, SAI, HAM\n",
      "\n"
     ]
    }
   ],
   "source": [
    "for (i in 2:21){\n",
    "    scores_df_header[[i]] <- mapvalues(scores_df_header[[i]], from = names, to = names_pos)\n",
    "}"
   ]
  },
  {
   "cell_type": "code",
   "execution_count": 169,
   "id": "d2022de1",
   "metadata": {},
   "outputs": [
    {
     "data": {
      "text/html": [
       "<style>\n",
       ".list-inline {list-style: none; margin:0; padding: 0}\n",
       ".list-inline>li {display: inline-block}\n",
       ".list-inline>li:not(:last-child)::after {content: \"\\00b7\"; padding: 0 .5ex}\n",
       "</style>\n",
       "<ol class=list-inline><li>'LEC'</li><li>'RUS'</li><li>'NOR'</li><li>'RIC'</li><li>'GAS'</li><li>'ALO'</li><li>'VER'</li><li>'DEV'</li><li>'ZHO'</li><li>'LAT'</li><li>'VET'</li><li>'STR'</li><li>'PER'</li><li>'OCO'</li><li>'BOT'</li><li>'MAG'</li><li>'MSC'</li><li>'SAI'</li><li>'HAM'</li><li>'TSU'</li></ol>\n"
      ],
      "text/latex": [
       "\\begin{enumerate*}\n",
       "\\item 'LEC'\n",
       "\\item 'RUS'\n",
       "\\item 'NOR'\n",
       "\\item 'RIC'\n",
       "\\item 'GAS'\n",
       "\\item 'ALO'\n",
       "\\item 'VER'\n",
       "\\item 'DEV'\n",
       "\\item 'ZHO'\n",
       "\\item 'LAT'\n",
       "\\item 'VET'\n",
       "\\item 'STR'\n",
       "\\item 'PER'\n",
       "\\item 'OCO'\n",
       "\\item 'BOT'\n",
       "\\item 'MAG'\n",
       "\\item 'MSC'\n",
       "\\item 'SAI'\n",
       "\\item 'HAM'\n",
       "\\item 'TSU'\n",
       "\\end{enumerate*}\n"
      ],
      "text/markdown": [
       "1. 'LEC'\n",
       "2. 'RUS'\n",
       "3. 'NOR'\n",
       "4. 'RIC'\n",
       "5. 'GAS'\n",
       "6. 'ALO'\n",
       "7. 'VER'\n",
       "8. 'DEV'\n",
       "9. 'ZHO'\n",
       "10. 'LAT'\n",
       "11. 'VET'\n",
       "12. 'STR'\n",
       "13. 'PER'\n",
       "14. 'OCO'\n",
       "15. 'BOT'\n",
       "16. 'MAG'\n",
       "17. 'MSC'\n",
       "18. 'SAI'\n",
       "19. 'HAM'\n",
       "20. 'TSU'\n",
       "\n",
       "\n"
      ],
      "text/plain": [
       " [1] \"LEC\" \"RUS\" \"NOR\" \"RIC\" \"GAS\" \"ALO\" \"VER\" \"DEV\" \"ZHO\" \"LAT\" \"VET\" \"STR\"\n",
       "[13] \"PER\" \"OCO\" \"BOT\" \"MAG\" \"MSC\" \"SAI\" \"HAM\" \"TSU\""
      ]
     },
     "metadata": {},
     "output_type": "display_data"
    }
   ],
   "source": [
    "names"
   ]
  },
  {
   "cell_type": "code",
   "execution_count": 170,
   "id": "93bb2d02",
   "metadata": {},
   "outputs": [
    {
     "data": {
      "text/html": [
       "<style>\n",
       ".list-inline {list-style: none; margin:0; padding: 0}\n",
       ".list-inline>li {display: inline-block}\n",
       ".list-inline>li:not(:last-child)::after {content: \"\\00b7\"; padding: 0 .5ex}\n",
       "</style>\n",
       "<ol class=list-inline><li>1</li><li>2</li><li>3</li><li>4</li><li>5</li><li>6</li><li>7</li><li>8</li><li>9</li><li>10</li><li>11</li><li>12</li><li>13</li><li>14</li><li>15</li><li>16</li><li>17</li><li>18</li><li>19</li><li>20</li></ol>\n"
      ],
      "text/latex": [
       "\\begin{enumerate*}\n",
       "\\item 1\n",
       "\\item 2\n",
       "\\item 3\n",
       "\\item 4\n",
       "\\item 5\n",
       "\\item 6\n",
       "\\item 7\n",
       "\\item 8\n",
       "\\item 9\n",
       "\\item 10\n",
       "\\item 11\n",
       "\\item 12\n",
       "\\item 13\n",
       "\\item 14\n",
       "\\item 15\n",
       "\\item 16\n",
       "\\item 17\n",
       "\\item 18\n",
       "\\item 19\n",
       "\\item 20\n",
       "\\end{enumerate*}\n"
      ],
      "text/markdown": [
       "1. 1\n",
       "2. 2\n",
       "3. 3\n",
       "4. 4\n",
       "5. 5\n",
       "6. 6\n",
       "7. 7\n",
       "8. 8\n",
       "9. 9\n",
       "10. 10\n",
       "11. 11\n",
       "12. 12\n",
       "13. 13\n",
       "14. 14\n",
       "15. 15\n",
       "16. 16\n",
       "17. 17\n",
       "18. 18\n",
       "19. 19\n",
       "20. 20\n",
       "\n",
       "\n"
      ],
      "text/plain": [
       " [1]  1  2  3  4  5  6  7  8  9 10 11 12 13 14 15 16 17 18 19 20"
      ]
     },
     "metadata": {},
     "output_type": "display_data"
    }
   ],
   "source": [
    "names_pos"
   ]
  },
  {
   "cell_type": "code",
   "execution_count": 171,
   "id": "3714cf3f",
   "metadata": {},
   "outputs": [
    {
     "data": {
      "text/html": [
       "<table class=\"dataframe\">\n",
       "<caption>A tibble: 54 × 21</caption>\n",
       "<thead>\n",
       "\t<tr><th scope=col>0</th><th scope=col>1</th><th scope=col>2</th><th scope=col>3</th><th scope=col>4</th><th scope=col>5</th><th scope=col>6</th><th scope=col>7</th><th scope=col>8</th><th scope=col>9</th><th scope=col>...</th><th scope=col>11</th><th scope=col>12</th><th scope=col>13</th><th scope=col>14</th><th scope=col>15</th><th scope=col>16</th><th scope=col>17</th><th scope=col>18</th><th scope=col>19</th><th scope=col>20</th></tr>\n",
       "\t<tr><th scope=col>&lt;int&gt;</th><th scope=col>&lt;chr&gt;</th><th scope=col>&lt;chr&gt;</th><th scope=col>&lt;chr&gt;</th><th scope=col>&lt;chr&gt;</th><th scope=col>&lt;chr&gt;</th><th scope=col>&lt;chr&gt;</th><th scope=col>&lt;chr&gt;</th><th scope=col>&lt;chr&gt;</th><th scope=col>&lt;chr&gt;</th><th scope=col>...</th><th scope=col>&lt;chr&gt;</th><th scope=col>&lt;chr&gt;</th><th scope=col>&lt;chr&gt;</th><th scope=col>&lt;chr&gt;</th><th scope=col>&lt;chr&gt;</th><th scope=col>&lt;chr&gt;</th><th scope=col>&lt;chr&gt;</th><th scope=col>&lt;chr&gt;</th><th scope=col>&lt;chr&gt;</th><th scope=col>&lt;chr&gt;</th></tr>\n",
       "</thead>\n",
       "<tbody>\n",
       "\t<tr><td>NA</td><td>1</td><td>2</td><td>3 </td><td>4 </td><td>5 </td><td>6 </td><td>7 </td><td>8 </td><td>9 </td><td>...</td><td>11</td><td>12</td><td>13</td><td>14</td><td>15</td><td>16</td><td>17</td><td>18</td><td>19</td><td>20</td></tr>\n",
       "\t<tr><td> 1</td><td>1</td><td>2</td><td>4 </td><td>7 </td><td>5 </td><td>3 </td><td>6 </td><td>8 </td><td>9 </td><td>...</td><td>12</td><td>16</td><td>14</td><td>10</td><td>13</td><td>18</td><td>17</td><td>20</td><td>19</td><td>15</td></tr>\n",
       "\t<tr><td> 2</td><td>1</td><td>2</td><td>7 </td><td>4 </td><td>5 </td><td>3 </td><td>6 </td><td>8 </td><td>9 </td><td>...</td><td>11</td><td>14</td><td>16</td><td>18</td><td>10</td><td>13</td><td>20</td><td>19</td><td>17</td><td>15</td></tr>\n",
       "\t<tr><td> 3</td><td>1</td><td>2</td><td>7 </td><td>4 </td><td>5 </td><td>3 </td><td>6 </td><td>8 </td><td>9 </td><td>...</td><td>11</td><td>14</td><td>16</td><td>18</td><td>13</td><td>10</td><td>20</td><td>19</td><td>17</td><td>15</td></tr>\n",
       "\t<tr><td> 4</td><td>1</td><td>2</td><td>7 </td><td>4 </td><td>5 </td><td>3 </td><td>6 </td><td>8 </td><td>9 </td><td>...</td><td>11</td><td>14</td><td>18</td><td>13</td><td>16</td><td>10</td><td>20</td><td>19</td><td>17</td><td>15</td></tr>\n",
       "\t<tr><td> 5</td><td>1</td><td>7</td><td>2 </td><td>4 </td><td>5 </td><td>3 </td><td>6 </td><td>8 </td><td>9 </td><td>...</td><td>18</td><td>11</td><td>14</td><td>13</td><td>16</td><td>10</td><td>20</td><td>19</td><td>17</td><td>15</td></tr>\n",
       "\t<tr><td> 6</td><td>1</td><td>7</td><td>2 </td><td>4 </td><td>5 </td><td>3 </td><td>6 </td><td>8 </td><td>9 </td><td>...</td><td>12</td><td>11</td><td>13</td><td>14</td><td>16</td><td>10</td><td>20</td><td>19</td><td>17</td><td>15</td></tr>\n",
       "\t<tr><td> 7</td><td>1</td><td>7</td><td>2 </td><td>4 </td><td>5 </td><td>3 </td><td>6 </td><td>8 </td><td>9 </td><td>...</td><td>12</td><td>11</td><td>14</td><td>16</td><td>20</td><td>10</td><td>19</td><td>13</td><td>17</td><td>15</td></tr>\n",
       "\t<tr><td> 8</td><td>1</td><td>7</td><td>2 </td><td>4 </td><td>5 </td><td>3 </td><td>6 </td><td>8 </td><td>18</td><td>...</td><td>12</td><td>11</td><td>14</td><td>20</td><td>16</td><td>19</td><td>10</td><td>17</td><td>15</td><td>13</td></tr>\n",
       "\t<tr><td> 9</td><td>1</td><td>7</td><td>2 </td><td>4 </td><td>5 </td><td>3 </td><td>6 </td><td>18</td><td>8 </td><td>...</td><td>12</td><td>11</td><td>14</td><td>20</td><td>19</td><td>16</td><td>10</td><td>17</td><td>15</td><td>13</td></tr>\n",
       "\t<tr><td>10</td><td>1</td><td>7</td><td>2 </td><td>4 </td><td>5 </td><td>3 </td><td>18</td><td>6 </td><td>8 </td><td>...</td><td>12</td><td>14</td><td>11</td><td>20</td><td>19</td><td>16</td><td>10</td><td>17</td><td>15</td><td>13</td></tr>\n",
       "\t<tr><td>11</td><td>1</td><td>7</td><td>2 </td><td>4 </td><td>5 </td><td>18</td><td>3 </td><td>6 </td><td>8 </td><td>...</td><td>12</td><td>14</td><td>19</td><td>20</td><td>16</td><td>10</td><td>17</td><td>15</td><td>13</td><td>  </td></tr>\n",
       "\t<tr><td>12</td><td>7</td><td>1</td><td>2 </td><td>4 </td><td>18</td><td>5 </td><td>3 </td><td>6 </td><td>8 </td><td>...</td><td>12</td><td>14</td><td>19</td><td>20</td><td>16</td><td>10</td><td>17</td><td>15</td><td>13</td><td>  </td></tr>\n",
       "\t<tr><td>13</td><td>7</td><td>2</td><td>1 </td><td>18</td><td>4 </td><td>5 </td><td>6 </td><td>3 </td><td>8 </td><td>...</td><td>12</td><td>14</td><td>19</td><td>20</td><td>10</td><td>16</td><td>17</td><td>15</td><td>13</td><td>  </td></tr>\n",
       "\t<tr><td>14</td><td>7</td><td>2</td><td>1 </td><td>18</td><td>4 </td><td>5 </td><td>6 </td><td>3 </td><td>8 </td><td>...</td><td>12</td><td>14</td><td>19</td><td>20</td><td>10</td><td>16</td><td>17</td><td>15</td><td>13</td><td>  </td></tr>\n",
       "\t<tr><td>15</td><td>7</td><td>2</td><td>1 </td><td>18</td><td>4 </td><td>5 </td><td>6 </td><td>3 </td><td>8 </td><td>...</td><td>12</td><td>14</td><td>19</td><td>20</td><td>16</td><td>17</td><td>15</td><td>10</td><td>13</td><td>  </td></tr>\n",
       "\t<tr><td>16</td><td>7</td><td>2</td><td>1 </td><td>18</td><td>4 </td><td>5 </td><td>6 </td><td>3 </td><td>8 </td><td>...</td><td>12</td><td>19</td><td>14</td><td>20</td><td>17</td><td>16</td><td>15</td><td>13</td><td>10</td><td>  </td></tr>\n",
       "\t<tr><td>17</td><td>7</td><td>2</td><td>1 </td><td>18</td><td>4 </td><td>5 </td><td>6 </td><td>3 </td><td>8 </td><td>...</td><td>19</td><td>12</td><td>14</td><td>20</td><td>17</td><td>16</td><td>15</td><td>13</td><td>10</td><td>  </td></tr>\n",
       "\t<tr><td>18</td><td>7</td><td>2</td><td>1 </td><td>18</td><td>4 </td><td>3 </td><td>6 </td><td>8 </td><td>5 </td><td>...</td><td>9 </td><td>14</td><td>20</td><td>12</td><td>17</td><td>15</td><td>16</td><td>13</td><td>10</td><td>  </td></tr>\n",
       "\t<tr><td>19</td><td>7</td><td>2</td><td>1 </td><td>18</td><td>3 </td><td>6 </td><td>4 </td><td>19</td><td>8 </td><td>...</td><td>17</td><td>20</td><td>15</td><td>16</td><td>13</td><td>5 </td><td>9 </td><td>12</td><td>10</td><td>  </td></tr>\n",
       "\t<tr><td>20</td><td>7</td><td>2</td><td>1 </td><td>18</td><td>3 </td><td>6 </td><td>19</td><td>17</td><td>15</td><td>...</td><td>16</td><td>4 </td><td>5 </td><td>8 </td><td>9 </td><td>14</td><td>12</td><td>20</td><td>10</td><td>  </td></tr>\n",
       "\t<tr><td>21</td><td>7</td><td>2</td><td>1 </td><td>18</td><td>3 </td><td>6 </td><td>19</td><td>17</td><td>15</td><td>...</td><td>16</td><td>4 </td><td>5 </td><td>8 </td><td>9 </td><td>14</td><td>20</td><td>12</td><td>10</td><td>  </td></tr>\n",
       "\t<tr><td>22</td><td>7</td><td>2</td><td>1 </td><td>18</td><td>3 </td><td>6 </td><td>19</td><td>17</td><td>13</td><td>...</td><td>16</td><td>4 </td><td>5 </td><td>8 </td><td>9 </td><td>14</td><td>20</td><td>12</td><td>10</td><td>  </td></tr>\n",
       "\t<tr><td>23</td><td>7</td><td>1</td><td>2 </td><td>18</td><td>3 </td><td>6 </td><td>19</td><td>17</td><td>13</td><td>...</td><td>16</td><td>4 </td><td>5 </td><td>8 </td><td>9 </td><td>14</td><td>20</td><td>12</td><td>10</td><td>  </td></tr>\n",
       "\t<tr><td>24</td><td>7</td><td>1</td><td>18</td><td>2 </td><td>3 </td><td>6 </td><td>19</td><td>13</td><td>17</td><td>...</td><td>4 </td><td>5 </td><td>8 </td><td>16</td><td>9 </td><td>14</td><td>20</td><td>10</td><td>12</td><td>  </td></tr>\n",
       "\t<tr><td>25</td><td>7</td><td>1</td><td>18</td><td>2 </td><td>3 </td><td>6 </td><td>19</td><td>13</td><td>17</td><td>...</td><td>4 </td><td>5 </td><td>8 </td><td>9 </td><td>14</td><td>20</td><td>10</td><td>12</td><td>16</td><td>  </td></tr>\n",
       "\t<tr><td>26</td><td>1</td><td>7</td><td>18</td><td>2 </td><td>3 </td><td>6 </td><td>19</td><td>13</td><td>17</td><td>...</td><td>4 </td><td>5 </td><td>8 </td><td>9 </td><td>14</td><td>20</td><td>10</td><td>12</td><td>16</td><td>  </td></tr>\n",
       "\t<tr><td>27</td><td>1</td><td>7</td><td>18</td><td>2 </td><td>3 </td><td>19</td><td>6 </td><td>13</td><td>17</td><td>...</td><td>4 </td><td>5 </td><td>8 </td><td>9 </td><td>14</td><td>20</td><td>10</td><td>12</td><td>16</td><td>  </td></tr>\n",
       "\t<tr><td>28</td><td>1</td><td>7</td><td>18</td><td>2 </td><td>3 </td><td>19</td><td>6 </td><td>13</td><td>17</td><td>...</td><td>4 </td><td>5 </td><td>8 </td><td>9 </td><td>14</td><td>20</td><td>10</td><td>12</td><td>16</td><td>  </td></tr>\n",
       "\t<tr><td>29</td><td>1</td><td>7</td><td>18</td><td>2 </td><td>3 </td><td>19</td><td>6 </td><td>13</td><td>17</td><td>...</td><td>4 </td><td>5 </td><td>8 </td><td>9 </td><td>14</td><td>20</td><td>10</td><td>12</td><td>16</td><td>  </td></tr>\n",
       "\t<tr><td>30</td><td>1</td><td>7</td><td>2 </td><td>18</td><td>3 </td><td>19</td><td>6 </td><td>13</td><td>17</td><td>...</td><td>4 </td><td>5 </td><td>8 </td><td>9 </td><td>14</td><td>20</td><td>10</td><td>12</td><td>16</td><td>  </td></tr>\n",
       "\t<tr><td>31</td><td>1</td><td>7</td><td>2 </td><td>3 </td><td>19</td><td>13</td><td>18</td><td>6 </td><td>17</td><td>...</td><td>4 </td><td>5 </td><td>8 </td><td>9 </td><td>14</td><td>20</td><td>10</td><td>12</td><td>16</td><td>  </td></tr>\n",
       "\t<tr><td>32</td><td>1</td><td>7</td><td>2 </td><td>3 </td><td>19</td><td>13</td><td>18</td><td>17</td><td>15</td><td>...</td><td>5 </td><td>8 </td><td>9 </td><td>14</td><td>20</td><td>10</td><td>12</td><td>16</td><td>  </td><td>  </td></tr>\n",
       "\t<tr><td>33</td><td>1</td><td>7</td><td>2 </td><td>3 </td><td>18</td><td>13</td><td>19</td><td>15</td><td>17</td><td>...</td><td>5 </td><td>8 </td><td>9 </td><td>14</td><td>20</td><td>10</td><td>12</td><td>16</td><td>  </td><td>  </td></tr>\n",
       "\t<tr><td>34</td><td>7</td><td>1</td><td>2 </td><td>3 </td><td>18</td><td>13</td><td>15</td><td>4 </td><td>5 </td><td>...</td><td>9 </td><td>19</td><td>14</td><td>20</td><td>10</td><td>12</td><td>17</td><td>16</td><td>  </td><td>  </td></tr>\n",
       "\t<tr><td>35</td><td>7</td><td>1</td><td>2 </td><td>3 </td><td>18</td><td>13</td><td>4 </td><td>5 </td><td>19</td><td>...</td><td>15</td><td>9 </td><td>14</td><td>20</td><td>10</td><td>17</td><td>12</td><td>16</td><td>  </td><td>  </td></tr>\n",
       "\t<tr><td>36</td><td>7</td><td>1</td><td>2 </td><td>18</td><td>13</td><td>4 </td><td>19</td><td>5 </td><td>3 </td><td>...</td><td>9 </td><td>14</td><td>20</td><td>10</td><td>17</td><td>12</td><td>15</td><td>16</td><td>  </td><td>  </td></tr>\n",
       "\t<tr><td>37</td><td>7</td><td>1</td><td>2 </td><td>18</td><td>13</td><td>19</td><td>3 </td><td>4 </td><td>5 </td><td>...</td><td>9 </td><td>14</td><td>20</td><td>10</td><td>17</td><td>15</td><td>12</td><td>16</td><td>  </td><td>  </td></tr>\n",
       "\t<tr><td>38</td><td>7</td><td>1</td><td>2 </td><td>18</td><td>13</td><td>19</td><td>3 </td><td>4 </td><td>5 </td><td>...</td><td>9 </td><td>14</td><td>20</td><td>10</td><td>17</td><td>15</td><td>12</td><td>16</td><td>  </td><td>  </td></tr>\n",
       "\t<tr><td>39</td><td>7</td><td>1</td><td>2 </td><td>18</td><td>13</td><td>19</td><td>3 </td><td>4 </td><td>5 </td><td>...</td><td>9 </td><td>14</td><td>20</td><td>10</td><td>17</td><td>15</td><td>12</td><td>16</td><td>  </td><td>  </td></tr>\n",
       "\t<tr><td>40</td><td>7</td><td>1</td><td>2 </td><td>18</td><td>13</td><td>19</td><td>3 </td><td>4 </td><td>5 </td><td>...</td><td>9 </td><td>14</td><td>20</td><td>10</td><td>17</td><td>15</td><td>16</td><td>  </td><td>  </td><td>  </td></tr>\n",
       "\t<tr><td>41</td><td>7</td><td>1</td><td>2 </td><td>18</td><td>13</td><td>19</td><td>3 </td><td>4 </td><td>5 </td><td>...</td><td>9 </td><td>14</td><td>20</td><td>17</td><td>10</td><td>15</td><td>16</td><td>  </td><td>  </td><td>  </td></tr>\n",
       "\t<tr><td>42</td><td>7</td><td>1</td><td>2 </td><td>18</td><td>13</td><td>19</td><td>3 </td><td>4 </td><td>5 </td><td>...</td><td>9 </td><td>14</td><td>20</td><td>17</td><td>15</td><td>10</td><td>16</td><td>  </td><td>  </td><td>  </td></tr>\n",
       "\t<tr><td>43</td><td>7</td><td>1</td><td>2 </td><td>18</td><td>19</td><td>3 </td><td>13</td><td>4 </td><td>5 </td><td>...</td><td>9 </td><td>14</td><td>20</td><td>17</td><td>15</td><td>10</td><td>16</td><td>  </td><td>  </td><td>  </td></tr>\n",
       "\t<tr><td>44</td><td>7</td><td>1</td><td>2 </td><td>18</td><td>19</td><td>3 </td><td>13</td><td>4 </td><td>5 </td><td>...</td><td>9 </td><td>14</td><td>20</td><td>17</td><td>15</td><td>10</td><td>16</td><td>  </td><td>  </td><td>  </td></tr>\n",
       "\t<tr><td>45</td><td>7</td><td>1</td><td>2 </td><td>18</td><td>19</td><td>3 </td><td>13</td><td>4 </td><td>5 </td><td>...</td><td>9 </td><td>14</td><td>17</td><td>20</td><td>15</td><td>10</td><td>16</td><td>  </td><td>  </td><td>  </td></tr>\n",
       "\t<tr><td>46</td><td>7</td><td>1</td><td>2 </td><td>18</td><td>19</td><td>3 </td><td>13</td><td>5 </td><td>8 </td><td>...</td><td>14</td><td>17</td><td>20</td><td>15</td><td>10</td><td>16</td><td>  </td><td>  </td><td>  </td><td>  </td></tr>\n",
       "\t<tr><td>47</td><td>7</td><td>1</td><td>2 </td><td>18</td><td>19</td><td>3 </td><td>13</td><td>5 </td><td>8 </td><td>...</td><td>14</td><td>17</td><td>15</td><td>20</td><td>10</td><td>16</td><td>  </td><td>  </td><td>  </td><td>  </td></tr>\n",
       "\t<tr><td>48</td><td>7</td><td>1</td><td>2 </td><td>18</td><td>19</td><td>13</td><td>3 </td><td>5 </td><td>8 </td><td>...</td><td>14</td><td>17</td><td>15</td><td>20</td><td>10</td><td>16</td><td>  </td><td>  </td><td>  </td><td>  </td></tr>\n",
       "\t<tr><td>49</td><td>7</td><td>1</td><td>2 </td><td>18</td><td>19</td><td>13</td><td>3 </td><td>5 </td><td>8 </td><td>...</td><td>14</td><td>17</td><td>15</td><td>20</td><td>10</td><td>16</td><td>  </td><td>  </td><td>  </td><td>  </td></tr>\n",
       "\t<tr><td>50</td><td>7</td><td>1</td><td>2 </td><td>18</td><td>19</td><td>13</td><td>3 </td><td>5 </td><td>8 </td><td>...</td><td>14</td><td>17</td><td>15</td><td>20</td><td>10</td><td>16</td><td>  </td><td>  </td><td>  </td><td>  </td></tr>\n",
       "\t<tr><td>51</td><td>7</td><td>1</td><td>2 </td><td>18</td><td>19</td><td>13</td><td>3 </td><td>5 </td><td>8 </td><td>...</td><td>14</td><td>17</td><td>15</td><td>20</td><td>10</td><td>16</td><td>  </td><td>  </td><td>  </td><td>  </td></tr>\n",
       "\t<tr><td>52</td><td>7</td><td>1</td><td>2 </td><td>18</td><td>19</td><td>13</td><td>3 </td><td>5 </td><td>8 </td><td>...</td><td>14</td><td>17</td><td>15</td><td>20</td><td>10</td><td>16</td><td>  </td><td>  </td><td>  </td><td>  </td></tr>\n",
       "\t<tr><td>53</td><td>7</td><td>1</td><td>2 </td><td>18</td><td>19</td><td>13</td><td>3 </td><td>5 </td><td>8 </td><td>...</td><td>14</td><td>17</td><td>  </td><td>  </td><td>  </td><td>  </td><td>  </td><td>  </td><td>  </td><td>  </td></tr>\n",
       "</tbody>\n",
       "</table>\n"
      ],
      "text/latex": [
       "A tibble: 54 × 21\n",
       "\\begin{tabular}{lllllllllllllllllllll}\n",
       " 0 & 1 & 2 & 3 & 4 & 5 & 6 & 7 & 8 & 9 & ... & 11 & 12 & 13 & 14 & 15 & 16 & 17 & 18 & 19 & 20\\\\\n",
       " <int> & <chr> & <chr> & <chr> & <chr> & <chr> & <chr> & <chr> & <chr> & <chr> & ... & <chr> & <chr> & <chr> & <chr> & <chr> & <chr> & <chr> & <chr> & <chr> & <chr>\\\\\n",
       "\\hline\n",
       "\t NA & 1 & 2 & 3  & 4  & 5  & 6  & 7  & 8  & 9  & ... & 11 & 12 & 13 & 14 & 15 & 16 & 17 & 18 & 19 & 20\\\\\n",
       "\t  1 & 1 & 2 & 4  & 7  & 5  & 3  & 6  & 8  & 9  & ... & 12 & 16 & 14 & 10 & 13 & 18 & 17 & 20 & 19 & 15\\\\\n",
       "\t  2 & 1 & 2 & 7  & 4  & 5  & 3  & 6  & 8  & 9  & ... & 11 & 14 & 16 & 18 & 10 & 13 & 20 & 19 & 17 & 15\\\\\n",
       "\t  3 & 1 & 2 & 7  & 4  & 5  & 3  & 6  & 8  & 9  & ... & 11 & 14 & 16 & 18 & 13 & 10 & 20 & 19 & 17 & 15\\\\\n",
       "\t  4 & 1 & 2 & 7  & 4  & 5  & 3  & 6  & 8  & 9  & ... & 11 & 14 & 18 & 13 & 16 & 10 & 20 & 19 & 17 & 15\\\\\n",
       "\t  5 & 1 & 7 & 2  & 4  & 5  & 3  & 6  & 8  & 9  & ... & 18 & 11 & 14 & 13 & 16 & 10 & 20 & 19 & 17 & 15\\\\\n",
       "\t  6 & 1 & 7 & 2  & 4  & 5  & 3  & 6  & 8  & 9  & ... & 12 & 11 & 13 & 14 & 16 & 10 & 20 & 19 & 17 & 15\\\\\n",
       "\t  7 & 1 & 7 & 2  & 4  & 5  & 3  & 6  & 8  & 9  & ... & 12 & 11 & 14 & 16 & 20 & 10 & 19 & 13 & 17 & 15\\\\\n",
       "\t  8 & 1 & 7 & 2  & 4  & 5  & 3  & 6  & 8  & 18 & ... & 12 & 11 & 14 & 20 & 16 & 19 & 10 & 17 & 15 & 13\\\\\n",
       "\t  9 & 1 & 7 & 2  & 4  & 5  & 3  & 6  & 18 & 8  & ... & 12 & 11 & 14 & 20 & 19 & 16 & 10 & 17 & 15 & 13\\\\\n",
       "\t 10 & 1 & 7 & 2  & 4  & 5  & 3  & 18 & 6  & 8  & ... & 12 & 14 & 11 & 20 & 19 & 16 & 10 & 17 & 15 & 13\\\\\n",
       "\t 11 & 1 & 7 & 2  & 4  & 5  & 18 & 3  & 6  & 8  & ... & 12 & 14 & 19 & 20 & 16 & 10 & 17 & 15 & 13 &   \\\\\n",
       "\t 12 & 7 & 1 & 2  & 4  & 18 & 5  & 3  & 6  & 8  & ... & 12 & 14 & 19 & 20 & 16 & 10 & 17 & 15 & 13 &   \\\\\n",
       "\t 13 & 7 & 2 & 1  & 18 & 4  & 5  & 6  & 3  & 8  & ... & 12 & 14 & 19 & 20 & 10 & 16 & 17 & 15 & 13 &   \\\\\n",
       "\t 14 & 7 & 2 & 1  & 18 & 4  & 5  & 6  & 3  & 8  & ... & 12 & 14 & 19 & 20 & 10 & 16 & 17 & 15 & 13 &   \\\\\n",
       "\t 15 & 7 & 2 & 1  & 18 & 4  & 5  & 6  & 3  & 8  & ... & 12 & 14 & 19 & 20 & 16 & 17 & 15 & 10 & 13 &   \\\\\n",
       "\t 16 & 7 & 2 & 1  & 18 & 4  & 5  & 6  & 3  & 8  & ... & 12 & 19 & 14 & 20 & 17 & 16 & 15 & 13 & 10 &   \\\\\n",
       "\t 17 & 7 & 2 & 1  & 18 & 4  & 5  & 6  & 3  & 8  & ... & 19 & 12 & 14 & 20 & 17 & 16 & 15 & 13 & 10 &   \\\\\n",
       "\t 18 & 7 & 2 & 1  & 18 & 4  & 3  & 6  & 8  & 5  & ... & 9  & 14 & 20 & 12 & 17 & 15 & 16 & 13 & 10 &   \\\\\n",
       "\t 19 & 7 & 2 & 1  & 18 & 3  & 6  & 4  & 19 & 8  & ... & 17 & 20 & 15 & 16 & 13 & 5  & 9  & 12 & 10 &   \\\\\n",
       "\t 20 & 7 & 2 & 1  & 18 & 3  & 6  & 19 & 17 & 15 & ... & 16 & 4  & 5  & 8  & 9  & 14 & 12 & 20 & 10 &   \\\\\n",
       "\t 21 & 7 & 2 & 1  & 18 & 3  & 6  & 19 & 17 & 15 & ... & 16 & 4  & 5  & 8  & 9  & 14 & 20 & 12 & 10 &   \\\\\n",
       "\t 22 & 7 & 2 & 1  & 18 & 3  & 6  & 19 & 17 & 13 & ... & 16 & 4  & 5  & 8  & 9  & 14 & 20 & 12 & 10 &   \\\\\n",
       "\t 23 & 7 & 1 & 2  & 18 & 3  & 6  & 19 & 17 & 13 & ... & 16 & 4  & 5  & 8  & 9  & 14 & 20 & 12 & 10 &   \\\\\n",
       "\t 24 & 7 & 1 & 18 & 2  & 3  & 6  & 19 & 13 & 17 & ... & 4  & 5  & 8  & 16 & 9  & 14 & 20 & 10 & 12 &   \\\\\n",
       "\t 25 & 7 & 1 & 18 & 2  & 3  & 6  & 19 & 13 & 17 & ... & 4  & 5  & 8  & 9  & 14 & 20 & 10 & 12 & 16 &   \\\\\n",
       "\t 26 & 1 & 7 & 18 & 2  & 3  & 6  & 19 & 13 & 17 & ... & 4  & 5  & 8  & 9  & 14 & 20 & 10 & 12 & 16 &   \\\\\n",
       "\t 27 & 1 & 7 & 18 & 2  & 3  & 19 & 6  & 13 & 17 & ... & 4  & 5  & 8  & 9  & 14 & 20 & 10 & 12 & 16 &   \\\\\n",
       "\t 28 & 1 & 7 & 18 & 2  & 3  & 19 & 6  & 13 & 17 & ... & 4  & 5  & 8  & 9  & 14 & 20 & 10 & 12 & 16 &   \\\\\n",
       "\t 29 & 1 & 7 & 18 & 2  & 3  & 19 & 6  & 13 & 17 & ... & 4  & 5  & 8  & 9  & 14 & 20 & 10 & 12 & 16 &   \\\\\n",
       "\t 30 & 1 & 7 & 2  & 18 & 3  & 19 & 6  & 13 & 17 & ... & 4  & 5  & 8  & 9  & 14 & 20 & 10 & 12 & 16 &   \\\\\n",
       "\t 31 & 1 & 7 & 2  & 3  & 19 & 13 & 18 & 6  & 17 & ... & 4  & 5  & 8  & 9  & 14 & 20 & 10 & 12 & 16 &   \\\\\n",
       "\t 32 & 1 & 7 & 2  & 3  & 19 & 13 & 18 & 17 & 15 & ... & 5  & 8  & 9  & 14 & 20 & 10 & 12 & 16 &    &   \\\\\n",
       "\t 33 & 1 & 7 & 2  & 3  & 18 & 13 & 19 & 15 & 17 & ... & 5  & 8  & 9  & 14 & 20 & 10 & 12 & 16 &    &   \\\\\n",
       "\t 34 & 7 & 1 & 2  & 3  & 18 & 13 & 15 & 4  & 5  & ... & 9  & 19 & 14 & 20 & 10 & 12 & 17 & 16 &    &   \\\\\n",
       "\t 35 & 7 & 1 & 2  & 3  & 18 & 13 & 4  & 5  & 19 & ... & 15 & 9  & 14 & 20 & 10 & 17 & 12 & 16 &    &   \\\\\n",
       "\t 36 & 7 & 1 & 2  & 18 & 13 & 4  & 19 & 5  & 3  & ... & 9  & 14 & 20 & 10 & 17 & 12 & 15 & 16 &    &   \\\\\n",
       "\t 37 & 7 & 1 & 2  & 18 & 13 & 19 & 3  & 4  & 5  & ... & 9  & 14 & 20 & 10 & 17 & 15 & 12 & 16 &    &   \\\\\n",
       "\t 38 & 7 & 1 & 2  & 18 & 13 & 19 & 3  & 4  & 5  & ... & 9  & 14 & 20 & 10 & 17 & 15 & 12 & 16 &    &   \\\\\n",
       "\t 39 & 7 & 1 & 2  & 18 & 13 & 19 & 3  & 4  & 5  & ... & 9  & 14 & 20 & 10 & 17 & 15 & 12 & 16 &    &   \\\\\n",
       "\t 40 & 7 & 1 & 2  & 18 & 13 & 19 & 3  & 4  & 5  & ... & 9  & 14 & 20 & 10 & 17 & 15 & 16 &    &    &   \\\\\n",
       "\t 41 & 7 & 1 & 2  & 18 & 13 & 19 & 3  & 4  & 5  & ... & 9  & 14 & 20 & 17 & 10 & 15 & 16 &    &    &   \\\\\n",
       "\t 42 & 7 & 1 & 2  & 18 & 13 & 19 & 3  & 4  & 5  & ... & 9  & 14 & 20 & 17 & 15 & 10 & 16 &    &    &   \\\\\n",
       "\t 43 & 7 & 1 & 2  & 18 & 19 & 3  & 13 & 4  & 5  & ... & 9  & 14 & 20 & 17 & 15 & 10 & 16 &    &    &   \\\\\n",
       "\t 44 & 7 & 1 & 2  & 18 & 19 & 3  & 13 & 4  & 5  & ... & 9  & 14 & 20 & 17 & 15 & 10 & 16 &    &    &   \\\\\n",
       "\t 45 & 7 & 1 & 2  & 18 & 19 & 3  & 13 & 4  & 5  & ... & 9  & 14 & 17 & 20 & 15 & 10 & 16 &    &    &   \\\\\n",
       "\t 46 & 7 & 1 & 2  & 18 & 19 & 3  & 13 & 5  & 8  & ... & 14 & 17 & 20 & 15 & 10 & 16 &    &    &    &   \\\\\n",
       "\t 47 & 7 & 1 & 2  & 18 & 19 & 3  & 13 & 5  & 8  & ... & 14 & 17 & 15 & 20 & 10 & 16 &    &    &    &   \\\\\n",
       "\t 48 & 7 & 1 & 2  & 18 & 19 & 13 & 3  & 5  & 8  & ... & 14 & 17 & 15 & 20 & 10 & 16 &    &    &    &   \\\\\n",
       "\t 49 & 7 & 1 & 2  & 18 & 19 & 13 & 3  & 5  & 8  & ... & 14 & 17 & 15 & 20 & 10 & 16 &    &    &    &   \\\\\n",
       "\t 50 & 7 & 1 & 2  & 18 & 19 & 13 & 3  & 5  & 8  & ... & 14 & 17 & 15 & 20 & 10 & 16 &    &    &    &   \\\\\n",
       "\t 51 & 7 & 1 & 2  & 18 & 19 & 13 & 3  & 5  & 8  & ... & 14 & 17 & 15 & 20 & 10 & 16 &    &    &    &   \\\\\n",
       "\t 52 & 7 & 1 & 2  & 18 & 19 & 13 & 3  & 5  & 8  & ... & 14 & 17 & 15 & 20 & 10 & 16 &    &    &    &   \\\\\n",
       "\t 53 & 7 & 1 & 2  & 18 & 19 & 13 & 3  & 5  & 8  & ... & 14 & 17 &    &    &    &    &    &    &    &   \\\\\n",
       "\\end{tabular}\n"
      ],
      "text/markdown": [
       "\n",
       "A tibble: 54 × 21\n",
       "\n",
       "| 0 &lt;int&gt; | 1 &lt;chr&gt; | 2 &lt;chr&gt; | 3 &lt;chr&gt; | 4 &lt;chr&gt; | 5 &lt;chr&gt; | 6 &lt;chr&gt; | 7 &lt;chr&gt; | 8 &lt;chr&gt; | 9 &lt;chr&gt; | ... ... | 11 &lt;chr&gt; | 12 &lt;chr&gt; | 13 &lt;chr&gt; | 14 &lt;chr&gt; | 15 &lt;chr&gt; | 16 &lt;chr&gt; | 17 &lt;chr&gt; | 18 &lt;chr&gt; | 19 &lt;chr&gt; | 20 &lt;chr&gt; |\n",
       "|---|---|---|---|---|---|---|---|---|---|---|---|---|---|---|---|---|---|---|---|---|\n",
       "| NA | 1 | 2 | 3  | 4  | 5  | 6  | 7  | 8  | 9  | ... | 11 | 12 | 13 | 14 | 15 | 16 | 17 | 18 | 19 | 20 |\n",
       "|  1 | 1 | 2 | 4  | 7  | 5  | 3  | 6  | 8  | 9  | ... | 12 | 16 | 14 | 10 | 13 | 18 | 17 | 20 | 19 | 15 |\n",
       "|  2 | 1 | 2 | 7  | 4  | 5  | 3  | 6  | 8  | 9  | ... | 11 | 14 | 16 | 18 | 10 | 13 | 20 | 19 | 17 | 15 |\n",
       "|  3 | 1 | 2 | 7  | 4  | 5  | 3  | 6  | 8  | 9  | ... | 11 | 14 | 16 | 18 | 13 | 10 | 20 | 19 | 17 | 15 |\n",
       "|  4 | 1 | 2 | 7  | 4  | 5  | 3  | 6  | 8  | 9  | ... | 11 | 14 | 18 | 13 | 16 | 10 | 20 | 19 | 17 | 15 |\n",
       "|  5 | 1 | 7 | 2  | 4  | 5  | 3  | 6  | 8  | 9  | ... | 18 | 11 | 14 | 13 | 16 | 10 | 20 | 19 | 17 | 15 |\n",
       "|  6 | 1 | 7 | 2  | 4  | 5  | 3  | 6  | 8  | 9  | ... | 12 | 11 | 13 | 14 | 16 | 10 | 20 | 19 | 17 | 15 |\n",
       "|  7 | 1 | 7 | 2  | 4  | 5  | 3  | 6  | 8  | 9  | ... | 12 | 11 | 14 | 16 | 20 | 10 | 19 | 13 | 17 | 15 |\n",
       "|  8 | 1 | 7 | 2  | 4  | 5  | 3  | 6  | 8  | 18 | ... | 12 | 11 | 14 | 20 | 16 | 19 | 10 | 17 | 15 | 13 |\n",
       "|  9 | 1 | 7 | 2  | 4  | 5  | 3  | 6  | 18 | 8  | ... | 12 | 11 | 14 | 20 | 19 | 16 | 10 | 17 | 15 | 13 |\n",
       "| 10 | 1 | 7 | 2  | 4  | 5  | 3  | 18 | 6  | 8  | ... | 12 | 14 | 11 | 20 | 19 | 16 | 10 | 17 | 15 | 13 |\n",
       "| 11 | 1 | 7 | 2  | 4  | 5  | 18 | 3  | 6  | 8  | ... | 12 | 14 | 19 | 20 | 16 | 10 | 17 | 15 | 13 | <!----> |\n",
       "| 12 | 7 | 1 | 2  | 4  | 18 | 5  | 3  | 6  | 8  | ... | 12 | 14 | 19 | 20 | 16 | 10 | 17 | 15 | 13 | <!----> |\n",
       "| 13 | 7 | 2 | 1  | 18 | 4  | 5  | 6  | 3  | 8  | ... | 12 | 14 | 19 | 20 | 10 | 16 | 17 | 15 | 13 | <!----> |\n",
       "| 14 | 7 | 2 | 1  | 18 | 4  | 5  | 6  | 3  | 8  | ... | 12 | 14 | 19 | 20 | 10 | 16 | 17 | 15 | 13 | <!----> |\n",
       "| 15 | 7 | 2 | 1  | 18 | 4  | 5  | 6  | 3  | 8  | ... | 12 | 14 | 19 | 20 | 16 | 17 | 15 | 10 | 13 | <!----> |\n",
       "| 16 | 7 | 2 | 1  | 18 | 4  | 5  | 6  | 3  | 8  | ... | 12 | 19 | 14 | 20 | 17 | 16 | 15 | 13 | 10 | <!----> |\n",
       "| 17 | 7 | 2 | 1  | 18 | 4  | 5  | 6  | 3  | 8  | ... | 19 | 12 | 14 | 20 | 17 | 16 | 15 | 13 | 10 | <!----> |\n",
       "| 18 | 7 | 2 | 1  | 18 | 4  | 3  | 6  | 8  | 5  | ... | 9  | 14 | 20 | 12 | 17 | 15 | 16 | 13 | 10 | <!----> |\n",
       "| 19 | 7 | 2 | 1  | 18 | 3  | 6  | 4  | 19 | 8  | ... | 17 | 20 | 15 | 16 | 13 | 5  | 9  | 12 | 10 | <!----> |\n",
       "| 20 | 7 | 2 | 1  | 18 | 3  | 6  | 19 | 17 | 15 | ... | 16 | 4  | 5  | 8  | 9  | 14 | 12 | 20 | 10 | <!----> |\n",
       "| 21 | 7 | 2 | 1  | 18 | 3  | 6  | 19 | 17 | 15 | ... | 16 | 4  | 5  | 8  | 9  | 14 | 20 | 12 | 10 | <!----> |\n",
       "| 22 | 7 | 2 | 1  | 18 | 3  | 6  | 19 | 17 | 13 | ... | 16 | 4  | 5  | 8  | 9  | 14 | 20 | 12 | 10 | <!----> |\n",
       "| 23 | 7 | 1 | 2  | 18 | 3  | 6  | 19 | 17 | 13 | ... | 16 | 4  | 5  | 8  | 9  | 14 | 20 | 12 | 10 | <!----> |\n",
       "| 24 | 7 | 1 | 18 | 2  | 3  | 6  | 19 | 13 | 17 | ... | 4  | 5  | 8  | 16 | 9  | 14 | 20 | 10 | 12 | <!----> |\n",
       "| 25 | 7 | 1 | 18 | 2  | 3  | 6  | 19 | 13 | 17 | ... | 4  | 5  | 8  | 9  | 14 | 20 | 10 | 12 | 16 | <!----> |\n",
       "| 26 | 1 | 7 | 18 | 2  | 3  | 6  | 19 | 13 | 17 | ... | 4  | 5  | 8  | 9  | 14 | 20 | 10 | 12 | 16 | <!----> |\n",
       "| 27 | 1 | 7 | 18 | 2  | 3  | 19 | 6  | 13 | 17 | ... | 4  | 5  | 8  | 9  | 14 | 20 | 10 | 12 | 16 | <!----> |\n",
       "| 28 | 1 | 7 | 18 | 2  | 3  | 19 | 6  | 13 | 17 | ... | 4  | 5  | 8  | 9  | 14 | 20 | 10 | 12 | 16 | <!----> |\n",
       "| 29 | 1 | 7 | 18 | 2  | 3  | 19 | 6  | 13 | 17 | ... | 4  | 5  | 8  | 9  | 14 | 20 | 10 | 12 | 16 | <!----> |\n",
       "| 30 | 1 | 7 | 2  | 18 | 3  | 19 | 6  | 13 | 17 | ... | 4  | 5  | 8  | 9  | 14 | 20 | 10 | 12 | 16 | <!----> |\n",
       "| 31 | 1 | 7 | 2  | 3  | 19 | 13 | 18 | 6  | 17 | ... | 4  | 5  | 8  | 9  | 14 | 20 | 10 | 12 | 16 | <!----> |\n",
       "| 32 | 1 | 7 | 2  | 3  | 19 | 13 | 18 | 17 | 15 | ... | 5  | 8  | 9  | 14 | 20 | 10 | 12 | 16 | <!----> | <!----> |\n",
       "| 33 | 1 | 7 | 2  | 3  | 18 | 13 | 19 | 15 | 17 | ... | 5  | 8  | 9  | 14 | 20 | 10 | 12 | 16 | <!----> | <!----> |\n",
       "| 34 | 7 | 1 | 2  | 3  | 18 | 13 | 15 | 4  | 5  | ... | 9  | 19 | 14 | 20 | 10 | 12 | 17 | 16 | <!----> | <!----> |\n",
       "| 35 | 7 | 1 | 2  | 3  | 18 | 13 | 4  | 5  | 19 | ... | 15 | 9  | 14 | 20 | 10 | 17 | 12 | 16 | <!----> | <!----> |\n",
       "| 36 | 7 | 1 | 2  | 18 | 13 | 4  | 19 | 5  | 3  | ... | 9  | 14 | 20 | 10 | 17 | 12 | 15 | 16 | <!----> | <!----> |\n",
       "| 37 | 7 | 1 | 2  | 18 | 13 | 19 | 3  | 4  | 5  | ... | 9  | 14 | 20 | 10 | 17 | 15 | 12 | 16 | <!----> | <!----> |\n",
       "| 38 | 7 | 1 | 2  | 18 | 13 | 19 | 3  | 4  | 5  | ... | 9  | 14 | 20 | 10 | 17 | 15 | 12 | 16 | <!----> | <!----> |\n",
       "| 39 | 7 | 1 | 2  | 18 | 13 | 19 | 3  | 4  | 5  | ... | 9  | 14 | 20 | 10 | 17 | 15 | 12 | 16 | <!----> | <!----> |\n",
       "| 40 | 7 | 1 | 2  | 18 | 13 | 19 | 3  | 4  | 5  | ... | 9  | 14 | 20 | 10 | 17 | 15 | 16 | <!----> | <!----> | <!----> |\n",
       "| 41 | 7 | 1 | 2  | 18 | 13 | 19 | 3  | 4  | 5  | ... | 9  | 14 | 20 | 17 | 10 | 15 | 16 | <!----> | <!----> | <!----> |\n",
       "| 42 | 7 | 1 | 2  | 18 | 13 | 19 | 3  | 4  | 5  | ... | 9  | 14 | 20 | 17 | 15 | 10 | 16 | <!----> | <!----> | <!----> |\n",
       "| 43 | 7 | 1 | 2  | 18 | 19 | 3  | 13 | 4  | 5  | ... | 9  | 14 | 20 | 17 | 15 | 10 | 16 | <!----> | <!----> | <!----> |\n",
       "| 44 | 7 | 1 | 2  | 18 | 19 | 3  | 13 | 4  | 5  | ... | 9  | 14 | 20 | 17 | 15 | 10 | 16 | <!----> | <!----> | <!----> |\n",
       "| 45 | 7 | 1 | 2  | 18 | 19 | 3  | 13 | 4  | 5  | ... | 9  | 14 | 17 | 20 | 15 | 10 | 16 | <!----> | <!----> | <!----> |\n",
       "| 46 | 7 | 1 | 2  | 18 | 19 | 3  | 13 | 5  | 8  | ... | 14 | 17 | 20 | 15 | 10 | 16 | <!----> | <!----> | <!----> | <!----> |\n",
       "| 47 | 7 | 1 | 2  | 18 | 19 | 3  | 13 | 5  | 8  | ... | 14 | 17 | 15 | 20 | 10 | 16 | <!----> | <!----> | <!----> | <!----> |\n",
       "| 48 | 7 | 1 | 2  | 18 | 19 | 13 | 3  | 5  | 8  | ... | 14 | 17 | 15 | 20 | 10 | 16 | <!----> | <!----> | <!----> | <!----> |\n",
       "| 49 | 7 | 1 | 2  | 18 | 19 | 13 | 3  | 5  | 8  | ... | 14 | 17 | 15 | 20 | 10 | 16 | <!----> | <!----> | <!----> | <!----> |\n",
       "| 50 | 7 | 1 | 2  | 18 | 19 | 13 | 3  | 5  | 8  | ... | 14 | 17 | 15 | 20 | 10 | 16 | <!----> | <!----> | <!----> | <!----> |\n",
       "| 51 | 7 | 1 | 2  | 18 | 19 | 13 | 3  | 5  | 8  | ... | 14 | 17 | 15 | 20 | 10 | 16 | <!----> | <!----> | <!----> | <!----> |\n",
       "| 52 | 7 | 1 | 2  | 18 | 19 | 13 | 3  | 5  | 8  | ... | 14 | 17 | 15 | 20 | 10 | 16 | <!----> | <!----> | <!----> | <!----> |\n",
       "| 53 | 7 | 1 | 2  | 18 | 19 | 13 | 3  | 5  | 8  | ... | 14 | 17 | <!----> | <!----> | <!----> | <!----> | <!----> | <!----> | <!----> | <!----> |\n",
       "\n"
      ],
      "text/plain": [
       "   0  1 2 3  4  5  6  7  8  9  ... 11 12 13 14 15 16 17 18 19 20\n",
       "1  NA 1 2 3  4  5  6  7  8  9  ... 11 12 13 14 15 16 17 18 19 20\n",
       "2   1 1 2 4  7  5  3  6  8  9  ... 12 16 14 10 13 18 17 20 19 15\n",
       "3   2 1 2 7  4  5  3  6  8  9  ... 11 14 16 18 10 13 20 19 17 15\n",
       "4   3 1 2 7  4  5  3  6  8  9  ... 11 14 16 18 13 10 20 19 17 15\n",
       "5   4 1 2 7  4  5  3  6  8  9  ... 11 14 18 13 16 10 20 19 17 15\n",
       "6   5 1 7 2  4  5  3  6  8  9  ... 18 11 14 13 16 10 20 19 17 15\n",
       "7   6 1 7 2  4  5  3  6  8  9  ... 12 11 13 14 16 10 20 19 17 15\n",
       "8   7 1 7 2  4  5  3  6  8  9  ... 12 11 14 16 20 10 19 13 17 15\n",
       "9   8 1 7 2  4  5  3  6  8  18 ... 12 11 14 20 16 19 10 17 15 13\n",
       "10  9 1 7 2  4  5  3  6  18 8  ... 12 11 14 20 19 16 10 17 15 13\n",
       "11 10 1 7 2  4  5  3  18 6  8  ... 12 14 11 20 19 16 10 17 15 13\n",
       "12 11 1 7 2  4  5  18 3  6  8  ... 12 14 19 20 16 10 17 15 13   \n",
       "13 12 7 1 2  4  18 5  3  6  8  ... 12 14 19 20 16 10 17 15 13   \n",
       "14 13 7 2 1  18 4  5  6  3  8  ... 12 14 19 20 10 16 17 15 13   \n",
       "15 14 7 2 1  18 4  5  6  3  8  ... 12 14 19 20 10 16 17 15 13   \n",
       "16 15 7 2 1  18 4  5  6  3  8  ... 12 14 19 20 16 17 15 10 13   \n",
       "17 16 7 2 1  18 4  5  6  3  8  ... 12 19 14 20 17 16 15 13 10   \n",
       "18 17 7 2 1  18 4  5  6  3  8  ... 19 12 14 20 17 16 15 13 10   \n",
       "19 18 7 2 1  18 4  3  6  8  5  ... 9  14 20 12 17 15 16 13 10   \n",
       "20 19 7 2 1  18 3  6  4  19 8  ... 17 20 15 16 13 5  9  12 10   \n",
       "21 20 7 2 1  18 3  6  19 17 15 ... 16 4  5  8  9  14 12 20 10   \n",
       "22 21 7 2 1  18 3  6  19 17 15 ... 16 4  5  8  9  14 20 12 10   \n",
       "23 22 7 2 1  18 3  6  19 17 13 ... 16 4  5  8  9  14 20 12 10   \n",
       "24 23 7 1 2  18 3  6  19 17 13 ... 16 4  5  8  9  14 20 12 10   \n",
       "25 24 7 1 18 2  3  6  19 13 17 ... 4  5  8  16 9  14 20 10 12   \n",
       "26 25 7 1 18 2  3  6  19 13 17 ... 4  5  8  9  14 20 10 12 16   \n",
       "27 26 1 7 18 2  3  6  19 13 17 ... 4  5  8  9  14 20 10 12 16   \n",
       "28 27 1 7 18 2  3  19 6  13 17 ... 4  5  8  9  14 20 10 12 16   \n",
       "29 28 1 7 18 2  3  19 6  13 17 ... 4  5  8  9  14 20 10 12 16   \n",
       "30 29 1 7 18 2  3  19 6  13 17 ... 4  5  8  9  14 20 10 12 16   \n",
       "31 30 1 7 2  18 3  19 6  13 17 ... 4  5  8  9  14 20 10 12 16   \n",
       "32 31 1 7 2  3  19 13 18 6  17 ... 4  5  8  9  14 20 10 12 16   \n",
       "33 32 1 7 2  3  19 13 18 17 15 ... 5  8  9  14 20 10 12 16      \n",
       "34 33 1 7 2  3  18 13 19 15 17 ... 5  8  9  14 20 10 12 16      \n",
       "35 34 7 1 2  3  18 13 15 4  5  ... 9  19 14 20 10 12 17 16      \n",
       "36 35 7 1 2  3  18 13 4  5  19 ... 15 9  14 20 10 17 12 16      \n",
       "37 36 7 1 2  18 13 4  19 5  3  ... 9  14 20 10 17 12 15 16      \n",
       "38 37 7 1 2  18 13 19 3  4  5  ... 9  14 20 10 17 15 12 16      \n",
       "39 38 7 1 2  18 13 19 3  4  5  ... 9  14 20 10 17 15 12 16      \n",
       "40 39 7 1 2  18 13 19 3  4  5  ... 9  14 20 10 17 15 12 16      \n",
       "41 40 7 1 2  18 13 19 3  4  5  ... 9  14 20 10 17 15 16         \n",
       "42 41 7 1 2  18 13 19 3  4  5  ... 9  14 20 17 10 15 16         \n",
       "43 42 7 1 2  18 13 19 3  4  5  ... 9  14 20 17 15 10 16         \n",
       "44 43 7 1 2  18 19 3  13 4  5  ... 9  14 20 17 15 10 16         \n",
       "45 44 7 1 2  18 19 3  13 4  5  ... 9  14 20 17 15 10 16         \n",
       "46 45 7 1 2  18 19 3  13 4  5  ... 9  14 17 20 15 10 16         \n",
       "47 46 7 1 2  18 19 3  13 5  8  ... 14 17 20 15 10 16            \n",
       "48 47 7 1 2  18 19 3  13 5  8  ... 14 17 15 20 10 16            \n",
       "49 48 7 1 2  18 19 13 3  5  8  ... 14 17 15 20 10 16            \n",
       "50 49 7 1 2  18 19 13 3  5  8  ... 14 17 15 20 10 16            \n",
       "51 50 7 1 2  18 19 13 3  5  8  ... 14 17 15 20 10 16            \n",
       "52 51 7 1 2  18 19 13 3  5  8  ... 14 17 15 20 10 16            \n",
       "53 52 7 1 2  18 19 13 3  5  8  ... 14 17 15 20 10 16            \n",
       "54 53 7 1 2  18 19 13 3  5  8  ... 14 17                        "
      ]
     },
     "metadata": {},
     "output_type": "display_data"
    }
   ],
   "source": [
    "scores_df_header"
   ]
  },
  {
   "cell_type": "code",
   "execution_count": 6,
   "id": "cdfcb1f2",
   "metadata": {},
   "outputs": [],
   "source": [
    "#define function to catch integer(0)\n",
    "integer0_test <- function(data) {\n",
    " \n",
    "  if(identical(data, integer(0))) {\n",
    "    return(0)\n",
    "  }\n",
    "\n",
    "  else {\n",
    "    return(data)\n",
    "  }\n",
    "\n",
    "}"
   ]
  },
  {
   "cell_type": "code",
   "execution_count": 136,
   "id": "07f7c579",
   "metadata": {},
   "outputs": [
    {
     "data": {
      "text/html": [
       "54"
      ],
      "text/latex": [
       "54"
      ],
      "text/markdown": [
       "54"
      ],
      "text/plain": [
       "[1] 54"
      ]
     },
     "metadata": {},
     "output_type": "display_data"
    }
   ],
   "source": [
    "scores_df_header %>% nrow()"
   ]
  },
  {
   "cell_type": "code",
   "execution_count": 139,
   "id": "8e3e7d69",
   "metadata": {},
   "outputs": [
    {
     "data": {
      "text/html": [
       "<table class=\"dataframe\">\n",
       "<caption>A tibble: 53 × 20</caption>\n",
       "<thead>\n",
       "\t<tr><th scope=col>LEC1</th><th scope=col>RUS2</th><th scope=col>NOR3</th><th scope=col>RIC4</th><th scope=col>GAS5</th><th scope=col>ALO6</th><th scope=col>VER7</th><th scope=col>DEV8</th><th scope=col>ZHO9</th><th scope=col>LAT10</th><th scope=col>VET11</th><th scope=col>STR12</th><th scope=col>PER13</th><th scope=col>OCO14</th><th scope=col>BOT15</th><th scope=col>MAG16</th><th scope=col>MSC17</th><th scope=col>SAI18</th><th scope=col>HAM19</th><th scope=col>TSU20</th></tr>\n",
       "\t<tr><th scope=col>&lt;chr&gt;</th><th scope=col>&lt;chr&gt;</th><th scope=col>&lt;chr&gt;</th><th scope=col>&lt;chr&gt;</th><th scope=col>&lt;chr&gt;</th><th scope=col>&lt;chr&gt;</th><th scope=col>&lt;chr&gt;</th><th scope=col>&lt;chr&gt;</th><th scope=col>&lt;chr&gt;</th><th scope=col>&lt;chr&gt;</th><th scope=col>&lt;chr&gt;</th><th scope=col>&lt;chr&gt;</th><th scope=col>&lt;chr&gt;</th><th scope=col>&lt;chr&gt;</th><th scope=col>&lt;chr&gt;</th><th scope=col>&lt;chr&gt;</th><th scope=col>&lt;chr&gt;</th><th scope=col>&lt;chr&gt;</th><th scope=col>&lt;chr&gt;</th><th scope=col>&lt;chr&gt;</th></tr>\n",
       "</thead>\n",
       "<tbody>\n",
       "\t<tr><td>1</td><td>2</td><td>4 </td><td>7 </td><td>5 </td><td>3 </td><td>6 </td><td>8 </td><td>9 </td><td>11</td><td>12</td><td>16</td><td>14</td><td>10</td><td>13</td><td>18</td><td>17</td><td>20</td><td>19</td><td>15</td></tr>\n",
       "\t<tr><td>1</td><td>2</td><td>7 </td><td>4 </td><td>5 </td><td>3 </td><td>6 </td><td>8 </td><td>9 </td><td>12</td><td>11</td><td>14</td><td>16</td><td>18</td><td>10</td><td>13</td><td>20</td><td>19</td><td>17</td><td>15</td></tr>\n",
       "\t<tr><td>1</td><td>2</td><td>7 </td><td>4 </td><td>5 </td><td>3 </td><td>6 </td><td>8 </td><td>9 </td><td>12</td><td>11</td><td>14</td><td>16</td><td>18</td><td>13</td><td>10</td><td>20</td><td>19</td><td>17</td><td>15</td></tr>\n",
       "\t<tr><td>1</td><td>2</td><td>7 </td><td>4 </td><td>5 </td><td>3 </td><td>6 </td><td>8 </td><td>9 </td><td>12</td><td>11</td><td>14</td><td>18</td><td>13</td><td>16</td><td>10</td><td>20</td><td>19</td><td>17</td><td>15</td></tr>\n",
       "\t<tr><td>1</td><td>7</td><td>2 </td><td>4 </td><td>5 </td><td>3 </td><td>6 </td><td>8 </td><td>9 </td><td>12</td><td>18</td><td>11</td><td>14</td><td>13</td><td>16</td><td>10</td><td>20</td><td>19</td><td>17</td><td>15</td></tr>\n",
       "\t<tr><td>1</td><td>7</td><td>2 </td><td>4 </td><td>5 </td><td>3 </td><td>6 </td><td>8 </td><td>9 </td><td>18</td><td>12</td><td>11</td><td>13</td><td>14</td><td>16</td><td>10</td><td>20</td><td>19</td><td>17</td><td>15</td></tr>\n",
       "\t<tr><td>1</td><td>7</td><td>2 </td><td>4 </td><td>5 </td><td>3 </td><td>6 </td><td>8 </td><td>9 </td><td>18</td><td>12</td><td>11</td><td>14</td><td>16</td><td>20</td><td>10</td><td>19</td><td>13</td><td>17</td><td>15</td></tr>\n",
       "\t<tr><td>1</td><td>7</td><td>2 </td><td>4 </td><td>5 </td><td>3 </td><td>6 </td><td>8 </td><td>18</td><td>9 </td><td>12</td><td>11</td><td>14</td><td>20</td><td>16</td><td>19</td><td>10</td><td>17</td><td>15</td><td>13</td></tr>\n",
       "\t<tr><td>1</td><td>7</td><td>2 </td><td>4 </td><td>5 </td><td>3 </td><td>6 </td><td>18</td><td>8 </td><td>9 </td><td>12</td><td>11</td><td>14</td><td>20</td><td>19</td><td>16</td><td>10</td><td>17</td><td>15</td><td>13</td></tr>\n",
       "\t<tr><td>1</td><td>7</td><td>2 </td><td>4 </td><td>5 </td><td>3 </td><td>18</td><td>6 </td><td>8 </td><td>9 </td><td>12</td><td>14</td><td>11</td><td>20</td><td>19</td><td>16</td><td>10</td><td>17</td><td>15</td><td>13</td></tr>\n",
       "\t<tr><td>1</td><td>7</td><td>2 </td><td>4 </td><td>5 </td><td>18</td><td>3 </td><td>6 </td><td>8 </td><td>9 </td><td>12</td><td>14</td><td>19</td><td>20</td><td>16</td><td>10</td><td>17</td><td>15</td><td>13</td><td>  </td></tr>\n",
       "\t<tr><td>7</td><td>1</td><td>2 </td><td>4 </td><td>18</td><td>5 </td><td>3 </td><td>6 </td><td>8 </td><td>9 </td><td>12</td><td>14</td><td>19</td><td>20</td><td>16</td><td>10</td><td>17</td><td>15</td><td>13</td><td>  </td></tr>\n",
       "\t<tr><td>7</td><td>2</td><td>1 </td><td>18</td><td>4 </td><td>5 </td><td>6 </td><td>3 </td><td>8 </td><td>9 </td><td>12</td><td>14</td><td>19</td><td>20</td><td>10</td><td>16</td><td>17</td><td>15</td><td>13</td><td>  </td></tr>\n",
       "\t<tr><td>7</td><td>2</td><td>1 </td><td>18</td><td>4 </td><td>5 </td><td>6 </td><td>3 </td><td>8 </td><td>9 </td><td>12</td><td>14</td><td>19</td><td>20</td><td>10</td><td>16</td><td>17</td><td>15</td><td>13</td><td>  </td></tr>\n",
       "\t<tr><td>7</td><td>2</td><td>1 </td><td>18</td><td>4 </td><td>5 </td><td>6 </td><td>3 </td><td>8 </td><td>9 </td><td>12</td><td>14</td><td>19</td><td>20</td><td>16</td><td>17</td><td>15</td><td>10</td><td>13</td><td>  </td></tr>\n",
       "\t<tr><td>7</td><td>2</td><td>1 </td><td>18</td><td>4 </td><td>5 </td><td>6 </td><td>3 </td><td>8 </td><td>9 </td><td>12</td><td>19</td><td>14</td><td>20</td><td>17</td><td>16</td><td>15</td><td>13</td><td>10</td><td>  </td></tr>\n",
       "\t<tr><td>7</td><td>2</td><td>1 </td><td>18</td><td>4 </td><td>5 </td><td>6 </td><td>3 </td><td>8 </td><td>9 </td><td>19</td><td>12</td><td>14</td><td>20</td><td>17</td><td>16</td><td>15</td><td>13</td><td>10</td><td>  </td></tr>\n",
       "\t<tr><td>7</td><td>2</td><td>1 </td><td>18</td><td>4 </td><td>3 </td><td>6 </td><td>8 </td><td>5 </td><td>19</td><td>9 </td><td>14</td><td>20</td><td>12</td><td>17</td><td>15</td><td>16</td><td>13</td><td>10</td><td>  </td></tr>\n",
       "\t<tr><td>7</td><td>2</td><td>1 </td><td>18</td><td>3 </td><td>6 </td><td>4 </td><td>19</td><td>8 </td><td>14</td><td>17</td><td>20</td><td>15</td><td>16</td><td>13</td><td>5 </td><td>9 </td><td>12</td><td>10</td><td>  </td></tr>\n",
       "\t<tr><td>7</td><td>2</td><td>1 </td><td>18</td><td>3 </td><td>6 </td><td>19</td><td>17</td><td>15</td><td>13</td><td>16</td><td>4 </td><td>5 </td><td>8 </td><td>9 </td><td>14</td><td>12</td><td>20</td><td>10</td><td>  </td></tr>\n",
       "\t<tr><td>7</td><td>2</td><td>1 </td><td>18</td><td>3 </td><td>6 </td><td>19</td><td>17</td><td>15</td><td>13</td><td>16</td><td>4 </td><td>5 </td><td>8 </td><td>9 </td><td>14</td><td>20</td><td>12</td><td>10</td><td>  </td></tr>\n",
       "\t<tr><td>7</td><td>2</td><td>1 </td><td>18</td><td>3 </td><td>6 </td><td>19</td><td>17</td><td>13</td><td>15</td><td>16</td><td>4 </td><td>5 </td><td>8 </td><td>9 </td><td>14</td><td>20</td><td>12</td><td>10</td><td>  </td></tr>\n",
       "\t<tr><td>7</td><td>1</td><td>2 </td><td>18</td><td>3 </td><td>6 </td><td>19</td><td>17</td><td>13</td><td>15</td><td>16</td><td>4 </td><td>5 </td><td>8 </td><td>9 </td><td>14</td><td>20</td><td>12</td><td>10</td><td>  </td></tr>\n",
       "\t<tr><td>7</td><td>1</td><td>18</td><td>2 </td><td>3 </td><td>6 </td><td>19</td><td>13</td><td>17</td><td>15</td><td>4 </td><td>5 </td><td>8 </td><td>16</td><td>9 </td><td>14</td><td>20</td><td>10</td><td>12</td><td>  </td></tr>\n",
       "\t<tr><td>7</td><td>1</td><td>18</td><td>2 </td><td>3 </td><td>6 </td><td>19</td><td>13</td><td>17</td><td>15</td><td>4 </td><td>5 </td><td>8 </td><td>9 </td><td>14</td><td>20</td><td>10</td><td>12</td><td>16</td><td>  </td></tr>\n",
       "\t<tr><td>1</td><td>7</td><td>18</td><td>2 </td><td>3 </td><td>6 </td><td>19</td><td>13</td><td>17</td><td>15</td><td>4 </td><td>5 </td><td>8 </td><td>9 </td><td>14</td><td>20</td><td>10</td><td>12</td><td>16</td><td>  </td></tr>\n",
       "\t<tr><td>1</td><td>7</td><td>18</td><td>2 </td><td>3 </td><td>19</td><td>6 </td><td>13</td><td>17</td><td>15</td><td>4 </td><td>5 </td><td>8 </td><td>9 </td><td>14</td><td>20</td><td>10</td><td>12</td><td>16</td><td>  </td></tr>\n",
       "\t<tr><td>1</td><td>7</td><td>18</td><td>2 </td><td>3 </td><td>19</td><td>6 </td><td>13</td><td>17</td><td>15</td><td>4 </td><td>5 </td><td>8 </td><td>9 </td><td>14</td><td>20</td><td>10</td><td>12</td><td>16</td><td>  </td></tr>\n",
       "\t<tr><td>1</td><td>7</td><td>18</td><td>2 </td><td>3 </td><td>19</td><td>6 </td><td>13</td><td>17</td><td>15</td><td>4 </td><td>5 </td><td>8 </td><td>9 </td><td>14</td><td>20</td><td>10</td><td>12</td><td>16</td><td>  </td></tr>\n",
       "\t<tr><td>1</td><td>7</td><td>2 </td><td>18</td><td>3 </td><td>19</td><td>6 </td><td>13</td><td>17</td><td>15</td><td>4 </td><td>5 </td><td>8 </td><td>9 </td><td>14</td><td>20</td><td>10</td><td>12</td><td>16</td><td>  </td></tr>\n",
       "\t<tr><td>1</td><td>7</td><td>2 </td><td>3 </td><td>19</td><td>13</td><td>18</td><td>6 </td><td>17</td><td>15</td><td>4 </td><td>5 </td><td>8 </td><td>9 </td><td>14</td><td>20</td><td>10</td><td>12</td><td>16</td><td>  </td></tr>\n",
       "\t<tr><td>1</td><td>7</td><td>2 </td><td>3 </td><td>19</td><td>13</td><td>18</td><td>17</td><td>15</td><td>4 </td><td>5 </td><td>8 </td><td>9 </td><td>14</td><td>20</td><td>10</td><td>12</td><td>16</td><td>  </td><td>  </td></tr>\n",
       "\t<tr><td>1</td><td>7</td><td>2 </td><td>3 </td><td>18</td><td>13</td><td>19</td><td>15</td><td>17</td><td>4 </td><td>5 </td><td>8 </td><td>9 </td><td>14</td><td>20</td><td>10</td><td>12</td><td>16</td><td>  </td><td>  </td></tr>\n",
       "\t<tr><td>7</td><td>1</td><td>2 </td><td>3 </td><td>18</td><td>13</td><td>15</td><td>4 </td><td>5 </td><td>8 </td><td>9 </td><td>19</td><td>14</td><td>20</td><td>10</td><td>12</td><td>17</td><td>16</td><td>  </td><td>  </td></tr>\n",
       "\t<tr><td>7</td><td>1</td><td>2 </td><td>3 </td><td>18</td><td>13</td><td>4 </td><td>5 </td><td>19</td><td>8 </td><td>15</td><td>9 </td><td>14</td><td>20</td><td>10</td><td>17</td><td>12</td><td>16</td><td>  </td><td>  </td></tr>\n",
       "\t<tr><td>7</td><td>1</td><td>2 </td><td>18</td><td>13</td><td>4 </td><td>19</td><td>5 </td><td>3 </td><td>8 </td><td>9 </td><td>14</td><td>20</td><td>10</td><td>17</td><td>12</td><td>15</td><td>16</td><td>  </td><td>  </td></tr>\n",
       "\t<tr><td>7</td><td>1</td><td>2 </td><td>18</td><td>13</td><td>19</td><td>3 </td><td>4 </td><td>5 </td><td>8 </td><td>9 </td><td>14</td><td>20</td><td>10</td><td>17</td><td>15</td><td>12</td><td>16</td><td>  </td><td>  </td></tr>\n",
       "\t<tr><td>7</td><td>1</td><td>2 </td><td>18</td><td>13</td><td>19</td><td>3 </td><td>4 </td><td>5 </td><td>8 </td><td>9 </td><td>14</td><td>20</td><td>10</td><td>17</td><td>15</td><td>12</td><td>16</td><td>  </td><td>  </td></tr>\n",
       "\t<tr><td>7</td><td>1</td><td>2 </td><td>18</td><td>13</td><td>19</td><td>3 </td><td>4 </td><td>5 </td><td>8 </td><td>9 </td><td>14</td><td>20</td><td>10</td><td>17</td><td>15</td><td>12</td><td>16</td><td>  </td><td>  </td></tr>\n",
       "\t<tr><td>7</td><td>1</td><td>2 </td><td>18</td><td>13</td><td>19</td><td>3 </td><td>4 </td><td>5 </td><td>8 </td><td>9 </td><td>14</td><td>20</td><td>10</td><td>17</td><td>15</td><td>16</td><td>  </td><td>  </td><td>  </td></tr>\n",
       "\t<tr><td>7</td><td>1</td><td>2 </td><td>18</td><td>13</td><td>19</td><td>3 </td><td>4 </td><td>5 </td><td>8 </td><td>9 </td><td>14</td><td>20</td><td>17</td><td>10</td><td>15</td><td>16</td><td>  </td><td>  </td><td>  </td></tr>\n",
       "\t<tr><td>7</td><td>1</td><td>2 </td><td>18</td><td>13</td><td>19</td><td>3 </td><td>4 </td><td>5 </td><td>8 </td><td>9 </td><td>14</td><td>20</td><td>17</td><td>15</td><td>10</td><td>16</td><td>  </td><td>  </td><td>  </td></tr>\n",
       "\t<tr><td>7</td><td>1</td><td>2 </td><td>18</td><td>19</td><td>3 </td><td>13</td><td>4 </td><td>5 </td><td>8 </td><td>9 </td><td>14</td><td>20</td><td>17</td><td>15</td><td>10</td><td>16</td><td>  </td><td>  </td><td>  </td></tr>\n",
       "\t<tr><td>7</td><td>1</td><td>2 </td><td>18</td><td>19</td><td>3 </td><td>13</td><td>4 </td><td>5 </td><td>8 </td><td>9 </td><td>14</td><td>20</td><td>17</td><td>15</td><td>10</td><td>16</td><td>  </td><td>  </td><td>  </td></tr>\n",
       "\t<tr><td>7</td><td>1</td><td>2 </td><td>18</td><td>19</td><td>3 </td><td>13</td><td>4 </td><td>5 </td><td>8 </td><td>9 </td><td>14</td><td>17</td><td>20</td><td>15</td><td>10</td><td>16</td><td>  </td><td>  </td><td>  </td></tr>\n",
       "\t<tr><td>7</td><td>1</td><td>2 </td><td>18</td><td>19</td><td>3 </td><td>13</td><td>5 </td><td>8 </td><td>9 </td><td>14</td><td>17</td><td>20</td><td>15</td><td>10</td><td>16</td><td>  </td><td>  </td><td>  </td><td>  </td></tr>\n",
       "\t<tr><td>7</td><td>1</td><td>2 </td><td>18</td><td>19</td><td>3 </td><td>13</td><td>5 </td><td>8 </td><td>9 </td><td>14</td><td>17</td><td>15</td><td>20</td><td>10</td><td>16</td><td>  </td><td>  </td><td>  </td><td>  </td></tr>\n",
       "\t<tr><td>7</td><td>1</td><td>2 </td><td>18</td><td>19</td><td>13</td><td>3 </td><td>5 </td><td>8 </td><td>9 </td><td>14</td><td>17</td><td>15</td><td>20</td><td>10</td><td>16</td><td>  </td><td>  </td><td>  </td><td>  </td></tr>\n",
       "\t<tr><td>7</td><td>1</td><td>2 </td><td>18</td><td>19</td><td>13</td><td>3 </td><td>5 </td><td>8 </td><td>9 </td><td>14</td><td>17</td><td>15</td><td>20</td><td>10</td><td>16</td><td>  </td><td>  </td><td>  </td><td>  </td></tr>\n",
       "\t<tr><td>7</td><td>1</td><td>2 </td><td>18</td><td>19</td><td>13</td><td>3 </td><td>5 </td><td>8 </td><td>9 </td><td>14</td><td>17</td><td>15</td><td>20</td><td>10</td><td>16</td><td>  </td><td>  </td><td>  </td><td>  </td></tr>\n",
       "\t<tr><td>7</td><td>1</td><td>2 </td><td>18</td><td>19</td><td>13</td><td>3 </td><td>5 </td><td>8 </td><td>9 </td><td>14</td><td>17</td><td>15</td><td>20</td><td>10</td><td>16</td><td>  </td><td>  </td><td>  </td><td>  </td></tr>\n",
       "\t<tr><td>7</td><td>1</td><td>2 </td><td>18</td><td>19</td><td>13</td><td>3 </td><td>5 </td><td>8 </td><td>9 </td><td>14</td><td>17</td><td>15</td><td>20</td><td>10</td><td>16</td><td>  </td><td>  </td><td>  </td><td>  </td></tr>\n",
       "\t<tr><td>7</td><td>1</td><td>2 </td><td>18</td><td>19</td><td>13</td><td>3 </td><td>5 </td><td>8 </td><td>9 </td><td>14</td><td>17</td><td>  </td><td>  </td><td>  </td><td>  </td><td>  </td><td>  </td><td>  </td><td>  </td></tr>\n",
       "</tbody>\n",
       "</table>\n"
      ],
      "text/latex": [
       "A tibble: 53 × 20\n",
       "\\begin{tabular}{llllllllllllllllllll}\n",
       " LEC1 & RUS2 & NOR3 & RIC4 & GAS5 & ALO6 & VER7 & DEV8 & ZHO9 & LAT10 & VET11 & STR12 & PER13 & OCO14 & BOT15 & MAG16 & MSC17 & SAI18 & HAM19 & TSU20\\\\\n",
       " <chr> & <chr> & <chr> & <chr> & <chr> & <chr> & <chr> & <chr> & <chr> & <chr> & <chr> & <chr> & <chr> & <chr> & <chr> & <chr> & <chr> & <chr> & <chr> & <chr>\\\\\n",
       "\\hline\n",
       "\t 1 & 2 & 4  & 7  & 5  & 3  & 6  & 8  & 9  & 11 & 12 & 16 & 14 & 10 & 13 & 18 & 17 & 20 & 19 & 15\\\\\n",
       "\t 1 & 2 & 7  & 4  & 5  & 3  & 6  & 8  & 9  & 12 & 11 & 14 & 16 & 18 & 10 & 13 & 20 & 19 & 17 & 15\\\\\n",
       "\t 1 & 2 & 7  & 4  & 5  & 3  & 6  & 8  & 9  & 12 & 11 & 14 & 16 & 18 & 13 & 10 & 20 & 19 & 17 & 15\\\\\n",
       "\t 1 & 2 & 7  & 4  & 5  & 3  & 6  & 8  & 9  & 12 & 11 & 14 & 18 & 13 & 16 & 10 & 20 & 19 & 17 & 15\\\\\n",
       "\t 1 & 7 & 2  & 4  & 5  & 3  & 6  & 8  & 9  & 12 & 18 & 11 & 14 & 13 & 16 & 10 & 20 & 19 & 17 & 15\\\\\n",
       "\t 1 & 7 & 2  & 4  & 5  & 3  & 6  & 8  & 9  & 18 & 12 & 11 & 13 & 14 & 16 & 10 & 20 & 19 & 17 & 15\\\\\n",
       "\t 1 & 7 & 2  & 4  & 5  & 3  & 6  & 8  & 9  & 18 & 12 & 11 & 14 & 16 & 20 & 10 & 19 & 13 & 17 & 15\\\\\n",
       "\t 1 & 7 & 2  & 4  & 5  & 3  & 6  & 8  & 18 & 9  & 12 & 11 & 14 & 20 & 16 & 19 & 10 & 17 & 15 & 13\\\\\n",
       "\t 1 & 7 & 2  & 4  & 5  & 3  & 6  & 18 & 8  & 9  & 12 & 11 & 14 & 20 & 19 & 16 & 10 & 17 & 15 & 13\\\\\n",
       "\t 1 & 7 & 2  & 4  & 5  & 3  & 18 & 6  & 8  & 9  & 12 & 14 & 11 & 20 & 19 & 16 & 10 & 17 & 15 & 13\\\\\n",
       "\t 1 & 7 & 2  & 4  & 5  & 18 & 3  & 6  & 8  & 9  & 12 & 14 & 19 & 20 & 16 & 10 & 17 & 15 & 13 &   \\\\\n",
       "\t 7 & 1 & 2  & 4  & 18 & 5  & 3  & 6  & 8  & 9  & 12 & 14 & 19 & 20 & 16 & 10 & 17 & 15 & 13 &   \\\\\n",
       "\t 7 & 2 & 1  & 18 & 4  & 5  & 6  & 3  & 8  & 9  & 12 & 14 & 19 & 20 & 10 & 16 & 17 & 15 & 13 &   \\\\\n",
       "\t 7 & 2 & 1  & 18 & 4  & 5  & 6  & 3  & 8  & 9  & 12 & 14 & 19 & 20 & 10 & 16 & 17 & 15 & 13 &   \\\\\n",
       "\t 7 & 2 & 1  & 18 & 4  & 5  & 6  & 3  & 8  & 9  & 12 & 14 & 19 & 20 & 16 & 17 & 15 & 10 & 13 &   \\\\\n",
       "\t 7 & 2 & 1  & 18 & 4  & 5  & 6  & 3  & 8  & 9  & 12 & 19 & 14 & 20 & 17 & 16 & 15 & 13 & 10 &   \\\\\n",
       "\t 7 & 2 & 1  & 18 & 4  & 5  & 6  & 3  & 8  & 9  & 19 & 12 & 14 & 20 & 17 & 16 & 15 & 13 & 10 &   \\\\\n",
       "\t 7 & 2 & 1  & 18 & 4  & 3  & 6  & 8  & 5  & 19 & 9  & 14 & 20 & 12 & 17 & 15 & 16 & 13 & 10 &   \\\\\n",
       "\t 7 & 2 & 1  & 18 & 3  & 6  & 4  & 19 & 8  & 14 & 17 & 20 & 15 & 16 & 13 & 5  & 9  & 12 & 10 &   \\\\\n",
       "\t 7 & 2 & 1  & 18 & 3  & 6  & 19 & 17 & 15 & 13 & 16 & 4  & 5  & 8  & 9  & 14 & 12 & 20 & 10 &   \\\\\n",
       "\t 7 & 2 & 1  & 18 & 3  & 6  & 19 & 17 & 15 & 13 & 16 & 4  & 5  & 8  & 9  & 14 & 20 & 12 & 10 &   \\\\\n",
       "\t 7 & 2 & 1  & 18 & 3  & 6  & 19 & 17 & 13 & 15 & 16 & 4  & 5  & 8  & 9  & 14 & 20 & 12 & 10 &   \\\\\n",
       "\t 7 & 1 & 2  & 18 & 3  & 6  & 19 & 17 & 13 & 15 & 16 & 4  & 5  & 8  & 9  & 14 & 20 & 12 & 10 &   \\\\\n",
       "\t 7 & 1 & 18 & 2  & 3  & 6  & 19 & 13 & 17 & 15 & 4  & 5  & 8  & 16 & 9  & 14 & 20 & 10 & 12 &   \\\\\n",
       "\t 7 & 1 & 18 & 2  & 3  & 6  & 19 & 13 & 17 & 15 & 4  & 5  & 8  & 9  & 14 & 20 & 10 & 12 & 16 &   \\\\\n",
       "\t 1 & 7 & 18 & 2  & 3  & 6  & 19 & 13 & 17 & 15 & 4  & 5  & 8  & 9  & 14 & 20 & 10 & 12 & 16 &   \\\\\n",
       "\t 1 & 7 & 18 & 2  & 3  & 19 & 6  & 13 & 17 & 15 & 4  & 5  & 8  & 9  & 14 & 20 & 10 & 12 & 16 &   \\\\\n",
       "\t 1 & 7 & 18 & 2  & 3  & 19 & 6  & 13 & 17 & 15 & 4  & 5  & 8  & 9  & 14 & 20 & 10 & 12 & 16 &   \\\\\n",
       "\t 1 & 7 & 18 & 2  & 3  & 19 & 6  & 13 & 17 & 15 & 4  & 5  & 8  & 9  & 14 & 20 & 10 & 12 & 16 &   \\\\\n",
       "\t 1 & 7 & 2  & 18 & 3  & 19 & 6  & 13 & 17 & 15 & 4  & 5  & 8  & 9  & 14 & 20 & 10 & 12 & 16 &   \\\\\n",
       "\t 1 & 7 & 2  & 3  & 19 & 13 & 18 & 6  & 17 & 15 & 4  & 5  & 8  & 9  & 14 & 20 & 10 & 12 & 16 &   \\\\\n",
       "\t 1 & 7 & 2  & 3  & 19 & 13 & 18 & 17 & 15 & 4  & 5  & 8  & 9  & 14 & 20 & 10 & 12 & 16 &    &   \\\\\n",
       "\t 1 & 7 & 2  & 3  & 18 & 13 & 19 & 15 & 17 & 4  & 5  & 8  & 9  & 14 & 20 & 10 & 12 & 16 &    &   \\\\\n",
       "\t 7 & 1 & 2  & 3  & 18 & 13 & 15 & 4  & 5  & 8  & 9  & 19 & 14 & 20 & 10 & 12 & 17 & 16 &    &   \\\\\n",
       "\t 7 & 1 & 2  & 3  & 18 & 13 & 4  & 5  & 19 & 8  & 15 & 9  & 14 & 20 & 10 & 17 & 12 & 16 &    &   \\\\\n",
       "\t 7 & 1 & 2  & 18 & 13 & 4  & 19 & 5  & 3  & 8  & 9  & 14 & 20 & 10 & 17 & 12 & 15 & 16 &    &   \\\\\n",
       "\t 7 & 1 & 2  & 18 & 13 & 19 & 3  & 4  & 5  & 8  & 9  & 14 & 20 & 10 & 17 & 15 & 12 & 16 &    &   \\\\\n",
       "\t 7 & 1 & 2  & 18 & 13 & 19 & 3  & 4  & 5  & 8  & 9  & 14 & 20 & 10 & 17 & 15 & 12 & 16 &    &   \\\\\n",
       "\t 7 & 1 & 2  & 18 & 13 & 19 & 3  & 4  & 5  & 8  & 9  & 14 & 20 & 10 & 17 & 15 & 12 & 16 &    &   \\\\\n",
       "\t 7 & 1 & 2  & 18 & 13 & 19 & 3  & 4  & 5  & 8  & 9  & 14 & 20 & 10 & 17 & 15 & 16 &    &    &   \\\\\n",
       "\t 7 & 1 & 2  & 18 & 13 & 19 & 3  & 4  & 5  & 8  & 9  & 14 & 20 & 17 & 10 & 15 & 16 &    &    &   \\\\\n",
       "\t 7 & 1 & 2  & 18 & 13 & 19 & 3  & 4  & 5  & 8  & 9  & 14 & 20 & 17 & 15 & 10 & 16 &    &    &   \\\\\n",
       "\t 7 & 1 & 2  & 18 & 19 & 3  & 13 & 4  & 5  & 8  & 9  & 14 & 20 & 17 & 15 & 10 & 16 &    &    &   \\\\\n",
       "\t 7 & 1 & 2  & 18 & 19 & 3  & 13 & 4  & 5  & 8  & 9  & 14 & 20 & 17 & 15 & 10 & 16 &    &    &   \\\\\n",
       "\t 7 & 1 & 2  & 18 & 19 & 3  & 13 & 4  & 5  & 8  & 9  & 14 & 17 & 20 & 15 & 10 & 16 &    &    &   \\\\\n",
       "\t 7 & 1 & 2  & 18 & 19 & 3  & 13 & 5  & 8  & 9  & 14 & 17 & 20 & 15 & 10 & 16 &    &    &    &   \\\\\n",
       "\t 7 & 1 & 2  & 18 & 19 & 3  & 13 & 5  & 8  & 9  & 14 & 17 & 15 & 20 & 10 & 16 &    &    &    &   \\\\\n",
       "\t 7 & 1 & 2  & 18 & 19 & 13 & 3  & 5  & 8  & 9  & 14 & 17 & 15 & 20 & 10 & 16 &    &    &    &   \\\\\n",
       "\t 7 & 1 & 2  & 18 & 19 & 13 & 3  & 5  & 8  & 9  & 14 & 17 & 15 & 20 & 10 & 16 &    &    &    &   \\\\\n",
       "\t 7 & 1 & 2  & 18 & 19 & 13 & 3  & 5  & 8  & 9  & 14 & 17 & 15 & 20 & 10 & 16 &    &    &    &   \\\\\n",
       "\t 7 & 1 & 2  & 18 & 19 & 13 & 3  & 5  & 8  & 9  & 14 & 17 & 15 & 20 & 10 & 16 &    &    &    &   \\\\\n",
       "\t 7 & 1 & 2  & 18 & 19 & 13 & 3  & 5  & 8  & 9  & 14 & 17 & 15 & 20 & 10 & 16 &    &    &    &   \\\\\n",
       "\t 7 & 1 & 2  & 18 & 19 & 13 & 3  & 5  & 8  & 9  & 14 & 17 &    &    &    &    &    &    &    &   \\\\\n",
       "\\end{tabular}\n"
      ],
      "text/markdown": [
       "\n",
       "A tibble: 53 × 20\n",
       "\n",
       "| LEC1 &lt;chr&gt; | RUS2 &lt;chr&gt; | NOR3 &lt;chr&gt; | RIC4 &lt;chr&gt; | GAS5 &lt;chr&gt; | ALO6 &lt;chr&gt; | VER7 &lt;chr&gt; | DEV8 &lt;chr&gt; | ZHO9 &lt;chr&gt; | LAT10 &lt;chr&gt; | VET11 &lt;chr&gt; | STR12 &lt;chr&gt; | PER13 &lt;chr&gt; | OCO14 &lt;chr&gt; | BOT15 &lt;chr&gt; | MAG16 &lt;chr&gt; | MSC17 &lt;chr&gt; | SAI18 &lt;chr&gt; | HAM19 &lt;chr&gt; | TSU20 &lt;chr&gt; |\n",
       "|---|---|---|---|---|---|---|---|---|---|---|---|---|---|---|---|---|---|---|---|\n",
       "| 1 | 2 | 4  | 7  | 5  | 3  | 6  | 8  | 9  | 11 | 12 | 16 | 14 | 10 | 13 | 18 | 17 | 20 | 19 | 15 |\n",
       "| 1 | 2 | 7  | 4  | 5  | 3  | 6  | 8  | 9  | 12 | 11 | 14 | 16 | 18 | 10 | 13 | 20 | 19 | 17 | 15 |\n",
       "| 1 | 2 | 7  | 4  | 5  | 3  | 6  | 8  | 9  | 12 | 11 | 14 | 16 | 18 | 13 | 10 | 20 | 19 | 17 | 15 |\n",
       "| 1 | 2 | 7  | 4  | 5  | 3  | 6  | 8  | 9  | 12 | 11 | 14 | 18 | 13 | 16 | 10 | 20 | 19 | 17 | 15 |\n",
       "| 1 | 7 | 2  | 4  | 5  | 3  | 6  | 8  | 9  | 12 | 18 | 11 | 14 | 13 | 16 | 10 | 20 | 19 | 17 | 15 |\n",
       "| 1 | 7 | 2  | 4  | 5  | 3  | 6  | 8  | 9  | 18 | 12 | 11 | 13 | 14 | 16 | 10 | 20 | 19 | 17 | 15 |\n",
       "| 1 | 7 | 2  | 4  | 5  | 3  | 6  | 8  | 9  | 18 | 12 | 11 | 14 | 16 | 20 | 10 | 19 | 13 | 17 | 15 |\n",
       "| 1 | 7 | 2  | 4  | 5  | 3  | 6  | 8  | 18 | 9  | 12 | 11 | 14 | 20 | 16 | 19 | 10 | 17 | 15 | 13 |\n",
       "| 1 | 7 | 2  | 4  | 5  | 3  | 6  | 18 | 8  | 9  | 12 | 11 | 14 | 20 | 19 | 16 | 10 | 17 | 15 | 13 |\n",
       "| 1 | 7 | 2  | 4  | 5  | 3  | 18 | 6  | 8  | 9  | 12 | 14 | 11 | 20 | 19 | 16 | 10 | 17 | 15 | 13 |\n",
       "| 1 | 7 | 2  | 4  | 5  | 18 | 3  | 6  | 8  | 9  | 12 | 14 | 19 | 20 | 16 | 10 | 17 | 15 | 13 | <!----> |\n",
       "| 7 | 1 | 2  | 4  | 18 | 5  | 3  | 6  | 8  | 9  | 12 | 14 | 19 | 20 | 16 | 10 | 17 | 15 | 13 | <!----> |\n",
       "| 7 | 2 | 1  | 18 | 4  | 5  | 6  | 3  | 8  | 9  | 12 | 14 | 19 | 20 | 10 | 16 | 17 | 15 | 13 | <!----> |\n",
       "| 7 | 2 | 1  | 18 | 4  | 5  | 6  | 3  | 8  | 9  | 12 | 14 | 19 | 20 | 10 | 16 | 17 | 15 | 13 | <!----> |\n",
       "| 7 | 2 | 1  | 18 | 4  | 5  | 6  | 3  | 8  | 9  | 12 | 14 | 19 | 20 | 16 | 17 | 15 | 10 | 13 | <!----> |\n",
       "| 7 | 2 | 1  | 18 | 4  | 5  | 6  | 3  | 8  | 9  | 12 | 19 | 14 | 20 | 17 | 16 | 15 | 13 | 10 | <!----> |\n",
       "| 7 | 2 | 1  | 18 | 4  | 5  | 6  | 3  | 8  | 9  | 19 | 12 | 14 | 20 | 17 | 16 | 15 | 13 | 10 | <!----> |\n",
       "| 7 | 2 | 1  | 18 | 4  | 3  | 6  | 8  | 5  | 19 | 9  | 14 | 20 | 12 | 17 | 15 | 16 | 13 | 10 | <!----> |\n",
       "| 7 | 2 | 1  | 18 | 3  | 6  | 4  | 19 | 8  | 14 | 17 | 20 | 15 | 16 | 13 | 5  | 9  | 12 | 10 | <!----> |\n",
       "| 7 | 2 | 1  | 18 | 3  | 6  | 19 | 17 | 15 | 13 | 16 | 4  | 5  | 8  | 9  | 14 | 12 | 20 | 10 | <!----> |\n",
       "| 7 | 2 | 1  | 18 | 3  | 6  | 19 | 17 | 15 | 13 | 16 | 4  | 5  | 8  | 9  | 14 | 20 | 12 | 10 | <!----> |\n",
       "| 7 | 2 | 1  | 18 | 3  | 6  | 19 | 17 | 13 | 15 | 16 | 4  | 5  | 8  | 9  | 14 | 20 | 12 | 10 | <!----> |\n",
       "| 7 | 1 | 2  | 18 | 3  | 6  | 19 | 17 | 13 | 15 | 16 | 4  | 5  | 8  | 9  | 14 | 20 | 12 | 10 | <!----> |\n",
       "| 7 | 1 | 18 | 2  | 3  | 6  | 19 | 13 | 17 | 15 | 4  | 5  | 8  | 16 | 9  | 14 | 20 | 10 | 12 | <!----> |\n",
       "| 7 | 1 | 18 | 2  | 3  | 6  | 19 | 13 | 17 | 15 | 4  | 5  | 8  | 9  | 14 | 20 | 10 | 12 | 16 | <!----> |\n",
       "| 1 | 7 | 18 | 2  | 3  | 6  | 19 | 13 | 17 | 15 | 4  | 5  | 8  | 9  | 14 | 20 | 10 | 12 | 16 | <!----> |\n",
       "| 1 | 7 | 18 | 2  | 3  | 19 | 6  | 13 | 17 | 15 | 4  | 5  | 8  | 9  | 14 | 20 | 10 | 12 | 16 | <!----> |\n",
       "| 1 | 7 | 18 | 2  | 3  | 19 | 6  | 13 | 17 | 15 | 4  | 5  | 8  | 9  | 14 | 20 | 10 | 12 | 16 | <!----> |\n",
       "| 1 | 7 | 18 | 2  | 3  | 19 | 6  | 13 | 17 | 15 | 4  | 5  | 8  | 9  | 14 | 20 | 10 | 12 | 16 | <!----> |\n",
       "| 1 | 7 | 2  | 18 | 3  | 19 | 6  | 13 | 17 | 15 | 4  | 5  | 8  | 9  | 14 | 20 | 10 | 12 | 16 | <!----> |\n",
       "| 1 | 7 | 2  | 3  | 19 | 13 | 18 | 6  | 17 | 15 | 4  | 5  | 8  | 9  | 14 | 20 | 10 | 12 | 16 | <!----> |\n",
       "| 1 | 7 | 2  | 3  | 19 | 13 | 18 | 17 | 15 | 4  | 5  | 8  | 9  | 14 | 20 | 10 | 12 | 16 | <!----> | <!----> |\n",
       "| 1 | 7 | 2  | 3  | 18 | 13 | 19 | 15 | 17 | 4  | 5  | 8  | 9  | 14 | 20 | 10 | 12 | 16 | <!----> | <!----> |\n",
       "| 7 | 1 | 2  | 3  | 18 | 13 | 15 | 4  | 5  | 8  | 9  | 19 | 14 | 20 | 10 | 12 | 17 | 16 | <!----> | <!----> |\n",
       "| 7 | 1 | 2  | 3  | 18 | 13 | 4  | 5  | 19 | 8  | 15 | 9  | 14 | 20 | 10 | 17 | 12 | 16 | <!----> | <!----> |\n",
       "| 7 | 1 | 2  | 18 | 13 | 4  | 19 | 5  | 3  | 8  | 9  | 14 | 20 | 10 | 17 | 12 | 15 | 16 | <!----> | <!----> |\n",
       "| 7 | 1 | 2  | 18 | 13 | 19 | 3  | 4  | 5  | 8  | 9  | 14 | 20 | 10 | 17 | 15 | 12 | 16 | <!----> | <!----> |\n",
       "| 7 | 1 | 2  | 18 | 13 | 19 | 3  | 4  | 5  | 8  | 9  | 14 | 20 | 10 | 17 | 15 | 12 | 16 | <!----> | <!----> |\n",
       "| 7 | 1 | 2  | 18 | 13 | 19 | 3  | 4  | 5  | 8  | 9  | 14 | 20 | 10 | 17 | 15 | 12 | 16 | <!----> | <!----> |\n",
       "| 7 | 1 | 2  | 18 | 13 | 19 | 3  | 4  | 5  | 8  | 9  | 14 | 20 | 10 | 17 | 15 | 16 | <!----> | <!----> | <!----> |\n",
       "| 7 | 1 | 2  | 18 | 13 | 19 | 3  | 4  | 5  | 8  | 9  | 14 | 20 | 17 | 10 | 15 | 16 | <!----> | <!----> | <!----> |\n",
       "| 7 | 1 | 2  | 18 | 13 | 19 | 3  | 4  | 5  | 8  | 9  | 14 | 20 | 17 | 15 | 10 | 16 | <!----> | <!----> | <!----> |\n",
       "| 7 | 1 | 2  | 18 | 19 | 3  | 13 | 4  | 5  | 8  | 9  | 14 | 20 | 17 | 15 | 10 | 16 | <!----> | <!----> | <!----> |\n",
       "| 7 | 1 | 2  | 18 | 19 | 3  | 13 | 4  | 5  | 8  | 9  | 14 | 20 | 17 | 15 | 10 | 16 | <!----> | <!----> | <!----> |\n",
       "| 7 | 1 | 2  | 18 | 19 | 3  | 13 | 4  | 5  | 8  | 9  | 14 | 17 | 20 | 15 | 10 | 16 | <!----> | <!----> | <!----> |\n",
       "| 7 | 1 | 2  | 18 | 19 | 3  | 13 | 5  | 8  | 9  | 14 | 17 | 20 | 15 | 10 | 16 | <!----> | <!----> | <!----> | <!----> |\n",
       "| 7 | 1 | 2  | 18 | 19 | 3  | 13 | 5  | 8  | 9  | 14 | 17 | 15 | 20 | 10 | 16 | <!----> | <!----> | <!----> | <!----> |\n",
       "| 7 | 1 | 2  | 18 | 19 | 13 | 3  | 5  | 8  | 9  | 14 | 17 | 15 | 20 | 10 | 16 | <!----> | <!----> | <!----> | <!----> |\n",
       "| 7 | 1 | 2  | 18 | 19 | 13 | 3  | 5  | 8  | 9  | 14 | 17 | 15 | 20 | 10 | 16 | <!----> | <!----> | <!----> | <!----> |\n",
       "| 7 | 1 | 2  | 18 | 19 | 13 | 3  | 5  | 8  | 9  | 14 | 17 | 15 | 20 | 10 | 16 | <!----> | <!----> | <!----> | <!----> |\n",
       "| 7 | 1 | 2  | 18 | 19 | 13 | 3  | 5  | 8  | 9  | 14 | 17 | 15 | 20 | 10 | 16 | <!----> | <!----> | <!----> | <!----> |\n",
       "| 7 | 1 | 2  | 18 | 19 | 13 | 3  | 5  | 8  | 9  | 14 | 17 | 15 | 20 | 10 | 16 | <!----> | <!----> | <!----> | <!----> |\n",
       "| 7 | 1 | 2  | 18 | 19 | 13 | 3  | 5  | 8  | 9  | 14 | 17 | <!----> | <!----> | <!----> | <!----> | <!----> | <!----> | <!----> | <!----> |\n",
       "\n"
      ],
      "text/plain": [
       "   LEC1 RUS2 NOR3 RIC4 GAS5 ALO6 VER7 DEV8 ZHO9 LAT10 VET11 STR12 PER13 OCO14\n",
       "1  1    2    4    7    5    3    6    8    9    11    12    16    14    10   \n",
       "2  1    2    7    4    5    3    6    8    9    12    11    14    16    18   \n",
       "3  1    2    7    4    5    3    6    8    9    12    11    14    16    18   \n",
       "4  1    2    7    4    5    3    6    8    9    12    11    14    18    13   \n",
       "5  1    7    2    4    5    3    6    8    9    12    18    11    14    13   \n",
       "6  1    7    2    4    5    3    6    8    9    18    12    11    13    14   \n",
       "7  1    7    2    4    5    3    6    8    9    18    12    11    14    16   \n",
       "8  1    7    2    4    5    3    6    8    18   9     12    11    14    20   \n",
       "9  1    7    2    4    5    3    6    18   8    9     12    11    14    20   \n",
       "10 1    7    2    4    5    3    18   6    8    9     12    14    11    20   \n",
       "11 1    7    2    4    5    18   3    6    8    9     12    14    19    20   \n",
       "12 7    1    2    4    18   5    3    6    8    9     12    14    19    20   \n",
       "13 7    2    1    18   4    5    6    3    8    9     12    14    19    20   \n",
       "14 7    2    1    18   4    5    6    3    8    9     12    14    19    20   \n",
       "15 7    2    1    18   4    5    6    3    8    9     12    14    19    20   \n",
       "16 7    2    1    18   4    5    6    3    8    9     12    19    14    20   \n",
       "17 7    2    1    18   4    5    6    3    8    9     19    12    14    20   \n",
       "18 7    2    1    18   4    3    6    8    5    19    9     14    20    12   \n",
       "19 7    2    1    18   3    6    4    19   8    14    17    20    15    16   \n",
       "20 7    2    1    18   3    6    19   17   15   13    16    4     5     8    \n",
       "21 7    2    1    18   3    6    19   17   15   13    16    4     5     8    \n",
       "22 7    2    1    18   3    6    19   17   13   15    16    4     5     8    \n",
       "23 7    1    2    18   3    6    19   17   13   15    16    4     5     8    \n",
       "24 7    1    18   2    3    6    19   13   17   15    4     5     8     16   \n",
       "25 7    1    18   2    3    6    19   13   17   15    4     5     8     9    \n",
       "26 1    7    18   2    3    6    19   13   17   15    4     5     8     9    \n",
       "27 1    7    18   2    3    19   6    13   17   15    4     5     8     9    \n",
       "28 1    7    18   2    3    19   6    13   17   15    4     5     8     9    \n",
       "29 1    7    18   2    3    19   6    13   17   15    4     5     8     9    \n",
       "30 1    7    2    18   3    19   6    13   17   15    4     5     8     9    \n",
       "31 1    7    2    3    19   13   18   6    17   15    4     5     8     9    \n",
       "32 1    7    2    3    19   13   18   17   15   4     5     8     9     14   \n",
       "33 1    7    2    3    18   13   19   15   17   4     5     8     9     14   \n",
       "34 7    1    2    3    18   13   15   4    5    8     9     19    14    20   \n",
       "35 7    1    2    3    18   13   4    5    19   8     15    9     14    20   \n",
       "36 7    1    2    18   13   4    19   5    3    8     9     14    20    10   \n",
       "37 7    1    2    18   13   19   3    4    5    8     9     14    20    10   \n",
       "38 7    1    2    18   13   19   3    4    5    8     9     14    20    10   \n",
       "39 7    1    2    18   13   19   3    4    5    8     9     14    20    10   \n",
       "40 7    1    2    18   13   19   3    4    5    8     9     14    20    10   \n",
       "41 7    1    2    18   13   19   3    4    5    8     9     14    20    17   \n",
       "42 7    1    2    18   13   19   3    4    5    8     9     14    20    17   \n",
       "43 7    1    2    18   19   3    13   4    5    8     9     14    20    17   \n",
       "44 7    1    2    18   19   3    13   4    5    8     9     14    20    17   \n",
       "45 7    1    2    18   19   3    13   4    5    8     9     14    17    20   \n",
       "46 7    1    2    18   19   3    13   5    8    9     14    17    20    15   \n",
       "47 7    1    2    18   19   3    13   5    8    9     14    17    15    20   \n",
       "48 7    1    2    18   19   13   3    5    8    9     14    17    15    20   \n",
       "49 7    1    2    18   19   13   3    5    8    9     14    17    15    20   \n",
       "50 7    1    2    18   19   13   3    5    8    9     14    17    15    20   \n",
       "51 7    1    2    18   19   13   3    5    8    9     14    17    15    20   \n",
       "52 7    1    2    18   19   13   3    5    8    9     14    17    15    20   \n",
       "53 7    1    2    18   19   13   3    5    8    9     14    17               \n",
       "   BOT15 MAG16 MSC17 SAI18 HAM19 TSU20\n",
       "1  13    18    17    20    19    15   \n",
       "2  10    13    20    19    17    15   \n",
       "3  13    10    20    19    17    15   \n",
       "4  16    10    20    19    17    15   \n",
       "5  16    10    20    19    17    15   \n",
       "6  16    10    20    19    17    15   \n",
       "7  20    10    19    13    17    15   \n",
       "8  16    19    10    17    15    13   \n",
       "9  19    16    10    17    15    13   \n",
       "10 19    16    10    17    15    13   \n",
       "11 16    10    17    15    13         \n",
       "12 16    10    17    15    13         \n",
       "13 10    16    17    15    13         \n",
       "14 10    16    17    15    13         \n",
       "15 16    17    15    10    13         \n",
       "16 17    16    15    13    10         \n",
       "17 17    16    15    13    10         \n",
       "18 17    15    16    13    10         \n",
       "19 13    5     9     12    10         \n",
       "20 9     14    12    20    10         \n",
       "21 9     14    20    12    10         \n",
       "22 9     14    20    12    10         \n",
       "23 9     14    20    12    10         \n",
       "24 9     14    20    10    12         \n",
       "25 14    20    10    12    16         \n",
       "26 14    20    10    12    16         \n",
       "27 14    20    10    12    16         \n",
       "28 14    20    10    12    16         \n",
       "29 14    20    10    12    16         \n",
       "30 14    20    10    12    16         \n",
       "31 14    20    10    12    16         \n",
       "32 20    10    12    16               \n",
       "33 20    10    12    16               \n",
       "34 10    12    17    16               \n",
       "35 10    17    12    16               \n",
       "36 17    12    15    16               \n",
       "37 17    15    12    16               \n",
       "38 17    15    12    16               \n",
       "39 17    15    12    16               \n",
       "40 17    15    16                     \n",
       "41 10    15    16                     \n",
       "42 15    10    16                     \n",
       "43 15    10    16                     \n",
       "44 15    10    16                     \n",
       "45 15    10    16                     \n",
       "46 10    16                           \n",
       "47 10    16                           \n",
       "48 10    16                           \n",
       "49 10    16                           \n",
       "50 10    16                           \n",
       "51 10    16                           \n",
       "52 10    16                           \n",
       "53                                    "
      ]
     },
     "metadata": {},
     "output_type": "display_data"
    }
   ],
   "source": [
    "table_without_laps"
   ]
  },
  {
   "cell_type": "code",
   "execution_count": 178,
   "id": "4d896201",
   "metadata": {},
   "outputs": [],
   "source": [
    "scores_df_header <- scores_df_header[-1]"
   ]
  },
  {
   "cell_type": "code",
   "execution_count": 179,
   "id": "2cf7d717",
   "metadata": {},
   "outputs": [
    {
     "data": {
      "text/html": [
       "<style>\n",
       ".list-inline {list-style: none; margin:0; padding: 0}\n",
       ".list-inline>li {display: inline-block}\n",
       ".list-inline>li:not(:last-child)::after {content: \"\\00b7\"; padding: 0 .5ex}\n",
       "</style>\n",
       "<ol class=list-inline><li>'LEC'</li><li>'RUS'</li><li>'NOR'</li><li>'RIC'</li><li>'GAS'</li><li>'ALO'</li><li>'VER'</li><li>'DEV'</li><li>'ZHO'</li><li>'LAT'</li><li>'VET'</li><li>'STR'</li><li>'PER'</li><li>'OCO'</li><li>'BOT'</li><li>'MAG'</li><li>'MSC'</li><li>'SAI'</li><li>'HAM'</li><li>'TSU'</li></ol>\n"
      ],
      "text/latex": [
       "\\begin{enumerate*}\n",
       "\\item 'LEC'\n",
       "\\item 'RUS'\n",
       "\\item 'NOR'\n",
       "\\item 'RIC'\n",
       "\\item 'GAS'\n",
       "\\item 'ALO'\n",
       "\\item 'VER'\n",
       "\\item 'DEV'\n",
       "\\item 'ZHO'\n",
       "\\item 'LAT'\n",
       "\\item 'VET'\n",
       "\\item 'STR'\n",
       "\\item 'PER'\n",
       "\\item 'OCO'\n",
       "\\item 'BOT'\n",
       "\\item 'MAG'\n",
       "\\item 'MSC'\n",
       "\\item 'SAI'\n",
       "\\item 'HAM'\n",
       "\\item 'TSU'\n",
       "\\end{enumerate*}\n"
      ],
      "text/markdown": [
       "1. 'LEC'\n",
       "2. 'RUS'\n",
       "3. 'NOR'\n",
       "4. 'RIC'\n",
       "5. 'GAS'\n",
       "6. 'ALO'\n",
       "7. 'VER'\n",
       "8. 'DEV'\n",
       "9. 'ZHO'\n",
       "10. 'LAT'\n",
       "11. 'VET'\n",
       "12. 'STR'\n",
       "13. 'PER'\n",
       "14. 'OCO'\n",
       "15. 'BOT'\n",
       "16. 'MAG'\n",
       "17. 'MSC'\n",
       "18. 'SAI'\n",
       "19. 'HAM'\n",
       "20. 'TSU'\n",
       "\n",
       "\n"
      ],
      "text/plain": [
       " [1] \"LEC\" \"RUS\" \"NOR\" \"RIC\" \"GAS\" \"ALO\" \"VER\" \"DEV\" \"ZHO\" \"LAT\" \"VET\" \"STR\"\n",
       "[13] \"PER\" \"OCO\" \"BOT\" \"MAG\" \"MSC\" \"SAI\" \"HAM\" \"TSU\""
      ]
     },
     "metadata": {},
     "output_type": "display_data"
    }
   ],
   "source": [
    "names"
   ]
  },
  {
   "cell_type": "code",
   "execution_count": 5,
   "id": "fa2fe064",
   "metadata": {},
   "outputs": [
    {
     "ename": "ERROR",
     "evalue": "Error in for (name in names) {: invalid for() loop sequence\n",
     "output_type": "error",
     "traceback": [
      "Error in for (name in names) {: invalid for() loop sequence\nTraceback:\n"
     ]
    }
   ],
   "source": [
    "overlap <- 0\n",
    "df <- data.frame()\n",
    "for (name in names){\n",
    "    for (i in 1:53){\n",
    "        a <- which(scores_df_header[i, ] == name) - which(scores_df_header[i+1, ] == name)\n",
    "        a <- integer0_test(a)\n",
    "        if (a > 0){\n",
    "            overlap <- overlap + a\n",
    "        }\n",
    "    }\n",
    "    df <- rbind(df, c(name, overlap))\n",
    "    overlap <- 0\n",
    "    a <- 0\n",
    "}"
   ]
  },
  {
   "cell_type": "code",
   "execution_count": 184,
   "id": "6d25074f",
   "metadata": {},
   "outputs": [
    {
     "data": {
      "text/html": [
       "20"
      ],
      "text/latex": [
       "20"
      ],
      "text/markdown": [
       "20"
      ],
      "text/plain": [
       "[1] 20"
      ]
     },
     "metadata": {},
     "output_type": "display_data"
    }
   ],
   "source": [
    "scores_df_header %>% ncol()"
   ]
  },
  {
   "cell_type": "code",
   "execution_count": 185,
   "id": "34a0e567",
   "metadata": {},
   "outputs": [
    {
     "data": {
      "text/html": [
       "<table class=\"dataframe\">\n",
       "<caption>A data.frame: 20 × 2</caption>\n",
       "<thead>\n",
       "\t<tr><th scope=col>X.LEC.</th><th scope=col>X.2.</th></tr>\n",
       "\t<tr><th scope=col>&lt;chr&gt;</th><th scope=col>&lt;chr&gt;</th></tr>\n",
       "</thead>\n",
       "<tbody>\n",
       "\t<tr><td>LEC</td><td>2 </td></tr>\n",
       "\t<tr><td>RUS</td><td>2 </td></tr>\n",
       "\t<tr><td>NOR</td><td>7 </td></tr>\n",
       "\t<tr><td>RIC</td><td>7 </td></tr>\n",
       "\t<tr><td>GAS</td><td>9 </td></tr>\n",
       "\t<tr><td>ALO</td><td>2 </td></tr>\n",
       "\t<tr><td>VER</td><td>7 </td></tr>\n",
       "\t<tr><td>DEV</td><td>6 </td></tr>\n",
       "\t<tr><td>ZHO</td><td>8 </td></tr>\n",
       "\t<tr><td>LAT</td><td>8 </td></tr>\n",
       "\t<tr><td>VET</td><td>1 </td></tr>\n",
       "\t<tr><td>STR</td><td>7 </td></tr>\n",
       "\t<tr><td>PER</td><td>19</td></tr>\n",
       "\t<tr><td>OCO</td><td>12</td></tr>\n",
       "\t<tr><td>BOT</td><td>18</td></tr>\n",
       "\t<tr><td>MAG</td><td>16</td></tr>\n",
       "\t<tr><td>MSC</td><td>17</td></tr>\n",
       "\t<tr><td>SAI</td><td>18</td></tr>\n",
       "\t<tr><td>HAM</td><td>21</td></tr>\n",
       "\t<tr><td>TSU</td><td>14</td></tr>\n",
       "</tbody>\n",
       "</table>\n"
      ],
      "text/latex": [
       "A data.frame: 20 × 2\n",
       "\\begin{tabular}{ll}\n",
       " X.LEC. & X.2.\\\\\n",
       " <chr> & <chr>\\\\\n",
       "\\hline\n",
       "\t LEC & 2 \\\\\n",
       "\t RUS & 2 \\\\\n",
       "\t NOR & 7 \\\\\n",
       "\t RIC & 7 \\\\\n",
       "\t GAS & 9 \\\\\n",
       "\t ALO & 2 \\\\\n",
       "\t VER & 7 \\\\\n",
       "\t DEV & 6 \\\\\n",
       "\t ZHO & 8 \\\\\n",
       "\t LAT & 8 \\\\\n",
       "\t VET & 1 \\\\\n",
       "\t STR & 7 \\\\\n",
       "\t PER & 19\\\\\n",
       "\t OCO & 12\\\\\n",
       "\t BOT & 18\\\\\n",
       "\t MAG & 16\\\\\n",
       "\t MSC & 17\\\\\n",
       "\t SAI & 18\\\\\n",
       "\t HAM & 21\\\\\n",
       "\t TSU & 14\\\\\n",
       "\\end{tabular}\n"
      ],
      "text/markdown": [
       "\n",
       "A data.frame: 20 × 2\n",
       "\n",
       "| X.LEC. &lt;chr&gt; | X.2. &lt;chr&gt; |\n",
       "|---|---|\n",
       "| LEC | 2  |\n",
       "| RUS | 2  |\n",
       "| NOR | 7  |\n",
       "| RIC | 7  |\n",
       "| GAS | 9  |\n",
       "| ALO | 2  |\n",
       "| VER | 7  |\n",
       "| DEV | 6  |\n",
       "| ZHO | 8  |\n",
       "| LAT | 8  |\n",
       "| VET | 1  |\n",
       "| STR | 7  |\n",
       "| PER | 19 |\n",
       "| OCO | 12 |\n",
       "| BOT | 18 |\n",
       "| MAG | 16 |\n",
       "| MSC | 17 |\n",
       "| SAI | 18 |\n",
       "| HAM | 21 |\n",
       "| TSU | 14 |\n",
       "\n"
      ],
      "text/plain": [
       "   X.LEC. X.2.\n",
       "1  LEC    2   \n",
       "2  RUS    2   \n",
       "3  NOR    7   \n",
       "4  RIC    7   \n",
       "5  GAS    9   \n",
       "6  ALO    2   \n",
       "7  VER    7   \n",
       "8  DEV    6   \n",
       "9  ZHO    8   \n",
       "10 LAT    8   \n",
       "11 VET    1   \n",
       "12 STR    7   \n",
       "13 PER    19  \n",
       "14 OCO    12  \n",
       "15 BOT    18  \n",
       "16 MAG    16  \n",
       "17 MSC    17  \n",
       "18 SAI    18  \n",
       "19 HAM    21  \n",
       "20 TSU    14  "
      ]
     },
     "metadata": {},
     "output_type": "display_data"
    }
   ],
   "source": [
    "df"
   ]
  },
  {
   "cell_type": "code",
   "execution_count": 189,
   "id": "3044584c",
   "metadata": {},
   "outputs": [
    {
     "data": {
      "text/html": [
       "<style>\n",
       ".list-inline {list-style: none; margin:0; padding: 0}\n",
       ".list-inline>li {display: inline-block}\n",
       ".list-inline>li:not(:last-child)::after {content: \"\\00b7\"; padding: 0 .5ex}\n",
       "</style>\n",
       "<ol class=list-inline><li>1</li><li>2</li><li>3</li><li>4</li><li>5</li><li>6</li><li>7</li><li>8</li><li>9</li><li>10</li><li>11</li><li>12</li><li>13</li><li>14</li><li>15</li><li>16</li><li>17</li><li>18</li><li>19</li><li>20</li></ol>\n"
      ],
      "text/latex": [
       "\\begin{enumerate*}\n",
       "\\item 1\n",
       "\\item 2\n",
       "\\item 3\n",
       "\\item 4\n",
       "\\item 5\n",
       "\\item 6\n",
       "\\item 7\n",
       "\\item 8\n",
       "\\item 9\n",
       "\\item 10\n",
       "\\item 11\n",
       "\\item 12\n",
       "\\item 13\n",
       "\\item 14\n",
       "\\item 15\n",
       "\\item 16\n",
       "\\item 17\n",
       "\\item 18\n",
       "\\item 19\n",
       "\\item 20\n",
       "\\end{enumerate*}\n"
      ],
      "text/markdown": [
       "1. 1\n",
       "2. 2\n",
       "3. 3\n",
       "4. 4\n",
       "5. 5\n",
       "6. 6\n",
       "7. 7\n",
       "8. 8\n",
       "9. 9\n",
       "10. 10\n",
       "11. 11\n",
       "12. 12\n",
       "13. 13\n",
       "14. 14\n",
       "15. 15\n",
       "16. 16\n",
       "17. 17\n",
       "18. 18\n",
       "19. 19\n",
       "20. 20\n",
       "\n",
       "\n"
      ],
      "text/plain": [
       " [1]  1  2  3  4  5  6  7  8  9 10 11 12 13 14 15 16 17 18 19 20"
      ]
     },
     "metadata": {},
     "output_type": "display_data"
    }
   ],
   "source": [
    "names_pos"
   ]
  },
  {
   "cell_type": "code",
   "execution_count": null,
   "id": "8f11c310",
   "metadata": {},
   "outputs": [],
   "source": []
  },
  {
   "cell_type": "code",
   "execution_count": 29,
   "id": "c67839df",
   "metadata": {},
   "outputs": [],
   "source": [
    "total_overlaps <- function(page){\n",
    "    suppressMessages({\n",
    "#     url <- sprintf('https://www.statsf1.com/%s/tour-par-tour.aspx', df$Links[df$Circuits == id])\n",
    "#     url <- bow(url)\n",
    "#     page <- scrape(url, query=list(t=\"semi-soft\", per_page=100))\n",
    "\n",
    "    scores_df_header <- page %>% html_node('.datatable') %>% html_table(header = FALSE)\n",
    "    scores_df <- page %>% html_node('.datatable') %>% html_table(header = FALSE)\n",
    "    names <- page %>% html_node('.datatable') %>% html_nodes('a') %>% html_text2()\n",
    "    names <- names[-1]\n",
    "    namespos <- as.character(as.vector(scores_df[1, ]))\n",
    "    namespos <- namespos[-1]\n",
    "\n",
    "    titles <- page %>% html_node('.datatable') %>% html_nodes('a') %>% html_attr('title')\n",
    "    titles <- titles[-1]\n",
    "    titles <- c(\"Laps\", titles)\n",
    "    \n",
    "    laps <- (scores_df_header %>% nrow()) - 1\n",
    "        \n",
    "    names(scores_df_header) <- titles\n",
    "\n",
    "    for (i in 2:length(titles)){\n",
    "        scores_df_header[[i]] <- mapvalues(scores_df_header[[i]], from = namespos, to = names)\n",
    "    }\n",
    "\n",
    "    scores_df_header <- scores_df_header[-1]\n",
    "    \n",
    "    overlap <- 0\n",
    "    df <- data.frame()\n",
    "    for (name in names){\n",
    "        for (i in 1:laps){\n",
    "            a <- which(scores_df_header[i, ] == name) - which(scores_df_header[i+1, ] == name)\n",
    "            a <- integer0_test(a)\n",
    "            if (a > 0){\n",
    "                overlap <- overlap + a\n",
    "            }\n",
    "        }\n",
    "        df <- rbind(df, c(name, overlap))\n",
    "        overlap <- 0\n",
    "        a <- 0\n",
    "    }\n",
    "    df <- cbind(df, Id = names)\n",
    "    names(df) <- c('Driver', 'Overlaps', 'DrID')\n",
    "    df[[1]] <- mapvalues(df[[1]], from=names, to=titles[-1])\n",
    "    return(df)\n",
    "        })\n",
    "    }"
   ]
  },
  {
   "cell_type": "code",
   "execution_count": 48,
   "id": "94656eba",
   "metadata": {},
   "outputs": [],
   "source": [
    "race <- total_overlaps(page)"
   ]
  },
  {
   "cell_type": "code",
   "execution_count": 213,
   "id": "43b4cda4",
   "metadata": {},
   "outputs": [
    {
     "data": {
      "text/html": [
       "21"
      ],
      "text/latex": [
       "21"
      ],
      "text/markdown": [
       "21"
      ],
      "text/plain": [
       "[1] 21"
      ]
     },
     "metadata": {},
     "output_type": "display_data"
    }
   ],
   "source": [
    "titles %>% length()"
   ]
  },
  {
   "cell_type": "code",
   "execution_count": 196,
   "id": "811c875e",
   "metadata": {},
   "outputs": [
    {
     "data": {
      "text/html": [
       "<style>\n",
       ".list-inline {list-style: none; margin:0; padding: 0}\n",
       ".list-inline>li {display: inline-block}\n",
       ".list-inline>li:not(:last-child)::after {content: \"\\00b7\"; padding: 0 .5ex}\n",
       "</style>\n",
       "<ol class=list-inline><li>'LEC'</li><li>'RUS'</li><li>'NOR'</li><li>'RIC'</li><li>'GAS'</li><li>'ALO'</li><li>'VER'</li><li>'DEV'</li><li>'ZHO'</li><li>'LAT'</li><li>'VET'</li><li>'STR'</li><li>'PER'</li><li>'OCO'</li><li>'BOT'</li><li>'MAG'</li><li>'MSC'</li><li>'SAI'</li><li>'HAM'</li><li>'TSU'</li></ol>\n"
      ],
      "text/latex": [
       "\\begin{enumerate*}\n",
       "\\item 'LEC'\n",
       "\\item 'RUS'\n",
       "\\item 'NOR'\n",
       "\\item 'RIC'\n",
       "\\item 'GAS'\n",
       "\\item 'ALO'\n",
       "\\item 'VER'\n",
       "\\item 'DEV'\n",
       "\\item 'ZHO'\n",
       "\\item 'LAT'\n",
       "\\item 'VET'\n",
       "\\item 'STR'\n",
       "\\item 'PER'\n",
       "\\item 'OCO'\n",
       "\\item 'BOT'\n",
       "\\item 'MAG'\n",
       "\\item 'MSC'\n",
       "\\item 'SAI'\n",
       "\\item 'HAM'\n",
       "\\item 'TSU'\n",
       "\\end{enumerate*}\n"
      ],
      "text/markdown": [
       "1. 'LEC'\n",
       "2. 'RUS'\n",
       "3. 'NOR'\n",
       "4. 'RIC'\n",
       "5. 'GAS'\n",
       "6. 'ALO'\n",
       "7. 'VER'\n",
       "8. 'DEV'\n",
       "9. 'ZHO'\n",
       "10. 'LAT'\n",
       "11. 'VET'\n",
       "12. 'STR'\n",
       "13. 'PER'\n",
       "14. 'OCO'\n",
       "15. 'BOT'\n",
       "16. 'MAG'\n",
       "17. 'MSC'\n",
       "18. 'SAI'\n",
       "19. 'HAM'\n",
       "20. 'TSU'\n",
       "\n",
       "\n"
      ],
      "text/plain": [
       " [1] \"LEC\" \"RUS\" \"NOR\" \"RIC\" \"GAS\" \"ALO\" \"VER\" \"DEV\" \"ZHO\" \"LAT\" \"VET\" \"STR\"\n",
       "[13] \"PER\" \"OCO\" \"BOT\" \"MAG\" \"MSC\" \"SAI\" \"HAM\" \"TSU\""
      ]
     },
     "metadata": {},
     "output_type": "display_data"
    }
   ],
   "source": [
    "names"
   ]
  },
  {
   "cell_type": "code",
   "execution_count": null,
   "id": "da36ac68",
   "metadata": {},
   "outputs": [],
   "source": [
    "names <- page %>% html_node('.datatable') %>% html_nodes('a') %>% html_text()\n",
    "names <- names[-1]"
   ]
  },
  {
   "cell_type": "code",
   "execution_count": null,
   "id": "44549e17",
   "metadata": {},
   "outputs": [],
   "source": [
    "namespos <- as.character(as.vector(scores_df[1, ]))\n",
    "namespos <- namespos[-1]"
   ]
  },
  {
   "cell_type": "code",
   "execution_count": null,
   "id": "dade6f33",
   "metadata": {},
   "outputs": [],
   "source": [
    "titles <- page %>% html_node('.datatable') %>% html_nodes('a') %>% html_attr('title')\n",
    "\n",
    "titles <- titles[-1]\n",
    "titles <- c(\"Laps\", titles)"
   ]
  },
  {
   "cell_type": "code",
   "execution_count": 9,
   "id": "61e3f070",
   "metadata": {},
   "outputs": [],
   "source": [
    "url <- 'https://www.statsf1.com/en/2022/italie/tour-par-tour.aspx'\n",
    "url <- bow(url)\n",
    "page <- scrape(url, query=list(t=\"semi-soft\", per_page=100))"
   ]
  },
  {
   "cell_type": "code",
   "execution_count": 33,
   "id": "b95b867f",
   "metadata": {},
   "outputs": [],
   "source": [
    "mod_total_overlaps <- function(page, vector){\n",
    "    suppressMessages({\n",
    "#     url <- sprintf('https://www.statsf1.com/%s/tour-par-tour.aspx', df$Links[df$Circuits == id])\n",
    "#     url <- bow(url)\n",
    "#     page <- scrape(url, query=list(t=\"semi-soft\", per_page=100))\n",
    "    scores_df <- page %>% html_node('.datatable') %>% html_table(header = FALSE)\n",
    "    scores_df_header <- page %>% html_node('.datatable') %>% html_table(header = FALSE)\n",
    "\n",
    "    names <- page %>% html_node('.datatable') %>% html_nodes('a') %>% html_text()\n",
    "    names <- names[-1]\n",
    "\n",
    "    namespos <- as.character(as.vector(scores_df[1, ]))\n",
    "    namespos <- namespos[-1]\n",
    "\n",
    "    titles <- page %>% html_node('.datatable') %>% html_nodes('a') %>% html_attr('title')\n",
    "    titles <- titles[-1]\n",
    "    titles <- c(\"Laps\", titles)\n",
    "    \n",
    "    laps <- (scores_df_header %>% nrow()) - 1\n",
    "        \n",
    "    names(scores_df_header) <- titles\n",
    "\n",
    "    for (i in 2:length(titles)){\n",
    "        scores_df_header[[i]] <- mapvalues(scores_df_header[[i]], from = namespos, to = names)\n",
    "    }\n",
    "\n",
    "    scores_df_header <- scores_df_header[-1]\n",
    "    names_pos <- c(1:length(names))\n",
    "    did <- 0\n",
    "    got <- 0\n",
    "    vector_number <- mapvalues(vector, from = names, to = names_pos)\n",
    "    \n",
    "    vector_number <- sort(vector_number)\n",
    "    vector <- mapvalues(vector_number, from = names_pos, to = names)\n",
    "    for (i in 1:laps){\n",
    "        previous_lap <- which(scores_df_header[i, ] == vector[1]) - which(scores_df_header[i, ] == vector[2])\n",
    "        next_lap <- which(scores_df_header[i + 1, ] == vector[1]) - which(scores_df_header[i + 1, ] == vector[2])\n",
    "        previous_lap  <- integer0_test(previous_lap)\n",
    "        next_lap <- integer0_test(next_lap)\n",
    "        if (previous_lap < 0 & next_lap > 0) {\n",
    "            did <- did + 1  \n",
    "        }\n",
    "        else if (previous_lap > 0 && next_lap < 0) {\n",
    "            got <- got + 1\n",
    "        }\n",
    "    }\n",
    "        \n",
    "    headov <- data.frame(Driver = '')\n",
    "    return(c(got, did))\n",
    "#     print(sprintf('%s overtakes %s %d time(s)', vector[1], vector[2], got))\n",
    "#     print(sprintf('%s overtakes %s %d time(s)', vector[2], vector[1], did))\n",
    "        })\n",
    "    }"
   ]
  },
  {
   "cell_type": "code",
   "execution_count": 35,
   "id": "7847a58d",
   "metadata": {
    "scrolled": false
   },
   "outputs": [],
   "source": [
    "vals <- mod_total_overlaps(page, c('LAT', 'BOT'))"
   ]
  },
  {
   "cell_type": "code",
   "execution_count": 37,
   "id": "64412b22",
   "metadata": {},
   "outputs": [
    {
     "data": {
      "text/html": [
       "2"
      ],
      "text/latex": [
       "2"
      ],
      "text/markdown": [
       "2"
      ],
      "text/plain": [
       "[1] 2"
      ]
     },
     "metadata": {},
     "output_type": "display_data"
    }
   ],
   "source": [
    "vals[2]"
   ]
  },
  {
   "cell_type": "code",
   "execution_count": 45,
   "id": "914d9c61",
   "metadata": {},
   "outputs": [],
   "source": [
    "testf <- function(){\n",
    "    vals <- mod_total_overlaps(page, c('LAT', 'BOT'))\n",
    "    b <- 'asd'\n",
    "    c <- 'aawe'\n",
    "    return(c(vals, b, c))\n",
    "}"
   ]
  },
  {
   "cell_type": "code",
   "execution_count": 47,
   "id": "69ef8279",
   "metadata": {},
   "outputs": [
    {
     "data": {
      "text/html": [
       "<style>\n",
       ".list-inline {list-style: none; margin:0; padding: 0}\n",
       ".list-inline>li {display: inline-block}\n",
       ".list-inline>li:not(:last-child)::after {content: \"\\00b7\"; padding: 0 .5ex}\n",
       "</style>\n",
       "<ol class=list-inline><li>'1'</li><li>'2'</li><li>'asd'</li><li>'aawe'</li></ol>\n"
      ],
      "text/latex": [
       "\\begin{enumerate*}\n",
       "\\item '1'\n",
       "\\item '2'\n",
       "\\item 'asd'\n",
       "\\item 'aawe'\n",
       "\\end{enumerate*}\n"
      ],
      "text/markdown": [
       "1. '1'\n",
       "2. '2'\n",
       "3. 'asd'\n",
       "4. 'aawe'\n",
       "\n",
       "\n"
      ],
      "text/plain": [
       "[1] \"1\"    \"2\"    \"asd\"  \"aawe\""
      ]
     },
     "metadata": {},
     "output_type": "display_data"
    }
   ],
   "source": [
    "testf()"
   ]
  },
  {
   "cell_type": "code",
   "execution_count": 221,
   "id": "2806f59f",
   "metadata": {},
   "outputs": [],
   "source": [
    "overlapping <- function(vector, names, names_pos, table){\n",
    "    \n",
    "    did <- 0\n",
    "    got <- 0\n",
    "    vector_number <- mapvalues(vector, from = names, to = names_pos)\n",
    "    vector_number <- sort(vector_number)\n",
    "    vector <- mapvalues(vector_number, from = names_pos, to = names)\n",
    "    for (i in 1:53){\n",
    "        previous_lap <- which(table_without_laps[i, ] == vector_number[1]) - which(table_without_laps[i, ] == vector_number[2])\n",
    "        next_lap <- which(table_without_laps[i + 1, ] == vector_number[1]) - which(table_without_laps[i + 1, ] == vector_number[2])\n",
    "        previous_lap  <- integer0_test(previous_lap)\n",
    "        next_lap <- integer0_test(next_lap)\n",
    "        if (previous_lap < 0 & next_lap > 0) {\n",
    "            did <- did + 1  \n",
    "        }\n",
    "        else if (previous_lap > 0 && next_lap < 0) {\n",
    "            got <- got + 1\n",
    "        }\n",
    "    }\n",
    "    print(sprintf('%s overtakes %s %d time(s)', vector[1], vector[2], got))\n",
    "    print(sprintf('%s overtakes %s %d time(s)', vector[2], vector[1], did))\n",
    "}"
   ]
  },
  {
   "cell_type": "code",
   "execution_count": 222,
   "id": "1e69372f",
   "metadata": {},
   "outputs": [
    {
     "name": "stderr",
     "output_type": "stream",
     "text": [
      "The following `from` values were not present in `x`: LEC, RUS, NOR, RIC, GAS, ALO, VER, DEV, ZHO, VET, STR, PER, OCO, MAG, MSC, SAI, HAM, TSU\n",
      "\n",
      "The following `from` values were not present in `x`: 1, 2, 3, 4, 5, 6, 7, 8, 9, 11, 12, 13, 14, 16, 17, 18, 19, 20\n",
      "\n"
     ]
    },
    {
     "name": "stdout",
     "output_type": "stream",
     "text": [
      "[1] \"LAT overtakes BOT 1 time(s)\"\n",
      "[1] \"BOT overtakes LAT 2 time(s)\"\n"
     ]
    }
   ],
   "source": [
    "overlapping(c('LAT', 'BOT'), names ,names_pos, table_without_laps)"
   ]
  },
  {
   "cell_type": "code",
   "execution_count": 225,
   "id": "75546708",
   "metadata": {},
   "outputs": [
    {
     "data": {
      "text/html": [
       "<style>\n",
       ".list-inline {list-style: none; margin:0; padding: 0}\n",
       ".list-inline>li {display: inline-block}\n",
       ".list-inline>li:not(:last-child)::after {content: \"\\00b7\"; padding: 0 .5ex}\n",
       "</style>\n",
       "<ol class=list-inline><li>1</li><li>2</li><li>3</li><li>4</li><li>5</li><li>6</li><li>7</li><li>8</li><li>9</li><li>10</li><li>11</li><li>12</li><li>13</li><li>14</li><li>15</li><li>16</li><li>17</li><li>18</li><li>19</li><li>20</li></ol>\n"
      ],
      "text/latex": [
       "\\begin{enumerate*}\n",
       "\\item 1\n",
       "\\item 2\n",
       "\\item 3\n",
       "\\item 4\n",
       "\\item 5\n",
       "\\item 6\n",
       "\\item 7\n",
       "\\item 8\n",
       "\\item 9\n",
       "\\item 10\n",
       "\\item 11\n",
       "\\item 12\n",
       "\\item 13\n",
       "\\item 14\n",
       "\\item 15\n",
       "\\item 16\n",
       "\\item 17\n",
       "\\item 18\n",
       "\\item 19\n",
       "\\item 20\n",
       "\\end{enumerate*}\n"
      ],
      "text/markdown": [
       "1. 1\n",
       "2. 2\n",
       "3. 3\n",
       "4. 4\n",
       "5. 5\n",
       "6. 6\n",
       "7. 7\n",
       "8. 8\n",
       "9. 9\n",
       "10. 10\n",
       "11. 11\n",
       "12. 12\n",
       "13. 13\n",
       "14. 14\n",
       "15. 15\n",
       "16. 16\n",
       "17. 17\n",
       "18. 18\n",
       "19. 19\n",
       "20. 20\n",
       "\n",
       "\n"
      ],
      "text/plain": [
       " [1]  1  2  3  4  5  6  7  8  9 10 11 12 13 14 15 16 17 18 19 20"
      ]
     },
     "metadata": {},
     "output_type": "display_data"
    }
   ],
   "source": [
    "names_pos"
   ]
  },
  {
   "cell_type": "code",
   "execution_count": 226,
   "id": "7192b62f",
   "metadata": {},
   "outputs": [],
   "source": [
    "test <- c(1:length(names))"
   ]
  },
  {
   "cell_type": "code",
   "execution_count": 227,
   "id": "12c23bdb",
   "metadata": {},
   "outputs": [
    {
     "data": {
      "text/html": [
       "<style>\n",
       ".list-inline {list-style: none; margin:0; padding: 0}\n",
       ".list-inline>li {display: inline-block}\n",
       ".list-inline>li:not(:last-child)::after {content: \"\\00b7\"; padding: 0 .5ex}\n",
       "</style>\n",
       "<ol class=list-inline><li>1</li><li>2</li><li>3</li><li>4</li><li>5</li><li>6</li><li>7</li><li>8</li><li>9</li><li>10</li><li>11</li><li>12</li><li>13</li><li>14</li><li>15</li><li>16</li><li>17</li><li>18</li><li>19</li><li>20</li></ol>\n"
      ],
      "text/latex": [
       "\\begin{enumerate*}\n",
       "\\item 1\n",
       "\\item 2\n",
       "\\item 3\n",
       "\\item 4\n",
       "\\item 5\n",
       "\\item 6\n",
       "\\item 7\n",
       "\\item 8\n",
       "\\item 9\n",
       "\\item 10\n",
       "\\item 11\n",
       "\\item 12\n",
       "\\item 13\n",
       "\\item 14\n",
       "\\item 15\n",
       "\\item 16\n",
       "\\item 17\n",
       "\\item 18\n",
       "\\item 19\n",
       "\\item 20\n",
       "\\end{enumerate*}\n"
      ],
      "text/markdown": [
       "1. 1\n",
       "2. 2\n",
       "3. 3\n",
       "4. 4\n",
       "5. 5\n",
       "6. 6\n",
       "7. 7\n",
       "8. 8\n",
       "9. 9\n",
       "10. 10\n",
       "11. 11\n",
       "12. 12\n",
       "13. 13\n",
       "14. 14\n",
       "15. 15\n",
       "16. 16\n",
       "17. 17\n",
       "18. 18\n",
       "19. 19\n",
       "20. 20\n",
       "\n",
       "\n"
      ],
      "text/plain": [
       " [1]  1  2  3  4  5  6  7  8  9 10 11 12 13 14 15 16 17 18 19 20"
      ]
     },
     "metadata": {},
     "output_type": "display_data"
    }
   ],
   "source": [
    "test"
   ]
  },
  {
   "cell_type": "code",
   "execution_count": 49,
   "id": "19b9366d",
   "metadata": {},
   "outputs": [
    {
     "data": {
      "text/html": [
       "<table class=\"dataframe\">\n",
       "<caption>A data.frame: 20 × 3</caption>\n",
       "<thead>\n",
       "\t<tr><th scope=col>Driver</th><th scope=col>Overlaps</th><th scope=col>DrID</th></tr>\n",
       "\t<tr><th scope=col>&lt;chr&gt;</th><th scope=col>&lt;chr&gt;</th><th scope=col>&lt;chr&gt;</th></tr>\n",
       "</thead>\n",
       "<tbody>\n",
       "\t<tr><td>C.LECLERC   </td><td>2 </td><td>LEC</td></tr>\n",
       "\t<tr><td>G.RUSSELL   </td><td>2 </td><td>RUS</td></tr>\n",
       "\t<tr><td>L.NORRIS    </td><td>7 </td><td>NOR</td></tr>\n",
       "\t<tr><td>D.RICCIARDO </td><td>7 </td><td>RIC</td></tr>\n",
       "\t<tr><td>P.GASLY     </td><td>9 </td><td>GAS</td></tr>\n",
       "\t<tr><td>F.ALONSO    </td><td>2 </td><td>ALO</td></tr>\n",
       "\t<tr><td>M.VERSTAPPEN</td><td>7 </td><td>VER</td></tr>\n",
       "\t<tr><td>N.de VRIES  </td><td>6 </td><td>DEV</td></tr>\n",
       "\t<tr><td>G.ZHOU      </td><td>8 </td><td>ZHO</td></tr>\n",
       "\t<tr><td>N.LATIFI    </td><td>8 </td><td>LAT</td></tr>\n",
       "\t<tr><td>S.VETTEL    </td><td>1 </td><td>VET</td></tr>\n",
       "\t<tr><td>L.STROLL    </td><td>7 </td><td>STR</td></tr>\n",
       "\t<tr><td>S.PEREZ     </td><td>19</td><td>PER</td></tr>\n",
       "\t<tr><td>E.OCON      </td><td>12</td><td>OCO</td></tr>\n",
       "\t<tr><td>V.BOTTAS    </td><td>18</td><td>BOT</td></tr>\n",
       "\t<tr><td>K.MAGNUSSEN </td><td>16</td><td>MAG</td></tr>\n",
       "\t<tr><td>M.SCHUMACHER</td><td>17</td><td>MSC</td></tr>\n",
       "\t<tr><td>C.SAINZ     </td><td>18</td><td>SAI</td></tr>\n",
       "\t<tr><td>L.HAMILTON  </td><td>21</td><td>HAM</td></tr>\n",
       "\t<tr><td>Y.TSUNODA   </td><td>14</td><td>TSU</td></tr>\n",
       "</tbody>\n",
       "</table>\n"
      ],
      "text/latex": [
       "A data.frame: 20 × 3\n",
       "\\begin{tabular}{lll}\n",
       " Driver & Overlaps & DrID\\\\\n",
       " <chr> & <chr> & <chr>\\\\\n",
       "\\hline\n",
       "\t C.LECLERC    & 2  & LEC\\\\\n",
       "\t G.RUSSELL    & 2  & RUS\\\\\n",
       "\t L.NORRIS     & 7  & NOR\\\\\n",
       "\t D.RICCIARDO  & 7  & RIC\\\\\n",
       "\t P.GASLY      & 9  & GAS\\\\\n",
       "\t F.ALONSO     & 2  & ALO\\\\\n",
       "\t M.VERSTAPPEN & 7  & VER\\\\\n",
       "\t N.de VRIES   & 6  & DEV\\\\\n",
       "\t G.ZHOU       & 8  & ZHO\\\\\n",
       "\t N.LATIFI     & 8  & LAT\\\\\n",
       "\t S.VETTEL     & 1  & VET\\\\\n",
       "\t L.STROLL     & 7  & STR\\\\\n",
       "\t S.PEREZ      & 19 & PER\\\\\n",
       "\t E.OCON       & 12 & OCO\\\\\n",
       "\t V.BOTTAS     & 18 & BOT\\\\\n",
       "\t K.MAGNUSSEN  & 16 & MAG\\\\\n",
       "\t M.SCHUMACHER & 17 & MSC\\\\\n",
       "\t C.SAINZ      & 18 & SAI\\\\\n",
       "\t L.HAMILTON   & 21 & HAM\\\\\n",
       "\t Y.TSUNODA    & 14 & TSU\\\\\n",
       "\\end{tabular}\n"
      ],
      "text/markdown": [
       "\n",
       "A data.frame: 20 × 3\n",
       "\n",
       "| Driver &lt;chr&gt; | Overlaps &lt;chr&gt; | DrID &lt;chr&gt; |\n",
       "|---|---|---|\n",
       "| C.LECLERC    | 2  | LEC |\n",
       "| G.RUSSELL    | 2  | RUS |\n",
       "| L.NORRIS     | 7  | NOR |\n",
       "| D.RICCIARDO  | 7  | RIC |\n",
       "| P.GASLY      | 9  | GAS |\n",
       "| F.ALONSO     | 2  | ALO |\n",
       "| M.VERSTAPPEN | 7  | VER |\n",
       "| N.de VRIES   | 6  | DEV |\n",
       "| G.ZHOU       | 8  | ZHO |\n",
       "| N.LATIFI     | 8  | LAT |\n",
       "| S.VETTEL     | 1  | VET |\n",
       "| L.STROLL     | 7  | STR |\n",
       "| S.PEREZ      | 19 | PER |\n",
       "| E.OCON       | 12 | OCO |\n",
       "| V.BOTTAS     | 18 | BOT |\n",
       "| K.MAGNUSSEN  | 16 | MAG |\n",
       "| M.SCHUMACHER | 17 | MSC |\n",
       "| C.SAINZ      | 18 | SAI |\n",
       "| L.HAMILTON   | 21 | HAM |\n",
       "| Y.TSUNODA    | 14 | TSU |\n",
       "\n"
      ],
      "text/plain": [
       "   Driver       Overlaps DrID\n",
       "1  C.LECLERC    2        LEC \n",
       "2  G.RUSSELL    2        RUS \n",
       "3  L.NORRIS     7        NOR \n",
       "4  D.RICCIARDO  7        RIC \n",
       "5  P.GASLY      9        GAS \n",
       "6  F.ALONSO     2        ALO \n",
       "7  M.VERSTAPPEN 7        VER \n",
       "8  N.de VRIES   6        DEV \n",
       "9  G.ZHOU       8        ZHO \n",
       "10 N.LATIFI     8        LAT \n",
       "11 S.VETTEL     1        VET \n",
       "12 L.STROLL     7        STR \n",
       "13 S.PEREZ      19       PER \n",
       "14 E.OCON       12       OCO \n",
       "15 V.BOTTAS     18       BOT \n",
       "16 K.MAGNUSSEN  16       MAG \n",
       "17 M.SCHUMACHER 17       MSC \n",
       "18 C.SAINZ      18       SAI \n",
       "19 L.HAMILTON   21       HAM \n",
       "20 Y.TSUNODA    14       TSU "
      ]
     },
     "metadata": {},
     "output_type": "display_data"
    }
   ],
   "source": [
    "race"
   ]
  },
  {
   "cell_type": "code",
   "execution_count": 50,
   "id": "aafd997c",
   "metadata": {},
   "outputs": [],
   "source": [
    "gfx_race_circuits <- function(year){\n",
    "  session <- bow(sprintf(\"https://www.statsf1.com/en/%d.aspx\", year), force = TRUE)\n",
    "  result <- scrape(session, query=list(t=\"semi-soft\", per_page=100))\n",
    "  driver_links <- result %>% html_nodes('.libelle') %>% html_node('a') %>% html_attr('href')\n",
    "  driver_names <- result %>% html_nodes('.libelle') %>% html_node('a') %>% html_text2()\n",
    "  driver_info <- data.frame(Driver = driver_names, Profile = driver_links)\n",
    "\n",
    "  return(driver_info)\n",
    "}"
   ]
  },
  {
   "cell_type": "code",
   "execution_count": 51,
   "id": "a1ae2a01",
   "metadata": {},
   "outputs": [],
   "source": [
    "toto <- gfx_race_circuits(2022)"
   ]
  },
  {
   "cell_type": "code",
   "execution_count": 59,
   "id": "12a1a64a",
   "metadata": {},
   "outputs": [],
   "source": [
    "toto$Driver <- gsub(x = toto$Driver, pattern = ' ', replacement = '')"
   ]
  },
  {
   "cell_type": "code",
   "execution_count": 54,
   "id": "14fce397",
   "metadata": {},
   "outputs": [],
   "source": [
    "full <- race$Driver[race$DrID == 'LEC']"
   ]
  },
  {
   "cell_type": "code",
   "execution_count": 55,
   "id": "d7f02c29",
   "metadata": {},
   "outputs": [
    {
     "data": {
      "text/html": [
       "'C.LECLERC'"
      ],
      "text/latex": [
       "'C.LECLERC'"
      ],
      "text/markdown": [
       "'C.LECLERC'"
      ],
      "text/plain": [
       "[1] \"C.LECLERC\""
      ]
     },
     "metadata": {},
     "output_type": "display_data"
    }
   ],
   "source": [
    "full"
   ]
  },
  {
   "cell_type": "code",
   "execution_count": 60,
   "id": "847753d6",
   "metadata": {},
   "outputs": [
    {
     "data": {
      "text/html": [
       "'/en/charles-leclerc.aspx'"
      ],
      "text/latex": [
       "'/en/charles-leclerc.aspx'"
      ],
      "text/markdown": [
       "'/en/charles-leclerc.aspx'"
      ],
      "text/plain": [
       "[1] \"/en/charles-leclerc.aspx\""
      ]
     },
     "metadata": {},
     "output_type": "display_data"
    }
   ],
   "source": [
    "toto$Profile[toto$Driver == full]"
   ]
  },
  {
   "cell_type": "code",
   "execution_count": null,
   "id": "5c7dd991",
   "metadata": {},
   "outputs": [],
   "source": []
  }
 ],
 "metadata": {
  "kernelspec": {
   "display_name": "R",
   "language": "R",
   "name": "ir"
  },
  "language_info": {
   "codemirror_mode": "r",
   "file_extension": ".r",
   "mimetype": "text/x-r-source",
   "name": "R",
   "pygments_lexer": "r",
   "version": "4.1.3"
  }
 },
 "nbformat": 4,
 "nbformat_minor": 5
}
