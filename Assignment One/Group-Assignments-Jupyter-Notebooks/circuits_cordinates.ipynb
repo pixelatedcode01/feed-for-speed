{
 "cells": [
  {
   "cell_type": "code",
   "execution_count": 7,
   "id": "32eb2c59",
   "metadata": {},
   "outputs": [],
   "source": [
    "library(rvest)\n",
    "library(tidyverse)"
   ]
  },
  {
   "cell_type": "code",
   "execution_count": 38,
   "id": "5940316f",
   "metadata": {},
   "outputs": [],
   "source": [
    "url <- 'https://www.statsf1.com/en/circuits.aspx'"
   ]
  },
  {
   "cell_type": "code",
   "execution_count": 43,
   "id": "ea05e987",
   "metadata": {},
   "outputs": [],
   "source": [
    "s <- session('https://www.statsf1.com/en/default.aspx')"
   ]
  },
  {
   "cell_type": "code",
   "execution_count": 48,
   "id": "8f50e11b",
   "metadata": {},
   "outputs": [],
   "source": [
    "ses <- 'https://www.statsf1.com/en/circuits.aspx' %>% session()"
   ]
  },
  {
   "cell_type": "code",
   "execution_count": 45,
   "id": "24e840cd",
   "metadata": {},
   "outputs": [],
   "source": [
    "s <- session_jump_to(s, link)"
   ]
  },
  {
   "cell_type": "code",
   "execution_count": 51,
   "id": "784faf94",
   "metadata": {},
   "outputs": [
    {
     "ename": "ERROR",
     "evalue": "Error in read_xml(url, encoding = \"UTF-8\"): could not find function \"read_xml\"\n",
     "output_type": "error",
     "traceback": [
      "Error in read_xml(url, encoding = \"UTF-8\"): could not find function \"read_xml\"\nTraceback:\n"
     ]
    }
   ],
   "source": [
    "xml_content <- read_xml(url, encoding = \"UTF-8\")"
   ]
  },
  {
   "cell_type": "code",
   "execution_count": 42,
   "id": "0c79ae78",
   "metadata": {},
   "outputs": [
    {
     "ename": "ERROR",
     "evalue": "\u001b[1m\u001b[33mError\u001b[39m in `read_html()`:\u001b[22m\n\u001b[33m!\u001b[39m Page doesn't appear to be html.\n",
     "output_type": "error",
     "traceback": [
      "\u001b[1m\u001b[33mError\u001b[39m in `read_html()`:\u001b[22m\n\u001b[33m!\u001b[39m Page doesn't appear to be html.\nTraceback:\n",
      "1. read_html(s)",
      "2. read_html.rvest_session(s)",
      "3. abort(\"Page doesn't appear to be html.\")",
      "4. signal_abort(cnd, .file)"
     ]
    }
   ],
   "source": [
    "page = read_html(s)"
   ]
  },
  {
   "cell_type": "code",
   "execution_count": 71,
   "id": "2ec745c7",
   "metadata": {},
   "outputs": [],
   "source": [
    "circuits_df <- page %>% html_node('.sortable') %>% html_table(header = TRUE)"
   ]
  },
  {
   "cell_type": "code",
   "execution_count": 72,
   "id": "024ea571",
   "metadata": {},
   "outputs": [],
   "source": [
    "circuits_df <- data.frame(circuits_df)"
   ]
  },
  {
   "cell_type": "code",
   "execution_count": 73,
   "id": "d283f113",
   "metadata": {},
   "outputs": [
    {
     "data": {
      "text/html": [
       "<style>\n",
       ".list-inline {list-style: none; margin:0; padding: 0}\n",
       ".list-inline>li {display: inline-block}\n",
       ".list-inline>li:not(:last-child)::after {content: \"\\00b7\"; padding: 0 .5ex}\n",
       "</style>\n",
       "<ol class=list-inline><li>'X78.Circuits'</li><li>'Var.2'</li><li>'Countries'</li><li>'Countries.1'</li><li>'Begin.in'</li><li>'Nb'</li></ol>\n"
      ],
      "text/latex": [
       "\\begin{enumerate*}\n",
       "\\item 'X78.Circuits'\n",
       "\\item 'Var.2'\n",
       "\\item 'Countries'\n",
       "\\item 'Countries.1'\n",
       "\\item 'Begin.in'\n",
       "\\item 'Nb'\n",
       "\\end{enumerate*}\n"
      ],
      "text/markdown": [
       "1. 'X78.Circuits'\n",
       "2. 'Var.2'\n",
       "3. 'Countries'\n",
       "4. 'Countries.1'\n",
       "5. 'Begin.in'\n",
       "6. 'Nb'\n",
       "\n",
       "\n"
      ],
      "text/plain": [
       "[1] \"X78.Circuits\" \"Var.2\"        \"Countries\"    \"Countries.1\"  \"Begin.in\"    \n",
       "[6] \"Nb\"          "
      ]
     },
     "metadata": {},
     "output_type": "display_data"
    }
   ],
   "source": [
    "names(circuits_df)"
   ]
  },
  {
   "cell_type": "code",
   "execution_count": 74,
   "id": "cd277c39",
   "metadata": {},
   "outputs": [],
   "source": [
    "circuits_df <- circuits_df %>% select('X78.Circuits', 'Var.2','Countries.1')"
   ]
  },
  {
   "cell_type": "code",
   "execution_count": 84,
   "id": "7cbabb39",
   "metadata": {},
   "outputs": [],
   "source": [
    "circuits_df$X78.Circuits <- stri_trans_general(circuits_df$X78.Circuits, \"Latin-ASCII\")"
   ]
  },
  {
   "cell_type": "code",
   "execution_count": 92,
   "id": "671e5fb0",
   "metadata": {},
   "outputs": [],
   "source": [
    "circuits_df <- circuits_df[-79, ]"
   ]
  },
  {
   "cell_type": "code",
   "execution_count": 151,
   "id": "2620726f",
   "metadata": {},
   "outputs": [],
   "source": [
    "track_name <- 'Silverstone'"
   ]
  },
  {
   "cell_type": "code",
   "execution_count": 152,
   "id": "2d96e43a",
   "metadata": {},
   "outputs": [],
   "source": [
    "track <- sprintf('https://www.statsf1.com/en/circuit-%s.aspx', track_name)"
   ]
  },
  {
   "cell_type": "code",
   "execution_count": 153,
   "id": "4c0e504f",
   "metadata": {},
   "outputs": [],
   "source": [
    "page <- read_html(track)"
   ]
  },
  {
   "cell_type": "code",
   "execution_count": 154,
   "id": "e365d587",
   "metadata": {
    "scrolled": true
   },
   "outputs": [
    {
     "data": {
      "text/plain": [
       "{html_document}\n",
       "<html id=\"ctl00_html\" lang=\"en\">\n",
       "[1] <head>\\n<!-- Google Analytics --><!-- Global site tag (gtag.js) - Google  ...\n",
       "[2] <body>\\r\\n  <form name=\"aspnetForm\" method=\"post\" action=\"/en/circuit-Sil ..."
      ]
     },
     "metadata": {},
     "output_type": "display_data"
    }
   ],
   "source": [
    "page"
   ]
  },
  {
   "cell_type": "code",
   "execution_count": 155,
   "id": "939b32ef",
   "metadata": {},
   "outputs": [],
   "source": [
    "link <- page %>% html_node(\"#ctl00_CPH_Main_HL_Google\") %>% html_attr('href')"
   ]
  },
  {
   "cell_type": "code",
   "execution_count": 12,
   "id": "6a7d6321",
   "metadata": {},
   "outputs": [],
   "source": [
    "library(urltools)"
   ]
  },
  {
   "cell_type": "code",
   "execution_count": 157,
   "id": "ab2fb598",
   "metadata": {},
   "outputs": [],
   "source": [
    "parsed <- url_parse(link)"
   ]
  },
  {
   "cell_type": "code",
   "execution_count": 158,
   "id": "86caf51a",
   "metadata": {},
   "outputs": [
    {
     "data": {
      "text/html": [
       "<table class=\"dataframe\">\n",
       "<caption>A data.frame: 1 × 6</caption>\n",
       "<thead>\n",
       "\t<tr><th scope=col>scheme</th><th scope=col>domain</th><th scope=col>port</th><th scope=col>path</th><th scope=col>parameter</th><th scope=col>fragment</th></tr>\n",
       "\t<tr><th scope=col>&lt;chr&gt;</th><th scope=col>&lt;chr&gt;</th><th scope=col>&lt;chr&gt;</th><th scope=col>&lt;chr&gt;</th><th scope=col>&lt;chr&gt;</th><th scope=col>&lt;chr&gt;</th></tr>\n",
       "</thead>\n",
       "<tbody>\n",
       "\t<tr><td>https</td><td>52.07159,-1.01615,2778m</td><td>NA</td><td>data=!3m1!1e3</td><td>NA</td><td>NA</td></tr>\n",
       "</tbody>\n",
       "</table>\n"
      ],
      "text/latex": [
       "A data.frame: 1 × 6\n",
       "\\begin{tabular}{llllll}\n",
       " scheme & domain & port & path & parameter & fragment\\\\\n",
       " <chr> & <chr> & <chr> & <chr> & <chr> & <chr>\\\\\n",
       "\\hline\n",
       "\t https & 52.07159,-1.01615,2778m & NA & data=!3m1!1e3 & NA & NA\\\\\n",
       "\\end{tabular}\n"
      ],
      "text/markdown": [
       "\n",
       "A data.frame: 1 × 6\n",
       "\n",
       "| scheme &lt;chr&gt; | domain &lt;chr&gt; | port &lt;chr&gt; | path &lt;chr&gt; | parameter &lt;chr&gt; | fragment &lt;chr&gt; |\n",
       "|---|---|---|---|---|---|\n",
       "| https | 52.07159,-1.01615,2778m | NA | data=!3m1!1e3 | NA | NA |\n",
       "\n"
      ],
      "text/plain": [
       "  scheme domain                  port path          parameter fragment\n",
       "1 https  52.07159,-1.01615,2778m NA   data=!3m1!1e3 NA        NA      "
      ]
     },
     "metadata": {},
     "output_type": "display_data"
    }
   ],
   "source": [
    "parsed"
   ]
  },
  {
   "cell_type": "code",
   "execution_count": 159,
   "id": "0821daf5",
   "metadata": {},
   "outputs": [],
   "source": [
    "lats <- strsplit(parsed$domain, ',') %>% unlist"
   ]
  },
  {
   "cell_type": "code",
   "execution_count": 160,
   "id": "40b487ee",
   "metadata": {},
   "outputs": [
    {
     "data": {
      "text/html": [
       "<style>\n",
       ".list-inline {list-style: none; margin:0; padding: 0}\n",
       ".list-inline>li {display: inline-block}\n",
       ".list-inline>li:not(:last-child)::after {content: \"\\00b7\"; padding: 0 .5ex}\n",
       "</style>\n",
       "<ol class=list-inline><li>'52.07159'</li><li>'-1.01615'</li><li>'2778m'</li></ol>\n"
      ],
      "text/latex": [
       "\\begin{enumerate*}\n",
       "\\item '52.07159'\n",
       "\\item '-1.01615'\n",
       "\\item '2778m'\n",
       "\\end{enumerate*}\n"
      ],
      "text/markdown": [
       "1. '52.07159'\n",
       "2. '-1.01615'\n",
       "3. '2778m'\n",
       "\n",
       "\n"
      ],
      "text/plain": [
       "[1] \"52.07159\" \"-1.01615\" \"2778m\"   "
      ]
     },
     "metadata": {},
     "output_type": "display_data"
    }
   ],
   "source": [
    "lats"
   ]
  },
  {
   "cell_type": "code",
   "execution_count": 6,
   "id": "6c25415a",
   "metadata": {},
   "outputs": [],
   "source": [
    "get_lat <- function(track_name){\n",
    "    Sys.sleep(1)\n",
    "    url <- sprintf('https://www.statsf1.com/en/circuit-%s.aspx', track_name)\n",
    "    page <- read_html(url)\n",
    "    link <- page %>% html_node(\"#ctl00_CPH_Main_HL_Google\") %>% html_attr('href')\n",
    "    parsed <- url_parse(link)\n",
    "    cords <- strsplit(parsed$domain, ',') %>% unlist\n",
    "    \n",
    "    return(as.numeric(cords[1]))\n",
    "}"
   ]
  },
  {
   "cell_type": "code",
   "execution_count": 7,
   "id": "d3cd1b68",
   "metadata": {},
   "outputs": [],
   "source": [
    "get_long <- function(track_name){\n",
    "    Sys.sleep(1)\n",
    "    url <- sprintf('https://www.statsf1.com/en/circuit-%s.aspx', track_name)\n",
    "    page <- read_html(url)\n",
    "    link <- page %>% html_node(\"#ctl00_CPH_Main_HL_Google\") %>% html_attr('href')\n",
    "    parsed <- url_parse(link)\n",
    "    cords <- strsplit(parsed$domain, ',') %>% unlist\n",
    "    \n",
    "    return(as.numeric(cords[2]))\n",
    "}"
   ]
  },
  {
   "cell_type": "code",
   "execution_count": 161,
   "id": "19fc89fa",
   "metadata": {},
   "outputs": [
    {
     "data": {
      "text/html": [
       "-1.01615"
      ],
      "text/latex": [
       "-1.01615"
      ],
      "text/markdown": [
       "-1.01615"
      ],
      "text/plain": [
       "[1] -1.01615"
      ]
     },
     "metadata": {},
     "output_type": "display_data"
    }
   ],
   "source": [
    "get_long('Silverstone')"
   ]
  },
  {
   "cell_type": "code",
   "execution_count": 170,
   "id": "28843b84",
   "metadata": {},
   "outputs": [],
   "source": [
    "circuits_df$X78.Circuits <- gsub(\" \", \"-\",circuits_df$X78.Circuits)"
   ]
  },
  {
   "cell_type": "code",
   "execution_count": 106,
   "id": "297b5cfa",
   "metadata": {},
   "outputs": [],
   "source": [
    "safer_get_lat <- possibly(get_lat, otherwise = NA, quiet = FALSE)\n",
    "safer_get_long <- possibly(get_long, otherwise = NA, quiet = FALSE)"
   ]
  },
  {
   "cell_type": "code",
   "execution_count": 174,
   "id": "16802d24",
   "metadata": {},
   "outputs": [],
   "source": [
    "circuits_df <- circuits_df %>% mutate('lat' = sapply(circuits_df$X78.Circuits, safer_get_lat))"
   ]
  },
  {
   "cell_type": "code",
   "execution_count": 175,
   "id": "7baa7f4d",
   "metadata": {},
   "outputs": [],
   "source": [
    "circuits_df <- circuits_df %>% mutate('long' = sapply(circuits_df$X78.Circuits, safer_get_long))"
   ]
  },
  {
   "cell_type": "code",
   "execution_count": 178,
   "id": "efa0e67f",
   "metadata": {},
   "outputs": [],
   "source": [
    "write_csv(circuits_df, 'race_locations.csv')"
   ]
  },
  {
   "cell_type": "code",
   "execution_count": 181,
   "id": "9e5635f2",
   "metadata": {},
   "outputs": [
    {
     "data": {
      "text/html": [
       "<table class=\"dataframe\">\n",
       "<caption>A data.frame: 78 × 5</caption>\n",
       "<thead>\n",
       "\t<tr><th></th><th scope=col>X78.Circuits</th><th scope=col>Var.2</th><th scope=col>Countries.1</th><th scope=col>lat</th><th scope=col>long</th></tr>\n",
       "\t<tr><th></th><th scope=col>&lt;chr&gt;</th><th scope=col>&lt;chr&gt;</th><th scope=col>&lt;chr&gt;</th><th scope=col>&lt;dbl&gt;</th><th scope=col>&lt;dbl&gt;</th></tr>\n",
       "</thead>\n",
       "<tbody>\n",
       "\t<tr><th scope=row>1</th><td>Adelaide        </td><td>Adelaide Street Circuit                     </td><td>Australia     </td><td>-34.92700</td><td> 138.6172609</td></tr>\n",
       "\t<tr><th scope=row>2</th><td>Aida            </td><td>Okayama International Circuit               </td><td>Japan         </td><td> 34.91529</td><td> 134.2207281</td></tr>\n",
       "\t<tr><th scope=row>3</th><td>Ain-Diab        </td><td>                                            </td><td>Morocco       </td><td> 33.58053</td><td>  -7.6890900</td></tr>\n",
       "\t<tr><th scope=row>4</th><td>Aintree         </td><td>Aintree Motor Racing Circuit                </td><td>United Kingdom</td><td> 53.47590</td><td>  -2.9413726</td></tr>\n",
       "\t<tr><th scope=row>5</th><td>Anderstorp      </td><td>Scandinavian Raceway                        </td><td>Sweden        </td><td> 57.26391</td><td>  13.6030116</td></tr>\n",
       "\t<tr><th scope=row>6</th><td>Austin          </td><td>Circuit of the Americas                     </td><td>USA           </td><td> 30.13364</td><td> -97.6345729</td></tr>\n",
       "\t<tr><th scope=row>7</th><td>Avus            </td><td>Automobil-Verkehrs- und Übungs-Straße       </td><td>Germany       </td><td> 52.48658</td><td>  13.2654900</td></tr>\n",
       "\t<tr><th scope=row>8</th><td>Bakou           </td><td>Baku Street Circuit                         </td><td>Azerbaijan    </td><td> 40.37126</td><td>  49.8476935</td></tr>\n",
       "\t<tr><th scope=row>9</th><td>Barcelone       </td><td>Circuit de Catalunya                        </td><td>Spain         </td><td> 41.56828</td><td>   2.2582064</td></tr>\n",
       "\t<tr><th scope=row>10</th><td>Brands-Hatch    </td><td>Brands Hatch Circuit                        </td><td>United Kingdom</td><td> 51.35554</td><td>   0.2629122</td></tr>\n",
       "\t<tr><th scope=row>11</th><td>Bremgarten      </td><td>                                            </td><td>Switzerland   </td><td> 46.95819</td><td>   7.4027190</td></tr>\n",
       "\t<tr><th scope=row>12</th><td>Buenos-Aires    </td><td>Autodromo Juan y Oscar Gálvez               </td><td>Argentina     </td><td>-34.69228</td><td> -58.4550501</td></tr>\n",
       "\t<tr><th scope=row>13</th><td>Caesars-Palace  </td><td>                                            </td><td>USA           </td><td> 36.11915</td><td>-115.1771724</td></tr>\n",
       "\t<tr><th scope=row>14</th><td>Clermont-Ferrand</td><td>Circuit de Charade                          </td><td>France        </td><td> 45.74561</td><td>   3.0402848</td></tr>\n",
       "\t<tr><th scope=row>15</th><td>Dallas          </td><td>Dallas Fair Park                            </td><td>USA           </td><td> 32.77677</td><td> -96.7593567</td></tr>\n",
       "\t<tr><th scope=row>16</th><td>Detroit         </td><td>                                            </td><td>USA           </td><td> 42.32801</td><td> -83.0405242</td></tr>\n",
       "\t<tr><th scope=row>17</th><td>Dijon-Prenois   </td><td>                                            </td><td>France        </td><td> 47.36198</td><td>   4.8995105</td></tr>\n",
       "\t<tr><th scope=row>18</th><td>Djeddah         </td><td>Jeddah Corniche Circuit                     </td><td>Saudi Arabia  </td><td> 21.63809</td><td>  39.0994433</td></tr>\n",
       "\t<tr><th scope=row>19</th><td>Donington       </td><td>Donington Park                              </td><td>United Kingdom</td><td> 52.82967</td><td>  -1.3749465</td></tr>\n",
       "\t<tr><th scope=row>20</th><td>East-London     </td><td>Prince George Circuit                       </td><td>South Africa  </td><td>-33.04918</td><td>  27.8745906</td></tr>\n",
       "\t<tr><th scope=row>21</th><td>Estoril         </td><td>Autódromo Fernanda Pires da Silva           </td><td>Portugal      </td><td> 38.74917</td><td>  -9.3941490</td></tr>\n",
       "\t<tr><th scope=row>22</th><td>Fuji            </td><td>Fuji International Speedway                 </td><td>Japan         </td><td> 35.36897</td><td> 138.9281865</td></tr>\n",
       "\t<tr><th scope=row>23</th><td>Hockenheim      </td><td>Hockenheimring                              </td><td>Germany       </td><td> 49.33085</td><td>   8.5790215</td></tr>\n",
       "\t<tr><th scope=row>24</th><td>Hungaroring     </td><td>                                            </td><td>Hungary       </td><td> 47.58176</td><td>  19.2507484</td></tr>\n",
       "\t<tr><th scope=row>25</th><td>Imola           </td><td>Autodromo Internazionale Enzo e Dino Ferrari</td><td>Italy         </td><td> 44.33986</td><td>  11.7133288</td></tr>\n",
       "\t<tr><th scope=row>26</th><td>Indianapolis    </td><td>Indianapolis Motor Speedway                 </td><td>USA           </td><td> 39.79552</td><td> -86.2362663</td></tr>\n",
       "\t<tr><th scope=row>27</th><td>Interlagos      </td><td>Autodromo José Carlos Pace                  </td><td>Brazil        </td><td>-23.70329</td><td> -46.6969610</td></tr>\n",
       "\t<tr><th scope=row>28</th><td>Istanbul        </td><td>Istanbul Park                               </td><td>Turkey        </td><td> 40.95527</td><td>  29.4096963</td></tr>\n",
       "\t<tr><th scope=row>29</th><td>Jacarepagua     </td><td>Autódromo do Rio de Janeiro                 </td><td>Brazil        </td><td>-22.97799</td><td> -43.3958898</td></tr>\n",
       "\t<tr><th scope=row>30</th><td>Jarama          </td><td>Circuito de Madrid Jarama                   </td><td>Spain         </td><td> 40.61471</td><td>  -3.5860519</td></tr>\n",
       "\t<tr><th scope=row>...</th><td>...</td><td>...</td><td>...</td><td>...</td><td>...</td></tr>\n",
       "\t<tr><th scope=row>49</th><td>Mosport-Park     </td><td>Mosport International Raceway        </td><td>Canada              </td><td>44.046817</td><td> -78.674421</td></tr>\n",
       "\t<tr><th scope=row>50</th><td>Mugello          </td><td>Autodromo internazionale del Mugello </td><td>Italy               </td><td>43.997194</td><td>  11.372254</td></tr>\n",
       "\t<tr><th scope=row>51</th><td>New-Delhi        </td><td>Buddh International Circuit          </td><td>India               </td><td>28.347337</td><td>  77.533780</td></tr>\n",
       "\t<tr><th scope=row>52</th><td>Nivelles         </td><td>Complexe Européen de Nivelles-Baulers</td><td>Belgium             </td><td>50.619716</td><td>   4.327770</td></tr>\n",
       "\t<tr><th scope=row>53</th><td>Nurburgring      </td><td>                                     </td><td>Germany             </td><td>50.329268</td><td>   6.942535</td></tr>\n",
       "\t<tr><th scope=row>54</th><td>Osterreichring   </td><td>                                     </td><td>Austria             </td><td>47.222440</td><td>  14.759500</td></tr>\n",
       "\t<tr><th scope=row>55</th><td>Pedralbes        </td><td>                                     </td><td>Spain               </td><td>41.388124</td><td>   2.117324</td></tr>\n",
       "\t<tr><th scope=row>56</th><td>Pescara          </td><td>                                     </td><td>Italy               </td><td>42.477376</td><td>  14.154858</td></tr>\n",
       "\t<tr><th scope=row>57</th><td>Phoenix          </td><td>Phoenix Street Circuit               </td><td>USA                 </td><td>33.447010</td><td>-112.076810</td></tr>\n",
       "\t<tr><th scope=row>58</th><td>Portimao         </td><td>Autódromo Internacional do Algarve   </td><td>Portugal            </td><td>37.228884</td><td>  -8.627678</td></tr>\n",
       "\t<tr><th scope=row>59</th><td>Porto            </td><td>Circuito da Boavista                 </td><td>Portugal            </td><td>41.168593</td><td>  -8.678629</td></tr>\n",
       "\t<tr><th scope=row>60</th><td>Reims            </td><td>Circuit de Reims-Gueux               </td><td>France              </td><td>49.258377</td><td>   3.923084</td></tr>\n",
       "\t<tr><th scope=row>61</th><td>Riverside        </td><td>Riverside International Raceway      </td><td>USA                 </td><td>33.934380</td><td>-117.272760</td></tr>\n",
       "\t<tr><th scope=row>62</th><td>Rouen-les-Essarts</td><td>Circuit de Rouen-les-Essarts         </td><td>France              </td><td>49.333387</td><td>   1.002202</td></tr>\n",
       "\t<tr><th scope=row>63</th><td>Sakhir           </td><td>Bahrain International Circuit        </td><td>Bahrain             </td><td>26.030390</td><td>  50.513543</td></tr>\n",
       "\t<tr><th scope=row>64</th><td>Sebring          </td><td>Sebring International Raceway        </td><td>USA                 </td><td>27.454853</td><td> -81.351400</td></tr>\n",
       "\t<tr><th scope=row>65</th><td>Shanghai         </td><td>Shanghai International Circuit       </td><td>China               </td><td>31.341322</td><td> 121.219110</td></tr>\n",
       "\t<tr><th scope=row>66</th><td>Silverstone      </td><td>Silverstone Circuit                  </td><td>United Kingdom      </td><td>52.071590</td><td>  -1.016150</td></tr>\n",
       "\t<tr><th scope=row>67</th><td>Singapour        </td><td>Marina Bay Street Circuit            </td><td>Singapore           </td><td> 1.287535</td><td> 103.855477</td></tr>\n",
       "\t<tr><th scope=row>68</th><td>Sochi            </td><td>Sochi International Street Circuit   </td><td>Russia              </td><td>43.406724</td><td>  39.956996</td></tr>\n",
       "\t<tr><th scope=row>69</th><td>Spa-Francorchamps</td><td>Circuit de  Spa Francorchamps        </td><td>Belgium             </td><td>50.438628</td><td>   5.966606</td></tr>\n",
       "\t<tr><th scope=row>70</th><td>Spielberg        </td><td>Red Bull Ring                        </td><td>Austria             </td><td>47.223586</td><td>  14.755540</td></tr>\n",
       "\t<tr><th scope=row>71</th><td>Suzuka           </td><td>Suzuka International Racing Course   </td><td>Japan               </td><td>34.843156</td><td> 136.526698</td></tr>\n",
       "\t<tr><th scope=row>72</th><td>Valencia         </td><td>Valencia Street Circuit              </td><td>Spain               </td><td>39.458529</td><td>  -0.330191</td></tr>\n",
       "\t<tr><th scope=row>73</th><td>Watkins-Glen     </td><td>Watkins Glen International           </td><td>USA                 </td><td>42.336931</td><td> -76.924553</td></tr>\n",
       "\t<tr><th scope=row>74</th><td>Yas-Marina       </td><td>Yas Marina Circuit                   </td><td>United Arab Emirates</td><td>24.471721</td><td>  54.601836</td></tr>\n",
       "\t<tr><th scope=row>75</th><td>Yeongam          </td><td>Korea International Circuit          </td><td>South Korea         </td><td>34.737290</td><td> 126.412353</td></tr>\n",
       "\t<tr><th scope=row>76</th><td>Zandvoort        </td><td>Circuit Park Zandvoort               </td><td>Netherlands         </td><td>52.387891</td><td>   4.543061</td></tr>\n",
       "\t<tr><th scope=row>77</th><td>Zeltweg          </td><td>Zeltweg Flugplatz                    </td><td>Austria             </td><td>47.200012</td><td>  14.741163</td></tr>\n",
       "\t<tr><th scope=row>78</th><td>Zolder           </td><td>Circuit Terlaemen                    </td><td>Belgium             </td><td>50.990026</td><td>   5.254855</td></tr>\n",
       "</tbody>\n",
       "</table>\n"
      ],
      "text/latex": [
       "A data.frame: 78 × 5\n",
       "\\begin{tabular}{r|lllll}\n",
       "  & X78.Circuits & Var.2 & Countries.1 & lat & long\\\\\n",
       "  & <chr> & <chr> & <chr> & <dbl> & <dbl>\\\\\n",
       "\\hline\n",
       "\t1 & Adelaide         & Adelaide Street Circuit                      & Australia      & -34.92700 &  138.6172609\\\\\n",
       "\t2 & Aida             & Okayama International Circuit                & Japan          &  34.91529 &  134.2207281\\\\\n",
       "\t3 & Ain-Diab         &                                              & Morocco        &  33.58053 &   -7.6890900\\\\\n",
       "\t4 & Aintree          & Aintree Motor Racing Circuit                 & United Kingdom &  53.47590 &   -2.9413726\\\\\n",
       "\t5 & Anderstorp       & Scandinavian Raceway                         & Sweden         &  57.26391 &   13.6030116\\\\\n",
       "\t6 & Austin           & Circuit of the Americas                      & USA            &  30.13364 &  -97.6345729\\\\\n",
       "\t7 & Avus             & Automobil-Verkehrs- und Übungs-Straße        & Germany        &  52.48658 &   13.2654900\\\\\n",
       "\t8 & Bakou            & Baku Street Circuit                          & Azerbaijan     &  40.37126 &   49.8476935\\\\\n",
       "\t9 & Barcelone        & Circuit de Catalunya                         & Spain          &  41.56828 &    2.2582064\\\\\n",
       "\t10 & Brands-Hatch     & Brands Hatch Circuit                         & United Kingdom &  51.35554 &    0.2629122\\\\\n",
       "\t11 & Bremgarten       &                                              & Switzerland    &  46.95819 &    7.4027190\\\\\n",
       "\t12 & Buenos-Aires     & Autodromo Juan y Oscar Gálvez                & Argentina      & -34.69228 &  -58.4550501\\\\\n",
       "\t13 & Caesars-Palace   &                                              & USA            &  36.11915 & -115.1771724\\\\\n",
       "\t14 & Clermont-Ferrand & Circuit de Charade                           & France         &  45.74561 &    3.0402848\\\\\n",
       "\t15 & Dallas           & Dallas Fair Park                             & USA            &  32.77677 &  -96.7593567\\\\\n",
       "\t16 & Detroit          &                                              & USA            &  42.32801 &  -83.0405242\\\\\n",
       "\t17 & Dijon-Prenois    &                                              & France         &  47.36198 &    4.8995105\\\\\n",
       "\t18 & Djeddah          & Jeddah Corniche Circuit                      & Saudi Arabia   &  21.63809 &   39.0994433\\\\\n",
       "\t19 & Donington        & Donington Park                               & United Kingdom &  52.82967 &   -1.3749465\\\\\n",
       "\t20 & East-London      & Prince George Circuit                        & South Africa   & -33.04918 &   27.8745906\\\\\n",
       "\t21 & Estoril          & Autódromo Fernanda Pires da Silva            & Portugal       &  38.74917 &   -9.3941490\\\\\n",
       "\t22 & Fuji             & Fuji International Speedway                  & Japan          &  35.36897 &  138.9281865\\\\\n",
       "\t23 & Hockenheim       & Hockenheimring                               & Germany        &  49.33085 &    8.5790215\\\\\n",
       "\t24 & Hungaroring      &                                              & Hungary        &  47.58176 &   19.2507484\\\\\n",
       "\t25 & Imola            & Autodromo Internazionale Enzo e Dino Ferrari & Italy          &  44.33986 &   11.7133288\\\\\n",
       "\t26 & Indianapolis     & Indianapolis Motor Speedway                  & USA            &  39.79552 &  -86.2362663\\\\\n",
       "\t27 & Interlagos       & Autodromo José Carlos Pace                   & Brazil         & -23.70329 &  -46.6969610\\\\\n",
       "\t28 & Istanbul         & Istanbul Park                                & Turkey         &  40.95527 &   29.4096963\\\\\n",
       "\t29 & Jacarepagua      & Autódromo do Rio de Janeiro                  & Brazil         & -22.97799 &  -43.3958898\\\\\n",
       "\t30 & Jarama           & Circuito de Madrid Jarama                    & Spain          &  40.61471 &   -3.5860519\\\\\n",
       "\t... & ... & ... & ... & ... & ...\\\\\n",
       "\t49 & Mosport-Park      & Mosport International Raceway         & Canada               & 44.046817 &  -78.674421\\\\\n",
       "\t50 & Mugello           & Autodromo internazionale del Mugello  & Italy                & 43.997194 &   11.372254\\\\\n",
       "\t51 & New-Delhi         & Buddh International Circuit           & India                & 28.347337 &   77.533780\\\\\n",
       "\t52 & Nivelles          & Complexe Européen de Nivelles-Baulers & Belgium              & 50.619716 &    4.327770\\\\\n",
       "\t53 & Nurburgring       &                                       & Germany              & 50.329268 &    6.942535\\\\\n",
       "\t54 & Osterreichring    &                                       & Austria              & 47.222440 &   14.759500\\\\\n",
       "\t55 & Pedralbes         &                                       & Spain                & 41.388124 &    2.117324\\\\\n",
       "\t56 & Pescara           &                                       & Italy                & 42.477376 &   14.154858\\\\\n",
       "\t57 & Phoenix           & Phoenix Street Circuit                & USA                  & 33.447010 & -112.076810\\\\\n",
       "\t58 & Portimao          & Autódromo Internacional do Algarve    & Portugal             & 37.228884 &   -8.627678\\\\\n",
       "\t59 & Porto             & Circuito da Boavista                  & Portugal             & 41.168593 &   -8.678629\\\\\n",
       "\t60 & Reims             & Circuit de Reims-Gueux                & France               & 49.258377 &    3.923084\\\\\n",
       "\t61 & Riverside         & Riverside International Raceway       & USA                  & 33.934380 & -117.272760\\\\\n",
       "\t62 & Rouen-les-Essarts & Circuit de Rouen-les-Essarts          & France               & 49.333387 &    1.002202\\\\\n",
       "\t63 & Sakhir            & Bahrain International Circuit         & Bahrain              & 26.030390 &   50.513543\\\\\n",
       "\t64 & Sebring           & Sebring International Raceway         & USA                  & 27.454853 &  -81.351400\\\\\n",
       "\t65 & Shanghai          & Shanghai International Circuit        & China                & 31.341322 &  121.219110\\\\\n",
       "\t66 & Silverstone       & Silverstone Circuit                   & United Kingdom       & 52.071590 &   -1.016150\\\\\n",
       "\t67 & Singapour         & Marina Bay Street Circuit             & Singapore            &  1.287535 &  103.855477\\\\\n",
       "\t68 & Sochi             & Sochi International Street Circuit    & Russia               & 43.406724 &   39.956996\\\\\n",
       "\t69 & Spa-Francorchamps & Circuit de  Spa Francorchamps         & Belgium              & 50.438628 &    5.966606\\\\\n",
       "\t70 & Spielberg         & Red Bull Ring                         & Austria              & 47.223586 &   14.755540\\\\\n",
       "\t71 & Suzuka            & Suzuka International Racing Course    & Japan                & 34.843156 &  136.526698\\\\\n",
       "\t72 & Valencia          & Valencia Street Circuit               & Spain                & 39.458529 &   -0.330191\\\\\n",
       "\t73 & Watkins-Glen      & Watkins Glen International            & USA                  & 42.336931 &  -76.924553\\\\\n",
       "\t74 & Yas-Marina        & Yas Marina Circuit                    & United Arab Emirates & 24.471721 &   54.601836\\\\\n",
       "\t75 & Yeongam           & Korea International Circuit           & South Korea          & 34.737290 &  126.412353\\\\\n",
       "\t76 & Zandvoort         & Circuit Park Zandvoort                & Netherlands          & 52.387891 &    4.543061\\\\\n",
       "\t77 & Zeltweg           & Zeltweg Flugplatz                     & Austria              & 47.200012 &   14.741163\\\\\n",
       "\t78 & Zolder            & Circuit Terlaemen                     & Belgium              & 50.990026 &    5.254855\\\\\n",
       "\\end{tabular}\n"
      ],
      "text/markdown": [
       "\n",
       "A data.frame: 78 × 5\n",
       "\n",
       "| <!--/--> | X78.Circuits &lt;chr&gt; | Var.2 &lt;chr&gt; | Countries.1 &lt;chr&gt; | lat &lt;dbl&gt; | long &lt;dbl&gt; |\n",
       "|---|---|---|---|---|---|\n",
       "| 1 | Adelaide         | Adelaide Street Circuit                      | Australia      | -34.92700 |  138.6172609 |\n",
       "| 2 | Aida             | Okayama International Circuit                | Japan          |  34.91529 |  134.2207281 |\n",
       "| 3 | Ain-Diab         | <!----> | Morocco        |  33.58053 |   -7.6890900 |\n",
       "| 4 | Aintree          | Aintree Motor Racing Circuit                 | United Kingdom |  53.47590 |   -2.9413726 |\n",
       "| 5 | Anderstorp       | Scandinavian Raceway                         | Sweden         |  57.26391 |   13.6030116 |\n",
       "| 6 | Austin           | Circuit of the Americas                      | USA            |  30.13364 |  -97.6345729 |\n",
       "| 7 | Avus             | Automobil-Verkehrs- und Übungs-Straße        | Germany        |  52.48658 |   13.2654900 |\n",
       "| 8 | Bakou            | Baku Street Circuit                          | Azerbaijan     |  40.37126 |   49.8476935 |\n",
       "| 9 | Barcelone        | Circuit de Catalunya                         | Spain          |  41.56828 |    2.2582064 |\n",
       "| 10 | Brands-Hatch     | Brands Hatch Circuit                         | United Kingdom |  51.35554 |    0.2629122 |\n",
       "| 11 | Bremgarten       | <!----> | Switzerland    |  46.95819 |    7.4027190 |\n",
       "| 12 | Buenos-Aires     | Autodromo Juan y Oscar Gálvez                | Argentina      | -34.69228 |  -58.4550501 |\n",
       "| 13 | Caesars-Palace   | <!----> | USA            |  36.11915 | -115.1771724 |\n",
       "| 14 | Clermont-Ferrand | Circuit de Charade                           | France         |  45.74561 |    3.0402848 |\n",
       "| 15 | Dallas           | Dallas Fair Park                             | USA            |  32.77677 |  -96.7593567 |\n",
       "| 16 | Detroit          | <!----> | USA            |  42.32801 |  -83.0405242 |\n",
       "| 17 | Dijon-Prenois    | <!----> | France         |  47.36198 |    4.8995105 |\n",
       "| 18 | Djeddah          | Jeddah Corniche Circuit                      | Saudi Arabia   |  21.63809 |   39.0994433 |\n",
       "| 19 | Donington        | Donington Park                               | United Kingdom |  52.82967 |   -1.3749465 |\n",
       "| 20 | East-London      | Prince George Circuit                        | South Africa   | -33.04918 |   27.8745906 |\n",
       "| 21 | Estoril          | Autódromo Fernanda Pires da Silva            | Portugal       |  38.74917 |   -9.3941490 |\n",
       "| 22 | Fuji             | Fuji International Speedway                  | Japan          |  35.36897 |  138.9281865 |\n",
       "| 23 | Hockenheim       | Hockenheimring                               | Germany        |  49.33085 |    8.5790215 |\n",
       "| 24 | Hungaroring      | <!----> | Hungary        |  47.58176 |   19.2507484 |\n",
       "| 25 | Imola            | Autodromo Internazionale Enzo e Dino Ferrari | Italy          |  44.33986 |   11.7133288 |\n",
       "| 26 | Indianapolis     | Indianapolis Motor Speedway                  | USA            |  39.79552 |  -86.2362663 |\n",
       "| 27 | Interlagos       | Autodromo José Carlos Pace                   | Brazil         | -23.70329 |  -46.6969610 |\n",
       "| 28 | Istanbul         | Istanbul Park                                | Turkey         |  40.95527 |   29.4096963 |\n",
       "| 29 | Jacarepagua      | Autódromo do Rio de Janeiro                  | Brazil         | -22.97799 |  -43.3958898 |\n",
       "| 30 | Jarama           | Circuito de Madrid Jarama                    | Spain          |  40.61471 |   -3.5860519 |\n",
       "| ... | ... | ... | ... | ... | ... |\n",
       "| 49 | Mosport-Park      | Mosport International Raceway         | Canada               | 44.046817 |  -78.674421 |\n",
       "| 50 | Mugello           | Autodromo internazionale del Mugello  | Italy                | 43.997194 |   11.372254 |\n",
       "| 51 | New-Delhi         | Buddh International Circuit           | India                | 28.347337 |   77.533780 |\n",
       "| 52 | Nivelles          | Complexe Européen de Nivelles-Baulers | Belgium              | 50.619716 |    4.327770 |\n",
       "| 53 | Nurburgring       | <!----> | Germany              | 50.329268 |    6.942535 |\n",
       "| 54 | Osterreichring    | <!----> | Austria              | 47.222440 |   14.759500 |\n",
       "| 55 | Pedralbes         | <!----> | Spain                | 41.388124 |    2.117324 |\n",
       "| 56 | Pescara           | <!----> | Italy                | 42.477376 |   14.154858 |\n",
       "| 57 | Phoenix           | Phoenix Street Circuit                | USA                  | 33.447010 | -112.076810 |\n",
       "| 58 | Portimao          | Autódromo Internacional do Algarve    | Portugal             | 37.228884 |   -8.627678 |\n",
       "| 59 | Porto             | Circuito da Boavista                  | Portugal             | 41.168593 |   -8.678629 |\n",
       "| 60 | Reims             | Circuit de Reims-Gueux                | France               | 49.258377 |    3.923084 |\n",
       "| 61 | Riverside         | Riverside International Raceway       | USA                  | 33.934380 | -117.272760 |\n",
       "| 62 | Rouen-les-Essarts | Circuit de Rouen-les-Essarts          | France               | 49.333387 |    1.002202 |\n",
       "| 63 | Sakhir            | Bahrain International Circuit         | Bahrain              | 26.030390 |   50.513543 |\n",
       "| 64 | Sebring           | Sebring International Raceway         | USA                  | 27.454853 |  -81.351400 |\n",
       "| 65 | Shanghai          | Shanghai International Circuit        | China                | 31.341322 |  121.219110 |\n",
       "| 66 | Silverstone       | Silverstone Circuit                   | United Kingdom       | 52.071590 |   -1.016150 |\n",
       "| 67 | Singapour         | Marina Bay Street Circuit             | Singapore            |  1.287535 |  103.855477 |\n",
       "| 68 | Sochi             | Sochi International Street Circuit    | Russia               | 43.406724 |   39.956996 |\n",
       "| 69 | Spa-Francorchamps | Circuit de  Spa Francorchamps         | Belgium              | 50.438628 |    5.966606 |\n",
       "| 70 | Spielberg         | Red Bull Ring                         | Austria              | 47.223586 |   14.755540 |\n",
       "| 71 | Suzuka            | Suzuka International Racing Course    | Japan                | 34.843156 |  136.526698 |\n",
       "| 72 | Valencia          | Valencia Street Circuit               | Spain                | 39.458529 |   -0.330191 |\n",
       "| 73 | Watkins-Glen      | Watkins Glen International            | USA                  | 42.336931 |  -76.924553 |\n",
       "| 74 | Yas-Marina        | Yas Marina Circuit                    | United Arab Emirates | 24.471721 |   54.601836 |\n",
       "| 75 | Yeongam           | Korea International Circuit           | South Korea          | 34.737290 |  126.412353 |\n",
       "| 76 | Zandvoort         | Circuit Park Zandvoort                | Netherlands          | 52.387891 |    4.543061 |\n",
       "| 77 | Zeltweg           | Zeltweg Flugplatz                     | Austria              | 47.200012 |   14.741163 |\n",
       "| 78 | Zolder            | Circuit Terlaemen                     | Belgium              | 50.990026 |    5.254855 |\n",
       "\n"
      ],
      "text/plain": [
       "    X78.Circuits      Var.2                                       \n",
       "1   Adelaide          Adelaide Street Circuit                     \n",
       "2   Aida              Okayama International Circuit               \n",
       "3   Ain-Diab                                                      \n",
       "4   Aintree           Aintree Motor Racing Circuit                \n",
       "5   Anderstorp        Scandinavian Raceway                        \n",
       "6   Austin            Circuit of the Americas                     \n",
       "7   Avus              Automobil-Verkehrs- und Übungs-Straße       \n",
       "8   Bakou             Baku Street Circuit                         \n",
       "9   Barcelone         Circuit de Catalunya                        \n",
       "10  Brands-Hatch      Brands Hatch Circuit                        \n",
       "11  Bremgarten                                                    \n",
       "12  Buenos-Aires      Autodromo Juan y Oscar Gálvez               \n",
       "13  Caesars-Palace                                                \n",
       "14  Clermont-Ferrand  Circuit de Charade                          \n",
       "15  Dallas            Dallas Fair Park                            \n",
       "16  Detroit                                                       \n",
       "17  Dijon-Prenois                                                 \n",
       "18  Djeddah           Jeddah Corniche Circuit                     \n",
       "19  Donington         Donington Park                              \n",
       "20  East-London       Prince George Circuit                       \n",
       "21  Estoril           Autódromo Fernanda Pires da Silva           \n",
       "22  Fuji              Fuji International Speedway                 \n",
       "23  Hockenheim        Hockenheimring                              \n",
       "24  Hungaroring                                                   \n",
       "25  Imola             Autodromo Internazionale Enzo e Dino Ferrari\n",
       "26  Indianapolis      Indianapolis Motor Speedway                 \n",
       "27  Interlagos        Autodromo José Carlos Pace                  \n",
       "28  Istanbul          Istanbul Park                               \n",
       "29  Jacarepagua       Autódromo do Rio de Janeiro                 \n",
       "30  Jarama            Circuito de Madrid Jarama                   \n",
       "... ...               ...                                         \n",
       "49  Mosport-Park      Mosport International Raceway               \n",
       "50  Mugello           Autodromo internazionale del Mugello        \n",
       "51  New-Delhi         Buddh International Circuit                 \n",
       "52  Nivelles          Complexe Européen de Nivelles-Baulers       \n",
       "53  Nurburgring                                                   \n",
       "54  Osterreichring                                                \n",
       "55  Pedralbes                                                     \n",
       "56  Pescara                                                       \n",
       "57  Phoenix           Phoenix Street Circuit                      \n",
       "58  Portimao          Autódromo Internacional do Algarve          \n",
       "59  Porto             Circuito da Boavista                        \n",
       "60  Reims             Circuit de Reims-Gueux                      \n",
       "61  Riverside         Riverside International Raceway             \n",
       "62  Rouen-les-Essarts Circuit de Rouen-les-Essarts                \n",
       "63  Sakhir            Bahrain International Circuit               \n",
       "64  Sebring           Sebring International Raceway               \n",
       "65  Shanghai          Shanghai International Circuit              \n",
       "66  Silverstone       Silverstone Circuit                         \n",
       "67  Singapour         Marina Bay Street Circuit                   \n",
       "68  Sochi             Sochi International Street Circuit          \n",
       "69  Spa-Francorchamps Circuit de  Spa Francorchamps               \n",
       "70  Spielberg         Red Bull Ring                               \n",
       "71  Suzuka            Suzuka International Racing Course          \n",
       "72  Valencia          Valencia Street Circuit                     \n",
       "73  Watkins-Glen      Watkins Glen International                  \n",
       "74  Yas-Marina        Yas Marina Circuit                          \n",
       "75  Yeongam           Korea International Circuit                 \n",
       "76  Zandvoort         Circuit Park Zandvoort                      \n",
       "77  Zeltweg           Zeltweg Flugplatz                           \n",
       "78  Zolder            Circuit Terlaemen                           \n",
       "    Countries.1          lat       long        \n",
       "1   Australia            -34.92700  138.6172609\n",
       "2   Japan                 34.91529  134.2207281\n",
       "3   Morocco               33.58053   -7.6890900\n",
       "4   United Kingdom        53.47590   -2.9413726\n",
       "5   Sweden                57.26391   13.6030116\n",
       "6   USA                   30.13364  -97.6345729\n",
       "7   Germany               52.48658   13.2654900\n",
       "8   Azerbaijan            40.37126   49.8476935\n",
       "9   Spain                 41.56828    2.2582064\n",
       "10  United Kingdom        51.35554    0.2629122\n",
       "11  Switzerland           46.95819    7.4027190\n",
       "12  Argentina            -34.69228  -58.4550501\n",
       "13  USA                   36.11915 -115.1771724\n",
       "14  France                45.74561    3.0402848\n",
       "15  USA                   32.77677  -96.7593567\n",
       "16  USA                   42.32801  -83.0405242\n",
       "17  France                47.36198    4.8995105\n",
       "18  Saudi Arabia          21.63809   39.0994433\n",
       "19  United Kingdom        52.82967   -1.3749465\n",
       "20  South Africa         -33.04918   27.8745906\n",
       "21  Portugal              38.74917   -9.3941490\n",
       "22  Japan                 35.36897  138.9281865\n",
       "23  Germany               49.33085    8.5790215\n",
       "24  Hungary               47.58176   19.2507484\n",
       "25  Italy                 44.33986   11.7133288\n",
       "26  USA                   39.79552  -86.2362663\n",
       "27  Brazil               -23.70329  -46.6969610\n",
       "28  Turkey                40.95527   29.4096963\n",
       "29  Brazil               -22.97799  -43.3958898\n",
       "30  Spain                 40.61471   -3.5860519\n",
       "... ...                  ...       ...         \n",
       "49  Canada               44.046817  -78.674421 \n",
       "50  Italy                43.997194   11.372254 \n",
       "51  India                28.347337   77.533780 \n",
       "52  Belgium              50.619716    4.327770 \n",
       "53  Germany              50.329268    6.942535 \n",
       "54  Austria              47.222440   14.759500 \n",
       "55  Spain                41.388124    2.117324 \n",
       "56  Italy                42.477376   14.154858 \n",
       "57  USA                  33.447010 -112.076810 \n",
       "58  Portugal             37.228884   -8.627678 \n",
       "59  Portugal             41.168593   -8.678629 \n",
       "60  France               49.258377    3.923084 \n",
       "61  USA                  33.934380 -117.272760 \n",
       "62  France               49.333387    1.002202 \n",
       "63  Bahrain              26.030390   50.513543 \n",
       "64  USA                  27.454853  -81.351400 \n",
       "65  China                31.341322  121.219110 \n",
       "66  United Kingdom       52.071590   -1.016150 \n",
       "67  Singapore             1.287535  103.855477 \n",
       "68  Russia               43.406724   39.956996 \n",
       "69  Belgium              50.438628    5.966606 \n",
       "70  Austria              47.223586   14.755540 \n",
       "71  Japan                34.843156  136.526698 \n",
       "72  Spain                39.458529   -0.330191 \n",
       "73  USA                  42.336931  -76.924553 \n",
       "74  United Arab Emirates 24.471721   54.601836 \n",
       "75  South Korea          34.737290  126.412353 \n",
       "76  Netherlands          52.387891    4.543061 \n",
       "77  Austria              47.200012   14.741163 \n",
       "78  Belgium              50.990026    5.254855 "
      ]
     },
     "metadata": {},
     "output_type": "display_data"
    }
   ],
   "source": [
    "circuits_df"
   ]
  },
  {
   "cell_type": "code",
   "execution_count": 182,
   "id": "4c2bbb9f",
   "metadata": {},
   "outputs": [],
   "source": [
    "url <- 'https://gpracingstats.com/seasons/2022-world-championship/'"
   ]
  },
  {
   "cell_type": "code",
   "execution_count": 183,
   "id": "eac3504a",
   "metadata": {},
   "outputs": [],
   "source": [
    "page <- read_html(url)"
   ]
  },
  {
   "cell_type": "code",
   "execution_count": 191,
   "id": "bd769abc",
   "metadata": {},
   "outputs": [],
   "source": [
    "pos <- page %>% html_node('.summary') %>% html_table(header = TRUE)"
   ]
  },
  {
   "cell_type": "code",
   "execution_count": 192,
   "id": "94fb00a0",
   "metadata": {},
   "outputs": [],
   "source": [
    "pos$Circuit <- gsub(' ', '-', pos$Circuit)"
   ]
  },
  {
   "cell_type": "code",
   "execution_count": 196,
   "id": "7ff0f811",
   "metadata": {},
   "outputs": [],
   "source": [
    "pos <- pos %>% mutate('lat' = sapply(pos$Circuit, safer_get_lat), \n",
    "                      'long' = sapply(pos$Circuit, safer_get_long))"
   ]
  },
  {
   "cell_type": "code",
   "execution_count": 204,
   "id": "a0c037b6",
   "metadata": {},
   "outputs": [],
   "source": [
    "pos$Circuit[pos$Circuit == 'Jeddah'] = 'Djeddah'\n",
    "pos$Circuit[pos$Circuit == 'Florida'] = 'Miami'\n",
    "pos$Circuit[pos$Circuit == 'Marina-Bay'] = 'Singapour'\n",
    "pos$Circuit[pos$Circuit == 'Monte-Carlo'] = 'Monaco'\n",
    "pos$Circuit[pos$Circuit == 'Catalunya'] = 'Barcelone'\n",
    "pos$Circuit[pos$Circuit == 'Baku'] = 'Bakou'"
   ]
  },
  {
   "cell_type": "code",
   "execution_count": 206,
   "id": "08516a2b",
   "metadata": {},
   "outputs": [],
   "source": [
    "pos <- pos %>% mutate('lat' = sapply(pos$Circuit, safer_get_lat), \n",
    "                      'long' = sapply(pos$Circuit, safer_get_long))"
   ]
  },
  {
   "cell_type": "code",
   "execution_count": 207,
   "id": "be29faa5",
   "metadata": {},
   "outputs": [
    {
     "data": {
      "text/html": [
       "<table class=\"dataframe\">\n",
       "<caption>A tibble: 22 × 6</caption>\n",
       "<thead>\n",
       "\t<tr><th scope=col>#</th><th scope=col>Grand Prix</th><th scope=col>Circuit</th><th scope=col>Date</th><th scope=col>lat</th><th scope=col>long</th></tr>\n",
       "\t<tr><th scope=col>&lt;int&gt;</th><th scope=col>&lt;chr&gt;</th><th scope=col>&lt;chr&gt;</th><th scope=col>&lt;chr&gt;</th><th scope=col>&lt;dbl&gt;</th><th scope=col>&lt;dbl&gt;</th></tr>\n",
       "</thead>\n",
       "<tbody>\n",
       "\t<tr><td> 1</td><td>Bahrain       </td><td>Sakhir           </td><td>20 March    </td><td> 26.030390</td><td> 50.513543</td></tr>\n",
       "\t<tr><td> 2</td><td>Saudi Arabia  </td><td>Djeddah          </td><td>27 March    </td><td> 21.638094</td><td> 39.099443</td></tr>\n",
       "\t<tr><td> 3</td><td>Australia     </td><td>Melbourne        </td><td>10 April    </td><td>-37.849140</td><td>144.969873</td></tr>\n",
       "\t<tr><td> 4</td><td>Emilia Romagna</td><td>Imola            </td><td>24 April    </td><td> 44.339858</td><td> 11.713329</td></tr>\n",
       "\t<tr><td> 5</td><td>Miami         </td><td>Miami            </td><td>08 May      </td><td> 25.957740</td><td>-80.238678</td></tr>\n",
       "\t<tr><td> 6</td><td>Spain         </td><td>Barcelone        </td><td>22 May      </td><td> 41.568277</td><td>  2.258206</td></tr>\n",
       "\t<tr><td> 7</td><td>Monaco        </td><td>Monaco           </td><td>29 May      </td><td> 43.738095</td><td>  7.426050</td></tr>\n",
       "\t<tr><td> 8</td><td>Azerbaijan    </td><td>Bakou            </td><td>12 June     </td><td> 40.371259</td><td> 49.847693</td></tr>\n",
       "\t<tr><td> 9</td><td>Canada        </td><td>Montreal         </td><td>19 June     </td><td> 45.505890</td><td>-73.524110</td></tr>\n",
       "\t<tr><td>10</td><td>Britain       </td><td>Silverstone      </td><td>03 July     </td><td> 52.071590</td><td> -1.016150</td></tr>\n",
       "\t<tr><td>11</td><td>Austria       </td><td>Spielberg        </td><td>10 July     </td><td> 47.223586</td><td> 14.755540</td></tr>\n",
       "\t<tr><td>12</td><td>France        </td><td>Le-Castellet     </td><td>24 July     </td><td> 43.251129</td><td>  5.789497</td></tr>\n",
       "\t<tr><td>13</td><td>Hungary       </td><td>Hungaroring      </td><td>31 July     </td><td> 47.581758</td><td> 19.250748</td></tr>\n",
       "\t<tr><td>14</td><td>Belgium       </td><td>Spa-Francorchamps</td><td>28 August   </td><td> 50.438628</td><td>  5.966606</td></tr>\n",
       "\t<tr><td>15</td><td>Netherlands   </td><td>Zandvoort        </td><td>04 September</td><td> 52.387891</td><td>  4.543061</td></tr>\n",
       "\t<tr><td>16</td><td>Italy         </td><td>Monza            </td><td>11 September</td><td> 45.618448</td><td>  9.287676</td></tr>\n",
       "\t<tr><td>17</td><td>Singapore     </td><td>Singapour        </td><td>02 October  </td><td>  1.287535</td><td>103.855477</td></tr>\n",
       "\t<tr><td>18</td><td>Japan         </td><td>Suzuka           </td><td>09 October  </td><td> 34.843156</td><td>136.526698</td></tr>\n",
       "\t<tr><td>19</td><td>USA           </td><td>Austin           </td><td>23 October  </td><td> 30.133637</td><td>-97.634573</td></tr>\n",
       "\t<tr><td>20</td><td>Mexico City   </td><td>Mexico-City      </td><td>30 October  </td><td> 19.400257</td><td>-99.090279</td></tr>\n",
       "\t<tr><td>21</td><td>Sao Paulo     </td><td>Interlagos       </td><td>13 November </td><td>-23.703293</td><td>-46.696961</td></tr>\n",
       "\t<tr><td>22</td><td>Abu Dhabi     </td><td>Yas-Marina       </td><td>20 November </td><td> 24.471721</td><td> 54.601836</td></tr>\n",
       "</tbody>\n",
       "</table>\n"
      ],
      "text/latex": [
       "A tibble: 22 × 6\n",
       "\\begin{tabular}{llllll}\n",
       " \\# & Grand Prix & Circuit & Date & lat & long\\\\\n",
       " <int> & <chr> & <chr> & <chr> & <dbl> & <dbl>\\\\\n",
       "\\hline\n",
       "\t  1 & Bahrain        & Sakhir            & 20 March     &  26.030390 &  50.513543\\\\\n",
       "\t  2 & Saudi Arabia   & Djeddah           & 27 March     &  21.638094 &  39.099443\\\\\n",
       "\t  3 & Australia      & Melbourne         & 10 April     & -37.849140 & 144.969873\\\\\n",
       "\t  4 & Emilia Romagna & Imola             & 24 April     &  44.339858 &  11.713329\\\\\n",
       "\t  5 & Miami          & Miami             & 08 May       &  25.957740 & -80.238678\\\\\n",
       "\t  6 & Spain          & Barcelone         & 22 May       &  41.568277 &   2.258206\\\\\n",
       "\t  7 & Monaco         & Monaco            & 29 May       &  43.738095 &   7.426050\\\\\n",
       "\t  8 & Azerbaijan     & Bakou             & 12 June      &  40.371259 &  49.847693\\\\\n",
       "\t  9 & Canada         & Montreal          & 19 June      &  45.505890 & -73.524110\\\\\n",
       "\t 10 & Britain        & Silverstone       & 03 July      &  52.071590 &  -1.016150\\\\\n",
       "\t 11 & Austria        & Spielberg         & 10 July      &  47.223586 &  14.755540\\\\\n",
       "\t 12 & France         & Le-Castellet      & 24 July      &  43.251129 &   5.789497\\\\\n",
       "\t 13 & Hungary        & Hungaroring       & 31 July      &  47.581758 &  19.250748\\\\\n",
       "\t 14 & Belgium        & Spa-Francorchamps & 28 August    &  50.438628 &   5.966606\\\\\n",
       "\t 15 & Netherlands    & Zandvoort         & 04 September &  52.387891 &   4.543061\\\\\n",
       "\t 16 & Italy          & Monza             & 11 September &  45.618448 &   9.287676\\\\\n",
       "\t 17 & Singapore      & Singapour         & 02 October   &   1.287535 & 103.855477\\\\\n",
       "\t 18 & Japan          & Suzuka            & 09 October   &  34.843156 & 136.526698\\\\\n",
       "\t 19 & USA            & Austin            & 23 October   &  30.133637 & -97.634573\\\\\n",
       "\t 20 & Mexico City    & Mexico-City       & 30 October   &  19.400257 & -99.090279\\\\\n",
       "\t 21 & Sao Paulo      & Interlagos        & 13 November  & -23.703293 & -46.696961\\\\\n",
       "\t 22 & Abu Dhabi      & Yas-Marina        & 20 November  &  24.471721 &  54.601836\\\\\n",
       "\\end{tabular}\n"
      ],
      "text/markdown": [
       "\n",
       "A tibble: 22 × 6\n",
       "\n",
       "| # &lt;int&gt; | Grand Prix &lt;chr&gt; | Circuit &lt;chr&gt; | Date &lt;chr&gt; | lat &lt;dbl&gt; | long &lt;dbl&gt; |\n",
       "|---|---|---|---|---|---|\n",
       "|  1 | Bahrain        | Sakhir            | 20 March     |  26.030390 |  50.513543 |\n",
       "|  2 | Saudi Arabia   | Djeddah           | 27 March     |  21.638094 |  39.099443 |\n",
       "|  3 | Australia      | Melbourne         | 10 April     | -37.849140 | 144.969873 |\n",
       "|  4 | Emilia Romagna | Imola             | 24 April     |  44.339858 |  11.713329 |\n",
       "|  5 | Miami          | Miami             | 08 May       |  25.957740 | -80.238678 |\n",
       "|  6 | Spain          | Barcelone         | 22 May       |  41.568277 |   2.258206 |\n",
       "|  7 | Monaco         | Monaco            | 29 May       |  43.738095 |   7.426050 |\n",
       "|  8 | Azerbaijan     | Bakou             | 12 June      |  40.371259 |  49.847693 |\n",
       "|  9 | Canada         | Montreal          | 19 June      |  45.505890 | -73.524110 |\n",
       "| 10 | Britain        | Silverstone       | 03 July      |  52.071590 |  -1.016150 |\n",
       "| 11 | Austria        | Spielberg         | 10 July      |  47.223586 |  14.755540 |\n",
       "| 12 | France         | Le-Castellet      | 24 July      |  43.251129 |   5.789497 |\n",
       "| 13 | Hungary        | Hungaroring       | 31 July      |  47.581758 |  19.250748 |\n",
       "| 14 | Belgium        | Spa-Francorchamps | 28 August    |  50.438628 |   5.966606 |\n",
       "| 15 | Netherlands    | Zandvoort         | 04 September |  52.387891 |   4.543061 |\n",
       "| 16 | Italy          | Monza             | 11 September |  45.618448 |   9.287676 |\n",
       "| 17 | Singapore      | Singapour         | 02 October   |   1.287535 | 103.855477 |\n",
       "| 18 | Japan          | Suzuka            | 09 October   |  34.843156 | 136.526698 |\n",
       "| 19 | USA            | Austin            | 23 October   |  30.133637 | -97.634573 |\n",
       "| 20 | Mexico City    | Mexico-City       | 30 October   |  19.400257 | -99.090279 |\n",
       "| 21 | Sao Paulo      | Interlagos        | 13 November  | -23.703293 | -46.696961 |\n",
       "| 22 | Abu Dhabi      | Yas-Marina        | 20 November  |  24.471721 |  54.601836 |\n",
       "\n"
      ],
      "text/plain": [
       "   #  Grand Prix     Circuit           Date         lat        long      \n",
       "1   1 Bahrain        Sakhir            20 March      26.030390  50.513543\n",
       "2   2 Saudi Arabia   Djeddah           27 March      21.638094  39.099443\n",
       "3   3 Australia      Melbourne         10 April     -37.849140 144.969873\n",
       "4   4 Emilia Romagna Imola             24 April      44.339858  11.713329\n",
       "5   5 Miami          Miami             08 May        25.957740 -80.238678\n",
       "6   6 Spain          Barcelone         22 May        41.568277   2.258206\n",
       "7   7 Monaco         Monaco            29 May        43.738095   7.426050\n",
       "8   8 Azerbaijan     Bakou             12 June       40.371259  49.847693\n",
       "9   9 Canada         Montreal          19 June       45.505890 -73.524110\n",
       "10 10 Britain        Silverstone       03 July       52.071590  -1.016150\n",
       "11 11 Austria        Spielberg         10 July       47.223586  14.755540\n",
       "12 12 France         Le-Castellet      24 July       43.251129   5.789497\n",
       "13 13 Hungary        Hungaroring       31 July       47.581758  19.250748\n",
       "14 14 Belgium        Spa-Francorchamps 28 August     50.438628   5.966606\n",
       "15 15 Netherlands    Zandvoort         04 September  52.387891   4.543061\n",
       "16 16 Italy          Monza             11 September  45.618448   9.287676\n",
       "17 17 Singapore      Singapour         02 October     1.287535 103.855477\n",
       "18 18 Japan          Suzuka            09 October    34.843156 136.526698\n",
       "19 19 USA            Austin            23 October    30.133637 -97.634573\n",
       "20 20 Mexico City    Mexico-City       30 October    19.400257 -99.090279\n",
       "21 21 Sao Paulo      Interlagos        13 November  -23.703293 -46.696961\n",
       "22 22 Abu Dhabi      Yas-Marina        20 November   24.471721  54.601836"
      ]
     },
     "metadata": {},
     "output_type": "display_data"
    }
   ],
   "source": [
    "pos"
   ]
  },
  {
   "cell_type": "code",
   "execution_count": 209,
   "id": "bb35d2da",
   "metadata": {},
   "outputs": [],
   "source": [
    "write_csv(pos, 'race_tracks_2022.csv')"
   ]
  },
  {
   "cell_type": "code",
   "execution_count": 118,
   "id": "e7f1e8f9",
   "metadata": {},
   "outputs": [],
   "source": [
    "race_tracks <- function(year_val){\n",
    "    url <- sprintf('https://gpracingstats.com/seasons/%d-world-championship/', year_val)\n",
    "    page <- read_html(url)\n",
    "    pos <- page %>% html_node('.summary') %>% html_table(header = TRUE)\n",
    "    pos$Circuit <- gsub(' ', '-', pos$Circuit)\n",
    "\n",
    "    # List to be updated manually.\n",
    "    pos$Circuit[pos$Circuit == 'Jeddah'] = 'Djeddah'\n",
    "    pos$Circuit[pos$Circuit == 'Florida'] = 'Miami'\n",
    "    pos$Circuit[pos$Circuit == 'Marina-Bay'] = 'Singapour'\n",
    "    pos$Circuit[pos$Circuit == 'Monte-Carlo'] = 'Monaco'\n",
    "    pos$Circuit[pos$Circuit == 'Catalunya'] = 'Barcelone'\n",
    "    pos$Circuit[pos$Circuit == 'Baku'] = 'Bakou'\n",
    "    pos$Circuit[pos$Circuit == 'Sepang'] = 'Kuala-Lumpur'\n",
    "    pos$Circuit[pos$Circuit == 'Casablanca'] = 'Ain-Diab'\n",
    "    pos$Circuit[pos$Circuit == 'Mosport'] = 'Mosport-Park'\n",
    "    pos$Circuit[pos$Circuit == 'Buddh'] = 'New-Delhi'\n",
    "    pos$Circuit[pos$Circuit == 'Jerez'] = 'Jerez-de-la-Frontera'\n",
    "\n",
    "    \n",
    "    pos <- pos %>% mutate('lat' = sapply(pos$Circuit, get_lat), \n",
    "                          'long' = sapply(pos$Circuit, get_long))\n",
    "\n",
    "    write_csv(pos, sprintf('race_tracks_%d.csv', year_val))\n",
    "}"
   ]
  },
  {
   "cell_type": "code",
   "execution_count": 129,
   "id": "86fa3913",
   "metadata": {},
   "outputs": [],
   "source": [
    "years <- 2023"
   ]
  },
  {
   "cell_type": "code",
   "execution_count": 130,
   "id": "7f8a32ca",
   "metadata": {},
   "outputs": [
    {
     "data": {
      "text/html": [
       "<table class=\"dataframe\">\n",
       "<caption>A matrix: 6 × 1</caption>\n",
       "<tbody>\n",
       "\t<tr><th scope=row>No.</th><td>1, 2, 3, 4, 5, 6, 7, 8, 9, 10, 11, 12, 13, 14, 15, 16, 17, 18, 19, 20, 21, 22</td></tr>\n",
       "\t<tr><th scope=row>Grand Prix</th><td>Bahrain     , Saudi Arabia, Australia   , Azerbaijan  , Miami       , Monaco      , Spain       , Canada      , Austria     , Britain     , Hungary     , Belgium     , Netherlands , Italy       , Singapore   , Japan       , Qatar       , USA         , Mexico City , Sao Paulo   , Las Vegas   , Abu Dhabi   </td></tr>\n",
       "\t<tr><th scope=row>Circuit</th><td>Sakhir           , Djeddah          , Melbourne        , Bakou            , Miami            , Monaco           , Barcelone        , Montreal         , Spielberg        , Silverstone      , Hungaroring      , Spa-Francorchamps, Zandvoort        , Monza            , Singapour        , Suzuka           , Losail           , Austin           , Mexico-City      , Interlagos       , Las-Vegas        , Yas-Marina       </td></tr>\n",
       "\t<tr><th scope=row>Date</th><td>05 March    , 19 March    , 02 April    , 30 April    , 07 May      , 28 May      , 04 June     , 18 June     , 02 July     , 09 July     , 23 July     , 30 July     , 27 August   , 03 September, 17 September, 24 September, 08 October  , 22 October  , 29 October  , 05 November , 18 November , 26 November </td></tr>\n",
       "\t<tr><th scope=row>lat</th><td>26.030390, 21.638094, -37.849140, 40.371259, 25.957740, 43.738095, 41.568277, 45.505890, 47.223586, 52.071590, 47.581758, 50.438628, 52.387891, 45.618448, 1.287535, 34.843156, 25.490438, 30.133637, 19.400257, -23.703293, 36.117030, 24.471721</td></tr>\n",
       "\t<tr><th scope=row>long</th><td>50.513543, 39.099443, 144.969873, 49.847693, -80.238678, 7.426050, 2.258206, -73.524110, 14.755540, -1.016150, 19.250748, 5.966606, 4.543061, 9.287676, 103.855477, 136.526698, 51.453857, -97.634573, -99.090279, -46.696961, -115.164946, 54.601836</td></tr>\n",
       "</tbody>\n",
       "</table>\n"
      ],
      "text/latex": [
       "A matrix: 6 × 1\n",
       "\\begin{tabular}{r|l}\n",
       "\tNo. & 1, 2, 3, 4, 5, 6, 7, 8, 9, 10, 11, 12, 13, 14, 15, 16, 17, 18, 19, 20, 21, 22\\\\\n",
       "\tGrand Prix & Bahrain     , Saudi Arabia, Australia   , Azerbaijan  , Miami       , Monaco      , Spain       , Canada      , Austria     , Britain     , Hungary     , Belgium     , Netherlands , Italy       , Singapore   , Japan       , Qatar       , USA         , Mexico City , Sao Paulo   , Las Vegas   , Abu Dhabi   \\\\\n",
       "\tCircuit & Sakhir           , Djeddah          , Melbourne        , Bakou            , Miami            , Monaco           , Barcelone        , Montreal         , Spielberg        , Silverstone      , Hungaroring      , Spa-Francorchamps, Zandvoort        , Monza            , Singapour        , Suzuka           , Losail           , Austin           , Mexico-City      , Interlagos       , Las-Vegas        , Yas-Marina       \\\\\n",
       "\tDate & 05 March    , 19 March    , 02 April    , 30 April    , 07 May      , 28 May      , 04 June     , 18 June     , 02 July     , 09 July     , 23 July     , 30 July     , 27 August   , 03 September, 17 September, 24 September, 08 October  , 22 October  , 29 October  , 05 November , 18 November , 26 November \\\\\n",
       "\tlat & 26.030390, 21.638094, -37.849140, 40.371259, 25.957740, 43.738095, 41.568277, 45.505890, 47.223586, 52.071590, 47.581758, 50.438628, 52.387891, 45.618448, 1.287535, 34.843156, 25.490438, 30.133637, 19.400257, -23.703293, 36.117030, 24.471721\\\\\n",
       "\tlong & 50.513543, 39.099443, 144.969873, 49.847693, -80.238678, 7.426050, 2.258206, -73.524110, 14.755540, -1.016150, 19.250748, 5.966606, 4.543061, 9.287676, 103.855477, 136.526698, 51.453857, -97.634573, -99.090279, -46.696961, -115.164946, 54.601836\\\\\n",
       "\\end{tabular}\n"
      ],
      "text/markdown": [
       "\n",
       "A matrix: 6 × 1\n",
       "\n",
       "| No. | 1, 2, 3, 4, 5, 6, 7, 8, 9, 10, 11, 12, 13, 14, 15, 16, 17, 18, 19, 20, 21, 22 |\n",
       "| Grand Prix | Bahrain     , Saudi Arabia, Australia   , Azerbaijan  , Miami       , Monaco      , Spain       , Canada      , Austria     , Britain     , Hungary     , Belgium     , Netherlands , Italy       , Singapore   , Japan       , Qatar       , USA         , Mexico City , Sao Paulo   , Las Vegas   , Abu Dhabi    |\n",
       "| Circuit | Sakhir           , Djeddah          , Melbourne        , Bakou            , Miami            , Monaco           , Barcelone        , Montreal         , Spielberg        , Silverstone      , Hungaroring      , Spa-Francorchamps, Zandvoort        , Monza            , Singapour        , Suzuka           , Losail           , Austin           , Mexico-City      , Interlagos       , Las-Vegas        , Yas-Marina        |\n",
       "| Date | 05 March    , 19 March    , 02 April    , 30 April    , 07 May      , 28 May      , 04 June     , 18 June     , 02 July     , 09 July     , 23 July     , 30 July     , 27 August   , 03 September, 17 September, 24 September, 08 October  , 22 October  , 29 October  , 05 November , 18 November , 26 November  |\n",
       "| lat | 26.030390, 21.638094, -37.849140, 40.371259, 25.957740, 43.738095, 41.568277, 45.505890, 47.223586, 52.071590, 47.581758, 50.438628, 52.387891, 45.618448, 1.287535, 34.843156, 25.490438, 30.133637, 19.400257, -23.703293, 36.117030, 24.471721 |\n",
       "| long | 50.513543, 39.099443, 144.969873, 49.847693, -80.238678, 7.426050, 2.258206, -73.524110, 14.755540, -1.016150, 19.250748, 5.966606, 4.543061, 9.287676, 103.855477, 136.526698, 51.453857, -97.634573, -99.090279, -46.696961, -115.164946, 54.601836 |\n",
       "\n"
      ],
      "text/plain": [
       "           [,1]                                                                                                                                                                                                                                                                                                                                                                                                                            \n",
       "No.        1, 2, 3, 4, 5, 6, 7, 8, 9, 10, 11, 12, 13, 14, 15, 16, 17, 18, 19, 20, 21, 22                                                                                                                                                                                                                                                                                                                                                   \n",
       "Grand Prix Bahrain     , Saudi Arabia, Australia   , Azerbaijan  , Miami       , Monaco      , Spain       , Canada      , Austria     , Britain     , Hungary     , Belgium     , Netherlands , Italy       , Singapore   , Japan       , Qatar       , USA         , Mexico City , Sao Paulo   , Las Vegas   , Abu Dhabi                                                                                                                 \n",
       "Circuit    Sakhir           , Djeddah          , Melbourne        , Bakou            , Miami            , Monaco           , Barcelone        , Montreal         , Spielberg        , Silverstone      , Hungaroring      , Spa-Francorchamps, Zandvoort        , Monza            , Singapour        , Suzuka           , Losail           , Austin           , Mexico-City      , Interlagos       , Las-Vegas        , Yas-Marina       \n",
       "Date       05 March    , 19 March    , 02 April    , 30 April    , 07 May      , 28 May      , 04 June     , 18 June     , 02 July     , 09 July     , 23 July     , 30 July     , 27 August   , 03 September, 17 September, 24 September, 08 October  , 22 October  , 29 October  , 05 November , 18 November , 26 November                                                                                                               \n",
       "lat        26.030390, 21.638094, -37.849140, 40.371259, 25.957740, 43.738095, 41.568277, 45.505890, 47.223586, 52.071590, 47.581758, 50.438628, 52.387891, 45.618448, 1.287535, 34.843156, 25.490438, 30.133637, 19.400257, -23.703293, 36.117030, 24.471721                                                                                                                                                                               \n",
       "long       50.513543, 39.099443, 144.969873, 49.847693, -80.238678, 7.426050, 2.258206, -73.524110, 14.755540, -1.016150, 19.250748, 5.966606, 4.543061, 9.287676, 103.855477, 136.526698, 51.453857, -97.634573, -99.090279, -46.696961, -115.164946, 54.601836                                                                                                                                                                           "
      ]
     },
     "metadata": {},
     "output_type": "display_data"
    }
   ],
   "source": [
    "sapply(X = years,FUN = race_tracks)"
   ]
  },
  {
   "cell_type": "code",
   "execution_count": 85,
   "id": "24c5364f",
   "metadata": {
    "scrolled": false
   },
   "outputs": [
    {
     "data": {
      "text/html": [
       "<table class=\"dataframe\">\n",
       "<caption>A tibble: 22 × 6</caption>\n",
       "<thead>\n",
       "\t<tr><th scope=col>#</th><th scope=col>Grand Prix</th><th scope=col>Circuit</th><th scope=col>Date</th><th scope=col>lat</th><th scope=col>long</th></tr>\n",
       "\t<tr><th scope=col>&lt;int&gt;</th><th scope=col>&lt;chr&gt;</th><th scope=col>&lt;chr&gt;</th><th scope=col>&lt;chr&gt;</th><th scope=col>&lt;dbl&gt;</th><th scope=col>&lt;dbl&gt;</th></tr>\n",
       "</thead>\n",
       "<tbody>\n",
       "\t<tr><td> 1</td><td>Bahrain       </td><td>Sakhir           </td><td>28 March    </td><td> 26.03039</td><td> 50.513543</td></tr>\n",
       "\t<tr><td> 2</td><td>Emilia Romagna</td><td>Imola            </td><td>18 April    </td><td> 44.33986</td><td> 11.713329</td></tr>\n",
       "\t<tr><td> 3</td><td>Portugal      </td><td>Portimao         </td><td>02 May      </td><td> 37.22888</td><td> -8.627678</td></tr>\n",
       "\t<tr><td> 4</td><td>Spain         </td><td>Barcelone        </td><td>09 May      </td><td> 41.56828</td><td>  2.258206</td></tr>\n",
       "\t<tr><td> 5</td><td>Monaco        </td><td>Monaco           </td><td>23 May      </td><td> 43.73809</td><td>  7.426050</td></tr>\n",
       "\t<tr><td> 6</td><td>Azerbaijan    </td><td>Bakou            </td><td>06 June     </td><td> 40.37126</td><td> 49.847693</td></tr>\n",
       "\t<tr><td> 7</td><td>France        </td><td>Le-Castellet     </td><td>20 June     </td><td> 43.25113</td><td>  5.789497</td></tr>\n",
       "\t<tr><td> 8</td><td>Styria        </td><td>Spielberg        </td><td>27 June     </td><td> 47.22359</td><td> 14.755540</td></tr>\n",
       "\t<tr><td> 9</td><td>Austria       </td><td>Spielberg        </td><td>04 July     </td><td> 47.22359</td><td> 14.755540</td></tr>\n",
       "\t<tr><td>10</td><td>Britain       </td><td>Silverstone      </td><td>18 July     </td><td> 52.07159</td><td> -1.016150</td></tr>\n",
       "\t<tr><td>11</td><td>Hungary       </td><td>Hungaroring      </td><td>01 August   </td><td> 47.58176</td><td> 19.250748</td></tr>\n",
       "\t<tr><td>12</td><td>Belgium       </td><td>Spa-Francorchamps</td><td>29 August   </td><td> 50.43863</td><td>  5.966606</td></tr>\n",
       "\t<tr><td>13</td><td>Netherlands   </td><td>Zandvoort        </td><td>05 September</td><td> 52.38789</td><td>  4.543061</td></tr>\n",
       "\t<tr><td>14</td><td>Italy         </td><td>Monza            </td><td>12 September</td><td> 45.61845</td><td>  9.287676</td></tr>\n",
       "\t<tr><td>15</td><td>Russia        </td><td>Sochi            </td><td>26 September</td><td> 43.40672</td><td> 39.956996</td></tr>\n",
       "\t<tr><td>16</td><td>Turkey        </td><td>Istanbul         </td><td>10 October  </td><td> 40.95527</td><td> 29.409696</td></tr>\n",
       "\t<tr><td>17</td><td>USA           </td><td>Austin           </td><td>24 October  </td><td> 30.13364</td><td>-97.634573</td></tr>\n",
       "\t<tr><td>18</td><td>Mexico City   </td><td>Mexico-City      </td><td>07 November </td><td> 19.40026</td><td>-99.090279</td></tr>\n",
       "\t<tr><td>19</td><td>Sao Paulo     </td><td>Interlagos       </td><td>14 November </td><td>-23.70329</td><td>-46.696961</td></tr>\n",
       "\t<tr><td>20</td><td>Qatar         </td><td>Losail           </td><td>21 November </td><td> 25.49044</td><td> 51.453857</td></tr>\n",
       "\t<tr><td>21</td><td>Saudi Arabia  </td><td>Djeddah          </td><td>05 December </td><td> 21.63809</td><td> 39.099443</td></tr>\n",
       "\t<tr><td>22</td><td>Abu Dhabi     </td><td>Yas-Marina       </td><td>12 December </td><td> 24.47172</td><td> 54.601836</td></tr>\n",
       "</tbody>\n",
       "</table>\n"
      ],
      "text/latex": [
       "A tibble: 22 × 6\n",
       "\\begin{tabular}{llllll}\n",
       " \\# & Grand Prix & Circuit & Date & lat & long\\\\\n",
       " <int> & <chr> & <chr> & <chr> & <dbl> & <dbl>\\\\\n",
       "\\hline\n",
       "\t  1 & Bahrain        & Sakhir            & 28 March     &  26.03039 &  50.513543\\\\\n",
       "\t  2 & Emilia Romagna & Imola             & 18 April     &  44.33986 &  11.713329\\\\\n",
       "\t  3 & Portugal       & Portimao          & 02 May       &  37.22888 &  -8.627678\\\\\n",
       "\t  4 & Spain          & Barcelone         & 09 May       &  41.56828 &   2.258206\\\\\n",
       "\t  5 & Monaco         & Monaco            & 23 May       &  43.73809 &   7.426050\\\\\n",
       "\t  6 & Azerbaijan     & Bakou             & 06 June      &  40.37126 &  49.847693\\\\\n",
       "\t  7 & France         & Le-Castellet      & 20 June      &  43.25113 &   5.789497\\\\\n",
       "\t  8 & Styria         & Spielberg         & 27 June      &  47.22359 &  14.755540\\\\\n",
       "\t  9 & Austria        & Spielberg         & 04 July      &  47.22359 &  14.755540\\\\\n",
       "\t 10 & Britain        & Silverstone       & 18 July      &  52.07159 &  -1.016150\\\\\n",
       "\t 11 & Hungary        & Hungaroring       & 01 August    &  47.58176 &  19.250748\\\\\n",
       "\t 12 & Belgium        & Spa-Francorchamps & 29 August    &  50.43863 &   5.966606\\\\\n",
       "\t 13 & Netherlands    & Zandvoort         & 05 September &  52.38789 &   4.543061\\\\\n",
       "\t 14 & Italy          & Monza             & 12 September &  45.61845 &   9.287676\\\\\n",
       "\t 15 & Russia         & Sochi             & 26 September &  43.40672 &  39.956996\\\\\n",
       "\t 16 & Turkey         & Istanbul          & 10 October   &  40.95527 &  29.409696\\\\\n",
       "\t 17 & USA            & Austin            & 24 October   &  30.13364 & -97.634573\\\\\n",
       "\t 18 & Mexico City    & Mexico-City       & 07 November  &  19.40026 & -99.090279\\\\\n",
       "\t 19 & Sao Paulo      & Interlagos        & 14 November  & -23.70329 & -46.696961\\\\\n",
       "\t 20 & Qatar          & Losail            & 21 November  &  25.49044 &  51.453857\\\\\n",
       "\t 21 & Saudi Arabia   & Djeddah           & 05 December  &  21.63809 &  39.099443\\\\\n",
       "\t 22 & Abu Dhabi      & Yas-Marina        & 12 December  &  24.47172 &  54.601836\\\\\n",
       "\\end{tabular}\n"
      ],
      "text/markdown": [
       "\n",
       "A tibble: 22 × 6\n",
       "\n",
       "| # &lt;int&gt; | Grand Prix &lt;chr&gt; | Circuit &lt;chr&gt; | Date &lt;chr&gt; | lat &lt;dbl&gt; | long &lt;dbl&gt; |\n",
       "|---|---|---|---|---|---|\n",
       "|  1 | Bahrain        | Sakhir            | 28 March     |  26.03039 |  50.513543 |\n",
       "|  2 | Emilia Romagna | Imola             | 18 April     |  44.33986 |  11.713329 |\n",
       "|  3 | Portugal       | Portimao          | 02 May       |  37.22888 |  -8.627678 |\n",
       "|  4 | Spain          | Barcelone         | 09 May       |  41.56828 |   2.258206 |\n",
       "|  5 | Monaco         | Monaco            | 23 May       |  43.73809 |   7.426050 |\n",
       "|  6 | Azerbaijan     | Bakou             | 06 June      |  40.37126 |  49.847693 |\n",
       "|  7 | France         | Le-Castellet      | 20 June      |  43.25113 |   5.789497 |\n",
       "|  8 | Styria         | Spielberg         | 27 June      |  47.22359 |  14.755540 |\n",
       "|  9 | Austria        | Spielberg         | 04 July      |  47.22359 |  14.755540 |\n",
       "| 10 | Britain        | Silverstone       | 18 July      |  52.07159 |  -1.016150 |\n",
       "| 11 | Hungary        | Hungaroring       | 01 August    |  47.58176 |  19.250748 |\n",
       "| 12 | Belgium        | Spa-Francorchamps | 29 August    |  50.43863 |   5.966606 |\n",
       "| 13 | Netherlands    | Zandvoort         | 05 September |  52.38789 |   4.543061 |\n",
       "| 14 | Italy          | Monza             | 12 September |  45.61845 |   9.287676 |\n",
       "| 15 | Russia         | Sochi             | 26 September |  43.40672 |  39.956996 |\n",
       "| 16 | Turkey         | Istanbul          | 10 October   |  40.95527 |  29.409696 |\n",
       "| 17 | USA            | Austin            | 24 October   |  30.13364 | -97.634573 |\n",
       "| 18 | Mexico City    | Mexico-City       | 07 November  |  19.40026 | -99.090279 |\n",
       "| 19 | Sao Paulo      | Interlagos        | 14 November  | -23.70329 | -46.696961 |\n",
       "| 20 | Qatar          | Losail            | 21 November  |  25.49044 |  51.453857 |\n",
       "| 21 | Saudi Arabia   | Djeddah           | 05 December  |  21.63809 |  39.099443 |\n",
       "| 22 | Abu Dhabi      | Yas-Marina        | 12 December  |  24.47172 |  54.601836 |\n",
       "\n"
      ],
      "text/plain": [
       "   #  Grand Prix     Circuit           Date         lat       long      \n",
       "1   1 Bahrain        Sakhir            28 March      26.03039  50.513543\n",
       "2   2 Emilia Romagna Imola             18 April      44.33986  11.713329\n",
       "3   3 Portugal       Portimao          02 May        37.22888  -8.627678\n",
       "4   4 Spain          Barcelone         09 May        41.56828   2.258206\n",
       "5   5 Monaco         Monaco            23 May        43.73809   7.426050\n",
       "6   6 Azerbaijan     Bakou             06 June       40.37126  49.847693\n",
       "7   7 France         Le-Castellet      20 June       43.25113   5.789497\n",
       "8   8 Styria         Spielberg         27 June       47.22359  14.755540\n",
       "9   9 Austria        Spielberg         04 July       47.22359  14.755540\n",
       "10 10 Britain        Silverstone       18 July       52.07159  -1.016150\n",
       "11 11 Hungary        Hungaroring       01 August     47.58176  19.250748\n",
       "12 12 Belgium        Spa-Francorchamps 29 August     50.43863   5.966606\n",
       "13 13 Netherlands    Zandvoort         05 September  52.38789   4.543061\n",
       "14 14 Italy          Monza             12 September  45.61845   9.287676\n",
       "15 15 Russia         Sochi             26 September  43.40672  39.956996\n",
       "16 16 Turkey         Istanbul          10 October    40.95527  29.409696\n",
       "17 17 USA            Austin            24 October    30.13364 -97.634573\n",
       "18 18 Mexico City    Mexico-City       07 November   19.40026 -99.090279\n",
       "19 19 Sao Paulo      Interlagos        14 November  -23.70329 -46.696961\n",
       "20 20 Qatar          Losail            21 November   25.49044  51.453857\n",
       "21 21 Saudi Arabia   Djeddah           05 December   21.63809  39.099443\n",
       "22 22 Abu Dhabi      Yas-Marina        12 December   24.47172  54.601836"
      ]
     },
     "metadata": {},
     "output_type": "display_data"
    }
   ],
   "source": [
    "tracks"
   ]
  },
  {
   "cell_type": "code",
   "execution_count": 117,
   "id": "8331906a",
   "metadata": {},
   "outputs": [],
   "source": [
    "write_csv(tracks, sprintf('race_tracks_%d.csv', years))"
   ]
  },
  {
   "cell_type": "code",
   "execution_count": 72,
   "id": "79b05415",
   "metadata": {},
   "outputs": [
    {
     "data": {
      "text/html": [
       "28.067626"
      ],
      "text/latex": [
       "28.067626"
      ],
      "text/markdown": [
       "28.067626"
      ],
      "text/plain": [
       "[1] 28.06763"
      ]
     },
     "metadata": {},
     "output_type": "display_data"
    }
   ],
   "source": [
    "get_long('Kyalami')"
   ]
  },
  {
   "cell_type": "code",
   "execution_count": 75,
   "id": "42853b14",
   "metadata": {},
   "outputs": [],
   "source": [
    "gplink <- 'https://gpracingstats.com/circuits/'"
   ]
  },
  {
   "cell_type": "code",
   "execution_count": 76,
   "id": "fe27a529",
   "metadata": {},
   "outputs": [],
   "source": [
    "page <- read_html(gplink)"
   ]
  },
  {
   "cell_type": "code",
   "execution_count": 77,
   "id": "3b95ee77",
   "metadata": {},
   "outputs": [],
   "source": [
    "gptable <- page %>% html_nodes('.summary') %>% html_table(header = TRUE)"
   ]
  },
  {
   "cell_type": "code",
   "execution_count": 78,
   "id": "69da4516",
   "metadata": {},
   "outputs": [
    {
     "data": {
      "text/html": [
       "<ol>\n",
       "\t<li><table class=\"dataframe\">\n",
       "<caption>A tibble: 77 × 3</caption>\n",
       "<thead>\n",
       "\t<tr><th scope=col>Circuit</th><th scope=col>Year(s) held</th><th scope=col>Races held</th></tr>\n",
       "\t<tr><th scope=col>&lt;chr&gt;</th><th scope=col>&lt;chr&gt;</th><th scope=col>&lt;int&gt;</th></tr>\n",
       "</thead>\n",
       "<tbody>\n",
       "\t<tr><td>(AUS) Adelaide (Adelaide Street Circuit)                  </td><td>1985-95                                                        </td><td>11</td></tr>\n",
       "\t<tr><td>(JPN) Aida (Okayama International Circuit)                </td><td>1994-95                                                        </td><td> 2</td></tr>\n",
       "\t<tr><td>(GBR) Aintree (Aintree Motor Racing Circuit)              </td><td>1955, 1957, 1959, 1961-62                                      </td><td> 5</td></tr>\n",
       "\t<tr><td>(SWE) Anderstorp (Anderstorp Raceway)                     </td><td>1973-78                                                        </td><td> 6</td></tr>\n",
       "\t<tr><td>(USA) Austin (Circuit of the Americas (COTA))             </td><td>2012-19, 2021-22                                               </td><td>10</td></tr>\n",
       "\t<tr><td>(DEU) AVUS (Automobil Verkehrs und Ubungsstrasse)         </td><td>1959                                                           </td><td> 1</td></tr>\n",
       "\t<tr><td>(AZE) Baku (Baku City Circuit)                            </td><td>2016-19, 2021-23                                               </td><td> 7</td></tr>\n",
       "\t<tr><td>(GBR) Brands Hatch                                        </td><td>1964, 1966, 1968, 1970, 1972, 1974, 1976, 1978, 1980, 1982-86  </td><td>14</td></tr>\n",
       "\t<tr><td>(CHE) Bremgarten                                          </td><td>1950-54                                                        </td><td> 5</td></tr>\n",
       "\t<tr><td>(IND) Buddh (Buddh International Circuit)                 </td><td>2011-13                                                        </td><td> 3</td></tr>\n",
       "\t<tr><td>(ARG) Buenos Aires (Autodromo Juan y Oscar Galvez)        </td><td>1953-58, 1960, 1972-75, 1977-81, 1995-98                       </td><td>20</td></tr>\n",
       "\t<tr><td>(MAR) Casablanca                                          </td><td>1958                                                           </td><td> 1</td></tr>\n",
       "\t<tr><td>(ESP) Catalunya (Circuit de Barcelona-Catalunya)          </td><td>1991-2023                                                      </td><td>33</td></tr>\n",
       "\t<tr><td>(FRA) Clermont-Ferrand (Circuit de Charade)               </td><td>1965, 1969-70, 1972                                            </td><td> 4</td></tr>\n",
       "\t<tr><td>(USA) Dallas (Fair Park)                                  </td><td>1984                                                           </td><td> 1</td></tr>\n",
       "\t<tr><td>(USA) Detroit                                             </td><td>1982-88                                                        </td><td> 7</td></tr>\n",
       "\t<tr><td>(FRA) Dijon-Prenois                                       </td><td>1974, 1977, 1979, 1981-82, 1984                                </td><td> 6</td></tr>\n",
       "\t<tr><td>(GBR) Donington (Donington Park)                          </td><td>1993                                                           </td><td> 1</td></tr>\n",
       "\t<tr><td>(ZAF) East London (Prince George Circuit)                 </td><td>1962-63, 1965                                                  </td><td> 3</td></tr>\n",
       "\t<tr><td>(PRT) Estoril (Autodromo Fernanda Pires da Silva)         </td><td>1984-96                                                        </td><td>13</td></tr>\n",
       "\t<tr><td>(USA) Florida (Miami International Autodrome)             </td><td>2022-23                                                        </td><td> 2</td></tr>\n",
       "\t<tr><td>(JPN) Fuji (Fuji Speedway)                                </td><td>1976-77, 2007-08                                               </td><td> 4</td></tr>\n",
       "\t<tr><td>(DEU) Hockenheim (Hockenheimring)                         </td><td>1970, 1977-84, 1986-2006, 2008, 2010, 2012, 2014, 2016, 2018-19</td><td>37</td></tr>\n",
       "\t<tr><td>(HUN) Hungaroring                                         </td><td>1986-2023                                                      </td><td>38</td></tr>\n",
       "\t<tr><td>(ITA) Imola (Autodromo Internazionale Enzo e Dino Ferrari)</td><td>1980-2006, 2020-22                                             </td><td>30</td></tr>\n",
       "\t<tr><td>(USA) Indianapolis (Indianapolis Motor Speedway)          </td><td>1950-60, 2000-07                                               </td><td>19</td></tr>\n",
       "\t<tr><td>(BRA) Interlagos (Autodromo Jose Carlos Pace)             </td><td>1973-77, 1979-80, 1990-2019, 2021-22                           </td><td>39</td></tr>\n",
       "\t<tr><td>(TUR) Istanbul (Istanbul Park)                            </td><td>2005-11, 2020-21                                               </td><td> 9</td></tr>\n",
       "\t<tr><td>(BRA) Jacarepagua (Autodromo Internacional Nelson Piquet) </td><td>1978, 1981-89                                                  </td><td>10</td></tr>\n",
       "\t<tr><td>(ESP) Jarama (Circuito del Jarama)                        </td><td>1968, 1970, 1972, 1974, 1976-79, 1981                          </td><td> 9</td></tr>\n",
       "\t<tr><td>...</td><td>...</td><td>...</td></tr>\n",
       "\t<tr><td>(ITA) Monza (Autodromo Nazionale di Monza)          </td><td>1950-79, 1981-2023                                                                                          </td><td>73</td></tr>\n",
       "\t<tr><td>(CAN) Mosport (Canadian Tire Motorsport Park)       </td><td>1967, 1969, 1971-74, 1976-77                                                                                </td><td> 8</td></tr>\n",
       "\t<tr><td>(ITA) Mugello (Autodromo Internazionale del Mugello)</td><td>2020                                                                                                        </td><td> 1</td></tr>\n",
       "\t<tr><td>(BEL) Nivelles (Nivelles-Baulers)                   </td><td>1972, 1974                                                                                                  </td><td> 2</td></tr>\n",
       "\t<tr><td>(DEU) Nurburgring                                   </td><td>1951-54, 1956-58, 1961-69, 1971-76, 1984-85, 1995-2007, 2009, 2011, 2013, 2020                              </td><td>41</td></tr>\n",
       "\t<tr><td>(AUT) Osterreichring                                </td><td>1970-87                                                                                                     </td><td>18</td></tr>\n",
       "\t<tr><td>(ESP) Pedralbes                                     </td><td>1951, 1954                                                                                                  </td><td> 2</td></tr>\n",
       "\t<tr><td>(ITA) Pescara                                       </td><td>1957                                                                                                        </td><td> 1</td></tr>\n",
       "\t<tr><td>(USA) Phoenix                                       </td><td>1989-91                                                                                                     </td><td> 3</td></tr>\n",
       "\t<tr><td>(PRT) Portimao (Autodromo Internacional do Algarve) </td><td>2020-21                                                                                                     </td><td> 2</td></tr>\n",
       "\t<tr><td>(PRT) Porto (Circuito da Boavista)                  </td><td>1958, 1960                                                                                                  </td><td> 2</td></tr>\n",
       "\t<tr><td>(FRA) Reims                                         </td><td>1950-51, 1953-54, 1956, 1958-61, 1963, 1966                                                                 </td><td>11</td></tr>\n",
       "\t<tr><td>(USA) Riverside (Riverside International Raceway)   </td><td>1960                                                                                                        </td><td> 1</td></tr>\n",
       "\t<tr><td>(FRA) Rouen-les-Essarts                             </td><td>1952, 1957, 1962, 1964, 1968                                                                                </td><td> 5</td></tr>\n",
       "\t<tr><td>(BHR) Sakhir (Bahrain International Circuit)        </td><td>2004-10, 2012-23                                                                                            </td><td>20</td></tr>\n",
       "\t<tr><td>(USA) Sebring (Sebring International Raceway)       </td><td>1959                                                                                                        </td><td> 1</td></tr>\n",
       "\t<tr><td>(MYS) Sepang (Sepang International Circuit)         </td><td>1999-2017                                                                                                   </td><td>19</td></tr>\n",
       "\t<tr><td>(CHN) Shanghai (Shanghai International Circuit)     </td><td>2004-19                                                                                                     </td><td>16</td></tr>\n",
       "\t<tr><td>(GBR) Silverstone                                   </td><td>1950-54, 1956, 1958, 1960, 1963, 1965, 1967, 1969, 1971, 1973, 1975, 1977, 1979, 1981, 1983, 1985, 1987-2023</td><td>58</td></tr>\n",
       "\t<tr><td>(RUS) Sochi (Sochi Autodrom)                        </td><td>2014-21                                                                                                     </td><td> 8</td></tr>\n",
       "\t<tr><td>(BEL) Spa-Francorchamps                             </td><td>1950-56, 1958, 1960-68, 1970, 1983, 1985-2002, 2004-05, 2007-23                                             </td><td>56</td></tr>\n",
       "\t<tr><td>(AUT) Spielberg (Red Bull Ring)                     </td><td>1997-2003, 2014-23                                                                                          </td><td>19</td></tr>\n",
       "\t<tr><td>(JPN) Suzuka (Suzuka International Racing Course)   </td><td>1987-2006, 2009-19, 2022-23                                                                                 </td><td>33</td></tr>\n",
       "\t<tr><td>(ESP) Valencia (Valencia Street Circuit)            </td><td>2008-12                                                                                                     </td><td> 5</td></tr>\n",
       "\t<tr><td>(USA) Watkins Glen (Watkins Glen International)     </td><td>1961-80                                                                                                     </td><td>20</td></tr>\n",
       "\t<tr><td>(ARE) Yas Marina                                    </td><td>2009-22                                                                                                     </td><td>14</td></tr>\n",
       "\t<tr><td>(KOR) Yeongam (Korea International Circuit)         </td><td>2010-13                                                                                                     </td><td> 4</td></tr>\n",
       "\t<tr><td>(NLD) Zandvoort                                     </td><td>1952-53, 1955, 1958-71, 1973-85, 2021-23                                                                    </td><td>33</td></tr>\n",
       "\t<tr><td>(AUT) Zeltweg                                       </td><td>1964                                                                                                        </td><td> 1</td></tr>\n",
       "\t<tr><td>(BEL) Zolder (Circuit Zolder)                       </td><td>1973, 1975-82, 1984                                                                                         </td><td>10</td></tr>\n",
       "</tbody>\n",
       "</table>\n",
       "</li>\n",
       "</ol>\n"
      ],
      "text/latex": [
       "\\begin{enumerate}\n",
       "\\item A tibble: 77 × 3\n",
       "\\begin{tabular}{lll}\n",
       " Circuit & Year(s) held & Races held\\\\\n",
       " <chr> & <chr> & <int>\\\\\n",
       "\\hline\n",
       "\t (AUS) Adelaide (Adelaide Street Circuit)                   & 1985-95                                                         & 11\\\\\n",
       "\t (JPN) Aida (Okayama International Circuit)                 & 1994-95                                                         &  2\\\\\n",
       "\t (GBR) Aintree (Aintree Motor Racing Circuit)               & 1955, 1957, 1959, 1961-62                                       &  5\\\\\n",
       "\t (SWE) Anderstorp (Anderstorp Raceway)                      & 1973-78                                                         &  6\\\\\n",
       "\t (USA) Austin (Circuit of the Americas (COTA))              & 2012-19, 2021-22                                                & 10\\\\\n",
       "\t (DEU) AVUS (Automobil Verkehrs und Ubungsstrasse)          & 1959                                                            &  1\\\\\n",
       "\t (AZE) Baku (Baku City Circuit)                             & 2016-19, 2021-23                                                &  7\\\\\n",
       "\t (GBR) Brands Hatch                                         & 1964, 1966, 1968, 1970, 1972, 1974, 1976, 1978, 1980, 1982-86   & 14\\\\\n",
       "\t (CHE) Bremgarten                                           & 1950-54                                                         &  5\\\\\n",
       "\t (IND) Buddh (Buddh International Circuit)                  & 2011-13                                                         &  3\\\\\n",
       "\t (ARG) Buenos Aires (Autodromo Juan y Oscar Galvez)         & 1953-58, 1960, 1972-75, 1977-81, 1995-98                        & 20\\\\\n",
       "\t (MAR) Casablanca                                           & 1958                                                            &  1\\\\\n",
       "\t (ESP) Catalunya (Circuit de Barcelona-Catalunya)           & 1991-2023                                                       & 33\\\\\n",
       "\t (FRA) Clermont-Ferrand (Circuit de Charade)                & 1965, 1969-70, 1972                                             &  4\\\\\n",
       "\t (USA) Dallas (Fair Park)                                   & 1984                                                            &  1\\\\\n",
       "\t (USA) Detroit                                              & 1982-88                                                         &  7\\\\\n",
       "\t (FRA) Dijon-Prenois                                        & 1974, 1977, 1979, 1981-82, 1984                                 &  6\\\\\n",
       "\t (GBR) Donington (Donington Park)                           & 1993                                                            &  1\\\\\n",
       "\t (ZAF) East London (Prince George Circuit)                  & 1962-63, 1965                                                   &  3\\\\\n",
       "\t (PRT) Estoril (Autodromo Fernanda Pires da Silva)          & 1984-96                                                         & 13\\\\\n",
       "\t (USA) Florida (Miami International Autodrome)              & 2022-23                                                         &  2\\\\\n",
       "\t (JPN) Fuji (Fuji Speedway)                                 & 1976-77, 2007-08                                                &  4\\\\\n",
       "\t (DEU) Hockenheim (Hockenheimring)                          & 1970, 1977-84, 1986-2006, 2008, 2010, 2012, 2014, 2016, 2018-19 & 37\\\\\n",
       "\t (HUN) Hungaroring                                          & 1986-2023                                                       & 38\\\\\n",
       "\t (ITA) Imola (Autodromo Internazionale Enzo e Dino Ferrari) & 1980-2006, 2020-22                                              & 30\\\\\n",
       "\t (USA) Indianapolis (Indianapolis Motor Speedway)           & 1950-60, 2000-07                                                & 19\\\\\n",
       "\t (BRA) Interlagos (Autodromo Jose Carlos Pace)              & 1973-77, 1979-80, 1990-2019, 2021-22                            & 39\\\\\n",
       "\t (TUR) Istanbul (Istanbul Park)                             & 2005-11, 2020-21                                                &  9\\\\\n",
       "\t (BRA) Jacarepagua (Autodromo Internacional Nelson Piquet)  & 1978, 1981-89                                                   & 10\\\\\n",
       "\t (ESP) Jarama (Circuito del Jarama)                         & 1968, 1970, 1972, 1974, 1976-79, 1981                           &  9\\\\\n",
       "\t ... & ... & ...\\\\\n",
       "\t (ITA) Monza (Autodromo Nazionale di Monza)           & 1950-79, 1981-2023                                                                                           & 73\\\\\n",
       "\t (CAN) Mosport (Canadian Tire Motorsport Park)        & 1967, 1969, 1971-74, 1976-77                                                                                 &  8\\\\\n",
       "\t (ITA) Mugello (Autodromo Internazionale del Mugello) & 2020                                                                                                         &  1\\\\\n",
       "\t (BEL) Nivelles (Nivelles-Baulers)                    & 1972, 1974                                                                                                   &  2\\\\\n",
       "\t (DEU) Nurburgring                                    & 1951-54, 1956-58, 1961-69, 1971-76, 1984-85, 1995-2007, 2009, 2011, 2013, 2020                               & 41\\\\\n",
       "\t (AUT) Osterreichring                                 & 1970-87                                                                                                      & 18\\\\\n",
       "\t (ESP) Pedralbes                                      & 1951, 1954                                                                                                   &  2\\\\\n",
       "\t (ITA) Pescara                                        & 1957                                                                                                         &  1\\\\\n",
       "\t (USA) Phoenix                                        & 1989-91                                                                                                      &  3\\\\\n",
       "\t (PRT) Portimao (Autodromo Internacional do Algarve)  & 2020-21                                                                                                      &  2\\\\\n",
       "\t (PRT) Porto (Circuito da Boavista)                   & 1958, 1960                                                                                                   &  2\\\\\n",
       "\t (FRA) Reims                                          & 1950-51, 1953-54, 1956, 1958-61, 1963, 1966                                                                  & 11\\\\\n",
       "\t (USA) Riverside (Riverside International Raceway)    & 1960                                                                                                         &  1\\\\\n",
       "\t (FRA) Rouen-les-Essarts                              & 1952, 1957, 1962, 1964, 1968                                                                                 &  5\\\\\n",
       "\t (BHR) Sakhir (Bahrain International Circuit)         & 2004-10, 2012-23                                                                                             & 20\\\\\n",
       "\t (USA) Sebring (Sebring International Raceway)        & 1959                                                                                                         &  1\\\\\n",
       "\t (MYS) Sepang (Sepang International Circuit)          & 1999-2017                                                                                                    & 19\\\\\n",
       "\t (CHN) Shanghai (Shanghai International Circuit)      & 2004-19                                                                                                      & 16\\\\\n",
       "\t (GBR) Silverstone                                    & 1950-54, 1956, 1958, 1960, 1963, 1965, 1967, 1969, 1971, 1973, 1975, 1977, 1979, 1981, 1983, 1985, 1987-2023 & 58\\\\\n",
       "\t (RUS) Sochi (Sochi Autodrom)                         & 2014-21                                                                                                      &  8\\\\\n",
       "\t (BEL) Spa-Francorchamps                              & 1950-56, 1958, 1960-68, 1970, 1983, 1985-2002, 2004-05, 2007-23                                              & 56\\\\\n",
       "\t (AUT) Spielberg (Red Bull Ring)                      & 1997-2003, 2014-23                                                                                           & 19\\\\\n",
       "\t (JPN) Suzuka (Suzuka International Racing Course)    & 1987-2006, 2009-19, 2022-23                                                                                  & 33\\\\\n",
       "\t (ESP) Valencia (Valencia Street Circuit)             & 2008-12                                                                                                      &  5\\\\\n",
       "\t (USA) Watkins Glen (Watkins Glen International)      & 1961-80                                                                                                      & 20\\\\\n",
       "\t (ARE) Yas Marina                                     & 2009-22                                                                                                      & 14\\\\\n",
       "\t (KOR) Yeongam (Korea International Circuit)          & 2010-13                                                                                                      &  4\\\\\n",
       "\t (NLD) Zandvoort                                      & 1952-53, 1955, 1958-71, 1973-85, 2021-23                                                                     & 33\\\\\n",
       "\t (AUT) Zeltweg                                        & 1964                                                                                                         &  1\\\\\n",
       "\t (BEL) Zolder (Circuit Zolder)                        & 1973, 1975-82, 1984                                                                                          & 10\\\\\n",
       "\\end{tabular}\n",
       "\n",
       "\\end{enumerate}\n"
      ],
      "text/markdown": [
       "1. \n",
       "A tibble: 77 × 3\n",
       "\n",
       "| Circuit &lt;chr&gt; | Year(s) held &lt;chr&gt; | Races held &lt;int&gt; |\n",
       "|---|---|---|\n",
       "| (AUS) Adelaide (Adelaide Street Circuit)                   | 1985-95                                                         | 11 |\n",
       "| (JPN) Aida (Okayama International Circuit)                 | 1994-95                                                         |  2 |\n",
       "| (GBR) Aintree (Aintree Motor Racing Circuit)               | 1955, 1957, 1959, 1961-62                                       |  5 |\n",
       "| (SWE) Anderstorp (Anderstorp Raceway)                      | 1973-78                                                         |  6 |\n",
       "| (USA) Austin (Circuit of the Americas (COTA))              | 2012-19, 2021-22                                                | 10 |\n",
       "| (DEU) AVUS (Automobil Verkehrs und Ubungsstrasse)          | 1959                                                            |  1 |\n",
       "| (AZE) Baku (Baku City Circuit)                             | 2016-19, 2021-23                                                |  7 |\n",
       "| (GBR) Brands Hatch                                         | 1964, 1966, 1968, 1970, 1972, 1974, 1976, 1978, 1980, 1982-86   | 14 |\n",
       "| (CHE) Bremgarten                                           | 1950-54                                                         |  5 |\n",
       "| (IND) Buddh (Buddh International Circuit)                  | 2011-13                                                         |  3 |\n",
       "| (ARG) Buenos Aires (Autodromo Juan y Oscar Galvez)         | 1953-58, 1960, 1972-75, 1977-81, 1995-98                        | 20 |\n",
       "| (MAR) Casablanca                                           | 1958                                                            |  1 |\n",
       "| (ESP) Catalunya (Circuit de Barcelona-Catalunya)           | 1991-2023                                                       | 33 |\n",
       "| (FRA) Clermont-Ferrand (Circuit de Charade)                | 1965, 1969-70, 1972                                             |  4 |\n",
       "| (USA) Dallas (Fair Park)                                   | 1984                                                            |  1 |\n",
       "| (USA) Detroit                                              | 1982-88                                                         |  7 |\n",
       "| (FRA) Dijon-Prenois                                        | 1974, 1977, 1979, 1981-82, 1984                                 |  6 |\n",
       "| (GBR) Donington (Donington Park)                           | 1993                                                            |  1 |\n",
       "| (ZAF) East London (Prince George Circuit)                  | 1962-63, 1965                                                   |  3 |\n",
       "| (PRT) Estoril (Autodromo Fernanda Pires da Silva)          | 1984-96                                                         | 13 |\n",
       "| (USA) Florida (Miami International Autodrome)              | 2022-23                                                         |  2 |\n",
       "| (JPN) Fuji (Fuji Speedway)                                 | 1976-77, 2007-08                                                |  4 |\n",
       "| (DEU) Hockenheim (Hockenheimring)                          | 1970, 1977-84, 1986-2006, 2008, 2010, 2012, 2014, 2016, 2018-19 | 37 |\n",
       "| (HUN) Hungaroring                                          | 1986-2023                                                       | 38 |\n",
       "| (ITA) Imola (Autodromo Internazionale Enzo e Dino Ferrari) | 1980-2006, 2020-22                                              | 30 |\n",
       "| (USA) Indianapolis (Indianapolis Motor Speedway)           | 1950-60, 2000-07                                                | 19 |\n",
       "| (BRA) Interlagos (Autodromo Jose Carlos Pace)              | 1973-77, 1979-80, 1990-2019, 2021-22                            | 39 |\n",
       "| (TUR) Istanbul (Istanbul Park)                             | 2005-11, 2020-21                                                |  9 |\n",
       "| (BRA) Jacarepagua (Autodromo Internacional Nelson Piquet)  | 1978, 1981-89                                                   | 10 |\n",
       "| (ESP) Jarama (Circuito del Jarama)                         | 1968, 1970, 1972, 1974, 1976-79, 1981                           |  9 |\n",
       "| ... | ... | ... |\n",
       "| (ITA) Monza (Autodromo Nazionale di Monza)           | 1950-79, 1981-2023                                                                                           | 73 |\n",
       "| (CAN) Mosport (Canadian Tire Motorsport Park)        | 1967, 1969, 1971-74, 1976-77                                                                                 |  8 |\n",
       "| (ITA) Mugello (Autodromo Internazionale del Mugello) | 2020                                                                                                         |  1 |\n",
       "| (BEL) Nivelles (Nivelles-Baulers)                    | 1972, 1974                                                                                                   |  2 |\n",
       "| (DEU) Nurburgring                                    | 1951-54, 1956-58, 1961-69, 1971-76, 1984-85, 1995-2007, 2009, 2011, 2013, 2020                               | 41 |\n",
       "| (AUT) Osterreichring                                 | 1970-87                                                                                                      | 18 |\n",
       "| (ESP) Pedralbes                                      | 1951, 1954                                                                                                   |  2 |\n",
       "| (ITA) Pescara                                        | 1957                                                                                                         |  1 |\n",
       "| (USA) Phoenix                                        | 1989-91                                                                                                      |  3 |\n",
       "| (PRT) Portimao (Autodromo Internacional do Algarve)  | 2020-21                                                                                                      |  2 |\n",
       "| (PRT) Porto (Circuito da Boavista)                   | 1958, 1960                                                                                                   |  2 |\n",
       "| (FRA) Reims                                          | 1950-51, 1953-54, 1956, 1958-61, 1963, 1966                                                                  | 11 |\n",
       "| (USA) Riverside (Riverside International Raceway)    | 1960                                                                                                         |  1 |\n",
       "| (FRA) Rouen-les-Essarts                              | 1952, 1957, 1962, 1964, 1968                                                                                 |  5 |\n",
       "| (BHR) Sakhir (Bahrain International Circuit)         | 2004-10, 2012-23                                                                                             | 20 |\n",
       "| (USA) Sebring (Sebring International Raceway)        | 1959                                                                                                         |  1 |\n",
       "| (MYS) Sepang (Sepang International Circuit)          | 1999-2017                                                                                                    | 19 |\n",
       "| (CHN) Shanghai (Shanghai International Circuit)      | 2004-19                                                                                                      | 16 |\n",
       "| (GBR) Silverstone                                    | 1950-54, 1956, 1958, 1960, 1963, 1965, 1967, 1969, 1971, 1973, 1975, 1977, 1979, 1981, 1983, 1985, 1987-2023 | 58 |\n",
       "| (RUS) Sochi (Sochi Autodrom)                         | 2014-21                                                                                                      |  8 |\n",
       "| (BEL) Spa-Francorchamps                              | 1950-56, 1958, 1960-68, 1970, 1983, 1985-2002, 2004-05, 2007-23                                              | 56 |\n",
       "| (AUT) Spielberg (Red Bull Ring)                      | 1997-2003, 2014-23                                                                                           | 19 |\n",
       "| (JPN) Suzuka (Suzuka International Racing Course)    | 1987-2006, 2009-19, 2022-23                                                                                  | 33 |\n",
       "| (ESP) Valencia (Valencia Street Circuit)             | 2008-12                                                                                                      |  5 |\n",
       "| (USA) Watkins Glen (Watkins Glen International)      | 1961-80                                                                                                      | 20 |\n",
       "| (ARE) Yas Marina                                     | 2009-22                                                                                                      | 14 |\n",
       "| (KOR) Yeongam (Korea International Circuit)          | 2010-13                                                                                                      |  4 |\n",
       "| (NLD) Zandvoort                                      | 1952-53, 1955, 1958-71, 1973-85, 2021-23                                                                     | 33 |\n",
       "| (AUT) Zeltweg                                        | 1964                                                                                                         |  1 |\n",
       "| (BEL) Zolder (Circuit Zolder)                        | 1973, 1975-82, 1984                                                                                          | 10 |\n",
       "\n",
       "\n",
       "\n",
       "\n"
      ],
      "text/plain": [
       "[[1]]\n",
       "\u001b[90m# A tibble: 77 x 3\u001b[39m\n",
       "   Circuit                                           `Year(s) held` `Races held`\n",
       "   \u001b[3m\u001b[90m<chr>\u001b[39m\u001b[23m                                             \u001b[3m\u001b[90m<chr>\u001b[39m\u001b[23m                 \u001b[3m\u001b[90m<int>\u001b[39m\u001b[23m\n",
       "\u001b[90m 1\u001b[39m (AUS) Adelaide (Adelaide Street Circuit)          1985-95                  11\n",
       "\u001b[90m 2\u001b[39m (JPN) Aida (Okayama International Circuit)        1994-95                   2\n",
       "\u001b[90m 3\u001b[39m (GBR) Aintree (Aintree Motor Racing Circuit)      1955, 1957, 1~            5\n",
       "\u001b[90m 4\u001b[39m (SWE) Anderstorp (Anderstorp Raceway)             1973-78                   6\n",
       "\u001b[90m 5\u001b[39m (USA) Austin (Circuit of the Americas (COTA))     2012-19, 2021~           10\n",
       "\u001b[90m 6\u001b[39m (DEU) AVUS (Automobil Verkehrs und Ubungsstrasse) 1959                      1\n",
       "\u001b[90m 7\u001b[39m (AZE) Baku (Baku City Circuit)                    2016-19, 2021~            7\n",
       "\u001b[90m 8\u001b[39m (GBR) Brands Hatch                                1964, 1966, 1~           14\n",
       "\u001b[90m 9\u001b[39m (CHE) Bremgarten                                  1950-54                   5\n",
       "\u001b[90m10\u001b[39m (IND) Buddh (Buddh International Circuit)         2011-13                   3\n",
       "\u001b[90m# i 67 more rows\u001b[39m\n"
      ]
     },
     "metadata": {},
     "output_type": "display_data"
    }
   ],
   "source": [
    "gptable"
   ]
  },
  {
   "cell_type": "code",
   "execution_count": 80,
   "id": "ce588268",
   "metadata": {},
   "outputs": [],
   "source": [
    "gptable <- data.frame(gptable)"
   ]
  },
  {
   "cell_type": "code",
   "execution_count": 81,
   "id": "db70a704",
   "metadata": {
    "scrolled": true
   },
   "outputs": [],
   "source": [
    "write_csv(gptable, 'gptracks.csv')"
   ]
  },
  {
   "cell_type": "code",
   "execution_count": 97,
   "id": "27cdf851",
   "metadata": {},
   "outputs": [],
   "source": [
    "tracks <- race_tracks(1986)"
   ]
  },
  {
   "cell_type": "code",
   "execution_count": 98,
   "id": "ef01f5a6",
   "metadata": {},
   "outputs": [
    {
     "data": {
      "text/html": [
       "<table class=\"dataframe\">\n",
       "<caption>A tibble: 16 × 4</caption>\n",
       "<thead>\n",
       "\t<tr><th scope=col>#</th><th scope=col>Grand Prix</th><th scope=col>Circuit</th><th scope=col>Date</th></tr>\n",
       "\t<tr><th scope=col>&lt;int&gt;</th><th scope=col>&lt;chr&gt;</th><th scope=col>&lt;chr&gt;</th><th scope=col>&lt;chr&gt;</th></tr>\n",
       "</thead>\n",
       "<tbody>\n",
       "\t<tr><td> 1</td><td>Brazil    </td><td>Jacarepagua      </td><td>23 March    </td></tr>\n",
       "\t<tr><td> 2</td><td>Spain     </td><td>Jerez            </td><td>13 April    </td></tr>\n",
       "\t<tr><td> 3</td><td>San Marino</td><td>Imola            </td><td>27 April    </td></tr>\n",
       "\t<tr><td> 4</td><td>Monaco    </td><td>Monaco           </td><td>11 May      </td></tr>\n",
       "\t<tr><td> 5</td><td>Belgium   </td><td>Spa-Francorchamps</td><td>25 May      </td></tr>\n",
       "\t<tr><td> 6</td><td>Canada    </td><td>Montreal         </td><td>15 June     </td></tr>\n",
       "\t<tr><td> 7</td><td>Detroit   </td><td>Detroit          </td><td>22 June     </td></tr>\n",
       "\t<tr><td> 8</td><td>France    </td><td>Le-Castellet     </td><td>06 July     </td></tr>\n",
       "\t<tr><td> 9</td><td>Britain   </td><td>Brands-Hatch     </td><td>13 July     </td></tr>\n",
       "\t<tr><td>10</td><td>Germany   </td><td>Hockenheim       </td><td>27 July     </td></tr>\n",
       "\t<tr><td>11</td><td>Hungary   </td><td>Hungaroring      </td><td>10 August   </td></tr>\n",
       "\t<tr><td>12</td><td>Austria   </td><td>Osterreichring   </td><td>17 August   </td></tr>\n",
       "\t<tr><td>13</td><td>Italy     </td><td>Monza            </td><td>07 September</td></tr>\n",
       "\t<tr><td>14</td><td>Portugal  </td><td>Estoril          </td><td>21 September</td></tr>\n",
       "\t<tr><td>15</td><td>Mexico    </td><td>Mexico-City      </td><td>12 October  </td></tr>\n",
       "\t<tr><td>16</td><td>Australia </td><td>Adelaide         </td><td>26 October  </td></tr>\n",
       "</tbody>\n",
       "</table>\n"
      ],
      "text/latex": [
       "A tibble: 16 × 4\n",
       "\\begin{tabular}{llll}\n",
       " \\# & Grand Prix & Circuit & Date\\\\\n",
       " <int> & <chr> & <chr> & <chr>\\\\\n",
       "\\hline\n",
       "\t  1 & Brazil     & Jacarepagua       & 23 March    \\\\\n",
       "\t  2 & Spain      & Jerez             & 13 April    \\\\\n",
       "\t  3 & San Marino & Imola             & 27 April    \\\\\n",
       "\t  4 & Monaco     & Monaco            & 11 May      \\\\\n",
       "\t  5 & Belgium    & Spa-Francorchamps & 25 May      \\\\\n",
       "\t  6 & Canada     & Montreal          & 15 June     \\\\\n",
       "\t  7 & Detroit    & Detroit           & 22 June     \\\\\n",
       "\t  8 & France     & Le-Castellet      & 06 July     \\\\\n",
       "\t  9 & Britain    & Brands-Hatch      & 13 July     \\\\\n",
       "\t 10 & Germany    & Hockenheim        & 27 July     \\\\\n",
       "\t 11 & Hungary    & Hungaroring       & 10 August   \\\\\n",
       "\t 12 & Austria    & Osterreichring    & 17 August   \\\\\n",
       "\t 13 & Italy      & Monza             & 07 September\\\\\n",
       "\t 14 & Portugal   & Estoril           & 21 September\\\\\n",
       "\t 15 & Mexico     & Mexico-City       & 12 October  \\\\\n",
       "\t 16 & Australia  & Adelaide          & 26 October  \\\\\n",
       "\\end{tabular}\n"
      ],
      "text/markdown": [
       "\n",
       "A tibble: 16 × 4\n",
       "\n",
       "| # &lt;int&gt; | Grand Prix &lt;chr&gt; | Circuit &lt;chr&gt; | Date &lt;chr&gt; |\n",
       "|---|---|---|---|\n",
       "|  1 | Brazil     | Jacarepagua       | 23 March     |\n",
       "|  2 | Spain      | Jerez             | 13 April     |\n",
       "|  3 | San Marino | Imola             | 27 April     |\n",
       "|  4 | Monaco     | Monaco            | 11 May       |\n",
       "|  5 | Belgium    | Spa-Francorchamps | 25 May       |\n",
       "|  6 | Canada     | Montreal          | 15 June      |\n",
       "|  7 | Detroit    | Detroit           | 22 June      |\n",
       "|  8 | France     | Le-Castellet      | 06 July      |\n",
       "|  9 | Britain    | Brands-Hatch      | 13 July      |\n",
       "| 10 | Germany    | Hockenheim        | 27 July      |\n",
       "| 11 | Hungary    | Hungaroring       | 10 August    |\n",
       "| 12 | Austria    | Osterreichring    | 17 August    |\n",
       "| 13 | Italy      | Monza             | 07 September |\n",
       "| 14 | Portugal   | Estoril           | 21 September |\n",
       "| 15 | Mexico     | Mexico-City       | 12 October   |\n",
       "| 16 | Australia  | Adelaide          | 26 October   |\n",
       "\n"
      ],
      "text/plain": [
       "   #  Grand Prix Circuit           Date        \n",
       "1   1 Brazil     Jacarepagua       23 March    \n",
       "2   2 Spain      Jerez             13 April    \n",
       "3   3 San Marino Imola             27 April    \n",
       "4   4 Monaco     Monaco            11 May      \n",
       "5   5 Belgium    Spa-Francorchamps 25 May      \n",
       "6   6 Canada     Montreal          15 June     \n",
       "7   7 Detroit    Detroit           22 June     \n",
       "8   8 France     Le-Castellet      06 July     \n",
       "9   9 Britain    Brands-Hatch      13 July     \n",
       "10 10 Germany    Hockenheim        27 July     \n",
       "11 11 Hungary    Hungaroring       10 August   \n",
       "12 12 Austria    Osterreichring    17 August   \n",
       "13 13 Italy      Monza             07 September\n",
       "14 14 Portugal   Estoril           21 September\n",
       "15 15 Mexico     Mexico-City       12 October  \n",
       "16 16 Australia  Adelaide          26 October  "
      ]
     },
     "metadata": {},
     "output_type": "display_data"
    }
   ],
   "source": [
    "tracks"
   ]
  },
  {
   "cell_type": "code",
   "execution_count": 100,
   "id": "adae4ef8",
   "metadata": {},
   "outputs": [
    {
     "ename": "ERROR",
     "evalue": "Error in open.connection(x, \"rb\"): HTTP error 404.\n",
     "output_type": "error",
     "traceback": [
      "Error in open.connection(x, \"rb\"): HTTP error 404.\nTraceback:\n",
      "1. get_lat(\"Jerez\")",
      "2. read_html(url)   # at line 4 of file <text>",
      "3. read_html.default(url)",
      "4. suppressWarnings(read_xml(x, encoding = encoding, ..., as_html = TRUE, \n .     options = options))",
      "5. withCallingHandlers(expr, warning = function(w) if (inherits(w, \n .     classes)) tryInvokeRestart(\"muffleWarning\"))",
      "6. read_xml(x, encoding = encoding, ..., as_html = TRUE, options = options)",
      "7. read_xml.character(x, encoding = encoding, ..., as_html = TRUE, \n .     options = options)",
      "8. read_xml.connection(con, encoding = encoding, ..., as_html = as_html, \n .     base_url = x, options = options)",
      "9. open(x, \"rb\")",
      "10. open.connection(x, \"rb\")"
     ]
    }
   ],
   "source": [
    "get_lat('Jerez')"
   ]
  },
  {
   "cell_type": "code",
   "execution_count": 116,
   "id": "b3fee4bd",
   "metadata": {},
   "outputs": [
    {
     "data": {
      "text/html": [
       "<table class=\"dataframe\">\n",
       "<caption>A tibble: 16 × 6</caption>\n",
       "<thead>\n",
       "\t<tr><th scope=col>#</th><th scope=col>Grand Prix</th><th scope=col>Circuit</th><th scope=col>Date</th><th scope=col>lat</th><th scope=col>long</th></tr>\n",
       "\t<tr><th scope=col>&lt;int&gt;</th><th scope=col>&lt;chr&gt;</th><th scope=col>&lt;chr&gt;</th><th scope=col>&lt;chr&gt;</th><th scope=col>&lt;dbl&gt;</th><th scope=col>&lt;dbl&gt;</th></tr>\n",
       "</thead>\n",
       "<tbody>\n",
       "\t<tr><td> 1</td><td>Brazil    </td><td>Jacarepagua         </td><td>23 March    </td><td>-22.97799</td><td>-43.3958898</td></tr>\n",
       "\t<tr><td> 2</td><td>Spain     </td><td>Jerez-de-la-Frontera</td><td>13 April    </td><td> 36.70754</td><td> -6.0326723</td></tr>\n",
       "\t<tr><td> 3</td><td>San Marino</td><td>Imola               </td><td>27 April    </td><td> 44.33986</td><td> 11.7133288</td></tr>\n",
       "\t<tr><td> 4</td><td>Monaco    </td><td>Monaco              </td><td>11 May      </td><td> 43.73809</td><td>  7.4260503</td></tr>\n",
       "\t<tr><td> 5</td><td>Belgium   </td><td>Spa-Francorchamps   </td><td>25 May      </td><td> 50.43863</td><td>  5.9666064</td></tr>\n",
       "\t<tr><td> 6</td><td>Canada    </td><td>Montreal            </td><td>15 June     </td><td> 45.50589</td><td>-73.5241100</td></tr>\n",
       "\t<tr><td> 7</td><td>Detroit   </td><td>Detroit             </td><td>22 June     </td><td> 42.32801</td><td>-83.0405242</td></tr>\n",
       "\t<tr><td> 8</td><td>France    </td><td>Le-Castellet        </td><td>06 July     </td><td> 43.25113</td><td>  5.7894971</td></tr>\n",
       "\t<tr><td> 9</td><td>Britain   </td><td>Brands-Hatch        </td><td>13 July     </td><td> 51.35554</td><td>  0.2629122</td></tr>\n",
       "\t<tr><td>10</td><td>Germany   </td><td>Hockenheim          </td><td>27 July     </td><td> 49.33085</td><td>  8.5790215</td></tr>\n",
       "\t<tr><td>11</td><td>Hungary   </td><td>Hungaroring         </td><td>10 August   </td><td> 47.58176</td><td> 19.2507484</td></tr>\n",
       "\t<tr><td>12</td><td>Austria   </td><td>Osterreichring      </td><td>17 August   </td><td> 47.22244</td><td> 14.7595000</td></tr>\n",
       "\t<tr><td>13</td><td>Italy     </td><td>Monza               </td><td>07 September</td><td> 45.61845</td><td>  9.2876756</td></tr>\n",
       "\t<tr><td>14</td><td>Portugal  </td><td>Estoril             </td><td>21 September</td><td> 38.74917</td><td> -9.3941490</td></tr>\n",
       "\t<tr><td>15</td><td>Mexico    </td><td>Mexico-City         </td><td>12 October  </td><td> 19.40026</td><td>-99.0902792</td></tr>\n",
       "\t<tr><td>16</td><td>Australia </td><td>Adelaide            </td><td>26 October  </td><td>-34.92700</td><td>138.6172609</td></tr>\n",
       "</tbody>\n",
       "</table>\n"
      ],
      "text/latex": [
       "A tibble: 16 × 6\n",
       "\\begin{tabular}{llllll}\n",
       " \\# & Grand Prix & Circuit & Date & lat & long\\\\\n",
       " <int> & <chr> & <chr> & <chr> & <dbl> & <dbl>\\\\\n",
       "\\hline\n",
       "\t  1 & Brazil     & Jacarepagua          & 23 March     & -22.97799 & -43.3958898\\\\\n",
       "\t  2 & Spain      & Jerez-de-la-Frontera & 13 April     &  36.70754 &  -6.0326723\\\\\n",
       "\t  3 & San Marino & Imola                & 27 April     &  44.33986 &  11.7133288\\\\\n",
       "\t  4 & Monaco     & Monaco               & 11 May       &  43.73809 &   7.4260503\\\\\n",
       "\t  5 & Belgium    & Spa-Francorchamps    & 25 May       &  50.43863 &   5.9666064\\\\\n",
       "\t  6 & Canada     & Montreal             & 15 June      &  45.50589 & -73.5241100\\\\\n",
       "\t  7 & Detroit    & Detroit              & 22 June      &  42.32801 & -83.0405242\\\\\n",
       "\t  8 & France     & Le-Castellet         & 06 July      &  43.25113 &   5.7894971\\\\\n",
       "\t  9 & Britain    & Brands-Hatch         & 13 July      &  51.35554 &   0.2629122\\\\\n",
       "\t 10 & Germany    & Hockenheim           & 27 July      &  49.33085 &   8.5790215\\\\\n",
       "\t 11 & Hungary    & Hungaroring          & 10 August    &  47.58176 &  19.2507484\\\\\n",
       "\t 12 & Austria    & Osterreichring       & 17 August    &  47.22244 &  14.7595000\\\\\n",
       "\t 13 & Italy      & Monza                & 07 September &  45.61845 &   9.2876756\\\\\n",
       "\t 14 & Portugal   & Estoril              & 21 September &  38.74917 &  -9.3941490\\\\\n",
       "\t 15 & Mexico     & Mexico-City          & 12 October   &  19.40026 & -99.0902792\\\\\n",
       "\t 16 & Australia  & Adelaide             & 26 October   & -34.92700 & 138.6172609\\\\\n",
       "\\end{tabular}\n"
      ],
      "text/markdown": [
       "\n",
       "A tibble: 16 × 6\n",
       "\n",
       "| # &lt;int&gt; | Grand Prix &lt;chr&gt; | Circuit &lt;chr&gt; | Date &lt;chr&gt; | lat &lt;dbl&gt; | long &lt;dbl&gt; |\n",
       "|---|---|---|---|---|---|\n",
       "|  1 | Brazil     | Jacarepagua          | 23 March     | -22.97799 | -43.3958898 |\n",
       "|  2 | Spain      | Jerez-de-la-Frontera | 13 April     |  36.70754 |  -6.0326723 |\n",
       "|  3 | San Marino | Imola                | 27 April     |  44.33986 |  11.7133288 |\n",
       "|  4 | Monaco     | Monaco               | 11 May       |  43.73809 |   7.4260503 |\n",
       "|  5 | Belgium    | Spa-Francorchamps    | 25 May       |  50.43863 |   5.9666064 |\n",
       "|  6 | Canada     | Montreal             | 15 June      |  45.50589 | -73.5241100 |\n",
       "|  7 | Detroit    | Detroit              | 22 June      |  42.32801 | -83.0405242 |\n",
       "|  8 | France     | Le-Castellet         | 06 July      |  43.25113 |   5.7894971 |\n",
       "|  9 | Britain    | Brands-Hatch         | 13 July      |  51.35554 |   0.2629122 |\n",
       "| 10 | Germany    | Hockenheim           | 27 July      |  49.33085 |   8.5790215 |\n",
       "| 11 | Hungary    | Hungaroring          | 10 August    |  47.58176 |  19.2507484 |\n",
       "| 12 | Austria    | Osterreichring       | 17 August    |  47.22244 |  14.7595000 |\n",
       "| 13 | Italy      | Monza                | 07 September |  45.61845 |   9.2876756 |\n",
       "| 14 | Portugal   | Estoril              | 21 September |  38.74917 |  -9.3941490 |\n",
       "| 15 | Mexico     | Mexico-City          | 12 October   |  19.40026 | -99.0902792 |\n",
       "| 16 | Australia  | Adelaide             | 26 October   | -34.92700 | 138.6172609 |\n",
       "\n"
      ],
      "text/plain": [
       "   #  Grand Prix Circuit              Date         lat       long       \n",
       "1   1 Brazil     Jacarepagua          23 March     -22.97799 -43.3958898\n",
       "2   2 Spain      Jerez-de-la-Frontera 13 April      36.70754  -6.0326723\n",
       "3   3 San Marino Imola                27 April      44.33986  11.7133288\n",
       "4   4 Monaco     Monaco               11 May        43.73809   7.4260503\n",
       "5   5 Belgium    Spa-Francorchamps    25 May        50.43863   5.9666064\n",
       "6   6 Canada     Montreal             15 June       45.50589 -73.5241100\n",
       "7   7 Detroit    Detroit              22 June       42.32801 -83.0405242\n",
       "8   8 France     Le-Castellet         06 July       43.25113   5.7894971\n",
       "9   9 Britain    Brands-Hatch         13 July       51.35554   0.2629122\n",
       "10 10 Germany    Hockenheim           27 July       49.33085   8.5790215\n",
       "11 11 Hungary    Hungaroring          10 August     47.58176  19.2507484\n",
       "12 12 Austria    Osterreichring       17 August     47.22244  14.7595000\n",
       "13 13 Italy      Monza                07 September  45.61845   9.2876756\n",
       "14 14 Portugal   Estoril              21 September  38.74917  -9.3941490\n",
       "15 15 Mexico     Mexico-City          12 October    19.40026 -99.0902792\n",
       "16 16 Australia  Adelaide             26 October   -34.92700 138.6172609"
      ]
     },
     "metadata": {},
     "output_type": "display_data"
    }
   ],
   "source": [
    "tracks"
   ]
  },
  {
   "cell_type": "code",
   "execution_count": 52,
   "id": "a89f2413",
   "metadata": {},
   "outputs": [],
   "source": [
    "url <- 'https://gpracingstats.com/circuits/adelaide/'"
   ]
  },
  {
   "cell_type": "code",
   "execution_count": 53,
   "id": "88731016",
   "metadata": {},
   "outputs": [],
   "source": [
    "page <- read_html(url)"
   ]
  },
  {
   "cell_type": "code",
   "execution_count": 55,
   "id": "cc967619",
   "metadata": {},
   "outputs": [
    {
     "data": {
      "text/html": [
       "<style>\n",
       ".list-inline {list-style: none; margin:0; padding: 0}\n",
       ".list-inline>li {display: inline-block}\n",
       ".list-inline>li:not(:last-child)::after {content: \"\\00b7\"; padding: 0 .5ex}\n",
       "</style>\n",
       "<ol class=list-inline><li>'xml_document'</li><li>'xml_node'</li></ol>\n"
      ],
      "text/latex": [
       "\\begin{enumerate*}\n",
       "\\item 'xml\\_document'\n",
       "\\item 'xml\\_node'\n",
       "\\end{enumerate*}\n"
      ],
      "text/markdown": [
       "1. 'xml_document'\n",
       "2. 'xml_node'\n",
       "\n",
       "\n"
      ],
      "text/plain": [
       "[1] \"xml_document\" \"xml_node\"    "
      ]
     },
     "metadata": {},
     "output_type": "display_data"
    }
   ],
   "source": [
    "page %>% class()"
   ]
  },
  {
   "cell_type": "code",
   "execution_count": 4,
   "id": "ff88dc4e",
   "metadata": {},
   "outputs": [],
   "source": [
    "library(httr)"
   ]
  },
  {
   "cell_type": "code",
   "execution_count": 5,
   "id": "f4e85cef",
   "metadata": {},
   "outputs": [],
   "source": [
    "page <- GET(url)"
   ]
  },
  {
   "cell_type": "code",
   "execution_count": 6,
   "id": "1af6e86c",
   "metadata": {},
   "outputs": [
    {
     "data": {
      "text/plain": [
       "Response [https://www.statsf1.com/en/1950.aspx]\n",
       "  Date: 2023-10-12 04:33\n",
       "  Status: 200\n",
       "  Content-Type: <unknown>\n",
       "<EMPTY BODY>\n",
       "NULL"
      ]
     },
     "metadata": {},
     "output_type": "display_data"
    }
   ],
   "source": [
    "page"
   ]
  },
  {
   "cell_type": "code",
   "execution_count": 3,
   "id": "e0c8a343",
   "metadata": {
    "scrolled": true
   },
   "outputs": [
    {
     "ename": "ERROR",
     "evalue": "Error in read_xml.raw(raw, encoding = encoding, base_url = base_url, as_html = as_html, : Failed to parse text\n",
     "output_type": "error",
     "traceback": [
      "Error in read_xml.raw(raw, encoding = encoding, base_url = base_url, as_html = as_html, : Failed to parse text\nTraceback:\n",
      "1. read_html(url)",
      "2. read_html.default(url)",
      "3. suppressWarnings(read_xml(x, encoding = encoding, ..., as_html = TRUE, \n .     options = options))",
      "4. withCallingHandlers(expr, warning = function(w) if (inherits(w, \n .     classes)) tryInvokeRestart(\"muffleWarning\"))",
      "5. read_xml(x, encoding = encoding, ..., as_html = TRUE, options = options)",
      "6. read_xml.character(x, encoding = encoding, ..., as_html = TRUE, \n .     options = options)",
      "7. read_xml.connection(con, encoding = encoding, ..., as_html = as_html, \n .     base_url = x, options = options)",
      "8. read_xml.raw(raw, encoding = encoding, base_url = base_url, as_html = as_html, \n .     options = options)"
     ]
    }
   ],
   "source": [
    "page <- read_html(url)"
   ]
  },
  {
   "cell_type": "code",
   "execution_count": null,
   "id": "d2456c31",
   "metadata": {},
   "outputs": [],
   "source": []
  },
  {
   "cell_type": "code",
   "execution_count": 205,
   "id": "54496a08",
   "metadata": {},
   "outputs": [],
   "source": [
    "library(httr)\n",
    "ua <- \"Mozilla/5.0 (Windows NT 10.0; Win64; x64) AppleWebKit/537.36 (KHTML, like Gecko) Chrome/117.0.0.0 Safari/537.36\""
   ]
  },
  {
   "cell_type": "code",
   "execution_count": 207,
   "id": "03b0b71c",
   "metadata": {},
   "outputs": [],
   "source": [
    "page <- GET(url, user_agent(ua))"
   ]
  },
  {
   "cell_type": "code",
   "execution_count": 211,
   "id": "bb86a924",
   "metadata": {},
   "outputs": [
    {
     "data": {
      "text/plain": [
       "Response [https://statsf1.com/errors/500.jpg]\n",
       "  Date: 2023-10-12 03:53\n",
       "  Status: 200\n",
       "  Content-Type: image/jpeg\n",
       "  Size: 100 kB\n",
       "<BINARY BODY>\n",
       "NULL"
      ]
     },
     "metadata": {},
     "output_type": "display_data"
    }
   ],
   "source": [
    "page"
   ]
  },
  {
   "cell_type": "code",
   "execution_count": 209,
   "id": "e40da0b2",
   "metadata": {},
   "outputs": [
    {
     "ename": "ERROR",
     "evalue": "Error in UseMethod(\"xml_find_all\"): no applicable method for 'xml_find_all' applied to an object of class \"response\"\n",
     "output_type": "error",
     "traceback": [
      "Error in UseMethod(\"xml_find_all\"): no applicable method for 'xml_find_all' applied to an object of class \"response\"\nTraceback:\n",
      "1. page %>% html_nodes(\".pays\") %>% html_text()",
      "2. html_text(.)",
      "3. xml_text(x, trim = trim)",
      "4. html_nodes(., \".pays\")",
      "5. html_elements(...)",
      "6. html_elements.default(...)",
      "7. xml2::xml_find_all(x, make_selector(css, xpath))"
     ]
    }
   ],
   "source": [
    "circuits <- page %>% html_nodes('.pays') %>% html_text()"
   ]
  },
  {
   "cell_type": "code",
   "execution_count": 195,
   "id": "b588ddc9",
   "metadata": {},
   "outputs": [],
   "source": [
    "links <- page %>% html_nodes('.gp') %>% html_node('.flag') %>% html_node('a') %>% html_attr('href')"
   ]
  },
  {
   "cell_type": "code",
   "execution_count": null,
   "id": "32c82be6",
   "metadata": {},
   "outputs": [],
   "source": []
  },
  {
   "cell_type": "code",
   "execution_count": 196,
   "id": "273de34d",
   "metadata": {},
   "outputs": [
    {
     "data": {
      "text/html": [],
      "text/latex": [],
      "text/markdown": [],
      "text/plain": [
       "character(0)"
      ]
     },
     "metadata": {},
     "output_type": "display_data"
    }
   ],
   "source": [
    "links"
   ]
  },
  {
   "cell_type": "code",
   "execution_count": 197,
   "id": "07609d1b",
   "metadata": {},
   "outputs": [
    {
     "data": {
      "text/html": [],
      "text/latex": [],
      "text/markdown": [],
      "text/plain": [
       "character(0)"
      ]
     },
     "metadata": {},
     "output_type": "display_data"
    }
   ],
   "source": [
    "circuits"
   ]
  },
  {
   "cell_type": "code",
   "execution_count": 165,
   "id": "f645a5de",
   "metadata": {
    "scrolled": false
   },
   "outputs": [
    {
     "name": "stdout",
     "output_type": "stream",
     "text": [
      "Britain"
     ]
    }
   ],
   "source": [
    "text <- \"1. Britain\"\n",
    "result <- gsub(\"\\\\d+\\\\. \", \"\", text)\n",
    "cat(result)"
   ]
  },
  {
   "cell_type": "code",
   "execution_count": 183,
   "id": "0c3e60fa",
   "metadata": {},
   "outputs": [],
   "source": [
    "final <- data.frame(Circuits = gsub(\"\\\\d+\\\\. \", \"\", circuits),\n",
    "                   Links = links)"
   ]
  },
  {
   "cell_type": "code",
   "execution_count": 184,
   "id": "06e64c43",
   "metadata": {},
   "outputs": [
    {
     "data": {
      "text/html": [
       "<table class=\"dataframe\">\n",
       "<caption>A data.frame: 7 × 2</caption>\n",
       "<thead>\n",
       "\t<tr><th scope=col>Circuits</th><th scope=col>Links</th></tr>\n",
       "\t<tr><th scope=col>&lt;chr&gt;</th><th scope=col>&lt;chr&gt;</th></tr>\n",
       "</thead>\n",
       "<tbody>\n",
       "\t<tr><td>\r\n",
       "\t\t\tBritain\r\n",
       "\t\t     </td><td>/en/1950/grande-bretagne.aspx</td></tr>\n",
       "\t<tr><td>\r\n",
       "\t\t\tMonaco\r\n",
       "\t\t      </td><td>/en/1950/monaco.aspx         </td></tr>\n",
       "\t<tr><td>\r\n",
       "\t\t\tIndianapolis\r\n",
       "\t\t</td><td>/en/1950/indianapolis.aspx   </td></tr>\n",
       "\t<tr><td>\r\n",
       "\t\t\tSwitzerland\r\n",
       "\t\t </td><td>/en/1950/suisse.aspx         </td></tr>\n",
       "\t<tr><td>\r\n",
       "\t\t\tBelgium\r\n",
       "\t\t     </td><td>/en/1950/belgique.aspx       </td></tr>\n",
       "\t<tr><td>\r\n",
       "\t\t\tFrance\r\n",
       "\t\t      </td><td>/en/1950/france.aspx         </td></tr>\n",
       "\t<tr><td>\r\n",
       "\t\t\tItaly\r\n",
       "\t\t       </td><td>/en/1950/italie.aspx         </td></tr>\n",
       "</tbody>\n",
       "</table>\n"
      ],
      "text/latex": [
       "A data.frame: 7 × 2\n",
       "\\begin{tabular}{ll}\n",
       " Circuits & Links\\\\\n",
       " <chr> & <chr>\\\\\n",
       "\\hline\n",
       "\t \r\n",
       "\t\t\tBritain\r\n",
       "\t\t      & /en/1950/grande-bretagne.aspx\\\\\n",
       "\t \r\n",
       "\t\t\tMonaco\r\n",
       "\t\t       & /en/1950/monaco.aspx         \\\\\n",
       "\t \r\n",
       "\t\t\tIndianapolis\r\n",
       "\t\t & /en/1950/indianapolis.aspx   \\\\\n",
       "\t \r\n",
       "\t\t\tSwitzerland\r\n",
       "\t\t  & /en/1950/suisse.aspx         \\\\\n",
       "\t \r\n",
       "\t\t\tBelgium\r\n",
       "\t\t      & /en/1950/belgique.aspx       \\\\\n",
       "\t \r\n",
       "\t\t\tFrance\r\n",
       "\t\t       & /en/1950/france.aspx         \\\\\n",
       "\t \r\n",
       "\t\t\tItaly\r\n",
       "\t\t        & /en/1950/italie.aspx         \\\\\n",
       "\\end{tabular}\n"
      ],
      "text/markdown": [
       "\n",
       "A data.frame: 7 × 2\n",
       "\n",
       "| Circuits &lt;chr&gt; | Links &lt;chr&gt; |\n",
       "|---|---|\n",
       "| \r\n",
       "\t\t\tBritain\r\n",
       "\t\t      | /en/1950/grande-bretagne.aspx |\n",
       "| \r\n",
       "\t\t\tMonaco\r\n",
       "\t\t       | /en/1950/monaco.aspx          |\n",
       "| \r\n",
       "\t\t\tIndianapolis\r\n",
       "\t\t | /en/1950/indianapolis.aspx    |\n",
       "| \r\n",
       "\t\t\tSwitzerland\r\n",
       "\t\t  | /en/1950/suisse.aspx          |\n",
       "| \r\n",
       "\t\t\tBelgium\r\n",
       "\t\t      | /en/1950/belgique.aspx        |\n",
       "| \r\n",
       "\t\t\tFrance\r\n",
       "\t\t       | /en/1950/france.aspx          |\n",
       "| \r\n",
       "\t\t\tItaly\r\n",
       "\t\t        | /en/1950/italie.aspx          |\n",
       "\n"
      ],
      "text/plain": [
       "  Circuits                  Links                        \n",
       "1 \\r\\n\\t\\t\\tBritain\\r\\n\\t\\t      /en/1950/grande-bretagne.aspx\n",
       "2 \\r\\n\\t\\t\\tMonaco\\r\\n\\t\\t       /en/1950/monaco.aspx         \n",
       "3 \\r\\n\\t\\t\\tIndianapolis\\r\\n\\t\\t /en/1950/indianapolis.aspx   \n",
       "4 \\r\\n\\t\\t\\tSwitzerland\\r\\n\\t\\t  /en/1950/suisse.aspx         \n",
       "5 \\r\\n\\t\\t\\tBelgium\\r\\n\\t\\t      /en/1950/belgique.aspx       \n",
       "6 \\r\\n\\t\\t\\tFrance\\r\\n\\t\\t       /en/1950/france.aspx         \n",
       "7 \\r\\n\\t\\t\\tItaly\\r\\n\\t\\t        /en/1950/italie.aspx         "
      ]
     },
     "metadata": {},
     "output_type": "display_data"
    }
   ],
   "source": [
    "final"
   ]
  },
  {
   "cell_type": "code",
   "execution_count": 2,
   "id": "66f0f243",
   "metadata": {},
   "outputs": [],
   "source": [
    "race_circuits <- function(year){\n",
    "    url <- sprintf('https://www.statsf1.com/en/%d.aspx', year)\n",
    "    page <- read_html(url)\n",
    "    circuits <- page %>% html_nodes('.pays') %>% html_text()\n",
    "    links <- page %>% html_nodes('.gp') %>% html_node('.flag') %>% html_node('a') %>% html_attr('href')\n",
    "    final <- data.frame(Circuits = gsub(\"\\\\d+\\\\. \", \"\", circuits),\n",
    "                   Links = links)\n",
    "    return(final)\n",
    "}"
   ]
  },
  {
   "cell_type": "code",
   "execution_count": 3,
   "id": "1409edcb",
   "metadata": {},
   "outputs": [
    {
     "ename": "ERROR",
     "evalue": "Error in read_xml.raw(raw, encoding = encoding, base_url = base_url, as_html = as_html, : Failed to parse text\n",
     "output_type": "error",
     "traceback": [
      "Error in read_xml.raw(raw, encoding = encoding, base_url = base_url, as_html = as_html, : Failed to parse text\nTraceback:\n",
      "1. race_circuits(1950)",
      "2. read_html(url)   # at line 3 of file <text>",
      "3. read_html.default(url)",
      "4. suppressWarnings(read_xml(x, encoding = encoding, ..., as_html = TRUE, \n .     options = options))",
      "5. withCallingHandlers(expr, warning = function(w) if (inherits(w, \n .     classes)) tryInvokeRestart(\"muffleWarning\"))",
      "6. read_xml(x, encoding = encoding, ..., as_html = TRUE, options = options)",
      "7. read_xml.character(x, encoding = encoding, ..., as_html = TRUE, \n .     options = options)",
      "8. read_xml.connection(con, encoding = encoding, ..., as_html = as_html, \n .     base_url = x, options = options)",
      "9. read_xml.raw(raw, encoding = encoding, base_url = base_url, as_html = as_html, \n .     options = options)"
     ]
    }
   ],
   "source": [
    "race_circuits(1950)"
   ]
  },
  {
   "cell_type": "code",
   "execution_count": 12,
   "id": "79b400f1",
   "metadata": {},
   "outputs": [
    {
     "data": {
      "text/plain": [
       "<request>\n",
       "Options:\n",
       "* useragent: Mozilla/5.0 (Windows NT 10.0; Win64; x64) AppleWebKit/537.36 (KHTML, like Gecko) Chrome/117.0.0.0 Safari/537.36"
      ]
     },
     "metadata": {},
     "output_type": "display_data"
    }
   ],
   "source": [
    "user_agent(\"Mozilla/5.0 (Windows NT 10.0; Win64; x64) AppleWebKit/537.36 (KHTML, like Gecko) Chrome/117.0.0.0 Safari/537.36\")"
   ]
  },
  {
   "cell_type": "code",
   "execution_count": 7,
   "id": "86672304",
   "metadata": {},
   "outputs": [],
   "source": [
    "require(httr)\n",
    "\n",
    "cookies = c(\n",
    "  `hasConsent` = \"true\",\n",
    "  `IsMobile` = \"false\",\n",
    "  `ASP.NET_SessionId` = \"ya13brla3yavoidztkeng2ds\"\n",
    ")\n",
    "\n",
    "headers = c(\n",
    "  `Accept` = \"text/html,application/xhtml+xml,application/xml;q=0.9,image/avif,image/webp,image/apng,*/*;q=0.8,application/signed-exchange;v=b3;q=0.7\",\n",
    "  `Accept-Language` = \"en-US,en;q=0.9\",\n",
    "  `Cache-Control` = \"no-cache\",\n",
    "  `Connection` = \"keep-alive\",\n",
    "  `Pragma` = \"no-cache\",\n",
    "  `Sec-Fetch-Dest` = \"document\",\n",
    "  `Sec-Fetch-Mode` = \"navigate\",\n",
    "  `Sec-Fetch-Site` = \"none\",\n",
    "  `Sec-Fetch-User` = \"?1\",\n",
    "  `Upgrade-Insecure-Requests` = \"1\",\n",
    "  `User-Agent` = \"Mozilla/5.0 (Windows NT 10.0; Win64; x64) AppleWebKit/537.36 (KHTML, like Gecko) Chrome/117.0.0.0 Safari/537.36\",\n",
    "  `sec-ch-ua` = '\"Google Chrome\";v=\"117\", \"Not;A=Brand\";v=\"8\", \"Chromium\";v=\"117\"',\n",
    "  `sec-ch-ua-mobile` = \"?0\",\n",
    "  `sec-ch-ua-platform` = '\"Windows\"'\n",
    ")\n",
    "\n",
    "res <- httr::GET(url = \"https://www.statsf1.com/en/1950.aspx\", httr::add_headers(.headers=headers), httr::set_cookies(.cookies = cookies))"
   ]
  },
  {
   "cell_type": "code",
   "execution_count": 25,
   "id": "5155df0a",
   "metadata": {},
   "outputs": [],
   "source": [
    "set_config(config = add_headers(.headers=headers), override = TRUE)"
   ]
  },
  {
   "cell_type": "code",
   "execution_count": 26,
   "id": "d3270f32",
   "metadata": {},
   "outputs": [],
   "source": [
    "set_config(config = set_cookies(.cookies = cookies), override = TRUE)"
   ]
  },
  {
   "cell_type": "code",
   "execution_count": 18,
   "id": "ceed2aef",
   "metadata": {},
   "outputs": [
    {
     "data": {
      "text/plain": [
       "<request>\n",
       "Headers:\n",
       "* Accept: text/html,application/xhtml+xml,application/xml;q=0.9,image/avif,image/webp,image/apng,*/*;q=0.8,application/signed-exchange;v=b3;q=0.7\n",
       "* Accept-Language: en-US,en;q=0.9\n",
       "* Cache-Control: no-cache\n",
       "* Connection: keep-alive\n",
       "* Pragma: no-cache\n",
       "* Sec-Fetch-Dest: document\n",
       "* Sec-Fetch-Mode: navigate\n",
       "* Sec-Fetch-Site: none\n",
       "* Sec-Fetch-User: ?1\n",
       "* Upgrade-Insecure-Requests: 1\n",
       "* User-Agent: Mozilla/5.0 (Windows NT 10.0; Win64; x64) AppleWebKit/537.36 (KHTML, like Gecko) Chrome/117.0.0.0 Safari/537.36\n",
       "* sec-ch-ua: \"Google Chrome\";v=\"117\", \"Not;A=Brand\";v=\"8\", \"Chromium\";v=\"117\"\n",
       "* sec-ch-ua-mobile: ?0\n",
       "* sec-ch-ua-platform: \"Windows\""
      ]
     },
     "metadata": {},
     "output_type": "display_data"
    }
   ],
   "source": [
    "add_headers(.headers=headers)"
   ]
  },
  {
   "cell_type": "code",
   "execution_count": 27,
   "id": "f665def9",
   "metadata": {},
   "outputs": [],
   "source": [
    "url <- 'https://www.statsf1.com/en/1950.aspx'"
   ]
  },
  {
   "cell_type": "code",
   "execution_count": 28,
   "id": "8bad5ed8",
   "metadata": {},
   "outputs": [
    {
     "data": {
      "text/html": [
       "'https://www.statsf1.com/en/1950.aspx'"
      ],
      "text/latex": [
       "'https://www.statsf1.com/en/1950.aspx'"
      ],
      "text/markdown": [
       "'https://www.statsf1.com/en/1950.aspx'"
      ],
      "text/plain": [
       "[1] \"https://www.statsf1.com/en/1950.aspx\""
      ]
     },
     "metadata": {},
     "output_type": "display_data"
    }
   ],
   "source": [
    "url"
   ]
  },
  {
   "cell_type": "code",
   "execution_count": 34,
   "id": "bb48556f",
   "metadata": {},
   "outputs": [
    {
     "ename": "ERROR",
     "evalue": "Error in read.xml(url): could not find function \"read.xml\"\n",
     "output_type": "error",
     "traceback": [
      "Error in read.xml(url): could not find function \"read.xml\"\nTraceback:\n"
     ]
    }
   ],
   "source": [
    "page <- read.xml(url)"
   ]
  },
  {
   "cell_type": "code",
   "execution_count": 9,
   "id": "a7d2ca9b",
   "metadata": {},
   "outputs": [
    {
     "data": {
      "text/html": [
       "'response'"
      ],
      "text/latex": [
       "'response'"
      ],
      "text/markdown": [
       "'response'"
      ],
      "text/plain": [
       "[1] \"response\""
      ]
     },
     "metadata": {},
     "output_type": "display_data"
    }
   ],
   "source": [
    "res %>% class()"
   ]
  },
  {
   "cell_type": "code",
   "execution_count": 11,
   "id": "7f674486",
   "metadata": {},
   "outputs": [
    {
     "ename": "ERROR",
     "evalue": "Error in UseMethod(\"xml_find_all\"): no applicable method for 'xml_find_all' applied to an object of class \"character\"\n",
     "output_type": "error",
     "traceback": [
      "Error in UseMethod(\"xml_find_all\"): no applicable method for 'xml_find_all' applied to an object of class \"character\"\nTraceback:\n",
      "1. rawToChar(res$content) %>% html_nodes(\"div\")",
      "2. html_nodes(., \"div\")",
      "3. html_elements(...)",
      "4. html_elements.default(...)",
      "5. xml2::xml_find_all(x, make_selector(css, xpath))"
     ]
    }
   ],
   "source": [
    "rawToChar(res$content) %>% html"
   ]
  },
  {
   "cell_type": "code",
   "execution_count": 56,
   "id": "8f276171",
   "metadata": {
    "scrolled": false
   },
   "outputs": [
    {
     "name": "stderr",
     "output_type": "stream",
     "text": [
      "also installing the dependencies 'credentials', 'zip', 'gitcreds', 'httr2', 'ini', 'spiderbar', 'desc', 'gert', 'gh', 'rprojroot', 'whisker', 'ratelimitr', 'robotstxt', 'usethis'\n",
      "\n",
      "\n"
     ]
    },
    {
     "name": "stdout",
     "output_type": "stream",
     "text": [
      "\n",
      "  There are binary versions available but the source versions are later:\n",
      "            binary source needs_compilation\n",
      "credentials  1.3.2  2.0.1             FALSE\n",
      "httr2        0.2.2  0.2.3             FALSE\n",
      "gert         1.9.2  2.0.0              TRUE\n",
      "usethis      2.1.6  2.2.2             FALSE\n",
      "polite       0.1.2  0.1.3             FALSE\n",
      "\n",
      "  Binaries will be installed\n",
      "package 'zip' successfully unpacked and MD5 sums checked\n",
      "package 'gitcreds' successfully unpacked and MD5 sums checked\n",
      "package 'ini' successfully unpacked and MD5 sums checked\n",
      "package 'spiderbar' successfully unpacked and MD5 sums checked\n",
      "package 'desc' successfully unpacked and MD5 sums checked\n",
      "package 'gert' successfully unpacked and MD5 sums checked\n",
      "package 'gh' successfully unpacked and MD5 sums checked\n",
      "package 'rprojroot' successfully unpacked and MD5 sums checked\n",
      "package 'whisker' successfully unpacked and MD5 sums checked\n",
      "package 'ratelimitr' successfully unpacked and MD5 sums checked\n",
      "package 'robotstxt' successfully unpacked and MD5 sums checked\n",
      "\n",
      "The downloaded binary packages are in\n",
      "\tC:\\Users\\rasto\\AppData\\Local\\Temp\\RtmpiezNRk\\downloaded_packages\n"
     ]
    },
    {
     "name": "stderr",
     "output_type": "stream",
     "text": [
      "installing the source packages 'credentials', 'httr2', 'usethis', 'polite'\n",
      "\n",
      "\n"
     ]
    }
   ],
   "source": [
    "install.packages('polite')"
   ]
  },
  {
   "cell_type": "code",
   "execution_count": 3,
   "id": "97010558",
   "metadata": {},
   "outputs": [],
   "source": [
    "library(polite)"
   ]
  },
  {
   "cell_type": "code",
   "execution_count": 60,
   "id": "08c70a02",
   "metadata": {},
   "outputs": [],
   "source": [
    "session <- bow(\"https://www.statsf1.com/en/circuits.aspx\", force = TRUE)\n",
    "result <- scrape(session, query=list(t=\"semi-soft\", per_page=100))"
   ]
  },
  {
   "cell_type": "code",
   "execution_count": 61,
   "id": "a4598a9d",
   "metadata": {},
   "outputs": [
    {
     "data": {
      "text/plain": [
       "{html_document}\n",
       "<html id=\"ctl00_html\" lang=\"en\">\n",
       "[1] <head>\\n<!-- Google Analytics --><!-- Global site tag (gtag.js) - Google  ...\n",
       "[2] <body>\\r\\n  <form name=\"aspnetForm\" method=\"post\" action=\"/en/circuits.as ..."
      ]
     },
     "metadata": {},
     "output_type": "display_data"
    }
   ],
   "source": [
    "result"
   ]
  },
  {
   "cell_type": "code",
   "execution_count": 1,
   "id": "37948c7c",
   "metadata": {},
   "outputs": [],
   "source": [
    "race_circuits <- function(year){\n",
    "    session <- bow(sprintf(\"https://www.statsf1.com/en/%d.aspx\", year), force = TRUE)\n",
    "    result <- scrape(session, query=list(t=\"semi-soft\", per_page=100))\n",
    "    circuits <- result %>% html_nodes('.pays') %>% html_text2()\n",
    "    links <- result %>% html_nodes('.gp') %>% html_node('.flag') %>% html_node('a') %>% html_attr('href')\n",
    "    circuits <- gsub(\"\\\\d+\\\\. \", \"\", circuits)\n",
    "    links <- gsub(\"\\\\.aspx$\", \"\", links)\n",
    "    circuits <- gsub(\"\\r| \", \"\", circuits)\n",
    "    final <- data.frame(Circuits = circuits,\n",
    "                   Links = links)\n",
    "    return(final)\n",
    "}"
   ]
  },
  {
   "cell_type": "code",
   "execution_count": 5,
   "id": "019a2b43",
   "metadata": {},
   "outputs": [],
   "source": [
    "merged_df <- race_circuits(2022)"
   ]
  },
  {
   "cell_type": "code",
   "execution_count": 6,
   "id": "55e5aef1",
   "metadata": {},
   "outputs": [
    {
     "data": {
      "text/html": [
       "<table class=\"dataframe\">\n",
       "<caption>A data.frame: 22 × 2</caption>\n",
       "<thead>\n",
       "\t<tr><th scope=col>Circuits</th><th scope=col>Links</th></tr>\n",
       "\t<tr><th scope=col>&lt;chr&gt;</th><th scope=col>&lt;chr&gt;</th></tr>\n",
       "</thead>\n",
       "<tbody>\n",
       "\t<tr><td>Bahrain       </td><td>/en/2022/bahrein        </td></tr>\n",
       "\t<tr><td>SaudiArabia   </td><td>/en/2022/arabie-saoudite</td></tr>\n",
       "\t<tr><td>Australia     </td><td>/en/2022/australie      </td></tr>\n",
       "\t<tr><td>Emilia-Romagna</td><td>/en/2022/emilie-romagne </td></tr>\n",
       "\t<tr><td>Miami         </td><td>/en/2022/miami          </td></tr>\n",
       "\t<tr><td>Spain         </td><td>/en/2022/espagne        </td></tr>\n",
       "\t<tr><td>Monaco        </td><td>/en/2022/monaco         </td></tr>\n",
       "\t<tr><td>Azerbaijan    </td><td>/en/2022/azerbaidjan    </td></tr>\n",
       "\t<tr><td>Canada        </td><td>/en/2022/canada         </td></tr>\n",
       "\t<tr><td>Britain       </td><td>/en/2022/grande-bretagne</td></tr>\n",
       "\t<tr><td>Austria       </td><td>/en/2022/autriche       </td></tr>\n",
       "\t<tr><td>France        </td><td>/en/2022/france         </td></tr>\n",
       "\t<tr><td>Hungary       </td><td>/en/2022/hongrie        </td></tr>\n",
       "\t<tr><td>Belgium       </td><td>/en/2022/belgique       </td></tr>\n",
       "\t<tr><td>Netherlands   </td><td>/en/2022/pays-bas       </td></tr>\n",
       "\t<tr><td>Italy         </td><td>/en/2022/italie         </td></tr>\n",
       "\t<tr><td>Singapore     </td><td>/en/2022/singapour      </td></tr>\n",
       "\t<tr><td>Japan         </td><td>/en/2022/japon          </td></tr>\n",
       "\t<tr><td>USA           </td><td>/en/2022/etats-unis     </td></tr>\n",
       "\t<tr><td>MexicoCity    </td><td>/en/2022/mexico-city    </td></tr>\n",
       "\t<tr><td>SãoPaulo      </td><td>/en/2022/sao-paulo      </td></tr>\n",
       "\t<tr><td>AbuDhabi      </td><td>/en/2022/abou-dhabi     </td></tr>\n",
       "</tbody>\n",
       "</table>\n"
      ],
      "text/latex": [
       "A data.frame: 22 × 2\n",
       "\\begin{tabular}{ll}\n",
       " Circuits & Links\\\\\n",
       " <chr> & <chr>\\\\\n",
       "\\hline\n",
       "\t Bahrain        & /en/2022/bahrein        \\\\\n",
       "\t SaudiArabia    & /en/2022/arabie-saoudite\\\\\n",
       "\t Australia      & /en/2022/australie      \\\\\n",
       "\t Emilia-Romagna & /en/2022/emilie-romagne \\\\\n",
       "\t Miami          & /en/2022/miami          \\\\\n",
       "\t Spain          & /en/2022/espagne        \\\\\n",
       "\t Monaco         & /en/2022/monaco         \\\\\n",
       "\t Azerbaijan     & /en/2022/azerbaidjan    \\\\\n",
       "\t Canada         & /en/2022/canada         \\\\\n",
       "\t Britain        & /en/2022/grande-bretagne\\\\\n",
       "\t Austria        & /en/2022/autriche       \\\\\n",
       "\t France         & /en/2022/france         \\\\\n",
       "\t Hungary        & /en/2022/hongrie        \\\\\n",
       "\t Belgium        & /en/2022/belgique       \\\\\n",
       "\t Netherlands    & /en/2022/pays-bas       \\\\\n",
       "\t Italy          & /en/2022/italie         \\\\\n",
       "\t Singapore      & /en/2022/singapour      \\\\\n",
       "\t Japan          & /en/2022/japon          \\\\\n",
       "\t USA            & /en/2022/etats-unis     \\\\\n",
       "\t MexicoCity     & /en/2022/mexico-city    \\\\\n",
       "\t SãoPaulo       & /en/2022/sao-paulo      \\\\\n",
       "\t AbuDhabi       & /en/2022/abou-dhabi     \\\\\n",
       "\\end{tabular}\n"
      ],
      "text/markdown": [
       "\n",
       "A data.frame: 22 × 2\n",
       "\n",
       "| Circuits &lt;chr&gt; | Links &lt;chr&gt; |\n",
       "|---|---|\n",
       "| Bahrain        | /en/2022/bahrein         |\n",
       "| SaudiArabia    | /en/2022/arabie-saoudite |\n",
       "| Australia      | /en/2022/australie       |\n",
       "| Emilia-Romagna | /en/2022/emilie-romagne  |\n",
       "| Miami          | /en/2022/miami           |\n",
       "| Spain          | /en/2022/espagne         |\n",
       "| Monaco         | /en/2022/monaco          |\n",
       "| Azerbaijan     | /en/2022/azerbaidjan     |\n",
       "| Canada         | /en/2022/canada          |\n",
       "| Britain        | /en/2022/grande-bretagne |\n",
       "| Austria        | /en/2022/autriche        |\n",
       "| France         | /en/2022/france          |\n",
       "| Hungary        | /en/2022/hongrie         |\n",
       "| Belgium        | /en/2022/belgique        |\n",
       "| Netherlands    | /en/2022/pays-bas        |\n",
       "| Italy          | /en/2022/italie          |\n",
       "| Singapore      | /en/2022/singapour       |\n",
       "| Japan          | /en/2022/japon           |\n",
       "| USA            | /en/2022/etats-unis      |\n",
       "| MexicoCity     | /en/2022/mexico-city     |\n",
       "| SãoPaulo       | /en/2022/sao-paulo       |\n",
       "| AbuDhabi       | /en/2022/abou-dhabi      |\n",
       "\n"
      ],
      "text/plain": [
       "   Circuits       Links                   \n",
       "1  Bahrain        /en/2022/bahrein        \n",
       "2  SaudiArabia    /en/2022/arabie-saoudite\n",
       "3  Australia      /en/2022/australie      \n",
       "4  Emilia-Romagna /en/2022/emilie-romagne \n",
       "5  Miami          /en/2022/miami          \n",
       "6  Spain          /en/2022/espagne        \n",
       "7  Monaco         /en/2022/monaco         \n",
       "8  Azerbaijan     /en/2022/azerbaidjan    \n",
       "9  Canada         /en/2022/canada         \n",
       "10 Britain        /en/2022/grande-bretagne\n",
       "11 Austria        /en/2022/autriche       \n",
       "12 France         /en/2022/france         \n",
       "13 Hungary        /en/2022/hongrie        \n",
       "14 Belgium        /en/2022/belgique       \n",
       "15 Netherlands    /en/2022/pays-bas       \n",
       "16 Italy          /en/2022/italie         \n",
       "17 Singapore      /en/2022/singapour      \n",
       "18 Japan          /en/2022/japon          \n",
       "19 USA            /en/2022/etats-unis     \n",
       "20 MexicoCity     /en/2022/mexico-city    \n",
       "21 SãoPaulo       /en/2022/sao-paulo      \n",
       "22 AbuDhabi       /en/2022/abou-dhabi     "
      ]
     },
     "metadata": {},
     "output_type": "display_data"
    }
   ],
   "source": [
    "merged_df"
   ]
  },
  {
   "cell_type": "code",
   "execution_count": 107,
   "id": "97d7810d",
   "metadata": {},
   "outputs": [],
   "source": [
    "id <- merged_df$Circuits[3]"
   ]
  },
  {
   "cell_type": "code",
   "execution_count": 108,
   "id": "fff132f6",
   "metadata": {},
   "outputs": [
    {
     "data": {
      "text/html": [
       "'Indianapolis'"
      ],
      "text/latex": [
       "'Indianapolis'"
      ],
      "text/markdown": [
       "'Indianapolis'"
      ],
      "text/plain": [
       "[1] \"Indianapolis\""
      ]
     },
     "metadata": {},
     "output_type": "display_data"
    }
   ],
   "source": [
    "id"
   ]
  },
  {
   "cell_type": "code",
   "execution_count": 90,
   "id": "0edec384",
   "metadata": {},
   "outputs": [
    {
     "data": {
      "text/html": [
       "'Indianapolis'"
      ],
      "text/latex": [
       "'Indianapolis'"
      ],
      "text/markdown": [
       "'Indianapolis'"
      ],
      "text/plain": [
       "[1] \"Indianapolis\""
      ]
     },
     "metadata": {},
     "output_type": "display_data"
    }
   ],
   "source": [
    "gsub(\"\\r| \", \"\", id)\n"
   ]
  },
  {
   "cell_type": "code",
   "execution_count": 112,
   "id": "ff20c314",
   "metadata": {},
   "outputs": [],
   "source": [
    "url <- sprintf('https://www.statsf1.com/%s/tour-par-tour.aspx', merged_df$Links[merged_df$Circuits == id])"
   ]
  },
  {
   "cell_type": "code",
   "execution_count": 113,
   "id": "4cebc30c",
   "metadata": {},
   "outputs": [
    {
     "data": {
      "text/html": [
       "'https://www.statsf1.com//en/1950/indianapolis/tour-par-tour.aspx'"
      ],
      "text/latex": [
       "'https://www.statsf1.com//en/1950/indianapolis/tour-par-tour.aspx'"
      ],
      "text/markdown": [
       "'https://www.statsf1.com//en/1950/indianapolis/tour-par-tour.aspx'"
      ],
      "text/plain": [
       "[1] \"https://www.statsf1.com//en/1950/indianapolis/tour-par-tour.aspx\""
      ]
     },
     "metadata": {},
     "output_type": "display_data"
    }
   ],
   "source": [
    "url"
   ]
  },
  {
   "cell_type": "code",
   "execution_count": 77,
   "id": "8e565f29",
   "metadata": {
    "scrolled": false
   },
   "outputs": [
    {
     "data": {
      "text/html": [
       "<table class=\"dataframe\">\n",
       "<caption>A data.frame: 7 × 2</caption>\n",
       "<thead>\n",
       "\t<tr><th scope=col>Circuits</th><th scope=col>Links</th></tr>\n",
       "\t<tr><th scope=col>&lt;chr&gt;</th><th scope=col>&lt;chr&gt;</th></tr>\n",
       "</thead>\n",
       "<tbody>\n",
       "\t<tr><td>\r",
       " Britain\r",
       "     </td><td>/en/1950/grande-bretagne</td></tr>\n",
       "\t<tr><td>\r",
       " Monaco\r",
       "      </td><td>/en/1950/monaco         </td></tr>\n",
       "\t<tr><td>\r",
       " Indianapolis\r",
       "</td><td>/en/1950/indianapolis   </td></tr>\n",
       "\t<tr><td>\r",
       " Switzerland\r",
       " </td><td>/en/1950/suisse         </td></tr>\n",
       "\t<tr><td>\r",
       " Belgium\r",
       "     </td><td>/en/1950/belgique       </td></tr>\n",
       "\t<tr><td>\r",
       " France\r",
       "      </td><td>/en/1950/france         </td></tr>\n",
       "\t<tr><td>\r",
       " Italy\r",
       "       </td><td>/en/1950/italie         </td></tr>\n",
       "</tbody>\n",
       "</table>\n"
      ],
      "text/latex": [
       "A data.frame: 7 × 2\n",
       "\\begin{tabular}{ll}\n",
       " Circuits & Links\\\\\n",
       " <chr> & <chr>\\\\\n",
       "\\hline\n",
       "\t \r",
       " Britain\r",
       "      & /en/1950/grande-bretagne\\\\\n",
       "\t \r",
       " Monaco\r",
       "       & /en/1950/monaco         \\\\\n",
       "\t \r",
       " Indianapolis\r",
       " & /en/1950/indianapolis   \\\\\n",
       "\t \r",
       " Switzerland\r",
       "  & /en/1950/suisse         \\\\\n",
       "\t \r",
       " Belgium\r",
       "      & /en/1950/belgique       \\\\\n",
       "\t \r",
       " France\r",
       "       & /en/1950/france         \\\\\n",
       "\t \r",
       " Italy\r",
       "        & /en/1950/italie         \\\\\n",
       "\\end{tabular}\n"
      ],
      "text/markdown": [
       "\n",
       "A data.frame: 7 × 2\n",
       "\n",
       "| Circuits &lt;chr&gt; | Links &lt;chr&gt; |\n",
       "|---|---|\n",
       "| \r",
       " Britain\r",
       "      | /en/1950/grande-bretagne |\n",
       "| \r",
       " Monaco\r",
       "       | /en/1950/monaco          |\n",
       "| \r",
       " Indianapolis\r",
       " | /en/1950/indianapolis    |\n",
       "| \r",
       " Switzerland\r",
       "  | /en/1950/suisse          |\n",
       "| \r",
       " Belgium\r",
       "      | /en/1950/belgique        |\n",
       "| \r",
       " France\r",
       "       | /en/1950/france          |\n",
       "| \r",
       " Italy\r",
       "        | /en/1950/italie          |\n",
       "\n"
      ],
      "text/plain": [
       "  Circuits          Links                   \n",
       "1 \\r Britain\\r      /en/1950/grande-bretagne\n",
       "2 \\r Monaco\\r       /en/1950/monaco         \n",
       "3 \\r Indianapolis\\r /en/1950/indianapolis   \n",
       "4 \\r Switzerland\\r  /en/1950/suisse         \n",
       "5 \\r Belgium\\r      /en/1950/belgique       \n",
       "6 \\r France\\r       /en/1950/france         \n",
       "7 \\r Italy\\r        /en/1950/italie         "
      ]
     },
     "metadata": {},
     "output_type": "display_data"
    }
   ],
   "source": [
    "merged_df"
   ]
  },
  {
   "cell_type": "code",
   "execution_count": 111,
   "id": "fe7b2ae3",
   "metadata": {},
   "outputs": [
    {
     "data": {
      "text/html": [
       "'/en/1950/grande-bretagne'"
      ],
      "text/latex": [
       "'/en/1950/grande-bretagne'"
      ],
      "text/markdown": [
       "'/en/1950/grande-bretagne'"
      ],
      "text/plain": [
       "[1] \"/en/1950/grande-bretagne\""
      ]
     },
     "metadata": {},
     "output_type": "display_data"
    }
   ],
   "source": [
    "merged_df$Links[merged_df$Circuits == 'Britain']"
   ]
  },
  {
   "cell_type": "code",
   "execution_count": 119,
   "id": "9b1a6eb0",
   "metadata": {},
   "outputs": [],
   "source": [
    "a <- \" \""
   ]
  },
  {
   "cell_type": "code",
   "execution_count": 120,
   "id": "de089f09",
   "metadata": {},
   "outputs": [],
   "source": [
    "if (a != \" \"){\n",
    "    print('Hello')\n",
    "}"
   ]
  },
  {
   "cell_type": "code",
   "execution_count": null,
   "id": "1714ce8c",
   "metadata": {},
   "outputs": [],
   "source": []
  }
 ],
 "metadata": {
  "kernelspec": {
   "display_name": "R",
   "language": "R",
   "name": "ir"
  },
  "language_info": {
   "codemirror_mode": "r",
   "file_extension": ".r",
   "mimetype": "text/x-r-source",
   "name": "R",
   "pygments_lexer": "r",
   "version": "4.1.3"
  }
 },
 "nbformat": 4,
 "nbformat_minor": 5
}
